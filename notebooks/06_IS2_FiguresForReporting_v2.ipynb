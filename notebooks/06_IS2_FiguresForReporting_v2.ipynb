{
 "cells": [
  {
   "cell_type": "markdown",
   "id": "604b6366",
   "metadata": {},
   "source": [
    "Note: These are the figures for a new modeling run on 03/02/024 with ~30 more puzzles included than the previous run"
   ]
  },
  {
   "cell_type": "code",
   "execution_count": 2,
   "id": "1db3739c",
   "metadata": {},
   "outputs": [],
   "source": [
    "import pandas as pd\n",
    "import numpy as np\n",
    "import os\n",
    "import matplotlib.pyplot as plt\n",
    "import seaborn as sns"
   ]
  },
  {
   "cell_type": "markdown",
   "id": "cb053fad",
   "metadata": {},
   "source": [
    "* Figures 1-5 were generated during the EDA process and were taken for the Github Readme from 02_IS2_EDA. \n",
    "* Figure 6 is a Methods schematic figure that was created in Power Point and can be found in the project Reporting folder in the 'layouts for IS2 summary' ppt deck. \n",
    "* Figure S1 comes from 04_IS2_Modeling (3 different components from ______ modeling sequence)"
   ]
  },
  {
   "cell_type": "markdown",
   "id": "30b97eec",
   "metadata": {},
   "source": [
    "### Figure 7. Best Model Prediction Quality vs Benchmark Models\n",
    "Data imported from 03_IS2_Preprocessing_Training-CompletionRangeFiltered, 04_IS2_Modeling\n",
    "Best model was Gradient Boosting Regression Model (see notebook 4 for hyperparameters, other metrics besides RMSE, etc. for all models tested)\n",
    "\n",
    "Note: Random state is 43 for ALL model variants now. Good balance of means between train and test at that #. Absolutely critical that this is changed for all model variants to be the same (was using 47 in first modeling round). "
   ]
  },
  {
   "cell_type": "code",
   "execution_count": 3,
   "id": "aff5cb4d",
   "metadata": {},
   "outputs": [
    {
     "data": {
      "text/html": [
       "<div>\n",
       "<style scoped>\n",
       "    .dataframe tbody tr th:only-of-type {\n",
       "        vertical-align: middle;\n",
       "    }\n",
       "\n",
       "    .dataframe tbody tr th {\n",
       "        vertical-align: top;\n",
       "    }\n",
       "\n",
       "    .dataframe thead th {\n",
       "        text-align: right;\n",
       "    }\n",
       "</style>\n",
       "<table border=\"1\" class=\"dataframe\">\n",
       "  <thead>\n",
       "    <tr style=\"text-align: right;\">\n",
       "      <th></th>\n",
       "      <th>Model_Inclusion</th>\n",
       "      <th>Training_Error</th>\n",
       "      <th>Training_SD</th>\n",
       "      <th>Testing_Error</th>\n",
       "    </tr>\n",
       "  </thead>\n",
       "  <tbody>\n",
       "    <tr>\n",
       "      <th>0</th>\n",
       "      <td>Full_Best_Model</td>\n",
       "      <td>9.154518</td>\n",
       "      <td>0.317895</td>\n",
       "      <td>8.569892</td>\n",
       "    </tr>\n",
       "    <tr>\n",
       "      <th>1</th>\n",
       "      <td>Mean_Sample_PDS_IST</td>\n",
       "      <td>10.461435</td>\n",
       "      <td>0.374550</td>\n",
       "      <td>10.045268</td>\n",
       "    </tr>\n",
       "    <tr>\n",
       "      <th>2</th>\n",
       "      <td>Dummy</td>\n",
       "      <td>13.941052</td>\n",
       "      <td>0.000000</td>\n",
       "      <td>13.984023</td>\n",
       "    </tr>\n",
       "  </tbody>\n",
       "</table>\n",
       "</div>"
      ],
      "text/plain": [
       "       Model_Inclusion  Training_Error  Training_SD  Testing_Error\n",
       "0      Full_Best_Model        9.154518     0.317895       8.569892\n",
       "1  Mean_Sample_PDS_IST       10.461435     0.374550      10.045268\n",
       "2                Dummy       13.941052     0.000000      13.984023"
      ]
     },
     "execution_count": 3,
     "metadata": {},
     "output_type": "execute_result"
    }
   ],
   "source": [
    "data = [[\"Full_Best_Model\", 9.154517577411816, 0.3178948070807089, 8.569891725473964], [\"Mean_Sample_PDS_IST\", 10.461435211969647, 0.3745502007988633, 10.045268390228376], [\"Dummy\", 13.94105241067033 , 0, 13.984023170009012]]\n",
    "df = pd.DataFrame(data, columns=[\"Model_Inclusion\", \"Training_Error\", \"Training_SD\", \"Testing_Error\"])\n",
    "df"
   ]
  },
  {
   "cell_type": "code",
   "execution_count": 4,
   "id": "93e2d2b2",
   "metadata": {},
   "outputs": [
    {
     "data": {
      "text/plain": [
       "(6.0, 16.0)"
      ]
     },
     "execution_count": 4,
     "metadata": {},
     "output_type": "execute_result"
    },
    {
     "data": {
      "image/png": "[encoded data removed]",
      "text/plain": [
       "<Figure size 432x288 with 1 Axes>"
      ]
     },
     "metadata": {
      "needs_background": "light"
     },
     "output_type": "display_data"
    }
   ],
   "source": [
    "#plt.figure(figsize=(20, 10))\n",
    "g = sns.barplot(x=\"Model_Inclusion\",y=\"Training_Error\",data=df, palette = [\"gray\", \"rosybrown\", \"tan\"], yerr=df[\"Training_SD\"]*1)\n",
    "g.set_ylabel(\"training_error (mean + sd)\")\n",
    "#g.set(xticklabels=[\"\", \"\"])\n",
    "g.set_xlabel(\"Model_Error\")\n",
    "g.set_ylim(6,16)"
   ]
  },
  {
   "cell_type": "code",
   "execution_count": 5,
   "id": "51db096c",
   "metadata": {},
   "outputs": [],
   "source": [
    "###### Mean target feature (IS2_ST, in minutes) value for training set across all 15x15 puzzles\n",
    "y_train_mean = 18.072775649212414"
   ]
  },
  {
   "cell_type": "code",
   "execution_count": 6,
   "id": "21f7e01c",
   "metadata": {},
   "outputs": [
    {
     "data": {
      "text/plain": [
       "50.653633703524434"
      ]
     },
     "execution_count": 6,
     "metadata": {},
     "output_type": "execute_result"
    }
   ],
   "source": [
    "# Calculate % difference from training set mean solve time represented by Full_Best_Model mean error\n",
    "error_pct = (df['Training_Error'][0]/y_train_mean)*100\n",
    "error_pct"
   ]
  },
  {
   "cell_type": "code",
   "execution_count": 7,
   "id": "cec3feef",
   "metadata": {},
   "outputs": [
    {
     "data": {
      "text/plain": [
       "57.88504995039621"
      ]
     },
     "execution_count": 7,
     "metadata": {},
     "output_type": "execute_result"
    }
   ],
   "source": [
    "# Calculate % difference from training set mean solve time represented by Mean PDS IST_ST mean error\n",
    "error_pct = (df['Training_Error'][1]/y_train_mean)*100\n",
    "error_pct"
   ]
  },
  {
   "cell_type": "code",
   "execution_count": 8,
   "id": "b2be4aed",
   "metadata": {},
   "outputs": [
    {
     "data": {
      "text/plain": [
       "77.13841349697638"
      ]
     },
     "execution_count": 8,
     "metadata": {},
     "output_type": "execute_result"
    }
   ],
   "source": [
    "# Calculate % difference from training set mean solve time represented by Dummy mean error\n",
    "error_pct = (df['Training_Error'][2]/y_train_mean)*100\n",
    "error_pct"
   ]
  },
  {
   "cell_type": "code",
   "execution_count": 12,
   "id": "f37d4d17",
   "metadata": {},
   "outputs": [
    {
     "name": "stdout",
     "output_type": "stream",
     "text": [
      "-34.33409969533543\n",
      "-12.49271833239952\n"
     ]
    }
   ],
   "source": [
    "# Calculate % Improvement over 'Dummy' model and 'Smarty Benchmark' for 'Best Model'\n",
    "BM_vs_Dummy = ((df['Training_Error'][0]-df['Training_Error'][2]))/abs(df['Training_Error'][2])*100\n",
    "print(BM_vs_Dummy)\n",
    "\n",
    "# Calculate % Improvement over 'Dummy' model and 'Smart Benchmark' for 'Best Model'\n",
    "BM_vs_Smarty = ((df['Training_Error'][0]-df['Training_Error'][1]))/abs(df['Training_Error'][1])*100\n",
    "print(BM_vs_Smarty)"
   ]
  },
  {
   "cell_type": "markdown",
   "id": "fac961b0",
   "metadata": {},
   "source": [
    "### Figure 8. Effect on Model Prediction Quality of Removing Individual Feature Classes or Adjustments from the Best Model\n",
    "Data imported from 03_IS2_Preprocessing_Training, 04_IS2_Modeling, and 04a_IS2_Modeling-FeatureSubtraction\n",
    "No SOS Adjustment feature set generated in 01_IS2_Cleaning_Wrangling_Feature_Dev_no_SOS_adj and model itself generated in 04a_IS2_Modeling_no_SOS_adj"
   ]
  },
  {
   "cell_type": "code",
   "execution_count": 11,
   "id": "e203e9d1",
   "metadata": {},
   "outputs": [
    {
     "data": {
      "text/plain": [
       "((7.983046740676125, 0.5119959170113279), 12.636308520600979)"
      ]
     },
     "execution_count": 11,
     "metadata": {},
     "output_type": "execute_result"
    }
   ],
   "source": [
    "# Best Full Model\n",
    "(9.154517577411816, 0.3178948070807089), 8.569891725473964\n",
    "\n",
    "# No Past Performance Features OR DOW\n",
    "(9.954496751391789, 0.5941912470479477), 9.97764428388961\n",
    "\n",
    "# No Past Performance features\n",
    "(9.5817195260109, 0.46351299895138387), 9.61198486927593\n",
    "\n",
    "# No Answer Features\n",
    "(9.52087466214258, 0.39977643262094437), 9.280102607039083\n",
    "\n",
    "# No DOW\n",
    "(9.278425663126495, 0.32628719583103766), 8.739322093476465\n",
    "\n",
    "# No Circadian Features\n",
    "(9.275176861160379, 0.30506728993763405), 8.801093496572054\n",
    "\n",
    "# No CLue Features\n",
    "(9.19516042442484, 0.31381697072246784), 8.615915881249623\n",
    "\n",
    "# No Strength of Schedule Adjustment\n",
    "(9.171403222553732, 0.2948101426998099), 8.339213576587126 \n",
    "\n",
    "# No Grid Features\n",
    "(9.14906394280869, 0.3431878278184749), 8.684197147635052"
   ]
  },
  {
   "cell_type": "code",
   "execution_count": 44,
   "id": "add54520",
   "metadata": {},
   "outputs": [
    {
     "data": {
      "text/html": [
       "<div>\n",
       "<style scoped>\n",
       "    .dataframe tbody tr th:only-of-type {\n",
       "        vertical-align: middle;\n",
       "    }\n",
       "\n",
       "    .dataframe tbody tr th {\n",
       "        vertical-align: top;\n",
       "    }\n",
       "\n",
       "    .dataframe thead th {\n",
       "        text-align: right;\n",
       "    }\n",
       "</style>\n",
       "<table border=\"1\" class=\"dataframe\">\n",
       "  <thead>\n",
       "    <tr style=\"text-align: right;\">\n",
       "      <th></th>\n",
       "      <th>Model Inclusion</th>\n",
       "      <th>Training Error</th>\n",
       "      <th>Training SD</th>\n",
       "    </tr>\n",
       "  </thead>\n",
       "  <tbody>\n",
       "    <tr>\n",
       "      <th>0</th>\n",
       "      <td>Best Model</td>\n",
       "      <td>9.154518</td>\n",
       "      <td>0.317895</td>\n",
       "    </tr>\n",
       "    <tr>\n",
       "      <th>1</th>\n",
       "      <td>-Past Performance Features and DOW</td>\n",
       "      <td>9.954497</td>\n",
       "      <td>0.594191</td>\n",
       "    </tr>\n",
       "    <tr>\n",
       "      <th>2</th>\n",
       "      <td>-Past Performance Features</td>\n",
       "      <td>9.581720</td>\n",
       "      <td>0.463513</td>\n",
       "    </tr>\n",
       "    <tr>\n",
       "      <th>3</th>\n",
       "      <td>-Answer Features</td>\n",
       "      <td>9.520875</td>\n",
       "      <td>0.399776</td>\n",
       "    </tr>\n",
       "    <tr>\n",
       "      <th>4</th>\n",
       "      <td>-DOW</td>\n",
       "      <td>9.278426</td>\n",
       "      <td>0.326287</td>\n",
       "    </tr>\n",
       "    <tr>\n",
       "      <th>5</th>\n",
       "      <td>-Circadian Features</td>\n",
       "      <td>9.275177</td>\n",
       "      <td>0.305067</td>\n",
       "    </tr>\n",
       "    <tr>\n",
       "      <th>6</th>\n",
       "      <td>-Clue Features</td>\n",
       "      <td>9.195160</td>\n",
       "      <td>0.313817</td>\n",
       "    </tr>\n",
       "    <tr>\n",
       "      <th>7</th>\n",
       "      <td>-SOS Adjustment</td>\n",
       "      <td>9.171403</td>\n",
       "      <td>0.294810</td>\n",
       "    </tr>\n",
       "    <tr>\n",
       "      <th>8</th>\n",
       "      <td>-Grid Features</td>\n",
       "      <td>9.149064</td>\n",
       "      <td>0.343188</td>\n",
       "    </tr>\n",
       "  </tbody>\n",
       "</table>\n",
       "</div>"
      ],
      "text/plain": [
       "                      Model Inclusion  Training Error  Training SD\n",
       "0                          Best Model        9.154518     0.317895\n",
       "1  -Past Performance Features and DOW        9.954497     0.594191\n",
       "2          -Past Performance Features        9.581720     0.463513\n",
       "3                    -Answer Features        9.520875     0.399776\n",
       "4                                -DOW        9.278426     0.326287\n",
       "5                 -Circadian Features        9.275177     0.305067\n",
       "6                      -Clue Features        9.195160     0.313817\n",
       "7                     -SOS Adjustment        9.171403     0.294810\n",
       "8                      -Grid Features        9.149064     0.343188"
      ]
     },
     "execution_count": 44,
     "metadata": {},
     "output_type": "execute_result"
    }
   ],
   "source": [
    "#Feature subtraction modeling by feature class DF creation (raw data above)\n",
    "data = [[\"Best Model\", 9.154517577411816, 0.3178948070807089], [\"-Past Performance Features and DOW\", 9.954496751391789, 0.5941912470479477], [\"-Past Performance Features\", 9.5817195260109, 0.46351299895138387], [\"-Answer Features\", 9.52087466214258, 0.39977643262094437], [\"-DOW\", 9.278425663126495, 0.32628719583103766], [\"-Circadian Features\", 9.275176861160379, 0.30506728993763405], [\"-Clue Features\", 9.19516042442484, 0.31381697072246784],  [\"-SOS Adjustment\", 9.171403222553732, 0.2948101426998099], [\"-Grid Features\", 9.14906394280869, 0.3431878278184749]]\n",
    "df = pd.DataFrame(data, columns=[\"Model Inclusion\", \"Training Error\", \"Training SD\"])\n",
    "df"
   ]
  },
  {
   "cell_type": "code",
   "execution_count": 45,
   "id": "cf7c280f",
   "metadata": {},
   "outputs": [
    {
     "data": {
      "text/plain": [
       "(9.154517577411816, 9.52087466214258)"
      ]
     },
     "execution_count": 45,
     "metadata": {},
     "output_type": "execute_result"
    }
   ],
   "source": [
    "data[0][1], data[3][1]"
   ]
  },
  {
   "cell_type": "code",
   "execution_count": 46,
   "id": "9e5fecae",
   "metadata": {},
   "outputs": [
    {
     "data": {
      "image/png": "[encoded data removed]",
      "text/plain": [
       "<Figure size 1800x720 with 1 Axes>"
      ]
     },
     "metadata": {
      "needs_background": "light"
     },
     "output_type": "display_data"
    }
   ],
   "source": [
    "#subtraction modeling bar plot - all classes (Fig. 9)\n",
    "plt.figure(figsize=(25, 10))\n",
    "g = sns.barplot(x=\"Model Inclusion\",y=\"Training Error\",data=df, palette = [\"gray\",\"cornflowerblue\", \"navy\", \"darkgreen\", \"lime\", \"yellow\", \"green\", \"red\", \"mediumseagreen\"], yerr=df[\"Training SD\"]*1)\n",
    "g.set_ylabel(\"training_error (mean +- sd)\")\n",
    "#g.set(xticklabels=[\"\", \"\"])\n",
    "g.set_xlabel(\"Model_Error\")\n",
    "g.set_ylim(6,11);\n",
    "\n",
    "# Define some hatches\n",
    "hatches = ['', '', '', '', '', '', '','\\\\','']\n",
    "\n",
    "# Loop over the bars\n",
    "for i,thisbar in enumerate(g.patches):\n",
    "    # Set a different hatch for each bar\n",
    "    thisbar.set_hatch(hatches[i])"
   ]
  },
  {
   "cell_type": "code",
   "execution_count": 47,
   "id": "c3fa4f3f",
   "metadata": {},
   "outputs": [
    {
     "name": "stdout",
     "output_type": "stream",
     "text": [
      "8.03635978753143\n",
      "4.4585102646699815\n",
      "3.8479351712032566\n",
      "1.335442996618519\n",
      "1.300883913640727\n",
      "0.44200258763365263\n",
      "0.1841119044945179\n",
      "-0.05960866201414287\n"
     ]
    }
   ],
   "source": [
    "# Percentage Change From Best Model\n",
    "PPF_DOW_diff = ((data[1][1]- data[0][1])/(abs(data[1][1])))*100 \n",
    "print(PPF_DOW_diff)\n",
    "\n",
    "PPF_diff = ((data[2][1] - data[0][1])/(abs(data[2][1])))*100 \n",
    "print(PPF_diff)\n",
    "\n",
    "ANS_diff = ((data[3][1] - data[0][1])/(abs(data[3][1])))*100 \n",
    "print(ANS_diff)\n",
    "\n",
    "PDOW_diff = ((data[4][1] - data[0][1])/(abs(data[4][1])))*100 \n",
    "print(PDOW_diff)\n",
    "\n",
    "CIRC_diff = ((data[5][1] - data[0][1])/(abs(data[5][1])))*100 \n",
    "print(CIRC_diff)\n",
    "\n",
    "CLU_diff = ((data[6][1] - data[0][1])/(abs(data[6][1])))*100 \n",
    "print(CLU_diff)\n",
    "\n",
    "SOS_adj_diff = ((data[7][1] - data[0][1])/(abs(data[7][1])))*100 \n",
    "print(SOS_adj_diff)\n",
    "\n",
    "GRD_diff = ((data[8][1] - data[0][1])/(abs(data[8][1])))*100 \n",
    "print(GRD_diff)"
   ]
  },
  {
   "cell_type": "markdown",
   "id": "542705ab",
   "metadata": {},
   "source": [
    "### Figure 9. Effect on Model Prediction Quality of Removing Key Individual Features\n",
    "Data imported from 03_IS2_Preprocessing_Training, 04_IS2_Modeling, 04b_IS2_Modeling-FeatureSubtraction"
   ]
  },
  {
   "cell_type": "markdown",
   "id": "cb59f7ab",
   "metadata": {},
   "source": [
    "#### Past Performance Features\n",
    "Left panel in Figure 9"
   ]
  },
  {
   "cell_type": "code",
   "execution_count": null,
   "id": "d11ec341",
   "metadata": {},
   "outputs": [],
   "source": [
    "# Past Performance Features\n",
    "# #Below Best Model these are ranked by most increase in training error with the named feature subtracted out\n",
    "\n",
    "# Best Full Model\n",
    "(9.154517577411816, 0.3178948070807089), 8.569891725473964\n",
    "\n",
    "# No Past Performance features\n",
    "(9.5817195260109, 0.46351299895138387), 9.61198486927593 \n",
    "\n",
    "# No number past solves features\n",
    "(9.490616359595489, 0.35943644086168147), 8.848190836324811\n",
    "\n",
    "# No RPB Standard Deviation\n",
    "(9.227238806710316, 0.29066069590881605), 9.134950337246186\n",
    "\n",
    "# No Past Performance vs Constructor\n",
    "(9.221114972693439, 0.23437280440297162), 8.982530031434035 \n",
    "\n",
    "# No RPB\n",
    "(9.145897711954934, 0.44376214551604237), 8.761299162569816\n",
    "\n",
    "# No overall past solves features (DS nor NDS)\n",
    "\n",
    "\n",
    "#No Past Solves Last 7 Days #\n"
   ]
  },
  {
   "cell_type": "code",
   "execution_count": 51,
   "id": "3b498246",
   "metadata": {},
   "outputs": [
    {
     "data": {
      "text/html": [
       "<div>\n",
       "<style scoped>\n",
       "    .dataframe tbody tr th:only-of-type {\n",
       "        vertical-align: middle;\n",
       "    }\n",
       "\n",
       "    .dataframe tbody tr th {\n",
       "        vertical-align: top;\n",
       "    }\n",
       "\n",
       "    .dataframe thead th {\n",
       "        text-align: right;\n",
       "    }\n",
       "</style>\n",
       "<table border=\"1\" class=\"dataframe\">\n",
       "  <thead>\n",
       "    <tr style=\"text-align: right;\">\n",
       "      <th></th>\n",
       "      <th>Model Inclusion</th>\n",
       "      <th>Training Error</th>\n",
       "      <th>Training SD</th>\n",
       "    </tr>\n",
       "  </thead>\n",
       "  <tbody>\n",
       "    <tr>\n",
       "      <th>0</th>\n",
       "      <td>Best Model</td>\n",
       "      <td>9.154518</td>\n",
       "      <td>0.317895</td>\n",
       "    </tr>\n",
       "    <tr>\n",
       "      <th>1</th>\n",
       "      <td>-Past Performance Features</td>\n",
       "      <td>9.581720</td>\n",
       "      <td>0.463513</td>\n",
       "    </tr>\n",
       "    <tr>\n",
       "      <th>2</th>\n",
       "      <td>-Number of Past Solves</td>\n",
       "      <td>9.490616</td>\n",
       "      <td>0.359436</td>\n",
       "    </tr>\n",
       "    <tr>\n",
       "      <th>3</th>\n",
       "      <td>-RPB STD</td>\n",
       "      <td>9.227239</td>\n",
       "      <td>0.290661</td>\n",
       "    </tr>\n",
       "    <tr>\n",
       "      <th>4</th>\n",
       "      <td>-vs Constructor</td>\n",
       "      <td>9.221115</td>\n",
       "      <td>0.234373</td>\n",
       "    </tr>\n",
       "    <tr>\n",
       "      <th>5</th>\n",
       "      <td>-RPB</td>\n",
       "      <td>9.145898</td>\n",
       "      <td>0.443762</td>\n",
       "    </tr>\n",
       "  </tbody>\n",
       "</table>\n",
       "</div>"
      ],
      "text/plain": [
       "              Model Inclusion  Training Error  Training SD\n",
       "0                  Best Model        9.154518     0.317895\n",
       "1  -Past Performance Features        9.581720     0.463513\n",
       "2      -Number of Past Solves        9.490616     0.359436\n",
       "3                    -RPB STD        9.227239     0.290661\n",
       "4             -vs Constructor        9.221115     0.234373\n",
       "5                        -RPB        9.145898     0.443762"
      ]
     },
     "execution_count": 51,
     "metadata": {},
     "output_type": "execute_result"
    }
   ],
   "source": [
    "#feature subtraction modeling -past performance features only\n",
    "data = [[\"Best Model\", 9.154517577411816, 0.3178948070807089], [\"-Past Performance Features\", 9.5817195260109, 0.46351299895138387], [\"-Number of Past Solves\", 9.490616359595489, 0.35943644086168147], [\"-RPB STD\", 9.227238806710316, 0.29066069590881605], [\"-vs Constructor\", 9.221114972693439, 0.23437280440297162], [\"-RPB\", 9.145897711954934, 0.44376214551604237]]\n",
    "df = pd.DataFrame(data, columns=[\"Model Inclusion\", \"Training Error\", \"Training SD\"])\n",
    "df"
   ]
  },
  {
   "cell_type": "code",
   "execution_count": 52,
   "id": "da51e0d5",
   "metadata": {},
   "outputs": [
    {
     "data": {
      "image/png": "[encoded data removed]",
      "text/plain": [
       "<Figure size 1440x720 with 1 Axes>"
      ]
     },
     "metadata": {
      "needs_background": "light"
     },
     "output_type": "display_data"
    }
   ],
   "source": [
    "#subtraction modeling bar plot - past performance features (Fig. 9 left panel)\n",
    "plt.figure(figsize=(20, 10))\n",
    "g = sns.barplot(x=\"Model Inclusion\",y=\"Training Error\",data=df, palette = [\"gray\",\"navy\", \"royalblue\", \"steelblue\", \"mediumblue\", \"blue\"], yerr=df[\"Training SD\"]*1)\n",
    "g.set_ylabel(\"training_error (mean +- sd)\")\n",
    "#g.set(xticklabels=[\"\", \"\"])\n",
    "g.set_xlabel(\"Model_Error\")\n",
    "g.set_ylim(6,11);\n",
    "\n",
    "# # Define some hatches\n",
    "# hatches = ['', '', '', '', '', '']\n",
    "\n",
    "# # Loop over the bars\n",
    "# for i,thisbar in enumerate(g.patches):\n",
    "#     # Set a different hatch for each bar\n",
    "#     thisbar.set_hatch(hatches[i])"
   ]
  },
  {
   "cell_type": "code",
   "execution_count": 53,
   "id": "741fb354",
   "metadata": {},
   "outputs": [
    {
     "name": "stdout",
     "output_type": "stream",
     "text": [
      "4.4585102646699815\n",
      "3.5413799214827555\n",
      "0.7881147418186987\n",
      "0.7222271436679593\n",
      "-0.09424843496352685\n"
     ]
    }
   ],
   "source": [
    "# Percentage Change From Best Model\n",
    "PPF_diff = ((data[1][1] - data[0][1])/(abs(data[1][1])))*100 \n",
    "print(PPF_diff)\n",
    "\n",
    "PS_diff = ((data[2][1] - data[0][1])/(abs(data[2][1])))*100 \n",
    "print(PS_diff)\n",
    "\n",
    "RPBSTD_diff = ((data[3][1] - data[0][1])/(abs(data[3][1])))*100 \n",
    "print(RPBSTD_diff)\n",
    "\n",
    "Const_diff = ((data[4][1] - data[0][1])/(abs(data[4][1])))*100 \n",
    "print(Const_diff)\n",
    "\n",
    "RPB_diff = ((data[5][1] - data[0][1])/(abs(data[5][1])))*100 \n",
    "print(RPB_diff)"
   ]
  },
  {
   "cell_type": "markdown",
   "id": "06befb62",
   "metadata": {},
   "source": [
    "Subtractions of Other Individual Features (Non-Past Performance)\n",
    "Right panel in Fig. 9"
   ]
  },
  {
   "cell_type": "code",
   "execution_count": null,
   "id": "27443f29",
   "metadata": {},
   "outputs": [],
   "source": [
    "#Below Best Model these are ranked by most increase in training error with the named feature subtracted out\n",
    "# Non-Past Performance Features\n",
    "\n",
    "# Best Full Model\n",
    "(9.154517577411816, 0.3178948070807089), 8.569891725473964\n",
    "\n",
    "# No DOW\n",
    "(9.275761320635874, 0.3240633382817699), 8.765624245724556\n",
    "\n",
    "# No Freshness Factor features\n",
    "(9.264210325468022, 0.2632951331581911), 8.661088580045696\n",
    "\n",
    "# Answer #\n",
    "(9.245834985009946, 0.38883758341995317), 8.677306364377792\n",
    "\n",
    "# Scrabble Average\n",
    "(9.23017053109929, 0.2920702575818683), 8.58759027702099\n",
    "\n",
    "# FITB\n",
    "(9.197042513847359, 0.3958912831380177), 8.596787699909076\n",
    "\n",
    "# Scrabble Score\n",
    "(9.175398680042344, 0.21217081158359954), 8.797302364340089\n",
    "\n",
    "# Open Squares\n",
    "(9.172444528273832, 0.26284797492246864), 8.411157771040578\n",
    "\n",
    "# Average Answer Length\n",
    "(9.16436200397235, 0.4920247421762703), 8.73229058054183\n",
    "\n",
    "# Completion Hour\n",
    "(9.145548246450591, 0.3198492097200322), 8.909964449675728\n",
    "\n",
    "# Black Squares\n",
    "(9.141132193634638, 0.2647759946999733), 8.611636627466273\n",
    "\n",
    "# Scrabble Illegal\n",
    "(9.117263936087593, 0.3437638235978825), 8.660380190214896\n",
    "\n",
    "# IS_per_sdp_avg_past_diff_from_RPB\n",
    "(9.11459580111976, 0.3687494163011396), 8.47558082859733\n",
    "\n",
    "# No. Unique Answers\n",
    "(9.114539034793095, 0.2773826187281885), 8.582526479354414\n",
    "\n",
    "\n",
    "\n",
    "# Rebus Count/Rebus Unique\n",
    "\n",
    "# Shade Count\n",
    "\n",
    "# Stacks\n",
    "\n",
    "# Black Square Fill\n",
    "\n",
    "# Unusual Symmetry\n",
    "\n",
    "# Unused Letters\n",
    "\n",
    "# Circle Count\n",
    "\n",
    "# Cross Ref Clues Count\n",
    "\n",
    "# Cheater Squares\n",
    "\n",
    "# Wordplay \n",
    "\n",
    "\n"
   ]
  },
  {
   "cell_type": "code",
   "execution_count": 26,
   "id": "14479bb1",
   "metadata": {},
   "outputs": [
    {
     "data": {
      "text/html": [
       "<div>\n",
       "<style scoped>\n",
       "    .dataframe tbody tr th:only-of-type {\n",
       "        vertical-align: middle;\n",
       "    }\n",
       "\n",
       "    .dataframe tbody tr th {\n",
       "        vertical-align: top;\n",
       "    }\n",
       "\n",
       "    .dataframe thead th {\n",
       "        text-align: right;\n",
       "    }\n",
       "</style>\n",
       "<table border=\"1\" class=\"dataframe\">\n",
       "  <thead>\n",
       "    <tr style=\"text-align: right;\">\n",
       "      <th></th>\n",
       "      <th>Model Inclusion</th>\n",
       "      <th>Training Error</th>\n",
       "      <th>Training SD</th>\n",
       "    </tr>\n",
       "  </thead>\n",
       "  <tbody>\n",
       "    <tr>\n",
       "      <th>0</th>\n",
       "      <td>Best Model</td>\n",
       "      <td>9.154518</td>\n",
       "      <td>0.317895</td>\n",
       "    </tr>\n",
       "    <tr>\n",
       "      <th>1</th>\n",
       "      <td>-DOW</td>\n",
       "      <td>9.275761</td>\n",
       "      <td>0.324063</td>\n",
       "    </tr>\n",
       "    <tr>\n",
       "      <th>2</th>\n",
       "      <td>-FF</td>\n",
       "      <td>9.264210</td>\n",
       "      <td>0.263295</td>\n",
       "    </tr>\n",
       "    <tr>\n",
       "      <th>3</th>\n",
       "      <td>-Answer Number</td>\n",
       "      <td>9.245835</td>\n",
       "      <td>0.388838</td>\n",
       "    </tr>\n",
       "    <tr>\n",
       "      <th>4</th>\n",
       "      <td>-Scrabble Average</td>\n",
       "      <td>9.230171</td>\n",
       "      <td>0.292070</td>\n",
       "    </tr>\n",
       "    <tr>\n",
       "      <th>5</th>\n",
       "      <td>-FITB</td>\n",
       "      <td>9.197043</td>\n",
       "      <td>0.395891</td>\n",
       "    </tr>\n",
       "    <tr>\n",
       "      <th>6</th>\n",
       "      <td>-Scrabble Score</td>\n",
       "      <td>9.175399</td>\n",
       "      <td>0.212171</td>\n",
       "    </tr>\n",
       "    <tr>\n",
       "      <th>7</th>\n",
       "      <td>-Open Squares</td>\n",
       "      <td>9.172445</td>\n",
       "      <td>0.262848</td>\n",
       "    </tr>\n",
       "    <tr>\n",
       "      <th>8</th>\n",
       "      <td>-AAL</td>\n",
       "      <td>9.164362</td>\n",
       "      <td>0.492025</td>\n",
       "    </tr>\n",
       "    <tr>\n",
       "      <th>9</th>\n",
       "      <td>-Completion Hour</td>\n",
       "      <td>9.145548</td>\n",
       "      <td>0.319849</td>\n",
       "    </tr>\n",
       "  </tbody>\n",
       "</table>\n",
       "</div>"
      ],
      "text/plain": [
       "     Model Inclusion  Training Error  Training SD\n",
       "0         Best Model        9.154518     0.317895\n",
       "1               -DOW        9.275761     0.324063\n",
       "2                -FF        9.264210     0.263295\n",
       "3     -Answer Number        9.245835     0.388838\n",
       "4  -Scrabble Average        9.230171     0.292070\n",
       "5              -FITB        9.197043     0.395891\n",
       "6    -Scrabble Score        9.175399     0.212171\n",
       "7      -Open Squares        9.172445     0.262848\n",
       "8               -AAL        9.164362     0.492025\n",
       "9   -Completion Hour        9.145548     0.319849"
      ]
     },
     "execution_count": 26,
     "metadata": {},
     "output_type": "execute_result"
    }
   ],
   "source": [
    "#feature subtraction modeling -other features of interest\n",
    "data = [[\"Best Model\", 9.154517577411816, 0.3178948070807089], [\"-DOW\", 9.275761320635874, 0.3240633382817699], [\"-FF\", 9.264210325468022, 0.2632951331581911], [\"-Answer Number\", 9.245834985009946, 0.38883758341995317],[\"-Scrabble Average\", 9.23017053109929, 0.2920702575818683], [\"-FITB\", 9.197042513847359, 0.3958912831380177], [\"-Scrabble Score\", 9.175398680042344, 0.21217081158359954], [\"-Open Squares\", 9.172444528273832, 0.26284797492246864], [\"-AAL\", 9.16436200397235, 0.4920247421762703], [\"-Completion Hour\", 9.145548246450591, 0.3198492097200322]]\n",
    "df = pd.DataFrame(data, columns=[\"Model Inclusion\", \"Training Error\", \"Training SD\"])\n",
    "df"
   ]
  },
  {
   "cell_type": "code",
   "execution_count": 27,
   "id": "1e63a5e4",
   "metadata": {},
   "outputs": [
    {
     "name": "stdout",
     "output_type": "stream",
     "text": [
      "1.3071028784917735\n",
      "1.1840485503081948\n",
      "0.9876599327824942\n",
      "0.819626825231187\n",
      "0.4623762081290347\n",
      "0.2275770607760771\n",
      "0.19544354622975935\n",
      "0.10742075178028344\n",
      "-0.09807319057888207\n"
     ]
    }
   ],
   "source": [
    "# Percentage Change From Best Model\n",
    "\n",
    "DOW_diff = ((data[1][1] - data[0][1])/(abs(data[1][1])))*100 # minus puzzle day of week\n",
    "print(DOW_diff)\n",
    "\n",
    "FF_diff = ((data[2][1] - data[0][1])/(abs(data[2][1])))*100 # minus freshness factor features\n",
    "print(FF_diff)\n",
    "\n",
    "AN_diff = ((data[3][1] - data[0][1])/(abs(data[3][1])))*100 # minus answer number\n",
    "print(AN_diff)\n",
    "\n",
    "SA_diff = ((data[4][1] - data[0][1])/(abs(data[4][1])))*100 # minus scrabble average\n",
    "print(SA_diff)\n",
    "\n",
    "FITB_diff = ((data[5][1] - data[0][1])/(abs(data[5][1])))*100 # minus FITB\n",
    "print(FITB_diff)\n",
    "\n",
    "SS_diff = ((data[6][1] - data[0][1])/(abs(data[6][1])))*100 # minus Scrabble Score\n",
    "print(SS_diff)\n",
    "\n",
    "OS_diff = ((data[7][1] - data[0][1])/(abs(data[7][1])))*100 # minus Open Squares\n",
    "print(OS_diff)\n",
    "\n",
    "AAL_diff = ((data[8][1] - data[0][1])/(abs(data[8][1])))*100 # minus Average Answer Length\n",
    "print(AAL_diff)\n",
    "\n",
    "CH_diff = ((data[9][1] - data[0][1])/(abs(data[9][1])))*100 # minus Completion Hour\n",
    "print(CH_diff)"
   ]
  },
  {
   "cell_type": "code",
   "execution_count": 34,
   "id": "37547f49",
   "metadata": {},
   "outputs": [
    {
     "data": {
      "image/png": "[encoded data removed]",
      "text/plain": [
       "<Figure size 1440x720 with 1 Axes>"
      ]
     },
     "metadata": {
      "needs_background": "light"
     },
     "output_type": "display_data"
    }
   ],
   "source": [
    "#subtraction modeling bar plot - other features of note (Fig. 9 right panel)\n",
    "plt.figure(figsize=(20, 10))\n",
    "g = sns.barplot(x=\"Model Inclusion\",y=\"Training Error\",data=df, palette = [\"gray\", \"lime\", \"darkgreen\", \"seagreen\", \"forestgreen\", \"darkolivegreen\"], yerr=df[\"Training SD\"]*1)\n",
    "g.set_ylabel(\"training_error (mean +- sd)\")\n",
    "#g.set(xticklabels=[\"\", \"\"])\n",
    "g.set_xlabel(\"Model_Error\")\n",
    "g.set_ylim(6,11);\n",
    "g.set_xlim(-.5,5.5);\n",
    "\n",
    "# # Define some hatches\n",
    "# hatches = ['', '', '', '', '', '']\n",
    "\n",
    "# # Loop over the bars\n",
    "# for i,thisbar in enumerate(g.patches):\n",
    "#     # Set a different hatch for each bar\n",
    "#     thisbar.set_hatch(hatches[i])"
   ]
  },
  {
   "cell_type": "markdown",
   "id": "2f1af104",
   "metadata": {},
   "source": [
    "### Figure 10. Best Puzzle Day-Specific Model (BPDM) Prediction Quality\n",
    "Data imported from 03_IS2_Preprocessing_Training-ByPuzzleDay, 04_IS2_Modeling, 04b_IS2_Modeling-ByPuzzleDay\n",
    "\n",
    "Note: Best model per day was derived using an 90/10 split for the best overall model (Linear Regressor)"
   ]
  },
  {
   "cell_type": "markdown",
   "id": "4512b442",
   "metadata": {},
   "source": [
    "90/10 Split Ns per puzzle day\n",
    "Ns:\n",
    "Sunday: 153 (137/16)\n",
    "Monday: 153 (137/16)\n",
    "Tuesday: 155 (139/16)\n",
    "Wednesday: 156 (140/16)\n",
    "Thursday: 176 (158/18)\n",
    "Friday: 177 (159/18)\n",
    "Saturday: 162 (145/17)"
   ]
  },
  {
   "cell_type": "code",
   "execution_count": 35,
   "id": "a4850c10",
   "metadata": {},
   "outputs": [],
   "source": [
    "#Reorganizing training mean and sd to use Matplotlib because of Seaborn limitations with using pre-computed error bars per condition (very annoying that they can't address this)\n",
    "#see https://stackoverflow.com/questions/23144784/plotting-error-bars-on-grouped-bars-in-pandas\n",
    "\n",
    "df = pd.DataFrame([[\"Sunday\",10.009056452287162,12.887944482644546,1.6777712352630123,0], [\"Monday\",1.7741253000623793,2.0678719322332024,0.4660097941467566,0], [\"Tuesday\",2.666136183641616,3.027501492493593,0.5973327506813298,0], [\"Wednesday\",5.223390741537597,5.562489725843399,1.2041654666385253,0], [\"Thursday\",8.233713538483256,9.65175643816161,0.3998047911527992,0], [\"Friday\",11.23176694165071,12.436828694297096,2.5578218674617013,0], [\"Saturday\",15.68578790694354,18.6855156801904,3.6531581846318133,0]], columns = [\"DOW\", \"mean_1\", \"mean_2\", \"std_1\", \"std_2\"])\n",
    "\n",
    "#convert std columns to array for plotting\n",
    "yerr = df[[\"std_1\", \"std_2\"]].to_numpy().T"
   ]
  },
  {
   "cell_type": "code",
   "execution_count": 36,
   "id": "0f778a0e",
   "metadata": {},
   "outputs": [
    {
     "data": {
      "text/plain": [
       "10.009056452287162"
      ]
     },
     "execution_count": 36,
     "metadata": {},
     "output_type": "execute_result"
    }
   ],
   "source": [
    "df['mean_1'][0]"
   ]
  },
  {
   "cell_type": "code",
   "execution_count": 37,
   "id": "58744b3b",
   "metadata": {},
   "outputs": [],
   "source": [
    "# Also need mean training set IS2 STs per puzzle day so we can percentigize the error to normalize across puzzle days for comparison\n",
    "Sun_training_mean = 36.57055961070561\n",
    "Mon_training_mean = 6.37603406326034\n",
    "Tue_training_mean= 8.920143884892083\n",
    "Wed_training_mean= 13.135714285714291\n",
    "Thu_training_mean= 22.647573839662442\n",
    "Fri_training_mean=  23.610587002096437\n",
    "Sat_training_mean=  34.02816091954022"
   ]
  },
  {
   "cell_type": "code",
   "execution_count": 38,
   "id": "dfd82865",
   "metadata": {
    "scrolled": true
   },
   "outputs": [
    {
     "name": "stdout",
     "output_type": "stream",
     "text": [
      "27.369164045707212\n",
      "27.824903105288506\n",
      "29.88893697283529\n",
      "39.76480173003063\n",
      "36.35583041598763\n",
      "47.57089241641225\n",
      "46.0964903276221\n"
     ]
    }
   ],
   "source": [
    "# Normalize each puzzle day by the training set mean \n",
    "# Full Model - Mean\n",
    "\n",
    "Sun_error_pct = ((df['mean_1'][0])/(Sun_training_mean))*100 \n",
    "print(Sun_error_pct)\n",
    "\n",
    "Mon_error_pct = ((df['mean_1'][1])/(Mon_training_mean))*100 \n",
    "print(Mon_error_pct)\n",
    "\n",
    "Tue_error_pct = ((df['mean_1'][2])/(Tue_training_mean))*100 \n",
    "print(Tue_error_pct)\n",
    "\n",
    "Wed_error_pct = ((df['mean_1'][3])/(Wed_training_mean))*100 \n",
    "print(Wed_error_pct)\n",
    "\n",
    "Thu_error_pct = ((df['mean_1'][4])/(Thu_training_mean))*100 \n",
    "print(Thu_error_pct)\n",
    "\n",
    "Fri_error_pct = ((df['mean_1'][5])/(Fri_training_mean))*100 \n",
    "print(Fri_error_pct)\n",
    "\n",
    "Sat_error_pct = ((df['mean_1'][6])/(Sat_training_mean))*100 \n",
    "print(Sat_error_pct)"
   ]
  },
  {
   "cell_type": "code",
   "execution_count": 39,
   "id": "7634fe13",
   "metadata": {},
   "outputs": [
    {
     "name": "stdout",
     "output_type": "stream",
     "text": [
      "4.587764729670322\n",
      "7.3087720285557225\n",
      "6.696447483240978\n",
      "9.167110675877838\n",
      "1.7653316597322473\n",
      "10.833368383575497\n",
      "10.735690927493046\n"
     ]
    }
   ],
   "source": [
    "# Normalize each puzzle day subtraction by the training set mean without that day\n",
    "# Full Model - stdev\n",
    "\n",
    "Sun_error_pct = ((df['std_1'][0])/(Sun_training_mean))*100 \n",
    "print(Sun_error_pct)\n",
    "\n",
    "Mon_error_pct = ((df['std_1'][1])/(Mon_training_mean))*100 \n",
    "print(Mon_error_pct)\n",
    "\n",
    "Tue_error_pct = ((df['std_1'][2])/(Tue_training_mean))*100 \n",
    "print(Tue_error_pct)\n",
    "\n",
    "Wed_error_pct = ((df['std_1'][3])/(Wed_training_mean))*100 \n",
    "print(Wed_error_pct)\n",
    "\n",
    "Thu_error_pct = ((df['std_1'][4])/(Thu_training_mean))*100 \n",
    "print(Thu_error_pct)\n",
    "\n",
    "Fri_error_pct = ((df['std_1'][5])/(Fri_training_mean))*100 \n",
    "print(Fri_error_pct)\n",
    "\n",
    "Sat_error_pct = ((df['std_1'][6])/(Sat_training_mean))*100 \n",
    "print(Sat_error_pct)"
   ]
  },
  {
   "cell_type": "code",
   "execution_count": 40,
   "id": "8822afeb",
   "metadata": {},
   "outputs": [
    {
     "name": "stdout",
     "output_type": "stream",
     "text": [
      "35.24131055099236\n",
      "32.4319461238231\n",
      "33.94005221845388\n",
      "42.346305688856745\n",
      "42.61717615534869\n",
      "52.67479666300885\n",
      "54.911917586061755\n"
     ]
    }
   ],
   "source": [
    "# Normalize each puzzle day subtraction by the training set mean without that day\n",
    "# Dummy Model - Mean\n",
    "Sun_error_pct = ((df['mean_2'][0])/(Sun_training_mean))*100 \n",
    "print(Sun_error_pct)\n",
    "\n",
    "Mon_error_pct = ((df['mean_2'][1])/(Mon_training_mean))*100 \n",
    "print(Mon_error_pct)\n",
    "\n",
    "Tue_error_pct = ((df['mean_2'][2])/(Tue_training_mean))*100 \n",
    "print(Tue_error_pct)\n",
    "\n",
    "Wed_error_pct = ((df['mean_2'][3])/(Wed_training_mean))*100 \n",
    "print(Wed_error_pct)\n",
    "\n",
    "Thu_error_pct = ((df['mean_2'][4])/(Thu_training_mean))*100 \n",
    "print(Thu_error_pct)\n",
    "\n",
    "Fri_error_pct = ((df['mean_2'][5])/(Fri_training_mean))*100 \n",
    "print(Fri_error_pct)\n",
    "\n",
    "Sat_error_pct = ((df['mean_2'][6])/(Sat_training_mean))*100 \n",
    "print(Sat_error_pct)"
   ]
  },
  {
   "cell_type": "code",
   "execution_count": 41,
   "id": "b3fa5c46",
   "metadata": {},
   "outputs": [],
   "source": [
    "#Reorganizing training mean and sd to use Matplotlib because of Seaborn limitations with using pre-computed error bars per condition (very annoying that they can't address this)\n",
    "#see https://stackoverflow.com/questions/23144784/plotting-error-bars-on-grouped-bars-in-pandas\n",
    "#Percentigized version (used this version in Github Summary)\n",
    "\n",
    "df = pd.DataFrame([[\"Sunday\",27.369164045707212,35.24131055099236,4.587764729670322,0], [\"Monday\",27.824903105288506,32.4319461238231,7.3087720285557225,0], [\"Tuesday\",29.88893697283529,33.94005221845388,6.696447483240978,0], [\"Wednesday\",39.76480173003063,42.346305688856745,9.167110675877838,0], [\"Thursday\",36.35583041598763,42.61717615534869,1.7653316597322473,0], [\"Friday\",47.57089241641225,52.67479666300885,10.833368383575497,0], [\"Saturday\",46.0964903276221,54.911917586061755,10.735690927493046,0]], columns = [\"DOW\", \"mean_1\", \"mean_2\", \"std_1\", \"std_2\"])\n",
    "\n",
    "#convert std columns to array for plotting\n",
    "yerr = df[[\"std_1\", \"std_2\"]].to_numpy().T"
   ]
  },
  {
   "cell_type": "code",
   "execution_count": 42,
   "id": "6c8856c7",
   "metadata": {},
   "outputs": [
    {
     "data": {
      "image/png": "[encoded data removed]",
      "text/plain": [
       "<Figure size 432x288 with 1 Axes>"
      ]
     },
     "metadata": {
      "needs_background": "light"
     },
     "output_type": "display_data"
    }
   ],
   "source": [
    "#Plot mean training error as % of puzzle day mean solve time\n",
    "df[['mean_1', 'mean_2']].plot(kind='bar', yerr = yerr, stacked=False, color= [[\"red\", \"#FF7518\", \"#ffdf00\", \"g\", \"#1F51FF\", \"#5d76cb\", \"fuchsia\"],[\"gray\"]], error_kw=dict(ecolor='k'))\n",
    "plt.xlabel('Puzzle Day')\n",
    "plt.ylabel('training_error (% of mean +- sd)')\n",
    "plt.ylim(10,60)\n",
    "plt.legend(labels = [\"Best Puzzle Day Model\", \"Puzzle Day Dummy Model\"])\n",
    "x = [0, 1, 2, 3, 4, 5, 6]\n",
    "labels = [\"Sunday\", \"Monday\", \"Tuesday\", \"Wednesday\", \"Thursday\", \"Friday\", \"Saturday\"]\n",
    "plt.xticks(x, labels, rotation=\"horizontal\");"
   ]
  },
  {
   "cell_type": "code",
   "execution_count": null,
   "id": "3708a3ea",
   "metadata": {},
   "outputs": [],
   "source": []
  }
 ],
 "metadata": {
  "kernelspec": {
   "display_name": "Python 3",
   "language": "python",
   "name": "python3"
  },
  "language_info": {
   "codemirror_mode": {
    "name": "ipython",
    "version": 3
   },
   "file_extension": ".py",
   "mimetype": "text/x-python",
   "name": "python",
   "nbconvert_exporter": "python",
   "pygments_lexer": "ipython3",
   "version": "3.8.8"
  }
 },
 "nbformat": 4,
 "nbformat_minor": 5
}
