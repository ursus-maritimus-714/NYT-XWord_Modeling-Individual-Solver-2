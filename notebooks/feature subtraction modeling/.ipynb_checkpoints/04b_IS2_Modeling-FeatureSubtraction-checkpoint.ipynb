{
 "cells": [
  {
   "cell_type": "markdown",
   "id": "6aa24a63",
   "metadata": {},
   "source": [
    "## Predictive Modeling (IS2) -Feature Subtraction From Best Model\n",
    "\n",
    "Gradient Boosting Regression Model was found to be best for the full data set (see 04_IS2_Modeling)\n",
    "\n",
    "In this version, feature classes or adjustments are systematically removed and best Gradient Boosting Regression Model is found for each variant.\n",
    "\n",
    "80%/20% Train/Test split was used for each of these Feature Subtraction models, just like for Full Best Model\n",
    "\n",
    "Note that for this version, puzzles from the first solve period (2018-2019) have been removed due to the volatility of times in that solve period. \n",
    "\n",
    "### High-Level Overview of 'Best Model' Modeling\n",
    "\n",
    "Four regression models were evaluated, across the entire sample of 15x15 puzzles solved by IS2. First was simply a Linear Regression Model. The subsequent three models were decision tree models: Random Forest, Gradient Boosting Regressor and HistGradient Boosting Regressor. The latter is an ensemble machine learning algorithm that is very fast (relative to standard gradient boosting models), and performs well on heterogenous data sets. Boosting, generally, refers to a class of ensemble learning algorithms that add tree models to an ensemble sequentially. "
   ]
  },
  {
   "cell_type": "markdown",
   "id": "fa9b3b3a",
   "metadata": {},
   "source": [
    "### Imports"
   ]
  },
  {
   "cell_type": "code",
   "execution_count": 2,
   "id": "318c8037",
   "metadata": {},
   "outputs": [],
   "source": [
    "import pandas as pd\n",
    "import numpy as np\n",
    "import os\n",
    "import pickle\n",
    "import matplotlib.pyplot as plt\n",
    "import seaborn as sns\n",
    "from sklearn import __version__ as sklearn_version\n",
    "#from sklearn.decomposition import PCA\n",
    "from sklearn.preprocessing import scale\n",
    "from sklearn.model_selection import train_test_split, cross_validate, GridSearchCV, learning_curve\n",
    "from sklearn.preprocessing import StandardScaler, MinMaxScaler\n",
    "# from sklearn.dummy import DummyRegressor\n",
    "# from sklearn.linear_model import LinearRegression\n",
    "# from sklearn.ensemble import RandomForestRegressor\n",
    "from sklearn.ensemble import GradientBoostingRegressor\n",
    "# from sklearn.experimental import enable_hist_gradient_boosting\n",
    "# from sklearn.ensemble import HistGradientBoostingRegressor\n",
    "from sklearn.metrics import r2_score, mean_squared_error, mean_absolute_error\n",
    "from sklearn.pipeline import make_pipeline\n",
    "from sklearn.impute import SimpleImputer\n",
    "# from sklearn.feature_selection import SelectKBest, f_regression\n",
    "import datetime"
   ]
  },
  {
   "cell_type": "code",
   "execution_count": 12,
   "id": "104746ba",
   "metadata": {},
   "outputs": [],
   "source": [
    "os.chdir('C:/Users/jraks/Documents/GitHub/Independent-Projects/Machine-Learning-Projects/NYT-XWord_Modeling-Individual-Solver-2/notebooks')\n",
    "from library.sb_utils import save_file"
   ]
  },
  {
   "cell_type": "code",
   "execution_count": 18,
   "id": "dbc58bad",
   "metadata": {},
   "outputs": [
    {
     "data": {
      "text/plain": [
       "'C:\\\\Users\\\\jraks'"
      ]
     },
     "execution_count": 18,
     "metadata": {},
     "output_type": "execute_result"
    }
   ],
   "source": [
    "os.getcwd()"
   ]
  },
  {
   "cell_type": "markdown",
   "id": "8133d431",
   "metadata": {},
   "source": [
    "### Load and Filter Data"
   ]
  },
  {
   "cell_type": "markdown",
   "id": "847d7aaa",
   "metadata": {},
   "source": [
    "Filtering parameters identical to in dummy/simple modeling stage. "
   ]
  },
  {
   "cell_type": "code",
   "execution_count": 19,
   "id": "af618860",
   "metadata": {},
   "outputs": [],
   "source": [
    "# Ths is the file and analysis data range used for the main model\n",
    "#Note that 2018-2019 completions were already filtered out prior to the data import here, though they were kept in to accrue retrospective stats on solver and constructor performance for puzzles 2019 and later\n",
    "#df = pd.read_csv('../data/df_for_modeling.csv')\n",
    "df = pd.read_csv('C:/Users/jraks/Documents/GitHub/Independent-Projects/Machine-Learning-Projects/NYT-XWord_Modeling-Individual-Solver-2/data/df_for_modeling_no_decay_weighting.csv') # for variant with decay weighting removed from all relevant features\n",
    "#df = pd.read_csv('../data/df_for_modeling_no_SOS_adj.csv') # also no decay weighting\n",
    "#df.head()"
   ]
  },
  {
   "cell_type": "code",
   "execution_count": 20,
   "id": "e4201210",
   "metadata": {},
   "outputs": [
    {
     "name": "stdout",
     "output_type": "stream",
     "text": [
      "<class 'pandas.core.frame.DataFrame'>\n",
      "RangeIndex: 1108 entries, 0 to 1107\n",
      "Data columns (total 50 columns):\n",
      " #   Column                                Non-Null Count  Dtype  \n",
      "---  ------                                --------------  -----  \n",
      " 0   P_Date                                1108 non-null   object \n",
      " 1   P_Date_str                            1108 non-null   object \n",
      " 2   IS2_Completed                         1108 non-null   float64\n",
      " 3   Comp_Date                             1108 non-null   object \n",
      " 4   Comp_Date_str                         1108 non-null   object \n",
      " 5   Comp_Hr                               1108 non-null   int64  \n",
      " 6   Solve_day_phase                       1108 non-null   float64\n",
      " 7   IS_per_sdp_avg_past_diff_from_RPB     1108 non-null   float64\n",
      " 8   DOW                                   1108 non-null   object \n",
      " 9   DOW_num                               1108 non-null   float64\n",
      " 10  GMST(m)                               1108 non-null   float64\n",
      " 11  IS2_ST(m)                             1108 non-null   float64\n",
      " 12  IS_pds_l10_ndw                        1108 non-null   float64\n",
      " 13  IS_pds_l10_stdev                      1108 non-null   float64\n",
      " 14  IS_pds_l10_ndw_SOS_adj                1108 non-null   float64\n",
      " 15  IS_per_constr_avg_past_diff_from_RPB  619 non-null    float64\n",
      " 16  IS2_pds_prior_solves_ct               1108 non-null   float64\n",
      " 17  IS2_npds_prior_solves_ct              1108 non-null   float64\n",
      " 18  overall_day_mean_IST(m)               1108 non-null   float64\n",
      " 19  IS2_solves_l7                         1108 non-null   float64\n",
      " 20  Constructors                          1108 non-null   object \n",
      " 21  Words                                 1108 non-null   int64  \n",
      " 22  Blocks                                1108 non-null   int64  \n",
      " 23  Unused_Letters                        1108 non-null   int64  \n",
      " 24  Stacks                                1108 non-null   int64  \n",
      " 25  Unique_Answers                        1108 non-null   int64  \n",
      " 26  Rebus_Count                           1108 non-null   int64  \n",
      " 27  Rebus_Unique                          1108 non-null   int64  \n",
      " 28  Cheater_Squares                       1108 non-null   int64  \n",
      " 29  AWL                                   1108 non-null   float64\n",
      " 30  Scrabble_Score                        1039 non-null   float64\n",
      " 31  Scrabble_Avg                          1108 non-null   float64\n",
      " 32  FITB                                  1108 non-null   int64  \n",
      " 33  Cross_Ref_Clues                       1108 non-null   int64  \n",
      " 34  Scrabble_Illegal                      1108 non-null   int64  \n",
      " 35  Open_Squares                          1108 non-null   int64  \n",
      " 36  Freshness_Factor                      1108 non-null   float64\n",
      " 37  Overall_Freshness%                    1108 non-null   float64\n",
      " 38  Day_Freshness%                        1108 non-null   float64\n",
      " 39  Duplicate_Clues                       1108 non-null   int64  \n",
      " 40  Circle_Count                          1108 non-null   int64  \n",
      " 41  Shade_Count                           1108 non-null   int64  \n",
      " 42  Unusual_Sym                           1108 non-null   int64  \n",
      " 43  Black_Square_Fill                     1108 non-null   int64  \n",
      " 44  Outside_Grid                          1108 non-null   int64  \n",
      " 45  Unchecked_Sq                          1108 non-null   int64  \n",
      " 46  Uniclue                               1108 non-null   int64  \n",
      " 47  Duplicate_Answers                     1108 non-null   int64  \n",
      " 48  Quantum                               1108 non-null   int64  \n",
      " 49  Wordplay                              1071 non-null   float64\n",
      "dtypes: float64(21), int64(23), object(6)\n",
      "memory usage: 432.9+ KB\n"
     ]
    }
   ],
   "source": [
    "df.info()"
   ]
  },
  {
   "cell_type": "code",
   "execution_count": 1116,
   "id": "dd72df3e",
   "metadata": {},
   "outputs": [],
   "source": [
    "# Drop some columns that we don't want/need for modeling (and a few would cause subtle forms of data leakage)\n",
    "df_filter = df.copy()\n",
    "df_filter.drop(['P_Date','P_Date_str', 'Comp_Date', 'Comp_Date_str', 'IS2_Completed','DOW', 'IS_pds_l10_ndw', 'GMST(m)', 'Constructors','overall_day_mean_IST(m)','Uniclue','Duplicate_Answers','Unchecked_Sq','Quantum'],inplace=True,axis=1)"
   ]
  },
  {
   "cell_type": "code",
   "execution_count": 1117,
   "id": "ecdac4a6",
   "metadata": {},
   "outputs": [],
   "source": [
    "# This one has no impact on prediction quality but was raising warning in the Linear Modeling for some reason (probably all zeroes in the training set)\n",
    "df_filter.drop(['Outside_Grid'], inplace=True, axis=1)"
   ]
  },
  {
   "cell_type": "code",
   "execution_count": 1118,
   "id": "2249b701",
   "metadata": {},
   "outputs": [],
   "source": [
    "#Move target feature to the front\n",
    "col = df_filter.pop('IS2_ST(m)')\n",
    "df_filter.insert(0, col.name, col)"
   ]
  },
  {
   "cell_type": "code",
   "execution_count": 1119,
   "id": "d9436666",
   "metadata": {},
   "outputs": [
    {
     "name": "stdout",
     "output_type": "stream",
     "text": [
      "<class 'pandas.core.frame.DataFrame'>\n",
      "RangeIndex: 1108 entries, 0 to 1107\n",
      "Data columns (total 35 columns):\n",
      " #   Column                                Non-Null Count  Dtype  \n",
      "---  ------                                --------------  -----  \n",
      " 0   IS2_ST(m)                             1108 non-null   float64\n",
      " 1   Comp_Hr                               1108 non-null   int64  \n",
      " 2   Solve_day_phase                       1108 non-null   float64\n",
      " 3   IS_per_sdp_avg_past_diff_from_RPB     1108 non-null   float64\n",
      " 4   DOW_num                               1108 non-null   float64\n",
      " 5   IS_pds_l10_stdev                      1108 non-null   float64\n",
      " 6   IS_pds_l10_ndw_SOS_adj                1108 non-null   float64\n",
      " 7   IS_per_constr_avg_past_diff_from_RPB  619 non-null    float64\n",
      " 8   IS2_pds_prior_solves_ct               1108 non-null   float64\n",
      " 9   IS2_npds_prior_solves_ct              1108 non-null   float64\n",
      " 10  IS2_solves_l7                         1108 non-null   float64\n",
      " 11  Words                                 1108 non-null   int64  \n",
      " 12  Blocks                                1108 non-null   int64  \n",
      " 13  Unused_Letters                        1108 non-null   int64  \n",
      " 14  Stacks                                1108 non-null   int64  \n",
      " 15  Unique_Answers                        1108 non-null   int64  \n",
      " 16  Rebus_Count                           1108 non-null   int64  \n",
      " 17  Rebus_Unique                          1108 non-null   int64  \n",
      " 18  Cheater_Squares                       1108 non-null   int64  \n",
      " 19  AWL                                   1108 non-null   float64\n",
      " 20  Scrabble_Score                        1039 non-null   float64\n",
      " 21  Scrabble_Avg                          1108 non-null   float64\n",
      " 22  FITB                                  1108 non-null   int64  \n",
      " 23  Cross_Ref_Clues                       1108 non-null   int64  \n",
      " 24  Scrabble_Illegal                      1108 non-null   int64  \n",
      " 25  Open_Squares                          1108 non-null   int64  \n",
      " 26  Freshness_Factor                      1108 non-null   float64\n",
      " 27  Overall_Freshness%                    1108 non-null   float64\n",
      " 28  Day_Freshness%                        1108 non-null   float64\n",
      " 29  Duplicate_Clues                       1108 non-null   int64  \n",
      " 30  Circle_Count                          1108 non-null   int64  \n",
      " 31  Shade_Count                           1108 non-null   int64  \n",
      " 32  Unusual_Sym                           1108 non-null   int64  \n",
      " 33  Black_Square_Fill                     1108 non-null   int64  \n",
      " 34  Wordplay                              1071 non-null   float64\n",
      "dtypes: float64(17), int64(18)\n",
      "memory usage: 303.1 KB\n"
     ]
    }
   ],
   "source": [
    "df_filter.info()"
   ]
  },
  {
   "cell_type": "code",
   "execution_count": 1120,
   "id": "fee6e52a",
   "metadata": {},
   "outputs": [],
   "source": [
    "#Filter out Sunday\n",
    "df_filter = df_filter[df_filter[\"DOW_num\"]!=1]"
   ]
  },
  {
   "cell_type": "code",
   "execution_count": 1030,
   "id": "f0628d9d",
   "metadata": {},
   "outputs": [],
   "source": [
    "#df_filter.drop(['DOW_num'],inplace=True,axis=1)"
   ]
  },
  {
   "cell_type": "code",
   "execution_count": 1031,
   "id": "d6178501",
   "metadata": {},
   "outputs": [],
   "source": [
    "# Drop feature or set of features for the particular subtraction model\n",
    "#df_filter.drop(['IS_pds_l10_ndw_SOS_adj','IS_pds_l10_stdev','IS_per_constr_avg_past_diff_from_RPB', 'IS2_pds_prior_solves_ct', 'IS2_npds_prior_solves_ct', 'IS2_solves_l7'],inplace=True,axis=1) #no past performance features\n",
    "#df_filter.drop(['DOW_num'],inplace=True,axis=1) #no DOW\n",
    "#df_filter.drop(['Words','AWL','Blocks','Cheater_Squares','Circle_Count','Open_Squares','Shade_Count','Stacks','Unusual_Sym'],inplace=True,axis=1) #no grid features\n",
    "#df_filter.drop(['Cross_Ref_Clues','Duplicate_Clues','Wordplay'],inplace=True,axis=1) #no clue features\n",
    "#df_filter.drop(['Black_Square_Fill','Day_Freshness%','FITB','Freshness_Factor','Overall_Freshness%','Rebus_Unique','Rebus_Count','Scrabble_Avg','Scrabble_Illegal','Scrabble_Score','Unique_Answers','Unused_Letters'],inplace=True,axis=1) #no answer features\n",
    "#df_filter.drop(['Comp_Hr','Solve_day_phase','IS_per_sdp_avg_past_diff_from_RPB'],inplace=True,axis=1) #no Circadian features\n",
    "#df_filter.drop(['Comp_Hr', 'Solve_day_phase', 'IS_per_sdp_avg_past_diff_from_RPB'],inplace=True,axis=1)"
   ]
  },
  {
   "cell_type": "code",
   "execution_count": 1032,
   "id": "09d93da8",
   "metadata": {},
   "outputs": [],
   "source": [
    "# Drop Past Performance feature or set of features for the particular subtraction model\n",
    "#df_filter.drop(['IS_pds_l10_ndw_SOS_adj'],inplace=True,axis=1) # no RPB\n",
    "#df_filter.drop(['GMS_pds_l40_dw','GMS_pds_l40_stdev','GMS_per_constr_avg_past_diff_from_RPB', 'GMS_pds_prior_solves_ct', 'GMS_npds_prior_solves_ct'],inplace=True,axis=1) #no past performance\n",
    "#df_filter.drop(['IS_pds_l10_stdev'],inplace=True,axis=1)\n",
    "#df_filter.drop(['GMS_pds_l40_dw', 'GMS_per_constr_avg_past_diff_from_RPB'],inplace=True,axis=1) \n",
    "#df_filter.drop(['GMS_pds_l40_dw', 'GMS_per_constr_avg_past_diff_from_RPB', 'GMS_pds_l40_stdev'],inplace=True,axis=1) \n",
    "#df_filter.drop(['IS_per_constr_avg_past_diff_from_RPB'],inplace=True,axis=1) #no constructor past performance \n",
    "#df_filter.drop(['IS2_pds_prior_solves_ct', 'IS2_npds_prior_solves_ct'],inplace=True,axis=1) #no number past solves\n",
    "#df_filter.drop(['IS2_solves_l7'],inplace=True,axis=1) #no number past solves"
   ]
  },
  {
   "cell_type": "code",
   "execution_count": 1121,
   "id": "dd7ddf8e",
   "metadata": {},
   "outputs": [],
   "source": [
    "# Drop individual features from class other than Past Performance, or part/whole of class\n",
    "#df_filter.drop(['Black_Square_Fill','Day_Freshness%','FITB','Freshness_Factor','Outside_Grid','Overall_Freshness%','Rebus_Unique','Rebus_Count','Scrabble_Avg','Scrabble_Illegal','Scrabble_Score','Unique_Answers','Unused_Letters'],inplace=True,axis=1) #no answer features\n",
    "#df_filter.drop(['Day_Freshness%','Freshness_Factor','Overall_Freshness%'],inplace=True,axis=1) #Freshness Factor features\n",
    "#df_filter.drop(['Unique_Answers'],inplace=True,axis=1) \n",
    "df_filter.drop(['Scrabble_Avg'],inplace=True,axis=1) \n",
    "#df_filter.drop(['Scrabble_Illegal'],inplace=True,axis=1)\n",
    "#df_filter.drop(['Black_Square_Fill'],inplace=True,axis=1)\n",
    "#df_filter.drop(['FITB'],inplace=True,axis=1)\n",
    "#df_filter.drop(['Outside_Grid'],inplace=True,axis=1)\n",
    "#df_filter.drop(['Rebus_Unique','Rebus_Count'],inplace=True,axis=1)\n",
    "#df_filter.drop(['Scrabble_Score'],inplace=True,axis=1)\n",
    "#df_filter.drop(['Unused_Letters'],inplace=True,axis=1)\n",
    "#df_filter.drop(['Wordplay'],inplace=True,axis=1)\n",
    "#df_filter.drop(['AWL'],inplace=True,axis=1)\n",
    "#df_filter.drop(['Blocks'],inplace=True,axis=1)\n",
    "#df_filter.drop(['Cheater_Squares'],inplace=True,axis=1)\n",
    "#df_filter.drop(['Circle_Count'],inplace=True,axis=1)\n",
    "#df_filter.drop(['Open_Squares'],inplace=True,axis=1)\n",
    "#df_filter.drop(['Shade_Count'],inplace=True,axis=1)\n",
    "#df_filter.drop(['Stacks'],inplace=True,axis=1)\n",
    "#df_filter.drop(['Unusual_Sym'],inplace=True,axis=1)\n",
    "#df_filter.drop(['Cross_Ref_Clues'],inplace=True,axis=1)\n",
    "#df_filter.drop(['Words'],inplace=True,axis=1)\n",
    "#df_filter.drop(['IS1_solves_l7'],inplace=True,axis=1)\n",
    "#df_filter.drop(['Comp_Hr'],inplace=True,axis=1)"
   ]
  },
  {
   "cell_type": "code",
   "execution_count": 1034,
   "id": "87354087",
   "metadata": {},
   "outputs": [],
   "source": [
    "#df_filter.drop(['AWL'],inplace=True,axis=1) "
   ]
  },
  {
   "cell_type": "code",
   "execution_count": 1122,
   "id": "c0170740",
   "metadata": {},
   "outputs": [],
   "source": [
    "#Deep copy of this df_filter that is now pared down to just the predictive features and the target feature itself \n",
    "# All features are derived from data available prior to any given puzzle being predicted on. No data leakage!\n",
    "df_model1 = df_filter.copy()\n",
    "\n",
    "#df_model1 = df_model1[['IS1_ST(m)', 'Comp_Hr', 'Solve_day_phase', 'IS_per_sdp_avg_past_diff_from_RPB', 'DOW_num', 'IS_pds_l10_dw', 'IS_pds_l10_stdev', 'IS_per_constr_avg_past_diff_from_RPB', 'IS1_pds_prior_solves_ct', 'IS1_npds_prior_solves_ct', 'num_solves_l7', 'Words', 'Blocks', 'Unused_Letters', 'Stacks','Unique_Answers','Rebus_Count','Rebus_Unique','Cheater_Squares','AWL','Scrabble_Score','Scrabble_Avg','FITB','Cross_Ref_Clues','Scrabble_Illegal','Open_Squares','Freshness_Factor','Overall_Freshness%','Day_Freshness%','Duplicate_Clues','Circle_Count','Shade_Count','Unusual_Sym','Black_Square_Fill','Outside_Grid','Wordplay']]\n",
    "\n",
    "#df_model1.drop(['IS_per_constr_avg_past_diff_from_RPB','Scrabble_Score', 'IS_pds_l10_dw', 'IS_pds_l10_stdev'],inplace=True,axis=1)"
   ]
  },
  {
   "cell_type": "code",
   "execution_count": 1123,
   "id": "360e5009",
   "metadata": {},
   "outputs": [
    {
     "name": "stdout",
     "output_type": "stream",
     "text": [
      "<class 'pandas.core.frame.DataFrame'>\n",
      "Int64Index: 956 entries, 0 to 1107\n",
      "Data columns (total 34 columns):\n",
      " #   Column                                Non-Null Count  Dtype  \n",
      "---  ------                                --------------  -----  \n",
      " 0   IS2_ST(m)                             956 non-null    float64\n",
      " 1   Comp_Hr                               956 non-null    int64  \n",
      " 2   Solve_day_phase                       956 non-null    float64\n",
      " 3   IS_per_sdp_avg_past_diff_from_RPB     956 non-null    float64\n",
      " 4   DOW_num                               956 non-null    float64\n",
      " 5   IS_pds_l10_stdev                      956 non-null    float64\n",
      " 6   IS_pds_l10_ndw_SOS_adj                956 non-null    float64\n",
      " 7   IS_per_constr_avg_past_diff_from_RPB  532 non-null    float64\n",
      " 8   IS2_pds_prior_solves_ct               956 non-null    float64\n",
      " 9   IS2_npds_prior_solves_ct              956 non-null    float64\n",
      " 10  IS2_solves_l7                         956 non-null    float64\n",
      " 11  Words                                 956 non-null    int64  \n",
      " 12  Blocks                                956 non-null    int64  \n",
      " 13  Unused_Letters                        956 non-null    int64  \n",
      " 14  Stacks                                956 non-null    int64  \n",
      " 15  Unique_Answers                        956 non-null    int64  \n",
      " 16  Rebus_Count                           956 non-null    int64  \n",
      " 17  Rebus_Unique                          956 non-null    int64  \n",
      " 18  Cheater_Squares                       956 non-null    int64  \n",
      " 19  AWL                                   956 non-null    float64\n",
      " 20  Scrabble_Score                        902 non-null    float64\n",
      " 21  FITB                                  956 non-null    int64  \n",
      " 22  Cross_Ref_Clues                       956 non-null    int64  \n",
      " 23  Scrabble_Illegal                      956 non-null    int64  \n",
      " 24  Open_Squares                          956 non-null    int64  \n",
      " 25  Freshness_Factor                      956 non-null    float64\n",
      " 26  Overall_Freshness%                    956 non-null    float64\n",
      " 27  Day_Freshness%                        956 non-null    float64\n",
      " 28  Duplicate_Clues                       956 non-null    int64  \n",
      " 29  Circle_Count                          956 non-null    int64  \n",
      " 30  Shade_Count                           956 non-null    int64  \n",
      " 31  Unusual_Sym                           956 non-null    int64  \n",
      " 32  Black_Square_Fill                     956 non-null    int64  \n",
      " 33  Wordplay                              923 non-null    float64\n",
      "dtypes: float64(16), int64(18)\n",
      "memory usage: 261.4 KB\n"
     ]
    }
   ],
   "source": [
    "df_model1.info()"
   ]
  },
  {
   "cell_type": "code",
   "execution_count": 918,
   "id": "7094a917",
   "metadata": {},
   "outputs": [],
   "source": [
    "#df_model1.to_csv('../data/df_model1.csv', index=False)"
   ]
  },
  {
   "cell_type": "markdown",
   "id": "110c9936",
   "metadata": {},
   "source": [
    "### Data Split for Modeling"
   ]
  },
  {
   "cell_type": "markdown",
   "id": "778504df",
   "metadata": {},
   "source": [
    "Identical split as for dummy/simple modeling"
   ]
  },
  {
   "cell_type": "code",
   "execution_count": 1124,
   "id": "e7f2b6c5",
   "metadata": {},
   "outputs": [
    {
     "data": {
      "text/plain": [
       "(764.8000000000001, 191.20000000000002)"
      ]
     },
     "execution_count": 1124,
     "metadata": {},
     "output_type": "execute_result"
    }
   ],
   "source": [
    "len(df_model1) * .80, len(df_model1) * .20"
   ]
  },
  {
   "cell_type": "code",
   "execution_count": 1125,
   "id": "319fbf70",
   "metadata": {},
   "outputs": [],
   "source": [
    "#Replicates EXACT train-test split from dummy and simpler modeling\n",
    "X_train, X_test, y_train, y_test = train_test_split(df_model1.drop(columns='IS2_ST(m)'), \n",
    "                                                    df_model1['IS2_ST(m)'], test_size=0.20, \n",
    "                                                    random_state=47)"
   ]
  },
  {
   "cell_type": "code",
   "execution_count": 1126,
   "id": "9bd84540",
   "metadata": {},
   "outputs": [
    {
     "data": {
      "text/plain": [
       "((764,), (192,))"
      ]
     },
     "execution_count": 1126,
     "metadata": {},
     "output_type": "execute_result"
    }
   ],
   "source": [
    "y_train.shape, y_test.shape"
   ]
  },
  {
   "cell_type": "code",
   "execution_count": 1127,
   "id": "51897b2b",
   "metadata": {},
   "outputs": [
    {
     "data": {
      "text/plain": [
       "888     12.016667\n",
       "337     14.350000\n",
       "140     10.200000\n",
       "39      14.633333\n",
       "274      9.500000\n",
       "          ...    \n",
       "682     18.283333\n",
       "307     23.583333\n",
       "379     21.000000\n",
       "1045    16.533333\n",
       "157     47.733333\n",
       "Name: IS2_ST(m), Length: 764, dtype: float64"
      ]
     },
     "execution_count": 1127,
     "metadata": {},
     "output_type": "execute_result"
    }
   ],
   "source": [
    "y_train"
   ]
  },
  {
   "cell_type": "code",
   "execution_count": 1128,
   "id": "86a500f1",
   "metadata": {},
   "outputs": [
    {
     "data": {
      "text/plain": [
       "((764, 33), (192, 33))"
      ]
     },
     "execution_count": 1128,
     "metadata": {},
     "output_type": "execute_result"
    }
   ],
   "source": [
    "X_train.shape, X_test.shape"
   ]
  },
  {
   "cell_type": "code",
   "execution_count": 1129,
   "id": "b80c9c04",
   "metadata": {},
   "outputs": [
    {
     "data": {
      "text/plain": [
       "18.116513961605584"
      ]
     },
     "execution_count": 1129,
     "metadata": {},
     "output_type": "execute_result"
    }
   ],
   "source": [
    "# Get training set mean to normalize the error to, as this will change with different puzzle day subtractions\n",
    "#Target feature (IST(m)) training set mean\n",
    "train_mean = y_train.mean()\n",
    "train_mean"
   ]
  },
  {
   "cell_type": "markdown",
   "id": "300fd6a4",
   "metadata": {},
   "source": [
    "## Gradient Boosting Regression Model"
   ]
  },
  {
   "cell_type": "markdown",
   "id": "a1eef0dd",
   "metadata": {},
   "source": [
    "### Gradient Boosting Model: Hyperparameter Grid Search"
   ]
  },
  {
   "cell_type": "code",
   "execution_count": 1130,
   "id": "30da1572",
   "metadata": {},
   "outputs": [],
   "source": [
    "#Define pipeline \n",
    "GB_pipe = make_pipeline(\n",
    "    SimpleImputer(strategy='mean'),\n",
    "    StandardScaler(),\n",
    "    GradientBoostingRegressor(random_state= 47)\n",
    ")"
   ]
  },
  {
   "cell_type": "code",
   "execution_count": 1131,
   "id": "22473aa1",
   "metadata": {},
   "outputs": [
    {
     "data": {
      "text/plain": [
       "dict_keys(['memory', 'steps', 'verbose', 'simpleimputer', 'standardscaler', 'gradientboostingregressor', 'simpleimputer__add_indicator', 'simpleimputer__copy', 'simpleimputer__fill_value', 'simpleimputer__missing_values', 'simpleimputer__strategy', 'simpleimputer__verbose', 'standardscaler__copy', 'standardscaler__with_mean', 'standardscaler__with_std', 'gradientboostingregressor__alpha', 'gradientboostingregressor__ccp_alpha', 'gradientboostingregressor__criterion', 'gradientboostingregressor__init', 'gradientboostingregressor__learning_rate', 'gradientboostingregressor__loss', 'gradientboostingregressor__max_depth', 'gradientboostingregressor__max_features', 'gradientboostingregressor__max_leaf_nodes', 'gradientboostingregressor__min_impurity_decrease', 'gradientboostingregressor__min_impurity_split', 'gradientboostingregressor__min_samples_leaf', 'gradientboostingregressor__min_samples_split', 'gradientboostingregressor__min_weight_fraction_leaf', 'gradientboostingregressor__n_estimators', 'gradientboostingregressor__n_iter_no_change', 'gradientboostingregressor__random_state', 'gradientboostingregressor__subsample', 'gradientboostingregressor__tol', 'gradientboostingregressor__validation_fraction', 'gradientboostingregressor__verbose', 'gradientboostingregressor__warm_start'])"
      ]
     },
     "execution_count": 1131,
     "metadata": {},
     "output_type": "execute_result"
    }
   ],
   "source": [
    "GB_pipe.get_params().keys()"
   ]
  },
  {
   "cell_type": "code",
   "execution_count": 1137,
   "id": "b247d05f",
   "metadata": {},
   "outputs": [
    {
     "data": {
      "text/plain": [
       "{'gradientboostingregressor__n_estimators': [130],\n",
       " 'standardscaler': [None],\n",
       " 'simpleimputer__strategy': ['mean', 'median'],\n",
       " 'gradientboostingregressor__learning_rate': [0.03],\n",
       " 'gradientboostingregressor__max_depth': [5, 6, 7],\n",
       " 'gradientboostingregressor__max_features': [9, 10, 11],\n",
       " 'gradientboostingregressor__subsample': [0.6]}"
      ]
     },
     "execution_count": 1137,
     "metadata": {},
     "output_type": "execute_result"
    }
   ],
   "source": [
    "# #Define Grid Parameters\n",
    "n_est = [130] \n",
    "learning_rate = [.03] \n",
    "max_depth = [5,6,7] \n",
    "max_features = [9,10,11] \n",
    "subsamples = [0.6] \n",
    "\n",
    "grid_params = {\n",
    "        'gradientboostingregressor__n_estimators': n_est,\n",
    "        'standardscaler': [None],\n",
    "        'simpleimputer__strategy': ['mean', 'median'],\n",
    "        'gradientboostingregressor__learning_rate': learning_rate,\n",
    "        'gradientboostingregressor__max_depth': max_depth,\n",
    "        'gradientboostingregressor__max_features': max_features,\n",
    "        'gradientboostingregressor__subsample': subsamples\n",
    "}\n",
    "grid_params"
   ]
  },
  {
   "cell_type": "code",
   "execution_count": 1138,
   "id": "57b53602",
   "metadata": {},
   "outputs": [],
   "source": [
    "#Call `GridSearchCV` with linear regression pipeline, passing in the above `grid_params`\n",
    "#dict for parameters to evaluate with 5-fold cross-validation\n",
    "gb_grid_cv = GridSearchCV(GB_pipe, param_grid=grid_params, cv=5)"
   ]
  },
  {
   "cell_type": "code",
   "execution_count": 1139,
   "id": "f1b76dcf",
   "metadata": {},
   "outputs": [],
   "source": [
    "# #Define Grid Parameters\n",
    "# n_est = [125, 130, 135] 130\n",
    "# learning_rate = [.02, .03, .04] .03\n",
    "# max_depth = [3,4,5] 5\n",
    "# max_features = [7,8,9] 9\n",
    "# subsamples = [0.5,0.6,0.7] 0.6\n",
    "\n",
    "# grid_params = {\n",
    "#         'gradientboostingregressor__n_estimators': n_est,\n",
    "#         'standardscaler': [None],\n",
    "#         'simpleimputer__strategy': ['mean', 'median'],\n",
    "#         'gradientboostingregressor__learning_rate': learning_rate,\n",
    "#         'gradientboostingregressor__max_depth': max_depth,\n",
    "#         'gradientboostingregressor__max_features': max_features,\n",
    "#         'gradientboostingregressor__subsample': subsamples\n",
    "# }\n",
    "# grid_params\n",
    "\n",
    "\n",
    "# {'gradientboostingregressor__n_estimators': [125, 130, 135],\n",
    "#  'standardscaler': [None],\n",
    "#  'simpleimputer__strategy': ['mean', 'median'],\n",
    "#  'gradientboostingregressor__learning_rate': [0.02, 0.03, 0.04],\n",
    "#  'gradientboostingregressor__max_depth': [3, 4, 5],\n",
    "#  'gradientboostingregressor__max_features': [7, 8, 9],\n",
    "#  'gradientboostingregressor__subsample': [0.5, 0.6, 0.7]}"
   ]
  },
  {
   "cell_type": "code",
   "execution_count": 1140,
   "id": "374682ec",
   "metadata": {},
   "outputs": [],
   "source": [
    "#Call `GridSearchCV` with the gradient boosting pipeline, passing in the above `grid_params`\n",
    "#dict for parameters to evaluate, 5-fold cross-validation\n",
    "gb_grid_cv = GridSearchCV(GB_pipe, param_grid=grid_params, cv=5)"
   ]
  },
  {
   "cell_type": "code",
   "execution_count": 1141,
   "id": "57d15a7f",
   "metadata": {},
   "outputs": [
    {
     "data": {
      "text/plain": [
       "GridSearchCV(cv=5,\n",
       "             estimator=Pipeline(steps=[('simpleimputer', SimpleImputer()),\n",
       "                                       ('standardscaler', StandardScaler()),\n",
       "                                       ('gradientboostingregressor',\n",
       "                                        GradientBoostingRegressor(random_state=47))]),\n",
       "             param_grid={'gradientboostingregressor__learning_rate': [0.03],\n",
       "                         'gradientboostingregressor__max_depth': [5, 6, 7],\n",
       "                         'gradientboostingregressor__max_features': [9, 10, 11],\n",
       "                         'gradientboostingregressor__n_estimators': [130],\n",
       "                         'gradientboostingregressor__subsample': [0.6],\n",
       "                         'simpleimputer__strategy': ['mean', 'median'],\n",
       "                         'standardscaler': [None]})"
      ]
     },
     "execution_count": 1141,
     "metadata": {},
     "output_type": "execute_result"
    }
   ],
   "source": [
    "#conduct the grid search. \n",
    "gb_grid_cv.fit(X_train, y_train)"
   ]
  },
  {
   "cell_type": "code",
   "execution_count": 1142,
   "id": "c8e636bc",
   "metadata": {},
   "outputs": [
    {
     "data": {
      "text/plain": [
       "{'gradientboostingregressor__learning_rate': 0.03,\n",
       " 'gradientboostingregressor__max_depth': 5,\n",
       " 'gradientboostingregressor__max_features': 9,\n",
       " 'gradientboostingregressor__n_estimators': 130,\n",
       " 'gradientboostingregressor__subsample': 0.6,\n",
       " 'simpleimputer__strategy': 'mean',\n",
       " 'standardscaler': None}"
      ]
     },
     "execution_count": 1142,
     "metadata": {},
     "output_type": "execute_result"
    }
   ],
   "source": [
    "#Best params (`best_params_` attribute) from the grid search\n",
    "gb_grid_cv.best_params_"
   ]
  },
  {
   "cell_type": "markdown",
   "id": "d112977b",
   "metadata": {},
   "source": [
    "### Best Gradient Boosting Model Performance Metrics"
   ]
  },
  {
   "cell_type": "markdown",
   "id": "7820c285",
   "metadata": {},
   "source": [
    "#### R-squared (COD)"
   ]
  },
  {
   "cell_type": "code",
   "execution_count": 1143,
   "id": "6dc56798",
   "metadata": {},
   "outputs": [
    {
     "data": {
      "text/plain": [
       "array([0.6318049 , 0.62479287, 0.55005566, 0.68350723, 0.59554911])"
      ]
     },
     "execution_count": 1143,
     "metadata": {},
     "output_type": "execute_result"
    }
   ],
   "source": [
    "#Cross-validation defaults to R^2 metric for scoring regression\n",
    "gb_best_cv_results = cross_validate(gb_grid_cv.best_estimator_, X_train, y_train, cv=5)\n",
    "gb_best_scores = gb_best_cv_results['test_score']\n",
    "gb_best_scores"
   ]
  },
  {
   "cell_type": "code",
   "execution_count": 1144,
   "id": "b28a43c3",
   "metadata": {},
   "outputs": [
    {
     "data": {
      "text/plain": [
       "(0.6171419536617851, 0.043919720071917696)"
      ]
     },
     "execution_count": 1144,
     "metadata": {},
     "output_type": "execute_result"
    }
   ],
   "source": [
    "#Training set CV mean and std\n",
    "np.mean(gb_best_scores), np.std(gb_best_scores)"
   ]
  },
  {
   "cell_type": "markdown",
   "id": "c91478b1",
   "metadata": {},
   "source": [
    "#### Mean Absolute Error (MAE)"
   ]
  },
  {
   "cell_type": "code",
   "execution_count": 1145,
   "id": "e18c5910",
   "metadata": {},
   "outputs": [],
   "source": [
    "gb_neg_mae = cross_validate(gb_grid_cv.best_estimator_, X_train, y_train, \n",
    "                            scoring='neg_mean_absolute_error', cv=5, n_jobs=-1)"
   ]
  },
  {
   "cell_type": "code",
   "execution_count": 1146,
   "id": "fcd81789",
   "metadata": {},
   "outputs": [
    {
     "data": {
      "text/plain": [
       "(5.258358181090969, 0.40462670887880653)"
      ]
     },
     "execution_count": 1146,
     "metadata": {},
     "output_type": "execute_result"
    }
   ],
   "source": [
    "#Training set CV mean and std\n",
    "gb_mae_mean = np.mean(-1 * gb_neg_mae['test_score'])\n",
    "gb_mae_std = np.std(-1 * gb_neg_mae['test_score'])\n",
    "gb_mae_mean, gb_mae_std"
   ]
  },
  {
   "cell_type": "code",
   "execution_count": 1147,
   "id": "6d131fd6",
   "metadata": {},
   "outputs": [
    {
     "data": {
      "text/plain": [
       "7.333621752180519"
      ]
     },
     "execution_count": 1147,
     "metadata": {},
     "output_type": "execute_result"
    }
   ],
   "source": [
    "# Test set mean\n",
    "mean_absolute_error(y_test, gb_grid_cv.best_estimator_.predict(X_test))"
   ]
  },
  {
   "cell_type": "markdown",
   "id": "63e05fa0",
   "metadata": {},
   "source": [
    "#### Mean Squared Error (MSE)"
   ]
  },
  {
   "cell_type": "code",
   "execution_count": 1148,
   "id": "680649e1",
   "metadata": {},
   "outputs": [],
   "source": [
    "gb_neg_mse = cross_validate(gb_grid_cv.best_estimator_, X_train, y_train, \n",
    "                            scoring='neg_mean_squared_error', cv=5)"
   ]
  },
  {
   "cell_type": "code",
   "execution_count": 1149,
   "id": "5bf5c623",
   "metadata": {},
   "outputs": [
    {
     "data": {
      "text/plain": [
       "(63.596891231093046, 6.6219996068847715)"
      ]
     },
     "execution_count": 1149,
     "metadata": {},
     "output_type": "execute_result"
    }
   ],
   "source": [
    "#Training set CV mean and std\n",
    "gb_mse_mean = np.mean(-1 * gb_neg_mse['test_score'])\n",
    "gb_mse_std = np.std(-1 * gb_neg_mse['test_score'])\n",
    "gb_mse_mean, gb_mse_std"
   ]
  },
  {
   "cell_type": "code",
   "execution_count": 1150,
   "id": "a347d29a",
   "metadata": {},
   "outputs": [
    {
     "data": {
      "text/plain": [
       "162.29808919539835"
      ]
     },
     "execution_count": 1150,
     "metadata": {},
     "output_type": "execute_result"
    }
   ],
   "source": [
    "# Test set mean\n",
    "mean_squared_error(y_test, gb_grid_cv.best_estimator_.predict(X_test))"
   ]
  },
  {
   "cell_type": "markdown",
   "id": "fb2e2fa6",
   "metadata": {},
   "source": [
    "#### Root Mean Square Error (RMSE)"
   ]
  },
  {
   "cell_type": "code",
   "execution_count": 1151,
   "id": "637cc724",
   "metadata": {},
   "outputs": [],
   "source": [
    "gb_neg_rmse = cross_validate(gb_grid_cv.best_estimator_, X_train, y_train, \n",
    "                            scoring='neg_root_mean_squared_error', cv=5)"
   ]
  },
  {
   "cell_type": "code",
   "execution_count": 1152,
   "id": "129c9952",
   "metadata": {},
   "outputs": [
    {
     "data": {
      "text/plain": [
       "(7.9641375292366465, 0.41158795718223884)"
      ]
     },
     "execution_count": 1152,
     "metadata": {},
     "output_type": "execute_result"
    }
   ],
   "source": [
    "#Training set CV mean and std\n",
    "gb_rmse_mean = np.mean(-1 * gb_neg_rmse['test_score'])\n",
    "gb_rmse_std = np.std(-1 * gb_neg_rmse['test_score'])\n",
    "gb_rmse_mean, gb_rmse_std"
   ]
  },
  {
   "cell_type": "code",
   "execution_count": 1153,
   "id": "1bac3e9c",
   "metadata": {},
   "outputs": [
    {
     "data": {
      "text/plain": [
       "12.739626729045021"
      ]
     },
     "execution_count": 1153,
     "metadata": {},
     "output_type": "execute_result"
    }
   ],
   "source": [
    "# Test set mean\n",
    "np.sqrt(mean_squared_error(y_test, gb_grid_cv.best_estimator_.predict(X_test)))"
   ]
  },
  {
   "cell_type": "markdown",
   "id": "547bd4be",
   "metadata": {},
   "source": [
    "### Best Gradient Boosting Model Feature Performance"
   ]
  },
  {
   "cell_type": "code",
   "execution_count": 1115,
   "id": "31f81960",
   "metadata": {},
   "outputs": [
    {
     "data": {
      "image/png": "[encoded data removed]",
      "text/plain": [
       "<Figure size 1440x720 with 1 Axes>"
      ]
     },
     "metadata": {
      "needs_background": "light"
     },
     "output_type": "display_data"
    }
   ],
   "source": [
    "#Plot a barplot of the gradient boosting model's feature importances,\n",
    "#assigning the `feature_importances_` attribute of \n",
    "#`gb_grid_cv.best_estimator_.named_steps.gradientboostingregressor` to the name `imps` to then\n",
    "#create a pandas Series object of the feature importances, with the index given by the\n",
    "#training data column names, sorting the values in descending order\n",
    "plt.subplots(figsize=(20, 10))\n",
    "imps = gb_grid_cv.best_estimator_.named_steps.gradientboostingregressor.feature_importances_\n",
    "gb_feat_imps = pd.Series(imps, index=X_train.columns).sort_values(ascending=False)\n",
    "gb_feat_imps.nlargest(30).plot(kind='bar')\n",
    "plt.xlabel('features')\n",
    "plt.ylabel('importance')\n",
    "plt.title('Best gradient boosting regressor feature importances');"
   ]
  },
  {
   "cell_type": "code",
   "execution_count": 351,
   "id": "5f5142e9",
   "metadata": {},
   "outputs": [
    {
     "ename": "FileNotFoundError",
     "evalue": "[Errno 2] No such file or directory: '../data/gb_feat_imps.csv'",
     "output_type": "error",
     "traceback": [
      "\u001b[1;31m---------------------------------------------------------------------------\u001b[0m",
      "\u001b[1;31mFileNotFoundError\u001b[0m                         Traceback (most recent call last)",
      "\u001b[1;32m<ipython-input-351-a0105d9531f0>\u001b[0m in \u001b[0;36m<module>\u001b[1;34m\u001b[0m\n\u001b[0;32m      1\u001b[0m \u001b[1;31m# Export out features and feature importances for full documentation csv\u001b[0m\u001b[1;33m\u001b[0m\u001b[1;33m\u001b[0m\u001b[1;33m\u001b[0m\u001b[0m\n\u001b[0;32m      2\u001b[0m \u001b[0mX_train\u001b[0m\u001b[1;33m.\u001b[0m\u001b[0mcolumns\u001b[0m\u001b[1;33m\u001b[0m\u001b[1;33m\u001b[0m\u001b[0m\n\u001b[1;32m----> 3\u001b[1;33m \u001b[0mgb_feat_imps\u001b[0m\u001b[1;33m.\u001b[0m\u001b[0mto_csv\u001b[0m\u001b[1;33m(\u001b[0m\u001b[1;34m'../data/gb_feat_imps.csv'\u001b[0m\u001b[1;33m,\u001b[0m \u001b[0mindex\u001b[0m\u001b[1;33m=\u001b[0m\u001b[1;32mTrue\u001b[0m\u001b[1;33m)\u001b[0m\u001b[1;33m\u001b[0m\u001b[1;33m\u001b[0m\u001b[0m\n\u001b[0m",
      "\u001b[1;32m~\\anaconda3\\lib\\site-packages\\pandas\\core\\generic.py\u001b[0m in \u001b[0;36mto_csv\u001b[1;34m(self, path_or_buf, sep, na_rep, float_format, columns, header, index, index_label, mode, encoding, compression, quoting, quotechar, line_terminator, chunksize, date_format, doublequote, escapechar, decimal, errors)\u001b[0m\n\u001b[0;32m   3165\u001b[0m             \u001b[0mdecimal\u001b[0m\u001b[1;33m=\u001b[0m\u001b[0mdecimal\u001b[0m\u001b[1;33m,\u001b[0m\u001b[1;33m\u001b[0m\u001b[1;33m\u001b[0m\u001b[0m\n\u001b[0;32m   3166\u001b[0m         )\n\u001b[1;32m-> 3167\u001b[1;33m         \u001b[0mformatter\u001b[0m\u001b[1;33m.\u001b[0m\u001b[0msave\u001b[0m\u001b[1;33m(\u001b[0m\u001b[1;33m)\u001b[0m\u001b[1;33m\u001b[0m\u001b[1;33m\u001b[0m\u001b[0m\n\u001b[0m\u001b[0;32m   3168\u001b[0m \u001b[1;33m\u001b[0m\u001b[0m\n\u001b[0;32m   3169\u001b[0m         \u001b[1;32mif\u001b[0m \u001b[0mpath_or_buf\u001b[0m \u001b[1;32mis\u001b[0m \u001b[1;32mNone\u001b[0m\u001b[1;33m:\u001b[0m\u001b[1;33m\u001b[0m\u001b[1;33m\u001b[0m\u001b[0m\n",
      "\u001b[1;32m~\\anaconda3\\lib\\site-packages\\pandas\\io\\formats\\csvs.py\u001b[0m in \u001b[0;36msave\u001b[1;34m(self)\u001b[0m\n\u001b[0;32m    183\u001b[0m             \u001b[0mclose\u001b[0m \u001b[1;33m=\u001b[0m \u001b[1;32mFalse\u001b[0m\u001b[1;33m\u001b[0m\u001b[1;33m\u001b[0m\u001b[0m\n\u001b[0;32m    184\u001b[0m         \u001b[1;32melse\u001b[0m\u001b[1;33m:\u001b[0m\u001b[1;33m\u001b[0m\u001b[1;33m\u001b[0m\u001b[0m\n\u001b[1;32m--> 185\u001b[1;33m             f, handles = get_handle(\n\u001b[0m\u001b[0;32m    186\u001b[0m                 \u001b[0mself\u001b[0m\u001b[1;33m.\u001b[0m\u001b[0mpath_or_buf\u001b[0m\u001b[1;33m,\u001b[0m\u001b[1;33m\u001b[0m\u001b[1;33m\u001b[0m\u001b[0m\n\u001b[0;32m    187\u001b[0m                 \u001b[0mself\u001b[0m\u001b[1;33m.\u001b[0m\u001b[0mmode\u001b[0m\u001b[1;33m,\u001b[0m\u001b[1;33m\u001b[0m\u001b[1;33m\u001b[0m\u001b[0m\n",
      "\u001b[1;32m~\\anaconda3\\lib\\site-packages\\pandas\\io\\common.py\u001b[0m in \u001b[0;36mget_handle\u001b[1;34m(path_or_buf, mode, encoding, compression, memory_map, is_text, errors)\u001b[0m\n\u001b[0;32m    491\u001b[0m         \u001b[1;32mif\u001b[0m \u001b[0mencoding\u001b[0m\u001b[1;33m:\u001b[0m\u001b[1;33m\u001b[0m\u001b[1;33m\u001b[0m\u001b[0m\n\u001b[0;32m    492\u001b[0m             \u001b[1;31m# Encoding\u001b[0m\u001b[1;33m\u001b[0m\u001b[1;33m\u001b[0m\u001b[1;33m\u001b[0m\u001b[0m\n\u001b[1;32m--> 493\u001b[1;33m             \u001b[0mf\u001b[0m \u001b[1;33m=\u001b[0m \u001b[0mopen\u001b[0m\u001b[1;33m(\u001b[0m\u001b[0mpath_or_buf\u001b[0m\u001b[1;33m,\u001b[0m \u001b[0mmode\u001b[0m\u001b[1;33m,\u001b[0m \u001b[0mencoding\u001b[0m\u001b[1;33m=\u001b[0m\u001b[0mencoding\u001b[0m\u001b[1;33m,\u001b[0m \u001b[0merrors\u001b[0m\u001b[1;33m=\u001b[0m\u001b[0merrors\u001b[0m\u001b[1;33m,\u001b[0m \u001b[0mnewline\u001b[0m\u001b[1;33m=\u001b[0m\u001b[1;34m\"\"\u001b[0m\u001b[1;33m)\u001b[0m\u001b[1;33m\u001b[0m\u001b[1;33m\u001b[0m\u001b[0m\n\u001b[0m\u001b[0;32m    494\u001b[0m         \u001b[1;32melif\u001b[0m \u001b[0mis_text\u001b[0m\u001b[1;33m:\u001b[0m\u001b[1;33m\u001b[0m\u001b[1;33m\u001b[0m\u001b[0m\n\u001b[0;32m    495\u001b[0m             \u001b[1;31m# No explicit encoding\u001b[0m\u001b[1;33m\u001b[0m\u001b[1;33m\u001b[0m\u001b[1;33m\u001b[0m\u001b[0m\n",
      "\u001b[1;31mFileNotFoundError\u001b[0m: [Errno 2] No such file or directory: '../data/gb_feat_imps.csv'"
     ]
    }
   ],
   "source": [
    "# Export out features and feature importances for full documentation csv\n",
    "X_train.columns\n",
    "gb_feat_imps.to_csv('../data/gb_feat_imps.csv', index=True)"
   ]
  },
  {
   "cell_type": "markdown",
   "id": "b8f48649",
   "metadata": {},
   "source": [
    "## Save Best Model Object From Pipeline"
   ]
  },
  {
   "cell_type": "code",
   "execution_count": 305,
   "id": "6c476fc6",
   "metadata": {},
   "outputs": [],
   "source": [
    "best_model = gb_grid_cv.best_estimator_\n",
    "best_model.version = '1.0'\n",
    "best_model.pandas_version = pd.__version__\n",
    "best_model.numpy_version = np.__version__\n",
    "best_model.sklearn_version = sklearn_version\n",
    "best_model.X_columns = [col for col in X_train.columns]\n",
    "best_model.build_datetime = datetime.datetime.now()"
   ]
  },
  {
   "cell_type": "code",
   "execution_count": 306,
   "id": "c3b70367",
   "metadata": {},
   "outputs": [
    {
     "name": "stdout",
     "output_type": "stream",
     "text": [
      "Writing file.  \"../models\\IS1_no_SOS_adj_lr.pkl\"\n"
     ]
    }
   ],
   "source": [
    "# save the model\n",
    "modelpath = '../models'\n",
    "save_file(best_model, 'IS1_no_SOS_adj_gb.pkl', modelpath)"
   ]
  },
  {
   "cell_type": "markdown",
   "id": "89c2ad1e",
   "metadata": {},
   "source": [
    "### Data Quality Assessment"
   ]
  },
  {
   "cell_type": "markdown",
   "id": "e3c66adc",
   "metadata": {},
   "source": [
    "Because Gradient Boosting Regressor turned out to be the best of the four models tested (in terms of cross-validation RMSE), a Data Quality Assessment was run on this model to ensure that results are not hindered by sample size. "
   ]
  },
  {
   "cell_type": "code",
   "execution_count": 307,
   "id": "e018f1e0",
   "metadata": {},
   "outputs": [
    {
     "name": "stderr",
     "output_type": "stream",
     "text": [
      "C:\\Users\\jraks\\anaconda3\\lib\\site-packages\\sklearn\\feature_selection\\_univariate_selection.py:301: RuntimeWarning: invalid value encountered in true_divide\n",
      "  corr /= X_norms\n",
      "C:\\Users\\jraks\\anaconda3\\lib\\site-packages\\sklearn\\feature_selection\\_univariate_selection.py:301: RuntimeWarning: invalid value encountered in true_divide\n",
      "  corr /= X_norms\n"
     ]
    }
   ],
   "source": [
    "fractions = [.2, .25, .3, .35, .4, .45, .5, .6, .75, .8, .9, 1.0]\n",
    "train_size, train_scores, test_scores = learning_curve(GB_pipe, X_train, y_train, train_sizes=fractions)\n",
    "train_scores_mean = np.mean(train_scores, axis=1)\n",
    "train_scores_std = np.std(train_scores, axis=1)\n",
    "test_scores_mean = np.mean(test_scores, axis=1)\n",
    "test_scores_std = np.std(test_scores, axis=1)"
   ]
  },
  {
   "cell_type": "code",
   "execution_count": 308,
   "id": "947ef1f6",
   "metadata": {},
   "outputs": [
    {
     "data": {
      "image/png": "[encoded data removed]",
      "text/plain": [
       "<Figure size 720x360 with 1 Axes>"
      ]
     },
     "metadata": {
      "needs_background": "light"
     },
     "output_type": "display_data"
    }
   ],
   "source": [
    "plt.subplots(figsize=(10, 5))\n",
    "plt.errorbar(train_size, test_scores_mean, yerr=test_scores_std)\n",
    "plt.xlabel('Training set size')\n",
    "plt.ylabel('CV scores')\n",
    "plt.title('Cross-validation score as training set size increases');"
   ]
  },
  {
   "cell_type": "code",
   "execution_count": null,
   "id": "deb48de1",
   "metadata": {},
   "outputs": [],
   "source": []
  }
 ],
 "metadata": {
  "kernelspec": {
   "display_name": "Python 3",
   "language": "python",
   "name": "python3"
  },
  "language_info": {
   "codemirror_mode": {
    "name": "ipython",
    "version": 3
   },
   "file_extension": ".py",
   "mimetype": "text/x-python",
   "name": "python",
   "nbconvert_exporter": "python",
   "pygments_lexer": "ipython3",
   "version": "3.8.8"
  }
 },
 "nbformat": 4,
 "nbformat_minor": 5
}
