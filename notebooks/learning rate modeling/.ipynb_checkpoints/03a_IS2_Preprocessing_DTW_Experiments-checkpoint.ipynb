{
 "cells": [
  {
   "cell_type": "markdown",
   "id": "1dcb9885",
   "metadata": {},
   "source": [
    "### Introduction to Preprocessing: DecayTime-Weighting Experiments"
   ]
  },
  {
   "cell_type": "markdown",
   "id": "a8fc727e",
   "metadata": {},
   "source": [
    "In this preprocessing step, we are looking to find good (if not optimal) puzzle day-specific decay function parameters for a feature capturing IS2 'recent' performance prior to a given solve. This means looking for a combo of number of past puzzles to include (e.g., 10,20,25, 50, 75, 100) and the decay weights (ranging from no decay weighting to a steep curve) for each of those past puzzles that yields the best univariate prediction of solve time (RMSE training error in minutes) over the 15x15 puzzle set. "
   ]
  },
  {
   "cell_type": "code",
   "execution_count": 1,
   "id": "e179e73d",
   "metadata": {},
   "outputs": [],
   "source": [
    "import pandas as pd\n",
    "import numpy as np\n",
    "import os\n",
    "import pickle\n",
    "import matplotlib.pyplot as plt\n",
    "import seaborn as sns\n",
    "from sklearn import __version__ as sklearn_version\n",
    "from sklearn.preprocessing import scale\n",
    "from sklearn.model_selection import train_test_split, cross_validate, GridSearchCV, learning_curve\n",
    "from sklearn.preprocessing import StandardScaler, MinMaxScaler\n",
    "from sklearn.dummy import DummyRegressor\n",
    "from sklearn.linear_model import LinearRegression\n",
    "from sklearn.metrics import r2_score, mean_squared_error, mean_absolute_error\n",
    "from sklearn.pipeline import make_pipeline\n",
    "from sklearn.impute import SimpleImputer\n",
    "from sklearn.feature_selection import SelectKBest, f_regression\n",
    "import datetime\n",
    "#from library.sb_utils import save_file"
   ]
  },
  {
   "cell_type": "markdown",
   "id": "5e352c49",
   "metadata": {},
   "source": [
    "### Load Data"
   ]
  },
  {
   "cell_type": "code",
   "execution_count": 2,
   "id": "9cc5018d",
   "metadata": {},
   "outputs": [
    {
     "data": {
      "text/html": [
       "<div>\n",
       "<style scoped>\n",
       "    .dataframe tbody tr th:only-of-type {\n",
       "        vertical-align: middle;\n",
       "    }\n",
       "\n",
       "    .dataframe tbody tr th {\n",
       "        vertical-align: top;\n",
       "    }\n",
       "\n",
       "    .dataframe thead th {\n",
       "        text-align: right;\n",
       "    }\n",
       "</style>\n",
       "<table border=\"1\" class=\"dataframe\">\n",
       "  <thead>\n",
       "    <tr style=\"text-align: right;\">\n",
       "      <th></th>\n",
       "      <th>P_Date</th>\n",
       "      <th>P_Date_str</th>\n",
       "      <th>IS2_Completed</th>\n",
       "      <th>Comp_Date</th>\n",
       "      <th>Comp_Date_str</th>\n",
       "      <th>DOW</th>\n",
       "      <th>DOW_num</th>\n",
       "      <th>Grid Size</th>\n",
       "      <th>IS2_ST(m)</th>\n",
       "      <th>IS_pds_l8_ndw</th>\n",
       "      <th>...</th>\n",
       "      <th>Outside_Grid</th>\n",
       "      <th>Unchecked_Sq</th>\n",
       "      <th>Uniclue</th>\n",
       "      <th>Duplicate_Answers</th>\n",
       "      <th>Quantum</th>\n",
       "      <th>Wordplay</th>\n",
       "      <th>IS_pds_l25_dw</th>\n",
       "      <th>IS_pds_l40_dw</th>\n",
       "      <th>IS_pds_l25_stdev</th>\n",
       "      <th>IS_pds_l40_stdev</th>\n",
       "    </tr>\n",
       "  </thead>\n",
       "  <tbody>\n",
       "    <tr>\n",
       "      <th>0</th>\n",
       "      <td>2024-02-21 00:00:00</td>\n",
       "      <td>2024-02-21</td>\n",
       "      <td>1.0</td>\n",
       "      <td>2024-02-21 10:33:24</td>\n",
       "      <td>2024-02-21</td>\n",
       "      <td>Wednesday</td>\n",
       "      <td>4.0</td>\n",
       "      <td>1</td>\n",
       "      <td>7.550000</td>\n",
       "      <td>11.445833</td>\n",
       "      <td>...</td>\n",
       "      <td>0</td>\n",
       "      <td>0</td>\n",
       "      <td>0</td>\n",
       "      <td>0</td>\n",
       "      <td>0</td>\n",
       "      <td>2.0</td>\n",
       "      <td>9.945897</td>\n",
       "      <td>10.054187</td>\n",
       "      <td>77.652239</td>\n",
       "      <td>129.572784</td>\n",
       "    </tr>\n",
       "    <tr>\n",
       "      <th>1</th>\n",
       "      <td>2022-06-08 00:00:00</td>\n",
       "      <td>2022-06-08</td>\n",
       "      <td>1.0</td>\n",
       "      <td>2024-02-20 19:27:34</td>\n",
       "      <td>2024-02-20</td>\n",
       "      <td>Wednesday</td>\n",
       "      <td>4.0</td>\n",
       "      <td>1</td>\n",
       "      <td>19.516667</td>\n",
       "      <td>10.568750</td>\n",
       "      <td>...</td>\n",
       "      <td>0</td>\n",
       "      <td>0</td>\n",
       "      <td>0</td>\n",
       "      <td>0</td>\n",
       "      <td>0</td>\n",
       "      <td>10.0</td>\n",
       "      <td>9.865179</td>\n",
       "      <td>9.942785</td>\n",
       "      <td>76.676930</td>\n",
       "      <td>126.371344</td>\n",
       "    </tr>\n",
       "    <tr>\n",
       "      <th>2</th>\n",
       "      <td>2022-06-15 00:00:00</td>\n",
       "      <td>2022-06-15</td>\n",
       "      <td>1.0</td>\n",
       "      <td>2024-02-18 23:00:33</td>\n",
       "      <td>2024-02-18</td>\n",
       "      <td>Wednesday</td>\n",
       "      <td>4.0</td>\n",
       "      <td>1</td>\n",
       "      <td>7.500000</td>\n",
       "      <td>11.391667</td>\n",
       "      <td>...</td>\n",
       "      <td>0</td>\n",
       "      <td>0</td>\n",
       "      <td>0</td>\n",
       "      <td>0</td>\n",
       "      <td>0</td>\n",
       "      <td>3.0</td>\n",
       "      <td>9.905487</td>\n",
       "      <td>10.151016</td>\n",
       "      <td>77.222042</td>\n",
       "      <td>135.103267</td>\n",
       "    </tr>\n",
       "    <tr>\n",
       "      <th>3</th>\n",
       "      <td>2022-06-22 00:00:00</td>\n",
       "      <td>2022-06-22</td>\n",
       "      <td>1.0</td>\n",
       "      <td>2024-02-18 21:52:33</td>\n",
       "      <td>2024-02-18</td>\n",
       "      <td>Wednesday</td>\n",
       "      <td>4.0</td>\n",
       "      <td>1</td>\n",
       "      <td>6.600000</td>\n",
       "      <td>11.775000</td>\n",
       "      <td>...</td>\n",
       "      <td>0</td>\n",
       "      <td>0</td>\n",
       "      <td>0</td>\n",
       "      <td>0</td>\n",
       "      <td>0</td>\n",
       "      <td>0.0</td>\n",
       "      <td>10.131385</td>\n",
       "      <td>10.098049</td>\n",
       "      <td>83.305034</td>\n",
       "      <td>132.692059</td>\n",
       "    </tr>\n",
       "    <tr>\n",
       "      <th>4</th>\n",
       "      <td>2022-06-29 00:00:00</td>\n",
       "      <td>2022-06-29</td>\n",
       "      <td>1.0</td>\n",
       "      <td>2024-02-18 19:43:50</td>\n",
       "      <td>2024-02-18</td>\n",
       "      <td>Wednesday</td>\n",
       "      <td>4.0</td>\n",
       "      <td>1</td>\n",
       "      <td>9.866667</td>\n",
       "      <td>11.558333</td>\n",
       "      <td>...</td>\n",
       "      <td>0</td>\n",
       "      <td>0</td>\n",
       "      <td>0</td>\n",
       "      <td>0</td>\n",
       "      <td>0</td>\n",
       "      <td>3.0</td>\n",
       "      <td>10.105385</td>\n",
       "      <td>10.067967</td>\n",
       "      <td>82.884171</td>\n",
       "      <td>131.280309</td>\n",
       "    </tr>\n",
       "  </tbody>\n",
       "</table>\n",
       "<p>5 rows × 49 columns</p>\n",
       "</div>"
      ],
      "text/plain": [
       "                P_Date  P_Date_str  IS2_Completed            Comp_Date  \\\n",
       "0  2024-02-21 00:00:00  2024-02-21            1.0  2024-02-21 10:33:24   \n",
       "1  2022-06-08 00:00:00  2022-06-08            1.0  2024-02-20 19:27:34   \n",
       "2  2022-06-15 00:00:00  2022-06-15            1.0  2024-02-18 23:00:33   \n",
       "3  2022-06-22 00:00:00  2022-06-22            1.0  2024-02-18 21:52:33   \n",
       "4  2022-06-29 00:00:00  2022-06-29            1.0  2024-02-18 19:43:50   \n",
       "\n",
       "  Comp_Date_str        DOW  DOW_num  Grid Size  IS2_ST(m)  IS_pds_l8_ndw  ...  \\\n",
       "0    2024-02-21  Wednesday      4.0          1   7.550000      11.445833  ...   \n",
       "1    2024-02-20  Wednesday      4.0          1  19.516667      10.568750  ...   \n",
       "2    2024-02-18  Wednesday      4.0          1   7.500000      11.391667  ...   \n",
       "3    2024-02-18  Wednesday      4.0          1   6.600000      11.775000  ...   \n",
       "4    2024-02-18  Wednesday      4.0          1   9.866667      11.558333  ...   \n",
       "\n",
       "   Outside_Grid  Unchecked_Sq  Uniclue  Duplicate_Answers  Quantum Wordplay  \\\n",
       "0             0             0        0                  0        0      2.0   \n",
       "1             0             0        0                  0        0     10.0   \n",
       "2             0             0        0                  0        0      3.0   \n",
       "3             0             0        0                  0        0      0.0   \n",
       "4             0             0        0                  0        0      3.0   \n",
       "\n",
       "   IS_pds_l25_dw  IS_pds_l40_dw  IS_pds_l25_stdev  IS_pds_l40_stdev  \n",
       "0       9.945897      10.054187         77.652239        129.572784  \n",
       "1       9.865179       9.942785         76.676930        126.371344  \n",
       "2       9.905487      10.151016         77.222042        135.103267  \n",
       "3      10.131385      10.098049         83.305034        132.692059  \n",
       "4      10.105385      10.067967         82.884171        131.280309  \n",
       "\n",
       "[5 rows x 49 columns]"
      ]
     },
     "execution_count": 2,
     "metadata": {},
     "output_type": "execute_result"
    }
   ],
   "source": [
    "df = pd.read_csv('../../data/df3.csv')\n",
    "df.head()"
   ]
  },
  {
   "cell_type": "code",
   "execution_count": 3,
   "id": "95327794",
   "metadata": {},
   "outputs": [
    {
     "name": "stdout",
     "output_type": "stream",
     "text": [
      "<class 'pandas.core.frame.DataFrame'>\n",
      "RangeIndex: 1188 entries, 0 to 1187\n",
      "Data columns (total 49 columns):\n",
      " #   Column                         Non-Null Count  Dtype  \n",
      "---  ------                         --------------  -----  \n",
      " 0   P_Date                         1188 non-null   object \n",
      " 1   P_Date_str                     1188 non-null   object \n",
      " 2   IS2_Completed                  1188 non-null   float64\n",
      " 3   Comp_Date                      1188 non-null   object \n",
      " 4   Comp_Date_str                  1188 non-null   object \n",
      " 5   DOW                            1188 non-null   object \n",
      " 6   DOW_num                        1188 non-null   float64\n",
      " 7   Grid Size                      1188 non-null   int64  \n",
      " 8   IS2_ST(m)                      1188 non-null   float64\n",
      " 9   IS_pds_l8_ndw                  1181 non-null   float64\n",
      " 10  IS_pds_l10_dw                  1181 non-null   float64\n",
      " 11  IS_pds_l8_stdev                1174 non-null   float64\n",
      " 12  GMST(m)                        1188 non-null   float64\n",
      " 13  GMS_pds_l40_ndw                1181 non-null   float64\n",
      " 14  GMST_to_GMS_pds_l40_ndw_ratio  1181 non-null   float64\n",
      " 15  Constructors                   1188 non-null   object \n",
      " 16  Words                          1188 non-null   int64  \n",
      " 17  Blocks                         1188 non-null   int64  \n",
      " 18  Unused_Letters                 1188 non-null   int64  \n",
      " 19  Stacks                         1188 non-null   int64  \n",
      " 20  Unique_Answers                 1188 non-null   int64  \n",
      " 21  Rebus_Count                    1188 non-null   int64  \n",
      " 22  Rebus_Unique                   1188 non-null   int64  \n",
      " 23  Cheater_Squares                1188 non-null   int64  \n",
      " 24  AWL                            1188 non-null   float64\n",
      " 25  Scrabble_Score                 1113 non-null   float64\n",
      " 26  Scrabble_Avg                   1188 non-null   float64\n",
      " 27  FITB                           1188 non-null   int64  \n",
      " 28  Cross_Ref_Clues                1188 non-null   int64  \n",
      " 29  Scrabble_Illegal               1188 non-null   int64  \n",
      " 30  Open_Squares                   1188 non-null   int64  \n",
      " 31  Freshness_Factor               1188 non-null   float64\n",
      " 32  Overall_Freshness%             1188 non-null   float64\n",
      " 33  Day_Freshness%                 1188 non-null   float64\n",
      " 34  Duplicate_Clues                1188 non-null   int64  \n",
      " 35  Circle_Count                   1188 non-null   int64  \n",
      " 36  Shade_Count                    1188 non-null   int64  \n",
      " 37  Unusual_Sym                    1188 non-null   int64  \n",
      " 38  Black_Square_Fill              1188 non-null   int64  \n",
      " 39  Outside_Grid                   1188 non-null   int64  \n",
      " 40  Unchecked_Sq                   1188 non-null   int64  \n",
      " 41  Uniclue                        1188 non-null   int64  \n",
      " 42  Duplicate_Answers              1188 non-null   int64  \n",
      " 43  Quantum                        1188 non-null   int64  \n",
      " 44  Wordplay                       1055 non-null   float64\n",
      " 45  IS_pds_l25_dw                  1181 non-null   float64\n",
      " 46  IS_pds_l40_dw                  1181 non-null   float64\n",
      " 47  IS_pds_l25_stdev               1174 non-null   float64\n",
      " 48  IS_pds_l40_stdev               1174 non-null   float64\n",
      "dtypes: float64(20), int64(23), object(6)\n",
      "memory usage: 454.9+ KB\n"
     ]
    }
   ],
   "source": [
    "df.info()"
   ]
  },
  {
   "cell_type": "markdown",
   "id": "58d17799",
   "metadata": {},
   "source": [
    "### Create Feature Variants for Testing"
   ]
  },
  {
   "cell_type": "markdown",
   "id": "8fa480d1",
   "metadata": {},
   "source": [
    "### Filter Data"
   ]
  },
  {
   "cell_type": "code",
   "execution_count": 197,
   "id": "70a42338",
   "metadata": {},
   "outputs": [],
   "source": [
    "# strip down df to just the columns we need to evaluate decay function and number of day-specific puzzles to include\n",
    "df1 = df[['DOW', 'Comp_Date', 'Comp_Date_str', 'IS2_ST(m)']]"
   ]
  },
  {
   "cell_type": "code",
   "execution_count": 198,
   "id": "51495d46",
   "metadata": {},
   "outputs": [],
   "source": [
    "#Filter out Sunday\n",
    "df1 =df1[df1[\"DOW\"]!=\"Sunday\"]"
   ]
  },
  {
   "cell_type": "code",
   "execution_count": 199,
   "id": "94a9a066",
   "metadata": {},
   "outputs": [],
   "source": [
    "#Remove the first solve period (2018-2019) to calculate sample averages by day\n",
    "df1 = df1[df1['Comp_Date_str'].str.contains(\"2020|2021|2022|2023|2024\")]"
   ]
  },
  {
   "cell_type": "code",
   "execution_count": 200,
   "id": "ea12c348",
   "metadata": {},
   "outputs": [
    {
     "name": "stdout",
     "output_type": "stream",
     "text": [
      "<class 'pandas.core.frame.DataFrame'>\n",
      "Int64Index: 942 entries, 0 to 1177\n",
      "Data columns (total 4 columns):\n",
      " #   Column         Non-Null Count  Dtype  \n",
      "---  ------         --------------  -----  \n",
      " 0   DOW            942 non-null    object \n",
      " 1   Comp_Date      942 non-null    object \n",
      " 2   Comp_Date_str  942 non-null    object \n",
      " 3   IS2_ST(m)      942 non-null    float64\n",
      "dtypes: float64(1), object(3)\n",
      "memory usage: 36.8+ KB\n"
     ]
    }
   ],
   "source": [
    "df1.info()"
   ]
  },
  {
   "cell_type": "code",
   "execution_count": 69,
   "id": "a63e057a",
   "metadata": {},
   "outputs": [],
   "source": [
    "#IS_pds_l5_dw\n",
    "#Provides decay-weighted(dw), puzzle day-specific (pds) mean solve time performance for IS2 over the previous 5 puzzles relative to a given puzzle\n",
    "# Note that the sort is by completion date for IS2, as completion date was avaiable \n",
    "# Note also that, unlike the 10-puzzle moving average, this weighted average does NOT include the \"puzzle at hand\" itself\n",
    "\n",
    "df1 = df1.sort_values(by=['DOW', 'Comp_Date'], ascending = False)\n",
    "\n",
    "# Gradual decay\n",
    "# w = np.arange(1,6)\n",
    "# w = list(w)\n",
    "\n",
    "# No decay\n",
    "w = np.ones(5)\n",
    "w = list(w)\n",
    "\n",
    "df1[\"IS_pds_l5_dw_1\"] = df1.groupby(['DOW'])['IS2_ST(m)'].shift(-1)*w[0]\n",
    "df1[\"IS_pds_l5_dw_2\"] = df1.groupby(['DOW'])['IS2_ST(m)'].shift(-2)*w[1]\n",
    "df1[\"IS_pds_l5_dw_3\"] = df1.groupby(['DOW'])['IS2_ST(m)'].shift(-3)*w[2]\n",
    "df1[\"IS_pds_l5_dw_4\"] = df1.groupby(['DOW'])['IS2_ST(m)'].shift(-4)*w[3]\n",
    "df1[\"IS_pds_l5_dw_5\"] = df1.groupby(['DOW'])['IS2_ST(m)'].shift(-5)*w[4]\n",
    "\n",
    "df1[\"IS_pds_l5_dw_1_ct\"] = (df1.groupby(['DOW'])['IS2_ST(m)'].shift(-1)/df1.groupby(['DOW'])['IS2_ST(m)'].shift(-1))*w[0]\n",
    "df1[\"IS_pds_l5_dw_2_ct\"] = (df1.groupby(['DOW'])['IS2_ST(m)'].shift(-2)/df1.groupby(['DOW'])['IS2_ST(m)'].shift(-2))*w[1]\n",
    "df1[\"IS_pds_l5_dw_3_ct\"] = (df1.groupby(['DOW'])['IS2_ST(m)'].shift(-3)/df1.groupby(['DOW'])['IS2_ST(m)'].shift(-3))*w[2]\n",
    "df1[\"IS_pds_l5_dw_4_ct\"] = (df1.groupby(['DOW'])['IS2_ST(m)'].shift(-4)/df1.groupby(['DOW'])['IS2_ST(m)'].shift(-4))*w[3]\n",
    "df1[\"IS_pds_l5_dw_5_ct\"] = (df1.groupby(['DOW'])['IS2_ST(m)'].shift(-5)/df1.groupby(['DOW'])['IS2_ST(m)'].shift(-5))*w[4]\n",
    "\n",
    "df1[\"IS_pds_l5_ws\"] = df1[[\"IS_pds_l5_dw_1\", \"IS_pds_l5_dw_2\", \"IS_pds_l5_dw_3\", \"IS_pds_l5_dw_4\", \"IS_pds_l5_dw_5\"]].sum(axis=1)\n",
    "df1[\"IS_pds_l5_ws_ct\"] = df1[[\"IS_pds_l5_dw_1_ct\", \"IS_pds_l5_dw_2_ct\", \"IS_pds_l5_dw_3_ct\", \"IS_pds_l5_dw_4_ct\", \"IS_pds_l5_dw_5_ct\"]].sum(axis=1)\n",
    "df1[\"IS_pds_l5_dw\"] = df1[\"IS_pds_l5_ws\"]/df1[\"IS_pds_l5_ws_ct\"]\n",
    "\n",
    "# Deleting transient columns\n",
    "df1 = df1.drop([\"IS_pds_l5_dw_1\", \"IS_pds_l5_dw_2\", \"IS_pds_l5_dw_3\", \"IS_pds_l5_dw_4\", \"IS_pds_l5_dw_5\", \"IS_pds_l5_ws\", \"IS_pds_l5_dw_1_ct\", \"IS_pds_l5_dw_2_ct\", \"IS_pds_l5_dw_3_ct\", \"IS_pds_l5_dw_4_ct\", \"IS_pds_l5_dw_5_ct\", \"IS_pds_l5_ws_ct\"], axis = 1)"
   ]
  },
  {
   "cell_type": "code",
   "execution_count": 136,
   "id": "6af1e0e8",
   "metadata": {},
   "outputs": [],
   "source": [
    "#IS_pds_l7_dw\n",
    "#Provides decay-weighted(dw), puzzle day-specific (pds) mean solve time performance for IS2 over the previous 7 puzzles relative to a given puzzle\n",
    "# Note that the sort is by completion date for IS2, as completion date was avaiable \n",
    "# Note also that, unlike the 10-puzzle moving average, this weighted average does NOT include the \"puzzle at hand\" itself\n",
    "\n",
    "df1 = df1.sort_values(by=['DOW', 'Comp_Date'], ascending = False)\n",
    "\n",
    "# Gradual decay\n",
    "# w = np.arange(1,8)\n",
    "# w = list(w)\n",
    "\n",
    "# No decay\n",
    "w = np.ones(7)\n",
    "w = list(w)\n",
    "\n",
    "df1[\"IS_pds_l7_dw_1\"] = df1.groupby(['DOW'])['IS2_ST(m)'].shift(-1)*w[0]\n",
    "df1[\"IS_pds_l7_dw_2\"] = df1.groupby(['DOW'])['IS2_ST(m)'].shift(-2)*w[1]\n",
    "df1[\"IS_pds_l7_dw_3\"] = df1.groupby(['DOW'])['IS2_ST(m)'].shift(-3)*w[2]\n",
    "df1[\"IS_pds_l7_dw_4\"] = df1.groupby(['DOW'])['IS2_ST(m)'].shift(-4)*w[3]\n",
    "df1[\"IS_pds_l7_dw_5\"] = df1.groupby(['DOW'])['IS2_ST(m)'].shift(-5)*w[4]\n",
    "df1[\"IS_pds_l7_dw_6\"] = df1.groupby(['DOW'])['IS2_ST(m)'].shift(-6)*w[5]\n",
    "df1[\"IS_pds_l7_dw_7\"] = df1.groupby(['DOW'])['IS2_ST(m)'].shift(-7)*w[6]\n",
    "\n",
    "df1[\"IS_pds_l7_dw_1_ct\"] = (df1.groupby(['DOW'])['IS2_ST(m)'].shift(-1)/df1.groupby(['DOW'])['IS2_ST(m)'].shift(-1))*w[0]\n",
    "df1[\"IS_pds_l7_dw_2_ct\"] = (df1.groupby(['DOW'])['IS2_ST(m)'].shift(-2)/df1.groupby(['DOW'])['IS2_ST(m)'].shift(-2))*w[1]\n",
    "df1[\"IS_pds_l7_dw_3_ct\"] = (df1.groupby(['DOW'])['IS2_ST(m)'].shift(-3)/df1.groupby(['DOW'])['IS2_ST(m)'].shift(-3))*w[2]\n",
    "df1[\"IS_pds_l7_dw_4_ct\"] = (df1.groupby(['DOW'])['IS2_ST(m)'].shift(-4)/df1.groupby(['DOW'])['IS2_ST(m)'].shift(-4))*w[3]\n",
    "df1[\"IS_pds_l7_dw_5_ct\"] = (df1.groupby(['DOW'])['IS2_ST(m)'].shift(-5)/df1.groupby(['DOW'])['IS2_ST(m)'].shift(-5))*w[4]\n",
    "df1[\"IS_pds_l7_dw_6_ct\"] = (df1.groupby(['DOW'])['IS2_ST(m)'].shift(-6)/df1.groupby(['DOW'])['IS2_ST(m)'].shift(-6))*w[5]\n",
    "df1[\"IS_pds_l7_dw_7_ct\"] = (df1.groupby(['DOW'])['IS2_ST(m)'].shift(-7)/df1.groupby(['DOW'])['IS2_ST(m)'].shift(-7))*w[6]\n",
    "\n",
    "\n",
    "df1[\"IS_pds_l7_ws\"] = df1[[\"IS_pds_l7_dw_1\", \"IS_pds_l7_dw_2\", \"IS_pds_l7_dw_3\", \"IS_pds_l7_dw_4\", \"IS_pds_l7_dw_5\", \"IS_pds_l7_dw_6\", \"IS_pds_l7_dw_7\"]].sum(axis=1)\n",
    "df1[\"IS_pds_l7_ws_ct\"] = df1[[\"IS_pds_l7_dw_1_ct\", \"IS_pds_l7_dw_2_ct\", \"IS_pds_l7_dw_3_ct\", \"IS_pds_l7_dw_4_ct\", \"IS_pds_l7_dw_5_ct\", \"IS_pds_l7_dw_6_ct\", \"IS_pds_l7_dw_7_ct\"]].sum(axis=1)\n",
    "df1[\"IS_pds_l7_dw\"] = df1[\"IS_pds_l7_ws\"]/df1[\"IS_pds_l7_ws_ct\"]\n",
    "\n",
    "# Deleting transient columns\n",
    "df1 = df1.drop([\"IS_pds_l7_dw_1\", \"IS_pds_l7_dw_2\", \"IS_pds_l7_dw_3\", \"IS_pds_l7_dw_4\", \"IS_pds_l7_dw_5\", \"IS_pds_l7_dw_6\", \"IS_pds_l7_dw_7\", \"IS_pds_l7_ws\", \"IS_pds_l7_dw_1_ct\", \"IS_pds_l7_dw_2_ct\", \"IS_pds_l7_dw_3_ct\", \"IS_pds_l7_dw_4_ct\", \"IS_pds_l7_dw_5_ct\", \"IS_pds_l7_dw_6_ct\", \"IS_pds_l7_dw_7_ct\", \"IS_pds_l7_ws_ct\"], axis = 1)"
   ]
  },
  {
   "cell_type": "code",
   "execution_count": 201,
   "id": "1ab3bda3",
   "metadata": {},
   "outputs": [],
   "source": [
    "#IS_pds_l8_dw\n",
    "#Provides decay-weighted(dw), puzzle day-specific (pds) mean solve time performance for IS2 over the previous 8 puzzles relative to a given puzzle\n",
    "# Note that the sort is by completion date for IS2, as completion date was avaiable \n",
    "# Note also that, unlike the 10-puzzle moving average, this weighted average does NOT include the \"puzzle at hand\" itself\n",
    "\n",
    "df1 = df1.sort_values(by=['DOW', 'Comp_Date'], ascending = False)\n",
    "\n",
    "# Gradual decay\n",
    "# w = np.arange(1,9)\n",
    "# w = list(w)\n",
    "\n",
    "# No decay\n",
    "w = np.ones(8)\n",
    "w = list(w)\n",
    "\n",
    "# Partial decay\n",
    "#w=[8,7,6,5,4,4,4,4]\n",
    "\n",
    "# Partial decay v2\n",
    "#w=[8,7,6,5,4,4,2,2]\n",
    "\n",
    "# Partial decay v3\n",
    "# w=[8,7,6,5,4,4,3,3]\n",
    "\n",
    "# Partial decay v4\n",
    "#w=[8,7,6,5,4,4,3,2]\n",
    "\n",
    "# Partial decay v5\n",
    "# w=[8,7,6,4,4,4,4,4]\n",
    "\n",
    "# Partial decay v6\n",
    "# w=[8,7,4,4,4,4,4,4]\n",
    "\n",
    "# Partial decay v7\n",
    "# w=[8,6,6,4,4,4,4,4]\n",
    "\n",
    "df1[\"IS_pds_l8_dw_1\"] = df1.groupby(['DOW'])['IS2_ST(m)'].shift(-1)*w[0]\n",
    "df1[\"IS_pds_l8_dw_2\"] = df1.groupby(['DOW'])['IS2_ST(m)'].shift(-2)*w[1]\n",
    "df1[\"IS_pds_l8_dw_3\"] = df1.groupby(['DOW'])['IS2_ST(m)'].shift(-3)*w[2]\n",
    "df1[\"IS_pds_l8_dw_4\"] = df1.groupby(['DOW'])['IS2_ST(m)'].shift(-4)*w[3]\n",
    "df1[\"IS_pds_l8_dw_5\"] = df1.groupby(['DOW'])['IS2_ST(m)'].shift(-5)*w[4]\n",
    "df1[\"IS_pds_l8_dw_6\"] = df1.groupby(['DOW'])['IS2_ST(m)'].shift(-6)*w[5]\n",
    "df1[\"IS_pds_l8_dw_7\"] = df1.groupby(['DOW'])['IS2_ST(m)'].shift(-7)*w[6]\n",
    "df1[\"IS_pds_l8_dw_8\"] = df1.groupby(['DOW'])['IS2_ST(m)'].shift(-8)*w[7]\n",
    "\n",
    "df1[\"IS_pds_l8_dw_1_ct\"] = (df1.groupby(['DOW'])['IS2_ST(m)'].shift(-1)/df1.groupby(['DOW'])['IS2_ST(m)'].shift(-1))*w[0]\n",
    "df1[\"IS_pds_l8_dw_2_ct\"] = (df1.groupby(['DOW'])['IS2_ST(m)'].shift(-2)/df1.groupby(['DOW'])['IS2_ST(m)'].shift(-2))*w[1]\n",
    "df1[\"IS_pds_l8_dw_3_ct\"] = (df1.groupby(['DOW'])['IS2_ST(m)'].shift(-3)/df1.groupby(['DOW'])['IS2_ST(m)'].shift(-3))*w[2]\n",
    "df1[\"IS_pds_l8_dw_4_ct\"] = (df1.groupby(['DOW'])['IS2_ST(m)'].shift(-4)/df1.groupby(['DOW'])['IS2_ST(m)'].shift(-4))*w[3]\n",
    "df1[\"IS_pds_l8_dw_5_ct\"] = (df1.groupby(['DOW'])['IS2_ST(m)'].shift(-5)/df1.groupby(['DOW'])['IS2_ST(m)'].shift(-5))*w[4]\n",
    "df1[\"IS_pds_l8_dw_6_ct\"] = (df1.groupby(['DOW'])['IS2_ST(m)'].shift(-6)/df1.groupby(['DOW'])['IS2_ST(m)'].shift(-6))*w[5]\n",
    "df1[\"IS_pds_l8_dw_7_ct\"] = (df1.groupby(['DOW'])['IS2_ST(m)'].shift(-7)/df1.groupby(['DOW'])['IS2_ST(m)'].shift(-7))*w[6]\n",
    "df1[\"IS_pds_l8_dw_8_ct\"] = (df1.groupby(['DOW'])['IS2_ST(m)'].shift(-8)/df1.groupby(['DOW'])['IS2_ST(m)'].shift(-8))*w[7]\n",
    "\n",
    "df1[\"IS_pds_l8_ws\"] = df1[[\"IS_pds_l8_dw_1\", \"IS_pds_l8_dw_2\", \"IS_pds_l8_dw_3\", \"IS_pds_l8_dw_4\", \"IS_pds_l8_dw_5\", \"IS_pds_l8_dw_6\", \"IS_pds_l8_dw_7\", \"IS_pds_l8_dw_8\"]].sum(axis=1)\n",
    "df1[\"IS_pds_l8_ws_ct\"] = df1[[\"IS_pds_l8_dw_1_ct\", \"IS_pds_l8_dw_2_ct\", \"IS_pds_l8_dw_3_ct\", \"IS_pds_l8_dw_4_ct\", \"IS_pds_l8_dw_5_ct\", \"IS_pds_l8_dw_6_ct\", \"IS_pds_l8_dw_7_ct\", \"IS_pds_l8_dw_8_ct\"]].sum(axis=1)\n",
    "df1[\"IS_pds_l8_dw\"] = df1[\"IS_pds_l8_ws\"]/df1[\"IS_pds_l8_ws_ct\"]\n",
    "\n",
    "# Deleting transient columns\n",
    "df1 = df1.drop([\"IS_pds_l8_dw_1\", \"IS_pds_l8_dw_2\", \"IS_pds_l8_dw_3\", \"IS_pds_l8_dw_4\", \"IS_pds_l8_dw_5\", \"IS_pds_l8_dw_6\", \"IS_pds_l8_dw_7\", \"IS_pds_l8_dw_8\", \"IS_pds_l8_ws\", \"IS_pds_l8_dw_1_ct\", \"IS_pds_l8_dw_2_ct\", \"IS_pds_l8_dw_3_ct\", \"IS_pds_l8_dw_4_ct\", \"IS_pds_l8_dw_5_ct\", \"IS_pds_l8_dw_6_ct\", \"IS_pds_l8_dw_7_ct\", \"IS_pds_l8_dw_8_ct\", \"IS_pds_l8_ws_ct\"], axis = 1)"
   ]
  },
  {
   "cell_type": "code",
   "execution_count": 258,
   "id": "29b55a29",
   "metadata": {},
   "outputs": [],
   "source": [
    "#IS_pds_l9_dw\n",
    "#Provides decay-weighted(dw), puzzle day-specific (pds) mean solve time performance for IS2 over the previous 9 puzzles relative to a given puzzle\n",
    "# Note that the sort is by completion date for IS2, as completion date was avaiable \n",
    "# Note also that, unlike the 10-puzzle moving average, this weighted average does NOT include the \"puzzle at hand\" itself\n",
    "\n",
    "df1 = df1.sort_values(by=['DOW', 'Comp_Date'], ascending = False)\n",
    "\n",
    "# Gradual decay\n",
    "# w = np.arange(1,10)\n",
    "# w = list(w)\n",
    "\n",
    "# No decay\n",
    "# w = np.ones(9)\n",
    "# w = list(w)\n",
    "\n",
    "df1[\"IS_pds_l9_dw_1\"] = df1.groupby(['DOW'])['IS2_ST(m)'].shift(-1)*w[0]\n",
    "df1[\"IS_pds_l9_dw_2\"] = df1.groupby(['DOW'])['IS2_ST(m)'].shift(-2)*w[1]\n",
    "df1[\"IS_pds_l9_dw_3\"] = df1.groupby(['DOW'])['IS2_ST(m)'].shift(-3)*w[2]\n",
    "df1[\"IS_pds_l9_dw_4\"] = df1.groupby(['DOW'])['IS2_ST(m)'].shift(-4)*w[3]\n",
    "df1[\"IS_pds_l9_dw_5\"] = df1.groupby(['DOW'])['IS2_ST(m)'].shift(-5)*w[4]\n",
    "df1[\"IS_pds_l9_dw_6\"] = df1.groupby(['DOW'])['IS2_ST(m)'].shift(-6)*w[5]\n",
    "df1[\"IS_pds_l9_dw_7\"] = df1.groupby(['DOW'])['IS2_ST(m)'].shift(-7)*w[6]\n",
    "df1[\"IS_pds_l9_dw_8\"] = df1.groupby(['DOW'])['IS2_ST(m)'].shift(-8)*w[7]\n",
    "df1[\"IS_pds_l9_dw_9\"] = df1.groupby(['DOW'])['IS2_ST(m)'].shift(-9)*w[8]\n",
    "\n",
    "df1[\"IS_pds_l9_dw_1_ct\"] = (df1.groupby(['DOW'])['IS2_ST(m)'].shift(-1)/df1.groupby(['DOW'])['IS2_ST(m)'].shift(-1))*w[0]\n",
    "df1[\"IS_pds_l9_dw_2_ct\"] = (df1.groupby(['DOW'])['IS2_ST(m)'].shift(-2)/df1.groupby(['DOW'])['IS2_ST(m)'].shift(-2))*w[1]\n",
    "df1[\"IS_pds_l9_dw_3_ct\"] = (df1.groupby(['DOW'])['IS2_ST(m)'].shift(-3)/df1.groupby(['DOW'])['IS2_ST(m)'].shift(-3))*w[2]\n",
    "df1[\"IS_pds_l9_dw_4_ct\"] = (df1.groupby(['DOW'])['IS2_ST(m)'].shift(-4)/df1.groupby(['DOW'])['IS2_ST(m)'].shift(-4))*w[3]\n",
    "df1[\"IS_pds_l9_dw_5_ct\"] = (df1.groupby(['DOW'])['IS2_ST(m)'].shift(-5)/df1.groupby(['DOW'])['IS2_ST(m)'].shift(-5))*w[4]\n",
    "df1[\"IS_pds_l9_dw_6_ct\"] = (df1.groupby(['DOW'])['IS2_ST(m)'].shift(-6)/df1.groupby(['DOW'])['IS2_ST(m)'].shift(-6))*w[5]\n",
    "df1[\"IS_pds_l9_dw_7_ct\"] = (df1.groupby(['DOW'])['IS2_ST(m)'].shift(-7)/df1.groupby(['DOW'])['IS2_ST(m)'].shift(-7))*w[6]\n",
    "df1[\"IS_pds_l9_dw_8_ct\"] = (df1.groupby(['DOW'])['IS2_ST(m)'].shift(-8)/df1.groupby(['DOW'])['IS2_ST(m)'].shift(-8))*w[7]\n",
    "df1[\"IS_pds_l9_dw_9_ct\"] = (df1.groupby(['DOW'])['IS2_ST(m)'].shift(-9)/df1.groupby(['DOW'])['IS2_ST(m)'].shift(-9))*w[8]\n",
    "\n",
    "df1[\"IS_pds_l9_ws\"] = df1[[\"IS_pds_l9_dw_1\", \"IS_pds_l9_dw_2\", \"IS_pds_l9_dw_3\", \"IS_pds_l9_dw_4\", \"IS_pds_l9_dw_5\", \"IS_pds_l9_dw_6\", \"IS_pds_l9_dw_7\", \"IS_pds_l9_dw_8\", \"IS_pds_l9_dw_9\"]].sum(axis=1)\n",
    "df1[\"IS_pds_l9_ws_ct\"] = df1[[\"IS_pds_l9_dw_1_ct\", \"IS_pds_l9_dw_2_ct\", \"IS_pds_l9_dw_3_ct\", \"IS_pds_l9_dw_4_ct\", \"IS_pds_l9_dw_5_ct\", \"IS_pds_l9_dw_6_ct\", \"IS_pds_l9_dw_7_ct\", \"IS_pds_l9_dw_8_ct\", \"IS_pds_l9_dw_9_ct\"]].sum(axis=1)\n",
    "df1[\"IS_pds_l9_dw\"] = df1[\"IS_pds_l9_ws\"]/df1[\"IS_pds_l9_ws_ct\"]\n",
    "\n",
    "# Deleting transient columns\n",
    "df1 = df1.drop([\"IS_pds_l9_dw_1\", \"IS_pds_l9_dw_2\", \"IS_pds_l9_dw_3\", \"IS_pds_l9_dw_4\", \"IS_pds_l9_dw_5\", \"IS_pds_l9_dw_6\", \"IS_pds_l9_dw_7\", \"IS_pds_l9_dw_8\", \"IS_pds_l9_dw_9\", \"IS_pds_l9_ws\", \"IS_pds_l9_dw_1_ct\", \"IS_pds_l9_dw_2_ct\", \"IS_pds_l9_dw_3_ct\", \"IS_pds_l9_dw_4_ct\", \"IS_pds_l9_dw_5_ct\", \"IS_pds_l9_dw_6_ct\", \"IS_pds_l9_dw_7_ct\", \"IS_pds_l9_dw_8_ct\", \"IS_pds_l9_dw_9_ct\", \"IS_pds_l9_ws_ct\"], axis = 1)"
   ]
  },
  {
   "cell_type": "code",
   "execution_count": 317,
   "id": "41d2bebe",
   "metadata": {},
   "outputs": [],
   "source": [
    "#IS_pds_l10_dw\n",
    "#Provides decay-weighted(dw), puzzle day-specific (pds) mean solve time performance for IS2 over the previous 10 puzzles relative to a given puzzle\n",
    "# Note that the sort is by completion date for IS2, as completion date was avaiable \n",
    "# Note also that, unlike the 10-puzzle moving average, this weighted average does NOT include the \"puzzle at hand\" itself\n",
    "\n",
    "df1 = df1.sort_values(by=['DOW', 'Comp_Date'], ascending = False)\n",
    "\n",
    "# Gradual decay\n",
    "# w = np.arange(1,11)\n",
    "# w = list(w)\n",
    "\n",
    "# No decay\n",
    "w = np.ones(10)\n",
    "w = list(w)\n",
    "\n",
    "df1[\"IS_pds_l10_dw_1\"] = df1.groupby(['DOW'])['IS2_ST(m)'].shift(-1)*w[0]\n",
    "df1[\"IS_pds_l10_dw_2\"] = df1.groupby(['DOW'])['IS2_ST(m)'].shift(-2)*w[1]\n",
    "df1[\"IS_pds_l10_dw_3\"] = df1.groupby(['DOW'])['IS2_ST(m)'].shift(-3)*w[2]\n",
    "df1[\"IS_pds_l10_dw_4\"] = df1.groupby(['DOW'])['IS2_ST(m)'].shift(-4)*w[3]\n",
    "df1[\"IS_pds_l10_dw_5\"] = df1.groupby(['DOW'])['IS2_ST(m)'].shift(-5)*w[4]\n",
    "df1[\"IS_pds_l10_dw_6\"] = df1.groupby(['DOW'])['IS2_ST(m)'].shift(-6)*w[5]\n",
    "df1[\"IS_pds_l10_dw_7\"] = df1.groupby(['DOW'])['IS2_ST(m)'].shift(-7)*w[6]\n",
    "df1[\"IS_pds_l10_dw_8\"] = df1.groupby(['DOW'])['IS2_ST(m)'].shift(-8)*w[7]\n",
    "df1[\"IS_pds_l10_dw_9\"] = df1.groupby(['DOW'])['IS2_ST(m)'].shift(-9)*w[8]\n",
    "df1[\"IS_pds_l10_dw_10\"] = df1.groupby(['DOW'])['IS2_ST(m)'].shift(-10)*w[9]\n",
    "\n",
    "df1[\"IS_pds_l10_dw_1_ct\"] = (df1.groupby(['DOW'])['IS2_ST(m)'].shift(-1)/df1.groupby(['DOW'])['IS2_ST(m)'].shift(-1))*w[0]\n",
    "df1[\"IS_pds_l10_dw_2_ct\"] = (df1.groupby(['DOW'])['IS2_ST(m)'].shift(-2)/df1.groupby(['DOW'])['IS2_ST(m)'].shift(-2))*w[1]\n",
    "df1[\"IS_pds_l10_dw_3_ct\"] = (df1.groupby(['DOW'])['IS2_ST(m)'].shift(-3)/df1.groupby(['DOW'])['IS2_ST(m)'].shift(-3))*w[2]\n",
    "df1[\"IS_pds_l10_dw_4_ct\"] = (df1.groupby(['DOW'])['IS2_ST(m)'].shift(-4)/df1.groupby(['DOW'])['IS2_ST(m)'].shift(-4))*w[3]\n",
    "df1[\"IS_pds_l10_dw_5_ct\"] = (df1.groupby(['DOW'])['IS2_ST(m)'].shift(-5)/df1.groupby(['DOW'])['IS2_ST(m)'].shift(-5))*w[4]\n",
    "df1[\"IS_pds_l10_dw_6_ct\"] = (df1.groupby(['DOW'])['IS2_ST(m)'].shift(-6)/df1.groupby(['DOW'])['IS2_ST(m)'].shift(-6))*w[5]\n",
    "df1[\"IS_pds_l10_dw_7_ct\"] = (df1.groupby(['DOW'])['IS2_ST(m)'].shift(-7)/df1.groupby(['DOW'])['IS2_ST(m)'].shift(-7))*w[6]\n",
    "df1[\"IS_pds_l10_dw_8_ct\"] = (df1.groupby(['DOW'])['IS2_ST(m)'].shift(-8)/df1.groupby(['DOW'])['IS2_ST(m)'].shift(-8))*w[7]\n",
    "df1[\"IS_pds_l10_dw_9_ct\"] = (df1.groupby(['DOW'])['IS2_ST(m)'].shift(-9)/df1.groupby(['DOW'])['IS2_ST(m)'].shift(-9))*w[8]\n",
    "df1[\"IS_pds_l10_dw_10_ct\"] = (df1.groupby(['DOW'])['IS2_ST(m)'].shift(-10)/df1.groupby(['DOW'])['IS2_ST(m)'].shift(-10))*w[9]\n",
    "\n",
    "df1[\"IS_pds_l10_ws\"] = df1[[\"IS_pds_l10_dw_1\", \"IS_pds_l10_dw_2\", \"IS_pds_l10_dw_3\", \"IS_pds_l10_dw_4\", \"IS_pds_l10_dw_5\", \"IS_pds_l10_dw_6\", \"IS_pds_l10_dw_7\", \"IS_pds_l10_dw_8\", \"IS_pds_l10_dw_9\", \"IS_pds_l10_dw_10\"]].sum(axis=1)\n",
    "df1[\"IS_pds_l10_ws_ct\"] = df1[[\"IS_pds_l10_dw_1_ct\", \"IS_pds_l10_dw_2_ct\", \"IS_pds_l10_dw_3_ct\", \"IS_pds_l10_dw_4_ct\", \"IS_pds_l10_dw_5_ct\", \"IS_pds_l10_dw_6_ct\", \"IS_pds_l10_dw_7_ct\", \"IS_pds_l10_dw_8_ct\", \"IS_pds_l10_dw_9_ct\", \"IS_pds_l10_dw_10_ct\"]].sum(axis=1)\n",
    "df1[\"IS_pds_l10_dw\"] = df1[\"IS_pds_l10_ws\"]/df1[\"IS_pds_l10_ws_ct\"]\n",
    "\n",
    "# Deleting transient columns\n",
    "df1 = df1.drop([\"IS_pds_l10_dw_1\", \"IS_pds_l10_dw_2\", \"IS_pds_l10_dw_3\", \"IS_pds_l10_dw_4\", \"IS_pds_l10_dw_5\", \"IS_pds_l10_dw_6\", \"IS_pds_l10_dw_7\", \"IS_pds_l10_dw_8\", \"IS_pds_l10_dw_9\", \"IS_pds_l10_dw_10\", \"IS_pds_l10_ws\", \"IS_pds_l10_dw_1_ct\", \"IS_pds_l10_dw_2_ct\", \"IS_pds_l10_dw_3_ct\", \"IS_pds_l10_dw_4_ct\", \"IS_pds_l10_dw_5_ct\", \"IS_pds_l10_dw_6_ct\", \"IS_pds_l10_dw_7_ct\", \"IS_pds_l10_dw_8_ct\", \"IS_pds_l10_dw_9_ct\", \"IS_pds_l10_dw_10_ct\", \"IS_pds_l10_ws_ct\"], axis = 1)"
   ]
  },
  {
   "cell_type": "code",
   "execution_count": 485,
   "id": "52a814e8",
   "metadata": {},
   "outputs": [],
   "source": [
    "# #IS_pds_l11_dw\n",
    "# #Provides decay-weighted(dw), puzzle day-specific (pds) mean solve time performance for IS2 over the previous 12 puzzles relative to a given puzzle\n",
    "# # Note that the sort is by completion date for IS2, as completion date was avaiable \n",
    "# # Note also that, unlike the 10-puzzle moving average, this weighted average does NOT include the \"puzzle at hand\" itself\n",
    "\n",
    "df1 = df1.sort_values(by=['DOW', 'Comp_Date'], ascending = False)\n",
    "\n",
    "# Gradual decay\n",
    "# w = np.arange(1,12)\n",
    "# w = list(w)\n",
    "\n",
    "# No decay\n",
    "w = np.ones(11)\n",
    "w = list(w)\n",
    "\n",
    "df1[\"IS_pds_l11_dw_1\"] = df1.groupby(['DOW'])['IS2_ST(m)'].shift(-1)*w[0]\n",
    "df1[\"IS_pds_l11_dw_2\"] = df1.groupby(['DOW'])['IS2_ST(m)'].shift(-2)*w[1]\n",
    "df1[\"IS_pds_l11_dw_3\"] = df1.groupby(['DOW'])['IS2_ST(m)'].shift(-3)*w[2]\n",
    "df1[\"IS_pds_l11_dw_4\"] = df1.groupby(['DOW'])['IS2_ST(m)'].shift(-4)*w[3]\n",
    "df1[\"IS_pds_l11_dw_5\"] = df1.groupby(['DOW'])['IS2_ST(m)'].shift(-5)*w[4]\n",
    "df1[\"IS_pds_l11_dw_6\"] = df1.groupby(['DOW'])['IS2_ST(m)'].shift(-6)*w[5]\n",
    "df1[\"IS_pds_l11_dw_7\"] = df1.groupby(['DOW'])['IS2_ST(m)'].shift(-7)*w[6]\n",
    "df1[\"IS_pds_l11_dw_8\"] = df1.groupby(['DOW'])['IS2_ST(m)'].shift(-8)*w[7]\n",
    "df1[\"IS_pds_l11_dw_9\"] = df1.groupby(['DOW'])['IS2_ST(m)'].shift(-9)*w[8]\n",
    "df1[\"IS_pds_l11_dw_10\"] = df1.groupby(['DOW'])['IS2_ST(m)'].shift(-10)*w[9]\n",
    "df1[\"IS_pds_l11_dw_11\"] = df1.groupby(['DOW'])['IS2_ST(m)'].shift(-11)*w[10]\n",
    "\n",
    "df1[\"IS_pds_l11_dw_1_ct\"] = (df1.groupby(['DOW'])['IS2_ST(m)'].shift(-1)/df1.groupby(['DOW'])['IS2_ST(m)'].shift(-1))*w[0]\n",
    "df1[\"IS_pds_l11_dw_2_ct\"] = (df1.groupby(['DOW'])['IS2_ST(m)'].shift(-2)/df1.groupby(['DOW'])['IS2_ST(m)'].shift(-2))*w[1]\n",
    "df1[\"IS_pds_l11_dw_3_ct\"] = (df1.groupby(['DOW'])['IS2_ST(m)'].shift(-3)/df1.groupby(['DOW'])['IS2_ST(m)'].shift(-3))*w[2]\n",
    "df1[\"IS_pds_l11_dw_4_ct\"] = (df1.groupby(['DOW'])['IS2_ST(m)'].shift(-4)/df1.groupby(['DOW'])['IS2_ST(m)'].shift(-4))*w[3]\n",
    "df1[\"IS_pds_l11_dw_5_ct\"] = (df1.groupby(['DOW'])['IS2_ST(m)'].shift(-5)/df1.groupby(['DOW'])['IS2_ST(m)'].shift(-5))*w[4]\n",
    "df1[\"IS_pds_l11_dw_6_ct\"] = (df1.groupby(['DOW'])['IS2_ST(m)'].shift(-6)/df1.groupby(['DOW'])['IS2_ST(m)'].shift(-6))*w[5]\n",
    "df1[\"IS_pds_l11_dw_7_ct\"] = (df1.groupby(['DOW'])['IS2_ST(m)'].shift(-7)/df1.groupby(['DOW'])['IS2_ST(m)'].shift(-7))*w[6]\n",
    "df1[\"IS_pds_l11_dw_8_ct\"] = (df1.groupby(['DOW'])['IS2_ST(m)'].shift(-8)/df1.groupby(['DOW'])['IS2_ST(m)'].shift(-8))*w[7]\n",
    "df1[\"IS_pds_l11_dw_9_ct\"] = (df1.groupby(['DOW'])['IS2_ST(m)'].shift(-9)/df1.groupby(['DOW'])['IS2_ST(m)'].shift(-9))*w[8]\n",
    "df1[\"IS_pds_l11_dw_10_ct\"] = (df1.groupby(['DOW'])['IS2_ST(m)'].shift(-10)/df1.groupby(['DOW'])['IS2_ST(m)'].shift(-10))*w[9]\n",
    "df1[\"IS_pds_l11_dw_11_ct\"] = (df1.groupby(['DOW'])['IS2_ST(m)'].shift(-11)/df1.groupby(['DOW'])['IS2_ST(m)'].shift(-11))*w[10]\n",
    "\n",
    "df1[\"IS_pds_l11_ws\"] = df1[[\"IS_pds_l11_dw_1\", \"IS_pds_l11_dw_2\", \"IS_pds_l11_dw_3\", \"IS_pds_l11_dw_4\", \"IS_pds_l11_dw_5\", \"IS_pds_l11_dw_6\", \"IS_pds_l11_dw_7\", \"IS_pds_l11_dw_8\", \"IS_pds_l11_dw_9\", \"IS_pds_l11_dw_10\", \"IS_pds_l11_dw_11\"]].sum(axis=1)\n",
    "df1[\"IS_pds_l11_ws_ct\"] = df1[[\"IS_pds_l11_dw_1_ct\", \"IS_pds_l11_dw_2_ct\", \"IS_pds_l11_dw_3_ct\", \"IS_pds_l11_dw_4_ct\", \"IS_pds_l11_dw_5_ct\", \"IS_pds_l11_dw_6_ct\", \"IS_pds_l11_dw_7_ct\", \"IS_pds_l11_dw_8_ct\", \"IS_pds_l11_dw_9_ct\", \"IS_pds_l11_dw_10_ct\", \"IS_pds_l11_dw_11_ct\"]].sum(axis=1)\n",
    "df1[\"IS_pds_l11_dw\"] = df1[\"IS_pds_l11_ws\"]/df1[\"IS_pds_l11_ws_ct\"]\n",
    "\n",
    "# Deleting transient columns\n",
    "df1 = df1.drop([\"IS_pds_l11_dw_1\", \"IS_pds_l11_dw_2\", \"IS_pds_l11_dw_3\", \"IS_pds_l11_dw_4\", \"IS_pds_l11_dw_5\", \"IS_pds_l11_dw_6\", \"IS_pds_l11_dw_7\", \"IS_pds_l11_dw_8\", \"IS_pds_l11_dw_9\", \"IS_pds_l11_dw_10\", \"IS_pds_l11_dw_11\", \"IS_pds_l11_dw_1_ct\", \"IS_pds_l11_dw_2_ct\", \"IS_pds_l11_dw_3_ct\", \"IS_pds_l11_dw_4_ct\", \"IS_pds_l11_dw_5_ct\", \"IS_pds_l11_dw_6_ct\", \"IS_pds_l11_dw_7_ct\", \"IS_pds_l11_dw_8_ct\", \"IS_pds_l11_dw_9_ct\", \"IS_pds_l11_dw_10_ct\", \"IS_pds_l11_dw_11_ct\", \"IS_pds_l11_ws\", \"IS_pds_l11_ws_ct\"], axis = 1)"
   ]
  },
  {
   "cell_type": "code",
   "execution_count": 429,
   "id": "a5838c92",
   "metadata": {},
   "outputs": [],
   "source": [
    "# #IS_pds_l12_dw\n",
    "# #Provides decay-weighted(dw), puzzle day-specific (pds) mean solve time performance for IS2 over the previous 12 puzzles relative to a given puzzle\n",
    "# # Note that the sort is by completion date for IS2, as completion date was avaiable \n",
    "# # Note also that, unlike the 10-puzzle moving average, this weighted average does NOT include the \"puzzle at hand\" itself\n",
    "\n",
    "df1 = df1.sort_values(by=['DOW', 'Comp_Date'], ascending = False)\n",
    "\n",
    "# Gradual decay\n",
    "# w = np.arange(1,13)\n",
    "# w = list(w)\n",
    "\n",
    "# No decay\n",
    "w = np.ones(12)\n",
    "w = list(w)\n",
    "\n",
    "df1[\"IS_pds_l12_dw_1\"] = df1.groupby(['DOW'])['IS2_ST(m)'].shift(-1)*w[0]\n",
    "df1[\"IS_pds_l12_dw_2\"] = df1.groupby(['DOW'])['IS2_ST(m)'].shift(-2)*w[1]\n",
    "df1[\"IS_pds_l12_dw_3\"] = df1.groupby(['DOW'])['IS2_ST(m)'].shift(-3)*w[2]\n",
    "df1[\"IS_pds_l12_dw_4\"] = df1.groupby(['DOW'])['IS2_ST(m)'].shift(-4)*w[3]\n",
    "df1[\"IS_pds_l12_dw_5\"] = df1.groupby(['DOW'])['IS2_ST(m)'].shift(-5)*w[4]\n",
    "df1[\"IS_pds_l12_dw_6\"] = df1.groupby(['DOW'])['IS2_ST(m)'].shift(-6)*w[5]\n",
    "df1[\"IS_pds_l12_dw_7\"] = df1.groupby(['DOW'])['IS2_ST(m)'].shift(-7)*w[6]\n",
    "df1[\"IS_pds_l12_dw_8\"] = df1.groupby(['DOW'])['IS2_ST(m)'].shift(-8)*w[7]\n",
    "df1[\"IS_pds_l12_dw_9\"] = df1.groupby(['DOW'])['IS2_ST(m)'].shift(-9)*w[8]\n",
    "df1[\"IS_pds_l12_dw_10\"] = df1.groupby(['DOW'])['IS2_ST(m)'].shift(-10)*w[9]\n",
    "df1[\"IS_pds_l12_dw_11\"] = df1.groupby(['DOW'])['IS2_ST(m)'].shift(-11)*w[10]\n",
    "df1[\"IS_pds_l12_dw_12\"] = df1.groupby(['DOW'])['IS2_ST(m)'].shift(-12)*w[11]\n",
    "\n",
    "df1[\"IS_pds_l12_dw_1_ct\"] = (df1.groupby(['DOW'])['IS2_ST(m)'].shift(-1)/df1.groupby(['DOW'])['IS2_ST(m)'].shift(-1))*w[0]\n",
    "df1[\"IS_pds_l12_dw_2_ct\"] = (df1.groupby(['DOW'])['IS2_ST(m)'].shift(-2)/df1.groupby(['DOW'])['IS2_ST(m)'].shift(-2))*w[1]\n",
    "df1[\"IS_pds_l12_dw_3_ct\"] = (df1.groupby(['DOW'])['IS2_ST(m)'].shift(-3)/df1.groupby(['DOW'])['IS2_ST(m)'].shift(-3))*w[2]\n",
    "df1[\"IS_pds_l12_dw_4_ct\"] = (df1.groupby(['DOW'])['IS2_ST(m)'].shift(-4)/df1.groupby(['DOW'])['IS2_ST(m)'].shift(-4))*w[3]\n",
    "df1[\"IS_pds_l12_dw_5_ct\"] = (df1.groupby(['DOW'])['IS2_ST(m)'].shift(-5)/df1.groupby(['DOW'])['IS2_ST(m)'].shift(-5))*w[4]\n",
    "df1[\"IS_pds_l12_dw_6_ct\"] = (df1.groupby(['DOW'])['IS2_ST(m)'].shift(-6)/df1.groupby(['DOW'])['IS2_ST(m)'].shift(-6))*w[5]\n",
    "df1[\"IS_pds_l12_dw_7_ct\"] = (df1.groupby(['DOW'])['IS2_ST(m)'].shift(-7)/df1.groupby(['DOW'])['IS2_ST(m)'].shift(-7))*w[6]\n",
    "df1[\"IS_pds_l12_dw_8_ct\"] = (df1.groupby(['DOW'])['IS2_ST(m)'].shift(-8)/df1.groupby(['DOW'])['IS2_ST(m)'].shift(-8))*w[7]\n",
    "df1[\"IS_pds_l12_dw_9_ct\"] = (df1.groupby(['DOW'])['IS2_ST(m)'].shift(-9)/df1.groupby(['DOW'])['IS2_ST(m)'].shift(-9))*w[8]\n",
    "df1[\"IS_pds_l12_dw_10_ct\"] = (df1.groupby(['DOW'])['IS2_ST(m)'].shift(-10)/df1.groupby(['DOW'])['IS2_ST(m)'].shift(-10))*w[9]\n",
    "df1[\"IS_pds_l12_dw_11_ct\"] = (df1.groupby(['DOW'])['IS2_ST(m)'].shift(-11)/df1.groupby(['DOW'])['IS2_ST(m)'].shift(-11))*w[10]\n",
    "df1[\"IS_pds_l12_dw_12_ct\"] = (df1.groupby(['DOW'])['IS2_ST(m)'].shift(-12)/df1.groupby(['DOW'])['IS2_ST(m)'].shift(-12))*w[11]\n",
    "\n",
    "df1[\"IS_pds_l12_ws\"] = df1[[\"IS_pds_l12_dw_1\", \"IS_pds_l12_dw_2\", \"IS_pds_l12_dw_3\", \"IS_pds_l12_dw_4\", \"IS_pds_l12_dw_5\", \"IS_pds_l12_dw_6\", \"IS_pds_l12_dw_7\", \"IS_pds_l12_dw_8\", \"IS_pds_l12_dw_9\", \"IS_pds_l12_dw_10\", \"IS_pds_l12_dw_11\", \"IS_pds_l12_dw_12\"]].sum(axis=1)\n",
    "df1[\"IS_pds_l12_ws_ct\"] = df1[[\"IS_pds_l12_dw_1_ct\", \"IS_pds_l12_dw_2_ct\", \"IS_pds_l12_dw_3_ct\", \"IS_pds_l12_dw_4_ct\", \"IS_pds_l12_dw_5_ct\", \"IS_pds_l12_dw_6_ct\", \"IS_pds_l12_dw_7_ct\", \"IS_pds_l12_dw_8_ct\", \"IS_pds_l12_dw_9_ct\", \"IS_pds_l12_dw_10_ct\", \"IS_pds_l12_dw_11_ct\", \"IS_pds_l12_dw_12_ct\"]].sum(axis=1)\n",
    "df1[\"IS_pds_l12_dw\"] = df1[\"IS_pds_l12_ws\"]/df1[\"IS_pds_l12_ws_ct\"]\n",
    "\n",
    "# Deleting transient columns\n",
    "df1 = df1.drop([\"IS_pds_l12_dw_1\", \"IS_pds_l12_dw_2\", \"IS_pds_l12_dw_3\", \"IS_pds_l12_dw_4\", \"IS_pds_l12_dw_5\", \"IS_pds_l12_dw_6\", \"IS_pds_l12_dw_7\", \"IS_pds_l12_dw_8\", \"IS_pds_l12_dw_9\", \"IS_pds_l12_dw_10\", \"IS_pds_l12_dw_11\", \"IS_pds_l12_dw_12\", \"IS_pds_l12_dw_1_ct\", \"IS_pds_l12_dw_2_ct\", \"IS_pds_l12_dw_3_ct\", \"IS_pds_l12_dw_4_ct\", \"IS_pds_l12_dw_5_ct\", \"IS_pds_l12_dw_6_ct\", \"IS_pds_l12_dw_7_ct\", \"IS_pds_l12_dw_8_ct\", \"IS_pds_l12_dw_9_ct\", \"IS_pds_l12_dw_10_ct\", \"IS_pds_l12_dw_11_ct\", \"IS_pds_l12_dw_12_ct\", \"IS_pds_l12_ws\", \"IS_pds_l12_ws_ct\"], axis = 1)"
   ]
  },
  {
   "cell_type": "code",
   "execution_count": 373,
   "id": "abf241ed",
   "metadata": {},
   "outputs": [],
   "source": [
    "# #IS_pds_l15_dw\n",
    "# #Provides decay-weighted(dw), puzzle day-specific (pds) mean solve time performance for IS2 over the previous 15 puzzles relative to a given puzzle\n",
    "# # Note that the sort is by completion date for IS2, as completion date was avaiable \n",
    "# # Note also that, unlike the 10-puzzle moving average, this weighted average does NOT include the \"puzzle at hand\" itself\n",
    "\n",
    "df1 = df1.sort_values(by=['DOW', 'Comp_Date'], ascending = False)\n",
    "\n",
    "# Gradual decay\n",
    "# w = np.arange(1,16)\n",
    "# w = list(w)\n",
    "\n",
    "# No decay\n",
    "w = np.ones(15)\n",
    "w = list(w)\n",
    "\n",
    "df1[\"IS_pds_l15_dw_1\"] = df1.groupby(['DOW'])['IS2_ST(m)'].shift(-1)*w[0]\n",
    "df1[\"IS_pds_l15_dw_2\"] = df1.groupby(['DOW'])['IS2_ST(m)'].shift(-2)*w[1]\n",
    "df1[\"IS_pds_l15_dw_3\"] = df1.groupby(['DOW'])['IS2_ST(m)'].shift(-3)*w[2]\n",
    "df1[\"IS_pds_l15_dw_4\"] = df1.groupby(['DOW'])['IS2_ST(m)'].shift(-4)*w[3]\n",
    "df1[\"IS_pds_l15_dw_5\"] = df1.groupby(['DOW'])['IS2_ST(m)'].shift(-5)*w[4]\n",
    "df1[\"IS_pds_l15_dw_6\"] = df1.groupby(['DOW'])['IS2_ST(m)'].shift(-6)*w[5]\n",
    "df1[\"IS_pds_l15_dw_7\"] = df1.groupby(['DOW'])['IS2_ST(m)'].shift(-7)*w[6]\n",
    "df1[\"IS_pds_l15_dw_8\"] = df1.groupby(['DOW'])['IS2_ST(m)'].shift(-8)*w[7]\n",
    "df1[\"IS_pds_l15_dw_9\"] = df1.groupby(['DOW'])['IS2_ST(m)'].shift(-9)*w[8]\n",
    "df1[\"IS_pds_l15_dw_10\"] = df1.groupby(['DOW'])['IS2_ST(m)'].shift(-10)*w[9]\n",
    "df1[\"IS_pds_l15_dw_11\"] = df1.groupby(['DOW'])['IS2_ST(m)'].shift(-11)*w[10]\n",
    "df1[\"IS_pds_l15_dw_12\"] = df1.groupby(['DOW'])['IS2_ST(m)'].shift(-12)*w[11]\n",
    "df1[\"IS_pds_l15_dw_13\"] = df1.groupby(['DOW'])['IS2_ST(m)'].shift(-13)*w[12]\n",
    "df1[\"IS_pds_l15_dw_14\"] = df1.groupby(['DOW'])['IS2_ST(m)'].shift(-14)*w[13]\n",
    "df1[\"IS_pds_l15_dw_15\"] = df1.groupby(['DOW'])['IS2_ST(m)'].shift(-15)*w[14]\n",
    "\n",
    "df1[\"IS_pds_l15_dw_1_ct\"] = (df1.groupby(['DOW'])['IS2_ST(m)'].shift(-1)/df1.groupby(['DOW'])['IS2_ST(m)'].shift(-1))*w[0]\n",
    "df1[\"IS_pds_l15_dw_2_ct\"] = (df1.groupby(['DOW'])['IS2_ST(m)'].shift(-2)/df1.groupby(['DOW'])['IS2_ST(m)'].shift(-2))*w[1]\n",
    "df1[\"IS_pds_l15_dw_3_ct\"] = (df1.groupby(['DOW'])['IS2_ST(m)'].shift(-3)/df1.groupby(['DOW'])['IS2_ST(m)'].shift(-3))*w[2]\n",
    "df1[\"IS_pds_l15_dw_4_ct\"] = (df1.groupby(['DOW'])['IS2_ST(m)'].shift(-4)/df1.groupby(['DOW'])['IS2_ST(m)'].shift(-4))*w[3]\n",
    "df1[\"IS_pds_l15_dw_5_ct\"] = (df1.groupby(['DOW'])['IS2_ST(m)'].shift(-5)/df1.groupby(['DOW'])['IS2_ST(m)'].shift(-5))*w[4]\n",
    "df1[\"IS_pds_l15_dw_6_ct\"] = (df1.groupby(['DOW'])['IS2_ST(m)'].shift(-6)/df1.groupby(['DOW'])['IS2_ST(m)'].shift(-6))*w[5]\n",
    "df1[\"IS_pds_l15_dw_7_ct\"] = (df1.groupby(['DOW'])['IS2_ST(m)'].shift(-7)/df1.groupby(['DOW'])['IS2_ST(m)'].shift(-7))*w[6]\n",
    "df1[\"IS_pds_l15_dw_8_ct\"] = (df1.groupby(['DOW'])['IS2_ST(m)'].shift(-8)/df1.groupby(['DOW'])['IS2_ST(m)'].shift(-8))*w[7]\n",
    "df1[\"IS_pds_l15_dw_9_ct\"] = (df1.groupby(['DOW'])['IS2_ST(m)'].shift(-9)/df1.groupby(['DOW'])['IS2_ST(m)'].shift(-9))*w[8]\n",
    "df1[\"IS_pds_l15_dw_10_ct\"] = (df1.groupby(['DOW'])['IS2_ST(m)'].shift(-10)/df1.groupby(['DOW'])['IS2_ST(m)'].shift(-10))*w[9]\n",
    "df1[\"IS_pds_l15_dw_11_ct\"] = (df1.groupby(['DOW'])['IS2_ST(m)'].shift(-11)/df1.groupby(['DOW'])['IS2_ST(m)'].shift(-11))*w[10]\n",
    "df1[\"IS_pds_l15_dw_12_ct\"] = (df1.groupby(['DOW'])['IS2_ST(m)'].shift(-12)/df1.groupby(['DOW'])['IS2_ST(m)'].shift(-12))*w[11]\n",
    "df1[\"IS_pds_l15_dw_13_ct\"] = (df1.groupby(['DOW'])['IS2_ST(m)'].shift(-13)/df1.groupby(['DOW'])['IS2_ST(m)'].shift(-13))*w[12]\n",
    "df1[\"IS_pds_l15_dw_14_ct\"] = (df1.groupby(['DOW'])['IS2_ST(m)'].shift(-14)/df1.groupby(['DOW'])['IS2_ST(m)'].shift(-14))*w[13]\n",
    "df1[\"IS_pds_l15_dw_15_ct\"] = (df1.groupby(['DOW'])['IS2_ST(m)'].shift(-15)/df1.groupby(['DOW'])['IS2_ST(m)'].shift(-15))*w[14]\n",
    "\n",
    "df1[\"IS_pds_l15_ws\"] = df1[[\"IS_pds_l15_dw_1\", \"IS_pds_l15_dw_2\", \"IS_pds_l15_dw_3\", \"IS_pds_l15_dw_4\", \"IS_pds_l15_dw_5\", \"IS_pds_l15_dw_6\", \"IS_pds_l15_dw_7\", \"IS_pds_l15_dw_8\", \"IS_pds_l15_dw_9\", \"IS_pds_l15_dw_10\", \"IS_pds_l15_dw_11\", \"IS_pds_l15_dw_12\", \"IS_pds_l15_dw_13\", \"IS_pds_l15_dw_14\", \"IS_pds_l15_dw_15\"]].sum(axis=1)\n",
    "df1[\"IS_pds_l15_ws_ct\"] = df1[[\"IS_pds_l15_dw_1_ct\", \"IS_pds_l15_dw_2_ct\", \"IS_pds_l15_dw_3_ct\", \"IS_pds_l15_dw_4_ct\", \"IS_pds_l15_dw_5_ct\", \"IS_pds_l15_dw_6_ct\", \"IS_pds_l15_dw_7_ct\", \"IS_pds_l15_dw_8_ct\", \"IS_pds_l15_dw_9_ct\", \"IS_pds_l15_dw_10_ct\", \"IS_pds_l15_dw_11_ct\", \"IS_pds_l15_dw_12_ct\", \"IS_pds_l15_dw_13_ct\", \"IS_pds_l15_dw_14_ct\", \"IS_pds_l15_dw_15_ct\"]].sum(axis=1)\n",
    "df1[\"IS_pds_l15_dw\"] = df1[\"IS_pds_l15_ws\"]/df1[\"IS_pds_l15_ws_ct\"]\n",
    "\n",
    "# Deleting transient columns\n",
    "df1 = df1.drop([\"IS_pds_l15_dw_1\", \"IS_pds_l15_dw_2\", \"IS_pds_l15_dw_3\", \"IS_pds_l15_dw_4\", \"IS_pds_l15_dw_5\", \"IS_pds_l15_dw_6\", \"IS_pds_l15_dw_7\", \"IS_pds_l15_dw_8\", \"IS_pds_l15_dw_9\", \"IS_pds_l15_dw_10\", \"IS_pds_l15_dw_11\", \"IS_pds_l15_dw_12\", \"IS_pds_l15_dw_13\", \"IS_pds_l15_dw_14\", \"IS_pds_l15_dw_15\", \"IS_pds_l15_dw_1_ct\", \"IS_pds_l15_dw_2_ct\", \"IS_pds_l15_dw_3_ct\", \"IS_pds_l15_dw_4_ct\", \"IS_pds_l15_dw_5_ct\", \"IS_pds_l15_dw_6_ct\", \"IS_pds_l15_dw_7_ct\", \"IS_pds_l15_dw_8_ct\", \"IS_pds_l15_dw_9_ct\", \"IS_pds_l15_dw_10_ct\", \"IS_pds_l15_dw_11_ct\", \"IS_pds_l15_dw_12_ct\", \"IS_pds_l15_dw_13_ct\", \"IS_pds_l15_dw_14_ct\", \"IS_pds_l15_dw_15_ct\", \"IS_pds_l15_ws\", \"IS_pds_l15_ws_ct\"], axis = 1)"
   ]
  },
  {
   "cell_type": "code",
   "execution_count": 104,
   "id": "3661c06c",
   "metadata": {},
   "outputs": [],
   "source": [
    "# #IS_pds_l20_dw\n",
    "# #Provides decay-weighted(dw), puzzle day-specific (pds) mean solve time performance for IS1 over the previous 20 puzzles relative to a given puzzle\n",
    "# # Note that the sort is by completion date for IS1, as completion date was avaiable \n",
    "# # Note also that, unlike the 10-puzzle moving average, this weighted average does NOT include the \"puzzle at hand\" itself\n",
    "\n",
    "df1 = df1.sort_values(by=['DOW', 'Comp_Date'], ascending = False)\n",
    "\n",
    "# Gradual decay\n",
    "# w = np.arange(1,21)\n",
    "# w = list(w)\n",
    "\n",
    "# No decay\n",
    "w = np.ones(20)\n",
    "w = list(w)\n",
    "\n",
    "df1[\"IS_pds_l20_dw_1\"] = df1.groupby(['DOW'])['IS1_ST(m)'].shift(-1)*w[0]\n",
    "df1[\"IS_pds_l20_dw_2\"] = df1.groupby(['DOW'])['IS1_ST(m)'].shift(-2)*w[1]\n",
    "df1[\"IS_pds_l20_dw_3\"] = df1.groupby(['DOW'])['IS1_ST(m)'].shift(-3)*w[2]\n",
    "df1[\"IS_pds_l20_dw_4\"] = df1.groupby(['DOW'])['IS1_ST(m)'].shift(-4)*w[3]\n",
    "df1[\"IS_pds_l20_dw_5\"] = df1.groupby(['DOW'])['IS1_ST(m)'].shift(-5)*w[4]\n",
    "df1[\"IS_pds_l20_dw_6\"] = df1.groupby(['DOW'])['IS1_ST(m)'].shift(-6)*w[5]\n",
    "df1[\"IS_pds_l20_dw_7\"] = df1.groupby(['DOW'])['IS1_ST(m)'].shift(-7)*w[6]\n",
    "df1[\"IS_pds_l20_dw_8\"] = df1.groupby(['DOW'])['IS1_ST(m)'].shift(-8)*w[7]\n",
    "df1[\"IS_pds_l20_dw_9\"] = df1.groupby(['DOW'])['IS1_ST(m)'].shift(-9)*w[8]\n",
    "df1[\"IS_pds_l20_dw_10\"] = df1.groupby(['DOW'])['IS1_ST(m)'].shift(-10)*w[9]\n",
    "df1[\"IS_pds_l20_dw_11\"] = df1.groupby(['DOW'])['IS1_ST(m)'].shift(-11)*w[10]\n",
    "df1[\"IS_pds_l20_dw_12\"] = df1.groupby(['DOW'])['IS1_ST(m)'].shift(-12)*w[11]\n",
    "df1[\"IS_pds_l20_dw_13\"] = df1.groupby(['DOW'])['IS1_ST(m)'].shift(-13)*w[12]\n",
    "df1[\"IS_pds_l20_dw_14\"] = df1.groupby(['DOW'])['IS1_ST(m)'].shift(-14)*w[13]\n",
    "df1[\"IS_pds_l20_dw_15\"] = df1.groupby(['DOW'])['IS1_ST(m)'].shift(-15)*w[14]\n",
    "df1[\"IS_pds_l20_dw_16\"] = df1.groupby(['DOW'])['IS1_ST(m)'].shift(-16)*w[15]\n",
    "df1[\"IS_pds_l20_dw_17\"] = df1.groupby(['DOW'])['IS1_ST(m)'].shift(-17)*w[16]\n",
    "df1[\"IS_pds_l20_dw_18\"] = df1.groupby(['DOW'])['IS1_ST(m)'].shift(-18)*w[17]\n",
    "df1[\"IS_pds_l20_dw_19\"] = df1.groupby(['DOW'])['IS1_ST(m)'].shift(-19)*w[18]\n",
    "df1[\"IS_pds_l20_dw_20\"] = df1.groupby(['DOW'])['IS1_ST(m)'].shift(-20)*w[19]\n",
    "\n",
    "df1[\"IS_pds_l20_dw_1_ct\"] = (df1.groupby(['DOW'])['IS1_ST(m)'].shift(-1)/df1.groupby(['DOW'])['IS1_ST(m)'].shift(-1))*w[0]\n",
    "df1[\"IS_pds_l20_dw_2_ct\"] = (df1.groupby(['DOW'])['IS1_ST(m)'].shift(-2)/df1.groupby(['DOW'])['IS1_ST(m)'].shift(-2))*w[1]\n",
    "df1[\"IS_pds_l20_dw_3_ct\"] = (df1.groupby(['DOW'])['IS1_ST(m)'].shift(-3)/df1.groupby(['DOW'])['IS1_ST(m)'].shift(-3))*w[2]\n",
    "df1[\"IS_pds_l20_dw_4_ct\"] = (df1.groupby(['DOW'])['IS1_ST(m)'].shift(-4)/df1.groupby(['DOW'])['IS1_ST(m)'].shift(-4))*w[3]\n",
    "df1[\"IS_pds_l20_dw_5_ct\"] = (df1.groupby(['DOW'])['IS1_ST(m)'].shift(-5)/df1.groupby(['DOW'])['IS1_ST(m)'].shift(-5))*w[4]\n",
    "df1[\"IS_pds_l20_dw_6_ct\"] = (df1.groupby(['DOW'])['IS1_ST(m)'].shift(-6)/df1.groupby(['DOW'])['IS1_ST(m)'].shift(-6))*w[5]\n",
    "df1[\"IS_pds_l20_dw_7_ct\"] = (df1.groupby(['DOW'])['IS1_ST(m)'].shift(-7)/df1.groupby(['DOW'])['IS1_ST(m)'].shift(-7))*w[6]\n",
    "df1[\"IS_pds_l20_dw_8_ct\"] = (df1.groupby(['DOW'])['IS1_ST(m)'].shift(-8)/df1.groupby(['DOW'])['IS1_ST(m)'].shift(-8))*w[7]\n",
    "df1[\"IS_pds_l20_dw_9_ct\"] = (df1.groupby(['DOW'])['IS1_ST(m)'].shift(-9)/df1.groupby(['DOW'])['IS1_ST(m)'].shift(-9))*w[8]\n",
    "df1[\"IS_pds_l20_dw_10_ct\"] = (df1.groupby(['DOW'])['IS1_ST(m)'].shift(-10)/df1.groupby(['DOW'])['IS1_ST(m)'].shift(-10))*w[9]\n",
    "df1[\"IS_pds_l20_dw_11_ct\"] = (df1.groupby(['DOW'])['IS1_ST(m)'].shift(-11)/df1.groupby(['DOW'])['IS1_ST(m)'].shift(-11))*w[10]\n",
    "df1[\"IS_pds_l20_dw_12_ct\"] = (df1.groupby(['DOW'])['IS1_ST(m)'].shift(-12)/df1.groupby(['DOW'])['IS1_ST(m)'].shift(-12))*w[11]\n",
    "df1[\"IS_pds_l20_dw_13_ct\"] = (df1.groupby(['DOW'])['IS1_ST(m)'].shift(-13)/df1.groupby(['DOW'])['IS1_ST(m)'].shift(-13))*w[12]\n",
    "df1[\"IS_pds_l20_dw_14_ct\"] = (df1.groupby(['DOW'])['IS1_ST(m)'].shift(-14)/df1.groupby(['DOW'])['IS1_ST(m)'].shift(-14))*w[13]\n",
    "df1[\"IS_pds_l20_dw_15_ct\"] = (df1.groupby(['DOW'])['IS1_ST(m)'].shift(-15)/df1.groupby(['DOW'])['IS1_ST(m)'].shift(-15))*w[14]\n",
    "df1[\"IS_pds_l20_dw_16_ct\"] = (df1.groupby(['DOW'])['IS1_ST(m)'].shift(-16)/df1.groupby(['DOW'])['IS1_ST(m)'].shift(-16))*w[15]\n",
    "df1[\"IS_pds_l20_dw_17_ct\"] = (df1.groupby(['DOW'])['IS1_ST(m)'].shift(-17)/df1.groupby(['DOW'])['IS1_ST(m)'].shift(-17))*w[16]\n",
    "df1[\"IS_pds_l20_dw_18_ct\"] = (df1.groupby(['DOW'])['IS1_ST(m)'].shift(-18)/df1.groupby(['DOW'])['IS1_ST(m)'].shift(-18))*w[17]\n",
    "df1[\"IS_pds_l20_dw_19_ct\"] = (df1.groupby(['DOW'])['IS1_ST(m)'].shift(-19)/df1.groupby(['DOW'])['IS1_ST(m)'].shift(-19))*w[18]\n",
    "df1[\"IS_pds_l20_dw_20_ct\"] = (df1.groupby(['DOW'])['IS1_ST(m)'].shift(-20)/df1.groupby(['DOW'])['IS1_ST(m)'].shift(-20))*w[19]\n",
    "\n",
    "df1[\"IS_pds_l20_ws\"] = df1[[\"IS_pds_l20_dw_1\", \"IS_pds_l20_dw_2\", \"IS_pds_l20_dw_3\", \"IS_pds_l20_dw_4\", \"IS_pds_l20_dw_5\", \"IS_pds_l20_dw_6\", \"IS_pds_l20_dw_7\", \"IS_pds_l20_dw_8\", \"IS_pds_l20_dw_9\", \"IS_pds_l20_dw_10\", \"IS_pds_l20_dw_11\", \"IS_pds_l20_dw_12\", \"IS_pds_l20_dw_13\", \"IS_pds_l20_dw_14\", \"IS_pds_l20_dw_15\", \"IS_pds_l20_dw_16\", \"IS_pds_l20_dw_17\", \"IS_pds_l20_dw_18\", \"IS_pds_l20_dw_19\", \"IS_pds_l20_dw_20\"]].sum(axis=1)\n",
    "df1[\"IS_pds_l20_ws_ct\"] = df1[[\"IS_pds_l20_dw_1_ct\", \"IS_pds_l20_dw_2_ct\", \"IS_pds_l20_dw_3_ct\", \"IS_pds_l20_dw_4_ct\", \"IS_pds_l20_dw_5_ct\", \"IS_pds_l20_dw_6_ct\", \"IS_pds_l20_dw_7_ct\", \"IS_pds_l20_dw_8_ct\", \"IS_pds_l20_dw_9_ct\", \"IS_pds_l20_dw_10_ct\", \"IS_pds_l20_dw_11_ct\", \"IS_pds_l20_dw_12_ct\", \"IS_pds_l20_dw_13_ct\", \"IS_pds_l20_dw_14_ct\", \"IS_pds_l20_dw_15_ct\", \"IS_pds_l20_dw_16_ct\", \"IS_pds_l20_dw_17_ct\", \"IS_pds_l20_dw_18_ct\", \"IS_pds_l20_dw_19_ct\", \"IS_pds_l20_dw_20_ct\"]].sum(axis=1)\n",
    "df1[\"IS_pds_l20_dw\"] = df1[\"IS_pds_l20_ws\"]/df1[\"IS_pds_l20_ws_ct\"]\n",
    "\n",
    "# Deleting transient columns\n",
    "df1 = df1.drop([\"IS_pds_l20_dw_1\", \"IS_pds_l20_dw_2\", \"IS_pds_l20_dw_3\", \"IS_pds_l20_dw_4\", \"IS_pds_l20_dw_5\", \"IS_pds_l20_dw_6\", \"IS_pds_l20_dw_7\", \"IS_pds_l20_dw_8\", \"IS_pds_l20_dw_9\", \"IS_pds_l20_dw_10\", \"IS_pds_l20_dw_11\", \"IS_pds_l20_dw_12\", \"IS_pds_l20_dw_13\", \"IS_pds_l20_dw_14\", \"IS_pds_l20_dw_15\", \"IS_pds_l20_dw_16\", \"IS_pds_l20_dw_17\", \"IS_pds_l20_dw_18\", \"IS_pds_l20_dw_19\", \"IS_pds_l20_dw_20\", \"IS_pds_l20_dw_1_ct\", \"IS_pds_l20_dw_2_ct\", \"IS_pds_l20_dw_3_ct\", \"IS_pds_l20_dw_4_ct\", \"IS_pds_l20_dw_5_ct\", \"IS_pds_l20_dw_6_ct\", \"IS_pds_l20_dw_7_ct\", \"IS_pds_l20_dw_8_ct\", \"IS_pds_l20_dw_9_ct\", \"IS_pds_l20_dw_10_ct\", \"IS_pds_l20_dw_11_ct\", \"IS_pds_l20_dw_12_ct\", \"IS_pds_l20_dw_13_ct\", \"IS_pds_l20_dw_14_ct\", \"IS_pds_l20_dw_15_ct\", \"IS_pds_l20_dw_16_ct\", \"IS_pds_l20_dw_17_ct\", \"IS_pds_l20_dw_18_ct\", \"IS_pds_l20_dw_19_ct\", \"IS_pds_l20_dw_20_ct\", \"IS_pds_l20_ws\", \"IS_pds_l20_ws_ct\"], axis = 1)"
   ]
  },
  {
   "cell_type": "code",
   "execution_count": 9,
   "id": "0646ca7d",
   "metadata": {},
   "outputs": [],
   "source": [
    "#IS_pds_l25_dw\n",
    "#Provides decay-weighted(dw), puzzle day-specific (pds) mean solve time performance for IS1 over the previous 25 puzzles relative to a given puzzle\n",
    "# Note that the sort is by completion date for IS1, as completion date was avaiable \n",
    "# Note also that, unlike the 10-puzzle moving average, this weighted average does NOT include the \"puzzle at hand\" itself\n",
    "\n",
    "df1 = df1.sort_values(by=['DOW', 'Comp_Date'], ascending = False)\n",
    "\n",
    "# Gradual decay\n",
    "w = np.arange(1,26)\n",
    "w = list(w)\n",
    "\n",
    "# No decay\n",
    "# w = np.ones(25)\n",
    "# w = list(w)\n",
    "\n",
    "df1[\"IS_pds_l25_dw_1\"] = df1.groupby(['DOW'])['IS1_ST(m)'].shift(-1)*w[0]\n",
    "df1[\"IS_pds_l25_dw_2\"] = df1.groupby(['DOW'])['IS1_ST(m)'].shift(-2)*w[1]\n",
    "df1[\"IS_pds_l25_dw_3\"] = df1.groupby(['DOW'])['IS1_ST(m)'].shift(-3)*w[2]\n",
    "df1[\"IS_pds_l25_dw_4\"] = df1.groupby(['DOW'])['IS1_ST(m)'].shift(-4)*w[3]\n",
    "df1[\"IS_pds_l25_dw_5\"] = df1.groupby(['DOW'])['IS1_ST(m)'].shift(-5)*w[4]\n",
    "df1[\"IS_pds_l25_dw_6\"] = df1.groupby(['DOW'])['IS1_ST(m)'].shift(-6)*w[5]\n",
    "df1[\"IS_pds_l25_dw_7\"] = df1.groupby(['DOW'])['IS1_ST(m)'].shift(-7)*w[6]\n",
    "df1[\"IS_pds_l25_dw_8\"] = df1.groupby(['DOW'])['IS1_ST(m)'].shift(-8)*w[7]\n",
    "df1[\"IS_pds_l25_dw_9\"] = df1.groupby(['DOW'])['IS1_ST(m)'].shift(-9)*w[8]\n",
    "df1[\"IS_pds_l25_dw_10\"] = df1.groupby(['DOW'])['IS1_ST(m)'].shift(-10)*w[9]\n",
    "df1[\"IS_pds_l25_dw_11\"] = df1.groupby(['DOW'])['IS1_ST(m)'].shift(-11)*w[10]\n",
    "df1[\"IS_pds_l25_dw_12\"] = df1.groupby(['DOW'])['IS1_ST(m)'].shift(-12)*w[11]\n",
    "df1[\"IS_pds_l25_dw_13\"] = df1.groupby(['DOW'])['IS1_ST(m)'].shift(-13)*w[12]\n",
    "df1[\"IS_pds_l25_dw_14\"] = df1.groupby(['DOW'])['IS1_ST(m)'].shift(-14)*w[13]\n",
    "df1[\"IS_pds_l25_dw_15\"] = df1.groupby(['DOW'])['IS1_ST(m)'].shift(-15)*w[14]\n",
    "df1[\"IS_pds_l25_dw_16\"] = df1.groupby(['DOW'])['IS1_ST(m)'].shift(-16)*w[15]\n",
    "df1[\"IS_pds_l25_dw_17\"] = df1.groupby(['DOW'])['IS1_ST(m)'].shift(-17)*w[16]\n",
    "df1[\"IS_pds_l25_dw_18\"] = df1.groupby(['DOW'])['IS1_ST(m)'].shift(-18)*w[17]\n",
    "df1[\"IS_pds_l25_dw_19\"] = df1.groupby(['DOW'])['IS1_ST(m)'].shift(-19)*w[18]\n",
    "df1[\"IS_pds_l25_dw_20\"] = df1.groupby(['DOW'])['IS1_ST(m)'].shift(-20)*w[19]\n",
    "df1[\"IS_pds_l25_dw_21\"] = df1.groupby(['DOW'])['IS1_ST(m)'].shift(-21)*w[20]\n",
    "df1[\"IS_pds_l25_dw_22\"] = df1.groupby(['DOW'])['IS1_ST(m)'].shift(-22)*w[21]\n",
    "df1[\"IS_pds_l25_dw_23\"] = df1.groupby(['DOW'])['IS1_ST(m)'].shift(-23)*w[22]\n",
    "df1[\"IS_pds_l25_dw_24\"] = df1.groupby(['DOW'])['IS1_ST(m)'].shift(-24)*w[23]\n",
    "df1[\"IS_pds_l25_dw_25\"] = df1.groupby(['DOW'])['IS1_ST(m)'].shift(-25)*w[24]\n",
    "\n",
    "df1[\"IS_pds_l25_dw_1_ct\"] = (df1.groupby(['DOW'])['IS1_ST(m)'].shift(-1)/df1.groupby(['DOW'])['IS1_ST(m)'].shift(-1))*w[0]\n",
    "df1[\"IS_pds_l25_dw_2_ct\"] = (df1.groupby(['DOW'])['IS1_ST(m)'].shift(-2)/df1.groupby(['DOW'])['IS1_ST(m)'].shift(-2))*w[1]\n",
    "df1[\"IS_pds_l25_dw_3_ct\"] = (df1.groupby(['DOW'])['IS1_ST(m)'].shift(-3)/df1.groupby(['DOW'])['IS1_ST(m)'].shift(-3))*w[2]\n",
    "df1[\"IS_pds_l25_dw_4_ct\"] = (df1.groupby(['DOW'])['IS1_ST(m)'].shift(-4)/df1.groupby(['DOW'])['IS1_ST(m)'].shift(-4))*w[3]\n",
    "df1[\"IS_pds_l25_dw_5_ct\"] = (df1.groupby(['DOW'])['IS1_ST(m)'].shift(-5)/df1.groupby(['DOW'])['IS1_ST(m)'].shift(-5))*w[4]\n",
    "df1[\"IS_pds_l25_dw_6_ct\"] = (df1.groupby(['DOW'])['IS1_ST(m)'].shift(-6)/df1.groupby(['DOW'])['IS1_ST(m)'].shift(-6))*w[5]\n",
    "df1[\"IS_pds_l25_dw_7_ct\"] = (df1.groupby(['DOW'])['IS1_ST(m)'].shift(-7)/df1.groupby(['DOW'])['IS1_ST(m)'].shift(-7))*w[6]\n",
    "df1[\"IS_pds_l25_dw_8_ct\"] = (df1.groupby(['DOW'])['IS1_ST(m)'].shift(-8)/df1.groupby(['DOW'])['IS1_ST(m)'].shift(-8))*w[7]\n",
    "df1[\"IS_pds_l25_dw_9_ct\"] = (df1.groupby(['DOW'])['IS1_ST(m)'].shift(-9)/df1.groupby(['DOW'])['IS1_ST(m)'].shift(-9))*w[8]\n",
    "df1[\"IS_pds_l25_dw_10_ct\"] = (df1.groupby(['DOW'])['IS1_ST(m)'].shift(-10)/df1.groupby(['DOW'])['IS1_ST(m)'].shift(-10))*w[9]\n",
    "df1[\"IS_pds_l25_dw_11_ct\"] = (df1.groupby(['DOW'])['IS1_ST(m)'].shift(-11)/df1.groupby(['DOW'])['IS1_ST(m)'].shift(-11))*w[10]\n",
    "df1[\"IS_pds_l25_dw_12_ct\"] = (df1.groupby(['DOW'])['IS1_ST(m)'].shift(-12)/df1.groupby(['DOW'])['IS1_ST(m)'].shift(-12))*w[11]\n",
    "df1[\"IS_pds_l25_dw_13_ct\"] = (df1.groupby(['DOW'])['IS1_ST(m)'].shift(-13)/df1.groupby(['DOW'])['IS1_ST(m)'].shift(-13))*w[12]\n",
    "df1[\"IS_pds_l25_dw_14_ct\"] = (df1.groupby(['DOW'])['IS1_ST(m)'].shift(-14)/df1.groupby(['DOW'])['IS1_ST(m)'].shift(-14))*w[13]\n",
    "df1[\"IS_pds_l25_dw_15_ct\"] = (df1.groupby(['DOW'])['IS1_ST(m)'].shift(-15)/df1.groupby(['DOW'])['IS1_ST(m)'].shift(-15))*w[14]\n",
    "df1[\"IS_pds_l25_dw_16_ct\"] = (df1.groupby(['DOW'])['IS1_ST(m)'].shift(-16)/df1.groupby(['DOW'])['IS1_ST(m)'].shift(-16))*w[15]\n",
    "df1[\"IS_pds_l25_dw_17_ct\"] = (df1.groupby(['DOW'])['IS1_ST(m)'].shift(-17)/df1.groupby(['DOW'])['IS1_ST(m)'].shift(-17))*w[16]\n",
    "df1[\"IS_pds_l25_dw_18_ct\"] = (df1.groupby(['DOW'])['IS1_ST(m)'].shift(-18)/df1.groupby(['DOW'])['IS1_ST(m)'].shift(-18))*w[17]\n",
    "df1[\"IS_pds_l25_dw_19_ct\"] = (df1.groupby(['DOW'])['IS1_ST(m)'].shift(-19)/df1.groupby(['DOW'])['IS1_ST(m)'].shift(-19))*w[18]\n",
    "df1[\"IS_pds_l25_dw_20_ct\"] = (df1.groupby(['DOW'])['IS1_ST(m)'].shift(-20)/df1.groupby(['DOW'])['IS1_ST(m)'].shift(-20))*w[19]\n",
    "df1[\"IS_pds_l25_dw_21_ct\"] = (df1.groupby(['DOW'])['IS1_ST(m)'].shift(-21)/df1.groupby(['DOW'])['IS1_ST(m)'].shift(-21))*w[20]\n",
    "df1[\"IS_pds_l25_dw_22_ct\"] = (df1.groupby(['DOW'])['IS1_ST(m)'].shift(-22)/df1.groupby(['DOW'])['IS1_ST(m)'].shift(-22))*w[21]\n",
    "df1[\"IS_pds_l25_dw_23_ct\"] = (df1.groupby(['DOW'])['IS1_ST(m)'].shift(-23)/df1.groupby(['DOW'])['IS1_ST(m)'].shift(-23))*w[22]\n",
    "df1[\"IS_pds_l25_dw_24_ct\"] = (df1.groupby(['DOW'])['IS1_ST(m)'].shift(-24)/df1.groupby(['DOW'])['IS1_ST(m)'].shift(-24))*w[23]\n",
    "df1[\"IS_pds_l25_dw_25_ct\"] = (df1.groupby(['DOW'])['IS1_ST(m)'].shift(-25)/df1.groupby(['DOW'])['IS1_ST(m)'].shift(-25))*w[24]\n",
    "\n",
    "df1[\"IS_pds_l25_ws\"] = df1[[\"IS_pds_l25_dw_1\", \"IS_pds_l25_dw_2\", \"IS_pds_l25_dw_3\", \"IS_pds_l25_dw_4\", \"IS_pds_l25_dw_5\", \"IS_pds_l25_dw_6\", \"IS_pds_l25_dw_7\", \"IS_pds_l25_dw_8\", \"IS_pds_l25_dw_9\", \"IS_pds_l25_dw_10\", \"IS_pds_l25_dw_11\", \"IS_pds_l25_dw_12\", \"IS_pds_l25_dw_13\", \"IS_pds_l25_dw_14\", \"IS_pds_l25_dw_15\", \"IS_pds_l25_dw_16\", \"IS_pds_l25_dw_17\", \"IS_pds_l25_dw_18\", \"IS_pds_l25_dw_19\", \"IS_pds_l25_dw_20\", \"IS_pds_l25_dw_21\", \"IS_pds_l25_dw_22\", \"IS_pds_l25_dw_23\", \"IS_pds_l25_dw_24\", \"IS_pds_l25_dw_25\"]].sum(axis=1)\n",
    "df1[\"IS_pds_l25_ws_ct\"] = df1[[\"IS_pds_l25_dw_1_ct\", \"IS_pds_l25_dw_2_ct\", \"IS_pds_l25_dw_3_ct\", \"IS_pds_l25_dw_4_ct\", \"IS_pds_l25_dw_5_ct\", \"IS_pds_l25_dw_6_ct\", \"IS_pds_l25_dw_7_ct\", \"IS_pds_l25_dw_8_ct\", \"IS_pds_l25_dw_9_ct\", \"IS_pds_l25_dw_10_ct\", \"IS_pds_l25_dw_11_ct\", \"IS_pds_l25_dw_12_ct\", \"IS_pds_l25_dw_13_ct\", \"IS_pds_l25_dw_14_ct\", \"IS_pds_l25_dw_15_ct\", \"IS_pds_l25_dw_16_ct\", \"IS_pds_l25_dw_17_ct\", \"IS_pds_l25_dw_18_ct\", \"IS_pds_l25_dw_19_ct\", \"IS_pds_l25_dw_20_ct\", \"IS_pds_l25_dw_21_ct\", \"IS_pds_l25_dw_22_ct\", \"IS_pds_l25_dw_23_ct\", \"IS_pds_l25_dw_24_ct\", \"IS_pds_l25_dw_25_ct\"]].sum(axis=1)\n",
    "df1[\"IS_pds_l25_dw\"] = df1[\"IS_pds_l25_ws\"]/df1[\"IS_pds_l25_ws_ct\"]\n",
    "\n",
    "# Deleting transient columns\n",
    "df1 = df1.drop([\"IS_pds_l25_dw_1\", \"IS_pds_l25_dw_2\", \"IS_pds_l25_dw_3\", \"IS_pds_l25_dw_4\", \"IS_pds_l25_dw_5\", \"IS_pds_l25_dw_6\", \"IS_pds_l25_dw_7\", \"IS_pds_l25_dw_8\", \"IS_pds_l25_dw_9\", \"IS_pds_l25_dw_10\", \"IS_pds_l25_dw_11\", \"IS_pds_l25_dw_12\", \"IS_pds_l25_dw_13\", \"IS_pds_l25_dw_14\", \"IS_pds_l25_dw_15\", \"IS_pds_l25_dw_16\", \"IS_pds_l25_dw_17\", \"IS_pds_l25_dw_18\", \"IS_pds_l25_dw_19\", \"IS_pds_l25_dw_20\", \"IS_pds_l25_dw_21\", \"IS_pds_l25_dw_22\", \"IS_pds_l25_dw_23\", \"IS_pds_l25_dw_24\", \"IS_pds_l25_dw_25\", \"IS_pds_l25_dw_1_ct\", \"IS_pds_l25_dw_2_ct\", \"IS_pds_l25_dw_3_ct\", \"IS_pds_l25_dw_4_ct\", \"IS_pds_l25_dw_5_ct\", \"IS_pds_l25_dw_6_ct\", \"IS_pds_l25_dw_7_ct\", \"IS_pds_l25_dw_8_ct\", \"IS_pds_l25_dw_9_ct\", \"IS_pds_l25_dw_10_ct\", \"IS_pds_l25_dw_11_ct\", \"IS_pds_l25_dw_12_ct\", \"IS_pds_l25_dw_13_ct\", \"IS_pds_l25_dw_14_ct\", \"IS_pds_l25_dw_15_ct\", \"IS_pds_l25_dw_16_ct\", \"IS_pds_l25_dw_17_ct\", \"IS_pds_l25_dw_18_ct\", \"IS_pds_l25_dw_19_ct\", \"IS_pds_l25_dw_20_ct\", \"IS_pds_l25_dw_21_ct\", \"IS_pds_l25_dw_22_ct\", \"IS_pds_l25_dw_23_ct\", \"IS_pds_l25_dw_24_ct\", \"IS_pds_l25_dw_25_ct\", \"IS_pds_l25_ws\", \"IS_pds_l25_ws_ct\"], axis = 1)"
   ]
  },
  {
   "cell_type": "code",
   "execution_count": 10,
   "id": "a33cbffc",
   "metadata": {},
   "outputs": [],
   "source": [
    "# #GMS_pds_l35_dw\n",
    "# #Provides decay-weighted(dw), puzzle day-specific (pds) mean solve time performance for GMS over the previous 35 puzzles relative to a given puzzle\n",
    "# # Note also that, unlike the 10-puzzle moving average, this weighted average does NOT include the \"puzzle at hand\" itself\n",
    "\n",
    "# df1 = df1.sort_values(by=['DOW', 'P_Date'], ascending = False)\n",
    "\n",
    "# # Gradual decay\n",
    "# # w = np.arange(1,36)\n",
    "# # w = list(w)\n",
    "\n",
    "# # No decay\n",
    "# w = np.ones(35)\n",
    "# w = list(w)\n",
    "\n",
    "# df1[\"GMS_pds_l35_dw_1\"] = df1.groupby(['DOW'])['GMST(m)'].shift(-1)*w[0]\n",
    "# df1[\"GMS_pds_l35_dw_2\"] = df1.groupby(['DOW'])['GMST(m)'].shift(-2)*w[1]\n",
    "# df1[\"GMS_pds_l35_dw_3\"] = df1.groupby(['DOW'])['GMST(m)'].shift(-3)*w[2]\n",
    "# df1[\"GMS_pds_l35_dw_4\"] = df1.groupby(['DOW'])['GMST(m)'].shift(-4)*w[3]\n",
    "# df1[\"GMS_pds_l35_dw_5\"] = df1.groupby(['DOW'])['GMST(m)'].shift(-5)*w[4]\n",
    "# df1[\"GMS_pds_l35_dw_6\"] = df1.groupby(['DOW'])['GMST(m)'].shift(-6)*w[5]\n",
    "# df1[\"GMS_pds_l35_dw_7\"] = df1.groupby(['DOW'])['GMST(m)'].shift(-7)*w[6]\n",
    "# df1[\"GMS_pds_l35_dw_8\"] = df1.groupby(['DOW'])['GMST(m)'].shift(-8)*w[7]\n",
    "# df1[\"GMS_pds_l35_dw_9\"] = df1.groupby(['DOW'])['GMST(m)'].shift(-9)*w[8]\n",
    "# df1[\"GMS_pds_l35_dw_10\"] = df1.groupby(['DOW'])['GMST(m)'].shift(-10)*w[9]\n",
    "# df1[\"GMS_pds_l35_dw_11\"] = df1.groupby(['DOW'])['GMST(m)'].shift(-11)*w[10]\n",
    "# df1[\"GMS_pds_l35_dw_12\"] = df1.groupby(['DOW'])['GMST(m)'].shift(-12)*w[11]\n",
    "# df1[\"GMS_pds_l35_dw_13\"] = df1.groupby(['DOW'])['GMST(m)'].shift(-13)*w[12]\n",
    "# df1[\"GMS_pds_l35_dw_14\"] = df1.groupby(['DOW'])['GMST(m)'].shift(-14)*w[13]\n",
    "# df1[\"GMS_pds_l35_dw_15\"] = df1.groupby(['DOW'])['GMST(m)'].shift(-15)*w[14]\n",
    "# df1[\"GMS_pds_l35_dw_16\"] = df1.groupby(['DOW'])['GMST(m)'].shift(-16)*w[15]\n",
    "# df1[\"GMS_pds_l35_dw_17\"] = df1.groupby(['DOW'])['GMST(m)'].shift(-17)*w[16]\n",
    "# df1[\"GMS_pds_l35_dw_18\"] = df1.groupby(['DOW'])['GMST(m)'].shift(-18)*w[17]\n",
    "# df1[\"GMS_pds_l35_dw_19\"] = df1.groupby(['DOW'])['GMST(m)'].shift(-19)*w[18]\n",
    "# df1[\"GMS_pds_l35_dw_20\"] = df1.groupby(['DOW'])['GMST(m)'].shift(-20)*w[19]\n",
    "# df1[\"GMS_pds_l35_dw_21\"] = df1.groupby(['DOW'])['GMST(m)'].shift(-21)*w[20]\n",
    "# df1[\"GMS_pds_l35_dw_22\"] = df1.groupby(['DOW'])['GMST(m)'].shift(-22)*w[21]\n",
    "# df1[\"GMS_pds_l35_dw_23\"] = df1.groupby(['DOW'])['GMST(m)'].shift(-23)*w[22]\n",
    "# df1[\"GMS_pds_l35_dw_24\"] = df1.groupby(['DOW'])['GMST(m)'].shift(-24)*w[23]\n",
    "# df1[\"GMS_pds_l35_dw_25\"] = df1.groupby(['DOW'])['GMST(m)'].shift(-25)*w[24]\n",
    "# df1[\"GMS_pds_l35_dw_26\"] = df1.groupby(['DOW'])['GMST(m)'].shift(-26)*w[25]\n",
    "# df1[\"GMS_pds_l35_dw_27\"] = df1.groupby(['DOW'])['GMST(m)'].shift(-27)*w[26]\n",
    "# df1[\"GMS_pds_l35_dw_28\"] = df1.groupby(['DOW'])['GMST(m)'].shift(-28)*w[27]\n",
    "# df1[\"GMS_pds_l35_dw_29\"] = df1.groupby(['DOW'])['GMST(m)'].shift(-29)*w[28]\n",
    "# df1[\"GMS_pds_l35_dw_30\"] = df1.groupby(['DOW'])['GMST(m)'].shift(-30)*w[29]\n",
    "# df1[\"GMS_pds_l35_dw_31\"] = df1.groupby(['DOW'])['GMST(m)'].shift(-31)*w[30]\n",
    "# df1[\"GMS_pds_l35_dw_32\"] = df1.groupby(['DOW'])['GMST(m)'].shift(-32)*w[31]\n",
    "# df1[\"GMS_pds_l35_dw_33\"] = df1.groupby(['DOW'])['GMST(m)'].shift(-33)*w[32]\n",
    "# df1[\"GMS_pds_l35_dw_34\"] = df1.groupby(['DOW'])['GMST(m)'].shift(-34)*w[33]\n",
    "# df1[\"GMS_pds_l35_dw_35\"] = df1.groupby(['DOW'])['GMST(m)'].shift(-35)*w[34]\n",
    "\n",
    "# df1[\"GMS_pds_l35_dw_1_ct\"] = (df1.groupby(['DOW'])['GMST(m)'].shift(-1)/df1.groupby(['DOW'])['GMST(m)'].shift(-1))*w[0]\n",
    "# df1[\"GMS_pds_l35_dw_2_ct\"] = (df1.groupby(['DOW'])['GMST(m)'].shift(-2)/df1.groupby(['DOW'])['GMST(m)'].shift(-2))*w[1]\n",
    "# df1[\"GMS_pds_l35_dw_3_ct\"] = (df1.groupby(['DOW'])['GMST(m)'].shift(-3)/df1.groupby(['DOW'])['GMST(m)'].shift(-3))*w[2]\n",
    "# df1[\"GMS_pds_l35_dw_4_ct\"] = (df1.groupby(['DOW'])['GMST(m)'].shift(-4)/df1.groupby(['DOW'])['GMST(m)'].shift(-4))*w[3]\n",
    "# df1[\"GMS_pds_l35_dw_5_ct\"] = (df1.groupby(['DOW'])['GMST(m)'].shift(-5)/df1.groupby(['DOW'])['GMST(m)'].shift(-5))*w[4]\n",
    "# df1[\"GMS_pds_l35_dw_6_ct\"] = (df1.groupby(['DOW'])['GMST(m)'].shift(-6)/df1.groupby(['DOW'])['GMST(m)'].shift(-6))*w[5]\n",
    "# df1[\"GMS_pds_l35_dw_7_ct\"] = (df1.groupby(['DOW'])['GMST(m)'].shift(-7)/df1.groupby(['DOW'])['GMST(m)'].shift(-7))*w[6]\n",
    "# df1[\"GMS_pds_l35_dw_8_ct\"] = (df1.groupby(['DOW'])['GMST(m)'].shift(-8)/df1.groupby(['DOW'])['GMST(m)'].shift(-8))*w[7]\n",
    "# df1[\"GMS_pds_l35_dw_9_ct\"] = (df1.groupby(['DOW'])['GMST(m)'].shift(-9)/df1.groupby(['DOW'])['GMST(m)'].shift(-9))*w[8]\n",
    "# df1[\"GMS_pds_l35_dw_10_ct\"] = (df1.groupby(['DOW'])['GMST(m)'].shift(-10)/df1.groupby(['DOW'])['GMST(m)'].shift(-10))*w[9]\n",
    "# df1[\"GMS_pds_l35_dw_11_ct\"] = (df1.groupby(['DOW'])['GMST(m)'].shift(-11)/df1.groupby(['DOW'])['GMST(m)'].shift(-11))*w[10]\n",
    "# df1[\"GMS_pds_l35_dw_12_ct\"] = (df1.groupby(['DOW'])['GMST(m)'].shift(-12)/df1.groupby(['DOW'])['GMST(m)'].shift(-12))*w[11]\n",
    "# df1[\"GMS_pds_l35_dw_13_ct\"] = (df1.groupby(['DOW'])['GMST(m)'].shift(-13)/df1.groupby(['DOW'])['GMST(m)'].shift(-13))*w[12]\n",
    "# df1[\"GMS_pds_l35_dw_14_ct\"] = (df1.groupby(['DOW'])['GMST(m)'].shift(-14)/df1.groupby(['DOW'])['GMST(m)'].shift(-14))*w[13]\n",
    "# df1[\"GMS_pds_l35_dw_15_ct\"] = (df1.groupby(['DOW'])['GMST(m)'].shift(-15)/df1.groupby(['DOW'])['GMST(m)'].shift(-15))*w[14]\n",
    "# df1[\"GMS_pds_l35_dw_16_ct\"] = (df1.groupby(['DOW'])['GMST(m)'].shift(-16)/df1.groupby(['DOW'])['GMST(m)'].shift(-16))*w[15]\n",
    "# df1[\"GMS_pds_l35_dw_17_ct\"] = (df1.groupby(['DOW'])['GMST(m)'].shift(-17)/df1.groupby(['DOW'])['GMST(m)'].shift(-17))*w[16]\n",
    "# df1[\"GMS_pds_l35_dw_18_ct\"] = (df1.groupby(['DOW'])['GMST(m)'].shift(-18)/df1.groupby(['DOW'])['GMST(m)'].shift(-18))*w[17]\n",
    "# df1[\"GMS_pds_l35_dw_19_ct\"] = (df1.groupby(['DOW'])['GMST(m)'].shift(-19)/df1.groupby(['DOW'])['GMST(m)'].shift(-19))*w[18]\n",
    "# df1[\"GMS_pds_l35_dw_20_ct\"] = (df1.groupby(['DOW'])['GMST(m)'].shift(-20)/df1.groupby(['DOW'])['GMST(m)'].shift(-20))*w[19]\n",
    "# df1[\"GMS_pds_l35_dw_21_ct\"] = (df1.groupby(['DOW'])['GMST(m)'].shift(-21)/df1.groupby(['DOW'])['GMST(m)'].shift(-21))*w[20]\n",
    "# df1[\"GMS_pds_l35_dw_22_ct\"] = (df1.groupby(['DOW'])['GMST(m)'].shift(-22)/df1.groupby(['DOW'])['GMST(m)'].shift(-22))*w[21]\n",
    "# df1[\"GMS_pds_l35_dw_23_ct\"] = (df1.groupby(['DOW'])['GMST(m)'].shift(-23)/df1.groupby(['DOW'])['GMST(m)'].shift(-23))*w[22]\n",
    "# df1[\"GMS_pds_l35_dw_24_ct\"] = (df1.groupby(['DOW'])['GMST(m)'].shift(-24)/df1.groupby(['DOW'])['GMST(m)'].shift(-24))*w[23]\n",
    "# df1[\"GMS_pds_l35_dw_25_ct\"] = (df1.groupby(['DOW'])['GMST(m)'].shift(-25)/df1.groupby(['DOW'])['GMST(m)'].shift(-25))*w[24]\n",
    "# df1[\"GMS_pds_l35_dw_26_ct\"] = (df1.groupby(['DOW'])['GMST(m)'].shift(-26)/df1.groupby(['DOW'])['GMST(m)'].shift(-26))*w[25]\n",
    "# df1[\"GMS_pds_l35_dw_27_ct\"] = (df1.groupby(['DOW'])['GMST(m)'].shift(-27)/df1.groupby(['DOW'])['GMST(m)'].shift(-27))*w[26]\n",
    "# df1[\"GMS_pds_l35_dw_28_ct\"] = (df1.groupby(['DOW'])['GMST(m)'].shift(-28)/df1.groupby(['DOW'])['GMST(m)'].shift(-28))*w[27]\n",
    "# df1[\"GMS_pds_l35_dw_29_ct\"] = (df1.groupby(['DOW'])['GMST(m)'].shift(-29)/df1.groupby(['DOW'])['GMST(m)'].shift(-29))*w[28]\n",
    "# df1[\"GMS_pds_l35_dw_30_ct\"] = (df1.groupby(['DOW'])['GMST(m)'].shift(-30)/df1.groupby(['DOW'])['GMST(m)'].shift(-30))*w[29]\n",
    "# df1[\"GMS_pds_l35_dw_31_ct\"] = (df1.groupby(['DOW'])['GMST(m)'].shift(-31)/df1.groupby(['DOW'])['GMST(m)'].shift(-31))*w[30]\n",
    "# df1[\"GMS_pds_l35_dw_32_ct\"] = (df1.groupby(['DOW'])['GMST(m)'].shift(-32)/df1.groupby(['DOW'])['GMST(m)'].shift(-32))*w[31]\n",
    "# df1[\"GMS_pds_l35_dw_33_ct\"] = (df1.groupby(['DOW'])['GMST(m)'].shift(-33)/df1.groupby(['DOW'])['GMST(m)'].shift(-33))*w[32]\n",
    "# df1[\"GMS_pds_l35_dw_34_ct\"] = (df1.groupby(['DOW'])['GMST(m)'].shift(-34)/df1.groupby(['DOW'])['GMST(m)'].shift(-34))*w[33]\n",
    "# df1[\"GMS_pds_l35_dw_35_ct\"] = (df1.groupby(['DOW'])['GMST(m)'].shift(-35)/df1.groupby(['DOW'])['GMST(m)'].shift(-35))*w[34]\n",
    "\n",
    "\n",
    "# df1[\"GMS_pds_l35_ws\"] = df1[[\"GMS_pds_l35_dw_1\", \"GMS_pds_l35_dw_2\", \"GMS_pds_l35_dw_3\", \"GMS_pds_l35_dw_4\", \"GMS_pds_l35_dw_5\", \"GMS_pds_l35_dw_6\", \"GMS_pds_l35_dw_7\", \"GMS_pds_l35_dw_8\", \"GMS_pds_l35_dw_9\", \"GMS_pds_l35_dw_10\", \"GMS_pds_l35_dw_11\", \"GMS_pds_l35_dw_12\", \"GMS_pds_l35_dw_13\", \"GMS_pds_l35_dw_14\", \"GMS_pds_l35_dw_15\", \"GMS_pds_l35_dw_16\", \"GMS_pds_l35_dw_17\", \"GMS_pds_l35_dw_18\", \"GMS_pds_l35_dw_19\", \"GMS_pds_l35_dw_20\", \"GMS_pds_l35_dw_21\", \"GMS_pds_l35_dw_22\", \"GMS_pds_l35_dw_23\", \"GMS_pds_l35_dw_24\", \"GMS_pds_l35_dw_25\",\n",
    "#                             \"GMS_pds_l35_dw_26\", \"GMS_pds_l35_dw_27\", \"GMS_pds_l35_dw_28\", \"GMS_pds_l35_dw_29\", \"GMS_pds_l35_dw_30\", \"GMS_pds_l35_dw_31\", \"GMS_pds_l35_dw_32\", \"GMS_pds_l35_dw_33\", \"GMS_pds_l35_dw_34\", \"GMS_pds_l35_dw_35\"]].sum(axis=1)\n",
    "# df1[\"GMS_pds_l35_ws_ct\"] = df1[[\"GMS_pds_l35_dw_1_ct\", \"GMS_pds_l35_dw_2_ct\", \"GMS_pds_l35_dw_3_ct\", \"GMS_pds_l35_dw_4_ct\", \"GMS_pds_l35_dw_5_ct\", \"GMS_pds_l35_dw_6_ct\", \"GMS_pds_l35_dw_7_ct\", \"GMS_pds_l35_dw_8_ct\", \"GMS_pds_l35_dw_9_ct\", \"GMS_pds_l35_dw_10_ct\", \"GMS_pds_l35_dw_11_ct\", \"GMS_pds_l35_dw_12_ct\", \"GMS_pds_l35_dw_13_ct\", \"GMS_pds_l35_dw_14_ct\", \"GMS_pds_l35_dw_15_ct\", \"GMS_pds_l35_dw_16_ct\", \"GMS_pds_l35_dw_17_ct\", \"GMS_pds_l35_dw_18_ct\", \"GMS_pds_l35_dw_19_ct\", \"GMS_pds_l35_dw_20_ct\", \"GMS_pds_l35_dw_21_ct\", \"GMS_pds_l35_dw_22_ct\", \"GMS_pds_l35_dw_23_ct\", \"GMS_pds_l35_dw_24_ct\", \"GMS_pds_l35_dw_25_ct\",\n",
    "#                                \"GMS_pds_l35_dw_26_ct\", \"GMS_pds_l35_dw_27_ct\", \"GMS_pds_l35_dw_28_ct\", \"GMS_pds_l35_dw_29_ct\", \"GMS_pds_l35_dw_30_ct\", \"GMS_pds_l35_dw_31_ct\", \"GMS_pds_l35_dw_32_ct\", \"GMS_pds_l35_dw_33_ct\", \"GMS_pds_l35_dw_34_ct\", \"GMS_pds_l35_dw_35_ct\"]].sum(axis=1)\n",
    "# df1[\"GMS_pds_l35_dw\"] = df1[\"GMS_pds_l35_ws\"]/df1[\"GMS_pds_l35_ws_ct\"]\n",
    "\n",
    "# # Deleting transient columns\n",
    "# # df1 = df1.drop([\"GMS_pds_l35_dw_1\", \"GMS_pds_l35_dw_2\", \"GMS_pds_l35_dw_3\", \"GMS_pds_l35_dw_4\", \"GMS_pds_l35_dw_5\", \"GMS_pds_l35_dw_6\", \"GMS_pds_l35_dw_7\", \"GMS_pds_l35_dw_8\", \"GMS_pds_l35_dw_9\", \"GMS_pds_l35_dw_10\", \"GMS_pds_l35_dw_11\", \"GMS_pds_l35_dw_12\", \"GMS_pds_l35_dw_13\", \"GMS_pds_l35_dw_14\", \"GMS_pds_l35_dw_15\", \"GMS_pds_l35_dw_16\", \"GMS_pds_l35_dw_17\", \"GMS_pds_l35_dw_18\", \"GMS_pds_l35_dw_19\", \"GMS_pds_l35_dw_20\", \"GMS_pds_l35_dw_21\", \"GMS_pds_l35_dw_22\", \"GMS_pds_l35_dw_23\", \"GMS_pds_l35_dw_24\", \"GMS_pds_l35_dw_25\", \"GMS_pds_l35_dw_26\", \"GMS_pds_l35_dw_27\", \"GMS_pds_l35_dw_28\", \"GMS_pds_l35_dw_29\", \"GMS_pds_l35_dw_30\", \"GMS_pds_l35_dw_31\", \"GMS_pds_l35_dw_32\", \"GMS_pds_l35_dw_33\", \"GMS_pds_l35_dw_34\", \"GMS_pds_l35_dw_35\", \"GMS_pds_l35_dw_36\", \"GMS_pds_l35_dw_37\", \"GMS_pds_l35_dw_38\", \"GMS_pds_l35_dw_39\", \"GMS_pds_l35_dw_40\", \"GMS_pds_l35_dw_41\", \"GMS_pds_l35_dw_42\", \"GMS_pds_l35_dw_43\", \"GMS_pds_l35_dw_44\", \"GMS_pds_l35_dw_45\", \"GMS_pds_l35_dw_46\", \"GMS_pds_l35_dw_47\", \"GMS_pds_l35_dw_48\", \"GMS_pds_l35_dw_49\", \"GMS_pds_l35_dw_50\",  \n",
    "# #                 \"GMS_pds_l35_dw_1_ct\", \"GMS_pds_l35_dw_2_ct\", \"GMS_pds_l35_dw_3_ct\", \"GMS_pds_l35_dw_4_ct\", \"GMS_pds_l35_dw_5_ct\", \"GMS_pds_l35_dw_6_ct\", \"GMS_pds_l35_dw_7_ct\", \"GMS_pds_l35_dw_8_ct\", \"GMS_pds_l35_dw_9_ct\", \"GMS_pds_l35_dw_10_ct\", \"GMS_pds_l35_dw_11_ct\", \"GMS_pds_l35_dw_12_ct\", \"GMS_pds_l35_dw_13_ct\", \"GMS_pds_l35_dw_14_ct\", \"GMS_pds_l35_dw_15_ct\", \"GMS_pds_l35_dw_16_ct\", \"GMS_pds_l35_dw_17_ct\", \"GMS_pds_l35_dw_18_ct\", \"GMS_pds_l35_dw_19_ct\", \"GMS_pds_l35_dw_20_ct\", \"GMS_pds_l35_dw_21_ct\", \"GMS_pds_l35_dw_22_ct\", \"GMS_pds_l35_dw_23_ct\", \"GMS_pds_l35_dw_24_ct\", \"GMS_pds_l35_dw_25_ct\", \"GMS_pds_l35_dw_26_ct\", \"GMS_pds_l35_dw_27_ct\", \"GMS_pds_l35_dw_28_ct\", \"GMS_pds_l35_dw_29_ct\", \"GMS_pds_l35_dw_30_ct\", \"GMS_pds_l35_dw_31_ct\", \"GMS_pds_l35_dw_32_ct\", \"GMS_pds_l35_dw_33_ct\", \"GMS_pds_l35_dw_34_ct\", \"GMS_pds_l35_dw_35_ct\", \"GMS_pds_l35_dw_36_ct\", \"GMS_pds_l35_dw_37_ct\", \"GMS_pds_l35_dw_38_ct\", \"GMS_pds_l35_dw_39_ct\", \"GMS_pds_l35_dw_40_ct\", \"GMS_pds_l35_dw_41_ct\", \"GMS_pds_l35_dw_42_ct\", \"GMS_pds_l35_dw_43_ct\", \"GMS_pds_l35_dw_44_ct\", \"GMS_pds_l35_dw_45_ct\", \"GMS_pds_l35_dw_46_ct\", \"GMS_pds_l35_dw_47_ct\", \"GMS_pds_l35_dw_48_ct\", \"GMS_pds_l35_dw_49_ct\", \"GMS_pds_l35_dw_50_ct\",\n",
    "# #                 \"GMS_pds_l35_ws\", \"GMS_pds_l35_ws_ct\"], axis = 1)"
   ]
  },
  {
   "cell_type": "code",
   "execution_count": 66,
   "id": "e1dfd8df",
   "metadata": {},
   "outputs": [],
   "source": [
    "#IS_pds_l40_dw\n",
    "#Provides decay-weighted(dw), puzzle day-specific (pds) mean solve time performance for IS1 over the previous 40 puzzles relative to a given puzzle\n",
    "# Note also that, unlike the 10-puzzle moving average, this weighted average does NOT include the \"puzzle at hand\" itself\n",
    "\n",
    "df1 = df1.sort_values(by=['DOW', 'Comp_Date'], ascending = False)\n",
    "\n",
    "# Gradual decay\n",
    "w = np.arange(1,41)\n",
    "w = list(w)\n",
    "\n",
    "# No decay\n",
    "# w = np.ones(40)\n",
    "# w = list(w)\n",
    "\n",
    "df1[\"IS_pds_l40_dw_1\"] = df1.groupby(['DOW'])['IS1_ST(m)'].shift(-1)*w[0]\n",
    "df1[\"IS_pds_l40_dw_2\"] = df1.groupby(['DOW'])['IS1_ST(m)'].shift(-2)*w[1]\n",
    "df1[\"IS_pds_l40_dw_3\"] = df1.groupby(['DOW'])['IS1_ST(m)'].shift(-3)*w[2]\n",
    "df1[\"IS_pds_l40_dw_4\"] = df1.groupby(['DOW'])['IS1_ST(m)'].shift(-4)*w[3]\n",
    "df1[\"IS_pds_l40_dw_5\"] = df1.groupby(['DOW'])['IS1_ST(m)'].shift(-5)*w[4]\n",
    "df1[\"IS_pds_l40_dw_6\"] = df1.groupby(['DOW'])['IS1_ST(m)'].shift(-6)*w[5]\n",
    "df1[\"IS_pds_l40_dw_7\"] = df1.groupby(['DOW'])['IS1_ST(m)'].shift(-7)*w[6]\n",
    "df1[\"IS_pds_l40_dw_8\"] = df1.groupby(['DOW'])['IS1_ST(m)'].shift(-8)*w[7]\n",
    "df1[\"IS_pds_l40_dw_9\"] = df1.groupby(['DOW'])['IS1_ST(m)'].shift(-9)*w[8]\n",
    "df1[\"IS_pds_l40_dw_10\"] = df1.groupby(['DOW'])['IS1_ST(m)'].shift(-10)*w[9]\n",
    "df1[\"IS_pds_l40_dw_11\"] = df1.groupby(['DOW'])['IS1_ST(m)'].shift(-11)*w[10]\n",
    "df1[\"IS_pds_l40_dw_12\"] = df1.groupby(['DOW'])['IS1_ST(m)'].shift(-12)*w[11]\n",
    "df1[\"IS_pds_l40_dw_13\"] = df1.groupby(['DOW'])['IS1_ST(m)'].shift(-13)*w[12]\n",
    "df1[\"IS_pds_l40_dw_14\"] = df1.groupby(['DOW'])['IS1_ST(m)'].shift(-14)*w[13]\n",
    "df1[\"IS_pds_l40_dw_15\"] = df1.groupby(['DOW'])['IS1_ST(m)'].shift(-15)*w[14]\n",
    "df1[\"IS_pds_l40_dw_16\"] = df1.groupby(['DOW'])['IS1_ST(m)'].shift(-16)*w[15]\n",
    "df1[\"IS_pds_l40_dw_17\"] = df1.groupby(['DOW'])['IS1_ST(m)'].shift(-17)*w[16]\n",
    "df1[\"IS_pds_l40_dw_18\"] = df1.groupby(['DOW'])['IS1_ST(m)'].shift(-18)*w[17]\n",
    "df1[\"IS_pds_l40_dw_19\"] = df1.groupby(['DOW'])['IS1_ST(m)'].shift(-19)*w[18]\n",
    "df1[\"IS_pds_l40_dw_20\"] = df1.groupby(['DOW'])['IS1_ST(m)'].shift(-20)*w[19]\n",
    "df1[\"IS_pds_l40_dw_21\"] = df1.groupby(['DOW'])['IS1_ST(m)'].shift(-21)*w[20]\n",
    "df1[\"IS_pds_l40_dw_22\"] = df1.groupby(['DOW'])['IS1_ST(m)'].shift(-22)*w[21]\n",
    "df1[\"IS_pds_l40_dw_23\"] = df1.groupby(['DOW'])['IS1_ST(m)'].shift(-23)*w[22]\n",
    "df1[\"IS_pds_l40_dw_24\"] = df1.groupby(['DOW'])['IS1_ST(m)'].shift(-24)*w[23]\n",
    "df1[\"IS_pds_l40_dw_25\"] = df1.groupby(['DOW'])['IS1_ST(m)'].shift(-25)*w[24]\n",
    "df1[\"IS_pds_l40_dw_26\"] = df1.groupby(['DOW'])['IS1_ST(m)'].shift(-26)*w[25]\n",
    "df1[\"IS_pds_l40_dw_27\"] = df1.groupby(['DOW'])['IS1_ST(m)'].shift(-27)*w[26]\n",
    "df1[\"IS_pds_l40_dw_28\"] = df1.groupby(['DOW'])['IS1_ST(m)'].shift(-28)*w[27]\n",
    "df1[\"IS_pds_l40_dw_29\"] = df1.groupby(['DOW'])['IS1_ST(m)'].shift(-29)*w[28]\n",
    "df1[\"IS_pds_l40_dw_30\"] = df1.groupby(['DOW'])['IS1_ST(m)'].shift(-30)*w[29]\n",
    "df1[\"IS_pds_l40_dw_31\"] = df1.groupby(['DOW'])['IS1_ST(m)'].shift(-31)*w[30]\n",
    "df1[\"IS_pds_l40_dw_32\"] = df1.groupby(['DOW'])['IS1_ST(m)'].shift(-32)*w[31]\n",
    "df1[\"IS_pds_l40_dw_33\"] = df1.groupby(['DOW'])['IS1_ST(m)'].shift(-33)*w[32]\n",
    "df1[\"IS_pds_l40_dw_34\"] = df1.groupby(['DOW'])['IS1_ST(m)'].shift(-34)*w[33]\n",
    "df1[\"IS_pds_l40_dw_35\"] = df1.groupby(['DOW'])['IS1_ST(m)'].shift(-35)*w[34]\n",
    "df1[\"IS_pds_l40_dw_36\"] = df1.groupby(['DOW'])['IS1_ST(m)'].shift(-36)*w[35]\n",
    "df1[\"IS_pds_l40_dw_37\"] = df1.groupby(['DOW'])['IS1_ST(m)'].shift(-37)*w[36]\n",
    "df1[\"IS_pds_l40_dw_38\"] = df1.groupby(['DOW'])['IS1_ST(m)'].shift(-38)*w[37]\n",
    "df1[\"IS_pds_l40_dw_39\"] = df1.groupby(['DOW'])['IS1_ST(m)'].shift(-39)*w[38]\n",
    "df1[\"IS_pds_l40_dw_40\"] = df1.groupby(['DOW'])['IS1_ST(m)'].shift(-40)*w[39]\n",
    "\n",
    "\n",
    "df1[\"IS_pds_l40_dw_1_ct\"] = (df1.groupby(['DOW'])['IS1_ST(m)'].shift(-1)/df1.groupby(['DOW'])['IS1_ST(m)'].shift(-1))*w[0]\n",
    "df1[\"IS_pds_l40_dw_2_ct\"] = (df1.groupby(['DOW'])['IS1_ST(m)'].shift(-2)/df1.groupby(['DOW'])['IS1_ST(m)'].shift(-2))*w[1]\n",
    "df1[\"IS_pds_l40_dw_3_ct\"] = (df1.groupby(['DOW'])['IS1_ST(m)'].shift(-3)/df1.groupby(['DOW'])['IS1_ST(m)'].shift(-3))*w[2]\n",
    "df1[\"IS_pds_l40_dw_4_ct\"] = (df1.groupby(['DOW'])['IS1_ST(m)'].shift(-4)/df1.groupby(['DOW'])['IS1_ST(m)'].shift(-4))*w[3]\n",
    "df1[\"IS_pds_l40_dw_5_ct\"] = (df1.groupby(['DOW'])['IS1_ST(m)'].shift(-5)/df1.groupby(['DOW'])['IS1_ST(m)'].shift(-5))*w[4]\n",
    "df1[\"IS_pds_l40_dw_6_ct\"] = (df1.groupby(['DOW'])['IS1_ST(m)'].shift(-6)/df1.groupby(['DOW'])['IS1_ST(m)'].shift(-6))*w[5]\n",
    "df1[\"IS_pds_l40_dw_7_ct\"] = (df1.groupby(['DOW'])['IS1_ST(m)'].shift(-7)/df1.groupby(['DOW'])['IS1_ST(m)'].shift(-7))*w[6]\n",
    "df1[\"IS_pds_l40_dw_8_ct\"] = (df1.groupby(['DOW'])['IS1_ST(m)'].shift(-8)/df1.groupby(['DOW'])['IS1_ST(m)'].shift(-8))*w[7]\n",
    "df1[\"IS_pds_l40_dw_9_ct\"] = (df1.groupby(['DOW'])['IS1_ST(m)'].shift(-9)/df1.groupby(['DOW'])['IS1_ST(m)'].shift(-9))*w[8]\n",
    "df1[\"IS_pds_l40_dw_10_ct\"] = (df1.groupby(['DOW'])['IS1_ST(m)'].shift(-10)/df1.groupby(['DOW'])['IS1_ST(m)'].shift(-10))*w[9]\n",
    "df1[\"IS_pds_l40_dw_11_ct\"] = (df1.groupby(['DOW'])['IS1_ST(m)'].shift(-11)/df1.groupby(['DOW'])['IS1_ST(m)'].shift(-11))*w[10]\n",
    "df1[\"IS_pds_l40_dw_12_ct\"] = (df1.groupby(['DOW'])['IS1_ST(m)'].shift(-12)/df1.groupby(['DOW'])['IS1_ST(m)'].shift(-12))*w[11]\n",
    "df1[\"IS_pds_l40_dw_13_ct\"] = (df1.groupby(['DOW'])['IS1_ST(m)'].shift(-13)/df1.groupby(['DOW'])['IS1_ST(m)'].shift(-13))*w[12]\n",
    "df1[\"IS_pds_l40_dw_14_ct\"] = (df1.groupby(['DOW'])['IS1_ST(m)'].shift(-14)/df1.groupby(['DOW'])['IS1_ST(m)'].shift(-14))*w[13]\n",
    "df1[\"IS_pds_l40_dw_15_ct\"] = (df1.groupby(['DOW'])['IS1_ST(m)'].shift(-15)/df1.groupby(['DOW'])['IS1_ST(m)'].shift(-15))*w[14]\n",
    "df1[\"IS_pds_l40_dw_16_ct\"] = (df1.groupby(['DOW'])['IS1_ST(m)'].shift(-16)/df1.groupby(['DOW'])['IS1_ST(m)'].shift(-16))*w[15]\n",
    "df1[\"IS_pds_l40_dw_17_ct\"] = (df1.groupby(['DOW'])['IS1_ST(m)'].shift(-17)/df1.groupby(['DOW'])['IS1_ST(m)'].shift(-17))*w[16]\n",
    "df1[\"IS_pds_l40_dw_18_ct\"] = (df1.groupby(['DOW'])['IS1_ST(m)'].shift(-18)/df1.groupby(['DOW'])['IS1_ST(m)'].shift(-18))*w[17]\n",
    "df1[\"IS_pds_l40_dw_19_ct\"] = (df1.groupby(['DOW'])['IS1_ST(m)'].shift(-19)/df1.groupby(['DOW'])['IS1_ST(m)'].shift(-19))*w[18]\n",
    "df1[\"IS_pds_l40_dw_20_ct\"] = (df1.groupby(['DOW'])['IS1_ST(m)'].shift(-20)/df1.groupby(['DOW'])['IS1_ST(m)'].shift(-20))*w[19]\n",
    "df1[\"IS_pds_l40_dw_21_ct\"] = (df1.groupby(['DOW'])['IS1_ST(m)'].shift(-21)/df1.groupby(['DOW'])['IS1_ST(m)'].shift(-21))*w[20]\n",
    "df1[\"IS_pds_l40_dw_22_ct\"] = (df1.groupby(['DOW'])['IS1_ST(m)'].shift(-22)/df1.groupby(['DOW'])['IS1_ST(m)'].shift(-22))*w[21]\n",
    "df1[\"IS_pds_l40_dw_23_ct\"] = (df1.groupby(['DOW'])['IS1_ST(m)'].shift(-23)/df1.groupby(['DOW'])['IS1_ST(m)'].shift(-23))*w[22]\n",
    "df1[\"IS_pds_l40_dw_24_ct\"] = (df1.groupby(['DOW'])['IS1_ST(m)'].shift(-24)/df1.groupby(['DOW'])['IS1_ST(m)'].shift(-24))*w[23]\n",
    "df1[\"IS_pds_l40_dw_25_ct\"] = (df1.groupby(['DOW'])['IS1_ST(m)'].shift(-25)/df1.groupby(['DOW'])['IS1_ST(m)'].shift(-25))*w[24]\n",
    "df1[\"IS_pds_l40_dw_26_ct\"] = (df1.groupby(['DOW'])['IS1_ST(m)'].shift(-26)/df1.groupby(['DOW'])['IS1_ST(m)'].shift(-26))*w[25]\n",
    "df1[\"IS_pds_l40_dw_27_ct\"] = (df1.groupby(['DOW'])['IS1_ST(m)'].shift(-27)/df1.groupby(['DOW'])['IS1_ST(m)'].shift(-27))*w[26]\n",
    "df1[\"IS_pds_l40_dw_28_ct\"] = (df1.groupby(['DOW'])['IS1_ST(m)'].shift(-28)/df1.groupby(['DOW'])['IS1_ST(m)'].shift(-28))*w[27]\n",
    "df1[\"IS_pds_l40_dw_29_ct\"] = (df1.groupby(['DOW'])['IS1_ST(m)'].shift(-29)/df1.groupby(['DOW'])['IS1_ST(m)'].shift(-29))*w[28]\n",
    "df1[\"IS_pds_l40_dw_30_ct\"] = (df1.groupby(['DOW'])['IS1_ST(m)'].shift(-30)/df1.groupby(['DOW'])['IS1_ST(m)'].shift(-30))*w[29]\n",
    "df1[\"IS_pds_l40_dw_31_ct\"] = (df1.groupby(['DOW'])['IS1_ST(m)'].shift(-31)/df1.groupby(['DOW'])['IS1_ST(m)'].shift(-31))*w[30]\n",
    "df1[\"IS_pds_l40_dw_32_ct\"] = (df1.groupby(['DOW'])['IS1_ST(m)'].shift(-32)/df1.groupby(['DOW'])['IS1_ST(m)'].shift(-32))*w[31]\n",
    "df1[\"IS_pds_l40_dw_33_ct\"] = (df1.groupby(['DOW'])['IS1_ST(m)'].shift(-33)/df1.groupby(['DOW'])['IS1_ST(m)'].shift(-33))*w[32]\n",
    "df1[\"IS_pds_l40_dw_34_ct\"] = (df1.groupby(['DOW'])['IS1_ST(m)'].shift(-34)/df1.groupby(['DOW'])['IS1_ST(m)'].shift(-34))*w[33]\n",
    "df1[\"IS_pds_l40_dw_35_ct\"] = (df1.groupby(['DOW'])['IS1_ST(m)'].shift(-35)/df1.groupby(['DOW'])['IS1_ST(m)'].shift(-35))*w[34]\n",
    "df1[\"IS_pds_l40_dw_36_ct\"] = (df1.groupby(['DOW'])['IS1_ST(m)'].shift(-36)/df1.groupby(['DOW'])['IS1_ST(m)'].shift(-36))*w[35]\n",
    "df1[\"IS_pds_l40_dw_37_ct\"] = (df1.groupby(['DOW'])['IS1_ST(m)'].shift(-37)/df1.groupby(['DOW'])['IS1_ST(m)'].shift(-37))*w[36]\n",
    "df1[\"IS_pds_l40_dw_38_ct\"] = (df1.groupby(['DOW'])['IS1_ST(m)'].shift(-38)/df1.groupby(['DOW'])['IS1_ST(m)'].shift(-38))*w[37]\n",
    "df1[\"IS_pds_l40_dw_39_ct\"] = (df1.groupby(['DOW'])['IS1_ST(m)'].shift(-39)/df1.groupby(['DOW'])['IS1_ST(m)'].shift(-39))*w[38]\n",
    "df1[\"IS_pds_l40_dw_40_ct\"] = (df1.groupby(['DOW'])['IS1_ST(m)'].shift(-40)/df1.groupby(['DOW'])['IS1_ST(m)'].shift(-40))*w[39]\n",
    "\n",
    "\n",
    "df1[\"IS_pds_l40_ws\"] = df1[[\"IS_pds_l40_dw_1\", \"IS_pds_l40_dw_2\", \"IS_pds_l40_dw_3\", \"IS_pds_l40_dw_4\", \"IS_pds_l40_dw_5\", \"IS_pds_l40_dw_6\", \"IS_pds_l40_dw_7\", \"IS_pds_l40_dw_8\", \"IS_pds_l40_dw_9\", \"IS_pds_l40_dw_10\", \"IS_pds_l40_dw_11\", \"IS_pds_l40_dw_12\", \"IS_pds_l40_dw_13\", \"IS_pds_l40_dw_14\", \"IS_pds_l40_dw_15\", \"IS_pds_l40_dw_16\", \"IS_pds_l40_dw_17\", \"IS_pds_l40_dw_18\", \"IS_pds_l40_dw_19\", \"IS_pds_l40_dw_20\", \"IS_pds_l40_dw_21\", \"IS_pds_l40_dw_22\", \"IS_pds_l40_dw_23\", \"IS_pds_l40_dw_24\", \"IS_pds_l40_dw_25\",\n",
    "                            \"IS_pds_l40_dw_26\", \"IS_pds_l40_dw_27\", \"IS_pds_l40_dw_28\", \"IS_pds_l40_dw_29\", \"IS_pds_l40_dw_30\", \"IS_pds_l40_dw_31\", \"IS_pds_l40_dw_32\", \"IS_pds_l40_dw_33\", \"IS_pds_l40_dw_34\", \"IS_pds_l40_dw_35\", \"IS_pds_l40_dw_36\", \"IS_pds_l40_dw_37\", \"IS_pds_l40_dw_38\", \"IS_pds_l40_dw_39\", \"IS_pds_l40_dw_40\"]].sum(axis=1)\n",
    "df1[\"IS_pds_l40_ws_ct\"] = df1[[\"IS_pds_l40_dw_1_ct\", \"IS_pds_l40_dw_2_ct\", \"IS_pds_l40_dw_3_ct\", \"IS_pds_l40_dw_4_ct\", \"IS_pds_l40_dw_5_ct\", \"IS_pds_l40_dw_6_ct\", \"IS_pds_l40_dw_7_ct\", \"IS_pds_l40_dw_8_ct\", \"IS_pds_l40_dw_9_ct\", \"IS_pds_l40_dw_10_ct\", \"IS_pds_l40_dw_11_ct\", \"IS_pds_l40_dw_12_ct\", \"IS_pds_l40_dw_13_ct\", \"IS_pds_l40_dw_14_ct\", \"IS_pds_l40_dw_15_ct\", \"IS_pds_l40_dw_16_ct\", \"IS_pds_l40_dw_17_ct\", \"IS_pds_l40_dw_18_ct\", \"IS_pds_l40_dw_19_ct\", \"IS_pds_l40_dw_20_ct\", \"IS_pds_l40_dw_21_ct\", \"IS_pds_l40_dw_22_ct\", \"IS_pds_l40_dw_23_ct\", \"IS_pds_l40_dw_24_ct\", \"IS_pds_l40_dw_25_ct\",\n",
    "                               \"IS_pds_l40_dw_26_ct\", \"IS_pds_l40_dw_27_ct\", \"IS_pds_l40_dw_28_ct\", \"IS_pds_l40_dw_29_ct\", \"IS_pds_l40_dw_30_ct\", \"IS_pds_l40_dw_31_ct\", \"IS_pds_l40_dw_32_ct\", \"IS_pds_l40_dw_33_ct\", \"IS_pds_l40_dw_34_ct\", \"IS_pds_l40_dw_35_ct\", \"IS_pds_l40_dw_36_ct\", \"IS_pds_l40_dw_37_ct\", \"IS_pds_l40_dw_38_ct\", \"IS_pds_l40_dw_39_ct\", \"IS_pds_l40_dw_40_ct\"]].sum(axis=1)\n",
    "df1[\"IS_pds_l40_dw\"] = df1[\"IS_pds_l40_ws\"]/df1[\"IS_pds_l40_ws_ct\"]\n",
    "\n",
    "# Deleting transient columns\n",
    "df1 = df1.drop([\"IS_pds_l40_dw_1\", \"IS_pds_l40_dw_2\", \"IS_pds_l40_dw_3\", \"IS_pds_l40_dw_4\", \"IS_pds_l40_dw_5\", \"IS_pds_l40_dw_6\", \"IS_pds_l40_dw_7\", \"IS_pds_l40_dw_8\", \"IS_pds_l40_dw_9\", \"IS_pds_l40_dw_10\", \"IS_pds_l40_dw_11\", \"IS_pds_l40_dw_12\", \"IS_pds_l40_dw_13\", \"IS_pds_l40_dw_14\", \"IS_pds_l40_dw_15\", \"IS_pds_l40_dw_16\", \"IS_pds_l40_dw_17\", \"IS_pds_l40_dw_18\", \"IS_pds_l40_dw_19\", \"IS_pds_l40_dw_20\", \"IS_pds_l40_dw_21\", \"IS_pds_l40_dw_22\", \"IS_pds_l40_dw_23\", \"IS_pds_l40_dw_24\", \"IS_pds_l40_dw_25\", \"IS_pds_l40_dw_26\", \"IS_pds_l40_dw_27\", \"IS_pds_l40_dw_28\", \"IS_pds_l40_dw_29\", \"IS_pds_l40_dw_30\", \"IS_pds_l40_dw_31\", \"IS_pds_l40_dw_32\", \"IS_pds_l40_dw_33\", \"IS_pds_l40_dw_34\", \"IS_pds_l40_dw_35\", \"IS_pds_l40_dw_36\", \"IS_pds_l40_dw_37\", \"IS_pds_l40_dw_38\", \"IS_pds_l40_dw_39\", \"IS_pds_l40_dw_40\",  \n",
    "                \"IS_pds_l40_dw_1_ct\", \"IS_pds_l40_dw_2_ct\", \"IS_pds_l40_dw_3_ct\", \"IS_pds_l40_dw_4_ct\", \"IS_pds_l40_dw_5_ct\", \"IS_pds_l40_dw_6_ct\", \"IS_pds_l40_dw_7_ct\", \"IS_pds_l40_dw_8_ct\", \"IS_pds_l40_dw_9_ct\", \"IS_pds_l40_dw_10_ct\", \"IS_pds_l40_dw_11_ct\", \"IS_pds_l40_dw_12_ct\", \"IS_pds_l40_dw_13_ct\", \"IS_pds_l40_dw_14_ct\", \"IS_pds_l40_dw_15_ct\", \"IS_pds_l40_dw_16_ct\", \"IS_pds_l40_dw_17_ct\", \"IS_pds_l40_dw_18_ct\", \"IS_pds_l40_dw_19_ct\", \"IS_pds_l40_dw_20_ct\", \"IS_pds_l40_dw_21_ct\", \"IS_pds_l40_dw_22_ct\", \"IS_pds_l40_dw_23_ct\", \"IS_pds_l40_dw_24_ct\", \"IS_pds_l40_dw_25_ct\", \"IS_pds_l40_dw_26_ct\", \"IS_pds_l40_dw_27_ct\", \"IS_pds_l40_dw_28_ct\", \"IS_pds_l40_dw_29_ct\", \"IS_pds_l40_dw_30_ct\", \"IS_pds_l40_dw_31_ct\", \"IS_pds_l40_dw_32_ct\", \"IS_pds_l40_dw_33_ct\", \"IS_pds_l40_dw_34_ct\", \"IS_pds_l40_dw_35_ct\", \"IS_pds_l40_dw_36_ct\", \"IS_pds_l40_dw_37_ct\", \"IS_pds_l40_dw_38_ct\", \"IS_pds_l40_dw_39_ct\", \"IS_pds_l40_dw_40_ct\",\n",
    "                \"IS_pds_l40_ws\", \"IS_pds_l40_ws_ct\"], axis = 1)"
   ]
  },
  {
   "cell_type": "code",
   "execution_count": 652,
   "id": "8cbfdded",
   "metadata": {},
   "outputs": [],
   "source": [
    "#IS_pds_l50_dw\n",
    "#Provides decay-weighted(dw), puzzle day-specific (pds) mean solve time performance for GMS over the previous 50 puzzles relative to a given puzzle\n",
    "# Note also that, unlike the 10-puzzle moving average, this weighted average does NOT include the \"puzzle at hand\" itself\n",
    "\n",
    "df1 = df1.sort_values(by=['DOW', 'Comp_Date'], ascending = False)\n",
    "\n",
    "# Gradual decay\n",
    "# w = np.arange(1,51)\n",
    "# w = list(w)\n",
    "\n",
    "# No decay\n",
    "w = np.ones(50)\n",
    "w = list(w)\n",
    "\n",
    "df1[\"IS_pds_l50_dw_1\"] = df1.groupby(['DOW'])['IS1_ST(m)'].shift(-1)*w[0]\n",
    "df1[\"IS_pds_l50_dw_2\"] = df1.groupby(['DOW'])['IS1_ST(m)'].shift(-2)*w[1]\n",
    "df1[\"IS_pds_l50_dw_3\"] = df1.groupby(['DOW'])['IS1_ST(m)'].shift(-3)*w[2]\n",
    "df1[\"IS_pds_l50_dw_4\"] = df1.groupby(['DOW'])['IS1_ST(m)'].shift(-4)*w[3]\n",
    "df1[\"IS_pds_l50_dw_5\"] = df1.groupby(['DOW'])['IS1_ST(m)'].shift(-5)*w[4]\n",
    "df1[\"IS_pds_l50_dw_6\"] = df1.groupby(['DOW'])['IS1_ST(m)'].shift(-6)*w[5]\n",
    "df1[\"IS_pds_l50_dw_7\"] = df1.groupby(['DOW'])['IS1_ST(m)'].shift(-7)*w[6]\n",
    "df1[\"IS_pds_l50_dw_8\"] = df1.groupby(['DOW'])['IS1_ST(m)'].shift(-8)*w[7]\n",
    "df1[\"IS_pds_l50_dw_9\"] = df1.groupby(['DOW'])['IS1_ST(m)'].shift(-9)*w[8]\n",
    "df1[\"IS_pds_l50_dw_10\"] = df1.groupby(['DOW'])['IS1_ST(m)'].shift(-10)*w[9]\n",
    "df1[\"IS_pds_l50_dw_11\"] = df1.groupby(['DOW'])['IS1_ST(m)'].shift(-11)*w[10]\n",
    "df1[\"IS_pds_l50_dw_12\"] = df1.groupby(['DOW'])['IS1_ST(m)'].shift(-12)*w[11]\n",
    "df1[\"IS_pds_l50_dw_13\"] = df1.groupby(['DOW'])['IS1_ST(m)'].shift(-13)*w[12]\n",
    "df1[\"IS_pds_l50_dw_14\"] = df1.groupby(['DOW'])['IS1_ST(m)'].shift(-14)*w[13]\n",
    "df1[\"IS_pds_l50_dw_15\"] = df1.groupby(['DOW'])['IS1_ST(m)'].shift(-15)*w[14]\n",
    "df1[\"IS_pds_l50_dw_16\"] = df1.groupby(['DOW'])['IS1_ST(m)'].shift(-16)*w[15]\n",
    "df1[\"IS_pds_l50_dw_17\"] = df1.groupby(['DOW'])['IS1_ST(m)'].shift(-17)*w[16]\n",
    "df1[\"IS_pds_l50_dw_18\"] = df1.groupby(['DOW'])['IS1_ST(m)'].shift(-18)*w[17]\n",
    "df1[\"IS_pds_l50_dw_19\"] = df1.groupby(['DOW'])['IS1_ST(m)'].shift(-19)*w[18]\n",
    "df1[\"IS_pds_l50_dw_20\"] = df1.groupby(['DOW'])['IS1_ST(m)'].shift(-20)*w[19]\n",
    "df1[\"IS_pds_l50_dw_21\"] = df1.groupby(['DOW'])['IS1_ST(m)'].shift(-21)*w[20]\n",
    "df1[\"IS_pds_l50_dw_22\"] = df1.groupby(['DOW'])['IS1_ST(m)'].shift(-22)*w[21]\n",
    "df1[\"IS_pds_l50_dw_23\"] = df1.groupby(['DOW'])['IS1_ST(m)'].shift(-23)*w[22]\n",
    "df1[\"IS_pds_l50_dw_24\"] = df1.groupby(['DOW'])['IS1_ST(m)'].shift(-24)*w[23]\n",
    "df1[\"IS_pds_l50_dw_25\"] = df1.groupby(['DOW'])['IS1_ST(m)'].shift(-25)*w[24]\n",
    "df1[\"IS_pds_l50_dw_26\"] = df1.groupby(['DOW'])['IS1_ST(m)'].shift(-26)*w[25]\n",
    "df1[\"IS_pds_l50_dw_27\"] = df1.groupby(['DOW'])['IS1_ST(m)'].shift(-27)*w[26]\n",
    "df1[\"IS_pds_l50_dw_28\"] = df1.groupby(['DOW'])['IS1_ST(m)'].shift(-28)*w[27]\n",
    "df1[\"IS_pds_l50_dw_29\"] = df1.groupby(['DOW'])['IS1_ST(m)'].shift(-29)*w[28]\n",
    "df1[\"IS_pds_l50_dw_30\"] = df1.groupby(['DOW'])['IS1_ST(m)'].shift(-30)*w[29]\n",
    "df1[\"IS_pds_l50_dw_31\"] = df1.groupby(['DOW'])['IS1_ST(m)'].shift(-31)*w[30]\n",
    "df1[\"IS_pds_l50_dw_32\"] = df1.groupby(['DOW'])['IS1_ST(m)'].shift(-32)*w[31]\n",
    "df1[\"IS_pds_l50_dw_33\"] = df1.groupby(['DOW'])['IS1_ST(m)'].shift(-33)*w[32]\n",
    "df1[\"IS_pds_l50_dw_34\"] = df1.groupby(['DOW'])['IS1_ST(m)'].shift(-34)*w[33]\n",
    "df1[\"IS_pds_l50_dw_35\"] = df1.groupby(['DOW'])['IS1_ST(m)'].shift(-35)*w[34]\n",
    "df1[\"IS_pds_l50_dw_36\"] = df1.groupby(['DOW'])['IS1_ST(m)'].shift(-36)*w[35]\n",
    "df1[\"IS_pds_l50_dw_37\"] = df1.groupby(['DOW'])['IS1_ST(m)'].shift(-37)*w[36]\n",
    "df1[\"IS_pds_l50_dw_38\"] = df1.groupby(['DOW'])['IS1_ST(m)'].shift(-38)*w[37]\n",
    "df1[\"IS_pds_l50_dw_39\"] = df1.groupby(['DOW'])['IS1_ST(m)'].shift(-39)*w[38]\n",
    "df1[\"IS_pds_l50_dw_40\"] = df1.groupby(['DOW'])['IS1_ST(m)'].shift(-40)*w[39]\n",
    "df1[\"IS_pds_l50_dw_41\"] = df1.groupby(['DOW'])['IS1_ST(m)'].shift(-41)*w[40]\n",
    "df1[\"IS_pds_l50_dw_42\"] = df1.groupby(['DOW'])['IS1_ST(m)'].shift(-42)*w[41]\n",
    "df1[\"IS_pds_l50_dw_43\"] = df1.groupby(['DOW'])['IS1_ST(m)'].shift(-43)*w[42]\n",
    "df1[\"IS_pds_l50_dw_44\"] = df1.groupby(['DOW'])['IS1_ST(m)'].shift(-44)*w[43]\n",
    "df1[\"IS_pds_l50_dw_45\"] = df1.groupby(['DOW'])['IS1_ST(m)'].shift(-45)*w[44]\n",
    "df1[\"IS_pds_l50_dw_46\"] = df1.groupby(['DOW'])['IS1_ST(m)'].shift(-46)*w[45]\n",
    "df1[\"IS_pds_l50_dw_47\"] = df1.groupby(['DOW'])['IS1_ST(m)'].shift(-47)*w[46]\n",
    "df1[\"IS_pds_l50_dw_48\"] = df1.groupby(['DOW'])['IS1_ST(m)'].shift(-48)*w[47]\n",
    "df1[\"IS_pds_l50_dw_49\"] = df1.groupby(['DOW'])['IS1_ST(m)'].shift(-49)*w[48]\n",
    "df1[\"IS_pds_l50_dw_50\"] = df1.groupby(['DOW'])['IS1_ST(m)'].shift(-50)*w[49]\n",
    "\n",
    "df1[\"IS_pds_l50_dw_1_ct\"] = (df1.groupby(['DOW'])['IS1_ST(m)'].shift(-1)/df1.groupby(['DOW'])['IS1_ST(m)'].shift(-1))*w[0]\n",
    "df1[\"IS_pds_l50_dw_2_ct\"] = (df1.groupby(['DOW'])['IS1_ST(m)'].shift(-2)/df1.groupby(['DOW'])['IS1_ST(m)'].shift(-2))*w[1]\n",
    "df1[\"IS_pds_l50_dw_3_ct\"] = (df1.groupby(['DOW'])['IS1_ST(m)'].shift(-3)/df1.groupby(['DOW'])['IS1_ST(m)'].shift(-3))*w[2]\n",
    "df1[\"IS_pds_l50_dw_4_ct\"] = (df1.groupby(['DOW'])['IS1_ST(m)'].shift(-4)/df1.groupby(['DOW'])['IS1_ST(m)'].shift(-4))*w[3]\n",
    "df1[\"IS_pds_l50_dw_5_ct\"] = (df1.groupby(['DOW'])['IS1_ST(m)'].shift(-5)/df1.groupby(['DOW'])['IS1_ST(m)'].shift(-5))*w[4]\n",
    "df1[\"IS_pds_l50_dw_6_ct\"] = (df1.groupby(['DOW'])['IS1_ST(m)'].shift(-6)/df1.groupby(['DOW'])['IS1_ST(m)'].shift(-6))*w[5]\n",
    "df1[\"IS_pds_l50_dw_7_ct\"] = (df1.groupby(['DOW'])['IS1_ST(m)'].shift(-7)/df1.groupby(['DOW'])['IS1_ST(m)'].shift(-7))*w[6]\n",
    "df1[\"IS_pds_l50_dw_8_ct\"] = (df1.groupby(['DOW'])['IS1_ST(m)'].shift(-8)/df1.groupby(['DOW'])['IS1_ST(m)'].shift(-8))*w[7]\n",
    "df1[\"IS_pds_l50_dw_9_ct\"] = (df1.groupby(['DOW'])['IS1_ST(m)'].shift(-9)/df1.groupby(['DOW'])['IS1_ST(m)'].shift(-9))*w[8]\n",
    "df1[\"IS_pds_l50_dw_10_ct\"] = (df1.groupby(['DOW'])['IS1_ST(m)'].shift(-10)/df1.groupby(['DOW'])['IS1_ST(m)'].shift(-10))*w[9]\n",
    "df1[\"IS_pds_l50_dw_11_ct\"] = (df1.groupby(['DOW'])['IS1_ST(m)'].shift(-11)/df1.groupby(['DOW'])['IS1_ST(m)'].shift(-11))*w[10]\n",
    "df1[\"IS_pds_l50_dw_12_ct\"] = (df1.groupby(['DOW'])['IS1_ST(m)'].shift(-12)/df1.groupby(['DOW'])['IS1_ST(m)'].shift(-12))*w[11]\n",
    "df1[\"IS_pds_l50_dw_13_ct\"] = (df1.groupby(['DOW'])['IS1_ST(m)'].shift(-13)/df1.groupby(['DOW'])['IS1_ST(m)'].shift(-13))*w[12]\n",
    "df1[\"IS_pds_l50_dw_14_ct\"] = (df1.groupby(['DOW'])['IS1_ST(m)'].shift(-14)/df1.groupby(['DOW'])['IS1_ST(m)'].shift(-14))*w[13]\n",
    "df1[\"IS_pds_l50_dw_15_ct\"] = (df1.groupby(['DOW'])['IS1_ST(m)'].shift(-15)/df1.groupby(['DOW'])['IS1_ST(m)'].shift(-15))*w[14]\n",
    "df1[\"IS_pds_l50_dw_16_ct\"] = (df1.groupby(['DOW'])['IS1_ST(m)'].shift(-16)/df1.groupby(['DOW'])['IS1_ST(m)'].shift(-16))*w[15]\n",
    "df1[\"IS_pds_l50_dw_17_ct\"] = (df1.groupby(['DOW'])['IS1_ST(m)'].shift(-17)/df1.groupby(['DOW'])['IS1_ST(m)'].shift(-17))*w[16]\n",
    "df1[\"IS_pds_l50_dw_18_ct\"] = (df1.groupby(['DOW'])['IS1_ST(m)'].shift(-18)/df1.groupby(['DOW'])['IS1_ST(m)'].shift(-18))*w[17]\n",
    "df1[\"IS_pds_l50_dw_19_ct\"] = (df1.groupby(['DOW'])['IS1_ST(m)'].shift(-19)/df1.groupby(['DOW'])['IS1_ST(m)'].shift(-19))*w[18]\n",
    "df1[\"IS_pds_l50_dw_20_ct\"] = (df1.groupby(['DOW'])['IS1_ST(m)'].shift(-20)/df1.groupby(['DOW'])['IS1_ST(m)'].shift(-20))*w[19]\n",
    "df1[\"IS_pds_l50_dw_21_ct\"] = (df1.groupby(['DOW'])['IS1_ST(m)'].shift(-21)/df1.groupby(['DOW'])['IS1_ST(m)'].shift(-21))*w[20]\n",
    "df1[\"IS_pds_l50_dw_22_ct\"] = (df1.groupby(['DOW'])['IS1_ST(m)'].shift(-22)/df1.groupby(['DOW'])['IS1_ST(m)'].shift(-22))*w[21]\n",
    "df1[\"IS_pds_l50_dw_23_ct\"] = (df1.groupby(['DOW'])['IS1_ST(m)'].shift(-23)/df1.groupby(['DOW'])['IS1_ST(m)'].shift(-23))*w[22]\n",
    "df1[\"IS_pds_l50_dw_24_ct\"] = (df1.groupby(['DOW'])['IS1_ST(m)'].shift(-24)/df1.groupby(['DOW'])['IS1_ST(m)'].shift(-24))*w[23]\n",
    "df1[\"IS_pds_l50_dw_25_ct\"] = (df1.groupby(['DOW'])['IS1_ST(m)'].shift(-25)/df1.groupby(['DOW'])['IS1_ST(m)'].shift(-25))*w[24]\n",
    "df1[\"IS_pds_l50_dw_26_ct\"] = (df1.groupby(['DOW'])['IS1_ST(m)'].shift(-26)/df1.groupby(['DOW'])['IS1_ST(m)'].shift(-26))*w[25]\n",
    "df1[\"IS_pds_l50_dw_27_ct\"] = (df1.groupby(['DOW'])['IS1_ST(m)'].shift(-27)/df1.groupby(['DOW'])['IS1_ST(m)'].shift(-27))*w[26]\n",
    "df1[\"IS_pds_l50_dw_28_ct\"] = (df1.groupby(['DOW'])['IS1_ST(m)'].shift(-28)/df1.groupby(['DOW'])['IS1_ST(m)'].shift(-28))*w[27]\n",
    "df1[\"IS_pds_l50_dw_29_ct\"] = (df1.groupby(['DOW'])['IS1_ST(m)'].shift(-29)/df1.groupby(['DOW'])['IS1_ST(m)'].shift(-29))*w[28]\n",
    "df1[\"IS_pds_l50_dw_30_ct\"] = (df1.groupby(['DOW'])['IS1_ST(m)'].shift(-30)/df1.groupby(['DOW'])['IS1_ST(m)'].shift(-30))*w[29]\n",
    "df1[\"IS_pds_l50_dw_31_ct\"] = (df1.groupby(['DOW'])['IS1_ST(m)'].shift(-31)/df1.groupby(['DOW'])['IS1_ST(m)'].shift(-31))*w[30]\n",
    "df1[\"IS_pds_l50_dw_32_ct\"] = (df1.groupby(['DOW'])['IS1_ST(m)'].shift(-32)/df1.groupby(['DOW'])['IS1_ST(m)'].shift(-32))*w[31]\n",
    "df1[\"IS_pds_l50_dw_33_ct\"] = (df1.groupby(['DOW'])['IS1_ST(m)'].shift(-33)/df1.groupby(['DOW'])['IS1_ST(m)'].shift(-33))*w[32]\n",
    "df1[\"IS_pds_l50_dw_34_ct\"] = (df1.groupby(['DOW'])['IS1_ST(m)'].shift(-34)/df1.groupby(['DOW'])['IS1_ST(m)'].shift(-34))*w[33]\n",
    "df1[\"IS_pds_l50_dw_35_ct\"] = (df1.groupby(['DOW'])['IS1_ST(m)'].shift(-35)/df1.groupby(['DOW'])['IS1_ST(m)'].shift(-35))*w[34]\n",
    "df1[\"IS_pds_l50_dw_36_ct\"] = (df1.groupby(['DOW'])['IS1_ST(m)'].shift(-36)/df1.groupby(['DOW'])['IS1_ST(m)'].shift(-36))*w[35]\n",
    "df1[\"IS_pds_l50_dw_37_ct\"] = (df1.groupby(['DOW'])['IS1_ST(m)'].shift(-37)/df1.groupby(['DOW'])['IS1_ST(m)'].shift(-37))*w[36]\n",
    "df1[\"IS_pds_l50_dw_38_ct\"] = (df1.groupby(['DOW'])['IS1_ST(m)'].shift(-38)/df1.groupby(['DOW'])['IS1_ST(m)'].shift(-38))*w[37]\n",
    "df1[\"IS_pds_l50_dw_39_ct\"] = (df1.groupby(['DOW'])['IS1_ST(m)'].shift(-39)/df1.groupby(['DOW'])['IS1_ST(m)'].shift(-39))*w[38]\n",
    "df1[\"IS_pds_l50_dw_40_ct\"] = (df1.groupby(['DOW'])['IS1_ST(m)'].shift(-40)/df1.groupby(['DOW'])['IS1_ST(m)'].shift(-40))*w[39]\n",
    "df1[\"IS_pds_l50_dw_41_ct\"] = (df1.groupby(['DOW'])['IS1_ST(m)'].shift(-41)/df1.groupby(['DOW'])['IS1_ST(m)'].shift(-41))*w[40]\n",
    "df1[\"IS_pds_l50_dw_42_ct\"] = (df1.groupby(['DOW'])['IS1_ST(m)'].shift(-42)/df1.groupby(['DOW'])['IS1_ST(m)'].shift(-42))*w[41]\n",
    "df1[\"IS_pds_l50_dw_43_ct\"] = (df1.groupby(['DOW'])['IS1_ST(m)'].shift(-43)/df1.groupby(['DOW'])['IS1_ST(m)'].shift(-43))*w[42]\n",
    "df1[\"IS_pds_l50_dw_44_ct\"] = (df1.groupby(['DOW'])['IS1_ST(m)'].shift(-44)/df1.groupby(['DOW'])['IS1_ST(m)'].shift(-44))*w[43]\n",
    "df1[\"IS_pds_l50_dw_45_ct\"] = (df1.groupby(['DOW'])['IS1_ST(m)'].shift(-45)/df1.groupby(['DOW'])['IS1_ST(m)'].shift(-45))*w[44]\n",
    "df1[\"IS_pds_l50_dw_46_ct\"] = (df1.groupby(['DOW'])['IS1_ST(m)'].shift(-46)/df1.groupby(['DOW'])['IS1_ST(m)'].shift(-46))*w[45]\n",
    "df1[\"IS_pds_l50_dw_47_ct\"] = (df1.groupby(['DOW'])['IS1_ST(m)'].shift(-47)/df1.groupby(['DOW'])['IS1_ST(m)'].shift(-47))*w[46]\n",
    "df1[\"IS_pds_l50_dw_48_ct\"] = (df1.groupby(['DOW'])['IS1_ST(m)'].shift(-48)/df1.groupby(['DOW'])['IS1_ST(m)'].shift(-48))*w[47]\n",
    "df1[\"IS_pds_l50_dw_49_ct\"] = (df1.groupby(['DOW'])['IS1_ST(m)'].shift(-49)/df1.groupby(['DOW'])['IS1_ST(m)'].shift(-49))*w[48]\n",
    "df1[\"IS_pds_l50_dw_50_ct\"] = (df1.groupby(['DOW'])['IS1_ST(m)'].shift(-50)/df1.groupby(['DOW'])['IS1_ST(m)'].shift(-50))*w[49]\n",
    "\n",
    "df1[\"IS_pds_l50_ws\"] = df1[[\"IS_pds_l50_dw_1\", \"IS_pds_l50_dw_2\", \"IS_pds_l50_dw_3\", \"IS_pds_l50_dw_4\", \"IS_pds_l50_dw_5\", \"IS_pds_l50_dw_6\", \"IS_pds_l50_dw_7\", \"IS_pds_l50_dw_8\", \"IS_pds_l50_dw_9\", \"IS_pds_l50_dw_10\", \"IS_pds_l50_dw_11\", \"IS_pds_l50_dw_12\", \"IS_pds_l50_dw_13\", \"IS_pds_l50_dw_14\", \"IS_pds_l50_dw_15\", \"IS_pds_l50_dw_16\", \"IS_pds_l50_dw_17\", \"IS_pds_l50_dw_18\", \"IS_pds_l50_dw_19\", \"IS_pds_l50_dw_20\", \"IS_pds_l50_dw_21\", \"IS_pds_l50_dw_22\", \"IS_pds_l50_dw_23\", \"IS_pds_l50_dw_24\", \"IS_pds_l50_dw_25\",\n",
    "                            \"IS_pds_l50_dw_26\", \"IS_pds_l50_dw_27\", \"IS_pds_l50_dw_28\", \"IS_pds_l50_dw_29\", \"IS_pds_l50_dw_30\", \"IS_pds_l50_dw_31\", \"IS_pds_l50_dw_32\", \"IS_pds_l50_dw_33\", \"IS_pds_l50_dw_34\", \"IS_pds_l50_dw_35\", \"IS_pds_l50_dw_36\", \"IS_pds_l50_dw_37\", \"IS_pds_l50_dw_38\", \"IS_pds_l50_dw_39\", \"IS_pds_l50_dw_40\", \"IS_pds_l50_dw_41\", \"IS_pds_l50_dw_42\", \"IS_pds_l50_dw_43\", \"IS_pds_l50_dw_44\", \"IS_pds_l50_dw_45\", \"IS_pds_l50_dw_46\", \"IS_pds_l50_dw_47\", \"IS_pds_l50_dw_48\", \"IS_pds_l50_dw_49\", \"IS_pds_l50_dw_50\"]].sum(axis=1)\n",
    "df1[\"IS_pds_l50_ws_ct\"] = df1[[\"IS_pds_l50_dw_1_ct\", \"IS_pds_l50_dw_2_ct\", \"IS_pds_l50_dw_3_ct\", \"IS_pds_l50_dw_4_ct\", \"IS_pds_l50_dw_5_ct\", \"IS_pds_l50_dw_6_ct\", \"IS_pds_l50_dw_7_ct\", \"IS_pds_l50_dw_8_ct\", \"IS_pds_l50_dw_9_ct\", \"IS_pds_l50_dw_10_ct\", \"IS_pds_l50_dw_11_ct\", \"IS_pds_l50_dw_12_ct\", \"IS_pds_l50_dw_13_ct\", \"IS_pds_l50_dw_14_ct\", \"IS_pds_l50_dw_15_ct\", \"IS_pds_l50_dw_16_ct\", \"IS_pds_l50_dw_17_ct\", \"IS_pds_l50_dw_18_ct\", \"IS_pds_l50_dw_19_ct\", \"IS_pds_l50_dw_20_ct\", \"IS_pds_l50_dw_21_ct\", \"IS_pds_l50_dw_22_ct\", \"IS_pds_l50_dw_23_ct\", \"IS_pds_l50_dw_24_ct\", \"IS_pds_l50_dw_25_ct\",\n",
    "                               \"IS_pds_l50_dw_26_ct\", \"IS_pds_l50_dw_27_ct\", \"IS_pds_l50_dw_28_ct\", \"IS_pds_l50_dw_29_ct\", \"IS_pds_l50_dw_30_ct\", \"IS_pds_l50_dw_31_ct\", \"IS_pds_l50_dw_32_ct\", \"IS_pds_l50_dw_33_ct\", \"IS_pds_l50_dw_34_ct\", \"IS_pds_l50_dw_35_ct\", \"IS_pds_l50_dw_36_ct\", \"IS_pds_l50_dw_37_ct\", \"IS_pds_l50_dw_38_ct\", \"IS_pds_l50_dw_39_ct\", \"IS_pds_l50_dw_40_ct\", \"IS_pds_l50_dw_41_ct\", \"IS_pds_l50_dw_42_ct\", \"IS_pds_l50_dw_43_ct\", \"IS_pds_l50_dw_44_ct\", \"IS_pds_l50_dw_45_ct\", \"IS_pds_l50_dw_46_ct\", \"IS_pds_l50_dw_47_ct\", \"IS_pds_l50_dw_48_ct\", \"IS_pds_l50_dw_49_ct\", \"IS_pds_l50_dw_50_ct\"]].sum(axis=1)\n",
    "df1[\"IS_pds_l50_dw\"] = df1[\"IS_pds_l50_ws\"]/df1[\"IS_pds_l50_ws_ct\"]\n",
    "\n",
    "# Deleting transient columns\n",
    "df1 = df1.drop([\"IS_pds_l50_dw_1\", \"IS_pds_l50_dw_2\", \"IS_pds_l50_dw_3\", \"IS_pds_l50_dw_4\", \"IS_pds_l50_dw_5\", \"IS_pds_l50_dw_6\", \"IS_pds_l50_dw_7\", \"IS_pds_l50_dw_8\", \"IS_pds_l50_dw_9\", \"IS_pds_l50_dw_10\", \"IS_pds_l50_dw_11\", \"IS_pds_l50_dw_12\", \"IS_pds_l50_dw_13\", \"IS_pds_l50_dw_14\", \"IS_pds_l50_dw_15\", \"IS_pds_l50_dw_16\", \"IS_pds_l50_dw_17\", \"IS_pds_l50_dw_18\", \"IS_pds_l50_dw_19\", \"IS_pds_l50_dw_20\", \"IS_pds_l50_dw_21\", \"IS_pds_l50_dw_22\", \"IS_pds_l50_dw_23\", \"IS_pds_l50_dw_24\", \"IS_pds_l50_dw_25\", \"IS_pds_l50_dw_26\", \"IS_pds_l50_dw_27\", \"IS_pds_l50_dw_28\", \"IS_pds_l50_dw_29\", \"IS_pds_l50_dw_30\", \"IS_pds_l50_dw_31\", \"IS_pds_l50_dw_32\", \"IS_pds_l50_dw_33\", \"IS_pds_l50_dw_34\", \"IS_pds_l50_dw_35\", \"IS_pds_l50_dw_36\", \"IS_pds_l50_dw_37\", \"IS_pds_l50_dw_38\", \"IS_pds_l50_dw_39\", \"IS_pds_l50_dw_40\", \"IS_pds_l50_dw_41\", \"IS_pds_l50_dw_42\", \"IS_pds_l50_dw_43\", \"IS_pds_l50_dw_44\", \"IS_pds_l50_dw_45\", \"IS_pds_l50_dw_46\", \"IS_pds_l50_dw_47\", \"IS_pds_l50_dw_48\", \"IS_pds_l50_dw_49\", \"IS_pds_l50_dw_50\",  \n",
    "                \"IS_pds_l50_dw_1_ct\", \"IS_pds_l50_dw_2_ct\", \"IS_pds_l50_dw_3_ct\", \"IS_pds_l50_dw_4_ct\", \"IS_pds_l50_dw_5_ct\", \"IS_pds_l50_dw_6_ct\", \"IS_pds_l50_dw_7_ct\", \"IS_pds_l50_dw_8_ct\", \"IS_pds_l50_dw_9_ct\", \"IS_pds_l50_dw_10_ct\", \"IS_pds_l50_dw_11_ct\", \"IS_pds_l50_dw_12_ct\", \"IS_pds_l50_dw_13_ct\", \"IS_pds_l50_dw_14_ct\", \"IS_pds_l50_dw_15_ct\", \"IS_pds_l50_dw_16_ct\", \"IS_pds_l50_dw_17_ct\", \"IS_pds_l50_dw_18_ct\", \"IS_pds_l50_dw_19_ct\", \"IS_pds_l50_dw_20_ct\", \"IS_pds_l50_dw_21_ct\", \"IS_pds_l50_dw_22_ct\", \"IS_pds_l50_dw_23_ct\", \"IS_pds_l50_dw_24_ct\", \"IS_pds_l50_dw_25_ct\", \"IS_pds_l50_dw_26_ct\", \"IS_pds_l50_dw_27_ct\", \"IS_pds_l50_dw_28_ct\", \"IS_pds_l50_dw_29_ct\", \"IS_pds_l50_dw_30_ct\", \"IS_pds_l50_dw_31_ct\", \"IS_pds_l50_dw_32_ct\", \"IS_pds_l50_dw_33_ct\", \"IS_pds_l50_dw_34_ct\", \"IS_pds_l50_dw_35_ct\", \"IS_pds_l50_dw_36_ct\", \"IS_pds_l50_dw_37_ct\", \"IS_pds_l50_dw_38_ct\", \"IS_pds_l50_dw_39_ct\", \"IS_pds_l50_dw_40_ct\", \"IS_pds_l50_dw_41_ct\", \"IS_pds_l50_dw_42_ct\", \"IS_pds_l50_dw_43_ct\", \"IS_pds_l50_dw_44_ct\", \"IS_pds_l50_dw_45_ct\", \"IS_pds_l50_dw_46_ct\", \"IS_pds_l50_dw_47_ct\", \"IS_pds_l50_dw_48_ct\", \"IS_pds_l50_dw_49_ct\", \"IS_pds_l50_dw_50_ct\",\n",
    "                \"IS_pds_l50_ws\", \"IS_pds_l50_ws_ct\"], axis = 1)"
   ]
  },
  {
   "cell_type": "markdown",
   "id": "b6164441",
   "metadata": {},
   "source": [
    "Creating df variants with only the columns we will need to generate the benchmark models "
   ]
  },
  {
   "cell_type": "code",
   "execution_count": 486,
   "id": "4674aae5",
   "metadata": {},
   "outputs": [],
   "source": [
    "df_filter=df1.copy()"
   ]
  },
  {
   "cell_type": "code",
   "execution_count": 487,
   "id": "a027a7e8",
   "metadata": {},
   "outputs": [],
   "source": [
    "#df_model1 = df_filter[[\"IS2_ST(m)\", \"IS_pds_l5_dw\"]]\n",
    "#df_model1 = df_filter[[\"IS2_ST(m)\", \"IS_pds_l7_dw\"]]\n",
    "#df_model1 = df_filter[[\"IS2_ST(m)\", \"IS_pds_l8_dw\"]]\n",
    "#df_model1 = df_filter[[\"IS2_ST(m)\", \"IS_pds_l9_dw\"]]\n",
    "#df_model1 = df_filter[[\"IS2_ST(m)\", \"IS_pds_l10_dw\"]]\n",
    "df_model1 = df_filter[[\"IS2_ST(m)\", \"IS_pds_l11_dw\"]]\n",
    "#df_model1 = df_filter[[\"IS2_ST(m)\", \"IS_pds_l12_dw\"]]\n",
    "#df_model1 = df_filter[[\"IS2_ST(m)\", \"IS_pds_l15_dw\"]]\n",
    "#df_model1 = df_filter[[\"IS2_ST(m)\", \"IS_pds_l20_dw\"]]\n",
    "#df_model1 = df_filter[[\"IS2_ST(m)\", \"IS_pds_l25_dw\"]]\n",
    "#df_model1 = df_filter[[\"IS2_ST(m)\", \"IS_pds_l40_dw\"]]\n",
    "#df_model1 = df_filter[[\"IS2_ST(m)\", \"IS_pds_l50_dw\"]]\n",
    "\n",
    "#df_model1 = df_filter[[\"IS2_ST(m)\", \"IS_pds_l35_dw\"]]\n",
    "#df_model1 = df_filter[[\"IS2_ST(m)\", \"IS_pds_l45_dw\"]]\n",
    "#df_model1 = df_filter[[\"IS2_ST(m)\", \"overall_day_mean_IST_ST(m)\"]]"
   ]
  },
  {
   "cell_type": "code",
   "execution_count": 488,
   "id": "55f787a2",
   "metadata": {},
   "outputs": [
    {
     "name": "stdout",
     "output_type": "stream",
     "text": [
      "<class 'pandas.core.frame.DataFrame'>\n",
      "Int64Index: 942 entries, 0 to 1177\n",
      "Data columns (total 2 columns):\n",
      " #   Column         Non-Null Count  Dtype  \n",
      "---  ------         --------------  -----  \n",
      " 0   IS2_ST(m)      942 non-null    float64\n",
      " 1   IS_pds_l11_dw  936 non-null    float64\n",
      "dtypes: float64(2)\n",
      "memory usage: 22.1 KB\n"
     ]
    }
   ],
   "source": [
    "df_model1.info()"
   ]
  },
  {
   "cell_type": "markdown",
   "id": "6f76d820",
   "metadata": {},
   "source": [
    "### Train Test Split"
   ]
  },
  {
   "cell_type": "code",
   "execution_count": 489,
   "id": "37dfcba4",
   "metadata": {},
   "outputs": [
    {
     "data": {
      "text/plain": [
       "(753.6, 188.4)"
      ]
     },
     "execution_count": 489,
     "metadata": {},
     "output_type": "execute_result"
    }
   ],
   "source": [
    "len(df_model1) * .80, len(df_model1) * .20"
   ]
  },
  {
   "cell_type": "code",
   "execution_count": 490,
   "id": "41207c43",
   "metadata": {},
   "outputs": [],
   "source": [
    "X_train, X_test, y_train, y_test = train_test_split(df_model1.drop(columns='IS2_ST(m)'), \n",
    "                                                    df_model1[\"IS2_ST(m)\"], test_size=0.20, \n",
    "                                                    random_state=47)"
   ]
  },
  {
   "cell_type": "code",
   "execution_count": 491,
   "id": "9aadc9a5",
   "metadata": {},
   "outputs": [
    {
     "data": {
      "text/plain": [
       "((753,), (189,))"
      ]
     },
     "execution_count": 491,
     "metadata": {},
     "output_type": "execute_result"
    }
   ],
   "source": [
    "y_train.shape, y_test.shape"
   ]
  },
  {
   "cell_type": "code",
   "execution_count": 492,
   "id": "7b3da5c6",
   "metadata": {},
   "outputs": [
    {
     "data": {
      "text/plain": [
       "255      9.733333\n",
       "1085    43.733333\n",
       "124     15.583333\n",
       "35       7.583333\n",
       "393     17.983333\n",
       "          ...    \n",
       "795     42.433333\n",
       "282     12.783333\n",
       "363     13.350000\n",
       "1138    22.550000\n",
       "135     17.866667\n",
       "Name: IS2_ST(m), Length: 753, dtype: float64"
      ]
     },
     "execution_count": 492,
     "metadata": {},
     "output_type": "execute_result"
    }
   ],
   "source": [
    "y_train"
   ]
  },
  {
   "cell_type": "code",
   "execution_count": 493,
   "id": "3944cffa",
   "metadata": {},
   "outputs": [
    {
     "data": {
      "text/plain": [
       "((753, 1), (189, 1))"
      ]
     },
     "execution_count": 493,
     "metadata": {},
     "output_type": "execute_result"
    }
   ],
   "source": [
    "X_train.shape, X_test.shape"
   ]
  },
  {
   "cell_type": "code",
   "execution_count": 494,
   "id": "bbc338ab",
   "metadata": {},
   "outputs": [
    {
     "data": {
      "text/plain": [
       "18.34957945993803"
      ]
     },
     "execution_count": 494,
     "metadata": {},
     "output_type": "execute_result"
    }
   ],
   "source": [
    "y_train.mean()"
   ]
  },
  {
   "cell_type": "markdown",
   "id": "a297aad7",
   "metadata": {},
   "source": [
    "### Benchmark Linear Model Based on Last N Day-Specific Puzzles With X Decay Weighting"
   ]
  },
  {
   "cell_type": "code",
   "execution_count": 495,
   "id": "2dffb29e",
   "metadata": {},
   "outputs": [
    {
     "name": "stdout",
     "output_type": "stream",
     "text": [
      "<class 'pandas.core.frame.DataFrame'>\n",
      "Int64Index: 753 entries, 255 to 135\n",
      "Data columns (total 1 columns):\n",
      " #   Column         Non-Null Count  Dtype  \n",
      "---  ------         --------------  -----  \n",
      " 0   IS_pds_l11_dw  747 non-null    float64\n",
      "dtypes: float64(1)\n",
      "memory usage: 11.8 KB\n"
     ]
    }
   ],
   "source": [
    "X_train.info()"
   ]
  },
  {
   "cell_type": "code",
   "execution_count": 496,
   "id": "3f05e589",
   "metadata": {},
   "outputs": [],
   "source": [
    "lr_pipe = make_pipeline(\n",
    "    SimpleImputer(strategy='median'), \n",
    "    StandardScaler(),\n",
    "    SelectKBest(f_regression),\n",
    "    LinearRegression()\n",
    ")"
   ]
  },
  {
   "cell_type": "code",
   "execution_count": 497,
   "id": "3b6274eb",
   "metadata": {},
   "outputs": [
    {
     "data": {
      "text/plain": [
       "dict_keys(['memory', 'steps', 'verbose', 'simpleimputer', 'standardscaler', 'selectkbest', 'linearregression', 'simpleimputer__add_indicator', 'simpleimputer__copy', 'simpleimputer__fill_value', 'simpleimputer__missing_values', 'simpleimputer__strategy', 'simpleimputer__verbose', 'standardscaler__copy', 'standardscaler__with_mean', 'standardscaler__with_std', 'selectkbest__k', 'selectkbest__score_func', 'linearregression__copy_X', 'linearregression__fit_intercept', 'linearregression__n_jobs', 'linearregression__normalize', 'linearregression__positive'])"
      ]
     },
     "execution_count": 497,
     "metadata": {},
     "output_type": "execute_result"
    }
   ],
   "source": [
    "#Dict of available parameters for linear regression pipe\n",
    "lr_pipe.get_params().keys()"
   ]
  },
  {
   "cell_type": "code",
   "execution_count": 498,
   "id": "8d45a3c7",
   "metadata": {},
   "outputs": [],
   "source": [
    "#Define search grid parameters\n",
    "k = [k+1 for k in range(len(X_train.columns))]\n",
    "\n",
    "grid_params = {\n",
    "    'standardscaler': [StandardScaler(), None],\n",
    "    'simpleimputer__strategy': ['mean', 'median'],\n",
    "    'selectkbest__k': k\n",
    "}"
   ]
  },
  {
   "cell_type": "code",
   "execution_count": 499,
   "id": "03fa5d78",
   "metadata": {},
   "outputs": [],
   "source": [
    "#Call `GridSearchCV` with linear regression pipeline, passing in the above `grid_params`\n",
    "#dict for parameters to evaluate with 5-fold cross-validation\n",
    "lr_grid_cv = GridSearchCV(lr_pipe, param_grid=grid_params, cv=5)"
   ]
  },
  {
   "cell_type": "code",
   "execution_count": 500,
   "id": "c1947d57",
   "metadata": {},
   "outputs": [
    {
     "data": {
      "text/plain": [
       "GridSearchCV(cv=5,\n",
       "             estimator=Pipeline(steps=[('simpleimputer',\n",
       "                                        SimpleImputer(strategy='median')),\n",
       "                                       ('standardscaler', StandardScaler()),\n",
       "                                       ('selectkbest',\n",
       "                                        SelectKBest(score_func=<function f_regression at 0x000001745ECA1310>)),\n",
       "                                       ('linearregression',\n",
       "                                        LinearRegression())]),\n",
       "             param_grid={'selectkbest__k': [1],\n",
       "                         'simpleimputer__strategy': ['mean', 'median'],\n",
       "                         'standardscaler': [StandardScaler(), None]})"
      ]
     },
     "execution_count": 500,
     "metadata": {},
     "output_type": "execute_result"
    }
   ],
   "source": [
    "#Conduct grid search for this model\n",
    "lr_grid_cv.fit(X_train, y_train)"
   ]
  },
  {
   "cell_type": "code",
   "execution_count": 501,
   "id": "a1106123",
   "metadata": {},
   "outputs": [
    {
     "data": {
      "text/plain": [
       "{'selectkbest__k': 1,\n",
       " 'simpleimputer__strategy': 'mean',\n",
       " 'standardscaler': StandardScaler()}"
      ]
     },
     "execution_count": 501,
     "metadata": {},
     "output_type": "execute_result"
    }
   ],
   "source": [
    "#Best params from grid search for this model\n",
    "lr_grid_cv.best_params_"
   ]
  },
  {
   "cell_type": "markdown",
   "id": "95754b7d",
   "metadata": {},
   "source": [
    "### Linear Model Metrics From RPB Variant"
   ]
  },
  {
   "cell_type": "markdown",
   "id": "7b934d9b",
   "metadata": {},
   "source": [
    "#### R-squared (COD)"
   ]
  },
  {
   "cell_type": "code",
   "execution_count": 502,
   "id": "9fe2be9c",
   "metadata": {},
   "outputs": [
    {
     "data": {
      "text/plain": [
       "array([0.50791014, 0.50789255, 0.51860313, 0.55435647, 0.63020457])"
      ]
     },
     "execution_count": 502,
     "metadata": {},
     "output_type": "execute_result"
    }
   ],
   "source": [
    "#Cross-validation defaults to R^2 metric for scoring regression\n",
    "lr_best_cv_results = cross_validate(lr_grid_cv.best_estimator_, X_train, y_train, cv=5)\n",
    "lr_best_scores = lr_best_cv_results['test_score']\n",
    "lr_best_scores"
   ]
  },
  {
   "cell_type": "code",
   "execution_count": 503,
   "id": "ff3d458a",
   "metadata": {},
   "outputs": [
    {
     "data": {
      "text/plain": [
       "(0.543793371746686, 0.04645319759415771)"
      ]
     },
     "execution_count": 503,
     "metadata": {},
     "output_type": "execute_result"
    }
   ],
   "source": [
    "#Training set CV mean and std\n",
    "np.mean(lr_best_scores), np.std(lr_best_scores)"
   ]
  },
  {
   "cell_type": "markdown",
   "id": "eb63283c",
   "metadata": {},
   "source": [
    "#### Mean Absolute Error (MAE)"
   ]
  },
  {
   "cell_type": "code",
   "execution_count": 504,
   "id": "73d54fe8",
   "metadata": {},
   "outputs": [],
   "source": [
    "lr_neg_mae = cross_validate(lr_grid_cv.best_estimator_, X_train, y_train, \n",
    "                            scoring='neg_mean_absolute_error', cv=5, n_jobs=-1)"
   ]
  },
  {
   "cell_type": "code",
   "execution_count": 505,
   "id": "6ed58255",
   "metadata": {},
   "outputs": [
    {
     "data": {
      "text/plain": [
       "(5.882558345711867, 0.5085033780708521)"
      ]
     },
     "execution_count": 505,
     "metadata": {},
     "output_type": "execute_result"
    }
   ],
   "source": [
    "# Training set MAE and STD \n",
    "lr_mae_mean = np.mean(-1 * lr_neg_mae['test_score'])\n",
    "lr_mae_std = np.std(-1 * lr_neg_mae['test_score'])\n",
    "MAE_LR_train = lr_mae_mean, lr_mae_std\n",
    "MAE_LR_train"
   ]
  },
  {
   "cell_type": "code",
   "execution_count": 506,
   "id": "3142ce5e",
   "metadata": {},
   "outputs": [
    {
     "data": {
      "text/plain": [
       "6.876045615074076"
      ]
     },
     "execution_count": 506,
     "metadata": {},
     "output_type": "execute_result"
    }
   ],
   "source": [
    "# Test set mean\n",
    "MAE_LR_test = mean_absolute_error(y_test, lr_grid_cv.best_estimator_.predict(X_test))\n",
    "MAE_LR_test"
   ]
  },
  {
   "cell_type": "markdown",
   "id": "2bd96b16",
   "metadata": {},
   "source": [
    "#### Mean Squared Error (MSE)"
   ]
  },
  {
   "cell_type": "code",
   "execution_count": 507,
   "id": "d7bb4408",
   "metadata": {},
   "outputs": [],
   "source": [
    "lr_neg_mse = cross_validate(lr_grid_cv.best_estimator_, X_train, y_train, \n",
    "                            scoring='neg_mean_squared_error', cv=5)"
   ]
  },
  {
   "cell_type": "code",
   "execution_count": 508,
   "id": "590c02f0",
   "metadata": {},
   "outputs": [
    {
     "data": {
      "text/plain": [
       "(88.41543729204777, 12.185361092845158)"
      ]
     },
     "execution_count": 508,
     "metadata": {},
     "output_type": "execute_result"
    }
   ],
   "source": [
    "#Training set CV mean and std\n",
    "lr_mse_mean = np.mean(-1 * lr_neg_mse['test_score'])\n",
    "lr_mse_std = np.std(-1 * lr_neg_mse['test_score'])\n",
    "MSE_LR_train = lr_mse_mean, lr_mse_std\n",
    "MSE_LR_train"
   ]
  },
  {
   "cell_type": "code",
   "execution_count": 509,
   "id": "ec4b5820",
   "metadata": {},
   "outputs": [
    {
     "data": {
      "text/plain": [
       "105.19915509851528"
      ]
     },
     "execution_count": 509,
     "metadata": {},
     "output_type": "execute_result"
    }
   ],
   "source": [
    "# Test set mean\n",
    "MSE_LR_test = mean_squared_error(y_test, lr_grid_cv.best_estimator_.predict(X_test))\n",
    "MSE_LR_test"
   ]
  },
  {
   "cell_type": "markdown",
   "id": "e903f84c",
   "metadata": {},
   "source": [
    "#### Root Mean Square Error (RMSE)"
   ]
  },
  {
   "cell_type": "code",
   "execution_count": 510,
   "id": "3400ccba",
   "metadata": {},
   "outputs": [],
   "source": [
    "lr_neg_rmse = cross_validate(lr_grid_cv.best_estimator_, X_train, y_train, \n",
    "                            scoring='neg_root_mean_squared_error', cv=5)"
   ]
  },
  {
   "cell_type": "code",
   "execution_count": 511,
   "id": "feef3271",
   "metadata": {},
   "outputs": [
    {
     "data": {
      "text/plain": [
       "(9.380887036399496, 0.6437357395388599)"
      ]
     },
     "execution_count": 511,
     "metadata": {},
     "output_type": "execute_result"
    }
   ],
   "source": [
    "#Training set CV mean and std\n",
    "lr_rmse_mean = np.mean(-1 * lr_neg_rmse['test_score'])\n",
    "lr_rmse_std = np.std(-1 * lr_neg_rmse['test_score'])\n",
    "RMSE_LR_train = lr_rmse_mean, lr_rmse_std\n",
    "RMSE_LR_train"
   ]
  },
  {
   "cell_type": "code",
   "execution_count": 512,
   "id": "ecd941f3",
   "metadata": {},
   "outputs": [
    {
     "data": {
      "text/plain": [
       "10.25666393612052"
      ]
     },
     "execution_count": 512,
     "metadata": {},
     "output_type": "execute_result"
    }
   ],
   "source": [
    "# Test set mean\n",
    "RMSE_LR_test = np.sqrt(mean_squared_error(y_test, lr_grid_cv.best_estimator_.predict(X_test)))\n",
    "RMSE_LR_test"
   ]
  },
  {
   "cell_type": "markdown",
   "id": "8d80f0b9",
   "metadata": {},
   "source": [
    "IS2\n",
    "\n",
    "Results for Different Decay-Variants (RMSE) deviation in minutes\n",
    "This series 2018-2019 solves HAVE been removed\n",
    "\n",
    "Previous 5-day-specific puzzles weighting: (5,4,3,2,1)\n",
    "Training: (9.786545944069342, 0.4609918425623554)   Testing: 11.222689117530397\n",
    "\n",
    "Previous 5-day-specific puzzles NO decay weighting: (1,1,1,1,1)\n",
    "Training: (9.548456581346477, 0.4431892030651494)  Testing: 11.00065563982726\n",
    "\n",
    "Previous 7-day-specific puzzles weighting: (7,6,5,4,3,2,1)\n",
    "Training: (9.806541380298015, 0.5664850693731814)  Testing: 10.817209017061433\n",
    "\n",
    "Previous 7-day-specific puzzles NO decay weighting: (1,1,1,1,1,1,1)\n",
    "Training: (9.492289552498136, 0.5192018228288098), Testing: 10.761158393428632\n",
    "\n",
    "Previous 8-day-specific puzzles weighting: (8,7,6,5,4,3,2,1)\n",
    "Training: (9.802542304702078, 0.6417049871979194), Testing: 10.915138758233237\n",
    "\n",
    "Previous 8-day-specific puzzles NO decay weighting: (1,1,1,1,1,1,1,1)\n",
    "Training: (9.474008660477427, 0.573193097902938) , Testing: 10.803890029991948\n",
    "\n",
    "Previous 9-day-specific puzzles weighting: (9,8,7,6,5,4,3,2,1)\n",
    "Training: (9.75857267908731, 0.6931573002748672), Testing: 10.572225170046044\n",
    "\n",
    "Previous 9-day-specific puzzles NO decay weighting: (1,1,1,1,1,1,1,1,1)\n",
    "Training: (9.436479947578825, 0.6038620330153149), Testing: 10.614684380656712\n",
    "\n",
    "\n",
    "Previous 10-day-specific puzzles weighting: (10,9,8,7,6,5,4,3,2,1)\n",
    "Training: (9.615157259904759, 0.7242625018536559), Testing: 10.18868615738438\n",
    "\n",
    "*******************************************************************************\n",
    "Previous 10-day-specific puzzles NO decay weighting: (1,1,1,1,1,1,1,1,1,1)\n",
    "Training: (9.34929335656066, 0.5849791869617799), Testing: 10.391901127775267\n",
    "*******************************************************************************\n",
    "\n",
    "Previous 11-day-specific puzzles weighting: (11,10,9,8,7,6,5,4,3,2,1)\n",
    "Training:(9.664292058681028, 0.8196239562890933), Testing: 10.029637439856753\n",
    "\n",
    "Previous 11-day-specific puzzles NO decay weighting: (1,1,1,1,1,1,1,1,1,1,1)\n",
    "Training: (9.380887036399496, 0.6437357395388599), Testing: 10.25666393612052\n",
    "\n",
    "Previous 12-day-specific puzzles weighting: (12,11,10,9,8,7,6,5,4,3,2,1)\n",
    "Training: (9.653058986014615, 0.8218199404432892), Testing: 9.926979615308175\n",
    "\n",
    "Previous 12-day-specific puzzles NO decay weighting: (1,1,1,1,1,1,1,1,1,1,1,1)\n",
    "Training: (9.38024249929179, 0.6604850961509687), Testing: 10.14766341005752\n",
    "\n",
    "Previous 15-day-specific puzzles weighting: (15,14,13...)\n",
    "Training: (9.689432705603844, 0.8340069034156191), 10.275485603646484\n",
    "\n",
    "Previous 15-day-specific puzzles NO decay weighting: (1,1,1...)\n",
    "Training: (9.410895620301494, 0.6567257107625311), 10.253007599276069 "
   ]
  },
  {
   "cell_type": "code",
   "execution_count": null,
   "id": "9e87b037",
   "metadata": {},
   "outputs": [],
   "source": []
  },
  {
   "cell_type": "code",
   "execution_count": null,
   "id": "5df39b28",
   "metadata": {},
   "outputs": [],
   "source": []
  },
  {
   "cell_type": "code",
   "execution_count": null,
   "id": "d4de526f",
   "metadata": {},
   "outputs": [],
   "source": []
  }
 ],
 "metadata": {
  "kernelspec": {
   "display_name": "Python 3",
   "language": "python",
   "name": "python3"
  },
  "language_info": {
   "codemirror_mode": {
    "name": "ipython",
    "version": 3
   },
   "file_extension": ".py",
   "mimetype": "text/x-python",
   "name": "python",
   "nbconvert_exporter": "python",
   "pygments_lexer": "ipython3",
   "version": "3.8.8"
  }
 },
 "nbformat": 4,
 "nbformat_minor": 5
}
