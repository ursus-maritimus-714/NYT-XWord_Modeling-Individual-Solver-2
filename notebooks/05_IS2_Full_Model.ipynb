{
 "cells": [
  {
   "cell_type": "markdown",
   "id": "716cb14e",
   "metadata": {},
   "source": [
    "### Imports"
   ]
  },
  {
   "cell_type": "code",
   "execution_count": 1,
   "id": "29ee9205",
   "metadata": {},
   "outputs": [],
   "source": [
    "import pandas as pd\n",
    "import numpy as np\n",
    "import os\n",
    "import pickle\n",
    "import matplotlib.pyplot as plt\n",
    "import seaborn as sns\n",
    "from sklearn import __version__ as sklearn_version\n",
    "from sklearn.model_selection import cross_validate"
   ]
  },
  {
   "cell_type": "markdown",
   "id": "51fbf267",
   "metadata": {},
   "source": [
    "### Load Best Model"
   ]
  },
  {
   "cell_type": "code",
   "execution_count": 2,
   "id": "201f34f7",
   "metadata": {},
   "outputs": [],
   "source": [
    "expected_model_version = '1.0'\n",
    "model_path = '../models/full best model/IS2_full_best_model_gb.pkl'\n",
    "if os.path.exists(model_path):\n",
    "    with open(model_path, 'rb') as f:\n",
    "        model = pickle.load(f)\n",
    "    if model.version != expected_model_version:\n",
    "        print(\"Expected model version doesn't match version loaded\")\n",
    "    if model.sklearn_version != sklearn_version:\n",
    "        print(\"Warning: model created under different sklearn version\")\n",
    "else:\n",
    "    print(\"Expected model not found\")"
   ]
  },
  {
   "cell_type": "markdown",
   "id": "de69983d",
   "metadata": {},
   "source": [
    "### Load and Filter Data"
   ]
  },
  {
   "cell_type": "code",
   "execution_count": 3,
   "id": "aed83d2d",
   "metadata": {},
   "outputs": [],
   "source": [
    "#Processed data used in generating best IS1 model\n",
    "data = pd.read_csv('../data/df_for_modeling_no_decay_weighting.csv')"
   ]
  },
  {
   "cell_type": "code",
   "execution_count": 4,
   "id": "910ea415",
   "metadata": {},
   "outputs": [],
   "source": [
    "# Drop some columns that we don't want/need for modeling (and a few would cause subtle forms of data leakage)\n",
    "df_filter = data.copy()\n",
    "df_filter.drop(['P_Date','P_Date_str', 'Comp_Date', 'Comp_Date_str', 'IS2_Completed','DOW', 'IS_pds_l10_ndw', 'GMST(m)', 'Constructors','overall_day_mean_IST(m)','Uniclue','Duplicate_Answers','Unchecked_Sq','Quantum'],inplace=True,axis=1)"
   ]
  },
  {
   "cell_type": "code",
   "execution_count": 5,
   "id": "ed174a92",
   "metadata": {},
   "outputs": [],
   "source": [
    "# This one has no impact on prediction quality but was raising warning in the Linear Modeling for some reason (probably all zeroes in the training set)\n",
    "df_filter.drop(['Outside_Grid'], inplace=True, axis=1)\n",
    "#df_filter.drop(['Duplicate_Clues', 'Circle_Count', 'Shade_Count', 'Unusual_Sym', 'Black_Square_Fill'], inplace=True, axis=1)"
   ]
  },
  {
   "cell_type": "code",
   "execution_count": 6,
   "id": "71de1c51",
   "metadata": {},
   "outputs": [],
   "source": [
    "#Move target feature to the front\n",
    "col = df_filter.pop('IS2_ST(m)')\n",
    "df_filter.insert(0, col.name, col)"
   ]
  },
  {
   "cell_type": "code",
   "execution_count": 7,
   "id": "0a654fb4",
   "metadata": {},
   "outputs": [],
   "source": [
    "#Filter out Sunday\n",
    "df_filter =df_filter[df_filter[\"DOW_num\"]!=1]"
   ]
  },
  {
   "cell_type": "code",
   "execution_count": 8,
   "id": "4d21cc23",
   "metadata": {},
   "outputs": [],
   "source": [
    "#Deep copy of this df_filter that is now pared down to just the predictive features and the target feature itself \n",
    "# All features are derived from data available prior to any given puzzle being predicted on. No data leakage!\n",
    "df_model1 = df_filter.copy()"
   ]
  },
  {
   "cell_type": "code",
   "execution_count": 9,
   "id": "d82437f3",
   "metadata": {},
   "outputs": [
    {
     "name": "stdout",
     "output_type": "stream",
     "text": [
      "<class 'pandas.core.frame.DataFrame'>\n",
      "Int64Index: 956 entries, 0 to 1107\n",
      "Data columns (total 35 columns):\n",
      " #   Column                                Non-Null Count  Dtype  \n",
      "---  ------                                --------------  -----  \n",
      " 0   IS2_ST(m)                             956 non-null    float64\n",
      " 1   Comp_Hr                               956 non-null    int64  \n",
      " 2   Solve_day_phase                       956 non-null    float64\n",
      " 3   IS_per_sdp_avg_past_diff_from_RPB     956 non-null    float64\n",
      " 4   DOW_num                               956 non-null    float64\n",
      " 5   IS_pds_l10_stdev                      956 non-null    float64\n",
      " 6   IS_pds_l10_ndw_SOS_adj                956 non-null    float64\n",
      " 7   IS_per_constr_avg_past_diff_from_RPB  532 non-null    float64\n",
      " 8   IS2_pds_prior_solves_ct               956 non-null    float64\n",
      " 9   IS2_npds_prior_solves_ct              956 non-null    float64\n",
      " 10  IS2_solves_l7                         956 non-null    float64\n",
      " 11  Words                                 956 non-null    int64  \n",
      " 12  Blocks                                956 non-null    int64  \n",
      " 13  Unused_Letters                        956 non-null    int64  \n",
      " 14  Stacks                                956 non-null    int64  \n",
      " 15  Unique_Answers                        956 non-null    int64  \n",
      " 16  Rebus_Count                           956 non-null    int64  \n",
      " 17  Rebus_Unique                          956 non-null    int64  \n",
      " 18  Cheater_Squares                       956 non-null    int64  \n",
      " 19  AWL                                   956 non-null    float64\n",
      " 20  Scrabble_Score                        902 non-null    float64\n",
      " 21  Scrabble_Avg                          956 non-null    float64\n",
      " 22  FITB                                  956 non-null    int64  \n",
      " 23  Cross_Ref_Clues                       956 non-null    int64  \n",
      " 24  Scrabble_Illegal                      956 non-null    int64  \n",
      " 25  Open_Squares                          956 non-null    int64  \n",
      " 26  Freshness_Factor                      956 non-null    float64\n",
      " 27  Overall_Freshness%                    956 non-null    float64\n",
      " 28  Day_Freshness%                        956 non-null    float64\n",
      " 29  Duplicate_Clues                       956 non-null    int64  \n",
      " 30  Circle_Count                          956 non-null    int64  \n",
      " 31  Shade_Count                           956 non-null    int64  \n",
      " 32  Unusual_Sym                           956 non-null    int64  \n",
      " 33  Black_Square_Fill                     956 non-null    int64  \n",
      " 34  Wordplay                              923 non-null    float64\n",
      "dtypes: float64(17), int64(18)\n",
      "memory usage: 268.9 KB\n"
     ]
    }
   ],
   "source": [
    "df_model1.info()"
   ]
  },
  {
   "cell_type": "markdown",
   "id": "5bd6956e",
   "metadata": {},
   "source": [
    "### Refit Model on All Available Data "
   ]
  },
  {
   "cell_type": "code",
   "execution_count": 10,
   "id": "f6403e24",
   "metadata": {},
   "outputs": [],
   "source": [
    "X = df_model1[model.X_columns]\n",
    "y = df_model1['IS2_ST(m)']"
   ]
  },
  {
   "cell_type": "code",
   "execution_count": 11,
   "id": "3a78fbd5",
   "metadata": {},
   "outputs": [
    {
     "data": {
      "text/plain": [
       "(956, 956)"
      ]
     },
     "execution_count": 11,
     "metadata": {},
     "output_type": "execute_result"
    }
   ],
   "source": [
    "len(X), len(y)"
   ]
  },
  {
   "cell_type": "code",
   "execution_count": 12,
   "id": "60a02742",
   "metadata": {},
   "outputs": [
    {
     "data": {
      "text/plain": [
       "Pipeline(steps=[('simpleimputer', SimpleImputer()), ('standardscaler', None),\n",
       "                ('gradientboostingregressor',\n",
       "                 GradientBoostingRegressor(learning_rate=0.03, max_depth=5,\n",
       "                                           max_features=10, n_estimators=130,\n",
       "                                           random_state=47, subsample=0.5))])"
      ]
     },
     "execution_count": 12,
     "metadata": {},
     "output_type": "execute_result"
    }
   ],
   "source": [
    "model.fit(X, y)"
   ]
  },
  {
   "cell_type": "markdown",
   "id": "c11b4c8c",
   "metadata": {},
   "source": [
    "for all scoring options, see https://scikit-learn.org/stable/modules/model_evaluation.html#scoring-parameter"
   ]
  },
  {
   "cell_type": "markdown",
   "id": "2e45f11a",
   "metadata": {},
   "source": [
    "#### R-squared (COD)"
   ]
  },
  {
   "cell_type": "code",
   "execution_count": 13,
   "id": "036e555f",
   "metadata": {},
   "outputs": [],
   "source": [
    "cv_results = cross_validate(model, X, y, scoring='r2', cv=5)"
   ]
  },
  {
   "cell_type": "code",
   "execution_count": 14,
   "id": "c18f5951",
   "metadata": {},
   "outputs": [
    {
     "data": {
      "text/plain": [
       "array([0.41238054, 0.535412  , 0.43588017, 0.44453534, 0.34474959])"
      ]
     },
     "execution_count": 14,
     "metadata": {},
     "output_type": "execute_result"
    }
   ],
   "source": [
    "cv_results['test_score']"
   ]
  },
  {
   "cell_type": "code",
   "execution_count": 15,
   "id": "e87c7741",
   "metadata": {},
   "outputs": [
    {
     "data": {
      "text/plain": [
       "(0.4345915292603707, 0.06136808458547803)"
      ]
     },
     "execution_count": 15,
     "metadata": {},
     "output_type": "execute_result"
    }
   ],
   "source": [
    "rs_mean, rs_std = np.mean(1 * cv_results['test_score']), np.std(-1 * cv_results['test_score'])\n",
    "rs_mean, rs_std"
   ]
  },
  {
   "cell_type": "markdown",
   "id": "379b0399",
   "metadata": {},
   "source": [
    "#### Mean Absolute Error (MAE)"
   ]
  },
  {
   "cell_type": "code",
   "execution_count": 16,
   "id": "a9544980",
   "metadata": {},
   "outputs": [],
   "source": [
    "cv_results1 = cross_validate(model, X, y, scoring='neg_mean_absolute_error', cv=5)"
   ]
  },
  {
   "cell_type": "code",
   "execution_count": 17,
   "id": "05e509b9",
   "metadata": {},
   "outputs": [
    {
     "data": {
      "text/plain": [
       "array([-4.24725507, -4.61909321, -7.72423524, -5.84393011, -9.35490018])"
      ]
     },
     "execution_count": 17,
     "metadata": {},
     "output_type": "execute_result"
    }
   ],
   "source": [
    "cv_results1['test_score']"
   ]
  },
  {
   "cell_type": "code",
   "execution_count": 18,
   "id": "3658b8ae",
   "metadata": {},
   "outputs": [
    {
     "data": {
      "text/plain": [
       "(6.357882761554082, 1.9282799672891437)"
      ]
     },
     "execution_count": 18,
     "metadata": {},
     "output_type": "execute_result"
    }
   ],
   "source": [
    "mae_mean, mae_std = np.mean(-1 * cv_results1['test_score']), np.std(-1 * cv_results1['test_score'])\n",
    "mae_mean, mae_std"
   ]
  },
  {
   "cell_type": "markdown",
   "id": "864f0def",
   "metadata": {},
   "source": [
    "#### Mean Squared Error (MSE)"
   ]
  },
  {
   "cell_type": "code",
   "execution_count": 19,
   "id": "48e4243c",
   "metadata": {},
   "outputs": [],
   "source": [
    "cv_results2 = cross_validate(model, X, y, scoring='neg_mean_squared_error', cv=5)"
   ]
  },
  {
   "cell_type": "code",
   "execution_count": 20,
   "id": "c80a4728",
   "metadata": {},
   "outputs": [
    {
     "data": {
      "text/plain": [
       "array([ -35.25055117,  -43.36378064, -174.85221399,  -96.40069267,\n",
       "       -163.95843333])"
      ]
     },
     "execution_count": 20,
     "metadata": {},
     "output_type": "execute_result"
    }
   ],
   "source": [
    "cv_results2['test_score']"
   ]
  },
  {
   "cell_type": "code",
   "execution_count": 21,
   "id": "44b09d80",
   "metadata": {},
   "outputs": [
    {
     "data": {
      "text/plain": [
       "(102.76513436205838, 58.426728083431165)"
      ]
     },
     "execution_count": 21,
     "metadata": {},
     "output_type": "execute_result"
    }
   ],
   "source": [
    "mse_mean, mse_std = np.mean(-1 * cv_results2['test_score']), np.std(-1 * cv_results2['test_score'])\n",
    "mse_mean, mse_std"
   ]
  },
  {
   "cell_type": "markdown",
   "id": "af2fc429",
   "metadata": {},
   "source": [
    "#### Root Mean Squared Error (RMSE)"
   ]
  },
  {
   "cell_type": "code",
   "execution_count": 22,
   "id": "fa4a7e3a",
   "metadata": {},
   "outputs": [],
   "source": [
    "cv_results3 = cross_validate(model, X, y, scoring='neg_root_mean_squared_error', cv=5)"
   ]
  },
  {
   "cell_type": "code",
   "execution_count": 23,
   "id": "14a3c46d",
   "metadata": {},
   "outputs": [
    {
     "data": {
      "text/plain": [
       "array([ -5.93721746,  -6.58511812, -13.22316959,  -9.81838544,\n",
       "       -12.80462547])"
      ]
     },
     "execution_count": 23,
     "metadata": {},
     "output_type": "execute_result"
    }
   ],
   "source": [
    "cv_results3['test_score']"
   ]
  },
  {
   "cell_type": "code",
   "execution_count": 24,
   "id": "f7b47494",
   "metadata": {},
   "outputs": [
    {
     "data": {
      "text/plain": [
       "(9.673703215314124, 3.0306105761182116)"
      ]
     },
     "execution_count": 24,
     "metadata": {},
     "output_type": "execute_result"
    }
   ],
   "source": [
    "rmse_mean, rmse_std = np.mean(-1 * cv_results3['test_score']), np.std(-1 * cv_results3['test_score'])\n",
    "rmse_mean, rmse_std"
   ]
  },
  {
   "cell_type": "code",
   "execution_count": null,
   "id": "f126e441",
   "metadata": {},
   "outputs": [],
   "source": []
  }
 ],
 "metadata": {
  "kernelspec": {
   "display_name": "Python 3",
   "language": "python",
   "name": "python3"
  },
  "language_info": {
   "codemirror_mode": {
    "name": "ipython",
    "version": 3
   },
   "file_extension": ".py",
   "mimetype": "text/x-python",
   "name": "python",
   "nbconvert_exporter": "python",
   "pygments_lexer": "ipython3",
   "version": "3.8.8"
  }
 },
 "nbformat": 4,
 "nbformat_minor": 5
}
