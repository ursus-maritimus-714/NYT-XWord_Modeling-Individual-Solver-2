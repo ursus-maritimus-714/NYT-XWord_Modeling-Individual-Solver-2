{
 "cells": [
  {
   "cell_type": "markdown",
   "id": "1dcb9885",
   "metadata": {},
   "source": [
    "## Preprocessing_Training (IS2) - DayByDay Modeling\n",
    "\n",
    "This notebook creates benchmark linear models for by puzzle day modeling. As there were concerns about data scarcity, a 90/10 train/test split was used here (80/20 for full all 15x15 puzzles model). \n",
    "\n",
    "See 04c_IS2_Modeling-ByPuzzleDay for full model by puzzle day modeling results."
   ]
  },
  {
   "cell_type": "markdown",
   "id": "afbf4c49",
   "metadata": {},
   "source": []
  },
  {
   "cell_type": "markdown",
   "id": "a8fc727e",
   "metadata": {},
   "source": [
    "## Preprocessing and Training"
   ]
  },
  {
   "cell_type": "code",
   "execution_count": 1,
   "id": "e179e73d",
   "metadata": {},
   "outputs": [],
   "source": [
    "import pandas as pd\n",
    "import numpy as np\n",
    "import os\n",
    "import pickle\n",
    "import matplotlib.pyplot as plt\n",
    "import seaborn as sns\n",
    "from sklearn import __version__ as sklearn_version\n",
    "from sklearn.preprocessing import scale\n",
    "from sklearn.model_selection import train_test_split, cross_validate, GridSearchCV, learning_curve\n",
    "from sklearn.preprocessing import StandardScaler, MinMaxScaler\n",
    "from sklearn.dummy import DummyRegressor\n",
    "from sklearn.linear_model import LinearRegression\n",
    "from sklearn.metrics import r2_score, mean_squared_error, mean_absolute_error\n",
    "from sklearn.pipeline import make_pipeline\n",
    "from sklearn.impute import SimpleImputer\n",
    "from sklearn.feature_selection import SelectKBest, f_regression\n",
    "import datetime\n",
    "from library.sb_utils import save_file"
   ]
  },
  {
   "cell_type": "markdown",
   "id": "5e352c49",
   "metadata": {},
   "source": [
    "### Load Data"
   ]
  },
  {
   "cell_type": "code",
   "execution_count": 2,
   "id": "9cc5018d",
   "metadata": {},
   "outputs": [
    {
     "data": {
      "text/html": [
       "<div>\n",
       "<style scoped>\n",
       "    .dataframe tbody tr th:only-of-type {\n",
       "        vertical-align: middle;\n",
       "    }\n",
       "\n",
       "    .dataframe tbody tr th {\n",
       "        vertical-align: top;\n",
       "    }\n",
       "\n",
       "    .dataframe thead th {\n",
       "        text-align: right;\n",
       "    }\n",
       "</style>\n",
       "<table border=\"1\" class=\"dataframe\">\n",
       "  <thead>\n",
       "    <tr style=\"text-align: right;\">\n",
       "      <th></th>\n",
       "      <th>P_Date</th>\n",
       "      <th>P_Date_str</th>\n",
       "      <th>IS2_Completed</th>\n",
       "      <th>Comp_Date</th>\n",
       "      <th>Comp_Date_str</th>\n",
       "      <th>Comp_Hr</th>\n",
       "      <th>Solve_day_phase</th>\n",
       "      <th>IS_per_sdp_avg_past_diff_from_RPB</th>\n",
       "      <th>DOW</th>\n",
       "      <th>DOW_num</th>\n",
       "      <th>...</th>\n",
       "      <th>Circle_Count</th>\n",
       "      <th>Shade_Count</th>\n",
       "      <th>Unusual_Sym</th>\n",
       "      <th>Black_Square_Fill</th>\n",
       "      <th>Outside_Grid</th>\n",
       "      <th>Unchecked_Sq</th>\n",
       "      <th>Uniclue</th>\n",
       "      <th>Duplicate_Answers</th>\n",
       "      <th>Quantum</th>\n",
       "      <th>Wordplay</th>\n",
       "    </tr>\n",
       "  </thead>\n",
       "  <tbody>\n",
       "    <tr>\n",
       "      <th>0</th>\n",
       "      <td>2022-05-31 00:00:00</td>\n",
       "      <td>2022-05-31</td>\n",
       "      <td>1.0</td>\n",
       "      <td>2024-02-25 14:42:15</td>\n",
       "      <td>2024-02-25</td>\n",
       "      <td>14</td>\n",
       "      <td>3.0</td>\n",
       "      <td>-16.53</td>\n",
       "      <td>Tuesday</td>\n",
       "      <td>3.0</td>\n",
       "      <td>...</td>\n",
       "      <td>0</td>\n",
       "      <td>0</td>\n",
       "      <td>0</td>\n",
       "      <td>0</td>\n",
       "      <td>0</td>\n",
       "      <td>0</td>\n",
       "      <td>0</td>\n",
       "      <td>0</td>\n",
       "      <td>0</td>\n",
       "      <td>4.0</td>\n",
       "    </tr>\n",
       "    <tr>\n",
       "      <th>1</th>\n",
       "      <td>2022-05-30 00:00:00</td>\n",
       "      <td>2022-05-30</td>\n",
       "      <td>1.0</td>\n",
       "      <td>2024-02-25 14:32:11</td>\n",
       "      <td>2024-02-25</td>\n",
       "      <td>14</td>\n",
       "      <td>3.0</td>\n",
       "      <td>-16.49</td>\n",
       "      <td>Monday</td>\n",
       "      <td>2.0</td>\n",
       "      <td>...</td>\n",
       "      <td>0</td>\n",
       "      <td>0</td>\n",
       "      <td>0</td>\n",
       "      <td>0</td>\n",
       "      <td>0</td>\n",
       "      <td>0</td>\n",
       "      <td>0</td>\n",
       "      <td>0</td>\n",
       "      <td>0</td>\n",
       "      <td>3.0</td>\n",
       "    </tr>\n",
       "    <tr>\n",
       "      <th>2</th>\n",
       "      <td>2022-05-29 00:00:00</td>\n",
       "      <td>2022-05-29</td>\n",
       "      <td>1.0</td>\n",
       "      <td>2024-02-25 13:40:36</td>\n",
       "      <td>2024-02-25</td>\n",
       "      <td>13</td>\n",
       "      <td>3.0</td>\n",
       "      <td>-16.57</td>\n",
       "      <td>Sunday</td>\n",
       "      <td>1.0</td>\n",
       "      <td>...</td>\n",
       "      <td>0</td>\n",
       "      <td>0</td>\n",
       "      <td>1</td>\n",
       "      <td>0</td>\n",
       "      <td>0</td>\n",
       "      <td>1</td>\n",
       "      <td>0</td>\n",
       "      <td>0</td>\n",
       "      <td>0</td>\n",
       "      <td>5.0</td>\n",
       "    </tr>\n",
       "    <tr>\n",
       "      <th>3</th>\n",
       "      <td>2024-02-25 00:00:00</td>\n",
       "      <td>2024-02-25</td>\n",
       "      <td>1.0</td>\n",
       "      <td>2024-02-25 10:03:32</td>\n",
       "      <td>2024-02-25</td>\n",
       "      <td>10</td>\n",
       "      <td>2.0</td>\n",
       "      <td>-13.76</td>\n",
       "      <td>Sunday</td>\n",
       "      <td>1.0</td>\n",
       "      <td>...</td>\n",
       "      <td>0</td>\n",
       "      <td>0</td>\n",
       "      <td>0</td>\n",
       "      <td>0</td>\n",
       "      <td>0</td>\n",
       "      <td>0</td>\n",
       "      <td>0</td>\n",
       "      <td>0</td>\n",
       "      <td>0</td>\n",
       "      <td>12.0</td>\n",
       "    </tr>\n",
       "    <tr>\n",
       "      <th>4</th>\n",
       "      <td>2021-11-25 00:00:00</td>\n",
       "      <td>2021-11-25</td>\n",
       "      <td>1.0</td>\n",
       "      <td>2024-02-24 23:11:23</td>\n",
       "      <td>2024-02-24</td>\n",
       "      <td>23</td>\n",
       "      <td>4.0</td>\n",
       "      <td>-11.35</td>\n",
       "      <td>Thursday</td>\n",
       "      <td>5.0</td>\n",
       "      <td>...</td>\n",
       "      <td>0</td>\n",
       "      <td>0</td>\n",
       "      <td>0</td>\n",
       "      <td>0</td>\n",
       "      <td>0</td>\n",
       "      <td>0</td>\n",
       "      <td>0</td>\n",
       "      <td>0</td>\n",
       "      <td>0</td>\n",
       "      <td>1.0</td>\n",
       "    </tr>\n",
       "  </tbody>\n",
       "</table>\n",
       "<p>5 rows × 50 columns</p>\n",
       "</div>"
      ],
      "text/plain": [
       "                P_Date  P_Date_str  IS2_Completed            Comp_Date  \\\n",
       "0  2022-05-31 00:00:00  2022-05-31            1.0  2024-02-25 14:42:15   \n",
       "1  2022-05-30 00:00:00  2022-05-30            1.0  2024-02-25 14:32:11   \n",
       "2  2022-05-29 00:00:00  2022-05-29            1.0  2024-02-25 13:40:36   \n",
       "3  2024-02-25 00:00:00  2024-02-25            1.0  2024-02-25 10:03:32   \n",
       "4  2021-11-25 00:00:00  2021-11-25            1.0  2024-02-24 23:11:23   \n",
       "\n",
       "  Comp_Date_str  Comp_Hr  Solve_day_phase  IS_per_sdp_avg_past_diff_from_RPB  \\\n",
       "0    2024-02-25       14              3.0                             -16.53   \n",
       "1    2024-02-25       14              3.0                             -16.49   \n",
       "2    2024-02-25       13              3.0                             -16.57   \n",
       "3    2024-02-25       10              2.0                             -13.76   \n",
       "4    2024-02-24       23              4.0                             -11.35   \n",
       "\n",
       "        DOW  DOW_num  ...  Circle_Count  Shade_Count  Unusual_Sym  \\\n",
       "0   Tuesday      3.0  ...             0            0            0   \n",
       "1    Monday      2.0  ...             0            0            0   \n",
       "2    Sunday      1.0  ...             0            0            1   \n",
       "3    Sunday      1.0  ...             0            0            0   \n",
       "4  Thursday      5.0  ...             0            0            0   \n",
       "\n",
       "   Black_Square_Fill  Outside_Grid  Unchecked_Sq  Uniclue  Duplicate_Answers  \\\n",
       "0                  0             0             0        0                  0   \n",
       "1                  0             0             0        0                  0   \n",
       "2                  0             0             1        0                  0   \n",
       "3                  0             0             0        0                  0   \n",
       "4                  0             0             0        0                  0   \n",
       "\n",
       "   Quantum  Wordplay  \n",
       "0        0       4.0  \n",
       "1        0       3.0  \n",
       "2        0       5.0  \n",
       "3        0      12.0  \n",
       "4        0       1.0  \n",
       "\n",
       "[5 rows x 50 columns]"
      ]
     },
     "execution_count": 2,
     "metadata": {},
     "output_type": "execute_result"
    }
   ],
   "source": [
    "df = pd.read_csv('../data/df_for_modeling_no_decay_weighting.csv')\n",
    "df.head()"
   ]
  },
  {
   "cell_type": "code",
   "execution_count": 3,
   "id": "95327794",
   "metadata": {},
   "outputs": [
    {
     "name": "stdout",
     "output_type": "stream",
     "text": [
      "<class 'pandas.core.frame.DataFrame'>\n",
      "RangeIndex: 1108 entries, 0 to 1107\n",
      "Data columns (total 50 columns):\n",
      " #   Column                                Non-Null Count  Dtype  \n",
      "---  ------                                --------------  -----  \n",
      " 0   P_Date                                1108 non-null   object \n",
      " 1   P_Date_str                            1108 non-null   object \n",
      " 2   IS2_Completed                         1108 non-null   float64\n",
      " 3   Comp_Date                             1108 non-null   object \n",
      " 4   Comp_Date_str                         1108 non-null   object \n",
      " 5   Comp_Hr                               1108 non-null   int64  \n",
      " 6   Solve_day_phase                       1108 non-null   float64\n",
      " 7   IS_per_sdp_avg_past_diff_from_RPB     1108 non-null   float64\n",
      " 8   DOW                                   1108 non-null   object \n",
      " 9   DOW_num                               1108 non-null   float64\n",
      " 10  GMST(m)                               1108 non-null   float64\n",
      " 11  IS2_ST(m)                             1108 non-null   float64\n",
      " 12  IS_pds_l10_ndw                        1108 non-null   float64\n",
      " 13  IS_pds_l10_stdev                      1108 non-null   float64\n",
      " 14  IS_pds_l10_ndw_SOS_adj                1108 non-null   float64\n",
      " 15  IS_per_constr_avg_past_diff_from_RPB  619 non-null    float64\n",
      " 16  IS2_pds_prior_solves_ct               1108 non-null   float64\n",
      " 17  IS2_npds_prior_solves_ct              1108 non-null   float64\n",
      " 18  overall_day_mean_IST(m)               1108 non-null   float64\n",
      " 19  IS2_solves_l7                         1108 non-null   float64\n",
      " 20  Constructors                          1108 non-null   object \n",
      " 21  Words                                 1108 non-null   int64  \n",
      " 22  Blocks                                1108 non-null   int64  \n",
      " 23  Unused_Letters                        1108 non-null   int64  \n",
      " 24  Stacks                                1108 non-null   int64  \n",
      " 25  Unique_Answers                        1108 non-null   int64  \n",
      " 26  Rebus_Count                           1108 non-null   int64  \n",
      " 27  Rebus_Unique                          1108 non-null   int64  \n",
      " 28  Cheater_Squares                       1108 non-null   int64  \n",
      " 29  AWL                                   1108 non-null   float64\n",
      " 30  Scrabble_Score                        1039 non-null   float64\n",
      " 31  Scrabble_Avg                          1108 non-null   float64\n",
      " 32  FITB                                  1108 non-null   int64  \n",
      " 33  Cross_Ref_Clues                       1108 non-null   int64  \n",
      " 34  Scrabble_Illegal                      1108 non-null   int64  \n",
      " 35  Open_Squares                          1108 non-null   int64  \n",
      " 36  Freshness_Factor                      1108 non-null   float64\n",
      " 37  Overall_Freshness%                    1108 non-null   float64\n",
      " 38  Day_Freshness%                        1108 non-null   float64\n",
      " 39  Duplicate_Clues                       1108 non-null   int64  \n",
      " 40  Circle_Count                          1108 non-null   int64  \n",
      " 41  Shade_Count                           1108 non-null   int64  \n",
      " 42  Unusual_Sym                           1108 non-null   int64  \n",
      " 43  Black_Square_Fill                     1108 non-null   int64  \n",
      " 44  Outside_Grid                          1108 non-null   int64  \n",
      " 45  Unchecked_Sq                          1108 non-null   int64  \n",
      " 46  Uniclue                               1108 non-null   int64  \n",
      " 47  Duplicate_Answers                     1108 non-null   int64  \n",
      " 48  Quantum                               1108 non-null   int64  \n",
      " 49  Wordplay                              1071 non-null   float64\n",
      "dtypes: float64(21), int64(23), object(6)\n",
      "memory usage: 432.9+ KB\n"
     ]
    }
   ],
   "source": [
    "df.info()"
   ]
  },
  {
   "cell_type": "markdown",
   "id": "8fa480d1",
   "metadata": {},
   "source": [
    "### Filter Data"
   ]
  },
  {
   "cell_type": "code",
   "execution_count": 4,
   "id": "ccc15ad7",
   "metadata": {},
   "outputs": [
    {
     "data": {
      "text/plain": [
       "array([3., 2., 1., 5., 7., 6., 4.])"
      ]
     },
     "execution_count": 4,
     "metadata": {},
     "output_type": "execute_result"
    }
   ],
   "source": [
    "df['DOW_num'].unique()"
   ]
  },
  {
   "cell_type": "code",
   "execution_count": 132,
   "id": "05ca3f98",
   "metadata": {},
   "outputs": [],
   "source": [
    "df_filter = df.copy()"
   ]
  },
  {
   "cell_type": "code",
   "execution_count": 133,
   "id": "7ab1717c",
   "metadata": {},
   "outputs": [],
   "source": [
    "# Filter to a specific puzzle day\n",
    "#df_filter = (df_filter.loc[(df_filter['DOW_num'] == 1)]) # Sun\n",
    "#df_filter = (df_filter.loc[(df_filter['DOW_num'] == 2)]) # Mon\n",
    "#df_filter = (df_filter.loc[(df_filter['DOW_num'] == 3)]) # Tue\n",
    "#df_filter = (df_filter.loc[(df_filter['DOW_num'] == 4)]) # Wed\n",
    "#df_filter = (df_filter.loc[(df_filter['DOW_num'] == 5)]) # Thu\n",
    "#df_filter = (df_filter.loc[(df_filter['DOW_num'] == 6)]) # Fri\n",
    "df_filter = (df_filter.loc[(df_filter['DOW_num'] == 7)]) # Sat"
   ]
  },
  {
   "cell_type": "code",
   "execution_count": 134,
   "id": "bb573d4d",
   "metadata": {},
   "outputs": [],
   "source": [
    "#Will give d/0 errors if leave in, since we've filtered down to only 1 day\n",
    "df_filter.drop(['DOW_num'],inplace=True,axis=1)"
   ]
  },
  {
   "cell_type": "code",
   "execution_count": 135,
   "id": "b8081934",
   "metadata": {},
   "outputs": [],
   "source": [
    "# Strip down to only the features we need to benchmark and the target feature\n",
    "df_filter = df_filter[['overall_day_mean_IST(m)', 'IS2_ST(m)']]"
   ]
  },
  {
   "cell_type": "code",
   "execution_count": 136,
   "id": "d1c2d6dd",
   "metadata": {},
   "outputs": [],
   "source": [
    "# df_filter.drop(['DOW_num'],inplace=True,axis=1)"
   ]
  },
  {
   "cell_type": "code",
   "execution_count": 137,
   "id": "de0b65fd",
   "metadata": {},
   "outputs": [
    {
     "name": "stdout",
     "output_type": "stream",
     "text": [
      "<class 'pandas.core.frame.DataFrame'>\n",
      "Int64Index: 158 entries, 7 to 1096\n",
      "Data columns (total 2 columns):\n",
      " #   Column                   Non-Null Count  Dtype  \n",
      "---  ------                   --------------  -----  \n",
      " 0   overall_day_mean_IST(m)  158 non-null    float64\n",
      " 1   IS2_ST(m)                158 non-null    float64\n",
      "dtypes: float64(2)\n",
      "memory usage: 3.7 KB\n"
     ]
    }
   ],
   "source": [
    "df_filter.info()"
   ]
  },
  {
   "cell_type": "code",
   "execution_count": 138,
   "id": "a027a7e8",
   "metadata": {},
   "outputs": [],
   "source": [
    "df_model1 = df_filter[['overall_day_mean_IST(m)','IS2_ST(m)']]"
   ]
  },
  {
   "cell_type": "code",
   "execution_count": 139,
   "id": "55f787a2",
   "metadata": {},
   "outputs": [
    {
     "name": "stdout",
     "output_type": "stream",
     "text": [
      "<class 'pandas.core.frame.DataFrame'>\n",
      "Int64Index: 158 entries, 7 to 1096\n",
      "Data columns (total 2 columns):\n",
      " #   Column                   Non-Null Count  Dtype  \n",
      "---  ------                   --------------  -----  \n",
      " 0   overall_day_mean_IST(m)  158 non-null    float64\n",
      " 1   IS2_ST(m)                158 non-null    float64\n",
      "dtypes: float64(2)\n",
      "memory usage: 3.7 KB\n"
     ]
    }
   ],
   "source": [
    "df_model1.info()"
   ]
  },
  {
   "cell_type": "markdown",
   "id": "6f76d820",
   "metadata": {},
   "source": [
    "### Train Test Split\n",
    "90/10 for by day models (80/20 for all 15x15 puzzles models)"
   ]
  },
  {
   "cell_type": "code",
   "execution_count": 140,
   "id": "37dfcba4",
   "metadata": {},
   "outputs": [
    {
     "data": {
      "text/plain": [
       "(142.20000000000002, 15.8)"
      ]
     },
     "execution_count": 140,
     "metadata": {},
     "output_type": "execute_result"
    }
   ],
   "source": [
    "len(df_model1) * .90, len(df_model1) * .10"
   ]
  },
  {
   "cell_type": "code",
   "execution_count": 141,
   "id": "41207c43",
   "metadata": {},
   "outputs": [],
   "source": [
    "X_train, X_test, y_train, y_test = train_test_split(df_model1.drop(columns='IS2_ST(m)'), \n",
    "                                                    df_model1['IS2_ST(m)'], test_size=0.10, \n",
    "                                                    random_state=47)"
   ]
  },
  {
   "cell_type": "code",
   "execution_count": 142,
   "id": "9aadc9a5",
   "metadata": {},
   "outputs": [
    {
     "data": {
      "text/plain": [
       "((142,), (16,))"
      ]
     },
     "execution_count": 142,
     "metadata": {},
     "output_type": "execute_result"
    }
   ],
   "source": [
    "y_train.shape, y_test.shape"
   ]
  },
  {
   "cell_type": "code",
   "execution_count": 143,
   "id": "7b3da5c6",
   "metadata": {},
   "outputs": [
    {
     "data": {
      "text/plain": [
       "122    22.983333\n",
       "503    26.600000\n",
       "473    15.650000\n",
       "307    23.583333\n",
       "696    45.183333\n",
       "         ...    \n",
       "497    39.850000\n",
       "57     17.383333\n",
       "490    80.983333\n",
       "923    33.850000\n",
       "930    22.633333\n",
       "Name: IS2_ST(m), Length: 142, dtype: float64"
      ]
     },
     "execution_count": 143,
     "metadata": {},
     "output_type": "execute_result"
    }
   ],
   "source": [
    "y_train"
   ]
  },
  {
   "cell_type": "code",
   "execution_count": 144,
   "id": "3944cffa",
   "metadata": {},
   "outputs": [
    {
     "data": {
      "text/plain": [
       "((142, 1), (16, 1))"
      ]
     },
     "execution_count": 144,
     "metadata": {},
     "output_type": "execute_result"
    }
   ],
   "source": [
    "X_train.shape, X_test.shape"
   ]
  },
  {
   "cell_type": "markdown",
   "id": "2b9eb379",
   "metadata": {},
   "source": [
    "### Pre-Modeling: IS2 Mean Solve Time Across All 15x15 Puzzles as Per Solve (IS1_ST) Predictor (aka \"Dummy Model\")"
   ]
  },
  {
   "cell_type": "code",
   "execution_count": 145,
   "id": "a9e3929c",
   "metadata": {},
   "outputs": [
    {
     "data": {
      "text/plain": [
       "34.256220657277005"
      ]
     },
     "execution_count": 145,
     "metadata": {},
     "output_type": "execute_result"
    }
   ],
   "source": [
    "#Target feature (IS1_ST(m)) training set mean\n",
    "train_mean = y_train.mean()\n",
    "train_mean"
   ]
  },
  {
   "cell_type": "code",
   "execution_count": 146,
   "id": "ef94f8da",
   "metadata": {},
   "outputs": [
    {
     "data": {
      "text/plain": [
       "array([[34.25622066]])"
      ]
     },
     "execution_count": 146,
     "metadata": {},
     "output_type": "execute_result"
    }
   ],
   "source": [
    "#Fitting dummy regressor to training data (from sklearn). Outputs the training set mean.\n",
    "dumb_reg = DummyRegressor(strategy='mean')\n",
    "dumb_reg.fit(X_train, y_train)\n",
    "dumb_reg.constant_"
   ]
  },
  {
   "cell_type": "code",
   "execution_count": 147,
   "id": "f20954f3",
   "metadata": {},
   "outputs": [
    {
     "data": {
      "text/plain": [
       "array([34.25622066, 34.25622066, 34.25622066, 34.25622066, 34.25622066])"
      ]
     },
     "execution_count": 147,
     "metadata": {},
     "output_type": "execute_result"
    }
   ],
   "source": [
    "y_tr_pred = dumb_reg.predict(X_train)\n",
    "y_tr_pred[:5]"
   ]
  },
  {
   "cell_type": "code",
   "execution_count": 148,
   "id": "682d3306",
   "metadata": {},
   "outputs": [],
   "source": [
    "y_te_pred = train_mean * np.ones(len(y_test))"
   ]
  },
  {
   "cell_type": "markdown",
   "id": "69f9a10a",
   "metadata": {},
   "source": [
    "#### R-Squared (COD)"
   ]
  },
  {
   "cell_type": "code",
   "execution_count": 149,
   "id": "a5db87e4",
   "metadata": {},
   "outputs": [
    {
     "data": {
      "text/plain": [
       "(0.0, -0.05769021619190107)"
      ]
     },
     "execution_count": 149,
     "metadata": {},
     "output_type": "execute_result"
    }
   ],
   "source": [
    "#Compute R-squared for target mean on training set (will be zero, since we are calculating mean on training set), and on test set (should be slightly different from zero)\n",
    "r2_score(y_train, y_tr_pred), r2_score(y_test, y_te_pred)"
   ]
  },
  {
   "cell_type": "markdown",
   "id": "68d65bdb",
   "metadata": {},
   "source": [
    "proportion of the variance for a dependent variable that's explained by our features. It's close to zero for the dummy model as expected."
   ]
  },
  {
   "cell_type": "markdown",
   "id": "13b2e460",
   "metadata": {},
   "source": [
    "#### Mean Absolute Error (MAE)"
   ]
  },
  {
   "cell_type": "code",
   "execution_count": 150,
   "id": "6eac49b9",
   "metadata": {},
   "outputs": [
    {
     "data": {
      "text/plain": [
       "(13.893040402036632, 14.236971830985919)"
      ]
     },
     "execution_count": 150,
     "metadata": {},
     "output_type": "execute_result"
    }
   ],
   "source": [
    "MAEs_dummy = mean_absolute_error(y_train, y_tr_pred), mean_absolute_error(y_test, y_te_pred)\n",
    "MAEs_dummy"
   ]
  },
  {
   "cell_type": "markdown",
   "id": "3d8d0a0c",
   "metadata": {},
   "source": [
    "#### Mean Squared Error (MSE)"
   ]
  },
  {
   "cell_type": "code",
   "execution_count": 151,
   "id": "ce641104",
   "metadata": {},
   "outputs": [
    {
     "data": {
      "text/plain": [
       "(344.51415731281276, 262.4211278006459)"
      ]
     },
     "execution_count": 151,
     "metadata": {},
     "output_type": "execute_result"
    }
   ],
   "source": [
    "#Calculate the Mean Squared Error (average of the square of the errors)\n",
    "MSEs_dummy = mean_squared_error(y_train, y_tr_pred), mean_squared_error(y_test, y_te_pred)\n",
    "MSEs_dummy"
   ]
  },
  {
   "cell_type": "markdown",
   "id": "6bf480c4",
   "metadata": {},
   "source": [
    "#### Root Mean Squared Error (RMSE)"
   ]
  },
  {
   "cell_type": "code",
   "execution_count": 152,
   "id": "9d96b979",
   "metadata": {},
   "outputs": [
    {
     "data": {
      "text/plain": [
       "(18.561092567863906, 16.19941751423939)"
      ]
     },
     "execution_count": 152,
     "metadata": {},
     "output_type": "execute_result"
    }
   ],
   "source": [
    "RMSEs_dummy = np.sqrt(mean_squared_error(y_train, y_tr_pred)), np.sqrt(mean_squared_error(y_test, y_te_pred))\n",
    "RMSEs_dummy"
   ]
  },
  {
   "cell_type": "markdown",
   "id": "a297aad7",
   "metadata": {},
   "source": [
    "### Benchmark Linear Model 1: Puzzle Day-Specific, Whole-Sample Mean Global Median Solver (IS1) Solve Time as Sole Predictor of Individual Solve Times (IS1_STs)"
   ]
  },
  {
   "cell_type": "code",
   "execution_count": 30,
   "id": "2dffb29e",
   "metadata": {},
   "outputs": [
    {
     "name": "stdout",
     "output_type": "stream",
     "text": [
      "<class 'pandas.core.frame.DataFrame'>\n",
      "Int64Index: 123 entries, 386 to 956\n",
      "Data columns (total 1 columns):\n",
      " #   Column                   Non-Null Count  Dtype  \n",
      "---  ------                   --------------  -----  \n",
      " 0   overall_day_mean_IST(m)  123 non-null    float64\n",
      "dtypes: float64(1)\n",
      "memory usage: 1.9 KB\n"
     ]
    }
   ],
   "source": [
    "X_train.info()"
   ]
  },
  {
   "cell_type": "code",
   "execution_count": 28,
   "id": "557cae51",
   "metadata": {},
   "outputs": [],
   "source": [
    "#Filter existing train-test split down to just the ranking columns (train)\n",
    "#X_train_ranking = X_train[[\"p_rank\", \"p_rank_pts\", \"p_log_rank\", \"p_opp_rank_diff\", \"p_opp_rank_pts_diff\", \"p_opp_log_rank_diff\"]]"
   ]
  },
  {
   "cell_type": "code",
   "execution_count": 29,
   "id": "a15bf91a",
   "metadata": {},
   "outputs": [],
   "source": [
    "#Filter existing train-test split down to just the ranking columns (test)\n",
    "#X_test_ranking = X_test[[\"p_rank\", \"p_rank_pts\", \"p_log_rank\", \"p_opp_rank_diff\", \"p_opp_rank_pts_diff\", \"p_opp_log_rank_diff\"]]"
   ]
  },
  {
   "cell_type": "code",
   "execution_count": 31,
   "id": "3f05e589",
   "metadata": {},
   "outputs": [],
   "source": [
    "lr_pipe = make_pipeline(\n",
    "    SimpleImputer(strategy='median'), \n",
    "    StandardScaler(),\n",
    "    SelectKBest(f_regression),\n",
    "    LinearRegression()\n",
    ")"
   ]
  },
  {
   "cell_type": "code",
   "execution_count": 32,
   "id": "3b6274eb",
   "metadata": {},
   "outputs": [
    {
     "data": {
      "text/plain": [
       "dict_keys(['memory', 'steps', 'verbose', 'simpleimputer', 'standardscaler', 'selectkbest', 'linearregression', 'simpleimputer__add_indicator', 'simpleimputer__copy', 'simpleimputer__fill_value', 'simpleimputer__missing_values', 'simpleimputer__strategy', 'simpleimputer__verbose', 'standardscaler__copy', 'standardscaler__with_mean', 'standardscaler__with_std', 'selectkbest__k', 'selectkbest__score_func', 'linearregression__copy_X', 'linearregression__fit_intercept', 'linearregression__n_jobs', 'linearregression__normalize', 'linearregression__positive'])"
      ]
     },
     "execution_count": 32,
     "metadata": {},
     "output_type": "execute_result"
    }
   ],
   "source": [
    "#Dict of available parameters for linear regression pipe\n",
    "lr_pipe.get_params().keys()"
   ]
  },
  {
   "cell_type": "code",
   "execution_count": 33,
   "id": "8d45a3c7",
   "metadata": {},
   "outputs": [],
   "source": [
    "#Define search grid parameters\n",
    "k = [k+1 for k in range(len(X_train.columns))]\n",
    "\n",
    "grid_params = {\n",
    "    'standardscaler': [StandardScaler(), None],\n",
    "    'simpleimputer__strategy': ['mean', 'median'],\n",
    "    'selectkbest__k': k\n",
    "}"
   ]
  },
  {
   "cell_type": "code",
   "execution_count": 34,
   "id": "03fa5d78",
   "metadata": {},
   "outputs": [],
   "source": [
    "#Call `GridSearchCV` with linear regression pipeline, passing in the above `grid_params`\n",
    "#dict for parameters to evaluate with 5-fold cross-validation\n",
    "lr_grid_cv = GridSearchCV(lr_pipe, param_grid=grid_params, cv=5)"
   ]
  },
  {
   "cell_type": "code",
   "execution_count": 35,
   "id": "c1947d57",
   "metadata": {},
   "outputs": [
    {
     "name": "stderr",
     "output_type": "stream",
     "text": [
      "C:\\Users\\jraks\\anaconda3\\lib\\site-packages\\sklearn\\feature_selection\\_univariate_selection.py:301: RuntimeWarning: invalid value encountered in true_divide\n",
      "  corr /= X_norms\n",
      "C:\\Users\\jraks\\anaconda3\\lib\\site-packages\\sklearn\\feature_selection\\_univariate_selection.py:301: RuntimeWarning: invalid value encountered in true_divide\n",
      "  corr /= X_norms\n",
      "C:\\Users\\jraks\\anaconda3\\lib\\site-packages\\sklearn\\feature_selection\\_univariate_selection.py:301: RuntimeWarning: invalid value encountered in true_divide\n",
      "  corr /= X_norms\n",
      "C:\\Users\\jraks\\anaconda3\\lib\\site-packages\\sklearn\\feature_selection\\_univariate_selection.py:301: RuntimeWarning: invalid value encountered in true_divide\n",
      "  corr /= X_norms\n",
      "C:\\Users\\jraks\\anaconda3\\lib\\site-packages\\sklearn\\feature_selection\\_univariate_selection.py:301: RuntimeWarning: invalid value encountered in true_divide\n",
      "  corr /= X_norms\n",
      "C:\\Users\\jraks\\anaconda3\\lib\\site-packages\\sklearn\\feature_selection\\_univariate_selection.py:301: RuntimeWarning: divide by zero encountered in true_divide\n",
      "  corr /= X_norms\n",
      "C:\\Users\\jraks\\anaconda3\\lib\\site-packages\\sklearn\\feature_selection\\_univariate_selection.py:306: RuntimeWarning: invalid value encountered in true_divide\n",
      "  F = corr ** 2 / (1 - corr ** 2) * degrees_of_freedom\n",
      "C:\\Users\\jraks\\anaconda3\\lib\\site-packages\\sklearn\\feature_selection\\_univariate_selection.py:301: RuntimeWarning: divide by zero encountered in true_divide\n",
      "  corr /= X_norms\n",
      "C:\\Users\\jraks\\anaconda3\\lib\\site-packages\\sklearn\\feature_selection\\_univariate_selection.py:306: RuntimeWarning: invalid value encountered in true_divide\n",
      "  F = corr ** 2 / (1 - corr ** 2) * degrees_of_freedom\n",
      "C:\\Users\\jraks\\anaconda3\\lib\\site-packages\\sklearn\\feature_selection\\_univariate_selection.py:301: RuntimeWarning: divide by zero encountered in true_divide\n",
      "  corr /= X_norms\n",
      "C:\\Users\\jraks\\anaconda3\\lib\\site-packages\\sklearn\\feature_selection\\_univariate_selection.py:306: RuntimeWarning: invalid value encountered in true_divide\n",
      "  F = corr ** 2 / (1 - corr ** 2) * degrees_of_freedom\n",
      "C:\\Users\\jraks\\anaconda3\\lib\\site-packages\\sklearn\\feature_selection\\_univariate_selection.py:301: RuntimeWarning: divide by zero encountered in true_divide\n",
      "  corr /= X_norms\n",
      "C:\\Users\\jraks\\anaconda3\\lib\\site-packages\\sklearn\\feature_selection\\_univariate_selection.py:306: RuntimeWarning: invalid value encountered in true_divide\n",
      "  F = corr ** 2 / (1 - corr ** 2) * degrees_of_freedom\n",
      "C:\\Users\\jraks\\anaconda3\\lib\\site-packages\\sklearn\\feature_selection\\_univariate_selection.py:301: RuntimeWarning: divide by zero encountered in true_divide\n",
      "  corr /= X_norms\n",
      "C:\\Users\\jraks\\anaconda3\\lib\\site-packages\\sklearn\\feature_selection\\_univariate_selection.py:306: RuntimeWarning: invalid value encountered in true_divide\n",
      "  F = corr ** 2 / (1 - corr ** 2) * degrees_of_freedom\n",
      "C:\\Users\\jraks\\anaconda3\\lib\\site-packages\\sklearn\\feature_selection\\_univariate_selection.py:301: RuntimeWarning: invalid value encountered in true_divide\n",
      "  corr /= X_norms\n",
      "C:\\Users\\jraks\\anaconda3\\lib\\site-packages\\sklearn\\feature_selection\\_univariate_selection.py:301: RuntimeWarning: invalid value encountered in true_divide\n",
      "  corr /= X_norms\n",
      "C:\\Users\\jraks\\anaconda3\\lib\\site-packages\\sklearn\\feature_selection\\_univariate_selection.py:301: RuntimeWarning: invalid value encountered in true_divide\n",
      "  corr /= X_norms\n",
      "C:\\Users\\jraks\\anaconda3\\lib\\site-packages\\sklearn\\feature_selection\\_univariate_selection.py:301: RuntimeWarning: invalid value encountered in true_divide\n",
      "  corr /= X_norms\n",
      "C:\\Users\\jraks\\anaconda3\\lib\\site-packages\\sklearn\\feature_selection\\_univariate_selection.py:301: RuntimeWarning: invalid value encountered in true_divide\n",
      "  corr /= X_norms\n",
      "C:\\Users\\jraks\\anaconda3\\lib\\site-packages\\sklearn\\feature_selection\\_univariate_selection.py:301: RuntimeWarning: divide by zero encountered in true_divide\n",
      "  corr /= X_norms\n",
      "C:\\Users\\jraks\\anaconda3\\lib\\site-packages\\sklearn\\feature_selection\\_univariate_selection.py:306: RuntimeWarning: invalid value encountered in true_divide\n",
      "  F = corr ** 2 / (1 - corr ** 2) * degrees_of_freedom\n",
      "C:\\Users\\jraks\\anaconda3\\lib\\site-packages\\sklearn\\feature_selection\\_univariate_selection.py:301: RuntimeWarning: divide by zero encountered in true_divide\n",
      "  corr /= X_norms\n",
      "C:\\Users\\jraks\\anaconda3\\lib\\site-packages\\sklearn\\feature_selection\\_univariate_selection.py:306: RuntimeWarning: invalid value encountered in true_divide\n",
      "  F = corr ** 2 / (1 - corr ** 2) * degrees_of_freedom\n",
      "C:\\Users\\jraks\\anaconda3\\lib\\site-packages\\sklearn\\feature_selection\\_univariate_selection.py:301: RuntimeWarning: divide by zero encountered in true_divide\n",
      "  corr /= X_norms\n",
      "C:\\Users\\jraks\\anaconda3\\lib\\site-packages\\sklearn\\feature_selection\\_univariate_selection.py:306: RuntimeWarning: invalid value encountered in true_divide\n",
      "  F = corr ** 2 / (1 - corr ** 2) * degrees_of_freedom\n",
      "C:\\Users\\jraks\\anaconda3\\lib\\site-packages\\sklearn\\feature_selection\\_univariate_selection.py:301: RuntimeWarning: divide by zero encountered in true_divide\n",
      "  corr /= X_norms\n",
      "C:\\Users\\jraks\\anaconda3\\lib\\site-packages\\sklearn\\feature_selection\\_univariate_selection.py:306: RuntimeWarning: invalid value encountered in true_divide\n",
      "  F = corr ** 2 / (1 - corr ** 2) * degrees_of_freedom\n",
      "C:\\Users\\jraks\\anaconda3\\lib\\site-packages\\sklearn\\feature_selection\\_univariate_selection.py:301: RuntimeWarning: divide by zero encountered in true_divide\n",
      "  corr /= X_norms\n",
      "C:\\Users\\jraks\\anaconda3\\lib\\site-packages\\sklearn\\feature_selection\\_univariate_selection.py:306: RuntimeWarning: invalid value encountered in true_divide\n",
      "  F = corr ** 2 / (1 - corr ** 2) * degrees_of_freedom\n",
      "C:\\Users\\jraks\\anaconda3\\lib\\site-packages\\sklearn\\feature_selection\\_univariate_selection.py:301: RuntimeWarning: invalid value encountered in true_divide\n",
      "  corr /= X_norms\n"
     ]
    },
    {
     "data": {
      "text/plain": [
       "GridSearchCV(cv=5,\n",
       "             estimator=Pipeline(steps=[('simpleimputer',\n",
       "                                        SimpleImputer(strategy='median')),\n",
       "                                       ('standardscaler', StandardScaler()),\n",
       "                                       ('selectkbest',\n",
       "                                        SelectKBest(score_func=<function f_regression at 0x00000192EB7A5310>)),\n",
       "                                       ('linearregression',\n",
       "                                        LinearRegression())]),\n",
       "             param_grid={'selectkbest__k': [1],\n",
       "                         'simpleimputer__strategy': ['mean', 'median'],\n",
       "                         'standardscaler': [StandardScaler(), None]})"
      ]
     },
     "execution_count": 35,
     "metadata": {},
     "output_type": "execute_result"
    }
   ],
   "source": [
    "#Conduct grid search for this ranking-restricted model. \n",
    "lr_grid_cv.fit(X_train, y_train)"
   ]
  },
  {
   "cell_type": "code",
   "execution_count": 36,
   "id": "a1106123",
   "metadata": {},
   "outputs": [
    {
     "data": {
      "text/plain": [
       "{'selectkbest__k': 1,\n",
       " 'simpleimputer__strategy': 'mean',\n",
       " 'standardscaler': StandardScaler()}"
      ]
     },
     "execution_count": 36,
     "metadata": {},
     "output_type": "execute_result"
    }
   ],
   "source": [
    "#Best params from grid search for this ranking-restricted model\n",
    "lr_grid_cv.best_params_"
   ]
  },
  {
   "cell_type": "markdown",
   "id": "eaaa954d",
   "metadata": {},
   "source": [
    "#### K Best Features Visualization"
   ]
  },
  {
   "cell_type": "code",
   "execution_count": 37,
   "id": "cb3d0008",
   "metadata": {},
   "outputs": [
    {
     "data": {
      "image/png": "[encoded data removed]",
      "text/plain": [
       "<Figure size 720x360 with 1 Axes>"
      ]
     },
     "metadata": {
      "needs_background": "light"
     },
     "output_type": "display_data"
    }
   ],
   "source": [
    "score_mean = lr_grid_cv.cv_results_['mean_test_score']\n",
    "score_std = lr_grid_cv.cv_results_['std_test_score']\n",
    "cv_k = [k for k in lr_grid_cv.cv_results_['param_selectkbest__k']]\n",
    "\n",
    "best_k = lr_grid_cv.best_params_['selectkbest__k']\n",
    "plt.subplots(figsize=(10, 5))\n",
    "plt.errorbar(cv_k, score_mean, yerr=score_std)\n",
    "plt.axvline(x=best_k, c='r', ls='--', alpha=.5)\n",
    "plt.xlabel('k')\n",
    "plt.ylabel('CV score (r-squared)')\n",
    "plt.title('Pipeline mean CV score (error bars +/- 1sd)');"
   ]
  },
  {
   "cell_type": "markdown",
   "id": "95754b7d",
   "metadata": {},
   "source": [
    "### Benchmark Model 1 Metrics"
   ]
  },
  {
   "cell_type": "markdown",
   "id": "7b934d9b",
   "metadata": {},
   "source": [
    "#### R-squared (COD)"
   ]
  },
  {
   "cell_type": "code",
   "execution_count": 38,
   "id": "9fe2be9c",
   "metadata": {},
   "outputs": [
    {
     "name": "stderr",
     "output_type": "stream",
     "text": [
      "C:\\Users\\jraks\\anaconda3\\lib\\site-packages\\sklearn\\feature_selection\\_univariate_selection.py:301: RuntimeWarning: invalid value encountered in true_divide\n",
      "  corr /= X_norms\n",
      "C:\\Users\\jraks\\anaconda3\\lib\\site-packages\\sklearn\\feature_selection\\_univariate_selection.py:301: RuntimeWarning: invalid value encountered in true_divide\n",
      "  corr /= X_norms\n",
      "C:\\Users\\jraks\\anaconda3\\lib\\site-packages\\sklearn\\feature_selection\\_univariate_selection.py:301: RuntimeWarning: invalid value encountered in true_divide\n",
      "  corr /= X_norms\n",
      "C:\\Users\\jraks\\anaconda3\\lib\\site-packages\\sklearn\\feature_selection\\_univariate_selection.py:301: RuntimeWarning: invalid value encountered in true_divide\n",
      "  corr /= X_norms\n",
      "C:\\Users\\jraks\\anaconda3\\lib\\site-packages\\sklearn\\feature_selection\\_univariate_selection.py:301: RuntimeWarning: invalid value encountered in true_divide\n",
      "  corr /= X_norms\n"
     ]
    },
    {
     "data": {
      "text/plain": [
       "array([-7.19259113e-05, -3.31187525e-02, -1.42216162e-04, -4.67502875e-02,\n",
       "       -1.61420243e-01])"
      ]
     },
     "execution_count": 38,
     "metadata": {},
     "output_type": "execute_result"
    }
   ],
   "source": [
    "#Cross-validation defaults to R^2 metric for scoring regression\n",
    "lr_best_cv_results = cross_validate(lr_grid_cv.best_estimator_, X_train, y_train, cv=5)\n",
    "lr_best_scores = lr_best_cv_results['test_score']\n",
    "lr_best_scores"
   ]
  },
  {
   "cell_type": "code",
   "execution_count": 39,
   "id": "ff3d458a",
   "metadata": {},
   "outputs": [
    {
     "data": {
      "text/plain": [
       "(-0.048300685097521126, 0.059454487819675814)"
      ]
     },
     "execution_count": 39,
     "metadata": {},
     "output_type": "execute_result"
    }
   ],
   "source": [
    "#Training set CV mean and std\n",
    "np.mean(lr_best_scores), np.std(lr_best_scores)"
   ]
  },
  {
   "cell_type": "markdown",
   "id": "eb63283c",
   "metadata": {},
   "source": [
    "#### Mean Absolute Error (MAE)"
   ]
  },
  {
   "cell_type": "code",
   "execution_count": 40,
   "id": "73d54fe8",
   "metadata": {},
   "outputs": [],
   "source": [
    "lr_neg_mae = cross_validate(lr_grid_cv.best_estimator_, X_train, y_train, \n",
    "                            scoring='neg_mean_absolute_error', cv=5, n_jobs=-1)"
   ]
  },
  {
   "cell_type": "code",
   "execution_count": 41,
   "id": "6ed58255",
   "metadata": {},
   "outputs": [
    {
     "data": {
      "text/plain": [
       "(5.073996116493735, 0.36697127944098734)"
      ]
     },
     "execution_count": 41,
     "metadata": {},
     "output_type": "execute_result"
    }
   ],
   "source": [
    "# Training set MAE and STD \n",
    "lr_mae_mean = np.mean(-1 * lr_neg_mae['test_score'])\n",
    "lr_mae_std = np.std(-1 * lr_neg_mae['test_score'])\n",
    "MAE_LR_train = lr_mae_mean, lr_mae_std\n",
    "MAE_LR_train"
   ]
  },
  {
   "cell_type": "code",
   "execution_count": 42,
   "id": "3142ce5e",
   "metadata": {},
   "outputs": [
    {
     "data": {
      "text/plain": [
       "6.023393341076269"
      ]
     },
     "execution_count": 42,
     "metadata": {},
     "output_type": "execute_result"
    }
   ],
   "source": [
    "# Test set mean\n",
    "MAE_LR_test = mean_absolute_error(y_test, lr_grid_cv.best_estimator_.predict(X_test))\n",
    "MAE_LR_test"
   ]
  },
  {
   "cell_type": "markdown",
   "id": "2bd96b16",
   "metadata": {},
   "source": [
    "#### Mean Squared Error (MSE)"
   ]
  },
  {
   "cell_type": "code",
   "execution_count": 43,
   "id": "d7bb4408",
   "metadata": {},
   "outputs": [
    {
     "name": "stderr",
     "output_type": "stream",
     "text": [
      "C:\\Users\\jraks\\anaconda3\\lib\\site-packages\\sklearn\\feature_selection\\_univariate_selection.py:301: RuntimeWarning: invalid value encountered in true_divide\n",
      "  corr /= X_norms\n",
      "C:\\Users\\jraks\\anaconda3\\lib\\site-packages\\sklearn\\feature_selection\\_univariate_selection.py:301: RuntimeWarning: invalid value encountered in true_divide\n",
      "  corr /= X_norms\n",
      "C:\\Users\\jraks\\anaconda3\\lib\\site-packages\\sklearn\\feature_selection\\_univariate_selection.py:301: RuntimeWarning: invalid value encountered in true_divide\n",
      "  corr /= X_norms\n",
      "C:\\Users\\jraks\\anaconda3\\lib\\site-packages\\sklearn\\feature_selection\\_univariate_selection.py:301: RuntimeWarning: invalid value encountered in true_divide\n",
      "  corr /= X_norms\n",
      "C:\\Users\\jraks\\anaconda3\\lib\\site-packages\\sklearn\\feature_selection\\_univariate_selection.py:301: RuntimeWarning: invalid value encountered in true_divide\n",
      "  corr /= X_norms\n"
     ]
    }
   ],
   "source": [
    "lr_neg_mse = cross_validate(lr_grid_cv.best_estimator_, X_train, y_train, \n",
    "                            scoring='neg_mean_squared_error', cv=5)"
   ]
  },
  {
   "cell_type": "code",
   "execution_count": 44,
   "id": "590c02f0",
   "metadata": {},
   "outputs": [
    {
     "data": {
      "text/plain": [
       "(43.98744888367915, 10.131458326219693)"
      ]
     },
     "execution_count": 44,
     "metadata": {},
     "output_type": "execute_result"
    }
   ],
   "source": [
    "#Training set CV mean and std\n",
    "lr_mse_mean = np.mean(-1 * lr_neg_mse['test_score'])\n",
    "lr_mse_std = np.std(-1 * lr_neg_mse['test_score'])\n",
    "MSE_LR_train = lr_mse_mean, lr_mse_std\n",
    "MSE_LR_train"
   ]
  },
  {
   "cell_type": "code",
   "execution_count": 45,
   "id": "ec4b5820",
   "metadata": {},
   "outputs": [
    {
     "data": {
      "text/plain": [
       "64.65650315881305"
      ]
     },
     "execution_count": 45,
     "metadata": {},
     "output_type": "execute_result"
    }
   ],
   "source": [
    "# Test set mean\n",
    "MSE_LR_test = mean_squared_error(y_test, lr_grid_cv.best_estimator_.predict(X_test))\n",
    "MSE_LR_test"
   ]
  },
  {
   "cell_type": "markdown",
   "id": "e903f84c",
   "metadata": {},
   "source": [
    "#### Root Mean Square Error (RMSE)"
   ]
  },
  {
   "cell_type": "code",
   "execution_count": 46,
   "id": "3400ccba",
   "metadata": {},
   "outputs": [
    {
     "name": "stderr",
     "output_type": "stream",
     "text": [
      "C:\\Users\\jraks\\anaconda3\\lib\\site-packages\\sklearn\\feature_selection\\_univariate_selection.py:301: RuntimeWarning: invalid value encountered in true_divide\n",
      "  corr /= X_norms\n",
      "C:\\Users\\jraks\\anaconda3\\lib\\site-packages\\sklearn\\feature_selection\\_univariate_selection.py:301: RuntimeWarning: invalid value encountered in true_divide\n",
      "  corr /= X_norms\n",
      "C:\\Users\\jraks\\anaconda3\\lib\\site-packages\\sklearn\\feature_selection\\_univariate_selection.py:301: RuntimeWarning: invalid value encountered in true_divide\n",
      "  corr /= X_norms\n",
      "C:\\Users\\jraks\\anaconda3\\lib\\site-packages\\sklearn\\feature_selection\\_univariate_selection.py:301: RuntimeWarning: invalid value encountered in true_divide\n",
      "  corr /= X_norms\n",
      "C:\\Users\\jraks\\anaconda3\\lib\\site-packages\\sklearn\\feature_selection\\_univariate_selection.py:301: RuntimeWarning: invalid value encountered in true_divide\n",
      "  corr /= X_norms\n"
     ]
    }
   ],
   "source": [
    "lr_neg_rmse = cross_validate(lr_grid_cv.best_estimator_, X_train, y_train, \n",
    "                            scoring='neg_root_mean_squared_error', cv=5)"
   ]
  },
  {
   "cell_type": "code",
   "execution_count": 47,
   "id": "feef3271",
   "metadata": {},
   "outputs": [
    {
     "data": {
      "text/plain": [
       "(6.588791040765275, 0.758473140467339)"
      ]
     },
     "execution_count": 47,
     "metadata": {},
     "output_type": "execute_result"
    }
   ],
   "source": [
    "#Training set CV mean and std\n",
    "lr_rmse_mean = np.mean(-1 * lr_neg_rmse['test_score'])\n",
    "lr_rmse_std = np.std(-1 * lr_neg_rmse['test_score'])\n",
    "RMSE_LR_train = lr_rmse_mean, lr_rmse_std\n",
    "RMSE_LR_train"
   ]
  },
  {
   "cell_type": "code",
   "execution_count": 48,
   "id": "ecd941f3",
   "metadata": {},
   "outputs": [
    {
     "data": {
      "text/plain": [
       "8.040926759945837"
      ]
     },
     "execution_count": 48,
     "metadata": {},
     "output_type": "execute_result"
    }
   ],
   "source": [
    "# Test set mean\n",
    "RMSE_LR_test = np.sqrt(mean_squared_error(y_test, lr_grid_cv.best_estimator_.predict(X_test)))\n",
    "RMSE_LR_test"
   ]
  },
  {
   "cell_type": "markdown",
   "id": "74ab8c1c",
   "metadata": {},
   "source": [
    "### Best Linear Model Feature Importance"
   ]
  },
  {
   "cell_type": "code",
   "execution_count": 49,
   "id": "c45afdff",
   "metadata": {},
   "outputs": [
    {
     "data": {
      "image/png": "[encoded data removed]",
      "text/plain": [
       "<Figure size 720x360 with 1 Axes>"
      ]
     },
     "metadata": {
      "needs_background": "light"
     },
     "output_type": "display_data"
    }
   ],
   "source": [
    "#Plots a barplot of the linear regressor feature importances,\n",
    "#assigning the `feature_importances_` attribute of \n",
    "#`lv_grid_cv.best_estimator_.named_steps.linearregression` to the name `imps` to then\n",
    "#create a pandas Series object of the feature importances, with the index given by the\n",
    "#training data column names, sorting the values in descending order\n",
    "selected = lr_grid_cv.best_estimator_.named_steps.selectkbest.get_support()\n",
    "plt.subplots(figsize=(10, 5))\n",
    "imps = lr_grid_cv.best_estimator_.named_steps.linearregression.coef_\n",
    "lr_feat_imps = pd.Series(imps, index=X_train.columns[selected]).sort_values(ascending=False)\n",
    "lr_feat_imps.plot(kind='bar')\n",
    "plt.xlabel('features')\n",
    "plt.ylabel('importance')\n",
    "plt.title('Best linear regressor feature importances');"
   ]
  },
  {
   "cell_type": "markdown",
   "id": "8691d024",
   "metadata": {},
   "source": [
    "### Save Best Linear Model Object From Pipeline"
   ]
  },
  {
   "cell_type": "code",
   "execution_count": 50,
   "id": "4531d3e9",
   "metadata": {},
   "outputs": [
    {
     "name": "stdout",
     "output_type": "stream",
     "text": [
      "Writing file.  \"../models\\IS1_Sun_benchmark_linearmodel.pkl\"\n"
     ]
    }
   ],
   "source": [
    "# save the best linear model\n",
    "best_model = lr_grid_cv.best_estimator_\n",
    "best_model.version = '1.0'\n",
    "best_model.pandas_version = pd.__version__\n",
    "best_model.numpy_version = np.__version__\n",
    "best_model.sklearn_version = sklearn_version\n",
    "best_model.X_columns = [col for col in X_train.columns]\n",
    "best_model.build_datetime = datetime.datetime.now()\n",
    "\n",
    "modelpath = '../models'\n",
    "save_file(best_model, 'IS1_Sun_benchmark_linearmodel.pkl', modelpath)"
   ]
  },
  {
   "cell_type": "markdown",
   "id": "6b4d7a4a",
   "metadata": {},
   "source": [
    "### Save Prediction Metrics from Dummy Model and Benchmark Model 1"
   ]
  },
  {
   "cell_type": "code",
   "execution_count": 51,
   "id": "add1b519",
   "metadata": {},
   "outputs": [],
   "source": [
    "# save other data for model comparisons in machine learning model stage\n",
    "comp_data_from3_IST = (MAEs_dummy, MSEs_dummy, RMSEs_dummy, MAE_LR_train, MAE_LR_test, MSE_LR_train, MSE_LR_test, RMSE_LR_train, RMSE_LR_test)\n",
    "with open('../data/IST_Sun_benchmark.pickle', 'wb') as f:\n",
    "    pickle.dump(comp_data_from3_IST, f)"
   ]
  },
  {
   "cell_type": "markdown",
   "id": "e8cd2562",
   "metadata": {},
   "source": [
    "### Conclusions "
   ]
  },
  {
   "cell_type": "code",
   "execution_count": null,
   "id": "42db6fa9",
   "metadata": {},
   "outputs": [],
   "source": []
  }
 ],
 "metadata": {
  "kernelspec": {
   "display_name": "Python 3",
   "language": "python",
   "name": "python3"
  },
  "language_info": {
   "codemirror_mode": {
    "name": "ipython",
    "version": 3
   },
   "file_extension": ".py",
   "mimetype": "text/x-python",
   "name": "python",
   "nbconvert_exporter": "python",
   "pygments_lexer": "ipython3",
   "version": "3.8.8"
  }
 },
 "nbformat": 4,
 "nbformat_minor": 5
}
