{
 "cells": [
  {
   "cell_type": "markdown",
   "id": "1dcb9885",
   "metadata": {},
   "source": [
    "### Introduction to Preprocessing and Training Stage "
   ]
  },
  {
   "cell_type": "markdown",
   "id": "afbf4c49",
   "metadata": {},
   "source": []
  },
  {
   "cell_type": "markdown",
   "id": "a8fc727e",
   "metadata": {},
   "source": [
    "## Preprocessing and Training"
   ]
  },
  {
   "cell_type": "code",
   "execution_count": 1,
   "id": "e179e73d",
   "metadata": {},
   "outputs": [],
   "source": [
    "import pandas as pd\n",
    "import numpy as np\n",
    "import os\n",
    "import pickle\n",
    "import matplotlib.pyplot as plt\n",
    "import seaborn as sns\n",
    "from sklearn import __version__ as sklearn_version\n",
    "from sklearn.preprocessing import scale\n",
    "from sklearn.model_selection import train_test_split, cross_validate, GridSearchCV, learning_curve\n",
    "from sklearn.preprocessing import StandardScaler, MinMaxScaler\n",
    "from sklearn.dummy import DummyRegressor\n",
    "from sklearn.linear_model import LinearRegression\n",
    "from sklearn.metrics import r2_score, mean_squared_error, mean_absolute_error\n",
    "from sklearn.pipeline import make_pipeline\n",
    "from sklearn.impute import SimpleImputer\n",
    "from sklearn.feature_selection import SelectKBest, f_regression\n",
    "import datetime\n",
    "from library.sb_utils import save_file"
   ]
  },
  {
   "cell_type": "markdown",
   "id": "5e352c49",
   "metadata": {},
   "source": [
    "### Load Data"
   ]
  },
  {
   "cell_type": "code",
   "execution_count": 2,
   "id": "9cc5018d",
   "metadata": {},
   "outputs": [
    {
     "data": {
      "text/html": [
       "<div>\n",
       "<style scoped>\n",
       "    .dataframe tbody tr th:only-of-type {\n",
       "        vertical-align: middle;\n",
       "    }\n",
       "\n",
       "    .dataframe tbody tr th {\n",
       "        vertical-align: top;\n",
       "    }\n",
       "\n",
       "    .dataframe thead th {\n",
       "        text-align: right;\n",
       "    }\n",
       "</style>\n",
       "<table border=\"1\" class=\"dataframe\">\n",
       "  <thead>\n",
       "    <tr style=\"text-align: right;\">\n",
       "      <th></th>\n",
       "      <th>P_Date</th>\n",
       "      <th>P_Date_str</th>\n",
       "      <th>IS2_Completed</th>\n",
       "      <th>Comp_Date</th>\n",
       "      <th>Comp_Date_str</th>\n",
       "      <th>Comp_Hr</th>\n",
       "      <th>Solve_day_phase</th>\n",
       "      <th>IS_per_sdp_avg_past_diff_from_RPB</th>\n",
       "      <th>DOW</th>\n",
       "      <th>DOW_num</th>\n",
       "      <th>...</th>\n",
       "      <th>Circle_Count</th>\n",
       "      <th>Shade_Count</th>\n",
       "      <th>Unusual_Sym</th>\n",
       "      <th>Black_Square_Fill</th>\n",
       "      <th>Outside_Grid</th>\n",
       "      <th>Unchecked_Sq</th>\n",
       "      <th>Uniclue</th>\n",
       "      <th>Duplicate_Answers</th>\n",
       "      <th>Quantum</th>\n",
       "      <th>Wordplay</th>\n",
       "    </tr>\n",
       "  </thead>\n",
       "  <tbody>\n",
       "    <tr>\n",
       "      <th>0</th>\n",
       "      <td>2024-03-02 00:00:00</td>\n",
       "      <td>2024-03-02</td>\n",
       "      <td>1.0</td>\n",
       "      <td>2024-03-02 14:20:07</td>\n",
       "      <td>2024-03-02</td>\n",
       "      <td>14</td>\n",
       "      <td>3.0</td>\n",
       "      <td>-16.62</td>\n",
       "      <td>Saturday</td>\n",
       "      <td>7.0</td>\n",
       "      <td>...</td>\n",
       "      <td>0</td>\n",
       "      <td>0</td>\n",
       "      <td>0</td>\n",
       "      <td>0</td>\n",
       "      <td>0</td>\n",
       "      <td>0</td>\n",
       "      <td>0</td>\n",
       "      <td>0</td>\n",
       "      <td>0</td>\n",
       "      <td>4.0</td>\n",
       "    </tr>\n",
       "    <tr>\n",
       "      <th>1</th>\n",
       "      <td>2019-04-25 00:00:00</td>\n",
       "      <td>2019-04-25</td>\n",
       "      <td>1.0</td>\n",
       "      <td>2024-03-01 17:25:11</td>\n",
       "      <td>2024-03-01</td>\n",
       "      <td>17</td>\n",
       "      <td>3.0</td>\n",
       "      <td>-16.67</td>\n",
       "      <td>Thursday</td>\n",
       "      <td>5.0</td>\n",
       "      <td>...</td>\n",
       "      <td>0</td>\n",
       "      <td>0</td>\n",
       "      <td>0</td>\n",
       "      <td>0</td>\n",
       "      <td>0</td>\n",
       "      <td>0</td>\n",
       "      <td>0</td>\n",
       "      <td>0</td>\n",
       "      <td>0</td>\n",
       "      <td>2.0</td>\n",
       "    </tr>\n",
       "    <tr>\n",
       "      <th>2</th>\n",
       "      <td>2024-03-01 00:00:00</td>\n",
       "      <td>2024-03-01</td>\n",
       "      <td>1.0</td>\n",
       "      <td>2024-03-01 16:59:50</td>\n",
       "      <td>2024-03-01</td>\n",
       "      <td>16</td>\n",
       "      <td>3.0</td>\n",
       "      <td>-16.52</td>\n",
       "      <td>Friday</td>\n",
       "      <td>6.0</td>\n",
       "      <td>...</td>\n",
       "      <td>0</td>\n",
       "      <td>0</td>\n",
       "      <td>0</td>\n",
       "      <td>0</td>\n",
       "      <td>0</td>\n",
       "      <td>0</td>\n",
       "      <td>0</td>\n",
       "      <td>0</td>\n",
       "      <td>0</td>\n",
       "      <td>4.0</td>\n",
       "    </tr>\n",
       "    <tr>\n",
       "      <th>3</th>\n",
       "      <td>2022-05-14 00:00:00</td>\n",
       "      <td>2022-05-14</td>\n",
       "      <td>1.0</td>\n",
       "      <td>2024-02-29 21:50:40</td>\n",
       "      <td>2024-02-29</td>\n",
       "      <td>21</td>\n",
       "      <td>4.0</td>\n",
       "      <td>-11.27</td>\n",
       "      <td>Saturday</td>\n",
       "      <td>7.0</td>\n",
       "      <td>...</td>\n",
       "      <td>0</td>\n",
       "      <td>0</td>\n",
       "      <td>0</td>\n",
       "      <td>0</td>\n",
       "      <td>0</td>\n",
       "      <td>0</td>\n",
       "      <td>0</td>\n",
       "      <td>0</td>\n",
       "      <td>0</td>\n",
       "      <td>2.0</td>\n",
       "    </tr>\n",
       "    <tr>\n",
       "      <th>4</th>\n",
       "      <td>2022-05-13 00:00:00</td>\n",
       "      <td>2022-05-13</td>\n",
       "      <td>1.0</td>\n",
       "      <td>2024-02-29 21:31:35</td>\n",
       "      <td>2024-02-29</td>\n",
       "      <td>21</td>\n",
       "      <td>4.0</td>\n",
       "      <td>-11.27</td>\n",
       "      <td>Friday</td>\n",
       "      <td>6.0</td>\n",
       "      <td>...</td>\n",
       "      <td>0</td>\n",
       "      <td>0</td>\n",
       "      <td>1</td>\n",
       "      <td>0</td>\n",
       "      <td>0</td>\n",
       "      <td>0</td>\n",
       "      <td>0</td>\n",
       "      <td>0</td>\n",
       "      <td>0</td>\n",
       "      <td>4.0</td>\n",
       "    </tr>\n",
       "  </tbody>\n",
       "</table>\n",
       "<p>5 rows × 50 columns</p>\n",
       "</div>"
      ],
      "text/plain": [
       "                P_Date  P_Date_str  IS2_Completed            Comp_Date  \\\n",
       "0  2024-03-02 00:00:00  2024-03-02            1.0  2024-03-02 14:20:07   \n",
       "1  2019-04-25 00:00:00  2019-04-25            1.0  2024-03-01 17:25:11   \n",
       "2  2024-03-01 00:00:00  2024-03-01            1.0  2024-03-01 16:59:50   \n",
       "3  2022-05-14 00:00:00  2022-05-14            1.0  2024-02-29 21:50:40   \n",
       "4  2022-05-13 00:00:00  2022-05-13            1.0  2024-02-29 21:31:35   \n",
       "\n",
       "  Comp_Date_str  Comp_Hr  Solve_day_phase  IS_per_sdp_avg_past_diff_from_RPB  \\\n",
       "0    2024-03-02       14              3.0                             -16.62   \n",
       "1    2024-03-01       17              3.0                             -16.67   \n",
       "2    2024-03-01       16              3.0                             -16.52   \n",
       "3    2024-02-29       21              4.0                             -11.27   \n",
       "4    2024-02-29       21              4.0                             -11.27   \n",
       "\n",
       "        DOW  DOW_num  ...  Circle_Count  Shade_Count  Unusual_Sym  \\\n",
       "0  Saturday      7.0  ...             0            0            0   \n",
       "1  Thursday      5.0  ...             0            0            0   \n",
       "2    Friday      6.0  ...             0            0            0   \n",
       "3  Saturday      7.0  ...             0            0            0   \n",
       "4    Friday      6.0  ...             0            0            1   \n",
       "\n",
       "   Black_Square_Fill  Outside_Grid  Unchecked_Sq  Uniclue  Duplicate_Answers  \\\n",
       "0                  0             0             0        0                  0   \n",
       "1                  0             0             0        0                  0   \n",
       "2                  0             0             0        0                  0   \n",
       "3                  0             0             0        0                  0   \n",
       "4                  0             0             0        0                  0   \n",
       "\n",
       "   Quantum  Wordplay  \n",
       "0        0       4.0  \n",
       "1        0       2.0  \n",
       "2        0       4.0  \n",
       "3        0       2.0  \n",
       "4        0       4.0  \n",
       "\n",
       "[5 rows x 50 columns]"
      ]
     },
     "execution_count": 2,
     "metadata": {},
     "output_type": "execute_result"
    }
   ],
   "source": [
    "df = pd.read_csv('../data/df_for_modeling_no_decay_weighting.csv')\n",
    "df.head()"
   ]
  },
  {
   "cell_type": "code",
   "execution_count": 3,
   "id": "95327794",
   "metadata": {},
   "outputs": [
    {
     "name": "stdout",
     "output_type": "stream",
     "text": [
      "<class 'pandas.core.frame.DataFrame'>\n",
      "RangeIndex: 1132 entries, 0 to 1131\n",
      "Data columns (total 50 columns):\n",
      " #   Column                                Non-Null Count  Dtype  \n",
      "---  ------                                --------------  -----  \n",
      " 0   P_Date                                1132 non-null   object \n",
      " 1   P_Date_str                            1132 non-null   object \n",
      " 2   IS2_Completed                         1132 non-null   float64\n",
      " 3   Comp_Date                             1132 non-null   object \n",
      " 4   Comp_Date_str                         1132 non-null   object \n",
      " 5   Comp_Hr                               1132 non-null   int64  \n",
      " 6   Solve_day_phase                       1132 non-null   float64\n",
      " 7   IS_per_sdp_avg_past_diff_from_RPB     1132 non-null   float64\n",
      " 8   DOW                                   1132 non-null   object \n",
      " 9   DOW_num                               1132 non-null   float64\n",
      " 10  GMST(m)                               1132 non-null   float64\n",
      " 11  IS2_ST(m)                             1132 non-null   float64\n",
      " 12  IS_pds_l10_ndw                        1132 non-null   float64\n",
      " 13  IS_pds_l10_stdev                      1132 non-null   float64\n",
      " 14  IS_pds_l10_ndw_SOS_adj                1132 non-null   float64\n",
      " 15  IS_per_constr_avg_past_diff_from_RPB  638 non-null    float64\n",
      " 16  IS2_pds_prior_solves_ct               1132 non-null   float64\n",
      " 17  IS2_npds_prior_solves_ct              1132 non-null   float64\n",
      " 18  overall_day_mean_IST(m)               1132 non-null   float64\n",
      " 19  IS2_solves_l7                         1132 non-null   float64\n",
      " 20  Constructors                          1132 non-null   object \n",
      " 21  Words                                 1132 non-null   int64  \n",
      " 22  Blocks                                1132 non-null   int64  \n",
      " 23  Unused_Letters                        1132 non-null   int64  \n",
      " 24  Stacks                                1132 non-null   int64  \n",
      " 25  Unique_Answers                        1132 non-null   int64  \n",
      " 26  Rebus_Count                           1132 non-null   int64  \n",
      " 27  Rebus_Unique                          1132 non-null   int64  \n",
      " 28  Cheater_Squares                       1132 non-null   int64  \n",
      " 29  AWL                                   1132 non-null   float64\n",
      " 30  Scrabble_Score                        1061 non-null   float64\n",
      " 31  Scrabble_Avg                          1132 non-null   float64\n",
      " 32  FITB                                  1132 non-null   int64  \n",
      " 33  Cross_Ref_Clues                       1132 non-null   int64  \n",
      " 34  Scrabble_Illegal                      1132 non-null   int64  \n",
      " 35  Open_Squares                          1132 non-null   int64  \n",
      " 36  Freshness_Factor                      1132 non-null   float64\n",
      " 37  Overall_Freshness%                    1132 non-null   float64\n",
      " 38  Day_Freshness%                        1132 non-null   float64\n",
      " 39  Duplicate_Clues                       1132 non-null   int64  \n",
      " 40  Circle_Count                          1132 non-null   int64  \n",
      " 41  Shade_Count                           1132 non-null   int64  \n",
      " 42  Unusual_Sym                           1132 non-null   int64  \n",
      " 43  Black_Square_Fill                     1132 non-null   int64  \n",
      " 44  Outside_Grid                          1132 non-null   int64  \n",
      " 45  Unchecked_Sq                          1132 non-null   int64  \n",
      " 46  Uniclue                               1132 non-null   int64  \n",
      " 47  Duplicate_Answers                     1132 non-null   int64  \n",
      " 48  Quantum                               1132 non-null   int64  \n",
      " 49  Wordplay                              1095 non-null   float64\n",
      "dtypes: float64(21), int64(23), object(6)\n",
      "memory usage: 442.3+ KB\n"
     ]
    }
   ],
   "source": [
    "df.info()"
   ]
  },
  {
   "cell_type": "markdown",
   "id": "8fa480d1",
   "metadata": {},
   "source": [
    "### Filter Data"
   ]
  },
  {
   "cell_type": "code",
   "execution_count": 4,
   "id": "ccc15ad7",
   "metadata": {},
   "outputs": [
    {
     "data": {
      "text/plain": [
       "array([7., 5., 6., 4., 3., 2., 1.])"
      ]
     },
     "execution_count": 4,
     "metadata": {},
     "output_type": "execute_result"
    }
   ],
   "source": [
    "df['DOW_num'].unique()"
   ]
  },
  {
   "cell_type": "code",
   "execution_count": 361,
   "id": "05ca3f98",
   "metadata": {},
   "outputs": [],
   "source": [
    "df_filter = df.copy()"
   ]
  },
  {
   "cell_type": "code",
   "execution_count": 362,
   "id": "454fb8d8",
   "metadata": {},
   "outputs": [],
   "source": [
    "#Remove the first solve period (2018-2019)\n",
    "# NOTE: This was done at the end of the feature generation stage for IS2\n",
    "# df_filter = df_filter[df_filter['Comp_Date_str'].str.contains(\"2020|2021|2022|2023|2024\")]"
   ]
  },
  {
   "cell_type": "code",
   "execution_count": 363,
   "id": "cc4071c3",
   "metadata": {},
   "outputs": [],
   "source": [
    "#Filter out Sunday\n",
    "df_filter =df_filter[df_filter[\"DOW_num\"]!=1]"
   ]
  },
  {
   "cell_type": "code",
   "execution_count": 364,
   "id": "b8081934",
   "metadata": {},
   "outputs": [],
   "source": [
    "# Strip down to only the features we need to benchmark and the target feature\n",
    "df_filter = df_filter[['overall_day_mean_IST(m)', 'IS2_ST(m)']]"
   ]
  },
  {
   "cell_type": "code",
   "execution_count": 365,
   "id": "f79a8844",
   "metadata": {},
   "outputs": [
    {
     "data": {
      "text/plain": [
       "IS2_ST(m)    18.414351\n",
       "dtype: float64"
      ]
     },
     "execution_count": 365,
     "metadata": {},
     "output_type": "execute_result"
    }
   ],
   "source": [
    "df_filter[['IS2_ST(m)']].mean()"
   ]
  },
  {
   "cell_type": "code",
   "execution_count": 366,
   "id": "de0b65fd",
   "metadata": {},
   "outputs": [
    {
     "name": "stdout",
     "output_type": "stream",
     "text": [
      "<class 'pandas.core.frame.DataFrame'>\n",
      "Int64Index: 979 entries, 0 to 1131\n",
      "Data columns (total 2 columns):\n",
      " #   Column                   Non-Null Count  Dtype  \n",
      "---  ------                   --------------  -----  \n",
      " 0   overall_day_mean_IST(m)  979 non-null    float64\n",
      " 1   IS2_ST(m)                979 non-null    float64\n",
      "dtypes: float64(2)\n",
      "memory usage: 22.9 KB\n"
     ]
    }
   ],
   "source": [
    "df_filter.info()"
   ]
  },
  {
   "cell_type": "markdown",
   "id": "b6164441",
   "metadata": {},
   "source": [
    "Creating df variants with only the columns we will need to generate the benchmark models "
   ]
  },
  {
   "cell_type": "code",
   "execution_count": 367,
   "id": "a027a7e8",
   "metadata": {},
   "outputs": [],
   "source": [
    "df_model1 = df_filter[['overall_day_mean_IST(m)','IS2_ST(m)']]"
   ]
  },
  {
   "cell_type": "code",
   "execution_count": 368,
   "id": "6310feff",
   "metadata": {},
   "outputs": [],
   "source": [
    "#df_model2 = df_filter[['IS1_ST(m)','overall_day_mean_IST(m)']]"
   ]
  },
  {
   "cell_type": "code",
   "execution_count": 369,
   "id": "55f787a2",
   "metadata": {},
   "outputs": [
    {
     "name": "stdout",
     "output_type": "stream",
     "text": [
      "<class 'pandas.core.frame.DataFrame'>\n",
      "Int64Index: 979 entries, 0 to 1131\n",
      "Data columns (total 2 columns):\n",
      " #   Column                   Non-Null Count  Dtype  \n",
      "---  ------                   --------------  -----  \n",
      " 0   overall_day_mean_IST(m)  979 non-null    float64\n",
      " 1   IS2_ST(m)                979 non-null    float64\n",
      "dtypes: float64(2)\n",
      "memory usage: 22.9 KB\n"
     ]
    }
   ],
   "source": [
    "df_model1.info()"
   ]
  },
  {
   "cell_type": "markdown",
   "id": "6f76d820",
   "metadata": {},
   "source": [
    "### Train Test Split"
   ]
  },
  {
   "cell_type": "code",
   "execution_count": 370,
   "id": "37dfcba4",
   "metadata": {},
   "outputs": [
    {
     "data": {
      "text/plain": [
       "(783.2, 195.8)"
      ]
     },
     "execution_count": 370,
     "metadata": {},
     "output_type": "execute_result"
    }
   ],
   "source": [
    "len(df_model1) * .80, len(df_model1) * .20"
   ]
  },
  {
   "cell_type": "code",
   "execution_count": 371,
   "id": "41207c43",
   "metadata": {},
   "outputs": [],
   "source": [
    "X_train, X_test, y_train, y_test = train_test_split(df_model1.drop(columns='IS2_ST(m)'), \n",
    "                                                    df_model1['IS2_ST(m)'], test_size=0.20, \n",
    "                                                    random_state=43)"
   ]
  },
  {
   "cell_type": "code",
   "execution_count": 372,
   "id": "9aadc9a5",
   "metadata": {},
   "outputs": [
    {
     "data": {
      "text/plain": [
       "((783,), (196,))"
      ]
     },
     "execution_count": 372,
     "metadata": {},
     "output_type": "execute_result"
    }
   ],
   "source": [
    "y_train.shape, y_test.shape"
   ]
  },
  {
   "cell_type": "code",
   "execution_count": 373,
   "id": "7b3da5c6",
   "metadata": {},
   "outputs": [
    {
     "data": {
      "text/plain": [
       "864    29.533333\n",
       "498    18.350000\n",
       "584    32.033333\n",
       "568    19.216667\n",
       "799     7.600000\n",
       "         ...    \n",
       "319     4.833333\n",
       "943     7.883333\n",
       "294     7.483333\n",
       "368     8.600000\n",
       "965    22.683333\n",
       "Name: IS2_ST(m), Length: 783, dtype: float64"
      ]
     },
     "execution_count": 373,
     "metadata": {},
     "output_type": "execute_result"
    }
   ],
   "source": [
    "y_train"
   ]
  },
  {
   "cell_type": "code",
   "execution_count": 374,
   "id": "3944cffa",
   "metadata": {},
   "outputs": [
    {
     "data": {
      "text/plain": [
       "((783, 1), (196, 1))"
      ]
     },
     "execution_count": 374,
     "metadata": {},
     "output_type": "execute_result"
    }
   ],
   "source": [
    "X_train.shape, X_test.shape"
   ]
  },
  {
   "cell_type": "markdown",
   "id": "2b9eb379",
   "metadata": {},
   "source": [
    "### Pre-Modeling: IS2 Mean Solve Time Across All 15x15 Puzzles as Per Solve (IS2_ST) Predictor (aka \"Dummy Model\")"
   ]
  },
  {
   "cell_type": "code",
   "execution_count": 375,
   "id": "a9e3929c",
   "metadata": {},
   "outputs": [
    {
     "data": {
      "text/plain": [
       "18.072775649212414"
      ]
     },
     "execution_count": 375,
     "metadata": {},
     "output_type": "execute_result"
    }
   ],
   "source": [
    "#Target feature (IS2_ST(m)) training set mean\n",
    "train_mean = y_train.mean()\n",
    "train_mean"
   ]
  },
  {
   "cell_type": "code",
   "execution_count": 376,
   "id": "ef94f8da",
   "metadata": {},
   "outputs": [
    {
     "data": {
      "text/plain": [
       "array([[18.07277565]])"
      ]
     },
     "execution_count": 376,
     "metadata": {},
     "output_type": "execute_result"
    }
   ],
   "source": [
    "#Fitting dummy regressor to training data (from sklearn). Outputs the training set mean.\n",
    "dumb_reg = DummyRegressor(strategy='mean')\n",
    "dumb_reg.fit(X_train, y_train)\n",
    "dumb_reg.constant_"
   ]
  },
  {
   "cell_type": "code",
   "execution_count": 377,
   "id": "f20954f3",
   "metadata": {},
   "outputs": [
    {
     "data": {
      "text/plain": [
       "array([18.07277565, 18.07277565, 18.07277565, 18.07277565, 18.07277565])"
      ]
     },
     "execution_count": 377,
     "metadata": {},
     "output_type": "execute_result"
    }
   ],
   "source": [
    "y_tr_pred = dumb_reg.predict(X_train)\n",
    "y_tr_pred[:5]"
   ]
  },
  {
   "cell_type": "code",
   "execution_count": 378,
   "id": "682d3306",
   "metadata": {},
   "outputs": [],
   "source": [
    "y_te_pred = train_mean * np.ones(len(y_test))"
   ]
  },
  {
   "cell_type": "markdown",
   "id": "69f9a10a",
   "metadata": {},
   "source": [
    "#### R-Squared (COD)"
   ]
  },
  {
   "cell_type": "code",
   "execution_count": 379,
   "id": "a5db87e4",
   "metadata": {},
   "outputs": [
    {
     "data": {
      "text/plain": [
       "(0.0, -0.015110410489567405)"
      ]
     },
     "execution_count": 379,
     "metadata": {},
     "output_type": "execute_result"
    }
   ],
   "source": [
    "#Compute R-squared for target mean on training set (will be zero, since we are calculating mean on training set), and on test set (should be slightly different from zero)\n",
    "r2_score(y_train, y_tr_pred), r2_score(y_test, y_te_pred)"
   ]
  },
  {
   "cell_type": "markdown",
   "id": "68d65bdb",
   "metadata": {},
   "source": [
    "proportion of the variance for a dependent variable that's explained by our features. It's close to zero for the dummy model as expected."
   ]
  },
  {
   "cell_type": "markdown",
   "id": "13b2e460",
   "metadata": {},
   "source": [
    "#### Mean Absolute Error (MAE)"
   ]
  },
  {
   "cell_type": "code",
   "execution_count": 380,
   "id": "6eac49b9",
   "metadata": {},
   "outputs": [
    {
     "data": {
      "text/plain": [
       "(10.116204172640513, 10.15087271179225)"
      ]
     },
     "execution_count": 380,
     "metadata": {},
     "output_type": "execute_result"
    }
   ],
   "source": [
    "MAEs_dummy = mean_absolute_error(y_train, y_tr_pred), mean_absolute_error(y_test, y_te_pred)\n",
    "MAEs_dummy"
   ]
  },
  {
   "cell_type": "markdown",
   "id": "3d8d0a0c",
   "metadata": {},
   "source": [
    "#### Mean Squared Error (MSE)"
   ]
  },
  {
   "cell_type": "code",
   "execution_count": 381,
   "id": "ce641104",
   "metadata": {},
   "outputs": [
    {
     "data": {
      "text/plain": [
       "(194.35294231705706, 195.55290401934892)"
      ]
     },
     "execution_count": 381,
     "metadata": {},
     "output_type": "execute_result"
    }
   ],
   "source": [
    "#Calculate the Mean Squared Error (average of the square of the errors)\n",
    "MSEs_dummy = mean_squared_error(y_train, y_tr_pred), mean_squared_error(y_test, y_te_pred)\n",
    "MSEs_dummy"
   ]
  },
  {
   "cell_type": "markdown",
   "id": "6bf480c4",
   "metadata": {},
   "source": [
    "#### Root Mean Squared Error (RMSE)"
   ]
  },
  {
   "cell_type": "code",
   "execution_count": 382,
   "id": "9d96b979",
   "metadata": {},
   "outputs": [
    {
     "data": {
      "text/plain": [
       "(13.94105241067033, 13.984023170009012)"
      ]
     },
     "execution_count": 382,
     "metadata": {},
     "output_type": "execute_result"
    }
   ],
   "source": [
    "RMSEs_dummy = np.sqrt(mean_squared_error(y_train, y_tr_pred)), np.sqrt(mean_squared_error(y_test, y_te_pred))\n",
    "RMSEs_dummy"
   ]
  },
  {
   "cell_type": "markdown",
   "id": "3c8f4a41",
   "metadata": {},
   "source": [
    "On average, we might expect to be off by around 13.94 minutes on training set data and 13.98 minutes on test data if you guessed the IS2 solve time on a given 15x15 puzzle based simply on an average of known values."
   ]
  },
  {
   "cell_type": "markdown",
   "id": "2d7bd21b",
   "metadata": {},
   "source": [
    "Now instead of just guessing with the training set mean across all puzzle days, let's use a few benchmarks that at least take into consideration the default difficulty of a given puzzle based on it's puzzle day."
   ]
  },
  {
   "cell_type": "markdown",
   "id": "a297aad7",
   "metadata": {},
   "source": [
    "### Benchmark Linear Model 1: Puzzle Day-Specific, Whole-Sample Mean Global Median Solver (IS2) Solve Time as Sole Predictor of Individual Solve Times (IS2_STs)"
   ]
  },
  {
   "cell_type": "code",
   "execution_count": 383,
   "id": "2dffb29e",
   "metadata": {},
   "outputs": [
    {
     "name": "stdout",
     "output_type": "stream",
     "text": [
      "<class 'pandas.core.frame.DataFrame'>\n",
      "Int64Index: 783 entries, 864 to 965\n",
      "Data columns (total 1 columns):\n",
      " #   Column                   Non-Null Count  Dtype  \n",
      "---  ------                   --------------  -----  \n",
      " 0   overall_day_mean_IST(m)  783 non-null    float64\n",
      "dtypes: float64(1)\n",
      "memory usage: 12.2 KB\n"
     ]
    }
   ],
   "source": [
    "X_train.info()"
   ]
  },
  {
   "cell_type": "code",
   "execution_count": 384,
   "id": "557cae51",
   "metadata": {},
   "outputs": [],
   "source": [
    "#Filter existing train-test split down to just the ranking columns (train)\n",
    "#X_train_ranking = X_train[[\"p_rank\", \"p_rank_pts\", \"p_log_rank\", \"p_opp_rank_diff\", \"p_opp_rank_pts_diff\", \"p_opp_log_rank_diff\"]]"
   ]
  },
  {
   "cell_type": "code",
   "execution_count": 385,
   "id": "a15bf91a",
   "metadata": {},
   "outputs": [],
   "source": [
    "#Filter existing train-test split down to just the ranking columns (test)\n",
    "#X_test_ranking = X_test[[\"p_rank\", \"p_rank_pts\", \"p_log_rank\", \"p_opp_rank_diff\", \"p_opp_rank_pts_diff\", \"p_opp_log_rank_diff\"]]"
   ]
  },
  {
   "cell_type": "code",
   "execution_count": 386,
   "id": "3f05e589",
   "metadata": {},
   "outputs": [],
   "source": [
    "lr_pipe = make_pipeline(\n",
    "    SimpleImputer(strategy='median'), \n",
    "    StandardScaler(),\n",
    "    SelectKBest(f_regression),\n",
    "    LinearRegression()\n",
    ")"
   ]
  },
  {
   "cell_type": "code",
   "execution_count": 387,
   "id": "3b6274eb",
   "metadata": {},
   "outputs": [
    {
     "data": {
      "text/plain": [
       "dict_keys(['memory', 'steps', 'verbose', 'simpleimputer', 'standardscaler', 'selectkbest', 'linearregression', 'simpleimputer__add_indicator', 'simpleimputer__copy', 'simpleimputer__fill_value', 'simpleimputer__missing_values', 'simpleimputer__strategy', 'simpleimputer__verbose', 'standardscaler__copy', 'standardscaler__with_mean', 'standardscaler__with_std', 'selectkbest__k', 'selectkbest__score_func', 'linearregression__copy_X', 'linearregression__fit_intercept', 'linearregression__n_jobs', 'linearregression__normalize', 'linearregression__positive'])"
      ]
     },
     "execution_count": 387,
     "metadata": {},
     "output_type": "execute_result"
    }
   ],
   "source": [
    "#Dict of available parameters for linear regression pipe\n",
    "lr_pipe.get_params().keys()"
   ]
  },
  {
   "cell_type": "code",
   "execution_count": 388,
   "id": "8d45a3c7",
   "metadata": {},
   "outputs": [],
   "source": [
    "#Define search grid parameters\n",
    "k = [k+1 for k in range(len(X_train.columns))]\n",
    "\n",
    "grid_params = {\n",
    "    'standardscaler': [StandardScaler(), None],\n",
    "    'simpleimputer__strategy': ['mean', 'median'],\n",
    "    'selectkbest__k': k\n",
    "}"
   ]
  },
  {
   "cell_type": "code",
   "execution_count": 389,
   "id": "03fa5d78",
   "metadata": {},
   "outputs": [],
   "source": [
    "#Call `GridSearchCV` with linear regression pipeline, passing in the above `grid_params`\n",
    "#dict for parameters to evaluate with 5-fold cross-validation\n",
    "lr_grid_cv = GridSearchCV(lr_pipe, param_grid=grid_params, cv=5)"
   ]
  },
  {
   "cell_type": "code",
   "execution_count": 390,
   "id": "c1947d57",
   "metadata": {},
   "outputs": [
    {
     "data": {
      "text/plain": [
       "GridSearchCV(cv=5,\n",
       "             estimator=Pipeline(steps=[('simpleimputer',\n",
       "                                        SimpleImputer(strategy='median')),\n",
       "                                       ('standardscaler', StandardScaler()),\n",
       "                                       ('selectkbest',\n",
       "                                        SelectKBest(score_func=<function f_regression at 0x000001BC98563310>)),\n",
       "                                       ('linearregression',\n",
       "                                        LinearRegression())]),\n",
       "             param_grid={'selectkbest__k': [1],\n",
       "                         'simpleimputer__strategy': ['mean', 'median'],\n",
       "                         'standardscaler': [StandardScaler(), None]})"
      ]
     },
     "execution_count": 390,
     "metadata": {},
     "output_type": "execute_result"
    }
   ],
   "source": [
    "#Conduct grid search for this ranking-restricted model. \n",
    "lr_grid_cv.fit(X_train, y_train)"
   ]
  },
  {
   "cell_type": "code",
   "execution_count": 391,
   "id": "a1106123",
   "metadata": {},
   "outputs": [
    {
     "data": {
      "text/plain": [
       "{'selectkbest__k': 1,\n",
       " 'simpleimputer__strategy': 'mean',\n",
       " 'standardscaler': StandardScaler()}"
      ]
     },
     "execution_count": 391,
     "metadata": {},
     "output_type": "execute_result"
    }
   ],
   "source": [
    "#Best params from grid search for this ranking-restricted model\n",
    "lr_grid_cv.best_params_"
   ]
  },
  {
   "cell_type": "markdown",
   "id": "eaaa954d",
   "metadata": {},
   "source": [
    "#### K Best Features Visualization"
   ]
  },
  {
   "cell_type": "code",
   "execution_count": 392,
   "id": "cb3d0008",
   "metadata": {},
   "outputs": [
    {
     "data": {
      "image/png": "[encoded data removed]",
      "text/plain": [
       "<Figure size 720x360 with 1 Axes>"
      ]
     },
     "metadata": {
      "needs_background": "light"
     },
     "output_type": "display_data"
    }
   ],
   "source": [
    "score_mean = lr_grid_cv.cv_results_['mean_test_score']\n",
    "score_std = lr_grid_cv.cv_results_['std_test_score']\n",
    "cv_k = [k for k in lr_grid_cv.cv_results_['param_selectkbest__k']]\n",
    "\n",
    "best_k = lr_grid_cv.best_params_['selectkbest__k']\n",
    "plt.subplots(figsize=(10, 5))\n",
    "plt.errorbar(cv_k, score_mean, yerr=score_std)\n",
    "plt.axvline(x=best_k, c='r', ls='--', alpha=.5)\n",
    "plt.xlabel('k')\n",
    "plt.ylabel('CV score (r-squared)')\n",
    "plt.title('Pipeline mean CV score (error bars +/- 1sd)');"
   ]
  },
  {
   "cell_type": "markdown",
   "id": "95754b7d",
   "metadata": {},
   "source": [
    "### Benchmark Model 1 Metrics"
   ]
  },
  {
   "cell_type": "markdown",
   "id": "7b934d9b",
   "metadata": {},
   "source": [
    "#### R-squared (COD)"
   ]
  },
  {
   "cell_type": "code",
   "execution_count": 393,
   "id": "9fe2be9c",
   "metadata": {},
   "outputs": [
    {
     "data": {
      "text/plain": [
       "array([0.50102609, 0.40921414, 0.42221927, 0.50651073, 0.25066606])"
      ]
     },
     "execution_count": 393,
     "metadata": {},
     "output_type": "execute_result"
    }
   ],
   "source": [
    "#Cross-validation defaults to R^2 metric for scoring regression\n",
    "lr_best_cv_results = cross_validate(lr_grid_cv.best_estimator_, X_train, y_train, cv=5)\n",
    "lr_best_scores = lr_best_cv_results['test_score']\n",
    "lr_best_scores"
   ]
  },
  {
   "cell_type": "code",
   "execution_count": 394,
   "id": "ff3d458a",
   "metadata": {},
   "outputs": [
    {
     "data": {
      "text/plain": [
       "(0.41792725862218755, 0.09254522674145302)"
      ]
     },
     "execution_count": 394,
     "metadata": {},
     "output_type": "execute_result"
    }
   ],
   "source": [
    "#Training set CV mean and std\n",
    "np.mean(lr_best_scores), np.std(lr_best_scores)"
   ]
  },
  {
   "cell_type": "markdown",
   "id": "eb63283c",
   "metadata": {},
   "source": [
    "#### Mean Absolute Error (MAE)"
   ]
  },
  {
   "cell_type": "code",
   "execution_count": 395,
   "id": "73d54fe8",
   "metadata": {},
   "outputs": [],
   "source": [
    "lr_neg_mae = cross_validate(lr_grid_cv.best_estimator_, X_train, y_train, \n",
    "                            scoring='neg_mean_absolute_error', cv=5, n_jobs=-1)"
   ]
  },
  {
   "cell_type": "code",
   "execution_count": 396,
   "id": "6ed58255",
   "metadata": {},
   "outputs": [
    {
     "data": {
      "text/plain": [
       "(6.61861354773536, 0.27610816480841094)"
      ]
     },
     "execution_count": 396,
     "metadata": {},
     "output_type": "execute_result"
    }
   ],
   "source": [
    "# Training set MAE and STD \n",
    "lr_mae_mean = np.mean(-1 * lr_neg_mae['test_score'])\n",
    "lr_mae_std = np.std(-1 * lr_neg_mae['test_score'])\n",
    "MAE_LR_train = lr_mae_mean, lr_mae_std\n",
    "MAE_LR_train"
   ]
  },
  {
   "cell_type": "code",
   "execution_count": 397,
   "id": "3142ce5e",
   "metadata": {},
   "outputs": [
    {
     "data": {
      "text/plain": [
       "6.465554483985549"
      ]
     },
     "execution_count": 397,
     "metadata": {},
     "output_type": "execute_result"
    }
   ],
   "source": [
    "# Test set mean\n",
    "MAE_LR_test = mean_absolute_error(y_test, lr_grid_cv.best_estimator_.predict(X_test))\n",
    "MAE_LR_test"
   ]
  },
  {
   "cell_type": "markdown",
   "id": "2bd96b16",
   "metadata": {},
   "source": [
    "#### Mean Squared Error (MSE)"
   ]
  },
  {
   "cell_type": "code",
   "execution_count": 398,
   "id": "d7bb4408",
   "metadata": {},
   "outputs": [],
   "source": [
    "lr_neg_mse = cross_validate(lr_grid_cv.best_estimator_, X_train, y_train, \n",
    "                            scoring='neg_mean_squared_error', cv=5)"
   ]
  },
  {
   "cell_type": "code",
   "execution_count": 399,
   "id": "590c02f0",
   "metadata": {},
   "outputs": [
    {
     "data": {
      "text/plain": [
       "(109.58191454715688, 7.8569416473510625)"
      ]
     },
     "execution_count": 399,
     "metadata": {},
     "output_type": "execute_result"
    }
   ],
   "source": [
    "#Training set CV mean and std\n",
    "lr_mse_mean = np.mean(-1 * lr_neg_mse['test_score'])\n",
    "lr_mse_std = np.std(-1 * lr_neg_mse['test_score'])\n",
    "MSE_LR_train = lr_mse_mean, lr_mse_std\n",
    "MSE_LR_train"
   ]
  },
  {
   "cell_type": "code",
   "execution_count": 400,
   "id": "ec4b5820",
   "metadata": {},
   "outputs": [
    {
     "data": {
      "text/plain": [
       "100.9074170317214"
      ]
     },
     "execution_count": 400,
     "metadata": {},
     "output_type": "execute_result"
    }
   ],
   "source": [
    "# Test set mean\n",
    "MSE_LR_test = mean_squared_error(y_test, lr_grid_cv.best_estimator_.predict(X_test))\n",
    "MSE_LR_test"
   ]
  },
  {
   "cell_type": "markdown",
   "id": "e903f84c",
   "metadata": {},
   "source": [
    "#### Root Mean Square Error (RMSE)"
   ]
  },
  {
   "cell_type": "code",
   "execution_count": 401,
   "id": "3400ccba",
   "metadata": {},
   "outputs": [],
   "source": [
    "lr_neg_rmse = cross_validate(lr_grid_cv.best_estimator_, X_train, y_train, \n",
    "                            scoring='neg_root_mean_squared_error', cv=5)"
   ]
  },
  {
   "cell_type": "code",
   "execution_count": 402,
   "id": "feef3271",
   "metadata": {},
   "outputs": [
    {
     "data": {
      "text/plain": [
       "(10.461435211969647, 0.3745502007988633)"
      ]
     },
     "execution_count": 402,
     "metadata": {},
     "output_type": "execute_result"
    }
   ],
   "source": [
    "#Training set CV mean and std\n",
    "lr_rmse_mean = np.mean(-1 * lr_neg_rmse['test_score'])\n",
    "lr_rmse_std = np.std(-1 * lr_neg_rmse['test_score'])\n",
    "RMSE_LR_train = lr_rmse_mean, lr_rmse_std\n",
    "RMSE_LR_train"
   ]
  },
  {
   "cell_type": "code",
   "execution_count": 403,
   "id": "ecd941f3",
   "metadata": {},
   "outputs": [
    {
     "data": {
      "text/plain": [
       "10.045268390228376"
      ]
     },
     "execution_count": 403,
     "metadata": {},
     "output_type": "execute_result"
    }
   ],
   "source": [
    "# Test set mean\n",
    "RMSE_LR_test = np.sqrt(mean_squared_error(y_test, lr_grid_cv.best_estimator_.predict(X_test)))\n",
    "RMSE_LR_test"
   ]
  },
  {
   "cell_type": "markdown",
   "id": "74ab8c1c",
   "metadata": {},
   "source": [
    "### Best Linear Model Feature Importance"
   ]
  },
  {
   "cell_type": "code",
   "execution_count": 405,
   "id": "c45afdff",
   "metadata": {},
   "outputs": [
    {
     "data": {
      "image/png": "[encoded data removed]",
      "text/plain": [
       "<Figure size 720x360 with 1 Axes>"
      ]
     },
     "metadata": {
      "needs_background": "light"
     },
     "output_type": "display_data"
    }
   ],
   "source": [
    "#Plots a barplot of the linear regressor feature importances,\n",
    "#assigning the `feature_importances_` attribute of \n",
    "#`lv_grid_cv.best_estimator_.named_steps.linearregression` to the name `imps` to then\n",
    "#create a pandas Series object of the feature importances, with the index given by the\n",
    "#training data column names, sorting the values in descending order\n",
    "selected = lr_grid_cv.best_estimator_.named_steps.selectkbest.get_support()\n",
    "plt.subplots(figsize=(10, 5))\n",
    "imps = lr_grid_cv.best_estimator_.named_steps.linearregression.coef_\n",
    "lr_feat_imps = pd.Series(imps, index=X_train.columns[selected]).sort_values(ascending=False)\n",
    "lr_feat_imps.plot(kind='bar')\n",
    "plt.xlabel('features')\n",
    "plt.ylabel('importance')\n",
    "plt.title('Best linear regressor feature importances');"
   ]
  },
  {
   "cell_type": "markdown",
   "id": "8691d024",
   "metadata": {},
   "source": [
    "### Save Best Linear Model Object From Pipeline"
   ]
  },
  {
   "cell_type": "code",
   "execution_count": 406,
   "id": "4531d3e9",
   "metadata": {},
   "outputs": [
    {
     "name": "stdout",
     "output_type": "stream",
     "text": [
      "A file already exists with this name.\n",
      "\n",
      "Do you want to overwrite? (Y/N)Y\n",
      "Writing file.  \"../models\\IS2_benchmark_linearmodel.pkl\"\n"
     ]
    }
   ],
   "source": [
    "# save the best linear model\n",
    "best_model = lr_grid_cv.best_estimator_\n",
    "best_model.version = '1.0'\n",
    "best_model.pandas_version = pd.__version__\n",
    "best_model.numpy_version = np.__version__\n",
    "best_model.sklearn_version = sklearn_version\n",
    "best_model.X_columns = [col for col in X_train.columns]\n",
    "best_model.build_datetime = datetime.datetime.now()\n",
    "\n",
    "modelpath = '../models'\n",
    "save_file(best_model, 'IS2_benchmark_linearmodel.pkl', modelpath)"
   ]
  },
  {
   "cell_type": "markdown",
   "id": "6b4d7a4a",
   "metadata": {},
   "source": [
    "### Save Prediction Metrics from Dummy Model and Benchmark Model 1"
   ]
  },
  {
   "cell_type": "code",
   "execution_count": 407,
   "id": "add1b519",
   "metadata": {},
   "outputs": [],
   "source": [
    "# save other data for model comparisons in machine learning model stage\n",
    "comp_data_from3_IST = (MAEs_dummy, MSEs_dummy, RMSEs_dummy, MAE_LR_train, MAE_LR_test, MSE_LR_train, MSE_LR_test, RMSE_LR_train, RMSE_LR_test)\n",
    "with open('../data/IST_benchmark.pickle', 'wb') as f:\n",
    "    pickle.dump(comp_data_from3_IST, f)"
   ]
  },
  {
   "cell_type": "markdown",
   "id": "e8cd2562",
   "metadata": {},
   "source": [
    "#### Conclusions\n",
    "\n",
    "Target feature predicted is IS2 raw solve time in minutes. Measure reported here is RMSE.\n",
    "\n",
    "* Dummy Model: 13.9 Train; 14.0 Test    \n",
    "* Linear Model Using IS2 Sample Mean Per Puzzle Day as Only Predictive Feature: 10.5(.37) Train; 10.0 Test\n",
    "\n",
    "The benchmark model wildly outperforms the dummy model, which should be no surprise since it's the (whole sample) puzzle day specific mean. "
   ]
  },
  {
   "cell_type": "code",
   "execution_count": null,
   "id": "42db6fa9",
   "metadata": {},
   "outputs": [],
   "source": []
  }
 ],
 "metadata": {
  "kernelspec": {
   "display_name": "Python 3",
   "language": "python",
   "name": "python3"
  },
  "language_info": {
   "codemirror_mode": {
    "name": "ipython",
    "version": 3
   },
   "file_extension": ".py",
   "mimetype": "text/x-python",
   "name": "python",
   "nbconvert_exporter": "python",
   "pygments_lexer": "ipython3",
   "version": "3.8.8"
  }
 },
 "nbformat": 4,
 "nbformat_minor": 5
}
