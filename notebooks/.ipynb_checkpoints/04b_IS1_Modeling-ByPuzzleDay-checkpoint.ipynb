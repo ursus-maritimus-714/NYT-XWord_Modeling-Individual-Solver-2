{
 "cells": [
  {
   "cell_type": "markdown",
   "id": "6aa24a63",
   "metadata": {},
   "source": [
    "## Predictive Modeling (IS1) - DayByDay Modeling\n",
    "\n",
    "This Notebook takes best all 15x15 puzzles model (Linear Regressor) and optimizes for each individual puzzle day specifically for by-puzzle day modeling. As there are concerns about data scarcity, a 90/10 train/test split is used here (80/20 for full model). \n",
    "\n",
    "See 04_IS1_Modeling Notebook for full model results."
   ]
  },
  {
   "cell_type": "markdown",
   "id": "fa9b3b3a",
   "metadata": {},
   "source": [
    "### Imports"
   ]
  },
  {
   "cell_type": "code",
   "execution_count": 1,
   "id": "318c8037",
   "metadata": {},
   "outputs": [],
   "source": [
    "import pandas as pd\n",
    "import numpy as np\n",
    "import os\n",
    "import pickle\n",
    "import matplotlib.pyplot as plt\n",
    "import seaborn as sns\n",
    "from sklearn import __version__ as sklearn_version\n",
    "#from sklearn.decomposition import PCA\n",
    "from sklearn.preprocessing import scale\n",
    "from sklearn.model_selection import train_test_split, cross_validate, GridSearchCV, learning_curve\n",
    "from sklearn.preprocessing import StandardScaler, MinMaxScaler\n",
    "from sklearn.dummy import DummyRegressor\n",
    "from sklearn.linear_model import LinearRegression\n",
    "# from sklearn.ensemble import RandomForestRegressor\n",
    "# from sklearn.ensemble import GradientBoostingRegressor\n",
    "# from sklearn.experimental import enable_hist_gradient_boosting\n",
    "# from sklearn.ensemble import HistGradientBoostingRegressor\n",
    "from sklearn.metrics import r2_score, mean_squared_error, mean_absolute_error\n",
    "from sklearn.pipeline import make_pipeline\n",
    "from sklearn.impute import SimpleImputer\n",
    "from sklearn.feature_selection import SelectKBest, f_regression\n",
    "import datetime\n",
    "from library.sb_utils import save_file"
   ]
  },
  {
   "cell_type": "markdown",
   "id": "8133d431",
   "metadata": {},
   "source": [
    "### Load and Filter Data"
   ]
  },
  {
   "cell_type": "markdown",
   "id": "847d7aaa",
   "metadata": {},
   "source": [
    "Filtering parameters identical to in dummy/simple modeling stage. "
   ]
  },
  {
   "cell_type": "code",
   "execution_count": 2,
   "id": "4e94cfab",
   "metadata": {},
   "outputs": [
    {
     "data": {
      "text/html": [
       "<div>\n",
       "<style scoped>\n",
       "    .dataframe tbody tr th:only-of-type {\n",
       "        vertical-align: middle;\n",
       "    }\n",
       "\n",
       "    .dataframe tbody tr th {\n",
       "        vertical-align: top;\n",
       "    }\n",
       "\n",
       "    .dataframe thead th {\n",
       "        text-align: right;\n",
       "    }\n",
       "</style>\n",
       "<table border=\"1\" class=\"dataframe\">\n",
       "  <thead>\n",
       "    <tr style=\"text-align: right;\">\n",
       "      <th></th>\n",
       "      <th>P_Date</th>\n",
       "      <th>P_Date_str</th>\n",
       "      <th>IS1_Completed</th>\n",
       "      <th>Comp_Date</th>\n",
       "      <th>Comp_Date_str</th>\n",
       "      <th>Comp_Hr</th>\n",
       "      <th>Solve_day_phase</th>\n",
       "      <th>IS_per_sdp_avg_past_diff_from_RPB</th>\n",
       "      <th>DOW</th>\n",
       "      <th>DOW_num</th>\n",
       "      <th>...</th>\n",
       "      <th>Circle_Count</th>\n",
       "      <th>Shade_Count</th>\n",
       "      <th>Unusual_Sym</th>\n",
       "      <th>Black_Square_Fill</th>\n",
       "      <th>Outside_Grid</th>\n",
       "      <th>Unchecked_Sq</th>\n",
       "      <th>Uniclue</th>\n",
       "      <th>Duplicate_Answers</th>\n",
       "      <th>Quantum</th>\n",
       "      <th>Wordplay</th>\n",
       "    </tr>\n",
       "  </thead>\n",
       "  <tbody>\n",
       "    <tr>\n",
       "      <th>0</th>\n",
       "      <td>2024-02-17 00:00:00</td>\n",
       "      <td>2024-02-17</td>\n",
       "      <td>1</td>\n",
       "      <td>2024-02-17 07:49:40</td>\n",
       "      <td>2024-02-17</td>\n",
       "      <td>7</td>\n",
       "      <td>2.0</td>\n",
       "      <td>-6.40</td>\n",
       "      <td>Saturday</td>\n",
       "      <td>7.0</td>\n",
       "      <td>...</td>\n",
       "      <td>0</td>\n",
       "      <td>0</td>\n",
       "      <td>0</td>\n",
       "      <td>0</td>\n",
       "      <td>0</td>\n",
       "      <td>0</td>\n",
       "      <td>0</td>\n",
       "      <td>0</td>\n",
       "      <td>0</td>\n",
       "      <td>4.0</td>\n",
       "    </tr>\n",
       "    <tr>\n",
       "      <th>1</th>\n",
       "      <td>2024-02-16 00:00:00</td>\n",
       "      <td>2024-02-16</td>\n",
       "      <td>1</td>\n",
       "      <td>2024-02-16 07:09:58</td>\n",
       "      <td>2024-02-16</td>\n",
       "      <td>7</td>\n",
       "      <td>2.0</td>\n",
       "      <td>-6.37</td>\n",
       "      <td>Friday</td>\n",
       "      <td>6.0</td>\n",
       "      <td>...</td>\n",
       "      <td>0</td>\n",
       "      <td>0</td>\n",
       "      <td>0</td>\n",
       "      <td>0</td>\n",
       "      <td>0</td>\n",
       "      <td>0</td>\n",
       "      <td>0</td>\n",
       "      <td>0</td>\n",
       "      <td>0</td>\n",
       "      <td>8.0</td>\n",
       "    </tr>\n",
       "    <tr>\n",
       "      <th>2</th>\n",
       "      <td>2024-02-15 00:00:00</td>\n",
       "      <td>2024-02-15</td>\n",
       "      <td>1</td>\n",
       "      <td>2024-02-15 06:54:05</td>\n",
       "      <td>2024-02-15</td>\n",
       "      <td>6</td>\n",
       "      <td>2.0</td>\n",
       "      <td>-6.40</td>\n",
       "      <td>Thursday</td>\n",
       "      <td>5.0</td>\n",
       "      <td>...</td>\n",
       "      <td>5</td>\n",
       "      <td>0</td>\n",
       "      <td>1</td>\n",
       "      <td>0</td>\n",
       "      <td>0</td>\n",
       "      <td>0</td>\n",
       "      <td>0</td>\n",
       "      <td>0</td>\n",
       "      <td>0</td>\n",
       "      <td>4.0</td>\n",
       "    </tr>\n",
       "    <tr>\n",
       "      <th>3</th>\n",
       "      <td>2024-02-14 00:00:00</td>\n",
       "      <td>2024-02-14</td>\n",
       "      <td>1</td>\n",
       "      <td>2024-02-14 07:15:40</td>\n",
       "      <td>2024-02-14</td>\n",
       "      <td>7</td>\n",
       "      <td>2.0</td>\n",
       "      <td>-6.42</td>\n",
       "      <td>Wednesday</td>\n",
       "      <td>4.0</td>\n",
       "      <td>...</td>\n",
       "      <td>0</td>\n",
       "      <td>0</td>\n",
       "      <td>1</td>\n",
       "      <td>0</td>\n",
       "      <td>0</td>\n",
       "      <td>0</td>\n",
       "      <td>0</td>\n",
       "      <td>0</td>\n",
       "      <td>0</td>\n",
       "      <td>2.0</td>\n",
       "    </tr>\n",
       "    <tr>\n",
       "      <th>4</th>\n",
       "      <td>2024-02-13 00:00:00</td>\n",
       "      <td>2024-02-13</td>\n",
       "      <td>1</td>\n",
       "      <td>2024-02-13 07:18:49</td>\n",
       "      <td>2024-02-13</td>\n",
       "      <td>7</td>\n",
       "      <td>2.0</td>\n",
       "      <td>-6.44</td>\n",
       "      <td>Tuesday</td>\n",
       "      <td>3.0</td>\n",
       "      <td>...</td>\n",
       "      <td>0</td>\n",
       "      <td>0</td>\n",
       "      <td>1</td>\n",
       "      <td>0</td>\n",
       "      <td>0</td>\n",
       "      <td>0</td>\n",
       "      <td>0</td>\n",
       "      <td>0</td>\n",
       "      <td>0</td>\n",
       "      <td>2.0</td>\n",
       "    </tr>\n",
       "  </tbody>\n",
       "</table>\n",
       "<p>5 rows × 50 columns</p>\n",
       "</div>"
      ],
      "text/plain": [
       "                P_Date  P_Date_str  IS1_Completed            Comp_Date  \\\n",
       "0  2024-02-17 00:00:00  2024-02-17              1  2024-02-17 07:49:40   \n",
       "1  2024-02-16 00:00:00  2024-02-16              1  2024-02-16 07:09:58   \n",
       "2  2024-02-15 00:00:00  2024-02-15              1  2024-02-15 06:54:05   \n",
       "3  2024-02-14 00:00:00  2024-02-14              1  2024-02-14 07:15:40   \n",
       "4  2024-02-13 00:00:00  2024-02-13              1  2024-02-13 07:18:49   \n",
       "\n",
       "  Comp_Date_str  Comp_Hr  Solve_day_phase  IS_per_sdp_avg_past_diff_from_RPB  \\\n",
       "0    2024-02-17        7              2.0                              -6.40   \n",
       "1    2024-02-16        7              2.0                              -6.37   \n",
       "2    2024-02-15        6              2.0                              -6.40   \n",
       "3    2024-02-14        7              2.0                              -6.42   \n",
       "4    2024-02-13        7              2.0                              -6.44   \n",
       "\n",
       "         DOW  DOW_num  ...  Circle_Count  Shade_Count  Unusual_Sym  \\\n",
       "0   Saturday      7.0  ...             0            0            0   \n",
       "1     Friday      6.0  ...             0            0            0   \n",
       "2   Thursday      5.0  ...             5            0            1   \n",
       "3  Wednesday      4.0  ...             0            0            1   \n",
       "4    Tuesday      3.0  ...             0            0            1   \n",
       "\n",
       "   Black_Square_Fill  Outside_Grid  Unchecked_Sq  Uniclue  Duplicate_Answers  \\\n",
       "0                  0             0             0        0                  0   \n",
       "1                  0             0             0        0                  0   \n",
       "2                  0             0             0        0                  0   \n",
       "3                  0             0             0        0                  0   \n",
       "4                  0             0             0        0                  0   \n",
       "\n",
       "   Quantum  Wordplay  \n",
       "0        0       4.0  \n",
       "1        0       8.0  \n",
       "2        0       4.0  \n",
       "3        0       2.0  \n",
       "4        0       2.0  \n",
       "\n",
       "[5 rows x 50 columns]"
      ]
     },
     "execution_count": 2,
     "metadata": {},
     "output_type": "execute_result"
    }
   ],
   "source": [
    "# Load data\n",
    "# 2021 solves already filtered out\n",
    "df = pd.read_csv('../data/df_for_modeling_no_decay_weighting.csv')\n",
    "df.head()"
   ]
  },
  {
   "cell_type": "code",
   "execution_count": 3,
   "id": "2189fc57",
   "metadata": {},
   "outputs": [
    {
     "name": "stdout",
     "output_type": "stream",
     "text": [
      "<class 'pandas.core.frame.DataFrame'>\n",
      "RangeIndex: 965 entries, 0 to 964\n",
      "Data columns (total 50 columns):\n",
      " #   Column                                Non-Null Count  Dtype  \n",
      "---  ------                                --------------  -----  \n",
      " 0   P_Date                                965 non-null    object \n",
      " 1   P_Date_str                            965 non-null    object \n",
      " 2   IS1_Completed                         965 non-null    int64  \n",
      " 3   Comp_Date                             965 non-null    object \n",
      " 4   Comp_Date_str                         965 non-null    object \n",
      " 5   Comp_Hr                               965 non-null    int64  \n",
      " 6   Solve_day_phase                       965 non-null    float64\n",
      " 7   IS_per_sdp_avg_past_diff_from_RPB     964 non-null    float64\n",
      " 8   DOW                                   965 non-null    object \n",
      " 9   DOW_num                               965 non-null    float64\n",
      " 10  GMST(m)                               965 non-null    float64\n",
      " 11  IS1_ST(m)                             965 non-null    float64\n",
      " 12  IS_pds_l8_ndw                         965 non-null    float64\n",
      " 13  IS_pds_l8_stdev                       965 non-null    float64\n",
      " 14  IS_pds_l8_ndw_SOS_adj                 965 non-null    float64\n",
      " 15  IS_per_constr_avg_past_diff_from_RPB  579 non-null    float64\n",
      " 16  IS1_pds_prior_solves_ct               965 non-null    float64\n",
      " 17  IS1_npds_prior_solves_ct              965 non-null    float64\n",
      " 18  overall_day_mean_IST(m)               965 non-null    float64\n",
      " 19  IS1_solves_l7                         965 non-null    float64\n",
      " 20  Constructors                          965 non-null    object \n",
      " 21  Words                                 965 non-null    int64  \n",
      " 22  Blocks                                965 non-null    int64  \n",
      " 23  Unused_Letters                        965 non-null    int64  \n",
      " 24  Stacks                                965 non-null    int64  \n",
      " 25  Unique_Answers                        965 non-null    int64  \n",
      " 26  Rebus_Count                           965 non-null    int64  \n",
      " 27  Rebus_Unique                          965 non-null    int64  \n",
      " 28  Cheater_Squares                       965 non-null    int64  \n",
      " 29  AWL                                   965 non-null    float64\n",
      " 30  Scrabble_Score                        905 non-null    float64\n",
      " 31  Scrabble_Avg                          965 non-null    float64\n",
      " 32  FITB                                  965 non-null    int64  \n",
      " 33  Cross_Ref_Clues                       965 non-null    int64  \n",
      " 34  Scrabble_Illegal                      965 non-null    int64  \n",
      " 35  Open_Squares                          965 non-null    int64  \n",
      " 36  Freshness_Factor                      965 non-null    float64\n",
      " 37  Overall_Freshness%                    965 non-null    float64\n",
      " 38  Day_Freshness%                        965 non-null    float64\n",
      " 39  Duplicate_Clues                       965 non-null    int64  \n",
      " 40  Circle_Count                          965 non-null    int64  \n",
      " 41  Shade_Count                           965 non-null    int64  \n",
      " 42  Unusual_Sym                           965 non-null    int64  \n",
      " 43  Black_Square_Fill                     965 non-null    int64  \n",
      " 44  Outside_Grid                          965 non-null    int64  \n",
      " 45  Unchecked_Sq                          965 non-null    int64  \n",
      " 46  Uniclue                               965 non-null    int64  \n",
      " 47  Duplicate_Answers                     965 non-null    int64  \n",
      " 48  Quantum                               965 non-null    int64  \n",
      " 49  Wordplay                              965 non-null    float64\n",
      "dtypes: float64(20), int64(24), object(6)\n",
      "memory usage: 377.1+ KB\n"
     ]
    }
   ],
   "source": [
    "df.info()"
   ]
  },
  {
   "cell_type": "code",
   "execution_count": 256,
   "id": "dd72df3e",
   "metadata": {},
   "outputs": [],
   "source": [
    "# Drop some columns that we don't want/need for modeling (and a few would cause subtle forms of data leakage)\n",
    "df_filter = df.copy()\n",
    "df_filter.drop(['P_Date','P_Date_str', 'Comp_Date', 'Comp_Date_str', 'IS1_Completed','DOW', 'IS_pds_l8_ndw', 'GMST(m)', 'Constructors','overall_day_mean_IST(m)','Uniclue','Duplicate_Answers','Unchecked_Sq','Quantum'],inplace=True,axis=1)"
   ]
  },
  {
   "cell_type": "code",
   "execution_count": 257,
   "id": "88bee571",
   "metadata": {},
   "outputs": [],
   "source": [
    "# This one has no impact on prediction quality but was raising warning in the Linear Modeling for some reason (probably all zeroes in the training set)\n",
    "df_filter.drop(['Outside_Grid'], inplace=True, axis=1)\n",
    "#df_filter.drop(['Duplicate_Clues', 'Circle_Count', 'Shade_Count', 'Unusual_Sym', 'Black_Square_Fill'], inplace=True, axis=1)"
   ]
  },
  {
   "cell_type": "code",
   "execution_count": 258,
   "id": "f8061081",
   "metadata": {},
   "outputs": [
    {
     "name": "stdout",
     "output_type": "stream",
     "text": [
      "<class 'pandas.core.frame.DataFrame'>\n",
      "RangeIndex: 965 entries, 0 to 964\n",
      "Data columns (total 35 columns):\n",
      " #   Column                                Non-Null Count  Dtype  \n",
      "---  ------                                --------------  -----  \n",
      " 0   Comp_Hr                               965 non-null    int64  \n",
      " 1   Solve_day_phase                       965 non-null    float64\n",
      " 2   IS_per_sdp_avg_past_diff_from_RPB     964 non-null    float64\n",
      " 3   DOW_num                               965 non-null    float64\n",
      " 4   IS1_ST(m)                             965 non-null    float64\n",
      " 5   IS_pds_l8_stdev                       965 non-null    float64\n",
      " 6   IS_pds_l8_ndw_SOS_adj                 965 non-null    float64\n",
      " 7   IS_per_constr_avg_past_diff_from_RPB  579 non-null    float64\n",
      " 8   IS1_pds_prior_solves_ct               965 non-null    float64\n",
      " 9   IS1_npds_prior_solves_ct              965 non-null    float64\n",
      " 10  IS1_solves_l7                         965 non-null    float64\n",
      " 11  Words                                 965 non-null    int64  \n",
      " 12  Blocks                                965 non-null    int64  \n",
      " 13  Unused_Letters                        965 non-null    int64  \n",
      " 14  Stacks                                965 non-null    int64  \n",
      " 15  Unique_Answers                        965 non-null    int64  \n",
      " 16  Rebus_Count                           965 non-null    int64  \n",
      " 17  Rebus_Unique                          965 non-null    int64  \n",
      " 18  Cheater_Squares                       965 non-null    int64  \n",
      " 19  AWL                                   965 non-null    float64\n",
      " 20  Scrabble_Score                        905 non-null    float64\n",
      " 21  Scrabble_Avg                          965 non-null    float64\n",
      " 22  FITB                                  965 non-null    int64  \n",
      " 23  Cross_Ref_Clues                       965 non-null    int64  \n",
      " 24  Scrabble_Illegal                      965 non-null    int64  \n",
      " 25  Open_Squares                          965 non-null    int64  \n",
      " 26  Freshness_Factor                      965 non-null    float64\n",
      " 27  Overall_Freshness%                    965 non-null    float64\n",
      " 28  Day_Freshness%                        965 non-null    float64\n",
      " 29  Duplicate_Clues                       965 non-null    int64  \n",
      " 30  Circle_Count                          965 non-null    int64  \n",
      " 31  Shade_Count                           965 non-null    int64  \n",
      " 32  Unusual_Sym                           965 non-null    int64  \n",
      " 33  Black_Square_Fill                     965 non-null    int64  \n",
      " 34  Wordplay                              965 non-null    float64\n",
      "dtypes: float64(17), int64(18)\n",
      "memory usage: 264.0 KB\n"
     ]
    }
   ],
   "source": [
    "# Making sure there's nothing still in there that would constitute data leakage\n",
    "df_filter.info()"
   ]
  },
  {
   "cell_type": "code",
   "execution_count": 259,
   "id": "2249b701",
   "metadata": {},
   "outputs": [],
   "source": [
    "#Move target feature to the front\n",
    "col = df_filter.pop('IS1_ST(m)')\n",
    "df_filter.insert(0, col.name, col)"
   ]
  },
  {
   "cell_type": "code",
   "execution_count": 260,
   "id": "6efd6546",
   "metadata": {},
   "outputs": [],
   "source": [
    "# Filter to a specific puzzle day\n",
    "#df_filter = (df_filter.loc[(df_filter['DOW_num'] == 1)]) # Sun\n",
    "#df_filter = (df_filter.loc[(df_filter['DOW_num'] == 2)]) # Mon\n",
    "#df_filter = (df_filter.loc[(df_filter['DOW_num'] == 3)]) # Tue\n",
    "#df_filter = (df_filter.loc[(df_filter['DOW_num'] == 4)]) # Wed\n",
    "#df_filter = (df_filter.loc[(df_filter['DOW_num'] == 5)]) # Thu\n",
    "#df_filter = (df_filter.loc[(df_filter['DOW_num'] == 6)]) # Fri\n",
    "df_filter = (df_filter.loc[(df_filter['DOW_num'] == 7)]) # Sat"
   ]
  },
  {
   "cell_type": "code",
   "execution_count": 261,
   "id": "8362fa32",
   "metadata": {},
   "outputs": [],
   "source": [
    "df_filter.drop(['DOW_num'],inplace=True,axis=1)"
   ]
  },
  {
   "cell_type": "code",
   "execution_count": 262,
   "id": "0a99d010",
   "metadata": {},
   "outputs": [],
   "source": [
    "#Found a bad value in first modeling iteration, so correcting here\n",
    "# df[\"Duplicate_Answers\"].unique()\n",
    "# df[\"Uniclue\"].unique()\n",
    "# df[\"Unchecked_Sq\"].unique()\n",
    "# df[\"Quantum\"].unique()"
   ]
  },
  {
   "cell_type": "code",
   "execution_count": 263,
   "id": "c0170740",
   "metadata": {},
   "outputs": [],
   "source": [
    "#Deep copy of this df_filter that is now pared down to just the predictive features and the target feature itself \n",
    "# All features are derived from data available prior to any given puzzle being predicted on. No data leakage!\n",
    "df_model1 = df_filter.copy()"
   ]
  },
  {
   "cell_type": "code",
   "execution_count": 264,
   "id": "676916d7",
   "metadata": {},
   "outputs": [
    {
     "name": "stdout",
     "output_type": "stream",
     "text": [
      "<class 'pandas.core.frame.DataFrame'>\n",
      "Int64Index: 140 entries, 0 to 964\n",
      "Data columns (total 34 columns):\n",
      " #   Column                                Non-Null Count  Dtype  \n",
      "---  ------                                --------------  -----  \n",
      " 0   IS1_ST(m)                             140 non-null    float64\n",
      " 1   Comp_Hr                               140 non-null    int64  \n",
      " 2   Solve_day_phase                       140 non-null    float64\n",
      " 3   IS_per_sdp_avg_past_diff_from_RPB     140 non-null    float64\n",
      " 4   IS_pds_l8_stdev                       140 non-null    float64\n",
      " 5   IS_pds_l8_ndw_SOS_adj                 140 non-null    float64\n",
      " 6   IS_per_constr_avg_past_diff_from_RPB  95 non-null     float64\n",
      " 7   IS1_pds_prior_solves_ct               140 non-null    float64\n",
      " 8   IS1_npds_prior_solves_ct              140 non-null    float64\n",
      " 9   IS1_solves_l7                         140 non-null    float64\n",
      " 10  Words                                 140 non-null    int64  \n",
      " 11  Blocks                                140 non-null    int64  \n",
      " 12  Unused_Letters                        140 non-null    int64  \n",
      " 13  Stacks                                140 non-null    int64  \n",
      " 14  Unique_Answers                        140 non-null    int64  \n",
      " 15  Rebus_Count                           140 non-null    int64  \n",
      " 16  Rebus_Unique                          140 non-null    int64  \n",
      " 17  Cheater_Squares                       140 non-null    int64  \n",
      " 18  AWL                                   140 non-null    float64\n",
      " 19  Scrabble_Score                        140 non-null    float64\n",
      " 20  Scrabble_Avg                          140 non-null    float64\n",
      " 21  FITB                                  140 non-null    int64  \n",
      " 22  Cross_Ref_Clues                       140 non-null    int64  \n",
      " 23  Scrabble_Illegal                      140 non-null    int64  \n",
      " 24  Open_Squares                          140 non-null    int64  \n",
      " 25  Freshness_Factor                      140 non-null    float64\n",
      " 26  Overall_Freshness%                    140 non-null    float64\n",
      " 27  Day_Freshness%                        140 non-null    float64\n",
      " 28  Duplicate_Clues                       140 non-null    int64  \n",
      " 29  Circle_Count                          140 non-null    int64  \n",
      " 30  Shade_Count                           140 non-null    int64  \n",
      " 31  Unusual_Sym                           140 non-null    int64  \n",
      " 32  Black_Square_Fill                     140 non-null    int64  \n",
      " 33  Wordplay                              140 non-null    float64\n",
      "dtypes: float64(16), int64(18)\n",
      "memory usage: 38.3 KB\n"
     ]
    }
   ],
   "source": [
    "df_model1.info()"
   ]
  },
  {
   "cell_type": "code",
   "execution_count": 265,
   "id": "7094a917",
   "metadata": {},
   "outputs": [],
   "source": [
    "#df_model1.to_csv('../data/df_model1.csv', index=False)"
   ]
  },
  {
   "cell_type": "markdown",
   "id": "110c9936",
   "metadata": {},
   "source": [
    "### Data Split for Modeling"
   ]
  },
  {
   "cell_type": "markdown",
   "id": "778504df",
   "metadata": {},
   "source": [
    "Identical split as for dummy/simple modeling"
   ]
  },
  {
   "cell_type": "code",
   "execution_count": 266,
   "id": "e7f2b6c5",
   "metadata": {},
   "outputs": [
    {
     "data": {
      "text/plain": [
       "(126.0, 14.0)"
      ]
     },
     "execution_count": 266,
     "metadata": {},
     "output_type": "execute_result"
    }
   ],
   "source": [
    "len(df_model1) * .90, len(df_model1) * .10"
   ]
  },
  {
   "cell_type": "code",
   "execution_count": 267,
   "id": "319fbf70",
   "metadata": {},
   "outputs": [],
   "source": [
    "#Replicates EXACT train-test split from dummy and simpler modeling\n",
    "X_train, X_test, y_train, y_test = train_test_split(df_model1.drop(columns='IS1_ST(m)'), \n",
    "                                                    df_model1['IS1_ST(m)'], test_size=0.10, \n",
    "                                                    random_state=47)"
   ]
  },
  {
   "cell_type": "code",
   "execution_count": 268,
   "id": "9bd84540",
   "metadata": {},
   "outputs": [
    {
     "data": {
      "text/plain": [
       "((126,), (14,))"
      ]
     },
     "execution_count": 268,
     "metadata": {},
     "output_type": "execute_result"
    }
   ],
   "source": [
    "y_train.shape, y_test.shape"
   ]
  },
  {
   "cell_type": "code",
   "execution_count": 269,
   "id": "51897b2b",
   "metadata": {},
   "outputs": [
    {
     "data": {
      "text/plain": [
       "604    23.533333\n",
       "7       7.483333\n",
       "626     9.983333\n",
       "613    10.450000\n",
       "454    12.583333\n",
       "         ...    \n",
       "513    10.183333\n",
       "56     15.583333\n",
       "508    19.550000\n",
       "929    26.166667\n",
       "936    20.283333\n",
       "Name: IS1_ST(m), Length: 126, dtype: float64"
      ]
     },
     "execution_count": 269,
     "metadata": {},
     "output_type": "execute_result"
    }
   ],
   "source": [
    "y_train"
   ]
  },
  {
   "cell_type": "code",
   "execution_count": 270,
   "id": "86a500f1",
   "metadata": {},
   "outputs": [
    {
     "data": {
      "text/plain": [
       "((126, 33), (14, 33))"
      ]
     },
     "execution_count": 270,
     "metadata": {},
     "output_type": "execute_result"
    }
   ],
   "source": [
    "X_train.shape, X_test.shape"
   ]
  },
  {
   "cell_type": "code",
   "execution_count": 271,
   "id": "1e6e04f9",
   "metadata": {},
   "outputs": [
    {
     "data": {
      "text/plain": [
       "16.972883597883595"
      ]
     },
     "execution_count": 271,
     "metadata": {},
     "output_type": "execute_result"
    }
   ],
   "source": [
    "#Target feature (IS1(m)) training set mean\n",
    "train_mean = y_train.mean()\n",
    "train_mean"
   ]
  },
  {
   "cell_type": "markdown",
   "id": "0c04cc67",
   "metadata": {},
   "source": [
    "## Linear Model"
   ]
  },
  {
   "cell_type": "code",
   "execution_count": 272,
   "id": "ef827e2f",
   "metadata": {},
   "outputs": [],
   "source": [
    "lr_pipe = make_pipeline(\n",
    "    SimpleImputer(strategy='median'), \n",
    "    StandardScaler(),\n",
    "    SelectKBest(f_regression),\n",
    "    LinearRegression()\n",
    ")"
   ]
  },
  {
   "cell_type": "code",
   "execution_count": 273,
   "id": "9ab2e373",
   "metadata": {},
   "outputs": [
    {
     "data": {
      "text/plain": [
       "dict_keys(['memory', 'steps', 'verbose', 'simpleimputer', 'standardscaler', 'selectkbest', 'linearregression', 'simpleimputer__add_indicator', 'simpleimputer__copy', 'simpleimputer__fill_value', 'simpleimputer__missing_values', 'simpleimputer__strategy', 'simpleimputer__verbose', 'standardscaler__copy', 'standardscaler__with_mean', 'standardscaler__with_std', 'selectkbest__k', 'selectkbest__score_func', 'linearregression__copy_X', 'linearregression__fit_intercept', 'linearregression__n_jobs', 'linearregression__normalize', 'linearregression__positive'])"
      ]
     },
     "execution_count": 273,
     "metadata": {},
     "output_type": "execute_result"
    }
   ],
   "source": [
    "#Dict of available parameters for linear regression pipe\n",
    "lr_pipe.get_params().keys()"
   ]
  },
  {
   "cell_type": "code",
   "execution_count": 274,
   "id": "76c444fe",
   "metadata": {},
   "outputs": [],
   "source": [
    "#Define search grid parameters\n",
    "k = [k+1 for k in range(len(X_train.columns))]\n",
    "\n",
    "grid_params = {\n",
    "    'standardscaler': [StandardScaler(), None],\n",
    "    'simpleimputer__strategy': ['mean','median'],\n",
    "    'selectkbest__k': k\n",
    "}"
   ]
  },
  {
   "cell_type": "code",
   "execution_count": 275,
   "id": "6e249216",
   "metadata": {},
   "outputs": [],
   "source": [
    "#Call `GridSearchCV` with linear regression pipeline, passing in the above `grid_params`\n",
    "#dict for parameters to evaluate with 5-fold cross-validation\n",
    "lr_grid_cv = GridSearchCV(lr_pipe, param_grid=grid_params, cv=5)"
   ]
  },
  {
   "cell_type": "code",
   "execution_count": 276,
   "id": "93ce18d0",
   "metadata": {},
   "outputs": [
    {
     "name": "stderr",
     "output_type": "stream",
     "text": [
      "C:\\Users\\jraks\\anaconda3\\lib\\site-packages\\sklearn\\feature_selection\\_univariate_selection.py:301: RuntimeWarning: invalid value encountered in true_divide\n",
      "  corr /= X_norms\n",
      "C:\\Users\\jraks\\anaconda3\\lib\\site-packages\\sklearn\\feature_selection\\_univariate_selection.py:301: RuntimeWarning: invalid value encountered in true_divide\n",
      "  corr /= X_norms\n",
      "C:\\Users\\jraks\\anaconda3\\lib\\site-packages\\sklearn\\feature_selection\\_univariate_selection.py:301: RuntimeWarning: invalid value encountered in true_divide\n",
      "  corr /= X_norms\n",
      "C:\\Users\\jraks\\anaconda3\\lib\\site-packages\\sklearn\\feature_selection\\_univariate_selection.py:301: RuntimeWarning: invalid value encountered in true_divide\n",
      "  corr /= X_norms\n",
      "C:\\Users\\jraks\\anaconda3\\lib\\site-packages\\sklearn\\feature_selection\\_univariate_selection.py:301: RuntimeWarning: invalid value encountered in true_divide\n",
      "  corr /= X_norms\n",
      "C:\\Users\\jraks\\anaconda3\\lib\\site-packages\\sklearn\\feature_selection\\_univariate_selection.py:301: RuntimeWarning: invalid value encountered in true_divide\n",
      "  corr /= X_norms\n",
      "C:\\Users\\jraks\\anaconda3\\lib\\site-packages\\sklearn\\feature_selection\\_univariate_selection.py:301: RuntimeWarning: invalid value encountered in true_divide\n",
      "  corr /= X_norms\n",
      "C:\\Users\\jraks\\anaconda3\\lib\\site-packages\\sklearn\\feature_selection\\_univariate_selection.py:301: RuntimeWarning: invalid value encountered in true_divide\n",
      "  corr /= X_norms\n",
      "C:\\Users\\jraks\\anaconda3\\lib\\site-packages\\sklearn\\feature_selection\\_univariate_selection.py:301: RuntimeWarning: invalid value encountered in true_divide\n",
      "  corr /= X_norms\n",
      "C:\\Users\\jraks\\anaconda3\\lib\\site-packages\\sklearn\\feature_selection\\_univariate_selection.py:301: RuntimeWarning: invalid value encountered in true_divide\n",
      "  corr /= X_norms\n",
      "C:\\Users\\jraks\\anaconda3\\lib\\site-packages\\sklearn\\feature_selection\\_univariate_selection.py:301: RuntimeWarning: invalid value encountered in true_divide\n",
      "  corr /= X_norms\n",
      "C:\\Users\\jraks\\anaconda3\\lib\\site-packages\\sklearn\\feature_selection\\_univariate_selection.py:301: RuntimeWarning: invalid value encountered in true_divide\n",
      "  corr /= X_norms\n",
      "C:\\Users\\jraks\\anaconda3\\lib\\site-packages\\sklearn\\feature_selection\\_univariate_selection.py:301: RuntimeWarning: invalid value encountered in true_divide\n",
      "  corr /= X_norms\n",
      "C:\\Users\\jraks\\anaconda3\\lib\\site-packages\\sklearn\\feature_selection\\_univariate_selection.py:301: RuntimeWarning: invalid value encountered in true_divide\n",
      "  corr /= X_norms\n",
      "C:\\Users\\jraks\\anaconda3\\lib\\site-packages\\sklearn\\feature_selection\\_univariate_selection.py:301: RuntimeWarning: invalid value encountered in true_divide\n",
      "  corr /= X_norms\n",
      "C:\\Users\\jraks\\anaconda3\\lib\\site-packages\\sklearn\\feature_selection\\_univariate_selection.py:301: RuntimeWarning: invalid value encountered in true_divide\n",
      "  corr /= X_norms\n",
      "C:\\Users\\jraks\\anaconda3\\lib\\site-packages\\sklearn\\feature_selection\\_univariate_selection.py:301: RuntimeWarning: invalid value encountered in true_divide\n",
      "  corr /= X_norms\n",
      "C:\\Users\\jraks\\anaconda3\\lib\\site-packages\\sklearn\\feature_selection\\_univariate_selection.py:301: RuntimeWarning: invalid value encountered in true_divide\n",
      "  corr /= X_norms\n",
      "C:\\Users\\jraks\\anaconda3\\lib\\site-packages\\sklearn\\feature_selection\\_univariate_selection.py:301: RuntimeWarning: invalid value encountered in true_divide\n",
      "  corr /= X_norms\n",
      "C:\\Users\\jraks\\anaconda3\\lib\\site-packages\\sklearn\\feature_selection\\_univariate_selection.py:301: RuntimeWarning: invalid value encountered in true_divide\n",
      "  corr /= X_norms\n",
      "C:\\Users\\jraks\\anaconda3\\lib\\site-packages\\sklearn\\feature_selection\\_univariate_selection.py:301: RuntimeWarning: invalid value encountered in true_divide\n",
      "  corr /= X_norms\n",
      "C:\\Users\\jraks\\anaconda3\\lib\\site-packages\\sklearn\\feature_selection\\_univariate_selection.py:301: RuntimeWarning: invalid value encountered in true_divide\n",
      "  corr /= X_norms\n",
      "C:\\Users\\jraks\\anaconda3\\lib\\site-packages\\sklearn\\feature_selection\\_univariate_selection.py:301: RuntimeWarning: invalid value encountered in true_divide\n",
      "  corr /= X_norms\n",
      "C:\\Users\\jraks\\anaconda3\\lib\\site-packages\\sklearn\\feature_selection\\_univariate_selection.py:301: RuntimeWarning: invalid value encountered in true_divide\n",
      "  corr /= X_norms\n",
      "C:\\Users\\jraks\\anaconda3\\lib\\site-packages\\sklearn\\feature_selection\\_univariate_selection.py:301: RuntimeWarning: invalid value encountered in true_divide\n",
      "  corr /= X_norms\n",
      "C:\\Users\\jraks\\anaconda3\\lib\\site-packages\\sklearn\\feature_selection\\_univariate_selection.py:301: RuntimeWarning: invalid value encountered in true_divide\n",
      "  corr /= X_norms\n",
      "C:\\Users\\jraks\\anaconda3\\lib\\site-packages\\sklearn\\feature_selection\\_univariate_selection.py:301: RuntimeWarning: invalid value encountered in true_divide\n",
      "  corr /= X_norms\n",
      "C:\\Users\\jraks\\anaconda3\\lib\\site-packages\\sklearn\\feature_selection\\_univariate_selection.py:301: RuntimeWarning: invalid value encountered in true_divide\n",
      "  corr /= X_norms\n",
      "C:\\Users\\jraks\\anaconda3\\lib\\site-packages\\sklearn\\feature_selection\\_univariate_selection.py:301: RuntimeWarning: invalid value encountered in true_divide\n",
      "  corr /= X_norms\n",
      "C:\\Users\\jraks\\anaconda3\\lib\\site-packages\\sklearn\\feature_selection\\_univariate_selection.py:301: RuntimeWarning: invalid value encountered in true_divide\n",
      "  corr /= X_norms\n",
      "C:\\Users\\jraks\\anaconda3\\lib\\site-packages\\sklearn\\feature_selection\\_univariate_selection.py:301: RuntimeWarning: invalid value encountered in true_divide\n",
      "  corr /= X_norms\n",
      "C:\\Users\\jraks\\anaconda3\\lib\\site-packages\\sklearn\\feature_selection\\_univariate_selection.py:301: RuntimeWarning: invalid value encountered in true_divide\n",
      "  corr /= X_norms\n",
      "C:\\Users\\jraks\\anaconda3\\lib\\site-packages\\sklearn\\feature_selection\\_univariate_selection.py:301: RuntimeWarning: invalid value encountered in true_divide\n",
      "  corr /= X_norms\n",
      "C:\\Users\\jraks\\anaconda3\\lib\\site-packages\\sklearn\\feature_selection\\_univariate_selection.py:301: RuntimeWarning: invalid value encountered in true_divide\n",
      "  corr /= X_norms\n",
      "C:\\Users\\jraks\\anaconda3\\lib\\site-packages\\sklearn\\feature_selection\\_univariate_selection.py:301: RuntimeWarning: invalid value encountered in true_divide\n",
      "  corr /= X_norms\n",
      "C:\\Users\\jraks\\anaconda3\\lib\\site-packages\\sklearn\\feature_selection\\_univariate_selection.py:301: RuntimeWarning: invalid value encountered in true_divide\n",
      "  corr /= X_norms\n",
      "C:\\Users\\jraks\\anaconda3\\lib\\site-packages\\sklearn\\feature_selection\\_univariate_selection.py:301: RuntimeWarning: invalid value encountered in true_divide\n",
      "  corr /= X_norms\n",
      "C:\\Users\\jraks\\anaconda3\\lib\\site-packages\\sklearn\\feature_selection\\_univariate_selection.py:301: RuntimeWarning: invalid value encountered in true_divide\n",
      "  corr /= X_norms\n",
      "C:\\Users\\jraks\\anaconda3\\lib\\site-packages\\sklearn\\feature_selection\\_univariate_selection.py:301: RuntimeWarning: invalid value encountered in true_divide\n",
      "  corr /= X_norms\n",
      "C:\\Users\\jraks\\anaconda3\\lib\\site-packages\\sklearn\\feature_selection\\_univariate_selection.py:301: RuntimeWarning: invalid value encountered in true_divide\n",
      "  corr /= X_norms\n",
      "C:\\Users\\jraks\\anaconda3\\lib\\site-packages\\sklearn\\feature_selection\\_univariate_selection.py:301: RuntimeWarning: invalid value encountered in true_divide\n",
      "  corr /= X_norms\n",
      "C:\\Users\\jraks\\anaconda3\\lib\\site-packages\\sklearn\\feature_selection\\_univariate_selection.py:301: RuntimeWarning: invalid value encountered in true_divide\n",
      "  corr /= X_norms\n",
      "C:\\Users\\jraks\\anaconda3\\lib\\site-packages\\sklearn\\feature_selection\\_univariate_selection.py:301: RuntimeWarning: invalid value encountered in true_divide\n",
      "  corr /= X_norms\n",
      "C:\\Users\\jraks\\anaconda3\\lib\\site-packages\\sklearn\\feature_selection\\_univariate_selection.py:301: RuntimeWarning: invalid value encountered in true_divide\n",
      "  corr /= X_norms\n",
      "C:\\Users\\jraks\\anaconda3\\lib\\site-packages\\sklearn\\feature_selection\\_univariate_selection.py:301: RuntimeWarning: invalid value encountered in true_divide\n",
      "  corr /= X_norms\n",
      "C:\\Users\\jraks\\anaconda3\\lib\\site-packages\\sklearn\\feature_selection\\_univariate_selection.py:301: RuntimeWarning: invalid value encountered in true_divide\n",
      "  corr /= X_norms\n",
      "C:\\Users\\jraks\\anaconda3\\lib\\site-packages\\sklearn\\feature_selection\\_univariate_selection.py:301: RuntimeWarning: invalid value encountered in true_divide\n",
      "  corr /= X_norms\n",
      "C:\\Users\\jraks\\anaconda3\\lib\\site-packages\\sklearn\\feature_selection\\_univariate_selection.py:301: RuntimeWarning: invalid value encountered in true_divide\n",
      "  corr /= X_norms\n",
      "C:\\Users\\jraks\\anaconda3\\lib\\site-packages\\sklearn\\feature_selection\\_univariate_selection.py:301: RuntimeWarning: invalid value encountered in true_divide\n",
      "  corr /= X_norms\n",
      "C:\\Users\\jraks\\anaconda3\\lib\\site-packages\\sklearn\\feature_selection\\_univariate_selection.py:301: RuntimeWarning: invalid value encountered in true_divide\n",
      "  corr /= X_norms\n",
      "C:\\Users\\jraks\\anaconda3\\lib\\site-packages\\sklearn\\feature_selection\\_univariate_selection.py:301: RuntimeWarning: invalid value encountered in true_divide\n",
      "  corr /= X_norms\n",
      "C:\\Users\\jraks\\anaconda3\\lib\\site-packages\\sklearn\\feature_selection\\_univariate_selection.py:301: RuntimeWarning: invalid value encountered in true_divide\n",
      "  corr /= X_norms\n",
      "C:\\Users\\jraks\\anaconda3\\lib\\site-packages\\sklearn\\feature_selection\\_univariate_selection.py:301: RuntimeWarning: invalid value encountered in true_divide\n",
      "  corr /= X_norms\n",
      "C:\\Users\\jraks\\anaconda3\\lib\\site-packages\\sklearn\\feature_selection\\_univariate_selection.py:301: RuntimeWarning: invalid value encountered in true_divide\n",
      "  corr /= X_norms\n",
      "C:\\Users\\jraks\\anaconda3\\lib\\site-packages\\sklearn\\feature_selection\\_univariate_selection.py:301: RuntimeWarning: invalid value encountered in true_divide\n",
      "  corr /= X_norms\n",
      "C:\\Users\\jraks\\anaconda3\\lib\\site-packages\\sklearn\\feature_selection\\_univariate_selection.py:301: RuntimeWarning: invalid value encountered in true_divide\n",
      "  corr /= X_norms\n",
      "C:\\Users\\jraks\\anaconda3\\lib\\site-packages\\sklearn\\feature_selection\\_univariate_selection.py:301: RuntimeWarning: invalid value encountered in true_divide\n",
      "  corr /= X_norms\n",
      "C:\\Users\\jraks\\anaconda3\\lib\\site-packages\\sklearn\\feature_selection\\_univariate_selection.py:301: RuntimeWarning: invalid value encountered in true_divide\n",
      "  corr /= X_norms\n",
      "C:\\Users\\jraks\\anaconda3\\lib\\site-packages\\sklearn\\feature_selection\\_univariate_selection.py:301: RuntimeWarning: invalid value encountered in true_divide\n",
      "  corr /= X_norms\n",
      "C:\\Users\\jraks\\anaconda3\\lib\\site-packages\\sklearn\\feature_selection\\_univariate_selection.py:301: RuntimeWarning: invalid value encountered in true_divide\n",
      "  corr /= X_norms\n"
     ]
    },
    {
     "name": "stderr",
     "output_type": "stream",
     "text": [
      "C:\\Users\\jraks\\anaconda3\\lib\\site-packages\\sklearn\\feature_selection\\_univariate_selection.py:301: RuntimeWarning: invalid value encountered in true_divide\n",
      "  corr /= X_norms\n",
      "C:\\Users\\jraks\\anaconda3\\lib\\site-packages\\sklearn\\feature_selection\\_univariate_selection.py:301: RuntimeWarning: invalid value encountered in true_divide\n",
      "  corr /= X_norms\n",
      "C:\\Users\\jraks\\anaconda3\\lib\\site-packages\\sklearn\\feature_selection\\_univariate_selection.py:301: RuntimeWarning: invalid value encountered in true_divide\n",
      "  corr /= X_norms\n",
      "C:\\Users\\jraks\\anaconda3\\lib\\site-packages\\sklearn\\feature_selection\\_univariate_selection.py:301: RuntimeWarning: invalid value encountered in true_divide\n",
      "  corr /= X_norms\n",
      "C:\\Users\\jraks\\anaconda3\\lib\\site-packages\\sklearn\\feature_selection\\_univariate_selection.py:301: RuntimeWarning: invalid value encountered in true_divide\n",
      "  corr /= X_norms\n",
      "C:\\Users\\jraks\\anaconda3\\lib\\site-packages\\sklearn\\feature_selection\\_univariate_selection.py:301: RuntimeWarning: invalid value encountered in true_divide\n",
      "  corr /= X_norms\n",
      "C:\\Users\\jraks\\anaconda3\\lib\\site-packages\\sklearn\\feature_selection\\_univariate_selection.py:301: RuntimeWarning: invalid value encountered in true_divide\n",
      "  corr /= X_norms\n",
      "C:\\Users\\jraks\\anaconda3\\lib\\site-packages\\sklearn\\feature_selection\\_univariate_selection.py:301: RuntimeWarning: invalid value encountered in true_divide\n",
      "  corr /= X_norms\n",
      "C:\\Users\\jraks\\anaconda3\\lib\\site-packages\\sklearn\\feature_selection\\_univariate_selection.py:301: RuntimeWarning: invalid value encountered in true_divide\n",
      "  corr /= X_norms\n",
      "C:\\Users\\jraks\\anaconda3\\lib\\site-packages\\sklearn\\feature_selection\\_univariate_selection.py:301: RuntimeWarning: invalid value encountered in true_divide\n",
      "  corr /= X_norms\n",
      "C:\\Users\\jraks\\anaconda3\\lib\\site-packages\\sklearn\\feature_selection\\_univariate_selection.py:301: RuntimeWarning: invalid value encountered in true_divide\n",
      "  corr /= X_norms\n",
      "C:\\Users\\jraks\\anaconda3\\lib\\site-packages\\sklearn\\feature_selection\\_univariate_selection.py:301: RuntimeWarning: invalid value encountered in true_divide\n",
      "  corr /= X_norms\n",
      "C:\\Users\\jraks\\anaconda3\\lib\\site-packages\\sklearn\\feature_selection\\_univariate_selection.py:301: RuntimeWarning: invalid value encountered in true_divide\n",
      "  corr /= X_norms\n",
      "C:\\Users\\jraks\\anaconda3\\lib\\site-packages\\sklearn\\feature_selection\\_univariate_selection.py:301: RuntimeWarning: invalid value encountered in true_divide\n",
      "  corr /= X_norms\n",
      "C:\\Users\\jraks\\anaconda3\\lib\\site-packages\\sklearn\\feature_selection\\_univariate_selection.py:301: RuntimeWarning: invalid value encountered in true_divide\n",
      "  corr /= X_norms\n",
      "C:\\Users\\jraks\\anaconda3\\lib\\site-packages\\sklearn\\feature_selection\\_univariate_selection.py:301: RuntimeWarning: invalid value encountered in true_divide\n",
      "  corr /= X_norms\n",
      "C:\\Users\\jraks\\anaconda3\\lib\\site-packages\\sklearn\\feature_selection\\_univariate_selection.py:301: RuntimeWarning: invalid value encountered in true_divide\n",
      "  corr /= X_norms\n",
      "C:\\Users\\jraks\\anaconda3\\lib\\site-packages\\sklearn\\feature_selection\\_univariate_selection.py:301: RuntimeWarning: invalid value encountered in true_divide\n",
      "  corr /= X_norms\n",
      "C:\\Users\\jraks\\anaconda3\\lib\\site-packages\\sklearn\\feature_selection\\_univariate_selection.py:301: RuntimeWarning: invalid value encountered in true_divide\n",
      "  corr /= X_norms\n",
      "C:\\Users\\jraks\\anaconda3\\lib\\site-packages\\sklearn\\feature_selection\\_univariate_selection.py:301: RuntimeWarning: invalid value encountered in true_divide\n",
      "  corr /= X_norms\n",
      "C:\\Users\\jraks\\anaconda3\\lib\\site-packages\\sklearn\\feature_selection\\_univariate_selection.py:301: RuntimeWarning: invalid value encountered in true_divide\n",
      "  corr /= X_norms\n",
      "C:\\Users\\jraks\\anaconda3\\lib\\site-packages\\sklearn\\feature_selection\\_univariate_selection.py:301: RuntimeWarning: invalid value encountered in true_divide\n",
      "  corr /= X_norms\n",
      "C:\\Users\\jraks\\anaconda3\\lib\\site-packages\\sklearn\\feature_selection\\_univariate_selection.py:301: RuntimeWarning: invalid value encountered in true_divide\n",
      "  corr /= X_norms\n",
      "C:\\Users\\jraks\\anaconda3\\lib\\site-packages\\sklearn\\feature_selection\\_univariate_selection.py:301: RuntimeWarning: invalid value encountered in true_divide\n",
      "  corr /= X_norms\n",
      "C:\\Users\\jraks\\anaconda3\\lib\\site-packages\\sklearn\\feature_selection\\_univariate_selection.py:301: RuntimeWarning: invalid value encountered in true_divide\n",
      "  corr /= X_norms\n",
      "C:\\Users\\jraks\\anaconda3\\lib\\site-packages\\sklearn\\feature_selection\\_univariate_selection.py:301: RuntimeWarning: invalid value encountered in true_divide\n",
      "  corr /= X_norms\n",
      "C:\\Users\\jraks\\anaconda3\\lib\\site-packages\\sklearn\\feature_selection\\_univariate_selection.py:301: RuntimeWarning: invalid value encountered in true_divide\n",
      "  corr /= X_norms\n",
      "C:\\Users\\jraks\\anaconda3\\lib\\site-packages\\sklearn\\feature_selection\\_univariate_selection.py:301: RuntimeWarning: invalid value encountered in true_divide\n",
      "  corr /= X_norms\n",
      "C:\\Users\\jraks\\anaconda3\\lib\\site-packages\\sklearn\\feature_selection\\_univariate_selection.py:301: RuntimeWarning: invalid value encountered in true_divide\n",
      "  corr /= X_norms\n",
      "C:\\Users\\jraks\\anaconda3\\lib\\site-packages\\sklearn\\feature_selection\\_univariate_selection.py:301: RuntimeWarning: invalid value encountered in true_divide\n",
      "  corr /= X_norms\n",
      "C:\\Users\\jraks\\anaconda3\\lib\\site-packages\\sklearn\\feature_selection\\_univariate_selection.py:301: RuntimeWarning: invalid value encountered in true_divide\n",
      "  corr /= X_norms\n",
      "C:\\Users\\jraks\\anaconda3\\lib\\site-packages\\sklearn\\feature_selection\\_univariate_selection.py:301: RuntimeWarning: invalid value encountered in true_divide\n",
      "  corr /= X_norms\n",
      "C:\\Users\\jraks\\anaconda3\\lib\\site-packages\\sklearn\\feature_selection\\_univariate_selection.py:301: RuntimeWarning: invalid value encountered in true_divide\n",
      "  corr /= X_norms\n",
      "C:\\Users\\jraks\\anaconda3\\lib\\site-packages\\sklearn\\feature_selection\\_univariate_selection.py:301: RuntimeWarning: invalid value encountered in true_divide\n",
      "  corr /= X_norms\n",
      "C:\\Users\\jraks\\anaconda3\\lib\\site-packages\\sklearn\\feature_selection\\_univariate_selection.py:301: RuntimeWarning: invalid value encountered in true_divide\n",
      "  corr /= X_norms\n",
      "C:\\Users\\jraks\\anaconda3\\lib\\site-packages\\sklearn\\feature_selection\\_univariate_selection.py:301: RuntimeWarning: invalid value encountered in true_divide\n",
      "  corr /= X_norms\n",
      "C:\\Users\\jraks\\anaconda3\\lib\\site-packages\\sklearn\\feature_selection\\_univariate_selection.py:301: RuntimeWarning: invalid value encountered in true_divide\n",
      "  corr /= X_norms\n",
      "C:\\Users\\jraks\\anaconda3\\lib\\site-packages\\sklearn\\feature_selection\\_univariate_selection.py:301: RuntimeWarning: invalid value encountered in true_divide\n",
      "  corr /= X_norms\n",
      "C:\\Users\\jraks\\anaconda3\\lib\\site-packages\\sklearn\\feature_selection\\_univariate_selection.py:301: RuntimeWarning: invalid value encountered in true_divide\n",
      "  corr /= X_norms\n",
      "C:\\Users\\jraks\\anaconda3\\lib\\site-packages\\sklearn\\feature_selection\\_univariate_selection.py:301: RuntimeWarning: invalid value encountered in true_divide\n",
      "  corr /= X_norms\n",
      "C:\\Users\\jraks\\anaconda3\\lib\\site-packages\\sklearn\\feature_selection\\_univariate_selection.py:301: RuntimeWarning: invalid value encountered in true_divide\n",
      "  corr /= X_norms\n",
      "C:\\Users\\jraks\\anaconda3\\lib\\site-packages\\sklearn\\feature_selection\\_univariate_selection.py:301: RuntimeWarning: invalid value encountered in true_divide\n",
      "  corr /= X_norms\n",
      "C:\\Users\\jraks\\anaconda3\\lib\\site-packages\\sklearn\\feature_selection\\_univariate_selection.py:301: RuntimeWarning: invalid value encountered in true_divide\n",
      "  corr /= X_norms\n",
      "C:\\Users\\jraks\\anaconda3\\lib\\site-packages\\sklearn\\feature_selection\\_univariate_selection.py:301: RuntimeWarning: invalid value encountered in true_divide\n",
      "  corr /= X_norms\n",
      "C:\\Users\\jraks\\anaconda3\\lib\\site-packages\\sklearn\\feature_selection\\_univariate_selection.py:301: RuntimeWarning: invalid value encountered in true_divide\n",
      "  corr /= X_norms\n",
      "C:\\Users\\jraks\\anaconda3\\lib\\site-packages\\sklearn\\feature_selection\\_univariate_selection.py:301: RuntimeWarning: invalid value encountered in true_divide\n",
      "  corr /= X_norms\n",
      "C:\\Users\\jraks\\anaconda3\\lib\\site-packages\\sklearn\\feature_selection\\_univariate_selection.py:301: RuntimeWarning: invalid value encountered in true_divide\n",
      "  corr /= X_norms\n",
      "C:\\Users\\jraks\\anaconda3\\lib\\site-packages\\sklearn\\feature_selection\\_univariate_selection.py:301: RuntimeWarning: invalid value encountered in true_divide\n",
      "  corr /= X_norms\n",
      "C:\\Users\\jraks\\anaconda3\\lib\\site-packages\\sklearn\\feature_selection\\_univariate_selection.py:301: RuntimeWarning: invalid value encountered in true_divide\n",
      "  corr /= X_norms\n",
      "C:\\Users\\jraks\\anaconda3\\lib\\site-packages\\sklearn\\feature_selection\\_univariate_selection.py:301: RuntimeWarning: invalid value encountered in true_divide\n",
      "  corr /= X_norms\n",
      "C:\\Users\\jraks\\anaconda3\\lib\\site-packages\\sklearn\\feature_selection\\_univariate_selection.py:301: RuntimeWarning: invalid value encountered in true_divide\n",
      "  corr /= X_norms\n",
      "C:\\Users\\jraks\\anaconda3\\lib\\site-packages\\sklearn\\feature_selection\\_univariate_selection.py:301: RuntimeWarning: invalid value encountered in true_divide\n",
      "  corr /= X_norms\n",
      "C:\\Users\\jraks\\anaconda3\\lib\\site-packages\\sklearn\\feature_selection\\_univariate_selection.py:301: RuntimeWarning: invalid value encountered in true_divide\n",
      "  corr /= X_norms\n",
      "C:\\Users\\jraks\\anaconda3\\lib\\site-packages\\sklearn\\feature_selection\\_univariate_selection.py:301: RuntimeWarning: invalid value encountered in true_divide\n",
      "  corr /= X_norms\n",
      "C:\\Users\\jraks\\anaconda3\\lib\\site-packages\\sklearn\\feature_selection\\_univariate_selection.py:301: RuntimeWarning: invalid value encountered in true_divide\n",
      "  corr /= X_norms\n",
      "C:\\Users\\jraks\\anaconda3\\lib\\site-packages\\sklearn\\feature_selection\\_univariate_selection.py:301: RuntimeWarning: invalid value encountered in true_divide\n",
      "  corr /= X_norms\n",
      "C:\\Users\\jraks\\anaconda3\\lib\\site-packages\\sklearn\\feature_selection\\_univariate_selection.py:301: RuntimeWarning: invalid value encountered in true_divide\n",
      "  corr /= X_norms\n",
      "C:\\Users\\jraks\\anaconda3\\lib\\site-packages\\sklearn\\feature_selection\\_univariate_selection.py:301: RuntimeWarning: invalid value encountered in true_divide\n",
      "  corr /= X_norms\n",
      "C:\\Users\\jraks\\anaconda3\\lib\\site-packages\\sklearn\\feature_selection\\_univariate_selection.py:301: RuntimeWarning: invalid value encountered in true_divide\n",
      "  corr /= X_norms\n",
      "C:\\Users\\jraks\\anaconda3\\lib\\site-packages\\sklearn\\feature_selection\\_univariate_selection.py:301: RuntimeWarning: invalid value encountered in true_divide\n",
      "  corr /= X_norms\n"
     ]
    },
    {
     "name": "stderr",
     "output_type": "stream",
     "text": [
      "C:\\Users\\jraks\\anaconda3\\lib\\site-packages\\sklearn\\feature_selection\\_univariate_selection.py:301: RuntimeWarning: invalid value encountered in true_divide\n",
      "  corr /= X_norms\n",
      "C:\\Users\\jraks\\anaconda3\\lib\\site-packages\\sklearn\\feature_selection\\_univariate_selection.py:301: RuntimeWarning: invalid value encountered in true_divide\n",
      "  corr /= X_norms\n",
      "C:\\Users\\jraks\\anaconda3\\lib\\site-packages\\sklearn\\feature_selection\\_univariate_selection.py:301: RuntimeWarning: invalid value encountered in true_divide\n",
      "  corr /= X_norms\n",
      "C:\\Users\\jraks\\anaconda3\\lib\\site-packages\\sklearn\\feature_selection\\_univariate_selection.py:301: RuntimeWarning: invalid value encountered in true_divide\n",
      "  corr /= X_norms\n",
      "C:\\Users\\jraks\\anaconda3\\lib\\site-packages\\sklearn\\feature_selection\\_univariate_selection.py:301: RuntimeWarning: invalid value encountered in true_divide\n",
      "  corr /= X_norms\n",
      "C:\\Users\\jraks\\anaconda3\\lib\\site-packages\\sklearn\\feature_selection\\_univariate_selection.py:301: RuntimeWarning: invalid value encountered in true_divide\n",
      "  corr /= X_norms\n",
      "C:\\Users\\jraks\\anaconda3\\lib\\site-packages\\sklearn\\feature_selection\\_univariate_selection.py:301: RuntimeWarning: invalid value encountered in true_divide\n",
      "  corr /= X_norms\n",
      "C:\\Users\\jraks\\anaconda3\\lib\\site-packages\\sklearn\\feature_selection\\_univariate_selection.py:301: RuntimeWarning: invalid value encountered in true_divide\n",
      "  corr /= X_norms\n",
      "C:\\Users\\jraks\\anaconda3\\lib\\site-packages\\sklearn\\feature_selection\\_univariate_selection.py:301: RuntimeWarning: invalid value encountered in true_divide\n",
      "  corr /= X_norms\n",
      "C:\\Users\\jraks\\anaconda3\\lib\\site-packages\\sklearn\\feature_selection\\_univariate_selection.py:301: RuntimeWarning: invalid value encountered in true_divide\n",
      "  corr /= X_norms\n",
      "C:\\Users\\jraks\\anaconda3\\lib\\site-packages\\sklearn\\feature_selection\\_univariate_selection.py:301: RuntimeWarning: invalid value encountered in true_divide\n",
      "  corr /= X_norms\n",
      "C:\\Users\\jraks\\anaconda3\\lib\\site-packages\\sklearn\\feature_selection\\_univariate_selection.py:301: RuntimeWarning: invalid value encountered in true_divide\n",
      "  corr /= X_norms\n",
      "C:\\Users\\jraks\\anaconda3\\lib\\site-packages\\sklearn\\feature_selection\\_univariate_selection.py:301: RuntimeWarning: invalid value encountered in true_divide\n",
      "  corr /= X_norms\n",
      "C:\\Users\\jraks\\anaconda3\\lib\\site-packages\\sklearn\\feature_selection\\_univariate_selection.py:301: RuntimeWarning: invalid value encountered in true_divide\n",
      "  corr /= X_norms\n",
      "C:\\Users\\jraks\\anaconda3\\lib\\site-packages\\sklearn\\feature_selection\\_univariate_selection.py:301: RuntimeWarning: invalid value encountered in true_divide\n",
      "  corr /= X_norms\n",
      "C:\\Users\\jraks\\anaconda3\\lib\\site-packages\\sklearn\\feature_selection\\_univariate_selection.py:301: RuntimeWarning: invalid value encountered in true_divide\n",
      "  corr /= X_norms\n",
      "C:\\Users\\jraks\\anaconda3\\lib\\site-packages\\sklearn\\feature_selection\\_univariate_selection.py:301: RuntimeWarning: invalid value encountered in true_divide\n",
      "  corr /= X_norms\n",
      "C:\\Users\\jraks\\anaconda3\\lib\\site-packages\\sklearn\\feature_selection\\_univariate_selection.py:301: RuntimeWarning: invalid value encountered in true_divide\n",
      "  corr /= X_norms\n",
      "C:\\Users\\jraks\\anaconda3\\lib\\site-packages\\sklearn\\feature_selection\\_univariate_selection.py:301: RuntimeWarning: invalid value encountered in true_divide\n",
      "  corr /= X_norms\n",
      "C:\\Users\\jraks\\anaconda3\\lib\\site-packages\\sklearn\\feature_selection\\_univariate_selection.py:301: RuntimeWarning: invalid value encountered in true_divide\n",
      "  corr /= X_norms\n",
      "C:\\Users\\jraks\\anaconda3\\lib\\site-packages\\sklearn\\feature_selection\\_univariate_selection.py:301: RuntimeWarning: invalid value encountered in true_divide\n",
      "  corr /= X_norms\n",
      "C:\\Users\\jraks\\anaconda3\\lib\\site-packages\\sklearn\\feature_selection\\_univariate_selection.py:301: RuntimeWarning: invalid value encountered in true_divide\n",
      "  corr /= X_norms\n",
      "C:\\Users\\jraks\\anaconda3\\lib\\site-packages\\sklearn\\feature_selection\\_univariate_selection.py:301: RuntimeWarning: invalid value encountered in true_divide\n",
      "  corr /= X_norms\n",
      "C:\\Users\\jraks\\anaconda3\\lib\\site-packages\\sklearn\\feature_selection\\_univariate_selection.py:301: RuntimeWarning: invalid value encountered in true_divide\n",
      "  corr /= X_norms\n",
      "C:\\Users\\jraks\\anaconda3\\lib\\site-packages\\sklearn\\feature_selection\\_univariate_selection.py:301: RuntimeWarning: invalid value encountered in true_divide\n",
      "  corr /= X_norms\n",
      "C:\\Users\\jraks\\anaconda3\\lib\\site-packages\\sklearn\\feature_selection\\_univariate_selection.py:301: RuntimeWarning: invalid value encountered in true_divide\n",
      "  corr /= X_norms\n",
      "C:\\Users\\jraks\\anaconda3\\lib\\site-packages\\sklearn\\feature_selection\\_univariate_selection.py:301: RuntimeWarning: invalid value encountered in true_divide\n",
      "  corr /= X_norms\n",
      "C:\\Users\\jraks\\anaconda3\\lib\\site-packages\\sklearn\\feature_selection\\_univariate_selection.py:301: RuntimeWarning: invalid value encountered in true_divide\n",
      "  corr /= X_norms\n",
      "C:\\Users\\jraks\\anaconda3\\lib\\site-packages\\sklearn\\feature_selection\\_univariate_selection.py:301: RuntimeWarning: invalid value encountered in true_divide\n",
      "  corr /= X_norms\n",
      "C:\\Users\\jraks\\anaconda3\\lib\\site-packages\\sklearn\\feature_selection\\_univariate_selection.py:301: RuntimeWarning: invalid value encountered in true_divide\n",
      "  corr /= X_norms\n",
      "C:\\Users\\jraks\\anaconda3\\lib\\site-packages\\sklearn\\feature_selection\\_univariate_selection.py:301: RuntimeWarning: invalid value encountered in true_divide\n",
      "  corr /= X_norms\n",
      "C:\\Users\\jraks\\anaconda3\\lib\\site-packages\\sklearn\\feature_selection\\_univariate_selection.py:301: RuntimeWarning: invalid value encountered in true_divide\n",
      "  corr /= X_norms\n",
      "C:\\Users\\jraks\\anaconda3\\lib\\site-packages\\sklearn\\feature_selection\\_univariate_selection.py:301: RuntimeWarning: invalid value encountered in true_divide\n",
      "  corr /= X_norms\n",
      "C:\\Users\\jraks\\anaconda3\\lib\\site-packages\\sklearn\\feature_selection\\_univariate_selection.py:301: RuntimeWarning: invalid value encountered in true_divide\n",
      "  corr /= X_norms\n",
      "C:\\Users\\jraks\\anaconda3\\lib\\site-packages\\sklearn\\feature_selection\\_univariate_selection.py:301: RuntimeWarning: invalid value encountered in true_divide\n",
      "  corr /= X_norms\n",
      "C:\\Users\\jraks\\anaconda3\\lib\\site-packages\\sklearn\\feature_selection\\_univariate_selection.py:301: RuntimeWarning: invalid value encountered in true_divide\n",
      "  corr /= X_norms\n",
      "C:\\Users\\jraks\\anaconda3\\lib\\site-packages\\sklearn\\feature_selection\\_univariate_selection.py:301: RuntimeWarning: invalid value encountered in true_divide\n",
      "  corr /= X_norms\n",
      "C:\\Users\\jraks\\anaconda3\\lib\\site-packages\\sklearn\\feature_selection\\_univariate_selection.py:301: RuntimeWarning: invalid value encountered in true_divide\n",
      "  corr /= X_norms\n",
      "C:\\Users\\jraks\\anaconda3\\lib\\site-packages\\sklearn\\feature_selection\\_univariate_selection.py:301: RuntimeWarning: invalid value encountered in true_divide\n",
      "  corr /= X_norms\n",
      "C:\\Users\\jraks\\anaconda3\\lib\\site-packages\\sklearn\\feature_selection\\_univariate_selection.py:301: RuntimeWarning: invalid value encountered in true_divide\n",
      "  corr /= X_norms\n",
      "C:\\Users\\jraks\\anaconda3\\lib\\site-packages\\sklearn\\feature_selection\\_univariate_selection.py:301: RuntimeWarning: invalid value encountered in true_divide\n",
      "  corr /= X_norms\n",
      "C:\\Users\\jraks\\anaconda3\\lib\\site-packages\\sklearn\\feature_selection\\_univariate_selection.py:301: RuntimeWarning: invalid value encountered in true_divide\n",
      "  corr /= X_norms\n",
      "C:\\Users\\jraks\\anaconda3\\lib\\site-packages\\sklearn\\feature_selection\\_univariate_selection.py:301: RuntimeWarning: invalid value encountered in true_divide\n",
      "  corr /= X_norms\n",
      "C:\\Users\\jraks\\anaconda3\\lib\\site-packages\\sklearn\\feature_selection\\_univariate_selection.py:301: RuntimeWarning: invalid value encountered in true_divide\n",
      "  corr /= X_norms\n",
      "C:\\Users\\jraks\\anaconda3\\lib\\site-packages\\sklearn\\feature_selection\\_univariate_selection.py:301: RuntimeWarning: invalid value encountered in true_divide\n",
      "  corr /= X_norms\n",
      "C:\\Users\\jraks\\anaconda3\\lib\\site-packages\\sklearn\\feature_selection\\_univariate_selection.py:301: RuntimeWarning: invalid value encountered in true_divide\n",
      "  corr /= X_norms\n",
      "C:\\Users\\jraks\\anaconda3\\lib\\site-packages\\sklearn\\feature_selection\\_univariate_selection.py:301: RuntimeWarning: invalid value encountered in true_divide\n",
      "  corr /= X_norms\n",
      "C:\\Users\\jraks\\anaconda3\\lib\\site-packages\\sklearn\\feature_selection\\_univariate_selection.py:301: RuntimeWarning: invalid value encountered in true_divide\n",
      "  corr /= X_norms\n",
      "C:\\Users\\jraks\\anaconda3\\lib\\site-packages\\sklearn\\feature_selection\\_univariate_selection.py:301: RuntimeWarning: invalid value encountered in true_divide\n",
      "  corr /= X_norms\n",
      "C:\\Users\\jraks\\anaconda3\\lib\\site-packages\\sklearn\\feature_selection\\_univariate_selection.py:301: RuntimeWarning: invalid value encountered in true_divide\n",
      "  corr /= X_norms\n",
      "C:\\Users\\jraks\\anaconda3\\lib\\site-packages\\sklearn\\feature_selection\\_univariate_selection.py:301: RuntimeWarning: invalid value encountered in true_divide\n",
      "  corr /= X_norms\n",
      "C:\\Users\\jraks\\anaconda3\\lib\\site-packages\\sklearn\\feature_selection\\_univariate_selection.py:301: RuntimeWarning: invalid value encountered in true_divide\n",
      "  corr /= X_norms\n",
      "C:\\Users\\jraks\\anaconda3\\lib\\site-packages\\sklearn\\feature_selection\\_univariate_selection.py:301: RuntimeWarning: invalid value encountered in true_divide\n",
      "  corr /= X_norms\n",
      "C:\\Users\\jraks\\anaconda3\\lib\\site-packages\\sklearn\\feature_selection\\_univariate_selection.py:301: RuntimeWarning: invalid value encountered in true_divide\n",
      "  corr /= X_norms\n",
      "C:\\Users\\jraks\\anaconda3\\lib\\site-packages\\sklearn\\feature_selection\\_univariate_selection.py:301: RuntimeWarning: invalid value encountered in true_divide\n",
      "  corr /= X_norms\n",
      "C:\\Users\\jraks\\anaconda3\\lib\\site-packages\\sklearn\\feature_selection\\_univariate_selection.py:301: RuntimeWarning: invalid value encountered in true_divide\n",
      "  corr /= X_norms\n",
      "C:\\Users\\jraks\\anaconda3\\lib\\site-packages\\sklearn\\feature_selection\\_univariate_selection.py:301: RuntimeWarning: invalid value encountered in true_divide\n",
      "  corr /= X_norms\n",
      "C:\\Users\\jraks\\anaconda3\\lib\\site-packages\\sklearn\\feature_selection\\_univariate_selection.py:301: RuntimeWarning: invalid value encountered in true_divide\n",
      "  corr /= X_norms\n"
     ]
    },
    {
     "name": "stderr",
     "output_type": "stream",
     "text": [
      "C:\\Users\\jraks\\anaconda3\\lib\\site-packages\\sklearn\\feature_selection\\_univariate_selection.py:301: RuntimeWarning: invalid value encountered in true_divide\n",
      "  corr /= X_norms\n",
      "C:\\Users\\jraks\\anaconda3\\lib\\site-packages\\sklearn\\feature_selection\\_univariate_selection.py:301: RuntimeWarning: invalid value encountered in true_divide\n",
      "  corr /= X_norms\n",
      "C:\\Users\\jraks\\anaconda3\\lib\\site-packages\\sklearn\\feature_selection\\_univariate_selection.py:301: RuntimeWarning: invalid value encountered in true_divide\n",
      "  corr /= X_norms\n",
      "C:\\Users\\jraks\\anaconda3\\lib\\site-packages\\sklearn\\feature_selection\\_univariate_selection.py:301: RuntimeWarning: invalid value encountered in true_divide\n",
      "  corr /= X_norms\n",
      "C:\\Users\\jraks\\anaconda3\\lib\\site-packages\\sklearn\\feature_selection\\_univariate_selection.py:301: RuntimeWarning: invalid value encountered in true_divide\n",
      "  corr /= X_norms\n",
      "C:\\Users\\jraks\\anaconda3\\lib\\site-packages\\sklearn\\feature_selection\\_univariate_selection.py:301: RuntimeWarning: invalid value encountered in true_divide\n",
      "  corr /= X_norms\n",
      "C:\\Users\\jraks\\anaconda3\\lib\\site-packages\\sklearn\\feature_selection\\_univariate_selection.py:301: RuntimeWarning: invalid value encountered in true_divide\n",
      "  corr /= X_norms\n",
      "C:\\Users\\jraks\\anaconda3\\lib\\site-packages\\sklearn\\feature_selection\\_univariate_selection.py:301: RuntimeWarning: invalid value encountered in true_divide\n",
      "  corr /= X_norms\n",
      "C:\\Users\\jraks\\anaconda3\\lib\\site-packages\\sklearn\\feature_selection\\_univariate_selection.py:301: RuntimeWarning: invalid value encountered in true_divide\n",
      "  corr /= X_norms\n",
      "C:\\Users\\jraks\\anaconda3\\lib\\site-packages\\sklearn\\feature_selection\\_univariate_selection.py:301: RuntimeWarning: invalid value encountered in true_divide\n",
      "  corr /= X_norms\n",
      "C:\\Users\\jraks\\anaconda3\\lib\\site-packages\\sklearn\\feature_selection\\_univariate_selection.py:301: RuntimeWarning: invalid value encountered in true_divide\n",
      "  corr /= X_norms\n",
      "C:\\Users\\jraks\\anaconda3\\lib\\site-packages\\sklearn\\feature_selection\\_univariate_selection.py:301: RuntimeWarning: invalid value encountered in true_divide\n",
      "  corr /= X_norms\n",
      "C:\\Users\\jraks\\anaconda3\\lib\\site-packages\\sklearn\\feature_selection\\_univariate_selection.py:301: RuntimeWarning: invalid value encountered in true_divide\n",
      "  corr /= X_norms\n",
      "C:\\Users\\jraks\\anaconda3\\lib\\site-packages\\sklearn\\feature_selection\\_univariate_selection.py:301: RuntimeWarning: invalid value encountered in true_divide\n",
      "  corr /= X_norms\n",
      "C:\\Users\\jraks\\anaconda3\\lib\\site-packages\\sklearn\\feature_selection\\_univariate_selection.py:301: RuntimeWarning: invalid value encountered in true_divide\n",
      "  corr /= X_norms\n",
      "C:\\Users\\jraks\\anaconda3\\lib\\site-packages\\sklearn\\feature_selection\\_univariate_selection.py:301: RuntimeWarning: invalid value encountered in true_divide\n",
      "  corr /= X_norms\n",
      "C:\\Users\\jraks\\anaconda3\\lib\\site-packages\\sklearn\\feature_selection\\_univariate_selection.py:301: RuntimeWarning: invalid value encountered in true_divide\n",
      "  corr /= X_norms\n",
      "C:\\Users\\jraks\\anaconda3\\lib\\site-packages\\sklearn\\feature_selection\\_univariate_selection.py:301: RuntimeWarning: invalid value encountered in true_divide\n",
      "  corr /= X_norms\n",
      "C:\\Users\\jraks\\anaconda3\\lib\\site-packages\\sklearn\\feature_selection\\_univariate_selection.py:301: RuntimeWarning: invalid value encountered in true_divide\n",
      "  corr /= X_norms\n",
      "C:\\Users\\jraks\\anaconda3\\lib\\site-packages\\sklearn\\feature_selection\\_univariate_selection.py:301: RuntimeWarning: invalid value encountered in true_divide\n",
      "  corr /= X_norms\n",
      "C:\\Users\\jraks\\anaconda3\\lib\\site-packages\\sklearn\\feature_selection\\_univariate_selection.py:301: RuntimeWarning: invalid value encountered in true_divide\n",
      "  corr /= X_norms\n",
      "C:\\Users\\jraks\\anaconda3\\lib\\site-packages\\sklearn\\feature_selection\\_univariate_selection.py:301: RuntimeWarning: invalid value encountered in true_divide\n",
      "  corr /= X_norms\n",
      "C:\\Users\\jraks\\anaconda3\\lib\\site-packages\\sklearn\\feature_selection\\_univariate_selection.py:301: RuntimeWarning: invalid value encountered in true_divide\n",
      "  corr /= X_norms\n",
      "C:\\Users\\jraks\\anaconda3\\lib\\site-packages\\sklearn\\feature_selection\\_univariate_selection.py:301: RuntimeWarning: invalid value encountered in true_divide\n",
      "  corr /= X_norms\n",
      "C:\\Users\\jraks\\anaconda3\\lib\\site-packages\\sklearn\\feature_selection\\_univariate_selection.py:301: RuntimeWarning: invalid value encountered in true_divide\n",
      "  corr /= X_norms\n",
      "C:\\Users\\jraks\\anaconda3\\lib\\site-packages\\sklearn\\feature_selection\\_univariate_selection.py:301: RuntimeWarning: invalid value encountered in true_divide\n",
      "  corr /= X_norms\n",
      "C:\\Users\\jraks\\anaconda3\\lib\\site-packages\\sklearn\\feature_selection\\_univariate_selection.py:301: RuntimeWarning: invalid value encountered in true_divide\n",
      "  corr /= X_norms\n",
      "C:\\Users\\jraks\\anaconda3\\lib\\site-packages\\sklearn\\feature_selection\\_univariate_selection.py:301: RuntimeWarning: invalid value encountered in true_divide\n",
      "  corr /= X_norms\n",
      "C:\\Users\\jraks\\anaconda3\\lib\\site-packages\\sklearn\\feature_selection\\_univariate_selection.py:301: RuntimeWarning: invalid value encountered in true_divide\n",
      "  corr /= X_norms\n",
      "C:\\Users\\jraks\\anaconda3\\lib\\site-packages\\sklearn\\feature_selection\\_univariate_selection.py:301: RuntimeWarning: invalid value encountered in true_divide\n",
      "  corr /= X_norms\n",
      "C:\\Users\\jraks\\anaconda3\\lib\\site-packages\\sklearn\\feature_selection\\_univariate_selection.py:301: RuntimeWarning: invalid value encountered in true_divide\n",
      "  corr /= X_norms\n",
      "C:\\Users\\jraks\\anaconda3\\lib\\site-packages\\sklearn\\feature_selection\\_univariate_selection.py:301: RuntimeWarning: invalid value encountered in true_divide\n",
      "  corr /= X_norms\n",
      "C:\\Users\\jraks\\anaconda3\\lib\\site-packages\\sklearn\\feature_selection\\_univariate_selection.py:301: RuntimeWarning: invalid value encountered in true_divide\n",
      "  corr /= X_norms\n",
      "C:\\Users\\jraks\\anaconda3\\lib\\site-packages\\sklearn\\feature_selection\\_univariate_selection.py:301: RuntimeWarning: invalid value encountered in true_divide\n",
      "  corr /= X_norms\n",
      "C:\\Users\\jraks\\anaconda3\\lib\\site-packages\\sklearn\\feature_selection\\_univariate_selection.py:301: RuntimeWarning: invalid value encountered in true_divide\n",
      "  corr /= X_norms\n",
      "C:\\Users\\jraks\\anaconda3\\lib\\site-packages\\sklearn\\feature_selection\\_univariate_selection.py:301: RuntimeWarning: invalid value encountered in true_divide\n",
      "  corr /= X_norms\n",
      "C:\\Users\\jraks\\anaconda3\\lib\\site-packages\\sklearn\\feature_selection\\_univariate_selection.py:301: RuntimeWarning: invalid value encountered in true_divide\n",
      "  corr /= X_norms\n",
      "C:\\Users\\jraks\\anaconda3\\lib\\site-packages\\sklearn\\feature_selection\\_univariate_selection.py:301: RuntimeWarning: invalid value encountered in true_divide\n",
      "  corr /= X_norms\n",
      "C:\\Users\\jraks\\anaconda3\\lib\\site-packages\\sklearn\\feature_selection\\_univariate_selection.py:301: RuntimeWarning: invalid value encountered in true_divide\n",
      "  corr /= X_norms\n",
      "C:\\Users\\jraks\\anaconda3\\lib\\site-packages\\sklearn\\feature_selection\\_univariate_selection.py:301: RuntimeWarning: invalid value encountered in true_divide\n",
      "  corr /= X_norms\n",
      "C:\\Users\\jraks\\anaconda3\\lib\\site-packages\\sklearn\\feature_selection\\_univariate_selection.py:301: RuntimeWarning: invalid value encountered in true_divide\n",
      "  corr /= X_norms\n",
      "C:\\Users\\jraks\\anaconda3\\lib\\site-packages\\sklearn\\feature_selection\\_univariate_selection.py:301: RuntimeWarning: invalid value encountered in true_divide\n",
      "  corr /= X_norms\n",
      "C:\\Users\\jraks\\anaconda3\\lib\\site-packages\\sklearn\\feature_selection\\_univariate_selection.py:301: RuntimeWarning: invalid value encountered in true_divide\n",
      "  corr /= X_norms\n",
      "C:\\Users\\jraks\\anaconda3\\lib\\site-packages\\sklearn\\feature_selection\\_univariate_selection.py:301: RuntimeWarning: invalid value encountered in true_divide\n",
      "  corr /= X_norms\n",
      "C:\\Users\\jraks\\anaconda3\\lib\\site-packages\\sklearn\\feature_selection\\_univariate_selection.py:301: RuntimeWarning: invalid value encountered in true_divide\n",
      "  corr /= X_norms\n",
      "C:\\Users\\jraks\\anaconda3\\lib\\site-packages\\sklearn\\feature_selection\\_univariate_selection.py:301: RuntimeWarning: invalid value encountered in true_divide\n",
      "  corr /= X_norms\n",
      "C:\\Users\\jraks\\anaconda3\\lib\\site-packages\\sklearn\\feature_selection\\_univariate_selection.py:301: RuntimeWarning: invalid value encountered in true_divide\n",
      "  corr /= X_norms\n",
      "C:\\Users\\jraks\\anaconda3\\lib\\site-packages\\sklearn\\feature_selection\\_univariate_selection.py:301: RuntimeWarning: invalid value encountered in true_divide\n",
      "  corr /= X_norms\n",
      "C:\\Users\\jraks\\anaconda3\\lib\\site-packages\\sklearn\\feature_selection\\_univariate_selection.py:301: RuntimeWarning: invalid value encountered in true_divide\n",
      "  corr /= X_norms\n",
      "C:\\Users\\jraks\\anaconda3\\lib\\site-packages\\sklearn\\feature_selection\\_univariate_selection.py:301: RuntimeWarning: invalid value encountered in true_divide\n",
      "  corr /= X_norms\n",
      "C:\\Users\\jraks\\anaconda3\\lib\\site-packages\\sklearn\\feature_selection\\_univariate_selection.py:301: RuntimeWarning: invalid value encountered in true_divide\n",
      "  corr /= X_norms\n",
      "C:\\Users\\jraks\\anaconda3\\lib\\site-packages\\sklearn\\feature_selection\\_univariate_selection.py:301: RuntimeWarning: invalid value encountered in true_divide\n",
      "  corr /= X_norms\n",
      "C:\\Users\\jraks\\anaconda3\\lib\\site-packages\\sklearn\\feature_selection\\_univariate_selection.py:301: RuntimeWarning: invalid value encountered in true_divide\n",
      "  corr /= X_norms\n",
      "C:\\Users\\jraks\\anaconda3\\lib\\site-packages\\sklearn\\feature_selection\\_univariate_selection.py:301: RuntimeWarning: invalid value encountered in true_divide\n",
      "  corr /= X_norms\n",
      "C:\\Users\\jraks\\anaconda3\\lib\\site-packages\\sklearn\\feature_selection\\_univariate_selection.py:301: RuntimeWarning: invalid value encountered in true_divide\n",
      "  corr /= X_norms\n",
      "C:\\Users\\jraks\\anaconda3\\lib\\site-packages\\sklearn\\feature_selection\\_univariate_selection.py:301: RuntimeWarning: invalid value encountered in true_divide\n",
      "  corr /= X_norms\n"
     ]
    },
    {
     "name": "stderr",
     "output_type": "stream",
     "text": [
      "C:\\Users\\jraks\\anaconda3\\lib\\site-packages\\sklearn\\feature_selection\\_univariate_selection.py:301: RuntimeWarning: invalid value encountered in true_divide\n",
      "  corr /= X_norms\n",
      "C:\\Users\\jraks\\anaconda3\\lib\\site-packages\\sklearn\\feature_selection\\_univariate_selection.py:301: RuntimeWarning: invalid value encountered in true_divide\n",
      "  corr /= X_norms\n",
      "C:\\Users\\jraks\\anaconda3\\lib\\site-packages\\sklearn\\feature_selection\\_univariate_selection.py:301: RuntimeWarning: invalid value encountered in true_divide\n",
      "  corr /= X_norms\n",
      "C:\\Users\\jraks\\anaconda3\\lib\\site-packages\\sklearn\\feature_selection\\_univariate_selection.py:301: RuntimeWarning: invalid value encountered in true_divide\n",
      "  corr /= X_norms\n",
      "C:\\Users\\jraks\\anaconda3\\lib\\site-packages\\sklearn\\feature_selection\\_univariate_selection.py:301: RuntimeWarning: invalid value encountered in true_divide\n",
      "  corr /= X_norms\n",
      "C:\\Users\\jraks\\anaconda3\\lib\\site-packages\\sklearn\\feature_selection\\_univariate_selection.py:301: RuntimeWarning: invalid value encountered in true_divide\n",
      "  corr /= X_norms\n",
      "C:\\Users\\jraks\\anaconda3\\lib\\site-packages\\sklearn\\feature_selection\\_univariate_selection.py:301: RuntimeWarning: invalid value encountered in true_divide\n",
      "  corr /= X_norms\n",
      "C:\\Users\\jraks\\anaconda3\\lib\\site-packages\\sklearn\\feature_selection\\_univariate_selection.py:301: RuntimeWarning: invalid value encountered in true_divide\n",
      "  corr /= X_norms\n",
      "C:\\Users\\jraks\\anaconda3\\lib\\site-packages\\sklearn\\feature_selection\\_univariate_selection.py:301: RuntimeWarning: invalid value encountered in true_divide\n",
      "  corr /= X_norms\n",
      "C:\\Users\\jraks\\anaconda3\\lib\\site-packages\\sklearn\\feature_selection\\_univariate_selection.py:301: RuntimeWarning: invalid value encountered in true_divide\n",
      "  corr /= X_norms\n",
      "C:\\Users\\jraks\\anaconda3\\lib\\site-packages\\sklearn\\feature_selection\\_univariate_selection.py:301: RuntimeWarning: invalid value encountered in true_divide\n",
      "  corr /= X_norms\n",
      "C:\\Users\\jraks\\anaconda3\\lib\\site-packages\\sklearn\\feature_selection\\_univariate_selection.py:301: RuntimeWarning: invalid value encountered in true_divide\n",
      "  corr /= X_norms\n",
      "C:\\Users\\jraks\\anaconda3\\lib\\site-packages\\sklearn\\feature_selection\\_univariate_selection.py:301: RuntimeWarning: invalid value encountered in true_divide\n",
      "  corr /= X_norms\n",
      "C:\\Users\\jraks\\anaconda3\\lib\\site-packages\\sklearn\\feature_selection\\_univariate_selection.py:301: RuntimeWarning: invalid value encountered in true_divide\n",
      "  corr /= X_norms\n",
      "C:\\Users\\jraks\\anaconda3\\lib\\site-packages\\sklearn\\feature_selection\\_univariate_selection.py:301: RuntimeWarning: invalid value encountered in true_divide\n",
      "  corr /= X_norms\n",
      "C:\\Users\\jraks\\anaconda3\\lib\\site-packages\\sklearn\\feature_selection\\_univariate_selection.py:301: RuntimeWarning: invalid value encountered in true_divide\n",
      "  corr /= X_norms\n",
      "C:\\Users\\jraks\\anaconda3\\lib\\site-packages\\sklearn\\feature_selection\\_univariate_selection.py:301: RuntimeWarning: invalid value encountered in true_divide\n",
      "  corr /= X_norms\n",
      "C:\\Users\\jraks\\anaconda3\\lib\\site-packages\\sklearn\\feature_selection\\_univariate_selection.py:301: RuntimeWarning: invalid value encountered in true_divide\n",
      "  corr /= X_norms\n",
      "C:\\Users\\jraks\\anaconda3\\lib\\site-packages\\sklearn\\feature_selection\\_univariate_selection.py:301: RuntimeWarning: invalid value encountered in true_divide\n",
      "  corr /= X_norms\n",
      "C:\\Users\\jraks\\anaconda3\\lib\\site-packages\\sklearn\\feature_selection\\_univariate_selection.py:301: RuntimeWarning: invalid value encountered in true_divide\n",
      "  corr /= X_norms\n",
      "C:\\Users\\jraks\\anaconda3\\lib\\site-packages\\sklearn\\feature_selection\\_univariate_selection.py:301: RuntimeWarning: invalid value encountered in true_divide\n",
      "  corr /= X_norms\n",
      "C:\\Users\\jraks\\anaconda3\\lib\\site-packages\\sklearn\\feature_selection\\_univariate_selection.py:301: RuntimeWarning: invalid value encountered in true_divide\n",
      "  corr /= X_norms\n",
      "C:\\Users\\jraks\\anaconda3\\lib\\site-packages\\sklearn\\feature_selection\\_univariate_selection.py:301: RuntimeWarning: invalid value encountered in true_divide\n",
      "  corr /= X_norms\n",
      "C:\\Users\\jraks\\anaconda3\\lib\\site-packages\\sklearn\\feature_selection\\_univariate_selection.py:301: RuntimeWarning: invalid value encountered in true_divide\n",
      "  corr /= X_norms\n",
      "C:\\Users\\jraks\\anaconda3\\lib\\site-packages\\sklearn\\feature_selection\\_univariate_selection.py:301: RuntimeWarning: invalid value encountered in true_divide\n",
      "  corr /= X_norms\n",
      "C:\\Users\\jraks\\anaconda3\\lib\\site-packages\\sklearn\\feature_selection\\_univariate_selection.py:301: RuntimeWarning: invalid value encountered in true_divide\n",
      "  corr /= X_norms\n",
      "C:\\Users\\jraks\\anaconda3\\lib\\site-packages\\sklearn\\feature_selection\\_univariate_selection.py:301: RuntimeWarning: invalid value encountered in true_divide\n",
      "  corr /= X_norms\n",
      "C:\\Users\\jraks\\anaconda3\\lib\\site-packages\\sklearn\\feature_selection\\_univariate_selection.py:301: RuntimeWarning: invalid value encountered in true_divide\n",
      "  corr /= X_norms\n",
      "C:\\Users\\jraks\\anaconda3\\lib\\site-packages\\sklearn\\feature_selection\\_univariate_selection.py:301: RuntimeWarning: invalid value encountered in true_divide\n",
      "  corr /= X_norms\n",
      "C:\\Users\\jraks\\anaconda3\\lib\\site-packages\\sklearn\\feature_selection\\_univariate_selection.py:301: RuntimeWarning: invalid value encountered in true_divide\n",
      "  corr /= X_norms\n",
      "C:\\Users\\jraks\\anaconda3\\lib\\site-packages\\sklearn\\feature_selection\\_univariate_selection.py:301: RuntimeWarning: invalid value encountered in true_divide\n",
      "  corr /= X_norms\n",
      "C:\\Users\\jraks\\anaconda3\\lib\\site-packages\\sklearn\\feature_selection\\_univariate_selection.py:301: RuntimeWarning: invalid value encountered in true_divide\n",
      "  corr /= X_norms\n",
      "C:\\Users\\jraks\\anaconda3\\lib\\site-packages\\sklearn\\feature_selection\\_univariate_selection.py:301: RuntimeWarning: invalid value encountered in true_divide\n",
      "  corr /= X_norms\n",
      "C:\\Users\\jraks\\anaconda3\\lib\\site-packages\\sklearn\\feature_selection\\_univariate_selection.py:301: RuntimeWarning: invalid value encountered in true_divide\n",
      "  corr /= X_norms\n",
      "C:\\Users\\jraks\\anaconda3\\lib\\site-packages\\sklearn\\feature_selection\\_univariate_selection.py:301: RuntimeWarning: invalid value encountered in true_divide\n",
      "  corr /= X_norms\n",
      "C:\\Users\\jraks\\anaconda3\\lib\\site-packages\\sklearn\\feature_selection\\_univariate_selection.py:301: RuntimeWarning: invalid value encountered in true_divide\n",
      "  corr /= X_norms\n",
      "C:\\Users\\jraks\\anaconda3\\lib\\site-packages\\sklearn\\feature_selection\\_univariate_selection.py:301: RuntimeWarning: invalid value encountered in true_divide\n",
      "  corr /= X_norms\n",
      "C:\\Users\\jraks\\anaconda3\\lib\\site-packages\\sklearn\\feature_selection\\_univariate_selection.py:301: RuntimeWarning: invalid value encountered in true_divide\n",
      "  corr /= X_norms\n",
      "C:\\Users\\jraks\\anaconda3\\lib\\site-packages\\sklearn\\feature_selection\\_univariate_selection.py:301: RuntimeWarning: invalid value encountered in true_divide\n",
      "  corr /= X_norms\n",
      "C:\\Users\\jraks\\anaconda3\\lib\\site-packages\\sklearn\\feature_selection\\_univariate_selection.py:301: RuntimeWarning: invalid value encountered in true_divide\n",
      "  corr /= X_norms\n",
      "C:\\Users\\jraks\\anaconda3\\lib\\site-packages\\sklearn\\feature_selection\\_univariate_selection.py:301: RuntimeWarning: invalid value encountered in true_divide\n",
      "  corr /= X_norms\n",
      "C:\\Users\\jraks\\anaconda3\\lib\\site-packages\\sklearn\\feature_selection\\_univariate_selection.py:301: RuntimeWarning: invalid value encountered in true_divide\n",
      "  corr /= X_norms\n",
      "C:\\Users\\jraks\\anaconda3\\lib\\site-packages\\sklearn\\feature_selection\\_univariate_selection.py:301: RuntimeWarning: invalid value encountered in true_divide\n",
      "  corr /= X_norms\n",
      "C:\\Users\\jraks\\anaconda3\\lib\\site-packages\\sklearn\\feature_selection\\_univariate_selection.py:301: RuntimeWarning: invalid value encountered in true_divide\n",
      "  corr /= X_norms\n",
      "C:\\Users\\jraks\\anaconda3\\lib\\site-packages\\sklearn\\feature_selection\\_univariate_selection.py:301: RuntimeWarning: invalid value encountered in true_divide\n",
      "  corr /= X_norms\n",
      "C:\\Users\\jraks\\anaconda3\\lib\\site-packages\\sklearn\\feature_selection\\_univariate_selection.py:301: RuntimeWarning: invalid value encountered in true_divide\n",
      "  corr /= X_norms\n",
      "C:\\Users\\jraks\\anaconda3\\lib\\site-packages\\sklearn\\feature_selection\\_univariate_selection.py:301: RuntimeWarning: invalid value encountered in true_divide\n",
      "  corr /= X_norms\n",
      "C:\\Users\\jraks\\anaconda3\\lib\\site-packages\\sklearn\\feature_selection\\_univariate_selection.py:301: RuntimeWarning: invalid value encountered in true_divide\n",
      "  corr /= X_norms\n",
      "C:\\Users\\jraks\\anaconda3\\lib\\site-packages\\sklearn\\feature_selection\\_univariate_selection.py:301: RuntimeWarning: invalid value encountered in true_divide\n",
      "  corr /= X_norms\n",
      "C:\\Users\\jraks\\anaconda3\\lib\\site-packages\\sklearn\\feature_selection\\_univariate_selection.py:301: RuntimeWarning: invalid value encountered in true_divide\n",
      "  corr /= X_norms\n",
      "C:\\Users\\jraks\\anaconda3\\lib\\site-packages\\sklearn\\feature_selection\\_univariate_selection.py:301: RuntimeWarning: invalid value encountered in true_divide\n",
      "  corr /= X_norms\n",
      "C:\\Users\\jraks\\anaconda3\\lib\\site-packages\\sklearn\\feature_selection\\_univariate_selection.py:301: RuntimeWarning: invalid value encountered in true_divide\n",
      "  corr /= X_norms\n",
      "C:\\Users\\jraks\\anaconda3\\lib\\site-packages\\sklearn\\feature_selection\\_univariate_selection.py:301: RuntimeWarning: invalid value encountered in true_divide\n",
      "  corr /= X_norms\n",
      "C:\\Users\\jraks\\anaconda3\\lib\\site-packages\\sklearn\\feature_selection\\_univariate_selection.py:301: RuntimeWarning: invalid value encountered in true_divide\n",
      "  corr /= X_norms\n",
      "C:\\Users\\jraks\\anaconda3\\lib\\site-packages\\sklearn\\feature_selection\\_univariate_selection.py:301: RuntimeWarning: invalid value encountered in true_divide\n",
      "  corr /= X_norms\n",
      "C:\\Users\\jraks\\anaconda3\\lib\\site-packages\\sklearn\\feature_selection\\_univariate_selection.py:301: RuntimeWarning: invalid value encountered in true_divide\n",
      "  corr /= X_norms\n"
     ]
    },
    {
     "name": "stderr",
     "output_type": "stream",
     "text": [
      "C:\\Users\\jraks\\anaconda3\\lib\\site-packages\\sklearn\\feature_selection\\_univariate_selection.py:301: RuntimeWarning: invalid value encountered in true_divide\n",
      "  corr /= X_norms\n",
      "C:\\Users\\jraks\\anaconda3\\lib\\site-packages\\sklearn\\feature_selection\\_univariate_selection.py:301: RuntimeWarning: invalid value encountered in true_divide\n",
      "  corr /= X_norms\n",
      "C:\\Users\\jraks\\anaconda3\\lib\\site-packages\\sklearn\\feature_selection\\_univariate_selection.py:301: RuntimeWarning: invalid value encountered in true_divide\n",
      "  corr /= X_norms\n",
      "C:\\Users\\jraks\\anaconda3\\lib\\site-packages\\sklearn\\feature_selection\\_univariate_selection.py:301: RuntimeWarning: invalid value encountered in true_divide\n",
      "  corr /= X_norms\n",
      "C:\\Users\\jraks\\anaconda3\\lib\\site-packages\\sklearn\\feature_selection\\_univariate_selection.py:301: RuntimeWarning: invalid value encountered in true_divide\n",
      "  corr /= X_norms\n",
      "C:\\Users\\jraks\\anaconda3\\lib\\site-packages\\sklearn\\feature_selection\\_univariate_selection.py:301: RuntimeWarning: invalid value encountered in true_divide\n",
      "  corr /= X_norms\n",
      "C:\\Users\\jraks\\anaconda3\\lib\\site-packages\\sklearn\\feature_selection\\_univariate_selection.py:301: RuntimeWarning: invalid value encountered in true_divide\n",
      "  corr /= X_norms\n",
      "C:\\Users\\jraks\\anaconda3\\lib\\site-packages\\sklearn\\feature_selection\\_univariate_selection.py:301: RuntimeWarning: invalid value encountered in true_divide\n",
      "  corr /= X_norms\n",
      "C:\\Users\\jraks\\anaconda3\\lib\\site-packages\\sklearn\\feature_selection\\_univariate_selection.py:301: RuntimeWarning: invalid value encountered in true_divide\n",
      "  corr /= X_norms\n",
      "C:\\Users\\jraks\\anaconda3\\lib\\site-packages\\sklearn\\feature_selection\\_univariate_selection.py:301: RuntimeWarning: invalid value encountered in true_divide\n",
      "  corr /= X_norms\n",
      "C:\\Users\\jraks\\anaconda3\\lib\\site-packages\\sklearn\\feature_selection\\_univariate_selection.py:301: RuntimeWarning: invalid value encountered in true_divide\n",
      "  corr /= X_norms\n",
      "C:\\Users\\jraks\\anaconda3\\lib\\site-packages\\sklearn\\feature_selection\\_univariate_selection.py:301: RuntimeWarning: invalid value encountered in true_divide\n",
      "  corr /= X_norms\n",
      "C:\\Users\\jraks\\anaconda3\\lib\\site-packages\\sklearn\\feature_selection\\_univariate_selection.py:301: RuntimeWarning: invalid value encountered in true_divide\n",
      "  corr /= X_norms\n",
      "C:\\Users\\jraks\\anaconda3\\lib\\site-packages\\sklearn\\feature_selection\\_univariate_selection.py:301: RuntimeWarning: invalid value encountered in true_divide\n",
      "  corr /= X_norms\n",
      "C:\\Users\\jraks\\anaconda3\\lib\\site-packages\\sklearn\\feature_selection\\_univariate_selection.py:301: RuntimeWarning: invalid value encountered in true_divide\n",
      "  corr /= X_norms\n",
      "C:\\Users\\jraks\\anaconda3\\lib\\site-packages\\sklearn\\feature_selection\\_univariate_selection.py:301: RuntimeWarning: invalid value encountered in true_divide\n",
      "  corr /= X_norms\n",
      "C:\\Users\\jraks\\anaconda3\\lib\\site-packages\\sklearn\\feature_selection\\_univariate_selection.py:301: RuntimeWarning: invalid value encountered in true_divide\n",
      "  corr /= X_norms\n",
      "C:\\Users\\jraks\\anaconda3\\lib\\site-packages\\sklearn\\feature_selection\\_univariate_selection.py:301: RuntimeWarning: invalid value encountered in true_divide\n",
      "  corr /= X_norms\n",
      "C:\\Users\\jraks\\anaconda3\\lib\\site-packages\\sklearn\\feature_selection\\_univariate_selection.py:301: RuntimeWarning: invalid value encountered in true_divide\n",
      "  corr /= X_norms\n",
      "C:\\Users\\jraks\\anaconda3\\lib\\site-packages\\sklearn\\feature_selection\\_univariate_selection.py:301: RuntimeWarning: invalid value encountered in true_divide\n",
      "  corr /= X_norms\n",
      "C:\\Users\\jraks\\anaconda3\\lib\\site-packages\\sklearn\\feature_selection\\_univariate_selection.py:301: RuntimeWarning: invalid value encountered in true_divide\n",
      "  corr /= X_norms\n",
      "C:\\Users\\jraks\\anaconda3\\lib\\site-packages\\sklearn\\feature_selection\\_univariate_selection.py:301: RuntimeWarning: invalid value encountered in true_divide\n",
      "  corr /= X_norms\n",
      "C:\\Users\\jraks\\anaconda3\\lib\\site-packages\\sklearn\\feature_selection\\_univariate_selection.py:301: RuntimeWarning: invalid value encountered in true_divide\n",
      "  corr /= X_norms\n",
      "C:\\Users\\jraks\\anaconda3\\lib\\site-packages\\sklearn\\feature_selection\\_univariate_selection.py:301: RuntimeWarning: invalid value encountered in true_divide\n",
      "  corr /= X_norms\n",
      "C:\\Users\\jraks\\anaconda3\\lib\\site-packages\\sklearn\\feature_selection\\_univariate_selection.py:301: RuntimeWarning: invalid value encountered in true_divide\n",
      "  corr /= X_norms\n",
      "C:\\Users\\jraks\\anaconda3\\lib\\site-packages\\sklearn\\feature_selection\\_univariate_selection.py:301: RuntimeWarning: invalid value encountered in true_divide\n",
      "  corr /= X_norms\n",
      "C:\\Users\\jraks\\anaconda3\\lib\\site-packages\\sklearn\\feature_selection\\_univariate_selection.py:301: RuntimeWarning: invalid value encountered in true_divide\n",
      "  corr /= X_norms\n",
      "C:\\Users\\jraks\\anaconda3\\lib\\site-packages\\sklearn\\feature_selection\\_univariate_selection.py:301: RuntimeWarning: invalid value encountered in true_divide\n",
      "  corr /= X_norms\n",
      "C:\\Users\\jraks\\anaconda3\\lib\\site-packages\\sklearn\\feature_selection\\_univariate_selection.py:301: RuntimeWarning: invalid value encountered in true_divide\n",
      "  corr /= X_norms\n",
      "C:\\Users\\jraks\\anaconda3\\lib\\site-packages\\sklearn\\feature_selection\\_univariate_selection.py:301: RuntimeWarning: invalid value encountered in true_divide\n",
      "  corr /= X_norms\n",
      "C:\\Users\\jraks\\anaconda3\\lib\\site-packages\\sklearn\\feature_selection\\_univariate_selection.py:301: RuntimeWarning: invalid value encountered in true_divide\n",
      "  corr /= X_norms\n",
      "C:\\Users\\jraks\\anaconda3\\lib\\site-packages\\sklearn\\feature_selection\\_univariate_selection.py:301: RuntimeWarning: invalid value encountered in true_divide\n",
      "  corr /= X_norms\n",
      "C:\\Users\\jraks\\anaconda3\\lib\\site-packages\\sklearn\\feature_selection\\_univariate_selection.py:301: RuntimeWarning: invalid value encountered in true_divide\n",
      "  corr /= X_norms\n",
      "C:\\Users\\jraks\\anaconda3\\lib\\site-packages\\sklearn\\feature_selection\\_univariate_selection.py:301: RuntimeWarning: invalid value encountered in true_divide\n",
      "  corr /= X_norms\n",
      "C:\\Users\\jraks\\anaconda3\\lib\\site-packages\\sklearn\\feature_selection\\_univariate_selection.py:301: RuntimeWarning: invalid value encountered in true_divide\n",
      "  corr /= X_norms\n",
      "C:\\Users\\jraks\\anaconda3\\lib\\site-packages\\sklearn\\feature_selection\\_univariate_selection.py:301: RuntimeWarning: invalid value encountered in true_divide\n",
      "  corr /= X_norms\n",
      "C:\\Users\\jraks\\anaconda3\\lib\\site-packages\\sklearn\\feature_selection\\_univariate_selection.py:301: RuntimeWarning: invalid value encountered in true_divide\n",
      "  corr /= X_norms\n",
      "C:\\Users\\jraks\\anaconda3\\lib\\site-packages\\sklearn\\feature_selection\\_univariate_selection.py:301: RuntimeWarning: invalid value encountered in true_divide\n",
      "  corr /= X_norms\n",
      "C:\\Users\\jraks\\anaconda3\\lib\\site-packages\\sklearn\\feature_selection\\_univariate_selection.py:301: RuntimeWarning: invalid value encountered in true_divide\n",
      "  corr /= X_norms\n",
      "C:\\Users\\jraks\\anaconda3\\lib\\site-packages\\sklearn\\feature_selection\\_univariate_selection.py:301: RuntimeWarning: invalid value encountered in true_divide\n",
      "  corr /= X_norms\n",
      "C:\\Users\\jraks\\anaconda3\\lib\\site-packages\\sklearn\\feature_selection\\_univariate_selection.py:301: RuntimeWarning: invalid value encountered in true_divide\n",
      "  corr /= X_norms\n",
      "C:\\Users\\jraks\\anaconda3\\lib\\site-packages\\sklearn\\feature_selection\\_univariate_selection.py:301: RuntimeWarning: invalid value encountered in true_divide\n",
      "  corr /= X_norms\n",
      "C:\\Users\\jraks\\anaconda3\\lib\\site-packages\\sklearn\\feature_selection\\_univariate_selection.py:301: RuntimeWarning: invalid value encountered in true_divide\n",
      "  corr /= X_norms\n",
      "C:\\Users\\jraks\\anaconda3\\lib\\site-packages\\sklearn\\feature_selection\\_univariate_selection.py:301: RuntimeWarning: invalid value encountered in true_divide\n",
      "  corr /= X_norms\n",
      "C:\\Users\\jraks\\anaconda3\\lib\\site-packages\\sklearn\\feature_selection\\_univariate_selection.py:301: RuntimeWarning: invalid value encountered in true_divide\n",
      "  corr /= X_norms\n",
      "C:\\Users\\jraks\\anaconda3\\lib\\site-packages\\sklearn\\feature_selection\\_univariate_selection.py:301: RuntimeWarning: invalid value encountered in true_divide\n",
      "  corr /= X_norms\n",
      "C:\\Users\\jraks\\anaconda3\\lib\\site-packages\\sklearn\\feature_selection\\_univariate_selection.py:301: RuntimeWarning: invalid value encountered in true_divide\n",
      "  corr /= X_norms\n",
      "C:\\Users\\jraks\\anaconda3\\lib\\site-packages\\sklearn\\feature_selection\\_univariate_selection.py:301: RuntimeWarning: invalid value encountered in true_divide\n",
      "  corr /= X_norms\n",
      "C:\\Users\\jraks\\anaconda3\\lib\\site-packages\\sklearn\\feature_selection\\_univariate_selection.py:301: RuntimeWarning: invalid value encountered in true_divide\n",
      "  corr /= X_norms\n",
      "C:\\Users\\jraks\\anaconda3\\lib\\site-packages\\sklearn\\feature_selection\\_univariate_selection.py:301: RuntimeWarning: invalid value encountered in true_divide\n",
      "  corr /= X_norms\n",
      "C:\\Users\\jraks\\anaconda3\\lib\\site-packages\\sklearn\\feature_selection\\_univariate_selection.py:301: RuntimeWarning: invalid value encountered in true_divide\n",
      "  corr /= X_norms\n",
      "C:\\Users\\jraks\\anaconda3\\lib\\site-packages\\sklearn\\feature_selection\\_univariate_selection.py:301: RuntimeWarning: invalid value encountered in true_divide\n",
      "  corr /= X_norms\n",
      "C:\\Users\\jraks\\anaconda3\\lib\\site-packages\\sklearn\\feature_selection\\_univariate_selection.py:301: RuntimeWarning: invalid value encountered in true_divide\n",
      "  corr /= X_norms\n",
      "C:\\Users\\jraks\\anaconda3\\lib\\site-packages\\sklearn\\feature_selection\\_univariate_selection.py:301: RuntimeWarning: invalid value encountered in true_divide\n",
      "  corr /= X_norms\n",
      "C:\\Users\\jraks\\anaconda3\\lib\\site-packages\\sklearn\\feature_selection\\_univariate_selection.py:301: RuntimeWarning: invalid value encountered in true_divide\n",
      "  corr /= X_norms\n",
      "C:\\Users\\jraks\\anaconda3\\lib\\site-packages\\sklearn\\feature_selection\\_univariate_selection.py:301: RuntimeWarning: invalid value encountered in true_divide\n",
      "  corr /= X_norms\n",
      "C:\\Users\\jraks\\anaconda3\\lib\\site-packages\\sklearn\\feature_selection\\_univariate_selection.py:301: RuntimeWarning: invalid value encountered in true_divide\n",
      "  corr /= X_norms\n"
     ]
    },
    {
     "name": "stderr",
     "output_type": "stream",
     "text": [
      "C:\\Users\\jraks\\anaconda3\\lib\\site-packages\\sklearn\\feature_selection\\_univariate_selection.py:301: RuntimeWarning: invalid value encountered in true_divide\n",
      "  corr /= X_norms\n",
      "C:\\Users\\jraks\\anaconda3\\lib\\site-packages\\sklearn\\feature_selection\\_univariate_selection.py:301: RuntimeWarning: invalid value encountered in true_divide\n",
      "  corr /= X_norms\n",
      "C:\\Users\\jraks\\anaconda3\\lib\\site-packages\\sklearn\\feature_selection\\_univariate_selection.py:301: RuntimeWarning: invalid value encountered in true_divide\n",
      "  corr /= X_norms\n",
      "C:\\Users\\jraks\\anaconda3\\lib\\site-packages\\sklearn\\feature_selection\\_univariate_selection.py:301: RuntimeWarning: invalid value encountered in true_divide\n",
      "  corr /= X_norms\n",
      "C:\\Users\\jraks\\anaconda3\\lib\\site-packages\\sklearn\\feature_selection\\_univariate_selection.py:301: RuntimeWarning: invalid value encountered in true_divide\n",
      "  corr /= X_norms\n",
      "C:\\Users\\jraks\\anaconda3\\lib\\site-packages\\sklearn\\feature_selection\\_univariate_selection.py:301: RuntimeWarning: invalid value encountered in true_divide\n",
      "  corr /= X_norms\n",
      "C:\\Users\\jraks\\anaconda3\\lib\\site-packages\\sklearn\\feature_selection\\_univariate_selection.py:301: RuntimeWarning: invalid value encountered in true_divide\n",
      "  corr /= X_norms\n",
      "C:\\Users\\jraks\\anaconda3\\lib\\site-packages\\sklearn\\feature_selection\\_univariate_selection.py:301: RuntimeWarning: invalid value encountered in true_divide\n",
      "  corr /= X_norms\n",
      "C:\\Users\\jraks\\anaconda3\\lib\\site-packages\\sklearn\\feature_selection\\_univariate_selection.py:301: RuntimeWarning: invalid value encountered in true_divide\n",
      "  corr /= X_norms\n",
      "C:\\Users\\jraks\\anaconda3\\lib\\site-packages\\sklearn\\feature_selection\\_univariate_selection.py:301: RuntimeWarning: invalid value encountered in true_divide\n",
      "  corr /= X_norms\n",
      "C:\\Users\\jraks\\anaconda3\\lib\\site-packages\\sklearn\\feature_selection\\_univariate_selection.py:301: RuntimeWarning: invalid value encountered in true_divide\n",
      "  corr /= X_norms\n",
      "C:\\Users\\jraks\\anaconda3\\lib\\site-packages\\sklearn\\feature_selection\\_univariate_selection.py:301: RuntimeWarning: invalid value encountered in true_divide\n",
      "  corr /= X_norms\n",
      "C:\\Users\\jraks\\anaconda3\\lib\\site-packages\\sklearn\\feature_selection\\_univariate_selection.py:301: RuntimeWarning: invalid value encountered in true_divide\n",
      "  corr /= X_norms\n",
      "C:\\Users\\jraks\\anaconda3\\lib\\site-packages\\sklearn\\feature_selection\\_univariate_selection.py:301: RuntimeWarning: invalid value encountered in true_divide\n",
      "  corr /= X_norms\n",
      "C:\\Users\\jraks\\anaconda3\\lib\\site-packages\\sklearn\\feature_selection\\_univariate_selection.py:301: RuntimeWarning: invalid value encountered in true_divide\n",
      "  corr /= X_norms\n",
      "C:\\Users\\jraks\\anaconda3\\lib\\site-packages\\sklearn\\feature_selection\\_univariate_selection.py:301: RuntimeWarning: invalid value encountered in true_divide\n",
      "  corr /= X_norms\n",
      "C:\\Users\\jraks\\anaconda3\\lib\\site-packages\\sklearn\\feature_selection\\_univariate_selection.py:301: RuntimeWarning: invalid value encountered in true_divide\n",
      "  corr /= X_norms\n",
      "C:\\Users\\jraks\\anaconda3\\lib\\site-packages\\sklearn\\feature_selection\\_univariate_selection.py:301: RuntimeWarning: invalid value encountered in true_divide\n",
      "  corr /= X_norms\n",
      "C:\\Users\\jraks\\anaconda3\\lib\\site-packages\\sklearn\\feature_selection\\_univariate_selection.py:301: RuntimeWarning: invalid value encountered in true_divide\n",
      "  corr /= X_norms\n",
      "C:\\Users\\jraks\\anaconda3\\lib\\site-packages\\sklearn\\feature_selection\\_univariate_selection.py:301: RuntimeWarning: invalid value encountered in true_divide\n",
      "  corr /= X_norms\n",
      "C:\\Users\\jraks\\anaconda3\\lib\\site-packages\\sklearn\\feature_selection\\_univariate_selection.py:301: RuntimeWarning: invalid value encountered in true_divide\n",
      "  corr /= X_norms\n",
      "C:\\Users\\jraks\\anaconda3\\lib\\site-packages\\sklearn\\feature_selection\\_univariate_selection.py:301: RuntimeWarning: invalid value encountered in true_divide\n",
      "  corr /= X_norms\n",
      "C:\\Users\\jraks\\anaconda3\\lib\\site-packages\\sklearn\\feature_selection\\_univariate_selection.py:301: RuntimeWarning: invalid value encountered in true_divide\n",
      "  corr /= X_norms\n",
      "C:\\Users\\jraks\\anaconda3\\lib\\site-packages\\sklearn\\feature_selection\\_univariate_selection.py:301: RuntimeWarning: invalid value encountered in true_divide\n",
      "  corr /= X_norms\n",
      "C:\\Users\\jraks\\anaconda3\\lib\\site-packages\\sklearn\\feature_selection\\_univariate_selection.py:301: RuntimeWarning: invalid value encountered in true_divide\n",
      "  corr /= X_norms\n",
      "C:\\Users\\jraks\\anaconda3\\lib\\site-packages\\sklearn\\feature_selection\\_univariate_selection.py:301: RuntimeWarning: invalid value encountered in true_divide\n",
      "  corr /= X_norms\n",
      "C:\\Users\\jraks\\anaconda3\\lib\\site-packages\\sklearn\\feature_selection\\_univariate_selection.py:301: RuntimeWarning: invalid value encountered in true_divide\n",
      "  corr /= X_norms\n",
      "C:\\Users\\jraks\\anaconda3\\lib\\site-packages\\sklearn\\feature_selection\\_univariate_selection.py:301: RuntimeWarning: invalid value encountered in true_divide\n",
      "  corr /= X_norms\n",
      "C:\\Users\\jraks\\anaconda3\\lib\\site-packages\\sklearn\\feature_selection\\_univariate_selection.py:301: RuntimeWarning: invalid value encountered in true_divide\n",
      "  corr /= X_norms\n",
      "C:\\Users\\jraks\\anaconda3\\lib\\site-packages\\sklearn\\feature_selection\\_univariate_selection.py:301: RuntimeWarning: invalid value encountered in true_divide\n",
      "  corr /= X_norms\n",
      "C:\\Users\\jraks\\anaconda3\\lib\\site-packages\\sklearn\\feature_selection\\_univariate_selection.py:301: RuntimeWarning: invalid value encountered in true_divide\n",
      "  corr /= X_norms\n",
      "C:\\Users\\jraks\\anaconda3\\lib\\site-packages\\sklearn\\feature_selection\\_univariate_selection.py:301: RuntimeWarning: invalid value encountered in true_divide\n",
      "  corr /= X_norms\n",
      "C:\\Users\\jraks\\anaconda3\\lib\\site-packages\\sklearn\\feature_selection\\_univariate_selection.py:301: RuntimeWarning: invalid value encountered in true_divide\n",
      "  corr /= X_norms\n",
      "C:\\Users\\jraks\\anaconda3\\lib\\site-packages\\sklearn\\feature_selection\\_univariate_selection.py:301: RuntimeWarning: invalid value encountered in true_divide\n",
      "  corr /= X_norms\n",
      "C:\\Users\\jraks\\anaconda3\\lib\\site-packages\\sklearn\\feature_selection\\_univariate_selection.py:301: RuntimeWarning: invalid value encountered in true_divide\n",
      "  corr /= X_norms\n",
      "C:\\Users\\jraks\\anaconda3\\lib\\site-packages\\sklearn\\feature_selection\\_univariate_selection.py:301: RuntimeWarning: invalid value encountered in true_divide\n",
      "  corr /= X_norms\n",
      "C:\\Users\\jraks\\anaconda3\\lib\\site-packages\\sklearn\\feature_selection\\_univariate_selection.py:301: RuntimeWarning: invalid value encountered in true_divide\n",
      "  corr /= X_norms\n",
      "C:\\Users\\jraks\\anaconda3\\lib\\site-packages\\sklearn\\feature_selection\\_univariate_selection.py:301: RuntimeWarning: invalid value encountered in true_divide\n",
      "  corr /= X_norms\n",
      "C:\\Users\\jraks\\anaconda3\\lib\\site-packages\\sklearn\\feature_selection\\_univariate_selection.py:301: RuntimeWarning: invalid value encountered in true_divide\n",
      "  corr /= X_norms\n",
      "C:\\Users\\jraks\\anaconda3\\lib\\site-packages\\sklearn\\feature_selection\\_univariate_selection.py:301: RuntimeWarning: invalid value encountered in true_divide\n",
      "  corr /= X_norms\n",
      "C:\\Users\\jraks\\anaconda3\\lib\\site-packages\\sklearn\\feature_selection\\_univariate_selection.py:301: RuntimeWarning: invalid value encountered in true_divide\n",
      "  corr /= X_norms\n",
      "C:\\Users\\jraks\\anaconda3\\lib\\site-packages\\sklearn\\feature_selection\\_univariate_selection.py:301: RuntimeWarning: invalid value encountered in true_divide\n",
      "  corr /= X_norms\n",
      "C:\\Users\\jraks\\anaconda3\\lib\\site-packages\\sklearn\\feature_selection\\_univariate_selection.py:301: RuntimeWarning: invalid value encountered in true_divide\n",
      "  corr /= X_norms\n",
      "C:\\Users\\jraks\\anaconda3\\lib\\site-packages\\sklearn\\feature_selection\\_univariate_selection.py:301: RuntimeWarning: invalid value encountered in true_divide\n",
      "  corr /= X_norms\n",
      "C:\\Users\\jraks\\anaconda3\\lib\\site-packages\\sklearn\\feature_selection\\_univariate_selection.py:301: RuntimeWarning: invalid value encountered in true_divide\n",
      "  corr /= X_norms\n",
      "C:\\Users\\jraks\\anaconda3\\lib\\site-packages\\sklearn\\feature_selection\\_univariate_selection.py:301: RuntimeWarning: invalid value encountered in true_divide\n",
      "  corr /= X_norms\n",
      "C:\\Users\\jraks\\anaconda3\\lib\\site-packages\\sklearn\\feature_selection\\_univariate_selection.py:301: RuntimeWarning: invalid value encountered in true_divide\n",
      "  corr /= X_norms\n",
      "C:\\Users\\jraks\\anaconda3\\lib\\site-packages\\sklearn\\feature_selection\\_univariate_selection.py:301: RuntimeWarning: invalid value encountered in true_divide\n",
      "  corr /= X_norms\n",
      "C:\\Users\\jraks\\anaconda3\\lib\\site-packages\\sklearn\\feature_selection\\_univariate_selection.py:301: RuntimeWarning: invalid value encountered in true_divide\n",
      "  corr /= X_norms\n",
      "C:\\Users\\jraks\\anaconda3\\lib\\site-packages\\sklearn\\feature_selection\\_univariate_selection.py:301: RuntimeWarning: invalid value encountered in true_divide\n",
      "  corr /= X_norms\n",
      "C:\\Users\\jraks\\anaconda3\\lib\\site-packages\\sklearn\\feature_selection\\_univariate_selection.py:301: RuntimeWarning: invalid value encountered in true_divide\n",
      "  corr /= X_norms\n",
      "C:\\Users\\jraks\\anaconda3\\lib\\site-packages\\sklearn\\feature_selection\\_univariate_selection.py:301: RuntimeWarning: invalid value encountered in true_divide\n",
      "  corr /= X_norms\n",
      "C:\\Users\\jraks\\anaconda3\\lib\\site-packages\\sklearn\\feature_selection\\_univariate_selection.py:301: RuntimeWarning: invalid value encountered in true_divide\n",
      "  corr /= X_norms\n",
      "C:\\Users\\jraks\\anaconda3\\lib\\site-packages\\sklearn\\feature_selection\\_univariate_selection.py:301: RuntimeWarning: invalid value encountered in true_divide\n",
      "  corr /= X_norms\n"
     ]
    },
    {
     "name": "stderr",
     "output_type": "stream",
     "text": [
      "C:\\Users\\jraks\\anaconda3\\lib\\site-packages\\sklearn\\feature_selection\\_univariate_selection.py:301: RuntimeWarning: invalid value encountered in true_divide\n",
      "  corr /= X_norms\n",
      "C:\\Users\\jraks\\anaconda3\\lib\\site-packages\\sklearn\\feature_selection\\_univariate_selection.py:301: RuntimeWarning: invalid value encountered in true_divide\n",
      "  corr /= X_norms\n",
      "C:\\Users\\jraks\\anaconda3\\lib\\site-packages\\sklearn\\feature_selection\\_univariate_selection.py:301: RuntimeWarning: invalid value encountered in true_divide\n",
      "  corr /= X_norms\n",
      "C:\\Users\\jraks\\anaconda3\\lib\\site-packages\\sklearn\\feature_selection\\_univariate_selection.py:301: RuntimeWarning: invalid value encountered in true_divide\n",
      "  corr /= X_norms\n",
      "C:\\Users\\jraks\\anaconda3\\lib\\site-packages\\sklearn\\feature_selection\\_univariate_selection.py:301: RuntimeWarning: invalid value encountered in true_divide\n",
      "  corr /= X_norms\n",
      "C:\\Users\\jraks\\anaconda3\\lib\\site-packages\\sklearn\\feature_selection\\_univariate_selection.py:301: RuntimeWarning: invalid value encountered in true_divide\n",
      "  corr /= X_norms\n",
      "C:\\Users\\jraks\\anaconda3\\lib\\site-packages\\sklearn\\feature_selection\\_univariate_selection.py:301: RuntimeWarning: invalid value encountered in true_divide\n",
      "  corr /= X_norms\n",
      "C:\\Users\\jraks\\anaconda3\\lib\\site-packages\\sklearn\\feature_selection\\_univariate_selection.py:301: RuntimeWarning: invalid value encountered in true_divide\n",
      "  corr /= X_norms\n",
      "C:\\Users\\jraks\\anaconda3\\lib\\site-packages\\sklearn\\feature_selection\\_univariate_selection.py:301: RuntimeWarning: invalid value encountered in true_divide\n",
      "  corr /= X_norms\n",
      "C:\\Users\\jraks\\anaconda3\\lib\\site-packages\\sklearn\\feature_selection\\_univariate_selection.py:301: RuntimeWarning: invalid value encountered in true_divide\n",
      "  corr /= X_norms\n",
      "C:\\Users\\jraks\\anaconda3\\lib\\site-packages\\sklearn\\feature_selection\\_univariate_selection.py:301: RuntimeWarning: invalid value encountered in true_divide\n",
      "  corr /= X_norms\n",
      "C:\\Users\\jraks\\anaconda3\\lib\\site-packages\\sklearn\\feature_selection\\_univariate_selection.py:301: RuntimeWarning: invalid value encountered in true_divide\n",
      "  corr /= X_norms\n",
      "C:\\Users\\jraks\\anaconda3\\lib\\site-packages\\sklearn\\feature_selection\\_univariate_selection.py:301: RuntimeWarning: invalid value encountered in true_divide\n",
      "  corr /= X_norms\n",
      "C:\\Users\\jraks\\anaconda3\\lib\\site-packages\\sklearn\\feature_selection\\_univariate_selection.py:301: RuntimeWarning: invalid value encountered in true_divide\n",
      "  corr /= X_norms\n",
      "C:\\Users\\jraks\\anaconda3\\lib\\site-packages\\sklearn\\feature_selection\\_univariate_selection.py:301: RuntimeWarning: invalid value encountered in true_divide\n",
      "  corr /= X_norms\n",
      "C:\\Users\\jraks\\anaconda3\\lib\\site-packages\\sklearn\\feature_selection\\_univariate_selection.py:301: RuntimeWarning: invalid value encountered in true_divide\n",
      "  corr /= X_norms\n",
      "C:\\Users\\jraks\\anaconda3\\lib\\site-packages\\sklearn\\feature_selection\\_univariate_selection.py:301: RuntimeWarning: invalid value encountered in true_divide\n",
      "  corr /= X_norms\n",
      "C:\\Users\\jraks\\anaconda3\\lib\\site-packages\\sklearn\\feature_selection\\_univariate_selection.py:301: RuntimeWarning: invalid value encountered in true_divide\n",
      "  corr /= X_norms\n",
      "C:\\Users\\jraks\\anaconda3\\lib\\site-packages\\sklearn\\feature_selection\\_univariate_selection.py:301: RuntimeWarning: invalid value encountered in true_divide\n",
      "  corr /= X_norms\n",
      "C:\\Users\\jraks\\anaconda3\\lib\\site-packages\\sklearn\\feature_selection\\_univariate_selection.py:301: RuntimeWarning: invalid value encountered in true_divide\n",
      "  corr /= X_norms\n",
      "C:\\Users\\jraks\\anaconda3\\lib\\site-packages\\sklearn\\feature_selection\\_univariate_selection.py:301: RuntimeWarning: invalid value encountered in true_divide\n",
      "  corr /= X_norms\n",
      "C:\\Users\\jraks\\anaconda3\\lib\\site-packages\\sklearn\\feature_selection\\_univariate_selection.py:301: RuntimeWarning: invalid value encountered in true_divide\n",
      "  corr /= X_norms\n",
      "C:\\Users\\jraks\\anaconda3\\lib\\site-packages\\sklearn\\feature_selection\\_univariate_selection.py:301: RuntimeWarning: invalid value encountered in true_divide\n",
      "  corr /= X_norms\n",
      "C:\\Users\\jraks\\anaconda3\\lib\\site-packages\\sklearn\\feature_selection\\_univariate_selection.py:301: RuntimeWarning: invalid value encountered in true_divide\n",
      "  corr /= X_norms\n",
      "C:\\Users\\jraks\\anaconda3\\lib\\site-packages\\sklearn\\feature_selection\\_univariate_selection.py:301: RuntimeWarning: invalid value encountered in true_divide\n",
      "  corr /= X_norms\n",
      "C:\\Users\\jraks\\anaconda3\\lib\\site-packages\\sklearn\\feature_selection\\_univariate_selection.py:301: RuntimeWarning: invalid value encountered in true_divide\n",
      "  corr /= X_norms\n",
      "C:\\Users\\jraks\\anaconda3\\lib\\site-packages\\sklearn\\feature_selection\\_univariate_selection.py:301: RuntimeWarning: invalid value encountered in true_divide\n",
      "  corr /= X_norms\n",
      "C:\\Users\\jraks\\anaconda3\\lib\\site-packages\\sklearn\\feature_selection\\_univariate_selection.py:301: RuntimeWarning: invalid value encountered in true_divide\n",
      "  corr /= X_norms\n",
      "C:\\Users\\jraks\\anaconda3\\lib\\site-packages\\sklearn\\feature_selection\\_univariate_selection.py:301: RuntimeWarning: invalid value encountered in true_divide\n",
      "  corr /= X_norms\n",
      "C:\\Users\\jraks\\anaconda3\\lib\\site-packages\\sklearn\\feature_selection\\_univariate_selection.py:301: RuntimeWarning: invalid value encountered in true_divide\n",
      "  corr /= X_norms\n",
      "C:\\Users\\jraks\\anaconda3\\lib\\site-packages\\sklearn\\feature_selection\\_univariate_selection.py:301: RuntimeWarning: invalid value encountered in true_divide\n",
      "  corr /= X_norms\n",
      "C:\\Users\\jraks\\anaconda3\\lib\\site-packages\\sklearn\\feature_selection\\_univariate_selection.py:301: RuntimeWarning: invalid value encountered in true_divide\n",
      "  corr /= X_norms\n",
      "C:\\Users\\jraks\\anaconda3\\lib\\site-packages\\sklearn\\feature_selection\\_univariate_selection.py:301: RuntimeWarning: invalid value encountered in true_divide\n",
      "  corr /= X_norms\n",
      "C:\\Users\\jraks\\anaconda3\\lib\\site-packages\\sklearn\\feature_selection\\_univariate_selection.py:301: RuntimeWarning: invalid value encountered in true_divide\n",
      "  corr /= X_norms\n",
      "C:\\Users\\jraks\\anaconda3\\lib\\site-packages\\sklearn\\feature_selection\\_univariate_selection.py:301: RuntimeWarning: invalid value encountered in true_divide\n",
      "  corr /= X_norms\n",
      "C:\\Users\\jraks\\anaconda3\\lib\\site-packages\\sklearn\\feature_selection\\_univariate_selection.py:301: RuntimeWarning: invalid value encountered in true_divide\n",
      "  corr /= X_norms\n",
      "C:\\Users\\jraks\\anaconda3\\lib\\site-packages\\sklearn\\feature_selection\\_univariate_selection.py:301: RuntimeWarning: invalid value encountered in true_divide\n",
      "  corr /= X_norms\n",
      "C:\\Users\\jraks\\anaconda3\\lib\\site-packages\\sklearn\\feature_selection\\_univariate_selection.py:301: RuntimeWarning: invalid value encountered in true_divide\n",
      "  corr /= X_norms\n",
      "C:\\Users\\jraks\\anaconda3\\lib\\site-packages\\sklearn\\feature_selection\\_univariate_selection.py:301: RuntimeWarning: invalid value encountered in true_divide\n",
      "  corr /= X_norms\n",
      "C:\\Users\\jraks\\anaconda3\\lib\\site-packages\\sklearn\\feature_selection\\_univariate_selection.py:301: RuntimeWarning: invalid value encountered in true_divide\n",
      "  corr /= X_norms\n",
      "C:\\Users\\jraks\\anaconda3\\lib\\site-packages\\sklearn\\feature_selection\\_univariate_selection.py:301: RuntimeWarning: invalid value encountered in true_divide\n",
      "  corr /= X_norms\n",
      "C:\\Users\\jraks\\anaconda3\\lib\\site-packages\\sklearn\\feature_selection\\_univariate_selection.py:301: RuntimeWarning: invalid value encountered in true_divide\n",
      "  corr /= X_norms\n",
      "C:\\Users\\jraks\\anaconda3\\lib\\site-packages\\sklearn\\feature_selection\\_univariate_selection.py:301: RuntimeWarning: invalid value encountered in true_divide\n",
      "  corr /= X_norms\n",
      "C:\\Users\\jraks\\anaconda3\\lib\\site-packages\\sklearn\\feature_selection\\_univariate_selection.py:301: RuntimeWarning: invalid value encountered in true_divide\n",
      "  corr /= X_norms\n",
      "C:\\Users\\jraks\\anaconda3\\lib\\site-packages\\sklearn\\feature_selection\\_univariate_selection.py:301: RuntimeWarning: invalid value encountered in true_divide\n",
      "  corr /= X_norms\n",
      "C:\\Users\\jraks\\anaconda3\\lib\\site-packages\\sklearn\\feature_selection\\_univariate_selection.py:301: RuntimeWarning: invalid value encountered in true_divide\n",
      "  corr /= X_norms\n",
      "C:\\Users\\jraks\\anaconda3\\lib\\site-packages\\sklearn\\feature_selection\\_univariate_selection.py:301: RuntimeWarning: invalid value encountered in true_divide\n",
      "  corr /= X_norms\n",
      "C:\\Users\\jraks\\anaconda3\\lib\\site-packages\\sklearn\\feature_selection\\_univariate_selection.py:301: RuntimeWarning: invalid value encountered in true_divide\n",
      "  corr /= X_norms\n",
      "C:\\Users\\jraks\\anaconda3\\lib\\site-packages\\sklearn\\feature_selection\\_univariate_selection.py:301: RuntimeWarning: invalid value encountered in true_divide\n",
      "  corr /= X_norms\n",
      "C:\\Users\\jraks\\anaconda3\\lib\\site-packages\\sklearn\\feature_selection\\_univariate_selection.py:301: RuntimeWarning: invalid value encountered in true_divide\n",
      "  corr /= X_norms\n",
      "C:\\Users\\jraks\\anaconda3\\lib\\site-packages\\sklearn\\feature_selection\\_univariate_selection.py:301: RuntimeWarning: invalid value encountered in true_divide\n",
      "  corr /= X_norms\n",
      "C:\\Users\\jraks\\anaconda3\\lib\\site-packages\\sklearn\\feature_selection\\_univariate_selection.py:301: RuntimeWarning: invalid value encountered in true_divide\n",
      "  corr /= X_norms\n",
      "C:\\Users\\jraks\\anaconda3\\lib\\site-packages\\sklearn\\feature_selection\\_univariate_selection.py:301: RuntimeWarning: invalid value encountered in true_divide\n",
      "  corr /= X_norms\n",
      "C:\\Users\\jraks\\anaconda3\\lib\\site-packages\\sklearn\\feature_selection\\_univariate_selection.py:301: RuntimeWarning: invalid value encountered in true_divide\n",
      "  corr /= X_norms\n"
     ]
    },
    {
     "name": "stderr",
     "output_type": "stream",
     "text": [
      "C:\\Users\\jraks\\anaconda3\\lib\\site-packages\\sklearn\\feature_selection\\_univariate_selection.py:301: RuntimeWarning: invalid value encountered in true_divide\n",
      "  corr /= X_norms\n",
      "C:\\Users\\jraks\\anaconda3\\lib\\site-packages\\sklearn\\feature_selection\\_univariate_selection.py:301: RuntimeWarning: invalid value encountered in true_divide\n",
      "  corr /= X_norms\n",
      "C:\\Users\\jraks\\anaconda3\\lib\\site-packages\\sklearn\\feature_selection\\_univariate_selection.py:301: RuntimeWarning: invalid value encountered in true_divide\n",
      "  corr /= X_norms\n",
      "C:\\Users\\jraks\\anaconda3\\lib\\site-packages\\sklearn\\feature_selection\\_univariate_selection.py:301: RuntimeWarning: invalid value encountered in true_divide\n",
      "  corr /= X_norms\n",
      "C:\\Users\\jraks\\anaconda3\\lib\\site-packages\\sklearn\\feature_selection\\_univariate_selection.py:301: RuntimeWarning: invalid value encountered in true_divide\n",
      "  corr /= X_norms\n",
      "C:\\Users\\jraks\\anaconda3\\lib\\site-packages\\sklearn\\feature_selection\\_univariate_selection.py:301: RuntimeWarning: invalid value encountered in true_divide\n",
      "  corr /= X_norms\n",
      "C:\\Users\\jraks\\anaconda3\\lib\\site-packages\\sklearn\\feature_selection\\_univariate_selection.py:301: RuntimeWarning: invalid value encountered in true_divide\n",
      "  corr /= X_norms\n",
      "C:\\Users\\jraks\\anaconda3\\lib\\site-packages\\sklearn\\feature_selection\\_univariate_selection.py:301: RuntimeWarning: invalid value encountered in true_divide\n",
      "  corr /= X_norms\n",
      "C:\\Users\\jraks\\anaconda3\\lib\\site-packages\\sklearn\\feature_selection\\_univariate_selection.py:301: RuntimeWarning: invalid value encountered in true_divide\n",
      "  corr /= X_norms\n",
      "C:\\Users\\jraks\\anaconda3\\lib\\site-packages\\sklearn\\feature_selection\\_univariate_selection.py:301: RuntimeWarning: invalid value encountered in true_divide\n",
      "  corr /= X_norms\n",
      "C:\\Users\\jraks\\anaconda3\\lib\\site-packages\\sklearn\\feature_selection\\_univariate_selection.py:301: RuntimeWarning: invalid value encountered in true_divide\n",
      "  corr /= X_norms\n",
      "C:\\Users\\jraks\\anaconda3\\lib\\site-packages\\sklearn\\feature_selection\\_univariate_selection.py:301: RuntimeWarning: invalid value encountered in true_divide\n",
      "  corr /= X_norms\n",
      "C:\\Users\\jraks\\anaconda3\\lib\\site-packages\\sklearn\\feature_selection\\_univariate_selection.py:301: RuntimeWarning: invalid value encountered in true_divide\n",
      "  corr /= X_norms\n",
      "C:\\Users\\jraks\\anaconda3\\lib\\site-packages\\sklearn\\feature_selection\\_univariate_selection.py:301: RuntimeWarning: invalid value encountered in true_divide\n",
      "  corr /= X_norms\n",
      "C:\\Users\\jraks\\anaconda3\\lib\\site-packages\\sklearn\\feature_selection\\_univariate_selection.py:301: RuntimeWarning: invalid value encountered in true_divide\n",
      "  corr /= X_norms\n",
      "C:\\Users\\jraks\\anaconda3\\lib\\site-packages\\sklearn\\feature_selection\\_univariate_selection.py:301: RuntimeWarning: invalid value encountered in true_divide\n",
      "  corr /= X_norms\n",
      "C:\\Users\\jraks\\anaconda3\\lib\\site-packages\\sklearn\\feature_selection\\_univariate_selection.py:301: RuntimeWarning: invalid value encountered in true_divide\n",
      "  corr /= X_norms\n",
      "C:\\Users\\jraks\\anaconda3\\lib\\site-packages\\sklearn\\feature_selection\\_univariate_selection.py:301: RuntimeWarning: invalid value encountered in true_divide\n",
      "  corr /= X_norms\n",
      "C:\\Users\\jraks\\anaconda3\\lib\\site-packages\\sklearn\\feature_selection\\_univariate_selection.py:301: RuntimeWarning: invalid value encountered in true_divide\n",
      "  corr /= X_norms\n",
      "C:\\Users\\jraks\\anaconda3\\lib\\site-packages\\sklearn\\feature_selection\\_univariate_selection.py:301: RuntimeWarning: invalid value encountered in true_divide\n",
      "  corr /= X_norms\n",
      "C:\\Users\\jraks\\anaconda3\\lib\\site-packages\\sklearn\\feature_selection\\_univariate_selection.py:301: RuntimeWarning: invalid value encountered in true_divide\n",
      "  corr /= X_norms\n",
      "C:\\Users\\jraks\\anaconda3\\lib\\site-packages\\sklearn\\feature_selection\\_univariate_selection.py:301: RuntimeWarning: invalid value encountered in true_divide\n",
      "  corr /= X_norms\n",
      "C:\\Users\\jraks\\anaconda3\\lib\\site-packages\\sklearn\\feature_selection\\_univariate_selection.py:301: RuntimeWarning: invalid value encountered in true_divide\n",
      "  corr /= X_norms\n",
      "C:\\Users\\jraks\\anaconda3\\lib\\site-packages\\sklearn\\feature_selection\\_univariate_selection.py:301: RuntimeWarning: invalid value encountered in true_divide\n",
      "  corr /= X_norms\n",
      "C:\\Users\\jraks\\anaconda3\\lib\\site-packages\\sklearn\\feature_selection\\_univariate_selection.py:301: RuntimeWarning: invalid value encountered in true_divide\n",
      "  corr /= X_norms\n",
      "C:\\Users\\jraks\\anaconda3\\lib\\site-packages\\sklearn\\feature_selection\\_univariate_selection.py:301: RuntimeWarning: invalid value encountered in true_divide\n",
      "  corr /= X_norms\n",
      "C:\\Users\\jraks\\anaconda3\\lib\\site-packages\\sklearn\\feature_selection\\_univariate_selection.py:301: RuntimeWarning: invalid value encountered in true_divide\n",
      "  corr /= X_norms\n",
      "C:\\Users\\jraks\\anaconda3\\lib\\site-packages\\sklearn\\feature_selection\\_univariate_selection.py:301: RuntimeWarning: invalid value encountered in true_divide\n",
      "  corr /= X_norms\n",
      "C:\\Users\\jraks\\anaconda3\\lib\\site-packages\\sklearn\\feature_selection\\_univariate_selection.py:301: RuntimeWarning: invalid value encountered in true_divide\n",
      "  corr /= X_norms\n",
      "C:\\Users\\jraks\\anaconda3\\lib\\site-packages\\sklearn\\feature_selection\\_univariate_selection.py:301: RuntimeWarning: invalid value encountered in true_divide\n",
      "  corr /= X_norms\n",
      "C:\\Users\\jraks\\anaconda3\\lib\\site-packages\\sklearn\\feature_selection\\_univariate_selection.py:301: RuntimeWarning: invalid value encountered in true_divide\n",
      "  corr /= X_norms\n",
      "C:\\Users\\jraks\\anaconda3\\lib\\site-packages\\sklearn\\feature_selection\\_univariate_selection.py:301: RuntimeWarning: invalid value encountered in true_divide\n",
      "  corr /= X_norms\n",
      "C:\\Users\\jraks\\anaconda3\\lib\\site-packages\\sklearn\\feature_selection\\_univariate_selection.py:301: RuntimeWarning: invalid value encountered in true_divide\n",
      "  corr /= X_norms\n",
      "C:\\Users\\jraks\\anaconda3\\lib\\site-packages\\sklearn\\feature_selection\\_univariate_selection.py:301: RuntimeWarning: invalid value encountered in true_divide\n",
      "  corr /= X_norms\n",
      "C:\\Users\\jraks\\anaconda3\\lib\\site-packages\\sklearn\\feature_selection\\_univariate_selection.py:301: RuntimeWarning: invalid value encountered in true_divide\n",
      "  corr /= X_norms\n",
      "C:\\Users\\jraks\\anaconda3\\lib\\site-packages\\sklearn\\feature_selection\\_univariate_selection.py:301: RuntimeWarning: invalid value encountered in true_divide\n",
      "  corr /= X_norms\n",
      "C:\\Users\\jraks\\anaconda3\\lib\\site-packages\\sklearn\\feature_selection\\_univariate_selection.py:301: RuntimeWarning: invalid value encountered in true_divide\n",
      "  corr /= X_norms\n",
      "C:\\Users\\jraks\\anaconda3\\lib\\site-packages\\sklearn\\feature_selection\\_univariate_selection.py:301: RuntimeWarning: invalid value encountered in true_divide\n",
      "  corr /= X_norms\n",
      "C:\\Users\\jraks\\anaconda3\\lib\\site-packages\\sklearn\\feature_selection\\_univariate_selection.py:301: RuntimeWarning: invalid value encountered in true_divide\n",
      "  corr /= X_norms\n",
      "C:\\Users\\jraks\\anaconda3\\lib\\site-packages\\sklearn\\feature_selection\\_univariate_selection.py:301: RuntimeWarning: invalid value encountered in true_divide\n",
      "  corr /= X_norms\n",
      "C:\\Users\\jraks\\anaconda3\\lib\\site-packages\\sklearn\\feature_selection\\_univariate_selection.py:301: RuntimeWarning: invalid value encountered in true_divide\n",
      "  corr /= X_norms\n",
      "C:\\Users\\jraks\\anaconda3\\lib\\site-packages\\sklearn\\feature_selection\\_univariate_selection.py:301: RuntimeWarning: invalid value encountered in true_divide\n",
      "  corr /= X_norms\n",
      "C:\\Users\\jraks\\anaconda3\\lib\\site-packages\\sklearn\\feature_selection\\_univariate_selection.py:301: RuntimeWarning: invalid value encountered in true_divide\n",
      "  corr /= X_norms\n",
      "C:\\Users\\jraks\\anaconda3\\lib\\site-packages\\sklearn\\feature_selection\\_univariate_selection.py:301: RuntimeWarning: invalid value encountered in true_divide\n",
      "  corr /= X_norms\n",
      "C:\\Users\\jraks\\anaconda3\\lib\\site-packages\\sklearn\\feature_selection\\_univariate_selection.py:301: RuntimeWarning: invalid value encountered in true_divide\n",
      "  corr /= X_norms\n",
      "C:\\Users\\jraks\\anaconda3\\lib\\site-packages\\sklearn\\feature_selection\\_univariate_selection.py:301: RuntimeWarning: invalid value encountered in true_divide\n",
      "  corr /= X_norms\n",
      "C:\\Users\\jraks\\anaconda3\\lib\\site-packages\\sklearn\\feature_selection\\_univariate_selection.py:301: RuntimeWarning: invalid value encountered in true_divide\n",
      "  corr /= X_norms\n",
      "C:\\Users\\jraks\\anaconda3\\lib\\site-packages\\sklearn\\feature_selection\\_univariate_selection.py:301: RuntimeWarning: invalid value encountered in true_divide\n",
      "  corr /= X_norms\n",
      "C:\\Users\\jraks\\anaconda3\\lib\\site-packages\\sklearn\\feature_selection\\_univariate_selection.py:301: RuntimeWarning: invalid value encountered in true_divide\n",
      "  corr /= X_norms\n",
      "C:\\Users\\jraks\\anaconda3\\lib\\site-packages\\sklearn\\feature_selection\\_univariate_selection.py:301: RuntimeWarning: invalid value encountered in true_divide\n",
      "  corr /= X_norms\n",
      "C:\\Users\\jraks\\anaconda3\\lib\\site-packages\\sklearn\\feature_selection\\_univariate_selection.py:301: RuntimeWarning: invalid value encountered in true_divide\n",
      "  corr /= X_norms\n",
      "C:\\Users\\jraks\\anaconda3\\lib\\site-packages\\sklearn\\feature_selection\\_univariate_selection.py:301: RuntimeWarning: invalid value encountered in true_divide\n",
      "  corr /= X_norms\n",
      "C:\\Users\\jraks\\anaconda3\\lib\\site-packages\\sklearn\\feature_selection\\_univariate_selection.py:301: RuntimeWarning: invalid value encountered in true_divide\n",
      "  corr /= X_norms\n",
      "C:\\Users\\jraks\\anaconda3\\lib\\site-packages\\sklearn\\feature_selection\\_univariate_selection.py:301: RuntimeWarning: invalid value encountered in true_divide\n",
      "  corr /= X_norms\n",
      "C:\\Users\\jraks\\anaconda3\\lib\\site-packages\\sklearn\\feature_selection\\_univariate_selection.py:301: RuntimeWarning: invalid value encountered in true_divide\n",
      "  corr /= X_norms\n",
      "C:\\Users\\jraks\\anaconda3\\lib\\site-packages\\sklearn\\feature_selection\\_univariate_selection.py:301: RuntimeWarning: invalid value encountered in true_divide\n",
      "  corr /= X_norms\n",
      "C:\\Users\\jraks\\anaconda3\\lib\\site-packages\\sklearn\\feature_selection\\_univariate_selection.py:301: RuntimeWarning: invalid value encountered in true_divide\n",
      "  corr /= X_norms\n"
     ]
    },
    {
     "name": "stderr",
     "output_type": "stream",
     "text": [
      "C:\\Users\\jraks\\anaconda3\\lib\\site-packages\\sklearn\\feature_selection\\_univariate_selection.py:301: RuntimeWarning: invalid value encountered in true_divide\n",
      "  corr /= X_norms\n",
      "C:\\Users\\jraks\\anaconda3\\lib\\site-packages\\sklearn\\feature_selection\\_univariate_selection.py:301: RuntimeWarning: invalid value encountered in true_divide\n",
      "  corr /= X_norms\n",
      "C:\\Users\\jraks\\anaconda3\\lib\\site-packages\\sklearn\\feature_selection\\_univariate_selection.py:301: RuntimeWarning: invalid value encountered in true_divide\n",
      "  corr /= X_norms\n",
      "C:\\Users\\jraks\\anaconda3\\lib\\site-packages\\sklearn\\feature_selection\\_univariate_selection.py:301: RuntimeWarning: invalid value encountered in true_divide\n",
      "  corr /= X_norms\n",
      "C:\\Users\\jraks\\anaconda3\\lib\\site-packages\\sklearn\\feature_selection\\_univariate_selection.py:301: RuntimeWarning: invalid value encountered in true_divide\n",
      "  corr /= X_norms\n",
      "C:\\Users\\jraks\\anaconda3\\lib\\site-packages\\sklearn\\feature_selection\\_univariate_selection.py:301: RuntimeWarning: invalid value encountered in true_divide\n",
      "  corr /= X_norms\n",
      "C:\\Users\\jraks\\anaconda3\\lib\\site-packages\\sklearn\\feature_selection\\_univariate_selection.py:301: RuntimeWarning: invalid value encountered in true_divide\n",
      "  corr /= X_norms\n",
      "C:\\Users\\jraks\\anaconda3\\lib\\site-packages\\sklearn\\feature_selection\\_univariate_selection.py:301: RuntimeWarning: invalid value encountered in true_divide\n",
      "  corr /= X_norms\n",
      "C:\\Users\\jraks\\anaconda3\\lib\\site-packages\\sklearn\\feature_selection\\_univariate_selection.py:301: RuntimeWarning: invalid value encountered in true_divide\n",
      "  corr /= X_norms\n",
      "C:\\Users\\jraks\\anaconda3\\lib\\site-packages\\sklearn\\feature_selection\\_univariate_selection.py:301: RuntimeWarning: invalid value encountered in true_divide\n",
      "  corr /= X_norms\n",
      "C:\\Users\\jraks\\anaconda3\\lib\\site-packages\\sklearn\\feature_selection\\_univariate_selection.py:301: RuntimeWarning: invalid value encountered in true_divide\n",
      "  corr /= X_norms\n",
      "C:\\Users\\jraks\\anaconda3\\lib\\site-packages\\sklearn\\feature_selection\\_univariate_selection.py:301: RuntimeWarning: invalid value encountered in true_divide\n",
      "  corr /= X_norms\n",
      "C:\\Users\\jraks\\anaconda3\\lib\\site-packages\\sklearn\\feature_selection\\_univariate_selection.py:301: RuntimeWarning: invalid value encountered in true_divide\n",
      "  corr /= X_norms\n",
      "C:\\Users\\jraks\\anaconda3\\lib\\site-packages\\sklearn\\feature_selection\\_univariate_selection.py:301: RuntimeWarning: invalid value encountered in true_divide\n",
      "  corr /= X_norms\n",
      "C:\\Users\\jraks\\anaconda3\\lib\\site-packages\\sklearn\\feature_selection\\_univariate_selection.py:301: RuntimeWarning: invalid value encountered in true_divide\n",
      "  corr /= X_norms\n",
      "C:\\Users\\jraks\\anaconda3\\lib\\site-packages\\sklearn\\feature_selection\\_univariate_selection.py:301: RuntimeWarning: invalid value encountered in true_divide\n",
      "  corr /= X_norms\n",
      "C:\\Users\\jraks\\anaconda3\\lib\\site-packages\\sklearn\\feature_selection\\_univariate_selection.py:301: RuntimeWarning: invalid value encountered in true_divide\n",
      "  corr /= X_norms\n",
      "C:\\Users\\jraks\\anaconda3\\lib\\site-packages\\sklearn\\feature_selection\\_univariate_selection.py:301: RuntimeWarning: invalid value encountered in true_divide\n",
      "  corr /= X_norms\n",
      "C:\\Users\\jraks\\anaconda3\\lib\\site-packages\\sklearn\\feature_selection\\_univariate_selection.py:301: RuntimeWarning: invalid value encountered in true_divide\n",
      "  corr /= X_norms\n",
      "C:\\Users\\jraks\\anaconda3\\lib\\site-packages\\sklearn\\feature_selection\\_univariate_selection.py:301: RuntimeWarning: invalid value encountered in true_divide\n",
      "  corr /= X_norms\n",
      "C:\\Users\\jraks\\anaconda3\\lib\\site-packages\\sklearn\\feature_selection\\_univariate_selection.py:301: RuntimeWarning: invalid value encountered in true_divide\n",
      "  corr /= X_norms\n",
      "C:\\Users\\jraks\\anaconda3\\lib\\site-packages\\sklearn\\feature_selection\\_univariate_selection.py:301: RuntimeWarning: invalid value encountered in true_divide\n",
      "  corr /= X_norms\n",
      "C:\\Users\\jraks\\anaconda3\\lib\\site-packages\\sklearn\\feature_selection\\_univariate_selection.py:301: RuntimeWarning: invalid value encountered in true_divide\n",
      "  corr /= X_norms\n",
      "C:\\Users\\jraks\\anaconda3\\lib\\site-packages\\sklearn\\feature_selection\\_univariate_selection.py:301: RuntimeWarning: invalid value encountered in true_divide\n",
      "  corr /= X_norms\n",
      "C:\\Users\\jraks\\anaconda3\\lib\\site-packages\\sklearn\\feature_selection\\_univariate_selection.py:301: RuntimeWarning: invalid value encountered in true_divide\n",
      "  corr /= X_norms\n",
      "C:\\Users\\jraks\\anaconda3\\lib\\site-packages\\sklearn\\feature_selection\\_univariate_selection.py:301: RuntimeWarning: invalid value encountered in true_divide\n",
      "  corr /= X_norms\n",
      "C:\\Users\\jraks\\anaconda3\\lib\\site-packages\\sklearn\\feature_selection\\_univariate_selection.py:301: RuntimeWarning: invalid value encountered in true_divide\n",
      "  corr /= X_norms\n",
      "C:\\Users\\jraks\\anaconda3\\lib\\site-packages\\sklearn\\feature_selection\\_univariate_selection.py:301: RuntimeWarning: invalid value encountered in true_divide\n",
      "  corr /= X_norms\n",
      "C:\\Users\\jraks\\anaconda3\\lib\\site-packages\\sklearn\\feature_selection\\_univariate_selection.py:301: RuntimeWarning: invalid value encountered in true_divide\n",
      "  corr /= X_norms\n",
      "C:\\Users\\jraks\\anaconda3\\lib\\site-packages\\sklearn\\feature_selection\\_univariate_selection.py:301: RuntimeWarning: invalid value encountered in true_divide\n",
      "  corr /= X_norms\n",
      "C:\\Users\\jraks\\anaconda3\\lib\\site-packages\\sklearn\\feature_selection\\_univariate_selection.py:301: RuntimeWarning: invalid value encountered in true_divide\n",
      "  corr /= X_norms\n",
      "C:\\Users\\jraks\\anaconda3\\lib\\site-packages\\sklearn\\feature_selection\\_univariate_selection.py:301: RuntimeWarning: invalid value encountered in true_divide\n",
      "  corr /= X_norms\n",
      "C:\\Users\\jraks\\anaconda3\\lib\\site-packages\\sklearn\\feature_selection\\_univariate_selection.py:301: RuntimeWarning: invalid value encountered in true_divide\n",
      "  corr /= X_norms\n",
      "C:\\Users\\jraks\\anaconda3\\lib\\site-packages\\sklearn\\feature_selection\\_univariate_selection.py:301: RuntimeWarning: invalid value encountered in true_divide\n",
      "  corr /= X_norms\n",
      "C:\\Users\\jraks\\anaconda3\\lib\\site-packages\\sklearn\\feature_selection\\_univariate_selection.py:301: RuntimeWarning: invalid value encountered in true_divide\n",
      "  corr /= X_norms\n",
      "C:\\Users\\jraks\\anaconda3\\lib\\site-packages\\sklearn\\feature_selection\\_univariate_selection.py:301: RuntimeWarning: invalid value encountered in true_divide\n",
      "  corr /= X_norms\n",
      "C:\\Users\\jraks\\anaconda3\\lib\\site-packages\\sklearn\\feature_selection\\_univariate_selection.py:301: RuntimeWarning: invalid value encountered in true_divide\n",
      "  corr /= X_norms\n",
      "C:\\Users\\jraks\\anaconda3\\lib\\site-packages\\sklearn\\feature_selection\\_univariate_selection.py:301: RuntimeWarning: invalid value encountered in true_divide\n",
      "  corr /= X_norms\n",
      "C:\\Users\\jraks\\anaconda3\\lib\\site-packages\\sklearn\\feature_selection\\_univariate_selection.py:301: RuntimeWarning: invalid value encountered in true_divide\n",
      "  corr /= X_norms\n",
      "C:\\Users\\jraks\\anaconda3\\lib\\site-packages\\sklearn\\feature_selection\\_univariate_selection.py:301: RuntimeWarning: invalid value encountered in true_divide\n",
      "  corr /= X_norms\n",
      "C:\\Users\\jraks\\anaconda3\\lib\\site-packages\\sklearn\\feature_selection\\_univariate_selection.py:301: RuntimeWarning: invalid value encountered in true_divide\n",
      "  corr /= X_norms\n",
      "C:\\Users\\jraks\\anaconda3\\lib\\site-packages\\sklearn\\feature_selection\\_univariate_selection.py:301: RuntimeWarning: invalid value encountered in true_divide\n",
      "  corr /= X_norms\n",
      "C:\\Users\\jraks\\anaconda3\\lib\\site-packages\\sklearn\\feature_selection\\_univariate_selection.py:301: RuntimeWarning: invalid value encountered in true_divide\n",
      "  corr /= X_norms\n",
      "C:\\Users\\jraks\\anaconda3\\lib\\site-packages\\sklearn\\feature_selection\\_univariate_selection.py:301: RuntimeWarning: invalid value encountered in true_divide\n",
      "  corr /= X_norms\n",
      "C:\\Users\\jraks\\anaconda3\\lib\\site-packages\\sklearn\\feature_selection\\_univariate_selection.py:301: RuntimeWarning: invalid value encountered in true_divide\n",
      "  corr /= X_norms\n",
      "C:\\Users\\jraks\\anaconda3\\lib\\site-packages\\sklearn\\feature_selection\\_univariate_selection.py:301: RuntimeWarning: invalid value encountered in true_divide\n",
      "  corr /= X_norms\n",
      "C:\\Users\\jraks\\anaconda3\\lib\\site-packages\\sklearn\\feature_selection\\_univariate_selection.py:301: RuntimeWarning: invalid value encountered in true_divide\n",
      "  corr /= X_norms\n",
      "C:\\Users\\jraks\\anaconda3\\lib\\site-packages\\sklearn\\feature_selection\\_univariate_selection.py:301: RuntimeWarning: invalid value encountered in true_divide\n",
      "  corr /= X_norms\n",
      "C:\\Users\\jraks\\anaconda3\\lib\\site-packages\\sklearn\\feature_selection\\_univariate_selection.py:301: RuntimeWarning: invalid value encountered in true_divide\n",
      "  corr /= X_norms\n",
      "C:\\Users\\jraks\\anaconda3\\lib\\site-packages\\sklearn\\feature_selection\\_univariate_selection.py:301: RuntimeWarning: invalid value encountered in true_divide\n",
      "  corr /= X_norms\n",
      "C:\\Users\\jraks\\anaconda3\\lib\\site-packages\\sklearn\\feature_selection\\_univariate_selection.py:301: RuntimeWarning: invalid value encountered in true_divide\n",
      "  corr /= X_norms\n",
      "C:\\Users\\jraks\\anaconda3\\lib\\site-packages\\sklearn\\feature_selection\\_univariate_selection.py:301: RuntimeWarning: invalid value encountered in true_divide\n",
      "  corr /= X_norms\n",
      "C:\\Users\\jraks\\anaconda3\\lib\\site-packages\\sklearn\\feature_selection\\_univariate_selection.py:301: RuntimeWarning: invalid value encountered in true_divide\n",
      "  corr /= X_norms\n",
      "C:\\Users\\jraks\\anaconda3\\lib\\site-packages\\sklearn\\feature_selection\\_univariate_selection.py:301: RuntimeWarning: invalid value encountered in true_divide\n",
      "  corr /= X_norms\n",
      "C:\\Users\\jraks\\anaconda3\\lib\\site-packages\\sklearn\\feature_selection\\_univariate_selection.py:301: RuntimeWarning: invalid value encountered in true_divide\n",
      "  corr /= X_norms\n",
      "C:\\Users\\jraks\\anaconda3\\lib\\site-packages\\sklearn\\feature_selection\\_univariate_selection.py:301: RuntimeWarning: invalid value encountered in true_divide\n",
      "  corr /= X_norms\n",
      "C:\\Users\\jraks\\anaconda3\\lib\\site-packages\\sklearn\\feature_selection\\_univariate_selection.py:301: RuntimeWarning: invalid value encountered in true_divide\n",
      "  corr /= X_norms\n",
      "C:\\Users\\jraks\\anaconda3\\lib\\site-packages\\sklearn\\feature_selection\\_univariate_selection.py:301: RuntimeWarning: invalid value encountered in true_divide\n",
      "  corr /= X_norms\n"
     ]
    },
    {
     "name": "stderr",
     "output_type": "stream",
     "text": [
      "C:\\Users\\jraks\\anaconda3\\lib\\site-packages\\sklearn\\feature_selection\\_univariate_selection.py:301: RuntimeWarning: invalid value encountered in true_divide\n",
      "  corr /= X_norms\n",
      "C:\\Users\\jraks\\anaconda3\\lib\\site-packages\\sklearn\\feature_selection\\_univariate_selection.py:301: RuntimeWarning: invalid value encountered in true_divide\n",
      "  corr /= X_norms\n",
      "C:\\Users\\jraks\\anaconda3\\lib\\site-packages\\sklearn\\feature_selection\\_univariate_selection.py:301: RuntimeWarning: invalid value encountered in true_divide\n",
      "  corr /= X_norms\n",
      "C:\\Users\\jraks\\anaconda3\\lib\\site-packages\\sklearn\\feature_selection\\_univariate_selection.py:301: RuntimeWarning: invalid value encountered in true_divide\n",
      "  corr /= X_norms\n",
      "C:\\Users\\jraks\\anaconda3\\lib\\site-packages\\sklearn\\feature_selection\\_univariate_selection.py:301: RuntimeWarning: invalid value encountered in true_divide\n",
      "  corr /= X_norms\n",
      "C:\\Users\\jraks\\anaconda3\\lib\\site-packages\\sklearn\\feature_selection\\_univariate_selection.py:301: RuntimeWarning: invalid value encountered in true_divide\n",
      "  corr /= X_norms\n",
      "C:\\Users\\jraks\\anaconda3\\lib\\site-packages\\sklearn\\feature_selection\\_univariate_selection.py:301: RuntimeWarning: invalid value encountered in true_divide\n",
      "  corr /= X_norms\n",
      "C:\\Users\\jraks\\anaconda3\\lib\\site-packages\\sklearn\\feature_selection\\_univariate_selection.py:301: RuntimeWarning: invalid value encountered in true_divide\n",
      "  corr /= X_norms\n",
      "C:\\Users\\jraks\\anaconda3\\lib\\site-packages\\sklearn\\feature_selection\\_univariate_selection.py:301: RuntimeWarning: invalid value encountered in true_divide\n",
      "  corr /= X_norms\n",
      "C:\\Users\\jraks\\anaconda3\\lib\\site-packages\\sklearn\\feature_selection\\_univariate_selection.py:301: RuntimeWarning: invalid value encountered in true_divide\n",
      "  corr /= X_norms\n",
      "C:\\Users\\jraks\\anaconda3\\lib\\site-packages\\sklearn\\feature_selection\\_univariate_selection.py:301: RuntimeWarning: invalid value encountered in true_divide\n",
      "  corr /= X_norms\n",
      "C:\\Users\\jraks\\anaconda3\\lib\\site-packages\\sklearn\\feature_selection\\_univariate_selection.py:301: RuntimeWarning: invalid value encountered in true_divide\n",
      "  corr /= X_norms\n",
      "C:\\Users\\jraks\\anaconda3\\lib\\site-packages\\sklearn\\feature_selection\\_univariate_selection.py:301: RuntimeWarning: invalid value encountered in true_divide\n",
      "  corr /= X_norms\n",
      "C:\\Users\\jraks\\anaconda3\\lib\\site-packages\\sklearn\\feature_selection\\_univariate_selection.py:301: RuntimeWarning: invalid value encountered in true_divide\n",
      "  corr /= X_norms\n",
      "C:\\Users\\jraks\\anaconda3\\lib\\site-packages\\sklearn\\feature_selection\\_univariate_selection.py:301: RuntimeWarning: invalid value encountered in true_divide\n",
      "  corr /= X_norms\n",
      "C:\\Users\\jraks\\anaconda3\\lib\\site-packages\\sklearn\\feature_selection\\_univariate_selection.py:301: RuntimeWarning: invalid value encountered in true_divide\n",
      "  corr /= X_norms\n",
      "C:\\Users\\jraks\\anaconda3\\lib\\site-packages\\sklearn\\feature_selection\\_univariate_selection.py:301: RuntimeWarning: invalid value encountered in true_divide\n",
      "  corr /= X_norms\n",
      "C:\\Users\\jraks\\anaconda3\\lib\\site-packages\\sklearn\\feature_selection\\_univariate_selection.py:301: RuntimeWarning: invalid value encountered in true_divide\n",
      "  corr /= X_norms\n",
      "C:\\Users\\jraks\\anaconda3\\lib\\site-packages\\sklearn\\feature_selection\\_univariate_selection.py:301: RuntimeWarning: invalid value encountered in true_divide\n",
      "  corr /= X_norms\n",
      "C:\\Users\\jraks\\anaconda3\\lib\\site-packages\\sklearn\\feature_selection\\_univariate_selection.py:301: RuntimeWarning: invalid value encountered in true_divide\n",
      "  corr /= X_norms\n",
      "C:\\Users\\jraks\\anaconda3\\lib\\site-packages\\sklearn\\feature_selection\\_univariate_selection.py:301: RuntimeWarning: invalid value encountered in true_divide\n",
      "  corr /= X_norms\n",
      "C:\\Users\\jraks\\anaconda3\\lib\\site-packages\\sklearn\\feature_selection\\_univariate_selection.py:301: RuntimeWarning: invalid value encountered in true_divide\n",
      "  corr /= X_norms\n",
      "C:\\Users\\jraks\\anaconda3\\lib\\site-packages\\sklearn\\feature_selection\\_univariate_selection.py:301: RuntimeWarning: invalid value encountered in true_divide\n",
      "  corr /= X_norms\n",
      "C:\\Users\\jraks\\anaconda3\\lib\\site-packages\\sklearn\\feature_selection\\_univariate_selection.py:301: RuntimeWarning: invalid value encountered in true_divide\n",
      "  corr /= X_norms\n",
      "C:\\Users\\jraks\\anaconda3\\lib\\site-packages\\sklearn\\feature_selection\\_univariate_selection.py:301: RuntimeWarning: invalid value encountered in true_divide\n",
      "  corr /= X_norms\n",
      "C:\\Users\\jraks\\anaconda3\\lib\\site-packages\\sklearn\\feature_selection\\_univariate_selection.py:301: RuntimeWarning: invalid value encountered in true_divide\n",
      "  corr /= X_norms\n",
      "C:\\Users\\jraks\\anaconda3\\lib\\site-packages\\sklearn\\feature_selection\\_univariate_selection.py:301: RuntimeWarning: invalid value encountered in true_divide\n",
      "  corr /= X_norms\n",
      "C:\\Users\\jraks\\anaconda3\\lib\\site-packages\\sklearn\\feature_selection\\_univariate_selection.py:301: RuntimeWarning: invalid value encountered in true_divide\n",
      "  corr /= X_norms\n",
      "C:\\Users\\jraks\\anaconda3\\lib\\site-packages\\sklearn\\feature_selection\\_univariate_selection.py:301: RuntimeWarning: invalid value encountered in true_divide\n",
      "  corr /= X_norms\n",
      "C:\\Users\\jraks\\anaconda3\\lib\\site-packages\\sklearn\\feature_selection\\_univariate_selection.py:301: RuntimeWarning: invalid value encountered in true_divide\n",
      "  corr /= X_norms\n",
      "C:\\Users\\jraks\\anaconda3\\lib\\site-packages\\sklearn\\feature_selection\\_univariate_selection.py:301: RuntimeWarning: invalid value encountered in true_divide\n",
      "  corr /= X_norms\n",
      "C:\\Users\\jraks\\anaconda3\\lib\\site-packages\\sklearn\\feature_selection\\_univariate_selection.py:301: RuntimeWarning: invalid value encountered in true_divide\n",
      "  corr /= X_norms\n",
      "C:\\Users\\jraks\\anaconda3\\lib\\site-packages\\sklearn\\feature_selection\\_univariate_selection.py:301: RuntimeWarning: invalid value encountered in true_divide\n",
      "  corr /= X_norms\n",
      "C:\\Users\\jraks\\anaconda3\\lib\\site-packages\\sklearn\\feature_selection\\_univariate_selection.py:301: RuntimeWarning: invalid value encountered in true_divide\n",
      "  corr /= X_norms\n",
      "C:\\Users\\jraks\\anaconda3\\lib\\site-packages\\sklearn\\feature_selection\\_univariate_selection.py:301: RuntimeWarning: invalid value encountered in true_divide\n",
      "  corr /= X_norms\n",
      "C:\\Users\\jraks\\anaconda3\\lib\\site-packages\\sklearn\\feature_selection\\_univariate_selection.py:301: RuntimeWarning: invalid value encountered in true_divide\n",
      "  corr /= X_norms\n",
      "C:\\Users\\jraks\\anaconda3\\lib\\site-packages\\sklearn\\feature_selection\\_univariate_selection.py:301: RuntimeWarning: invalid value encountered in true_divide\n",
      "  corr /= X_norms\n",
      "C:\\Users\\jraks\\anaconda3\\lib\\site-packages\\sklearn\\feature_selection\\_univariate_selection.py:301: RuntimeWarning: invalid value encountered in true_divide\n",
      "  corr /= X_norms\n",
      "C:\\Users\\jraks\\anaconda3\\lib\\site-packages\\sklearn\\feature_selection\\_univariate_selection.py:301: RuntimeWarning: invalid value encountered in true_divide\n",
      "  corr /= X_norms\n",
      "C:\\Users\\jraks\\anaconda3\\lib\\site-packages\\sklearn\\feature_selection\\_univariate_selection.py:301: RuntimeWarning: invalid value encountered in true_divide\n",
      "  corr /= X_norms\n",
      "C:\\Users\\jraks\\anaconda3\\lib\\site-packages\\sklearn\\feature_selection\\_univariate_selection.py:301: RuntimeWarning: invalid value encountered in true_divide\n",
      "  corr /= X_norms\n",
      "C:\\Users\\jraks\\anaconda3\\lib\\site-packages\\sklearn\\feature_selection\\_univariate_selection.py:301: RuntimeWarning: invalid value encountered in true_divide\n",
      "  corr /= X_norms\n",
      "C:\\Users\\jraks\\anaconda3\\lib\\site-packages\\sklearn\\feature_selection\\_univariate_selection.py:301: RuntimeWarning: invalid value encountered in true_divide\n",
      "  corr /= X_norms\n",
      "C:\\Users\\jraks\\anaconda3\\lib\\site-packages\\sklearn\\feature_selection\\_univariate_selection.py:301: RuntimeWarning: invalid value encountered in true_divide\n",
      "  corr /= X_norms\n",
      "C:\\Users\\jraks\\anaconda3\\lib\\site-packages\\sklearn\\feature_selection\\_univariate_selection.py:301: RuntimeWarning: invalid value encountered in true_divide\n",
      "  corr /= X_norms\n",
      "C:\\Users\\jraks\\anaconda3\\lib\\site-packages\\sklearn\\feature_selection\\_univariate_selection.py:301: RuntimeWarning: invalid value encountered in true_divide\n",
      "  corr /= X_norms\n",
      "C:\\Users\\jraks\\anaconda3\\lib\\site-packages\\sklearn\\feature_selection\\_univariate_selection.py:301: RuntimeWarning: invalid value encountered in true_divide\n",
      "  corr /= X_norms\n",
      "C:\\Users\\jraks\\anaconda3\\lib\\site-packages\\sklearn\\feature_selection\\_univariate_selection.py:301: RuntimeWarning: invalid value encountered in true_divide\n",
      "  corr /= X_norms\n",
      "C:\\Users\\jraks\\anaconda3\\lib\\site-packages\\sklearn\\feature_selection\\_univariate_selection.py:301: RuntimeWarning: invalid value encountered in true_divide\n",
      "  corr /= X_norms\n",
      "C:\\Users\\jraks\\anaconda3\\lib\\site-packages\\sklearn\\feature_selection\\_univariate_selection.py:301: RuntimeWarning: invalid value encountered in true_divide\n",
      "  corr /= X_norms\n",
      "C:\\Users\\jraks\\anaconda3\\lib\\site-packages\\sklearn\\feature_selection\\_univariate_selection.py:301: RuntimeWarning: invalid value encountered in true_divide\n",
      "  corr /= X_norms\n",
      "C:\\Users\\jraks\\anaconda3\\lib\\site-packages\\sklearn\\feature_selection\\_univariate_selection.py:301: RuntimeWarning: invalid value encountered in true_divide\n",
      "  corr /= X_norms\n",
      "C:\\Users\\jraks\\anaconda3\\lib\\site-packages\\sklearn\\feature_selection\\_univariate_selection.py:301: RuntimeWarning: invalid value encountered in true_divide\n",
      "  corr /= X_norms\n",
      "C:\\Users\\jraks\\anaconda3\\lib\\site-packages\\sklearn\\feature_selection\\_univariate_selection.py:301: RuntimeWarning: invalid value encountered in true_divide\n",
      "  corr /= X_norms\n"
     ]
    },
    {
     "name": "stderr",
     "output_type": "stream",
     "text": [
      "C:\\Users\\jraks\\anaconda3\\lib\\site-packages\\sklearn\\feature_selection\\_univariate_selection.py:301: RuntimeWarning: invalid value encountered in true_divide\n",
      "  corr /= X_norms\n",
      "C:\\Users\\jraks\\anaconda3\\lib\\site-packages\\sklearn\\feature_selection\\_univariate_selection.py:301: RuntimeWarning: invalid value encountered in true_divide\n",
      "  corr /= X_norms\n",
      "C:\\Users\\jraks\\anaconda3\\lib\\site-packages\\sklearn\\feature_selection\\_univariate_selection.py:301: RuntimeWarning: invalid value encountered in true_divide\n",
      "  corr /= X_norms\n",
      "C:\\Users\\jraks\\anaconda3\\lib\\site-packages\\sklearn\\feature_selection\\_univariate_selection.py:301: RuntimeWarning: invalid value encountered in true_divide\n",
      "  corr /= X_norms\n",
      "C:\\Users\\jraks\\anaconda3\\lib\\site-packages\\sklearn\\feature_selection\\_univariate_selection.py:301: RuntimeWarning: invalid value encountered in true_divide\n",
      "  corr /= X_norms\n",
      "C:\\Users\\jraks\\anaconda3\\lib\\site-packages\\sklearn\\feature_selection\\_univariate_selection.py:301: RuntimeWarning: invalid value encountered in true_divide\n",
      "  corr /= X_norms\n",
      "C:\\Users\\jraks\\anaconda3\\lib\\site-packages\\sklearn\\feature_selection\\_univariate_selection.py:301: RuntimeWarning: invalid value encountered in true_divide\n",
      "  corr /= X_norms\n",
      "C:\\Users\\jraks\\anaconda3\\lib\\site-packages\\sklearn\\feature_selection\\_univariate_selection.py:301: RuntimeWarning: invalid value encountered in true_divide\n",
      "  corr /= X_norms\n",
      "C:\\Users\\jraks\\anaconda3\\lib\\site-packages\\sklearn\\feature_selection\\_univariate_selection.py:301: RuntimeWarning: invalid value encountered in true_divide\n",
      "  corr /= X_norms\n",
      "C:\\Users\\jraks\\anaconda3\\lib\\site-packages\\sklearn\\feature_selection\\_univariate_selection.py:301: RuntimeWarning: invalid value encountered in true_divide\n",
      "  corr /= X_norms\n",
      "C:\\Users\\jraks\\anaconda3\\lib\\site-packages\\sklearn\\feature_selection\\_univariate_selection.py:301: RuntimeWarning: invalid value encountered in true_divide\n",
      "  corr /= X_norms\n",
      "C:\\Users\\jraks\\anaconda3\\lib\\site-packages\\sklearn\\feature_selection\\_univariate_selection.py:301: RuntimeWarning: invalid value encountered in true_divide\n",
      "  corr /= X_norms\n",
      "C:\\Users\\jraks\\anaconda3\\lib\\site-packages\\sklearn\\feature_selection\\_univariate_selection.py:301: RuntimeWarning: invalid value encountered in true_divide\n",
      "  corr /= X_norms\n",
      "C:\\Users\\jraks\\anaconda3\\lib\\site-packages\\sklearn\\feature_selection\\_univariate_selection.py:301: RuntimeWarning: invalid value encountered in true_divide\n",
      "  corr /= X_norms\n",
      "C:\\Users\\jraks\\anaconda3\\lib\\site-packages\\sklearn\\feature_selection\\_univariate_selection.py:301: RuntimeWarning: invalid value encountered in true_divide\n",
      "  corr /= X_norms\n",
      "C:\\Users\\jraks\\anaconda3\\lib\\site-packages\\sklearn\\feature_selection\\_univariate_selection.py:301: RuntimeWarning: invalid value encountered in true_divide\n",
      "  corr /= X_norms\n",
      "C:\\Users\\jraks\\anaconda3\\lib\\site-packages\\sklearn\\feature_selection\\_univariate_selection.py:301: RuntimeWarning: invalid value encountered in true_divide\n",
      "  corr /= X_norms\n",
      "C:\\Users\\jraks\\anaconda3\\lib\\site-packages\\sklearn\\feature_selection\\_univariate_selection.py:301: RuntimeWarning: invalid value encountered in true_divide\n",
      "  corr /= X_norms\n",
      "C:\\Users\\jraks\\anaconda3\\lib\\site-packages\\sklearn\\feature_selection\\_univariate_selection.py:301: RuntimeWarning: invalid value encountered in true_divide\n",
      "  corr /= X_norms\n",
      "C:\\Users\\jraks\\anaconda3\\lib\\site-packages\\sklearn\\feature_selection\\_univariate_selection.py:301: RuntimeWarning: invalid value encountered in true_divide\n",
      "  corr /= X_norms\n",
      "C:\\Users\\jraks\\anaconda3\\lib\\site-packages\\sklearn\\feature_selection\\_univariate_selection.py:301: RuntimeWarning: invalid value encountered in true_divide\n",
      "  corr /= X_norms\n",
      "C:\\Users\\jraks\\anaconda3\\lib\\site-packages\\sklearn\\feature_selection\\_univariate_selection.py:301: RuntimeWarning: invalid value encountered in true_divide\n",
      "  corr /= X_norms\n",
      "C:\\Users\\jraks\\anaconda3\\lib\\site-packages\\sklearn\\feature_selection\\_univariate_selection.py:301: RuntimeWarning: invalid value encountered in true_divide\n",
      "  corr /= X_norms\n",
      "C:\\Users\\jraks\\anaconda3\\lib\\site-packages\\sklearn\\feature_selection\\_univariate_selection.py:301: RuntimeWarning: invalid value encountered in true_divide\n",
      "  corr /= X_norms\n",
      "C:\\Users\\jraks\\anaconda3\\lib\\site-packages\\sklearn\\feature_selection\\_univariate_selection.py:301: RuntimeWarning: invalid value encountered in true_divide\n",
      "  corr /= X_norms\n",
      "C:\\Users\\jraks\\anaconda3\\lib\\site-packages\\sklearn\\feature_selection\\_univariate_selection.py:301: RuntimeWarning: invalid value encountered in true_divide\n",
      "  corr /= X_norms\n",
      "C:\\Users\\jraks\\anaconda3\\lib\\site-packages\\sklearn\\feature_selection\\_univariate_selection.py:301: RuntimeWarning: invalid value encountered in true_divide\n",
      "  corr /= X_norms\n",
      "C:\\Users\\jraks\\anaconda3\\lib\\site-packages\\sklearn\\feature_selection\\_univariate_selection.py:301: RuntimeWarning: invalid value encountered in true_divide\n",
      "  corr /= X_norms\n",
      "C:\\Users\\jraks\\anaconda3\\lib\\site-packages\\sklearn\\feature_selection\\_univariate_selection.py:301: RuntimeWarning: invalid value encountered in true_divide\n",
      "  corr /= X_norms\n",
      "C:\\Users\\jraks\\anaconda3\\lib\\site-packages\\sklearn\\feature_selection\\_univariate_selection.py:301: RuntimeWarning: invalid value encountered in true_divide\n",
      "  corr /= X_norms\n",
      "C:\\Users\\jraks\\anaconda3\\lib\\site-packages\\sklearn\\feature_selection\\_univariate_selection.py:301: RuntimeWarning: invalid value encountered in true_divide\n",
      "  corr /= X_norms\n",
      "C:\\Users\\jraks\\anaconda3\\lib\\site-packages\\sklearn\\feature_selection\\_univariate_selection.py:301: RuntimeWarning: invalid value encountered in true_divide\n",
      "  corr /= X_norms\n",
      "C:\\Users\\jraks\\anaconda3\\lib\\site-packages\\sklearn\\feature_selection\\_univariate_selection.py:301: RuntimeWarning: invalid value encountered in true_divide\n",
      "  corr /= X_norms\n",
      "C:\\Users\\jraks\\anaconda3\\lib\\site-packages\\sklearn\\feature_selection\\_univariate_selection.py:301: RuntimeWarning: invalid value encountered in true_divide\n",
      "  corr /= X_norms\n",
      "C:\\Users\\jraks\\anaconda3\\lib\\site-packages\\sklearn\\feature_selection\\_univariate_selection.py:301: RuntimeWarning: invalid value encountered in true_divide\n",
      "  corr /= X_norms\n",
      "C:\\Users\\jraks\\anaconda3\\lib\\site-packages\\sklearn\\feature_selection\\_univariate_selection.py:301: RuntimeWarning: invalid value encountered in true_divide\n",
      "  corr /= X_norms\n",
      "C:\\Users\\jraks\\anaconda3\\lib\\site-packages\\sklearn\\feature_selection\\_univariate_selection.py:301: RuntimeWarning: invalid value encountered in true_divide\n",
      "  corr /= X_norms\n"
     ]
    },
    {
     "data": {
      "text/plain": [
       "GridSearchCV(cv=5,\n",
       "             estimator=Pipeline(steps=[('simpleimputer',\n",
       "                                        SimpleImputer(strategy='median')),\n",
       "                                       ('standardscaler', StandardScaler()),\n",
       "                                       ('selectkbest',\n",
       "                                        SelectKBest(score_func=<function f_regression at 0x0000019AF44F5310>)),\n",
       "                                       ('linearregression',\n",
       "                                        LinearRegression())]),\n",
       "             param_grid={'selectkbest__k': [1, 2, 3, 4, 5, 6, 7, 8, 9, 10, 11,\n",
       "                                            12, 13, 14, 15, 16, 17, 18, 19, 20,\n",
       "                                            21, 22, 23, 24, 25, 26, 27, 28, 29,\n",
       "                                            30, ...],\n",
       "                         'simpleimputer__strategy': ['mean', 'median'],\n",
       "                         'standardscaler': [StandardScaler(), None]})"
      ]
     },
     "execution_count": 276,
     "metadata": {},
     "output_type": "execute_result"
    }
   ],
   "source": [
    "#Conduct grid search. \n",
    "lr_grid_cv.fit(X_train, y_train)"
   ]
  },
  {
   "cell_type": "code",
   "execution_count": 277,
   "id": "340b54ef",
   "metadata": {},
   "outputs": [
    {
     "data": {
      "text/plain": [
       "{'selectkbest__k': 3,\n",
       " 'simpleimputer__strategy': 'mean',\n",
       " 'standardscaler': StandardScaler()}"
      ]
     },
     "execution_count": 277,
     "metadata": {},
     "output_type": "execute_result"
    }
   ],
   "source": [
    "#Best params from grid search\n",
    "lr_grid_cv.best_params_"
   ]
  },
  {
   "cell_type": "markdown",
   "id": "48eda04c",
   "metadata": {},
   "source": [
    "### K Best Features Visualization"
   ]
  },
  {
   "cell_type": "code",
   "execution_count": 278,
   "id": "e8a9a197",
   "metadata": {},
   "outputs": [
    {
     "data": {
      "image/png": "[encoded data removed]",
      "text/plain": [
       "<Figure size 720x360 with 1 Axes>"
      ]
     },
     "metadata": {
      "needs_background": "light"
     },
     "output_type": "display_data"
    }
   ],
   "source": [
    "score_mean = lr_grid_cv.cv_results_['mean_test_score']\n",
    "score_std = lr_grid_cv.cv_results_['std_test_score']\n",
    "cv_k = [k for k in lr_grid_cv.cv_results_['param_selectkbest__k']]\n",
    "\n",
    "best_k = lr_grid_cv.best_params_['selectkbest__k']\n",
    "plt.subplots(figsize=(10, 5))\n",
    "plt.errorbar(cv_k, score_mean, yerr=score_std)\n",
    "plt.axvline(x=best_k, c='r', ls='--', alpha=.5)\n",
    "plt.xlabel('k')\n",
    "plt.ylabel('CV score (r-squared)')\n",
    "plt.title('Pipeline mean CV score (error bars +/- 1sd)');"
   ]
  },
  {
   "cell_type": "markdown",
   "id": "39df0776",
   "metadata": {},
   "source": [
    "### Best Linear Model Performance Metrics"
   ]
  },
  {
   "cell_type": "markdown",
   "id": "ba1fd89c",
   "metadata": {},
   "source": [
    "#### R-squared (COD)"
   ]
  },
  {
   "cell_type": "code",
   "execution_count": 279,
   "id": "6d477c04",
   "metadata": {},
   "outputs": [
    {
     "name": "stderr",
     "output_type": "stream",
     "text": [
      "C:\\Users\\jraks\\anaconda3\\lib\\site-packages\\sklearn\\feature_selection\\_univariate_selection.py:301: RuntimeWarning: invalid value encountered in true_divide\n",
      "  corr /= X_norms\n",
      "C:\\Users\\jraks\\anaconda3\\lib\\site-packages\\sklearn\\feature_selection\\_univariate_selection.py:301: RuntimeWarning: invalid value encountered in true_divide\n",
      "  corr /= X_norms\n",
      "C:\\Users\\jraks\\anaconda3\\lib\\site-packages\\sklearn\\feature_selection\\_univariate_selection.py:301: RuntimeWarning: invalid value encountered in true_divide\n",
      "  corr /= X_norms\n",
      "C:\\Users\\jraks\\anaconda3\\lib\\site-packages\\sklearn\\feature_selection\\_univariate_selection.py:301: RuntimeWarning: invalid value encountered in true_divide\n",
      "  corr /= X_norms\n",
      "C:\\Users\\jraks\\anaconda3\\lib\\site-packages\\sklearn\\feature_selection\\_univariate_selection.py:301: RuntimeWarning: invalid value encountered in true_divide\n",
      "  corr /= X_norms\n"
     ]
    },
    {
     "data": {
      "text/plain": [
       "array([ 0.3478933 ,  0.26364731,  0.13309969, -0.04796491,  0.18054311])"
      ]
     },
     "execution_count": 279,
     "metadata": {},
     "output_type": "execute_result"
    }
   ],
   "source": [
    "#Cross-validation defaults to R^2 metric for scoring regression\n",
    "lr_best_cv_results = cross_validate(lr_grid_cv.best_estimator_, X_train, y_train, cv=5)\n",
    "lr_best_scores = lr_best_cv_results['test_score']\n",
    "lr_best_scores"
   ]
  },
  {
   "cell_type": "code",
   "execution_count": 280,
   "id": "94208332",
   "metadata": {},
   "outputs": [
    {
     "data": {
      "text/plain": [
       "(0.1754437005897696, 0.13360327118688378)"
      ]
     },
     "execution_count": 280,
     "metadata": {},
     "output_type": "execute_result"
    }
   ],
   "source": [
    "#Training set CV mean and std\n",
    "np.mean(lr_best_scores), np.std(lr_best_scores)"
   ]
  },
  {
   "cell_type": "markdown",
   "id": "9d73348a",
   "metadata": {},
   "source": [
    "#### Mean Absolute Error (MAE)"
   ]
  },
  {
   "cell_type": "code",
   "execution_count": 281,
   "id": "4f911c15",
   "metadata": {},
   "outputs": [],
   "source": [
    "lr_neg_mae = cross_validate(lr_grid_cv.best_estimator_, X_train, y_train, \n",
    "                            scoring='neg_mean_absolute_error', cv=5, n_jobs=-1)"
   ]
  },
  {
   "cell_type": "code",
   "execution_count": 282,
   "id": "e18625f8",
   "metadata": {},
   "outputs": [
    {
     "data": {
      "text/plain": [
       "(4.463380965508361, 0.6404338098774395)"
      ]
     },
     "execution_count": 282,
     "metadata": {},
     "output_type": "execute_result"
    }
   ],
   "source": [
    "# Training set MAE and STD \n",
    "lr_mae_mean = np.mean(-1 * lr_neg_mae['test_score'])\n",
    "lr_mae_std = np.std(-1 * lr_neg_mae['test_score'])\n",
    "MAE_LR_train = lr_mae_mean, lr_mae_std\n",
    "MAE_LR_train"
   ]
  },
  {
   "cell_type": "code",
   "execution_count": 283,
   "id": "90190211",
   "metadata": {},
   "outputs": [
    {
     "data": {
      "text/plain": [
       "6.484087029688573"
      ]
     },
     "execution_count": 283,
     "metadata": {},
     "output_type": "execute_result"
    }
   ],
   "source": [
    "# Test set mean\n",
    "MAE_LR_test = mean_absolute_error(y_test, lr_grid_cv.best_estimator_.predict(X_test))\n",
    "MAE_LR_test"
   ]
  },
  {
   "cell_type": "markdown",
   "id": "c0d8d440",
   "metadata": {},
   "source": [
    "#### Mean Squared Error (MSE)"
   ]
  },
  {
   "cell_type": "code",
   "execution_count": 284,
   "id": "34509b6d",
   "metadata": {},
   "outputs": [
    {
     "name": "stderr",
     "output_type": "stream",
     "text": [
      "C:\\Users\\jraks\\anaconda3\\lib\\site-packages\\sklearn\\feature_selection\\_univariate_selection.py:301: RuntimeWarning: invalid value encountered in true_divide\n",
      "  corr /= X_norms\n",
      "C:\\Users\\jraks\\anaconda3\\lib\\site-packages\\sklearn\\feature_selection\\_univariate_selection.py:301: RuntimeWarning: invalid value encountered in true_divide\n",
      "  corr /= X_norms\n",
      "C:\\Users\\jraks\\anaconda3\\lib\\site-packages\\sklearn\\feature_selection\\_univariate_selection.py:301: RuntimeWarning: invalid value encountered in true_divide\n",
      "  corr /= X_norms\n",
      "C:\\Users\\jraks\\anaconda3\\lib\\site-packages\\sklearn\\feature_selection\\_univariate_selection.py:301: RuntimeWarning: invalid value encountered in true_divide\n",
      "  corr /= X_norms\n",
      "C:\\Users\\jraks\\anaconda3\\lib\\site-packages\\sklearn\\feature_selection\\_univariate_selection.py:301: RuntimeWarning: invalid value encountered in true_divide\n",
      "  corr /= X_norms\n"
     ]
    }
   ],
   "source": [
    "lr_neg_mse = cross_validate(lr_grid_cv.best_estimator_, X_train, y_train, \n",
    "                            scoring='neg_mean_squared_error', cv=5)"
   ]
  },
  {
   "cell_type": "code",
   "execution_count": 285,
   "id": "2e574f0e",
   "metadata": {},
   "outputs": [
    {
     "data": {
      "text/plain": [
       "(32.21126463313864, 11.180855644836296)"
      ]
     },
     "execution_count": 285,
     "metadata": {},
     "output_type": "execute_result"
    }
   ],
   "source": [
    "#Training set CV mean and std\n",
    "lr_mse_mean = np.mean(-1 * lr_neg_mse['test_score'])\n",
    "lr_mse_std = np.std(-1 * lr_neg_mse['test_score'])\n",
    "MSE_LR_train = lr_mse_mean, lr_mse_std\n",
    "MSE_LR_train"
   ]
  },
  {
   "cell_type": "code",
   "execution_count": 286,
   "id": "5d045d1b",
   "metadata": {},
   "outputs": [
    {
     "data": {
      "text/plain": [
       "132.0795034911898"
      ]
     },
     "execution_count": 286,
     "metadata": {},
     "output_type": "execute_result"
    }
   ],
   "source": [
    "# Test set mean\n",
    "MSE_LR_test = mean_squared_error(y_test, lr_grid_cv.best_estimator_.predict(X_test))\n",
    "MSE_LR_test"
   ]
  },
  {
   "cell_type": "markdown",
   "id": "08b65887",
   "metadata": {},
   "source": [
    "#### Root Mean Square Error (RMSE)"
   ]
  },
  {
   "cell_type": "code",
   "execution_count": 287,
   "id": "215346dc",
   "metadata": {},
   "outputs": [
    {
     "name": "stderr",
     "output_type": "stream",
     "text": [
      "C:\\Users\\jraks\\anaconda3\\lib\\site-packages\\sklearn\\feature_selection\\_univariate_selection.py:301: RuntimeWarning: invalid value encountered in true_divide\n",
      "  corr /= X_norms\n",
      "C:\\Users\\jraks\\anaconda3\\lib\\site-packages\\sklearn\\feature_selection\\_univariate_selection.py:301: RuntimeWarning: invalid value encountered in true_divide\n",
      "  corr /= X_norms\n",
      "C:\\Users\\jraks\\anaconda3\\lib\\site-packages\\sklearn\\feature_selection\\_univariate_selection.py:301: RuntimeWarning: invalid value encountered in true_divide\n",
      "  corr /= X_norms\n",
      "C:\\Users\\jraks\\anaconda3\\lib\\site-packages\\sklearn\\feature_selection\\_univariate_selection.py:301: RuntimeWarning: invalid value encountered in true_divide\n",
      "  corr /= X_norms\n",
      "C:\\Users\\jraks\\anaconda3\\lib\\site-packages\\sklearn\\feature_selection\\_univariate_selection.py:301: RuntimeWarning: invalid value encountered in true_divide\n",
      "  corr /= X_norms\n"
     ]
    }
   ],
   "source": [
    "lr_neg_rmse = cross_validate(lr_grid_cv.best_estimator_, X_train, y_train, \n",
    "                            scoring='neg_root_mean_squared_error', cv=5)"
   ]
  },
  {
   "cell_type": "code",
   "execution_count": 288,
   "id": "b10b58eb",
   "metadata": {},
   "outputs": [
    {
     "data": {
      "text/plain": [
       "(5.589133217713118, 0.9863338723750921)"
      ]
     },
     "execution_count": 288,
     "metadata": {},
     "output_type": "execute_result"
    }
   ],
   "source": [
    "#Training set CV mean and std\n",
    "lr_rmse_mean = np.mean(-1 * lr_neg_rmse['test_score'])\n",
    "lr_rmse_std = np.std(-1 * lr_neg_rmse['test_score'])\n",
    "RMSE_LR_train = lr_rmse_mean, lr_rmse_std\n",
    "RMSE_LR_train"
   ]
  },
  {
   "cell_type": "code",
   "execution_count": 289,
   "id": "7e31822c",
   "metadata": {},
   "outputs": [
    {
     "data": {
      "text/plain": [
       "11.492584717598987"
      ]
     },
     "execution_count": 289,
     "metadata": {},
     "output_type": "execute_result"
    }
   ],
   "source": [
    "# Test set mean\n",
    "RMSE_LR_test = np.sqrt(mean_squared_error(y_test, lr_grid_cv.best_estimator_.predict(X_test)))\n",
    "RMSE_LR_test"
   ]
  },
  {
   "cell_type": "markdown",
   "id": "11e25773",
   "metadata": {},
   "source": [
    "### Best Linear Model Feature Importance"
   ]
  },
  {
   "cell_type": "code",
   "execution_count": 290,
   "id": "614bdc91",
   "metadata": {},
   "outputs": [
    {
     "data": {
      "image/png": "[encoded data removed]",
      "text/plain": [
       "<Figure size 720x360 with 1 Axes>"
      ]
     },
     "metadata": {
      "needs_background": "light"
     },
     "output_type": "display_data"
    }
   ],
   "source": [
    "#Plot a barplot of the linear regressor feature importances,\n",
    "#assigning the `feature_importances_` attribute of \n",
    "#`lv_grid_cv.best_estimator_.named_steps.linearregression` to the name `imps` to then\n",
    "#create a pandas Series object of the feature importances, with the index given by the\n",
    "#training data column names, sorting the values in descending order\n",
    "selected = lr_grid_cv.best_estimator_.named_steps.selectkbest.get_support()\n",
    "plt.subplots(figsize=(10, 5))\n",
    "imps = lr_grid_cv.best_estimator_.named_steps.linearregression.coef_\n",
    "lr_feat_imps = pd.Series(imps, index=X_train.columns[selected]).sort_values(ascending=False)\n",
    "lr_feat_imps.plot(kind='bar')\n",
    "plt.xlabel('features')\n",
    "plt.ylabel('importance')\n",
    "plt.title('Best linear regressor feature importances');"
   ]
  },
  {
   "cell_type": "code",
   "execution_count": 37,
   "id": "f005db35",
   "metadata": {},
   "outputs": [],
   "source": [
    "# Export out features and feature importances for full documentation csv\n",
    "X_train.columns\n",
    "lr_feat_imps.to_csv('../data/linear_feat_imps.csv', index=True)"
   ]
  },
  {
   "cell_type": "markdown",
   "id": "fc238d07",
   "metadata": {},
   "source": [
    "## Random Forest Regression Model"
   ]
  },
  {
   "cell_type": "markdown",
   "id": "fe9160b2",
   "metadata": {},
   "source": [
    "### Random Forest Model: Hyperparameter Grid Search"
   ]
  },
  {
   "cell_type": "code",
   "execution_count": 683,
   "id": "4f354676",
   "metadata": {},
   "outputs": [],
   "source": [
    "#Define pipeline\n",
    "RF_pipe = make_pipeline(\n",
    "    SimpleImputer(strategy='mean'),\n",
    "    StandardScaler(),\n",
    "    RandomForestRegressor(random_state=47)\n",
    ")"
   ]
  },
  {
   "cell_type": "code",
   "execution_count": 684,
   "id": "78662b0f",
   "metadata": {},
   "outputs": [
    {
     "data": {
      "text/plain": [
       "dict_keys(['memory', 'steps', 'verbose', 'simpleimputer', 'standardscaler', 'randomforestregressor', 'simpleimputer__add_indicator', 'simpleimputer__copy', 'simpleimputer__fill_value', 'simpleimputer__missing_values', 'simpleimputer__strategy', 'simpleimputer__verbose', 'standardscaler__copy', 'standardscaler__with_mean', 'standardscaler__with_std', 'randomforestregressor__bootstrap', 'randomforestregressor__ccp_alpha', 'randomforestregressor__criterion', 'randomforestregressor__max_depth', 'randomforestregressor__max_features', 'randomforestregressor__max_leaf_nodes', 'randomforestregressor__max_samples', 'randomforestregressor__min_impurity_decrease', 'randomforestregressor__min_impurity_split', 'randomforestregressor__min_samples_leaf', 'randomforestregressor__min_samples_split', 'randomforestregressor__min_weight_fraction_leaf', 'randomforestregressor__n_estimators', 'randomforestregressor__n_jobs', 'randomforestregressor__oob_score', 'randomforestregressor__random_state', 'randomforestregressor__verbose', 'randomforestregressor__warm_start'])"
      ]
     },
     "execution_count": 684,
     "metadata": {},
     "output_type": "execute_result"
    }
   ],
   "source": [
    "#Dict of available parameters for RF pipe\n",
    "RF_pipe.get_params().keys()"
   ]
  },
  {
   "cell_type": "code",
   "execution_count": 685,
   "id": "1580bbaf",
   "metadata": {},
   "outputs": [
    {
     "data": {
      "text/plain": [
       "{'randomforestregressor__n_estimators': [625, 650, 675],\n",
       " 'randomforestregressor__max_features': [8],\n",
       " 'randomforestregressor__max_depth': [10],\n",
       " 'randomforestregressor__min_samples_split': [2],\n",
       " 'randomforestregressor__min_samples_leaf': [9],\n",
       " 'standardscaler': [None],\n",
       " 'simpleimputer__strategy': ['mean']}"
      ]
     },
     "execution_count": 685,
     "metadata": {},
     "output_type": "execute_result"
    }
   ],
   "source": [
    "#Define search grid parameters\n",
    "\n",
    "#n_est = [int(n) for n in np.logspace(start=1, stop=3, num=20)]\n",
    "n_est = [625, 650, 675]\n",
    "\n",
    "grid_params = {\n",
    "        'randomforestregressor__n_estimators': n_est, \n",
    "        'randomforestregressor__max_features': [8],\n",
    "        'randomforestregressor__max_depth': [10],\n",
    "        'randomforestregressor__min_samples_split': [2],\n",
    "        'randomforestregressor__min_samples_leaf': [9],\n",
    "        'standardscaler': [None],\n",
    "        'simpleimputer__strategy': ['mean']}\n",
    "grid_params"
   ]
  },
  {
   "cell_type": "code",
   "execution_count": 686,
   "id": "33832b99",
   "metadata": {},
   "outputs": [],
   "source": [
    "#First Pass\n",
    "# {'randomforestregressor__n_estimators': [500, 600, 700], 700\n",
    "#  'randomforestregressor__max_features': [6, 8, 10], 10\n",
    "#  'randomforestregressor__max_depth': [8, 10, 12], 10\n",
    "#  'randomforestregressor__min_samples_split': [23], \n",
    "#  'randomforestregressor__min_samples_leaf': [8, 10, 12], 10\n",
    "#  'standardscaler': [None],\n",
    "#  'simpleimputer__strategy': ['mean', 'median']} mean\n",
    "\n",
    "#Second Pass\n",
    "# {'randomforestregressor__n_estimators': [700, 800, 900], 700\n",
    "#  'randomforestregressor__max_features': [6, 8, 10], 8\n",
    "#  'randomforestregressor__max_depth': [9, 10, 11], 10\n",
    "#  'randomforestregressor__min_samples_split': [2, 3], 2\n",
    "#  'randomforestregressor__min_samples_leaf': [9, 10, 11], 9\n",
    "#  'standardscaler': [None],\n",
    "#  'simpleimputer__strategy': ['mean']}"
   ]
  },
  {
   "cell_type": "code",
   "execution_count": 687,
   "id": "0d6edfd7",
   "metadata": {},
   "outputs": [],
   "source": [
    "#Call `GridSearchCV` with random forest pipeline, passing in the above `grid_params`\n",
    "#dict for parameters to evaluate with 5-fold cross-validation\n",
    "rf_grid_cv = GridSearchCV(RF_pipe, param_grid=grid_params, cv=5)"
   ]
  },
  {
   "cell_type": "code",
   "execution_count": 688,
   "id": "f0bd19a4",
   "metadata": {},
   "outputs": [
    {
     "data": {
      "text/plain": [
       "GridSearchCV(cv=5,\n",
       "             estimator=Pipeline(steps=[('simpleimputer', SimpleImputer()),\n",
       "                                       ('standardscaler', StandardScaler()),\n",
       "                                       ('randomforestregressor',\n",
       "                                        RandomForestRegressor(random_state=47))]),\n",
       "             param_grid={'randomforestregressor__max_depth': [10],\n",
       "                         'randomforestregressor__max_features': [8],\n",
       "                         'randomforestregressor__min_samples_leaf': [9],\n",
       "                         'randomforestregressor__min_samples_split': [2],\n",
       "                         'randomforestregressor__n_estimators': [625, 650, 675],\n",
       "                         'simpleimputer__strategy': ['mean'],\n",
       "                         'standardscaler': [None]})"
      ]
     },
     "execution_count": 688,
     "metadata": {},
     "output_type": "execute_result"
    }
   ],
   "source": [
    "#Conduct grid search.  \n",
    "rf_grid_cv.fit(X_train, y_train)"
   ]
  },
  {
   "cell_type": "code",
   "execution_count": 689,
   "id": "27a42ca4",
   "metadata": {},
   "outputs": [
    {
     "data": {
      "text/plain": [
       "{'randomforestregressor__max_depth': 10,\n",
       " 'randomforestregressor__max_features': 8,\n",
       " 'randomforestregressor__min_samples_leaf': 9,\n",
       " 'randomforestregressor__min_samples_split': 2,\n",
       " 'randomforestregressor__n_estimators': 650,\n",
       " 'simpleimputer__strategy': 'mean',\n",
       " 'standardscaler': None}"
      ]
     },
     "execution_count": 689,
     "metadata": {},
     "output_type": "execute_result"
    }
   ],
   "source": [
    "#Print the best params (`best_params_` attribute) from the grid search\n",
    "rf_grid_cv.best_params_"
   ]
  },
  {
   "cell_type": "markdown",
   "id": "ab5fccfb",
   "metadata": {},
   "source": [
    "### Best Random Forest Model Performance Metrics"
   ]
  },
  {
   "cell_type": "markdown",
   "id": "a5d4621f",
   "metadata": {},
   "source": [
    "#### R-squared (COD)"
   ]
  },
  {
   "cell_type": "code",
   "execution_count": 690,
   "id": "43b34983",
   "metadata": {},
   "outputs": [
    {
     "data": {
      "text/plain": [
       "array([0.57702782, 0.50221314, 0.58341994, 0.56914816, 0.63752662])"
      ]
     },
     "execution_count": 690,
     "metadata": {},
     "output_type": "execute_result"
    }
   ],
   "source": [
    "#Cross-validation defaults to R^2 metric for scoring regression\n",
    "rf_best_cv_results = cross_validate(rf_grid_cv.best_estimator_, X_train, y_train, cv=5)\n",
    "rf_best_scores = rf_best_cv_results['test_score']\n",
    "rf_best_scores"
   ]
  },
  {
   "cell_type": "code",
   "execution_count": 691,
   "id": "26314a8f",
   "metadata": {},
   "outputs": [
    {
     "data": {
      "text/plain": [
       "(0.5738671366975978, 0.043151684317117404)"
      ]
     },
     "execution_count": 691,
     "metadata": {},
     "output_type": "execute_result"
    }
   ],
   "source": [
    "#Training set CV mean and std\n",
    "np.mean(rf_best_scores), np.std(rf_best_scores)"
   ]
  },
  {
   "cell_type": "markdown",
   "id": "9841149b",
   "metadata": {},
   "source": [
    "#### Mean Absolute Error (MAE)"
   ]
  },
  {
   "cell_type": "code",
   "execution_count": 692,
   "id": "f04e65e1",
   "metadata": {},
   "outputs": [],
   "source": [
    "rf_neg_mae = cross_validate(rf_grid_cv.best_estimator_, X_train, y_train, \n",
    "                            scoring='neg_mean_absolute_error', cv=5)"
   ]
  },
  {
   "cell_type": "code",
   "execution_count": 693,
   "id": "35a933c4",
   "metadata": {},
   "outputs": [
    {
     "data": {
      "text/plain": [
       "(2.432194371401811, 0.22840028012100885)"
      ]
     },
     "execution_count": 693,
     "metadata": {},
     "output_type": "execute_result"
    }
   ],
   "source": [
    "#Training set CV mean and std\n",
    "rf_mae_mean = np.mean(-1 * rf_neg_mae['test_score'])\n",
    "rf_mae_std = np.std(-1 * rf_neg_mae['test_score'])\n",
    "rf_mae_mean, rf_mae_std"
   ]
  },
  {
   "cell_type": "code",
   "execution_count": 694,
   "id": "c0dad247",
   "metadata": {},
   "outputs": [
    {
     "data": {
      "text/plain": [
       "2.5968881211227997"
      ]
     },
     "execution_count": 694,
     "metadata": {},
     "output_type": "execute_result"
    }
   ],
   "source": [
    "# Test set mean\n",
    "mean_absolute_error(y_test, rf_grid_cv.best_estimator_.predict(X_test))"
   ]
  },
  {
   "cell_type": "markdown",
   "id": "dfa7bb0c",
   "metadata": {},
   "source": [
    "#### Mean Squared Error (MSE)"
   ]
  },
  {
   "cell_type": "code",
   "execution_count": 695,
   "id": "e93a680e",
   "metadata": {},
   "outputs": [],
   "source": [
    "rf_neg_mse = cross_validate(rf_grid_cv.best_estimator_, X_train, y_train, \n",
    "                            scoring='neg_mean_squared_error', cv=5)"
   ]
  },
  {
   "cell_type": "code",
   "execution_count": 696,
   "id": "9f3ea410",
   "metadata": {},
   "outputs": [
    {
     "data": {
      "text/plain": [
       "(13.47376859526587, 2.875681533295431)"
      ]
     },
     "execution_count": 696,
     "metadata": {},
     "output_type": "execute_result"
    }
   ],
   "source": [
    "#Training set CV mean and std\n",
    "rf_mse_mean = np.mean(-1 * rf_neg_mse['test_score'])\n",
    "rf_mse_std = np.std(-1 * rf_neg_mse['test_score'])\n",
    "rf_mse_mean, rf_mse_std"
   ]
  },
  {
   "cell_type": "code",
   "execution_count": 697,
   "id": "5ca32df2",
   "metadata": {},
   "outputs": [
    {
     "data": {
      "text/plain": [
       "20.910688819647618"
      ]
     },
     "execution_count": 697,
     "metadata": {},
     "output_type": "execute_result"
    }
   ],
   "source": [
    "# Test set mean\n",
    "mean_squared_error(y_test, rf_grid_cv.best_estimator_.predict(X_test))"
   ]
  },
  {
   "cell_type": "markdown",
   "id": "1f722cdd",
   "metadata": {},
   "source": [
    "#### Root Mean Square Error (RMSE)"
   ]
  },
  {
   "cell_type": "code",
   "execution_count": 698,
   "id": "e58f86da",
   "metadata": {},
   "outputs": [],
   "source": [
    "rf_neg_rmse = cross_validate(rf_grid_cv.best_estimator_, X_train, y_train, \n",
    "                            scoring='neg_root_mean_squared_error', cv=5)"
   ]
  },
  {
   "cell_type": "code",
   "execution_count": 699,
   "id": "d7ee1e61",
   "metadata": {},
   "outputs": [
    {
     "data": {
      "text/plain": [
       "(3.647683052295805, 0.4100938249472096)"
      ]
     },
     "execution_count": 699,
     "metadata": {},
     "output_type": "execute_result"
    }
   ],
   "source": [
    "#Training set CV mean and std\n",
    "rf_rmse_mean = np.mean(-1 * rf_neg_rmse['test_score'])\n",
    "rf_rmse_std = np.std(-1 * rf_neg_rmse['test_score'])\n",
    "rf_rmse_mean, rf_rmse_std"
   ]
  },
  {
   "cell_type": "code",
   "execution_count": 700,
   "id": "6cb7e869",
   "metadata": {},
   "outputs": [
    {
     "data": {
      "text/plain": [
       "4.5728206634032365"
      ]
     },
     "execution_count": 700,
     "metadata": {},
     "output_type": "execute_result"
    }
   ],
   "source": [
    "# Test set mean\n",
    "np.sqrt(mean_squared_error(y_test, rf_grid_cv.best_estimator_.predict(X_test)))"
   ]
  },
  {
   "cell_type": "markdown",
   "id": "46ff1b10",
   "metadata": {},
   "source": [
    "### Best Random Forest Model Feature Performance"
   ]
  },
  {
   "cell_type": "code",
   "execution_count": 701,
   "id": "a8245ab5",
   "metadata": {},
   "outputs": [
    {
     "data": {
      "image/png": "[encoded data removed]",
      "text/plain": [
       "<Figure size 1440x720 with 1 Axes>"
      ]
     },
     "metadata": {
      "needs_background": "light"
     },
     "output_type": "display_data"
    }
   ],
   "source": [
    "#Plot a barplot of the random forest's feature importances,\n",
    "#assigning the `feature_importances_` attribute of \n",
    "#`rf_grid_cv.best_estimator_.named_steps.randomforestregressor` to the name `imps` to then\n",
    "#create a pandas Series object of the feature importances, with the index given by the\n",
    "#training data column names, sorting the values in descending order\n",
    "plt.subplots(figsize=(20, 10))\n",
    "imps = rf_grid_cv.best_estimator_.named_steps.randomforestregressor.feature_importances_\n",
    "rf_feat_imps = pd.Series(imps, index=X_train.columns).sort_values(ascending=False)\n",
    "rf_feat_imps.nlargest(30).plot(kind='bar')\n",
    "plt.xlabel('features')\n",
    "plt.ylabel('importance')\n",
    "plt.title('Best random forest regressor feature importances');\n",
    "\n",
    "#rf_gridsearch.best_estimator_.named_steps[\"step_name\"].feature_importances_\n",
    "#rf_gridsearch.best_estimator_.feature_importances_\n",
    "\n",
    "#feat_importances = pd.Series(rf_grid_cv.feature_importances_, index=rf_grid_cv.columns)\n",
    "#feat_importances.nlargest(50).plot(kind='barh')"
   ]
  },
  {
   "cell_type": "markdown",
   "id": "6c675468",
   "metadata": {},
   "source": [
    "Random Forest Regressor RMSE Train(STD)/Test for different explored hyperparameter values (summarized below each)\n",
    "(3.647683052295805, 0.4100938249472096), 4.5728206634032365\n",
    "{'randomforestregressor__max_depth': 10,\n",
    " 'randomforestregressor__max_features': 8,\n",
    " 'randomforestregressor__min_samples_leaf': 9,\n",
    " 'randomforestregressor__min_samples_split': 2,\n",
    " 'randomforestregressor__n_estimators': 650,\n",
    " 'simpleimputer__strategy': 'mean',\n",
    " 'standardscaler': None}\n",
    "\n",
    "Note on speed of RF: it could take around 1000 seconds to fit an RF with around 4M samples with the dimensions 'n_estimators': 50, 'max_depth': 200, 'min_samples_leaf': 1, 'min_samples_split': 2, 'n_jobs': 20 but only 50s for 'n_estimators': 50, 'max_depth': 200, 'min_samples_leaf': 2, 'min_samples_split': 10, 'n_jobs': 20 for similar accuracy.\""
   ]
  },
  {
   "cell_type": "markdown",
   "id": "300fd6a4",
   "metadata": {},
   "source": [
    "## Gradient Boosting Regression Model"
   ]
  },
  {
   "cell_type": "markdown",
   "id": "696bff8c",
   "metadata": {},
   "source": [
    "### Gradient Boosting Model: Hyperparameter Grid Search"
   ]
  },
  {
   "cell_type": "code",
   "execution_count": 740,
   "id": "22473aa1",
   "metadata": {},
   "outputs": [],
   "source": [
    "#Define pipeline \n",
    "GB_pipe = make_pipeline(\n",
    "    SimpleImputer(strategy='mean'),\n",
    "    StandardScaler(),\n",
    "    GradientBoostingRegressor(random_state= 47)\n",
    ")"
   ]
  },
  {
   "cell_type": "code",
   "execution_count": 741,
   "id": "b247d05f",
   "metadata": {},
   "outputs": [
    {
     "data": {
      "text/plain": [
       "dict_keys(['memory', 'steps', 'verbose', 'simpleimputer', 'standardscaler', 'gradientboostingregressor', 'simpleimputer__add_indicator', 'simpleimputer__copy', 'simpleimputer__fill_value', 'simpleimputer__missing_values', 'simpleimputer__strategy', 'simpleimputer__verbose', 'standardscaler__copy', 'standardscaler__with_mean', 'standardscaler__with_std', 'gradientboostingregressor__alpha', 'gradientboostingregressor__ccp_alpha', 'gradientboostingregressor__criterion', 'gradientboostingregressor__init', 'gradientboostingregressor__learning_rate', 'gradientboostingregressor__loss', 'gradientboostingregressor__max_depth', 'gradientboostingregressor__max_features', 'gradientboostingregressor__max_leaf_nodes', 'gradientboostingregressor__min_impurity_decrease', 'gradientboostingregressor__min_impurity_split', 'gradientboostingregressor__min_samples_leaf', 'gradientboostingregressor__min_samples_split', 'gradientboostingregressor__min_weight_fraction_leaf', 'gradientboostingregressor__n_estimators', 'gradientboostingregressor__n_iter_no_change', 'gradientboostingregressor__random_state', 'gradientboostingregressor__subsample', 'gradientboostingregressor__tol', 'gradientboostingregressor__validation_fraction', 'gradientboostingregressor__verbose', 'gradientboostingregressor__warm_start'])"
      ]
     },
     "execution_count": 741,
     "metadata": {},
     "output_type": "execute_result"
    }
   ],
   "source": [
    "GB_pipe.get_params().keys()"
   ]
  },
  {
   "cell_type": "code",
   "execution_count": 742,
   "id": "57b53602",
   "metadata": {},
   "outputs": [
    {
     "data": {
      "text/plain": [
       "{'gradientboostingregressor__n_estimators': [115, 120, 125],\n",
       " 'standardscaler': [None],\n",
       " 'simpleimputer__strategy': ['mean', 'median'],\n",
       " 'gradientboostingregressor__learning_rate': [0.03, 0.04],\n",
       " 'gradientboostingregressor__max_depth': [3],\n",
       " 'gradientboostingregressor__max_features': [9, 10, 11],\n",
       " 'gradientboostingregressor__subsample': [0.3, 0.35, 0.4]}"
      ]
     },
     "execution_count": 742,
     "metadata": {},
     "output_type": "execute_result"
    }
   ],
   "source": [
    "#Define Grid Parameters\n",
    "\n",
    "n_est = [115, 120, 125] \n",
    "learning_rate = [.03,.04] \n",
    "max_depth = [3] \n",
    "max_features = [9,10,11]\n",
    "subsamples = [0.3,0.35,0.4]\n",
    "\n",
    "grid_params = {\n",
    "        'gradientboostingregressor__n_estimators': n_est,\n",
    "        'standardscaler': [None],\n",
    "        'simpleimputer__strategy': ['mean','median'],\n",
    "        'gradientboostingregressor__learning_rate': learning_rate,\n",
    "        'gradientboostingregressor__max_depth': max_depth,\n",
    "        'gradientboostingregressor__max_features': max_features,\n",
    "        'gradientboostingregressor__subsample': subsamples\n",
    "}\n",
    "grid_params\n",
    "\n",
    "#Generally speaking, the four hyperparameters with the biggest impact on this model's performance are the number of models in the ensemble (n_est),\n",
    "#the learning rate, the depth of the decision tree (max_depth), and the variance of the model controlled via the size of the data sample used to train \n",
    "#each model or features used in tree splits"
   ]
  },
  {
   "cell_type": "code",
   "execution_count": 743,
   "id": "8132d668",
   "metadata": {},
   "outputs": [],
   "source": [
    "#First Pass (best from the run is placed outside bracket per hyperparameter)\n",
    "# {'gradientboostingregressor__n_estimators': [100, 110, 120, 130, 140], 110\n",
    "#  'standardscaler': [None],\n",
    "#  'simpleimputer__strategy': ['median', 'mean'], mean\n",
    "#  'gradientboostingregressor__learning_rate': [0.03, 0.04, 0.05, 0.06], .03\n",
    "#  'gradientboostingregressor__max_depth': [2, 3, 4, 5], 3\n",
    "#  'gradientboostingregressor__max_features': [9, 10, 11], 11\n",
    "#  'gradientboostingregressor__subsample': [0.4, 0.6, 0.8]} .4\n",
    "\n",
    "#Second Pass\n",
    "# {'gradientboostingregressor__n_estimators': [115, 120, 125], 115\n",
    "#  'standardscaler': [None],\n",
    "#  'simpleimputer__strategy': ['mean', 'median'], mean\n",
    "#  'gradientboostingregressor__learning_rate': [0.03, 0.04], .03\n",
    "#  'gradientboostingregressor__max_depth': [3],\n",
    "#  'gradientboostingregressor__max_features': [9, 10, 11], 11 \n",
    "#  'gradientboostingregressor__subsample': [0.3, 0.35, 0.4]}  .35"
   ]
  },
  {
   "cell_type": "code",
   "execution_count": 744,
   "id": "eb48abeb",
   "metadata": {},
   "outputs": [],
   "source": [
    "#Call `GridSearchCV` with the gradient boosting pipeline, passing in the above `grid_params`\n",
    "#dict for parameters to evaluate, 5-fold cross-validation\n",
    "gb_grid_cv = GridSearchCV(GB_pipe, param_grid=grid_params, cv=5)"
   ]
  },
  {
   "cell_type": "code",
   "execution_count": 745,
   "id": "330fc1c6",
   "metadata": {},
   "outputs": [
    {
     "data": {
      "text/plain": [
       "GridSearchCV(cv=5,\n",
       "             estimator=Pipeline(steps=[('simpleimputer', SimpleImputer()),\n",
       "                                       ('standardscaler', StandardScaler()),\n",
       "                                       ('gradientboostingregressor',\n",
       "                                        GradientBoostingRegressor(random_state=47))]),\n",
       "             param_grid={'gradientboostingregressor__learning_rate': [0.03,\n",
       "                                                                      0.04],\n",
       "                         'gradientboostingregressor__max_depth': [3],\n",
       "                         'gradientboostingregressor__max_features': [9, 10, 11],\n",
       "                         'gradientboostingregressor__n_estimators': [115, 120,\n",
       "                                                                     125],\n",
       "                         'gradientboostingregressor__subsample': [0.3, 0.35,\n",
       "                                                                  0.4],\n",
       "                         'simpleimputer__strategy': ['mean', 'median'],\n",
       "                         'standardscaler': [None]})"
      ]
     },
     "execution_count": 745,
     "metadata": {},
     "output_type": "execute_result"
    }
   ],
   "source": [
    "#conduct the grid search. \n",
    "gb_grid_cv.fit(X_train, y_train)"
   ]
  },
  {
   "cell_type": "code",
   "execution_count": 746,
   "id": "57d15a7f",
   "metadata": {},
   "outputs": [
    {
     "data": {
      "text/plain": [
       "{'gradientboostingregressor__learning_rate': 0.03,\n",
       " 'gradientboostingregressor__max_depth': 3,\n",
       " 'gradientboostingregressor__max_features': 11,\n",
       " 'gradientboostingregressor__n_estimators': 115,\n",
       " 'gradientboostingregressor__subsample': 0.35,\n",
       " 'simpleimputer__strategy': 'mean',\n",
       " 'standardscaler': None}"
      ]
     },
     "execution_count": 746,
     "metadata": {},
     "output_type": "execute_result"
    }
   ],
   "source": [
    "#Best params (`best_params_` attribute) from the grid search\n",
    "gb_grid_cv.best_params_"
   ]
  },
  {
   "cell_type": "markdown",
   "id": "f95f35b3",
   "metadata": {},
   "source": [
    "### Best Gradient Boosting Model Performance Metrics"
   ]
  },
  {
   "cell_type": "markdown",
   "id": "7820c285",
   "metadata": {},
   "source": [
    "#### R-squared (COD)"
   ]
  },
  {
   "cell_type": "code",
   "execution_count": 747,
   "id": "6dc56798",
   "metadata": {},
   "outputs": [
    {
     "data": {
      "text/plain": [
       "array([0.58754766, 0.52501501, 0.56822144, 0.54683141, 0.60050597])"
      ]
     },
     "execution_count": 747,
     "metadata": {},
     "output_type": "execute_result"
    }
   ],
   "source": [
    "#Cross-validation defaults to R^2 metric for scoring regression\n",
    "gb_best_cv_results = cross_validate(gb_grid_cv.best_estimator_, X_train, y_train, cv=5)\n",
    "gb_best_scores = gb_best_cv_results['test_score']\n",
    "gb_best_scores"
   ]
  },
  {
   "cell_type": "code",
   "execution_count": 748,
   "id": "b28a43c3",
   "metadata": {},
   "outputs": [
    {
     "data": {
      "text/plain": [
       "(0.5656242973409149, 0.0272264465365075)"
      ]
     },
     "execution_count": 748,
     "metadata": {},
     "output_type": "execute_result"
    }
   ],
   "source": [
    "#Training set CV mean and std\n",
    "np.mean(gb_best_scores), np.std(gb_best_scores)"
   ]
  },
  {
   "cell_type": "markdown",
   "id": "c91478b1",
   "metadata": {},
   "source": [
    "#### Mean Absolute Error (MAE)"
   ]
  },
  {
   "cell_type": "code",
   "execution_count": 749,
   "id": "e18c5910",
   "metadata": {},
   "outputs": [],
   "source": [
    "gb_neg_mae = cross_validate(gb_grid_cv.best_estimator_, X_train, y_train, \n",
    "                            scoring='neg_mean_absolute_error', cv=5, n_jobs=-1)"
   ]
  },
  {
   "cell_type": "code",
   "execution_count": 750,
   "id": "fcd81789",
   "metadata": {},
   "outputs": [
    {
     "data": {
      "text/plain": [
       "(2.495016734838068, 0.20105227564424152)"
      ]
     },
     "execution_count": 750,
     "metadata": {},
     "output_type": "execute_result"
    }
   ],
   "source": [
    "#Training set CV mean and std\n",
    "gb_mae_mean = np.mean(-1 * gb_neg_mae['test_score'])\n",
    "gb_mae_std = np.std(-1 * gb_neg_mae['test_score'])\n",
    "gb_mae_mean, gb_mae_std"
   ]
  },
  {
   "cell_type": "code",
   "execution_count": 751,
   "id": "6d131fd6",
   "metadata": {},
   "outputs": [
    {
     "data": {
      "text/plain": [
       "2.6691995175274608"
      ]
     },
     "execution_count": 751,
     "metadata": {},
     "output_type": "execute_result"
    }
   ],
   "source": [
    "# Test set mean\n",
    "mean_absolute_error(y_test, gb_grid_cv.best_estimator_.predict(X_test))"
   ]
  },
  {
   "cell_type": "markdown",
   "id": "63e05fa0",
   "metadata": {},
   "source": [
    "#### Mean Squared Error (MSE)"
   ]
  },
  {
   "cell_type": "code",
   "execution_count": 752,
   "id": "680649e1",
   "metadata": {},
   "outputs": [],
   "source": [
    "gb_neg_mse = cross_validate(gb_grid_cv.best_estimator_, X_train, y_train, \n",
    "                            scoring='neg_mean_squared_error', cv=5)"
   ]
  },
  {
   "cell_type": "code",
   "execution_count": 753,
   "id": "5bf5c623",
   "metadata": {},
   "outputs": [
    {
     "data": {
      "text/plain": [
       "(13.731839896403002, 2.8338203570317555)"
      ]
     },
     "execution_count": 753,
     "metadata": {},
     "output_type": "execute_result"
    }
   ],
   "source": [
    "#Training set CV mean and std\n",
    "gb_mse_mean = np.mean(-1 * gb_neg_mse['test_score'])\n",
    "gb_mse_std = np.std(-1 * gb_neg_mse['test_score'])\n",
    "gb_mse_mean, gb_mse_std"
   ]
  },
  {
   "cell_type": "code",
   "execution_count": 754,
   "id": "a347d29a",
   "metadata": {},
   "outputs": [
    {
     "data": {
      "text/plain": [
       "20.937264461961156"
      ]
     },
     "execution_count": 754,
     "metadata": {},
     "output_type": "execute_result"
    }
   ],
   "source": [
    "# Test set mean\n",
    "mean_squared_error(y_test, gb_grid_cv.best_estimator_.predict(X_test))"
   ]
  },
  {
   "cell_type": "markdown",
   "id": "fb2e2fa6",
   "metadata": {},
   "source": [
    "#### Root Mean Square Error (RMSE)"
   ]
  },
  {
   "cell_type": "code",
   "execution_count": 755,
   "id": "637cc724",
   "metadata": {},
   "outputs": [],
   "source": [
    "gb_neg_rmse = cross_validate(gb_grid_cv.best_estimator_, X_train, y_train, \n",
    "                            scoring='neg_root_mean_squared_error', cv=5)"
   ]
  },
  {
   "cell_type": "code",
   "execution_count": 756,
   "id": "129c9952",
   "metadata": {},
   "outputs": [
    {
     "data": {
      "text/plain": [
       "(3.6850286418073943, 0.3903892998817379)"
      ]
     },
     "execution_count": 756,
     "metadata": {},
     "output_type": "execute_result"
    }
   ],
   "source": [
    "#Training set CV mean and std\n",
    "gb_rmse_mean = np.mean(-1 * gb_neg_rmse['test_score'])\n",
    "gb_rmse_std = np.std(-1 * gb_neg_rmse['test_score'])\n",
    "gb_rmse_mean, gb_rmse_std"
   ]
  },
  {
   "cell_type": "code",
   "execution_count": 757,
   "id": "1bac3e9c",
   "metadata": {},
   "outputs": [
    {
     "data": {
      "text/plain": [
       "4.575725566722851"
      ]
     },
     "execution_count": 757,
     "metadata": {},
     "output_type": "execute_result"
    }
   ],
   "source": [
    "# Test set mean\n",
    "np.sqrt(mean_squared_error(y_test, gb_grid_cv.best_estimator_.predict(X_test)))"
   ]
  },
  {
   "cell_type": "markdown",
   "id": "3b42bbe6",
   "metadata": {},
   "source": [
    "### Best Gradient Boosting Model Feature Performance"
   ]
  },
  {
   "cell_type": "code",
   "execution_count": 758,
   "id": "e1ca08e2",
   "metadata": {},
   "outputs": [
    {
     "data": {
      "image/png": "[encoded data removed]",
      "text/plain": [
       "<Figure size 1440x720 with 1 Axes>"
      ]
     },
     "metadata": {
      "needs_background": "light"
     },
     "output_type": "display_data"
    }
   ],
   "source": [
    "#Plot a barplot of the gradient boosting model's feature importances,\n",
    "#assigning the `feature_importances_` attribute of \n",
    "#`gb_grid_cv.best_estimator_.named_steps.gradientboostingregressor` to the name `imps` to then\n",
    "#create a pandas Series object of the feature importances, with the index given by the\n",
    "#training data column names, sorting the values in descending order\n",
    "plt.subplots(figsize=(20, 10))\n",
    "imps = gb_grid_cv.best_estimator_.named_steps.gradientboostingregressor.feature_importances_\n",
    "gb_feat_imps = pd.Series(imps, index=X_train.columns).sort_values(ascending=False)\n",
    "gb_feat_imps.nlargest(30).plot(kind='bar')\n",
    "plt.xlabel('features')\n",
    "plt.ylabel('importance')\n",
    "plt.title('Best gradient boosting regressor feature importances');"
   ]
  },
  {
   "cell_type": "code",
   "execution_count": 721,
   "id": "25deab5e",
   "metadata": {},
   "outputs": [],
   "source": [
    "# Export out features and feature importances for full documentation csv\n",
    "X_train.columns\n",
    "gb_feat_imps.to_csv('../data/gb_feat_imps.csv', index=True)"
   ]
  },
  {
   "cell_type": "markdown",
   "id": "ed22e6b7",
   "metadata": {},
   "source": [
    "Best GBM Model RMSE Train/Test and Best Hyperparameters\n",
    "(3.6850286418073943, 0.3903892998817379), 4.575725566722851\n",
    "{'gradientboostingregressor__learning_rate': 0.03,\n",
    " 'gradientboostingregressor__max_depth': 3,\n",
    " 'gradientboostingregressor__max_features': 11,\n",
    " 'gradientboostingregressor__n_estimators': 115,\n",
    " 'gradientboostingregressor__subsample': 0.35,\n",
    " 'simpleimputer__strategy': 'mean',\n",
    " 'standardscaler': None}"
   ]
  },
  {
   "cell_type": "markdown",
   "id": "5b8bbec4",
   "metadata": {},
   "source": [
    "## HistGradientBoosting Model"
   ]
  },
  {
   "cell_type": "markdown",
   "id": "91545870",
   "metadata": {},
   "source": [
    "### Pipeline Creation"
   ]
  },
  {
   "cell_type": "code",
   "execution_count": 759,
   "id": "4343e443",
   "metadata": {},
   "outputs": [],
   "source": [
    "#Define pipeline\n",
    "HGB_pipe = make_pipeline(\n",
    "    SimpleImputer(strategy='mean'),\n",
    "    StandardScaler(),\n",
    "    HistGradientBoostingRegressor(random_state= 47)\n",
    ")"
   ]
  },
  {
   "cell_type": "code",
   "execution_count": 760,
   "id": "b55be03d",
   "metadata": {},
   "outputs": [
    {
     "data": {
      "text/plain": [
       "dict_keys(['memory', 'steps', 'verbose', 'simpleimputer', 'standardscaler', 'histgradientboostingregressor', 'simpleimputer__add_indicator', 'simpleimputer__copy', 'simpleimputer__fill_value', 'simpleimputer__missing_values', 'simpleimputer__strategy', 'simpleimputer__verbose', 'standardscaler__copy', 'standardscaler__with_mean', 'standardscaler__with_std', 'histgradientboostingregressor__categorical_features', 'histgradientboostingregressor__early_stopping', 'histgradientboostingregressor__l2_regularization', 'histgradientboostingregressor__learning_rate', 'histgradientboostingregressor__loss', 'histgradientboostingregressor__max_bins', 'histgradientboostingregressor__max_depth', 'histgradientboostingregressor__max_iter', 'histgradientboostingregressor__max_leaf_nodes', 'histgradientboostingregressor__min_samples_leaf', 'histgradientboostingregressor__monotonic_cst', 'histgradientboostingregressor__n_iter_no_change', 'histgradientboostingregressor__random_state', 'histgradientboostingregressor__scoring', 'histgradientboostingregressor__tol', 'histgradientboostingregressor__validation_fraction', 'histgradientboostingregressor__verbose', 'histgradientboostingregressor__warm_start'])"
      ]
     },
     "execution_count": 760,
     "metadata": {},
     "output_type": "execute_result"
    }
   ],
   "source": [
    "HGB_pipe.get_params().keys()"
   ]
  },
  {
   "cell_type": "markdown",
   "id": "57f9c25d",
   "metadata": {},
   "source": [
    "### Hyperparameter  Grid Search and Model Fit Using Best Parameters from Grid Search"
   ]
  },
  {
   "cell_type": "code",
   "execution_count": 761,
   "id": "032859f2",
   "metadata": {},
   "outputs": [
    {
     "data": {
      "text/plain": [
       "{'standardscaler': [None],\n",
       " 'simpleimputer__strategy': ['median'],\n",
       " 'histgradientboostingregressor__learning_rate': [0.03, 0.04, 0.05, 0.06],\n",
       " 'histgradientboostingregressor__max_iter': [100, 110, 120, 130, 140],\n",
       " 'histgradientboostingregressor__max_depth': [2, 3, 4, 5],\n",
       " 'histgradientboostingregressor__max_leaf_nodes': [3, 4, 5, 6]}"
      ]
     },
     "execution_count": 761,
     "metadata": {},
     "output_type": "execute_result"
    }
   ],
   "source": [
    "#Define grid search parameters\n",
    "\n",
    "learning_rate = [.03,.04,.05,.06]\n",
    "max_iterations = [100,110,120,130,140]\n",
    "max_depth = [2,3,4,5]\n",
    "max_leaf_nodes = [3,4,5,6]   #default is 31\n",
    "\n",
    "grid_params = {\n",
    "        'standardscaler': [None],\n",
    "        'simpleimputer__strategy': ['median'],\n",
    "        'histgradientboostingregressor__learning_rate': learning_rate,\n",
    "        'histgradientboostingregressor__max_iter': max_iterations,\n",
    "        'histgradientboostingregressor__max_depth': max_depth,\n",
    "        'histgradientboostingregressor__max_leaf_nodes': max_leaf_nodes\n",
    "}\n",
    "grid_params"
   ]
  },
  {
   "cell_type": "code",
   "execution_count": 762,
   "id": "dad98a5a",
   "metadata": {},
   "outputs": [],
   "source": [
    "#First Pass\n",
    "# {'standardscaler': [None],\n",
    "#  'simpleimputer__strategy': ['median', 'mean'], median\n",
    "#  'histgradientboostingregressor__learning_rate': [0.03,0.04,0.05,0.06,0.07], .04\n",
    "#  'histgradientboostingregressor__max_iter': [90, 100, 110, 120, 130], 110\n",
    "#  'histgradientboostingregressor__max_depth': [2, 3, 4, 5], 2\n",
    "#  'histgradientboostingregressor__max_leaf_nodes': [5, 10, 15, 20]} 5"
   ]
  },
  {
   "cell_type": "code",
   "execution_count": 763,
   "id": "308e86e1",
   "metadata": {},
   "outputs": [],
   "source": [
    "#Call `GridSearchCV` with the hist gradient boosting pipeline, passing in the above `grid_params`\n",
    "#dict for parameters to evaluate, 5-fold cross-validation.\n",
    "hgb_grid_cv = GridSearchCV(HGB_pipe, param_grid=grid_params, cv=5)"
   ]
  },
  {
   "cell_type": "code",
   "execution_count": 764,
   "id": "403f1f8a",
   "metadata": {},
   "outputs": [
    {
     "data": {
      "text/plain": [
       "GridSearchCV(cv=5,\n",
       "             estimator=Pipeline(steps=[('simpleimputer', SimpleImputer()),\n",
       "                                       ('standardscaler', StandardScaler()),\n",
       "                                       ('histgradientboostingregressor',\n",
       "                                        HistGradientBoostingRegressor(random_state=47))]),\n",
       "             param_grid={'histgradientboostingregressor__learning_rate': [0.03,\n",
       "                                                                          0.04,\n",
       "                                                                          0.05,\n",
       "                                                                          0.06],\n",
       "                         'histgradientboostingregressor__max_depth': [2, 3, 4,\n",
       "                                                                      5],\n",
       "                         'histgradientboostingregressor__max_iter': [100, 110,\n",
       "                                                                     120, 130,\n",
       "                                                                     140],\n",
       "                         'histgradientboostingregressor__max_leaf_nodes': [3, 4,\n",
       "                                                                           5,\n",
       "                                                                           6],\n",
       "                         'simpleimputer__strategy': ['median'],\n",
       "                         'standardscaler': [None]})"
      ]
     },
     "execution_count": 764,
     "metadata": {},
     "output_type": "execute_result"
    }
   ],
   "source": [
    "#`GridSearchCV`'s `fit()` method with `X_train` and `y_train` as arguments\n",
    "#to actually start the grid search. \n",
    "hgb_grid_cv.fit(X_train, y_train)"
   ]
  },
  {
   "cell_type": "code",
   "execution_count": 765,
   "id": "6b803963",
   "metadata": {},
   "outputs": [
    {
     "data": {
      "text/plain": [
       "{'histgradientboostingregressor__learning_rate': 0.03,\n",
       " 'histgradientboostingregressor__max_depth': 3,\n",
       " 'histgradientboostingregressor__max_iter': 140,\n",
       " 'histgradientboostingregressor__max_leaf_nodes': 4,\n",
       " 'simpleimputer__strategy': 'median',\n",
       " 'standardscaler': None}"
      ]
     },
     "execution_count": 765,
     "metadata": {},
     "output_type": "execute_result"
    }
   ],
   "source": [
    "#Best params (`best_params_` attribute) from the grid search    \n",
    "hgb_grid_cv.best_params_"
   ]
  },
  {
   "cell_type": "markdown",
   "id": "f36491bb",
   "metadata": {},
   "source": [
    "### Model Cross-Validation and Fit Metrics"
   ]
  },
  {
   "cell_type": "markdown",
   "id": "9d9a3232",
   "metadata": {},
   "source": [
    "#### R-Squared (Training Cross Validation, then Testing)"
   ]
  },
  {
   "cell_type": "code",
   "execution_count": 766,
   "id": "17b0bf21",
   "metadata": {},
   "outputs": [
    {
     "data": {
      "text/plain": [
       "array([0.57539403, 0.4568358 , 0.55169804, 0.57592273, 0.62733535])"
      ]
     },
     "execution_count": 766,
     "metadata": {},
     "output_type": "execute_result"
    }
   ],
   "source": [
    "#Cross-validation defaults to R^2 metric for scoring regression\n",
    "hgb_best_cv_results = cross_validate(hgb_grid_cv.best_estimator_, X_train, y_train, cv=5)\n",
    "hgb_best_scores = hgb_best_cv_results['test_score']\n",
    "hgb_best_scores"
   ]
  },
  {
   "cell_type": "code",
   "execution_count": 767,
   "id": "e381f22b",
   "metadata": {},
   "outputs": [
    {
     "data": {
      "text/plain": [
       "(0.5574371901972152, 0.056041935666062095)"
      ]
     },
     "execution_count": 767,
     "metadata": {},
     "output_type": "execute_result"
    }
   ],
   "source": [
    "#Training set CV mean and std\n",
    "np.mean(hgb_best_scores), np.std(hgb_best_scores)"
   ]
  },
  {
   "cell_type": "markdown",
   "id": "12817a1d",
   "metadata": {},
   "source": [
    "#### Mean Absolute Error (MAE)"
   ]
  },
  {
   "cell_type": "code",
   "execution_count": 768,
   "id": "e105655e",
   "metadata": {},
   "outputs": [],
   "source": [
    "hgb_neg_mae = cross_validate(hgb_grid_cv.best_estimator_, X_train, y_train, \n",
    "                            scoring='neg_mean_absolute_error', cv=5, n_jobs=-1)"
   ]
  },
  {
   "cell_type": "code",
   "execution_count": 769,
   "id": "6c4a8394",
   "metadata": {},
   "outputs": [
    {
     "data": {
      "text/plain": [
       "(2.4875818637238596, 0.2085960555561985)"
      ]
     },
     "execution_count": 769,
     "metadata": {},
     "output_type": "execute_result"
    }
   ],
   "source": [
    "#Training set CV mean and std\n",
    "hgb_mae_mean = np.mean(-1 * hgb_neg_mae['test_score'])\n",
    "hgb_mae_std = np.std(-1 * hgb_neg_mae['test_score'])\n",
    "hgb_mae_mean, hgb_mae_std"
   ]
  },
  {
   "cell_type": "code",
   "execution_count": 770,
   "id": "7ffb6dc0",
   "metadata": {},
   "outputs": [
    {
     "data": {
      "text/plain": [
       "2.606586247320671"
      ]
     },
     "execution_count": 770,
     "metadata": {},
     "output_type": "execute_result"
    }
   ],
   "source": [
    "# Test set mean\n",
    "mean_absolute_error(y_test, hgb_grid_cv.best_estimator_.predict(X_test))"
   ]
  },
  {
   "cell_type": "markdown",
   "id": "3c4cd2eb",
   "metadata": {},
   "source": [
    "#### Mean Squared Error (MSE)"
   ]
  },
  {
   "cell_type": "code",
   "execution_count": 771,
   "id": "2a47bccc",
   "metadata": {},
   "outputs": [],
   "source": [
    "hgb_neg_mse = cross_validate(hgb_grid_cv.best_estimator_, X_train, y_train, \n",
    "                            scoring='neg_mean_squared_error', cv= 5)"
   ]
  },
  {
   "cell_type": "code",
   "execution_count": 772,
   "id": "981e2931",
   "metadata": {},
   "outputs": [
    {
     "data": {
      "text/plain": [
       "(13.917974829330026, 2.7338106594158513)"
      ]
     },
     "execution_count": 772,
     "metadata": {},
     "output_type": "execute_result"
    }
   ],
   "source": [
    "#Training set CV mean and std\n",
    "hgb_mse_mean = np.mean(-1 * hgb_neg_mse['test_score'])\n",
    "hgb_mse_std = np.std(-1 * hgb_neg_mse['test_score'])\n",
    "hgb_mse_mean, hgb_mse_std"
   ]
  },
  {
   "cell_type": "code",
   "execution_count": 773,
   "id": "55f54f02",
   "metadata": {},
   "outputs": [
    {
     "data": {
      "text/plain": [
       "20.292914502850234"
      ]
     },
     "execution_count": 773,
     "metadata": {},
     "output_type": "execute_result"
    }
   ],
   "source": [
    "# Test set mean\n",
    "mean_squared_error(y_test, hgb_grid_cv.best_estimator_.predict(X_test))"
   ]
  },
  {
   "cell_type": "markdown",
   "id": "d540d410",
   "metadata": {},
   "source": [
    "#### Root Mean Squred Error (RMSE)"
   ]
  },
  {
   "cell_type": "code",
   "execution_count": 774,
   "id": "44eb6c47",
   "metadata": {},
   "outputs": [],
   "source": [
    "hgb_neg_rmse = cross_validate(hgb_grid_cv.best_estimator_, X_train, y_train, \n",
    "                            scoring='neg_root_mean_squared_error', cv=5)"
   ]
  },
  {
   "cell_type": "code",
   "execution_count": 775,
   "id": "a1c88bf4",
   "metadata": {
    "scrolled": true
   },
   "outputs": [
    {
     "data": {
      "text/plain": [
       "(3.71011523566344, 0.39117741170476766)"
      ]
     },
     "execution_count": 775,
     "metadata": {},
     "output_type": "execute_result"
    }
   ],
   "source": [
    "#Training set CV mean and std\n",
    "hgb_rmse_mean = np.mean(-1 * hgb_neg_rmse['test_score'])\n",
    "hgb_rmse_std = np.std(-1 * hgb_neg_rmse['test_score'])\n",
    "hgb_rmse_mean, hgb_rmse_std"
   ]
  },
  {
   "cell_type": "code",
   "execution_count": 776,
   "id": "8269eb7e",
   "metadata": {},
   "outputs": [
    {
     "data": {
      "text/plain": [
       "4.5047657544927056"
      ]
     },
     "execution_count": 776,
     "metadata": {},
     "output_type": "execute_result"
    }
   ],
   "source": [
    "# Test set mean\n",
    "np.sqrt(mean_squared_error(y_test, hgb_grid_cv.best_estimator_.predict(X_test)))"
   ]
  },
  {
   "cell_type": "markdown",
   "id": "477135ee",
   "metadata": {},
   "source": [
    "Hist Gradient Boosting Regressor RMSE Train(STD)/Test for different explored hyperparameter values (summarized below each)\n",
    "\n",
    "(3.71011523566344, 0.39117741170476766), 4.5047657544927056\n",
    "{'histgradientboostingregressor__learning_rate': 0.03,\n",
    " 'histgradientboostingregressor__max_depth': 3,\n",
    " 'histgradientboostingregressor__max_iter': 140,\n",
    " 'histgradientboostingregressor__max_leaf_nodes': 4,\n",
    " 'simpleimputer__strategy': 'median',\n",
    " 'standardscaler': None}"
   ]
  },
  {
   "cell_type": "markdown",
   "id": "129971e3",
   "metadata": {},
   "source": [
    "## Save Best Model Object From Pipeline "
   ]
  },
  {
   "cell_type": "code",
   "execution_count": 291,
   "id": "14e1985a",
   "metadata": {},
   "outputs": [],
   "source": [
    "best_model = lr_grid_cv.best_estimator_\n",
    "best_model.version = '1.0'\n",
    "best_model.pandas_version = pd.__version__\n",
    "best_model.numpy_version = np.__version__\n",
    "best_model.sklearn_version = sklearn_version\n",
    "best_model.X_columns = [col for col in X_train.columns]\n",
    "best_model.build_datetime = datetime.datetime.now()"
   ]
  },
  {
   "cell_type": "code",
   "execution_count": 292,
   "id": "851c98c2",
   "metadata": {},
   "outputs": [
    {
     "name": "stdout",
     "output_type": "stream",
     "text": [
      "Writing file.  \"../models\\IS1_Sat_model_lr.pkl\"\n"
     ]
    }
   ],
   "source": [
    "# save the model\n",
    "modelpath = '../models'\n",
    "save_file(best_model, 'IS1_Sat_model_lr.pkl', modelpath)"
   ]
  },
  {
   "cell_type": "markdown",
   "id": "a93c16a1",
   "metadata": {},
   "source": [
    "### Data Quality Assessment"
   ]
  },
  {
   "cell_type": "markdown",
   "id": "9a002c98",
   "metadata": {},
   "source": [
    "Because the LR Model turned out to be the best of the four models tested (in terms of cross-validation RMSE), a Data Quality Assessment was run on this model to see if results are not hindered by sample size. Unfortunately, it does seem like CV scores were still rising at the size of the training set used to generate the model (~600). "
   ]
  },
  {
   "cell_type": "code",
   "execution_count": 293,
   "id": "4accb13a",
   "metadata": {},
   "outputs": [
    {
     "name": "stderr",
     "output_type": "stream",
     "text": [
      "C:\\Users\\jraks\\anaconda3\\lib\\site-packages\\sklearn\\feature_selection\\_univariate_selection.py:301: RuntimeWarning: invalid value encountered in true_divide\n",
      "  corr /= X_norms\n",
      "C:\\Users\\jraks\\anaconda3\\lib\\site-packages\\sklearn\\feature_selection\\_univariate_selection.py:301: RuntimeWarning: invalid value encountered in true_divide\n",
      "  corr /= X_norms\n",
      "C:\\Users\\jraks\\anaconda3\\lib\\site-packages\\sklearn\\feature_selection\\_univariate_selection.py:301: RuntimeWarning: invalid value encountered in true_divide\n",
      "  corr /= X_norms\n",
      "C:\\Users\\jraks\\anaconda3\\lib\\site-packages\\sklearn\\feature_selection\\_univariate_selection.py:301: RuntimeWarning: invalid value encountered in true_divide\n",
      "  corr /= X_norms\n",
      "C:\\Users\\jraks\\anaconda3\\lib\\site-packages\\sklearn\\feature_selection\\_univariate_selection.py:301: RuntimeWarning: invalid value encountered in true_divide\n",
      "  corr /= X_norms\n",
      "C:\\Users\\jraks\\anaconda3\\lib\\site-packages\\sklearn\\feature_selection\\_univariate_selection.py:301: RuntimeWarning: invalid value encountered in true_divide\n",
      "  corr /= X_norms\n",
      "C:\\Users\\jraks\\anaconda3\\lib\\site-packages\\sklearn\\feature_selection\\_univariate_selection.py:301: RuntimeWarning: invalid value encountered in true_divide\n",
      "  corr /= X_norms\n",
      "C:\\Users\\jraks\\anaconda3\\lib\\site-packages\\sklearn\\feature_selection\\_univariate_selection.py:301: RuntimeWarning: invalid value encountered in true_divide\n",
      "  corr /= X_norms\n",
      "C:\\Users\\jraks\\anaconda3\\lib\\site-packages\\sklearn\\feature_selection\\_univariate_selection.py:301: RuntimeWarning: invalid value encountered in true_divide\n",
      "  corr /= X_norms\n",
      "C:\\Users\\jraks\\anaconda3\\lib\\site-packages\\sklearn\\feature_selection\\_univariate_selection.py:301: RuntimeWarning: invalid value encountered in true_divide\n",
      "  corr /= X_norms\n",
      "C:\\Users\\jraks\\anaconda3\\lib\\site-packages\\sklearn\\feature_selection\\_univariate_selection.py:301: RuntimeWarning: invalid value encountered in true_divide\n",
      "  corr /= X_norms\n",
      "C:\\Users\\jraks\\anaconda3\\lib\\site-packages\\sklearn\\feature_selection\\_univariate_selection.py:301: RuntimeWarning: invalid value encountered in true_divide\n",
      "  corr /= X_norms\n",
      "C:\\Users\\jraks\\anaconda3\\lib\\site-packages\\sklearn\\feature_selection\\_univariate_selection.py:301: RuntimeWarning: invalid value encountered in true_divide\n",
      "  corr /= X_norms\n",
      "C:\\Users\\jraks\\anaconda3\\lib\\site-packages\\sklearn\\feature_selection\\_univariate_selection.py:301: RuntimeWarning: invalid value encountered in true_divide\n",
      "  corr /= X_norms\n",
      "C:\\Users\\jraks\\anaconda3\\lib\\site-packages\\sklearn\\feature_selection\\_univariate_selection.py:301: RuntimeWarning: invalid value encountered in true_divide\n",
      "  corr /= X_norms\n",
      "C:\\Users\\jraks\\anaconda3\\lib\\site-packages\\sklearn\\feature_selection\\_univariate_selection.py:301: RuntimeWarning: invalid value encountered in true_divide\n",
      "  corr /= X_norms\n",
      "C:\\Users\\jraks\\anaconda3\\lib\\site-packages\\sklearn\\feature_selection\\_univariate_selection.py:301: RuntimeWarning: invalid value encountered in true_divide\n",
      "  corr /= X_norms\n",
      "C:\\Users\\jraks\\anaconda3\\lib\\site-packages\\sklearn\\feature_selection\\_univariate_selection.py:301: RuntimeWarning: invalid value encountered in true_divide\n",
      "  corr /= X_norms\n",
      "C:\\Users\\jraks\\anaconda3\\lib\\site-packages\\sklearn\\feature_selection\\_univariate_selection.py:301: RuntimeWarning: invalid value encountered in true_divide\n",
      "  corr /= X_norms\n",
      "C:\\Users\\jraks\\anaconda3\\lib\\site-packages\\sklearn\\feature_selection\\_univariate_selection.py:301: RuntimeWarning: invalid value encountered in true_divide\n",
      "  corr /= X_norms\n",
      "C:\\Users\\jraks\\anaconda3\\lib\\site-packages\\sklearn\\feature_selection\\_univariate_selection.py:301: RuntimeWarning: invalid value encountered in true_divide\n",
      "  corr /= X_norms\n",
      "C:\\Users\\jraks\\anaconda3\\lib\\site-packages\\sklearn\\feature_selection\\_univariate_selection.py:301: RuntimeWarning: invalid value encountered in true_divide\n",
      "  corr /= X_norms\n",
      "C:\\Users\\jraks\\anaconda3\\lib\\site-packages\\sklearn\\feature_selection\\_univariate_selection.py:301: RuntimeWarning: invalid value encountered in true_divide\n",
      "  corr /= X_norms\n",
      "C:\\Users\\jraks\\anaconda3\\lib\\site-packages\\sklearn\\feature_selection\\_univariate_selection.py:301: RuntimeWarning: invalid value encountered in true_divide\n",
      "  corr /= X_norms\n",
      "C:\\Users\\jraks\\anaconda3\\lib\\site-packages\\sklearn\\feature_selection\\_univariate_selection.py:301: RuntimeWarning: invalid value encountered in true_divide\n",
      "  corr /= X_norms\n",
      "C:\\Users\\jraks\\anaconda3\\lib\\site-packages\\sklearn\\feature_selection\\_univariate_selection.py:301: RuntimeWarning: invalid value encountered in true_divide\n",
      "  corr /= X_norms\n",
      "C:\\Users\\jraks\\anaconda3\\lib\\site-packages\\sklearn\\feature_selection\\_univariate_selection.py:301: RuntimeWarning: invalid value encountered in true_divide\n",
      "  corr /= X_norms\n",
      "C:\\Users\\jraks\\anaconda3\\lib\\site-packages\\sklearn\\feature_selection\\_univariate_selection.py:301: RuntimeWarning: invalid value encountered in true_divide\n",
      "  corr /= X_norms\n",
      "C:\\Users\\jraks\\anaconda3\\lib\\site-packages\\sklearn\\feature_selection\\_univariate_selection.py:301: RuntimeWarning: invalid value encountered in true_divide\n",
      "  corr /= X_norms\n",
      "C:\\Users\\jraks\\anaconda3\\lib\\site-packages\\sklearn\\feature_selection\\_univariate_selection.py:301: RuntimeWarning: invalid value encountered in true_divide\n",
      "  corr /= X_norms\n",
      "C:\\Users\\jraks\\anaconda3\\lib\\site-packages\\sklearn\\feature_selection\\_univariate_selection.py:301: RuntimeWarning: invalid value encountered in true_divide\n",
      "  corr /= X_norms\n",
      "C:\\Users\\jraks\\anaconda3\\lib\\site-packages\\sklearn\\feature_selection\\_univariate_selection.py:301: RuntimeWarning: invalid value encountered in true_divide\n",
      "  corr /= X_norms\n",
      "C:\\Users\\jraks\\anaconda3\\lib\\site-packages\\sklearn\\feature_selection\\_univariate_selection.py:301: RuntimeWarning: invalid value encountered in true_divide\n",
      "  corr /= X_norms\n",
      "C:\\Users\\jraks\\anaconda3\\lib\\site-packages\\sklearn\\feature_selection\\_univariate_selection.py:301: RuntimeWarning: invalid value encountered in true_divide\n",
      "  corr /= X_norms\n",
      "C:\\Users\\jraks\\anaconda3\\lib\\site-packages\\sklearn\\feature_selection\\_univariate_selection.py:301: RuntimeWarning: invalid value encountered in true_divide\n",
      "  corr /= X_norms\n",
      "C:\\Users\\jraks\\anaconda3\\lib\\site-packages\\sklearn\\feature_selection\\_univariate_selection.py:301: RuntimeWarning: invalid value encountered in true_divide\n",
      "  corr /= X_norms\n",
      "C:\\Users\\jraks\\anaconda3\\lib\\site-packages\\sklearn\\feature_selection\\_univariate_selection.py:301: RuntimeWarning: invalid value encountered in true_divide\n",
      "  corr /= X_norms\n",
      "C:\\Users\\jraks\\anaconda3\\lib\\site-packages\\sklearn\\feature_selection\\_univariate_selection.py:301: RuntimeWarning: invalid value encountered in true_divide\n",
      "  corr /= X_norms\n",
      "C:\\Users\\jraks\\anaconda3\\lib\\site-packages\\sklearn\\feature_selection\\_univariate_selection.py:301: RuntimeWarning: invalid value encountered in true_divide\n",
      "  corr /= X_norms\n",
      "C:\\Users\\jraks\\anaconda3\\lib\\site-packages\\sklearn\\feature_selection\\_univariate_selection.py:301: RuntimeWarning: invalid value encountered in true_divide\n",
      "  corr /= X_norms\n",
      "C:\\Users\\jraks\\anaconda3\\lib\\site-packages\\sklearn\\feature_selection\\_univariate_selection.py:301: RuntimeWarning: invalid value encountered in true_divide\n",
      "  corr /= X_norms\n",
      "C:\\Users\\jraks\\anaconda3\\lib\\site-packages\\sklearn\\feature_selection\\_univariate_selection.py:301: RuntimeWarning: invalid value encountered in true_divide\n",
      "  corr /= X_norms\n",
      "C:\\Users\\jraks\\anaconda3\\lib\\site-packages\\sklearn\\feature_selection\\_univariate_selection.py:301: RuntimeWarning: invalid value encountered in true_divide\n",
      "  corr /= X_norms\n",
      "C:\\Users\\jraks\\anaconda3\\lib\\site-packages\\sklearn\\feature_selection\\_univariate_selection.py:301: RuntimeWarning: invalid value encountered in true_divide\n",
      "  corr /= X_norms\n",
      "C:\\Users\\jraks\\anaconda3\\lib\\site-packages\\sklearn\\feature_selection\\_univariate_selection.py:301: RuntimeWarning: invalid value encountered in true_divide\n",
      "  corr /= X_norms\n",
      "C:\\Users\\jraks\\anaconda3\\lib\\site-packages\\sklearn\\feature_selection\\_univariate_selection.py:301: RuntimeWarning: invalid value encountered in true_divide\n",
      "  corr /= X_norms\n",
      "C:\\Users\\jraks\\anaconda3\\lib\\site-packages\\sklearn\\feature_selection\\_univariate_selection.py:301: RuntimeWarning: invalid value encountered in true_divide\n",
      "  corr /= X_norms\n",
      "C:\\Users\\jraks\\anaconda3\\lib\\site-packages\\sklearn\\feature_selection\\_univariate_selection.py:301: RuntimeWarning: invalid value encountered in true_divide\n",
      "  corr /= X_norms\n",
      "C:\\Users\\jraks\\anaconda3\\lib\\site-packages\\sklearn\\feature_selection\\_univariate_selection.py:301: RuntimeWarning: invalid value encountered in true_divide\n",
      "  corr /= X_norms\n",
      "C:\\Users\\jraks\\anaconda3\\lib\\site-packages\\sklearn\\feature_selection\\_univariate_selection.py:301: RuntimeWarning: invalid value encountered in true_divide\n",
      "  corr /= X_norms\n",
      "C:\\Users\\jraks\\anaconda3\\lib\\site-packages\\sklearn\\feature_selection\\_univariate_selection.py:301: RuntimeWarning: invalid value encountered in true_divide\n",
      "  corr /= X_norms\n"
     ]
    },
    {
     "name": "stderr",
     "output_type": "stream",
     "text": [
      "C:\\Users\\jraks\\anaconda3\\lib\\site-packages\\sklearn\\feature_selection\\_univariate_selection.py:301: RuntimeWarning: invalid value encountered in true_divide\n",
      "  corr /= X_norms\n",
      "C:\\Users\\jraks\\anaconda3\\lib\\site-packages\\sklearn\\feature_selection\\_univariate_selection.py:301: RuntimeWarning: invalid value encountered in true_divide\n",
      "  corr /= X_norms\n",
      "C:\\Users\\jraks\\anaconda3\\lib\\site-packages\\sklearn\\feature_selection\\_univariate_selection.py:301: RuntimeWarning: invalid value encountered in true_divide\n",
      "  corr /= X_norms\n",
      "C:\\Users\\jraks\\anaconda3\\lib\\site-packages\\sklearn\\feature_selection\\_univariate_selection.py:301: RuntimeWarning: invalid value encountered in true_divide\n",
      "  corr /= X_norms\n",
      "C:\\Users\\jraks\\anaconda3\\lib\\site-packages\\sklearn\\feature_selection\\_univariate_selection.py:301: RuntimeWarning: invalid value encountered in true_divide\n",
      "  corr /= X_norms\n",
      "C:\\Users\\jraks\\anaconda3\\lib\\site-packages\\sklearn\\feature_selection\\_univariate_selection.py:301: RuntimeWarning: invalid value encountered in true_divide\n",
      "  corr /= X_norms\n",
      "C:\\Users\\jraks\\anaconda3\\lib\\site-packages\\sklearn\\feature_selection\\_univariate_selection.py:301: RuntimeWarning: invalid value encountered in true_divide\n",
      "  corr /= X_norms\n",
      "C:\\Users\\jraks\\anaconda3\\lib\\site-packages\\sklearn\\feature_selection\\_univariate_selection.py:301: RuntimeWarning: invalid value encountered in true_divide\n",
      "  corr /= X_norms\n",
      "C:\\Users\\jraks\\anaconda3\\lib\\site-packages\\sklearn\\feature_selection\\_univariate_selection.py:301: RuntimeWarning: invalid value encountered in true_divide\n",
      "  corr /= X_norms\n"
     ]
    }
   ],
   "source": [
    "fractions = [.2, .25, .3, .35, .4, .45, .5, .6, .75, .8, .9, 1.0]\n",
    "train_size, train_scores, test_scores = learning_curve(lr_pipe, X_train, y_train, train_sizes=fractions)\n",
    "train_scores_mean = np.mean(train_scores, axis=1)\n",
    "train_scores_std = np.std(train_scores, axis=1)\n",
    "test_scores_mean = np.mean(test_scores, axis=1)\n",
    "test_scores_std = np.std(test_scores, axis=1)"
   ]
  },
  {
   "cell_type": "code",
   "execution_count": 294,
   "id": "ab56b769",
   "metadata": {},
   "outputs": [
    {
     "data": {
      "image/png": "[encoded data removed]",
      "text/plain": [
       "<Figure size 720x360 with 1 Axes>"
      ]
     },
     "metadata": {
      "needs_background": "light"
     },
     "output_type": "display_data"
    }
   ],
   "source": [
    "plt.subplots(figsize=(10, 5))\n",
    "plt.errorbar(train_size, test_scores_mean, yerr=test_scores_std)\n",
    "plt.xlabel('Training set size')\n",
    "plt.ylabel('CV scores')\n",
    "plt.title('Cross-validation score as training set size increases');"
   ]
  },
  {
   "cell_type": "markdown",
   "id": "1a907384",
   "metadata": {},
   "source": [
    "\n",
    "## Conclusions\n"
   ]
  },
  {
   "cell_type": "code",
   "execution_count": null,
   "id": "deb48de1",
   "metadata": {},
   "outputs": [],
   "source": []
  }
 ],
 "metadata": {
  "kernelspec": {
   "display_name": "Python 3",
   "language": "python",
   "name": "python3"
  },
  "language_info": {
   "codemirror_mode": {
    "name": "ipython",
    "version": 3
   },
   "file_extension": ".py",
   "mimetype": "text/x-python",
   "name": "python",
   "nbconvert_exporter": "python",
   "pygments_lexer": "ipython3",
   "version": "3.8.8"
  }
 },
 "nbformat": 4,
 "nbformat_minor": 5
}
