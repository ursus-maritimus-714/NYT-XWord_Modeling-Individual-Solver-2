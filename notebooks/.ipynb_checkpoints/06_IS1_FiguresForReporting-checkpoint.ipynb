{
 "cells": [
  {
   "cell_type": "code",
   "execution_count": 2,
   "id": "1db3739c",
   "metadata": {},
   "outputs": [],
   "source": [
    "import pandas as pd\n",
    "import numpy as np\n",
    "import os\n",
    "import matplotlib.pyplot as plt\n",
    "import seaborn as sns"
   ]
  },
  {
   "cell_type": "markdown",
   "id": "cb053fad",
   "metadata": {},
   "source": [
    "* Figures 1-5 were generated during the EDA process and were taken for the Github Readme from 02_IS1_EDA. \n",
    "* Figure 6 is a Methods schematic figure that was created in Power Point and can be found in the project Reporting folder in the 'layouts for IS1 summary' ppt deck. \n",
    "* Figure S1 comes from 04_IS1_Modeling (3 different components from ______ modeling sequence)"
   ]
  },
  {
   "cell_type": "markdown",
   "id": "30b97eec",
   "metadata": {},
   "source": [
    "### Figure 7. Best Model Prediction Quality vs Benchmark Models\n",
    "Data imported from 03_IS1_Preprocessing_Training-CompletionRangeFiltered, 04_IS1_Modeling\n",
    "Best model was Linear Model (see notebook 4 for hyperparameters, other metrics besides RMSE, etc. for all models tested)"
   ]
  },
  {
   "cell_type": "code",
   "execution_count": 27,
   "id": "aff5cb4d",
   "metadata": {},
   "outputs": [
    {
     "data": {
      "text/html": [
       "<div>\n",
       "<style scoped>\n",
       "    .dataframe tbody tr th:only-of-type {\n",
       "        vertical-align: middle;\n",
       "    }\n",
       "\n",
       "    .dataframe tbody tr th {\n",
       "        vertical-align: top;\n",
       "    }\n",
       "\n",
       "    .dataframe thead th {\n",
       "        text-align: right;\n",
       "    }\n",
       "</style>\n",
       "<table border=\"1\" class=\"dataframe\">\n",
       "  <thead>\n",
       "    <tr style=\"text-align: right;\">\n",
       "      <th></th>\n",
       "      <th>Model_Inclusion</th>\n",
       "      <th>Training_Error</th>\n",
       "      <th>Training_SD</th>\n",
       "      <th>Testing_Error</th>\n",
       "    </tr>\n",
       "  </thead>\n",
       "  <tbody>\n",
       "    <tr>\n",
       "      <th>0</th>\n",
       "      <td>Full_Best_Model</td>\n",
       "      <td>3.657628</td>\n",
       "      <td>0.357871</td>\n",
       "      <td>4.341769</td>\n",
       "    </tr>\n",
       "    <tr>\n",
       "      <th>1</th>\n",
       "      <td>Mean_Sample_PDS_IST</td>\n",
       "      <td>3.934848</td>\n",
       "      <td>0.439663</td>\n",
       "      <td>4.924585</td>\n",
       "    </tr>\n",
       "    <tr>\n",
       "      <th>2</th>\n",
       "      <td>Dummy</td>\n",
       "      <td>5.669036</td>\n",
       "      <td>0.000000</td>\n",
       "      <td>6.526441</td>\n",
       "    </tr>\n",
       "  </tbody>\n",
       "</table>\n",
       "</div>"
      ],
      "text/plain": [
       "       Model_Inclusion  Training_Error  Training_SD  Testing_Error\n",
       "0      Full_Best_Model        3.657628     0.357871       4.341769\n",
       "1  Mean_Sample_PDS_IST        3.934848     0.439663       4.924585\n",
       "2                Dummy        5.669036     0.000000       6.526441"
      ]
     },
     "execution_count": 27,
     "metadata": {},
     "output_type": "execute_result"
    }
   ],
   "source": [
    "data = [[\"Full_Best_Model\", 3.6576275603144737, 0.35787124061554904, 4.341768697826479], [\"Mean_Sample_PDS_IST\", 3.9348477610902455, 0.4396629426824221, 4.9245853154104084], [\"Dummy\", 5.669036150590403, 0, 6.526441222513043]]\n",
    "df = pd.DataFrame(data, columns=[\"Model_Inclusion\", \"Training_Error\", \"Training_SD\", \"Testing_Error\"])\n",
    "df"
   ]
  },
  {
   "cell_type": "code",
   "execution_count": 28,
   "id": "93e2d2b2",
   "metadata": {},
   "outputs": [
    {
     "data": {
      "text/plain": [
       "(2.0, 6.0)"
      ]
     },
     "execution_count": 28,
     "metadata": {},
     "output_type": "execute_result"
    },
    {
     "data": {
      "image/png": "[encoded data removed]",
      "text/plain": [
       "<Figure size 432x288 with 1 Axes>"
      ]
     },
     "metadata": {
      "needs_background": "light"
     },
     "output_type": "display_data"
    }
   ],
   "source": [
    "#plt.figure(figsize=(20, 10))\n",
    "g = sns.barplot(x=\"Model_Inclusion\",y=\"Training_Error\",data=df, palette = [\"gray\", \"rosybrown\", \"tan\"], yerr=df[\"Training_SD\"]*1)\n",
    "g.set_ylabel(\"training_error (mean + sd)\")\n",
    "#g.set(xticklabels=[\"\", \"\"])\n",
    "g.set_xlabel(\"Model_Error\")\n",
    "g.set_ylim(2,6)"
   ]
  },
  {
   "cell_type": "code",
   "execution_count": 7,
   "id": "51db096c",
   "metadata": {},
   "outputs": [],
   "source": [
    "###### Mean target feature (IS1_ST, in minutes) value for training set across all 15x15 puzzles\n",
    "y_train_mean = 10.948439073514596"
   ]
  },
  {
   "cell_type": "code",
   "execution_count": 8,
   "id": "21f7e01c",
   "metadata": {},
   "outputs": [
    {
     "data": {
      "text/plain": [
       "33.40775370584701"
      ]
     },
     "execution_count": 8,
     "metadata": {},
     "output_type": "execute_result"
    }
   ],
   "source": [
    "# Calculate % difference from training set mean solve time represented by Full_Best_Model mean error\n",
    "error_pct = (df['Training_Error'][0]/y_train_mean)*100\n",
    "error_pct"
   ]
  },
  {
   "cell_type": "code",
   "execution_count": 9,
   "id": "cec3feef",
   "metadata": {},
   "outputs": [
    {
     "data": {
      "text/plain": [
       "35.93980598210615"
      ]
     },
     "execution_count": 9,
     "metadata": {},
     "output_type": "execute_result"
    }
   ],
   "source": [
    "# Calculate % difference from training set mean solve time represented by Mean PDS IST_ST mean error\n",
    "error_pct = (df['Training_Error'][1]/y_train_mean)*100\n",
    "error_pct"
   ]
  },
  {
   "cell_type": "code",
   "execution_count": 10,
   "id": "b2be4aed",
   "metadata": {},
   "outputs": [
    {
     "data": {
      "text/plain": [
       "51.77940081252665"
      ]
     },
     "execution_count": 10,
     "metadata": {},
     "output_type": "execute_result"
    }
   ],
   "source": [
    "# Calculate % difference from training set mean solve time represented by Dummy mean error\n",
    "error_pct = (df['Training_Error'][2]/y_train_mean)*100\n",
    "error_pct"
   ]
  },
  {
   "cell_type": "markdown",
   "id": "fac961b0",
   "metadata": {},
   "source": [
    "### Figure 8. Effect on Model Prediction Quality of Removing Individual Feature Classes or Adjustments from the Best Model\n",
    "Data imported from 03_IS1_Preprocessing_Training, 04_IS1_Modeling, and 04b_IS1_Modeling-FeatureSubtraction\n",
    "No SOS Adjustment feature set generated in 01_IS1_Cleaning_Wrangling_Feature_Dev_no_SOS_adj"
   ]
  },
  {
   "cell_type": "code",
   "execution_count": 16,
   "id": "e203e9d1",
   "metadata": {},
   "outputs": [
    {
     "data": {
      "text/plain": [
       "((3.9237891580818434, 0.17084864389881455), 3.945620457590663)"
      ]
     },
     "execution_count": 16,
     "metadata": {},
     "output_type": "execute_result"
    }
   ],
   "source": [
    "# Best Full Model\n",
    "(3.6576275603144737, 0.35787124061554904), 4.341768697826479\n",
    "\n",
    "# No Past Performance Features OR DOW\n",
    "(4.2090923169686985, 0.302239527452649), 4.873290581646699\n",
    "\n",
    "# No Past Performance features\n",
    "(3.998957235338237, 0.41343196696526024), 4.912080974029068\n",
    "\n",
    "# No Strength of Schedule Adjustment\n",
    "(3.7127535627278427, 0.328298300910806), 4.376742377042998\n",
    "\n",
    "# No CLue Features\n",
    "(3.6576275603144737, 0.35787124061554904), 4.341768697826479\n",
    "\n",
    "# No Circadian Features\n",
    "(3.6576275603144737, 0.35787124061554904)\n",
    "\n",
    "# No Answer Features\n",
    "(3.657345673057113, 0.37116729125593106), 4.471893067285644\n",
    "\n",
    "# No DOW\n",
    "(3.656506872825182, 0.35491500653515295), 4.311575286910146\n",
    "\n",
    "# No Grid Features\n",
    "(3.6365854967011773, 0.39116845852005194), 4.428549312002281"
   ]
  },
  {
   "cell_type": "code",
   "execution_count": 30,
   "id": "add54520",
   "metadata": {},
   "outputs": [
    {
     "data": {
      "text/html": [
       "<div>\n",
       "<style scoped>\n",
       "    .dataframe tbody tr th:only-of-type {\n",
       "        vertical-align: middle;\n",
       "    }\n",
       "\n",
       "    .dataframe tbody tr th {\n",
       "        vertical-align: top;\n",
       "    }\n",
       "\n",
       "    .dataframe thead th {\n",
       "        text-align: right;\n",
       "    }\n",
       "</style>\n",
       "<table border=\"1\" class=\"dataframe\">\n",
       "  <thead>\n",
       "    <tr style=\"text-align: right;\">\n",
       "      <th></th>\n",
       "      <th>Model Inclusion</th>\n",
       "      <th>Training Error</th>\n",
       "      <th>Training SD</th>\n",
       "    </tr>\n",
       "  </thead>\n",
       "  <tbody>\n",
       "    <tr>\n",
       "      <th>0</th>\n",
       "      <td>Best Model</td>\n",
       "      <td>3.657628</td>\n",
       "      <td>0.357871</td>\n",
       "    </tr>\n",
       "    <tr>\n",
       "      <th>1</th>\n",
       "      <td>-Past Performance Features and DOW</td>\n",
       "      <td>4.209092</td>\n",
       "      <td>0.302240</td>\n",
       "    </tr>\n",
       "    <tr>\n",
       "      <th>2</th>\n",
       "      <td>-Past Performance Features</td>\n",
       "      <td>3.998957</td>\n",
       "      <td>0.413432</td>\n",
       "    </tr>\n",
       "    <tr>\n",
       "      <th>3</th>\n",
       "      <td>-SOS Adjustment</td>\n",
       "      <td>3.712754</td>\n",
       "      <td>0.328298</td>\n",
       "    </tr>\n",
       "    <tr>\n",
       "      <th>4</th>\n",
       "      <td>-Clue Features</td>\n",
       "      <td>3.657628</td>\n",
       "      <td>0.357871</td>\n",
       "    </tr>\n",
       "    <tr>\n",
       "      <th>5</th>\n",
       "      <td>-Circadian Features</td>\n",
       "      <td>3.657628</td>\n",
       "      <td>0.357871</td>\n",
       "    </tr>\n",
       "    <tr>\n",
       "      <th>6</th>\n",
       "      <td>-Answer Features</td>\n",
       "      <td>3.657346</td>\n",
       "      <td>0.371167</td>\n",
       "    </tr>\n",
       "    <tr>\n",
       "      <th>7</th>\n",
       "      <td>-DOW</td>\n",
       "      <td>3.656507</td>\n",
       "      <td>0.354915</td>\n",
       "    </tr>\n",
       "    <tr>\n",
       "      <th>8</th>\n",
       "      <td>-Grid Features</td>\n",
       "      <td>3.636585</td>\n",
       "      <td>0.391168</td>\n",
       "    </tr>\n",
       "  </tbody>\n",
       "</table>\n",
       "</div>"
      ],
      "text/plain": [
       "                      Model Inclusion  Training Error  Training SD\n",
       "0                          Best Model        3.657628     0.357871\n",
       "1  -Past Performance Features and DOW        4.209092     0.302240\n",
       "2          -Past Performance Features        3.998957     0.413432\n",
       "3                     -SOS Adjustment        3.712754     0.328298\n",
       "4                      -Clue Features        3.657628     0.357871\n",
       "5                 -Circadian Features        3.657628     0.357871\n",
       "6                    -Answer Features        3.657346     0.371167\n",
       "7                                -DOW        3.656507     0.354915\n",
       "8                      -Grid Features        3.636585     0.391168"
      ]
     },
     "execution_count": 30,
     "metadata": {},
     "output_type": "execute_result"
    }
   ],
   "source": [
    "#Feature subtraction modeling by feature class DF creation (raw data above)\n",
    "data = [[\"Best Model\", 3.6576275603144737, 0.35787124061554904], [\"-Past Performance Features and DOW\", 4.2090923169686985, 0.302239527452649], [\"-Past Performance Features\", 3.998957235338237, 0.41343196696526024], [\"-SOS Adjustment\", 3.7127535627278427, 0.328298300910806], [\"-Clue Features\", 3.6576275603144737, 0.35787124061554904], [\"-Circadian Features\", 3.6576275603144737, 0.35787124061554904], [\"-Answer Features\", 3.657345673057113, 0.37116729125593106], [\"-DOW\", 3.656506872825182, 0.35491500653515295], [\"-Grid Features\", 3.6365854967011773, 0.39116845852005194]]\n",
    "df = pd.DataFrame(data, columns=[\"Model Inclusion\", \"Training Error\", \"Training SD\"])\n",
    "df"
   ]
  },
  {
   "cell_type": "code",
   "execution_count": 21,
   "id": "cf7c280f",
   "metadata": {},
   "outputs": [
    {
     "data": {
      "text/plain": [
       "(3.6576275603144737, 3.7127535627278427)"
      ]
     },
     "execution_count": 21,
     "metadata": {},
     "output_type": "execute_result"
    }
   ],
   "source": [
    "data[0][1], data[3][1]"
   ]
  },
  {
   "cell_type": "code",
   "execution_count": 31,
   "id": "9e5fecae",
   "metadata": {},
   "outputs": [
    {
     "data": {
      "image/png": "[encoded data removed]",
      "text/plain": [
       "<Figure size 1800x720 with 1 Axes>"
      ]
     },
     "metadata": {
      "needs_background": "light"
     },
     "output_type": "display_data"
    }
   ],
   "source": [
    "#subtraction modeling bar plot - all classes (Fig. 9)\n",
    "plt.figure(figsize=(25, 10))\n",
    "g = sns.barplot(x=\"Model Inclusion\",y=\"Training Error\",data=df, palette = [\"gray\",\"cornflowerblue\", \"navy\", \"red\", \"green\", \"yellow\",\"darkgreen\",\"lime\", \"mediumseagreen\"], yerr=df[\"Training SD\"]*1)\n",
    "g.set_ylabel(\"training_error (mean +- sd)\")\n",
    "#g.set(xticklabels=[\"\", \"\"])\n",
    "g.set_xlabel(\"Model_Error\")\n",
    "g.set_ylim(3,5);\n",
    "\n",
    "# Define some hatches\n",
    "hatches = ['', '', '', '\\\\', '', '', '','','']\n",
    "\n",
    "# Loop over the bars\n",
    "for i,thisbar in enumerate(g.patches):\n",
    "    # Set a different hatch for each bar\n",
    "    thisbar.set_hatch(hatches[i])"
   ]
  },
  {
   "cell_type": "code",
   "execution_count": 25,
   "id": "c3fa4f3f",
   "metadata": {},
   "outputs": [
    {
     "name": "stdout",
     "output_type": "stream",
     "text": [
      "13.101750095407228\n",
      "8.53546699643297\n",
      "1.48477407622139\n",
      "0.0\n",
      "0.0\n",
      "-0.007707427258989284\n",
      "-0.030649128478886505\n",
      "-0.5786214467495432\n"
     ]
    }
   ],
   "source": [
    "# Percentage Change From Best Model\n",
    "PPF_DOW_diff = ((data[1][1]- data[0][1])/(abs(data[1][1])))*100 \n",
    "print(PPF_DOW_diff)\n",
    "\n",
    "PPF_diff = ((data[2][1] - data[0][1])/(abs(data[2][1])))*100 \n",
    "print(PPF_diff)\n",
    "\n",
    "SOS_adj_diff = ((data[3][1] - data[0][1])/(abs(data[3][1])))*100 \n",
    "print(SOS_adj_diff)\n",
    "\n",
    "CLU_diff = ((data[4][1] - data[0][1])/(abs(data[4][1])))*100 \n",
    "print(CLU_diff)\n",
    "\n",
    "CIRC_diff = ((data[5][1] - data[0][1])/(abs(data[5][1])))*100 \n",
    "print(CIRC_diff)\n",
    "\n",
    "ANS_diff = ((data[6][1] - data[0][1])/(abs(data[6][1])))*100 \n",
    "print(ANS_diff)\n",
    "\n",
    "PDOW_diff = ((data[7][1] - data[0][1])/(abs(data[7][1])))*100 \n",
    "print(PDOW_diff)\n",
    "\n",
    "GRD_diff = ((data[8][1] - data[0][1])/(abs(data[8][1])))*100 \n",
    "print(GRD_diff)"
   ]
  },
  {
   "cell_type": "markdown",
   "id": "542705ab",
   "metadata": {},
   "source": [
    "### Figure 9. Effect on Model Prediction Quality of Removing Key Individual Features\n",
    "Data imported from 03_IS1_Preprocessing_Training, 04_IS1_Modeling, 04b_IS1_Modeling-FeatureSubtractionModeling"
   ]
  },
  {
   "cell_type": "markdown",
   "id": "cb59f7ab",
   "metadata": {},
   "source": [
    "#### Past Performance Features\n",
    "Left panel in Figure 9"
   ]
  },
  {
   "cell_type": "code",
   "execution_count": null,
   "id": "d11ec341",
   "metadata": {},
   "outputs": [],
   "source": [
    "# Past Performance Features\n",
    "# #Below Best Model these are ranked by most increase in training error with the named feature subtracted out\n",
    "\n",
    "# Best Full Model\n",
    "(3.6576275603144737, 0.35787124061554904), 4.341768697826479\n",
    "\n",
    "# No Past Performance features\n",
    "(3.998957235338237, 0.41343196696526024), 4.912080974029068\n",
    "\n",
    "# No RPB\n",
    "(3.844811913276618, 0.3585786897412188), 4.788152823363078\n",
    "\n",
    "# No RPB Standard Deviation\n",
    "(3.6766268973753093, 0.39733457914427744), 4.483422811886286\n",
    "\n",
    "# No Past Performance vs Constructor\n",
    "(3.6576275603144737, 0.35787124061554904), 4.341768697826479\n",
    "\n",
    "# No Number of Past Solves\n",
    "(3.6576275603144737, 0.35787124061554904), 4.341768697826479\n",
    "\n",
    "#No Past Solves Last 7 Days #\n",
    "(3.6576275603144737, 0.35787124061554904), 4.341768697826479 "
   ]
  },
  {
   "cell_type": "code",
   "execution_count": 32,
   "id": "3b498246",
   "metadata": {},
   "outputs": [
    {
     "data": {
      "text/html": [
       "<div>\n",
       "<style scoped>\n",
       "    .dataframe tbody tr th:only-of-type {\n",
       "        vertical-align: middle;\n",
       "    }\n",
       "\n",
       "    .dataframe tbody tr th {\n",
       "        vertical-align: top;\n",
       "    }\n",
       "\n",
       "    .dataframe thead th {\n",
       "        text-align: right;\n",
       "    }\n",
       "</style>\n",
       "<table border=\"1\" class=\"dataframe\">\n",
       "  <thead>\n",
       "    <tr style=\"text-align: right;\">\n",
       "      <th></th>\n",
       "      <th>Model Inclusion</th>\n",
       "      <th>Training Error</th>\n",
       "      <th>Training SD</th>\n",
       "    </tr>\n",
       "  </thead>\n",
       "  <tbody>\n",
       "    <tr>\n",
       "      <th>0</th>\n",
       "      <td>Best Model</td>\n",
       "      <td>3.657628</td>\n",
       "      <td>0.357871</td>\n",
       "    </tr>\n",
       "    <tr>\n",
       "      <th>1</th>\n",
       "      <td>-Past Performance Features</td>\n",
       "      <td>3.998957</td>\n",
       "      <td>0.413432</td>\n",
       "    </tr>\n",
       "    <tr>\n",
       "      <th>2</th>\n",
       "      <td>-RPB</td>\n",
       "      <td>3.844812</td>\n",
       "      <td>0.358579</td>\n",
       "    </tr>\n",
       "    <tr>\n",
       "      <th>3</th>\n",
       "      <td>-RPB STD</td>\n",
       "      <td>3.676627</td>\n",
       "      <td>0.397335</td>\n",
       "    </tr>\n",
       "    <tr>\n",
       "      <th>4</th>\n",
       "      <td>-vs Constructor</td>\n",
       "      <td>3.657628</td>\n",
       "      <td>0.357871</td>\n",
       "    </tr>\n",
       "    <tr>\n",
       "      <th>5</th>\n",
       "      <td>-Number of Past Solves</td>\n",
       "      <td>3.657628</td>\n",
       "      <td>0.357871</td>\n",
       "    </tr>\n",
       "  </tbody>\n",
       "</table>\n",
       "</div>"
      ],
      "text/plain": [
       "              Model Inclusion  Training Error  Training SD\n",
       "0                  Best Model        3.657628     0.357871\n",
       "1  -Past Performance Features        3.998957     0.413432\n",
       "2                        -RPB        3.844812     0.358579\n",
       "3                    -RPB STD        3.676627     0.397335\n",
       "4             -vs Constructor        3.657628     0.357871\n",
       "5      -Number of Past Solves        3.657628     0.357871"
      ]
     },
     "execution_count": 32,
     "metadata": {},
     "output_type": "execute_result"
    }
   ],
   "source": [
    "#feature subtraction modeling -past performance features only\n",
    "data = [[\"Best Model\", 3.6576275603144737, 0.35787124061554904], [\"-Past Performance Features\", 3.998957235338237, 0.41343196696526024], [\"-RPB\", 3.844811913276618, 0.3585786897412188], [\"-RPB STD\", 3.6766268973753093, 0.39733457914427744], [\"-vs Constructor\", 3.6576275603144737, 0.35787124061554904], [\"-Number of Past Solves\", 3.6576275603144737, 0.35787124061554904]]\n",
    "df = pd.DataFrame(data, columns=[\"Model Inclusion\", \"Training Error\", \"Training SD\"])\n",
    "df"
   ]
  },
  {
   "cell_type": "code",
   "execution_count": 38,
   "id": "da51e0d5",
   "metadata": {},
   "outputs": [
    {
     "data": {
      "image/png": "[encoded data removed]",
      "text/plain": [
       "<Figure size 1440x720 with 1 Axes>"
      ]
     },
     "metadata": {
      "needs_background": "light"
     },
     "output_type": "display_data"
    }
   ],
   "source": [
    "#subtraction modeling bar plot - past performance features (Fig. 10 left panel)\n",
    "plt.figure(figsize=(20, 10))\n",
    "g = sns.barplot(x=\"Model Inclusion\",y=\"Training Error\",data=df, palette = [\"gray\",\"navy\", \"blue\", \"steelblue\", \"mediumblue\", \"royalblue\"], yerr=df[\"Training SD\"]*1)\n",
    "g.set_ylabel(\"training_error (mean +- sd)\")\n",
    "#g.set(xticklabels=[\"\", \"\"])\n",
    "g.set_xlabel(\"Model_Error\")\n",
    "g.set_ylim(3,5);\n",
    "\n",
    "# # Define some hatches\n",
    "# hatches = ['', '', '', '', '', '']\n",
    "\n",
    "# # Loop over the bars\n",
    "# for i,thisbar in enumerate(g.patches):\n",
    "#     # Set a different hatch for each bar\n",
    "#     thisbar.set_hatch(hatches[i])"
   ]
  },
  {
   "cell_type": "code",
   "execution_count": 39,
   "id": "741fb354",
   "metadata": {},
   "outputs": [
    {
     "name": "stdout",
     "output_type": "stream",
     "text": [
      "8.53546699643297\n",
      "4.86849180621224\n",
      "0.5167599974421943\n",
      "0.0\n",
      "0.0\n"
     ]
    }
   ],
   "source": [
    "# Percentage Change From Best Model\n",
    "PPF_diff = ((data[1][1] - data[0][1])/(abs(data[1][1])))*100 \n",
    "print(PPF_diff)\n",
    "\n",
    "RPB_diff = ((data[2][1] - data[0][1])/(abs(data[2][1])))*100 \n",
    "print(RPB_diff)\n",
    "\n",
    "RPBSTD_diff = ((data[3][1] - data[0][1])/(abs(data[3][1])))*100 \n",
    "print(RPBSTD_diff)\n",
    "\n",
    "Const_diff = ((data[4][1] - data[0][1])/(abs(data[4][1])))*100 \n",
    "print(Const_diff)\n",
    "\n",
    "PS_diff = ((data[5][1] - data[0][1])/(abs(data[5][1])))*100 \n",
    "print(PS_diff)"
   ]
  },
  {
   "cell_type": "markdown",
   "id": "06befb62",
   "metadata": {},
   "source": [
    "Subtractions of Other Individual Features (Non-Past Performance)\n",
    "Right panel in Fig. 9"
   ]
  },
  {
   "cell_type": "code",
   "execution_count": null,
   "id": "27443f29",
   "metadata": {},
   "outputs": [],
   "source": [
    "#Below Best Model these are ranked by most increase in training error with the named feature subtracted out\n",
    "# Non-Past Performance Features\n",
    "\n",
    "# Best Full Model\n",
    "(3.6576275603144737, 0.35787124061554904), 4.341768697826479\n",
    "\n",
    "# Answer #\n",
    "(3.6617498913650137, 0.3894076776864525), 4.485394592876538\n",
    "\n",
    "# No Freshness Factor features\n",
    "(3.6573501384384235, 0.38195608661134667), 4.410682858408677\n",
    "\n",
    "# No DOW\n",
    "(3.656506872825182, 0.35491500653515295), 4.311575286910146\n",
    "\n",
    "# Average Answer Length\n",
    "(3.6490985324213328, 0.3635815225928198), 4.371264676578458\n",
    "\n",
    "\n",
    "# Wordplay \n",
    "(3.6576275603144737, 0.35787124061554904), 4.341768697826479\n",
    "\n",
    "# Rebus Count/Rebus Unique\n",
    "(3.6576275603144737, 0.35787124061554904), 4.341768697826479\n",
    "\n",
    "# No. Unique Answers\n",
    "(3.6576275603144737, 0.35787124061554904), 4.341768697826479\n",
    "\n",
    "# Shade Count\n",
    "(3.6576275603144737, 0.35787124061554904), 4.341768697826479\n",
    "\n",
    "# Scrabble Illegal\n",
    "(3.6576275603144737, 0.35787124061554904), 4.341768697826479 \n",
    "\n",
    "# Stacks\n",
    "(3.6576275603144737, 0.35787124061554904), 4.341768697826479\n",
    "\n",
    "# Scrabble Average\n",
    "(3.6576275603144737, 0.35787124061554904), 4.341768697826479\n",
    "\n",
    "# Black Square Fill\n",
    "(3.6576275603144737, 0.35787124061554904), 4.341768697826479\n",
    "\n",
    "# Unusual Symmetry\n",
    "(3.6576275603144737, 0.35787124061554904), 4.341768697826479\n",
    "\n",
    "# Unused Letters\n",
    "(3.6576275603144737, 0.35787124061554904), 4.341768697826479\n",
    "\n",
    "# Circle Count\n",
    "(3.6576275603144737, 0.35787124061554904), 4.341768697826479\n",
    "\n",
    "# Cross Ref Clues Count\n",
    "(3.6576275603144737, 0.35787124061554904), 4.341768697826479\n",
    "\n",
    "# FITB\n",
    "(3.6576275603144737, 0.35787124061554904), 4.341768697826479\n",
    "\n",
    "# Scrabble Score\n",
    "(3.6576275603144737, 0.35787124061554904), 4.341768697826479\n",
    "\n",
    "# Cheater Squares\n",
    "(3.6576275603144737, 0.35787124061554904), 4.341768697826479\n",
    "\n",
    "# Open Squares\n",
    "(3.6617498913650137, 0.3894076776864525), 4.485394592876538 \n",
    "\n",
    "# Black Squares\n",
    "(3.6576275603144737, 0.35787124061554904), 4.341768697826479"
   ]
  },
  {
   "cell_type": "code",
   "execution_count": 43,
   "id": "14479bb1",
   "metadata": {},
   "outputs": [
    {
     "data": {
      "text/html": [
       "<div>\n",
       "<style scoped>\n",
       "    .dataframe tbody tr th:only-of-type {\n",
       "        vertical-align: middle;\n",
       "    }\n",
       "\n",
       "    .dataframe tbody tr th {\n",
       "        vertical-align: top;\n",
       "    }\n",
       "\n",
       "    .dataframe thead th {\n",
       "        text-align: right;\n",
       "    }\n",
       "</style>\n",
       "<table border=\"1\" class=\"dataframe\">\n",
       "  <thead>\n",
       "    <tr style=\"text-align: right;\">\n",
       "      <th></th>\n",
       "      <th>Model Inclusion</th>\n",
       "      <th>Training Error</th>\n",
       "      <th>Training SD</th>\n",
       "    </tr>\n",
       "  </thead>\n",
       "  <tbody>\n",
       "    <tr>\n",
       "      <th>0</th>\n",
       "      <td>Best Model</td>\n",
       "      <td>3.657628</td>\n",
       "      <td>0.357871</td>\n",
       "    </tr>\n",
       "    <tr>\n",
       "      <th>1</th>\n",
       "      <td>Answer Number</td>\n",
       "      <td>3.661750</td>\n",
       "      <td>0.389408</td>\n",
       "    </tr>\n",
       "    <tr>\n",
       "      <th>2</th>\n",
       "      <td>-FF</td>\n",
       "      <td>3.657350</td>\n",
       "      <td>0.381956</td>\n",
       "    </tr>\n",
       "    <tr>\n",
       "      <th>3</th>\n",
       "      <td>-DOW</td>\n",
       "      <td>3.656507</td>\n",
       "      <td>0.354915</td>\n",
       "    </tr>\n",
       "    <tr>\n",
       "      <th>4</th>\n",
       "      <td>-Avg Answer Length</td>\n",
       "      <td>3.649099</td>\n",
       "      <td>0.363582</td>\n",
       "    </tr>\n",
       "    <tr>\n",
       "      <th>5</th>\n",
       "      <td>Best Model_Copy</td>\n",
       "      <td>3.657628</td>\n",
       "      <td>0.357871</td>\n",
       "    </tr>\n",
       "  </tbody>\n",
       "</table>\n",
       "</div>"
      ],
      "text/plain": [
       "      Model Inclusion  Training Error  Training SD\n",
       "0          Best Model        3.657628     0.357871\n",
       "1       Answer Number        3.661750     0.389408\n",
       "2                 -FF        3.657350     0.381956\n",
       "3                -DOW        3.656507     0.354915\n",
       "4  -Avg Answer Length        3.649099     0.363582\n",
       "5     Best Model_Copy        3.657628     0.357871"
      ]
     },
     "execution_count": 43,
     "metadata": {},
     "output_type": "execute_result"
    }
   ],
   "source": [
    "#feature subtraction modeling -other features of interest\n",
    "#Final column is a dummy column just to get bar widths equal to that in companion figure above\n",
    "data = [[\"Best Model\", 3.6576275603144737, 0.35787124061554904], [\"Answer Number\", 3.6617498913650137, 0.3894076776864525], [\"-FF\", 3.6573501384384235, 0.38195608661134667], [\"-DOW\", 3.656506872825182, 0.35491500653515295], [\"-Avg Answer Length\", 3.6490985324213328, 0.3635815225928198],[\"Best Model_Copy\", 3.6576275603144736, 0.35787124061554905],]\n",
    "df = pd.DataFrame(data, columns=[\"Model Inclusion\", \"Training Error\", \"Training SD\"])\n",
    "df"
   ]
  },
  {
   "cell_type": "code",
   "execution_count": 44,
   "id": "37547f49",
   "metadata": {},
   "outputs": [
    {
     "data": {
      "image/png": "[encoded data removed]",
      "text/plain": [
       "<Figure size 1440x720 with 1 Axes>"
      ]
     },
     "metadata": {
      "needs_background": "light"
     },
     "output_type": "display_data"
    }
   ],
   "source": [
    "#subtraction modeling bar plot - other features of note (Fig. 10 left panel)\n",
    "plt.figure(figsize=(20, 10))\n",
    "g = sns.barplot(x=\"Model Inclusion\",y=\"Training Error\",data=df, palette = [\"gray\",\"forestgreen\",\"darkgreen\", \"lime\",\"olivedrab\", \"gray\"], yerr=df[\"Training SD\"]*1)\n",
    "g.set_ylabel(\"training_error (mean +- sd)\")\n",
    "#g.set(xticklabels=[\"\", \"\"])\n",
    "g.set_xlabel(\"Model_Error\")\n",
    "g.set_ylim(3,5);\n",
    "\n",
    "# # Define some hatches\n",
    "# hatches = ['', '', '', '', '', '']\n",
    "\n",
    "# # Loop over the bars\n",
    "# for i,thisbar in enumerate(g.patches):\n",
    "#     # Set a different hatch for each bar\n",
    "#     thisbar.set_hatch(hatches[i])"
   ]
  },
  {
   "cell_type": "code",
   "execution_count": 46,
   "id": "1e63a5e4",
   "metadata": {},
   "outputs": [
    {
     "name": "stdout",
     "output_type": "stream",
     "text": [
      "0.11257817089750342\n",
      "-0.0075853244985897746\n",
      "-0.030649128478886505\n",
      "-0.2337297230360492\n"
     ]
    }
   ],
   "source": [
    "# Percentage Change From Best Model\n",
    "AN_diff = ((data[1][1] - data[0][1])/(abs(data[1][1])))*100 \n",
    "print(AN_diff)\n",
    "\n",
    "FF_diff = ((data[2][1] - data[0][1])/(abs(data[2][1])))*100 \n",
    "print(FF_diff)\n",
    "\n",
    "DOW_diff = ((data[3][1] - data[0][1])/(abs(data[3][1])))*100 \n",
    "print(DOW_diff)\n",
    "\n",
    "AAL_diff = ((data[4][1] - data[0][1])/(abs(data[4][1])))*100 \n",
    "print(AAL_diff)"
   ]
  },
  {
   "cell_type": "markdown",
   "id": "2f1af104",
   "metadata": {},
   "source": [
    "### Figure 10. Best Puzzle Day-Specific Model (BPDM) Prediction Quality\n",
    "Data imported from 03_IS1_Preprocessing_Training, 04_IS1_Modeling, 04b_IS1_Modeling-ByPuzzleDay\n",
    "\n",
    "Note: Best model per day was derived using an 90/10 split for the best overall model (Linear Regressor)"
   ]
  },
  {
   "cell_type": "code",
   "execution_count": 52,
   "id": "a4850c10",
   "metadata": {},
   "outputs": [],
   "source": [
    "#Reorganizing training mean and sd to use Matplotlib because of Seaborn limitations with using pre-computed error bars per condition (very annoying that they can't address this)\n",
    "#see https://stackoverflow.com/questions/23144784/plotting-error-bars-on-grouped-bars-in-pandas\n",
    "\n",
    "df = pd.DataFrame([[\"Sunday\",5.2194889587736615,6.600084377624366,0.4681518773641288,0], [\"Monday\",0.8041138808650417,1.0065560420773974,0.05241110720508597,0], [\"Tuesday\",1.3326529181293048,1.4332313012576792,0.240588044439787,0], [\"Wednesday\",2.0084675224920683,2.207187233662891,0.25903388484064493,0], [\"Thursday\",4.189759910092506,4.179918127853171,0.11775595060584643,0], [\"Friday\",4.840674608182091,5.016836162806639,0.7034209450037043,0], [\"Saturday\",5.589133217713118,6.392521994648043,0.9863338723750921,0]], columns = [\"DOW\", \"mean_1\", \"mean_2\", \"std_1\", \"std_2\"])\n",
    "\n",
    "#convert std columns to array for plotting\n",
    "yerr = df[[\"std_1\", \"std_2\"]].to_numpy().T"
   ]
  },
  {
   "cell_type": "code",
   "execution_count": 58,
   "id": "0f778a0e",
   "metadata": {},
   "outputs": [
    {
     "data": {
      "text/plain": [
       "5.2194889587736615"
      ]
     },
     "execution_count": 58,
     "metadata": {},
     "output_type": "execute_result"
    }
   ],
   "source": [
    "df['mean_1'][0]"
   ]
  },
  {
   "cell_type": "code",
   "execution_count": 48,
   "id": "58744b3b",
   "metadata": {},
   "outputs": [],
   "source": [
    "# Also need mean training set IS1 STs per puzzle day so we can percentigize the error to normalize across puzzle days for comparison\n",
    "Sun_training_mean = 24.68468834688347\n",
    "Mon_training_mean = 5.750819672131146\n",
    "Tue_training_mean=  6.96570247933884\n",
    "Wed_training_mean=  8.983066666666664\n",
    "Thu_training_mean=  13.783333333333337\n",
    "Fri_training_mean=  13.804399999999994\n",
    "Sat_training_mean=  16.972883597883595 "
   ]
  },
  {
   "cell_type": "code",
   "execution_count": 60,
   "id": "dfd82865",
   "metadata": {
    "scrolled": true
   },
   "outputs": [
    {
     "name": "stdout",
     "output_type": "stream",
     "text": [
      "21.144641914965238\n",
      "13.982595989956542\n",
      "19.131637075831517\n",
      "22.358372669601348\n",
      "30.397290762460738\n",
      "35.06617171468585\n",
      "32.929779936804884\n"
     ]
    }
   ],
   "source": [
    "# Normalize each puzzle day by the training set mean \n",
    "# Full Model - Mean\n",
    "\n",
    "Sun_error_pct = ((df['mean_1'][0])/(Sun_training_mean))*100 \n",
    "print(Sun_error_pct)\n",
    "\n",
    "Mon_error_pct = ((df['mean_1'][1])/(Mon_training_mean))*100 \n",
    "print(Mon_error_pct)\n",
    "\n",
    "Tue_error_pct = ((df['mean_1'][2])/(Tue_training_mean))*100 \n",
    "print(Tue_error_pct)\n",
    "\n",
    "Wed_error_pct = ((df['mean_1'][3])/(Wed_training_mean))*100 \n",
    "print(Wed_error_pct)\n",
    "\n",
    "Thu_error_pct = ((df['mean_1'][4])/(Thu_training_mean))*100 \n",
    "print(Thu_error_pct)\n",
    "\n",
    "Fri_error_pct = ((df['mean_1'][5])/(Fri_training_mean))*100 \n",
    "print(Fri_error_pct)\n",
    "\n",
    "Sat_error_pct = ((df['mean_1'][6])/(Sat_training_mean))*100 \n",
    "print(Sat_error_pct)"
   ]
  },
  {
   "cell_type": "code",
   "execution_count": 61,
   "id": "7634fe13",
   "metadata": {},
   "outputs": [
    {
     "name": "stdout",
     "output_type": "stream",
     "text": [
      "1.8965273970057421\n",
      "0.9113675996323388\n",
      "3.4538949252197\n",
      "2.8835796777712694\n",
      "0.8543357964148469\n",
      "5.095628531509552\n",
      "5.811233351639089\n"
     ]
    }
   ],
   "source": [
    "# Normalize each puzzle day subtraction by the training set mean without that day\n",
    "# Full Model - stdev\n",
    "\n",
    "Sun_error_pct = ((df['std_1'][0])/(Sun_training_mean))*100 \n",
    "print(Sun_error_pct)\n",
    "\n",
    "Mon_error_pct = ((df['std_1'][1])/(Mon_training_mean))*100 \n",
    "print(Mon_error_pct)\n",
    "\n",
    "Tue_error_pct = ((df['std_1'][2])/(Tue_training_mean))*100 \n",
    "print(Tue_error_pct)\n",
    "\n",
    "Wed_error_pct = ((df['std_1'][3])/(Wed_training_mean))*100 \n",
    "print(Wed_error_pct)\n",
    "\n",
    "Thu_error_pct = ((df['std_1'][4])/(Thu_training_mean))*100 \n",
    "print(Thu_error_pct)\n",
    "\n",
    "Fri_error_pct = ((df['std_1'][5])/(Fri_training_mean))*100 \n",
    "print(Fri_error_pct)\n",
    "\n",
    "Sat_error_pct = ((df['std_1'][6])/(Sat_training_mean))*100 \n",
    "print(Sat_error_pct)"
   ]
  },
  {
   "cell_type": "code",
   "execution_count": 62,
   "id": "8822afeb",
   "metadata": {},
   "outputs": [
    {
     "name": "stdout",
     "output_type": "stream",
     "text": [
      "26.737564132372977\n",
      "17.502827413546537\n",
      "20.575545761663317\n",
      "24.570531596443214\n",
      "30.32588726374731\n",
      "36.34229783841849\n",
      "37.66314638159157\n"
     ]
    }
   ],
   "source": [
    "# Normalize each puzzle day subtraction by the training set mean without that day\n",
    "# Dummy Model - Mean\n",
    "Sun_error_pct = ((df['mean_2'][0])/(Sun_training_mean))*100 \n",
    "print(Sun_error_pct)\n",
    "\n",
    "Mon_error_pct = ((df['mean_2'][1])/(Mon_training_mean))*100 \n",
    "print(Mon_error_pct)\n",
    "\n",
    "Tue_error_pct = ((df['mean_2'][2])/(Tue_training_mean))*100 \n",
    "print(Tue_error_pct)\n",
    "\n",
    "Wed_error_pct = ((df['mean_2'][3])/(Wed_training_mean))*100 \n",
    "print(Wed_error_pct)\n",
    "\n",
    "Thu_error_pct = ((df['mean_2'][4])/(Thu_training_mean))*100 \n",
    "print(Thu_error_pct)\n",
    "\n",
    "Fri_error_pct = ((df['mean_2'][5])/(Fri_training_mean))*100 \n",
    "print(Fri_error_pct)\n",
    "\n",
    "Sat_error_pct = ((df['mean_2'][6])/(Sat_training_mean))*100 \n",
    "print(Sat_error_pct)"
   ]
  },
  {
   "cell_type": "code",
   "execution_count": 63,
   "id": "b3fa5c46",
   "metadata": {},
   "outputs": [],
   "source": [
    "#Reorganizing training mean and sd to use Matplotlib because of Seaborn limitations with using pre-computed error bars per condition (very annoying that they can't address this)\n",
    "#see https://stackoverflow.com/questions/23144784/plotting-error-bars-on-grouped-bars-in-pandas\n",
    "#Percentigized version (used this version in Github Summary)\n",
    "\n",
    "df = pd.DataFrame([[\"Sunday\",21.144641914965238,26.737564132372977,1.8965273970057421,0], [\"Monday\",13.982595989956542,17.502827413546537,0.9113675996323388,0], [\"Tuesday\",19.131637075831517,20.575545761663317,3.4538949252197,0], [\"Wednesday\",22.358372669601348,24.570531596443214,2.8835796777712694,0], [\"Thursday\",30.397290762460738,30.32588726374731,0.8543357964148469,0], [\"Friday\",35.06617171468585,36.34229783841849,5.095628531509552,0], [\"Saturday\",32.929779936804884,37.66314638159157,5.811233351639089,0]], columns = [\"DOW\", \"mean_1\", \"mean_2\", \"std_1\", \"std_2\"])\n",
    "\n",
    "#convert std columns to array for plotting\n",
    "yerr = df[[\"std_1\", \"std_2\"]].to_numpy().T"
   ]
  },
  {
   "cell_type": "code",
   "execution_count": 66,
   "id": "6c8856c7",
   "metadata": {},
   "outputs": [
    {
     "data": {
      "image/png": "[encoded data removed]",
      "text/plain": [
       "<Figure size 432x288 with 1 Axes>"
      ]
     },
     "metadata": {
      "needs_background": "light"
     },
     "output_type": "display_data"
    }
   ],
   "source": [
    "#Plot mean training error as % of puzzle day mean solve time\n",
    "df[['mean_1', 'mean_2']].plot(kind='bar', yerr = yerr, stacked=False, color= [[\"red\", \"#FF7518\", \"#ffdf00\", \"g\", \"#1F51FF\", \"#5d76cb\", \"fuchsia\"],[\"gray\"]], error_kw=dict(ecolor='k'))\n",
    "plt.xlabel('Puzzle Day')\n",
    "plt.ylabel('training_error (% of mean +- sd)')\n",
    "plt.ylim(10,50)\n",
    "plt.legend(labels = [\"Best Puzzle Day Model\", \"Puzzle Day Dummy Model\"])\n",
    "x = [0, 1, 2, 3, 4, 5, 6]\n",
    "labels = [\"Sunday\", \"Monday\", \"Tuesday\", \"Wednesday\", \"Thursday\", \"Friday\", \"Saturday\"]\n",
    "plt.xticks(x, labels, rotation=\"horizontal\");"
   ]
  }
 ],
 "metadata": {
  "kernelspec": {
   "display_name": "Python 3",
   "language": "python",
   "name": "python3"
  },
  "language_info": {
   "codemirror_mode": {
    "name": "ipython",
    "version": 3
   },
   "file_extension": ".py",
   "mimetype": "text/x-python",
   "name": "python",
   "nbconvert_exporter": "python",
   "pygments_lexer": "ipython3",
   "version": "3.8.8"
  }
 },
 "nbformat": 4,
 "nbformat_minor": 5
}
