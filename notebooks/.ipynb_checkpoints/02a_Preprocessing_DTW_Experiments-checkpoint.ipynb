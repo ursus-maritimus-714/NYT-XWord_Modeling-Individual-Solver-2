{
 "cells": [
  {
   "cell_type": "markdown",
   "id": "1dcb9885",
   "metadata": {},
   "source": [
    "### Introduction to Preprocessing: DecayTime-Weighting Experiments"
   ]
  },
  {
   "cell_type": "markdown",
   "id": "a8fc727e",
   "metadata": {},
   "source": [
    "## Preprocessing \n",
    "\n",
    "This version we are looking to find good (if not optimal) puzzle day-specific decay function paramters for a feature capturing IS1 recent performance prior to a given solve. This means looking for a combo of number of past matches to include (5,8,9,10,11,15,20,25 evaluated) and the decay weights (ranging from no decay weighting to a steep curve) for each of those past matches that yields the best univariate prediction of solve time (RMSE trainig error in minutes) over the 15x15 puzzle set. "
   ]
  },
  {
   "cell_type": "code",
   "execution_count": 2,
   "id": "e179e73d",
   "metadata": {},
   "outputs": [],
   "source": [
    "import pandas as pd\n",
    "import numpy as np\n",
    "import os\n",
    "import pickle\n",
    "import matplotlib.pyplot as plt\n",
    "import seaborn as sns\n",
    "from sklearn import __version__ as sklearn_version\n",
    "from sklearn.preprocessing import scale\n",
    "from sklearn.model_selection import train_test_split, cross_validate, GridSearchCV, learning_curve\n",
    "from sklearn.preprocessing import StandardScaler, MinMaxScaler\n",
    "from sklearn.dummy import DummyRegressor\n",
    "from sklearn.linear_model import LinearRegression\n",
    "from sklearn.metrics import r2_score, mean_squared_error, mean_absolute_error\n",
    "from sklearn.pipeline import make_pipeline\n",
    "from sklearn.impute import SimpleImputer\n",
    "from sklearn.feature_selection import SelectKBest, f_regression\n",
    "import datetime\n",
    "from library.sb_utils import save_file"
   ]
  },
  {
   "cell_type": "markdown",
   "id": "5e352c49",
   "metadata": {},
   "source": [
    "### Load Data"
   ]
  },
  {
   "cell_type": "code",
   "execution_count": 228,
   "id": "9cc5018d",
   "metadata": {},
   "outputs": [
    {
     "data": {
      "text/html": [
       "<div>\n",
       "<style scoped>\n",
       "    .dataframe tbody tr th:only-of-type {\n",
       "        vertical-align: middle;\n",
       "    }\n",
       "\n",
       "    .dataframe tbody tr th {\n",
       "        vertical-align: top;\n",
       "    }\n",
       "\n",
       "    .dataframe thead th {\n",
       "        text-align: right;\n",
       "    }\n",
       "</style>\n",
       "<table border=\"1\" class=\"dataframe\">\n",
       "  <thead>\n",
       "    <tr style=\"text-align: right;\">\n",
       "      <th></th>\n",
       "      <th>P_Date</th>\n",
       "      <th>P_Date_str</th>\n",
       "      <th>Comp_Date</th>\n",
       "      <th>Comp_Date_str</th>\n",
       "      <th>Comp_Hr</th>\n",
       "      <th>Solve_day_phase</th>\n",
       "      <th>IS_per_sdp_avg_past_diff_from_RPB</th>\n",
       "      <th>DOW</th>\n",
       "      <th>GMST(m)</th>\n",
       "      <th>IS1_ST(m)</th>\n",
       "      <th>...</th>\n",
       "      <th>Circle_Count</th>\n",
       "      <th>Shade_Count</th>\n",
       "      <th>Unusual_Sym</th>\n",
       "      <th>Black_Square_Fill</th>\n",
       "      <th>Outside_Grid</th>\n",
       "      <th>Unchecked_Sq</th>\n",
       "      <th>Uniclue</th>\n",
       "      <th>Duplicate_Answers</th>\n",
       "      <th>Quantum</th>\n",
       "      <th>Wordplay</th>\n",
       "    </tr>\n",
       "  </thead>\n",
       "  <tbody>\n",
       "    <tr>\n",
       "      <th>0</th>\n",
       "      <td>2024-01-08 00:00:00</td>\n",
       "      <td>2024-01-08</td>\n",
       "      <td>2024-01-07 20:18:53</td>\n",
       "      <td>2024-01-07</td>\n",
       "      <td>20</td>\n",
       "      <td>4.0</td>\n",
       "      <td>-8.96</td>\n",
       "      <td>Monday</td>\n",
       "      <td>4.333333</td>\n",
       "      <td>3.950000</td>\n",
       "      <td>...</td>\n",
       "      <td>0</td>\n",
       "      <td>0</td>\n",
       "      <td>0</td>\n",
       "      <td>0</td>\n",
       "      <td>0</td>\n",
       "      <td>0</td>\n",
       "      <td>0</td>\n",
       "      <td>0</td>\n",
       "      <td>0</td>\n",
       "      <td>1.0</td>\n",
       "    </tr>\n",
       "    <tr>\n",
       "      <th>1</th>\n",
       "      <td>2023-12-02 00:00:00</td>\n",
       "      <td>2023-12-02</td>\n",
       "      <td>2023-12-01 22:21:38</td>\n",
       "      <td>2023-12-01</td>\n",
       "      <td>22</td>\n",
       "      <td>4.0</td>\n",
       "      <td>-8.97</td>\n",
       "      <td>Saturday</td>\n",
       "      <td>23.533333</td>\n",
       "      <td>11.683333</td>\n",
       "      <td>...</td>\n",
       "      <td>0</td>\n",
       "      <td>0</td>\n",
       "      <td>0</td>\n",
       "      <td>0</td>\n",
       "      <td>0</td>\n",
       "      <td>0</td>\n",
       "      <td>0</td>\n",
       "      <td>0</td>\n",
       "      <td>0</td>\n",
       "      <td>5.0</td>\n",
       "    </tr>\n",
       "    <tr>\n",
       "      <th>2</th>\n",
       "      <td>2020-11-14 00:00:00</td>\n",
       "      <td>2020-11-14</td>\n",
       "      <td>2023-12-01 18:46:23</td>\n",
       "      <td>2023-12-01</td>\n",
       "      <td>18</td>\n",
       "      <td>4.0</td>\n",
       "      <td>-8.71</td>\n",
       "      <td>Saturday</td>\n",
       "      <td>21.850000</td>\n",
       "      <td>6.300000</td>\n",
       "      <td>...</td>\n",
       "      <td>0</td>\n",
       "      <td>0</td>\n",
       "      <td>0</td>\n",
       "      <td>0</td>\n",
       "      <td>0</td>\n",
       "      <td>0</td>\n",
       "      <td>0</td>\n",
       "      <td>0</td>\n",
       "      <td>0</td>\n",
       "      <td>4.0</td>\n",
       "    </tr>\n",
       "    <tr>\n",
       "      <th>3</th>\n",
       "      <td>2023-12-01 00:00:00</td>\n",
       "      <td>2023-12-01</td>\n",
       "      <td>2023-11-30 23:01:53</td>\n",
       "      <td>2023-11-30</td>\n",
       "      <td>23</td>\n",
       "      <td>4.0</td>\n",
       "      <td>-8.77</td>\n",
       "      <td>Friday</td>\n",
       "      <td>17.450000</td>\n",
       "      <td>11.383333</td>\n",
       "      <td>...</td>\n",
       "      <td>0</td>\n",
       "      <td>0</td>\n",
       "      <td>0</td>\n",
       "      <td>0</td>\n",
       "      <td>0</td>\n",
       "      <td>0</td>\n",
       "      <td>0</td>\n",
       "      <td>0</td>\n",
       "      <td>0</td>\n",
       "      <td>3.0</td>\n",
       "    </tr>\n",
       "    <tr>\n",
       "      <th>4</th>\n",
       "      <td>2020-11-26 00:00:00</td>\n",
       "      <td>2020-11-26</td>\n",
       "      <td>2023-11-29 19:59:20</td>\n",
       "      <td>2023-11-29</td>\n",
       "      <td>19</td>\n",
       "      <td>4.0</td>\n",
       "      <td>-8.80</td>\n",
       "      <td>Thursday</td>\n",
       "      <td>23.600000</td>\n",
       "      <td>11.916667</td>\n",
       "      <td>...</td>\n",
       "      <td>0</td>\n",
       "      <td>0</td>\n",
       "      <td>0</td>\n",
       "      <td>0</td>\n",
       "      <td>0</td>\n",
       "      <td>0</td>\n",
       "      <td>0</td>\n",
       "      <td>0</td>\n",
       "      <td>0</td>\n",
       "      <td>4.0</td>\n",
       "    </tr>\n",
       "  </tbody>\n",
       "</table>\n",
       "<p>5 rows × 51 columns</p>\n",
       "</div>"
      ],
      "text/plain": [
       "                P_Date  P_Date_str            Comp_Date Comp_Date_str  \\\n",
       "0  2024-01-08 00:00:00  2024-01-08  2024-01-07 20:18:53    2024-01-07   \n",
       "1  2023-12-02 00:00:00  2023-12-02  2023-12-01 22:21:38    2023-12-01   \n",
       "2  2020-11-14 00:00:00  2020-11-14  2023-12-01 18:46:23    2023-12-01   \n",
       "3  2023-12-01 00:00:00  2023-12-01  2023-11-30 23:01:53    2023-11-30   \n",
       "4  2020-11-26 00:00:00  2020-11-26  2023-11-29 19:59:20    2023-11-29   \n",
       "\n",
       "   Comp_Hr  Solve_day_phase  IS_per_sdp_avg_past_diff_from_RPB       DOW  \\\n",
       "0       20              4.0                              -8.96    Monday   \n",
       "1       22              4.0                              -8.97  Saturday   \n",
       "2       18              4.0                              -8.71  Saturday   \n",
       "3       23              4.0                              -8.77    Friday   \n",
       "4       19              4.0                              -8.80  Thursday   \n",
       "\n",
       "     GMST(m)  IS1_ST(m)  ...  Circle_Count  Shade_Count  Unusual_Sym  \\\n",
       "0   4.333333   3.950000  ...             0            0            0   \n",
       "1  23.533333  11.683333  ...             0            0            0   \n",
       "2  21.850000   6.300000  ...             0            0            0   \n",
       "3  17.450000  11.383333  ...             0            0            0   \n",
       "4  23.600000  11.916667  ...             0            0            0   \n",
       "\n",
       "   Black_Square_Fill  Outside_Grid  Unchecked_Sq  Uniclue  Duplicate_Answers  \\\n",
       "0                  0             0             0        0                  0   \n",
       "1                  0             0             0        0                  0   \n",
       "2                  0             0             0        0                  0   \n",
       "3                  0             0             0        0                  0   \n",
       "4                  0             0             0        0                  0   \n",
       "\n",
       "   Quantum  Wordplay  \n",
       "0        0       1.0  \n",
       "1        0       5.0  \n",
       "2        0       4.0  \n",
       "3        0       3.0  \n",
       "4        0       4.0  \n",
       "\n",
       "[5 rows x 51 columns]"
      ]
     },
     "execution_count": 228,
     "metadata": {},
     "output_type": "execute_result"
    }
   ],
   "source": [
    "df = pd.read_csv('../data/IS1_for_preprocessing.csv')\n",
    "df.head()"
   ]
  },
  {
   "cell_type": "code",
   "execution_count": 229,
   "id": "95327794",
   "metadata": {},
   "outputs": [
    {
     "name": "stdout",
     "output_type": "stream",
     "text": [
      "<class 'pandas.core.frame.DataFrame'>\n",
      "RangeIndex: 1011 entries, 0 to 1010\n",
      "Data columns (total 51 columns):\n",
      " #   Column                                Non-Null Count  Dtype  \n",
      "---  ------                                --------------  -----  \n",
      " 0   P_Date                                1011 non-null   object \n",
      " 1   P_Date_str                            1011 non-null   object \n",
      " 2   Comp_Date                             1011 non-null   object \n",
      " 3   Comp_Date_str                         1011 non-null   object \n",
      " 4   Comp_Hr                               1011 non-null   int64  \n",
      " 5   Solve_day_phase                       1011 non-null   float64\n",
      " 6   IS_per_sdp_avg_past_diff_from_RPB     1001 non-null   float64\n",
      " 7   DOW                                   1011 non-null   object \n",
      " 8   GMST(m)                               1011 non-null   float64\n",
      " 9   IS1_ST(m)                             1011 non-null   float64\n",
      " 10  IS_pds_l10_dw                         1005 non-null   float64\n",
      " 11  IS_pds_l25_dw                         1005 non-null   float64\n",
      " 12  IS_pds_l10_ndw                        1005 non-null   float64\n",
      " 13  IS_pds_l25_ndw                        1005 non-null   float64\n",
      " 14  IS_pds_l10_stdev                      999 non-null    float64\n",
      " 15  IS_pds_l25_stdev                      999 non-null    float64\n",
      " 16  IST_Diff%_from_IS_pds_l25_dw          1005 non-null   float64\n",
      " 17  IS_per_constr_avg_past_diff_from_RPB  495 non-null    float64\n",
      " 18  IS_per_constr_past_diff_from_RPB_ct   1011 non-null   float64\n",
      " 19  IS1_pds_prior_solves_ct               1011 non-null   float64\n",
      " 20  IS1_npds_prior_solves_ct              1011 non-null   float64\n",
      " 21  Constructors                          1011 non-null   object \n",
      " 22  Words                                 1011 non-null   int64  \n",
      " 23  Blocks                                1011 non-null   int64  \n",
      " 24  Unused_Letters                        1011 non-null   int64  \n",
      " 25  Stacks                                1011 non-null   int64  \n",
      " 26  Unique_Answers                        1011 non-null   int64  \n",
      " 27  Rebus_Count                           1011 non-null   int64  \n",
      " 28  Rebus_Unique                          1011 non-null   int64  \n",
      " 29  Cheater_Squares                       1011 non-null   int64  \n",
      " 30  AWL                                   1011 non-null   float64\n",
      " 31  Scrabble_Score                        956 non-null    float64\n",
      " 32  Scrabble_Avg                          1011 non-null   float64\n",
      " 33  FITB                                  1011 non-null   int64  \n",
      " 34  Cross_Ref_Clues                       1011 non-null   int64  \n",
      " 35  Scrabble_Illegal                      1011 non-null   int64  \n",
      " 36  Open_Squares                          1011 non-null   int64  \n",
      " 37  Freshness_Factor                      1011 non-null   float64\n",
      " 38  Overall_Freshness%                    1011 non-null   float64\n",
      " 39  Day_Freshness%                        1011 non-null   float64\n",
      " 40  Duplicate_Clues                       1011 non-null   int64  \n",
      " 41  Circle_Count                          1011 non-null   int64  \n",
      " 42  Shade_Count                           1011 non-null   int64  \n",
      " 43  Unusual_Sym                           1011 non-null   int64  \n",
      " 44  Black_Square_Fill                     1011 non-null   int64  \n",
      " 45  Outside_Grid                          1011 non-null   int64  \n",
      " 46  Unchecked_Sq                          1011 non-null   int64  \n",
      " 47  Uniclue                               1011 non-null   int64  \n",
      " 48  Duplicate_Answers                     1011 non-null   int64  \n",
      " 49  Quantum                               1011 non-null   int64  \n",
      " 50  Wordplay                              1011 non-null   float64\n",
      "dtypes: float64(22), int64(23), object(6)\n",
      "memory usage: 402.9+ KB\n"
     ]
    }
   ],
   "source": [
    "df.info()"
   ]
  },
  {
   "cell_type": "markdown",
   "id": "58d17799",
   "metadata": {},
   "source": [
    "### Create Feature Variants for Testing"
   ]
  },
  {
   "cell_type": "markdown",
   "id": "8fa480d1",
   "metadata": {},
   "source": [
    "### Filter Data"
   ]
  },
  {
   "cell_type": "code",
   "execution_count": 1302,
   "id": "70a42338",
   "metadata": {},
   "outputs": [],
   "source": [
    "# strip down df to just the columns we need to evaluate decay function and number of day-specific puzzles to include\n",
    "df1 = df[['DOW', 'Comp_Date', 'IS1_ST(m)']]"
   ]
  },
  {
   "cell_type": "code",
   "execution_count": 1303,
   "id": "3efba739",
   "metadata": {},
   "outputs": [],
   "source": [
    "#IS_pds_l5_dw\n",
    "#Provides decay-weighted(dw), puzzle day-specific (pds) mean solve time performance for IS1 over the previous 5 puzzles relative to a given puzzle\n",
    "# Note that the sort is by completion date for IS1, as completion date was avaiable \n",
    "# Note also that, unlike the 10-puzzle moving average, this weighted average does NOT include the \"puzzle at hand\" itself\n",
    "\n",
    "df1 = df1.sort_values(by=['DOW', 'Comp_Date'], ascending = False)\n",
    "\n",
    "w = [1,1,1,1,1] #weight assigned to puzzle\n",
    "#w = [5,4,3,2,1] #weight assigned to puzzle\n",
    "#w = [10,9,8,7,6,5,4,3,2,1] #weight assigned to puzzle\n",
    "#w = [10,9,8,7,6,5,5,5,5,5] #weight assigned to puzzle\n",
    "#w = [10,9,8,7,6,5,5,3,3,1] #weight assigned to puzzle\n",
    "#w = [10,8,6,6,4,4,2,2,1,1] #weight assigned to puzzle\n",
    "#w = [20,19,18,17,16,15,14,13,12,11] #weight assigned to puzzle\n",
    "#w = [20,18,14,8,4,4,2,2,1,1] #weight assigned to puzzle\n",
    "#w = [20,19,18,17,16,15,14,13,12,11] #weight assigned to puzzle\n",
    "#w = [10,9,8,7,6,5,4,3,2,1] #weight assigned to puzzle\n",
    "#w = [1,1,1,1,1,1,1,1,1,1] #weight assigned to puzzle\n",
    "\n",
    "df1[\"IS_pds_l5_dw_1\"] = df1.groupby(['DOW'])['IS1_ST(m)'].shift(-1)*w[0]\n",
    "df1[\"IS_pds_l5_dw_2\"] = df1.groupby(['DOW'])['IS1_ST(m)'].shift(-2)*w[1]\n",
    "df1[\"IS_pds_l5_dw_3\"] = df1.groupby(['DOW'])['IS1_ST(m)'].shift(-3)*w[2]\n",
    "df1[\"IS_pds_l5_dw_4\"] = df1.groupby(['DOW'])['IS1_ST(m)'].shift(-4)*w[3]\n",
    "df1[\"IS_pds_l5_dw_5\"] = df1.groupby(['DOW'])['IS1_ST(m)'].shift(-5)*w[4]\n",
    "\n",
    "df1[\"IS_pds_l5_dw_1_ct\"] = (df1.groupby(['DOW'])['IS1_ST(m)'].shift(-1)/df1.groupby(['DOW'])['IS1_ST(m)'].shift(-1))*w[0]\n",
    "df1[\"IS_pds_l5_dw_2_ct\"] = (df1.groupby(['DOW'])['IS1_ST(m)'].shift(-2)/df1.groupby(['DOW'])['IS1_ST(m)'].shift(-2))*w[1]\n",
    "df1[\"IS_pds_l5_dw_3_ct\"] = (df1.groupby(['DOW'])['IS1_ST(m)'].shift(-3)/df1.groupby(['DOW'])['IS1_ST(m)'].shift(-3))*w[2]\n",
    "df1[\"IS_pds_l5_dw_4_ct\"] = (df1.groupby(['DOW'])['IS1_ST(m)'].shift(-4)/df1.groupby(['DOW'])['IS1_ST(m)'].shift(-4))*w[3]\n",
    "df1[\"IS_pds_l5_dw_5_ct\"] = (df1.groupby(['DOW'])['IS1_ST(m)'].shift(-5)/df1.groupby(['DOW'])['IS1_ST(m)'].shift(-5))*w[4]\n",
    "\n",
    "df1[\"IS_pds_l5_ws\"] = df1[[\"IS_pds_l5_dw_1\", \"IS_pds_l5_dw_2\", \"IS_pds_l5_dw_3\", \"IS_pds_l5_dw_4\", \"IS_pds_l5_dw_5\"]].sum(axis=1)\n",
    "df1[\"IS_pds_l5_ws_ct\"] = df1[[\"IS_pds_l5_dw_1_ct\", \"IS_pds_l5_dw_2_ct\", \"IS_pds_l5_dw_3_ct\", \"IS_pds_l5_dw_4_ct\", \"IS_pds_l5_dw_5_ct\"]].sum(axis=1)\n",
    "df1[\"IS_pds_l5_dw\"] = df1[\"IS_pds_l5_ws\"]/df1[\"IS_pds_l5_ws_ct\"]\n",
    "\n",
    "# Deleting transient columns\n",
    "df1 = df1.drop([\"IS_pds_l5_dw_1\", \"IS_pds_l5_dw_2\", \"IS_pds_l5_dw_3\", \"IS_pds_l5_dw_4\", \"IS_pds_l5_dw_5\", \"IS_pds_l5_ws\", \"IS_pds_l5_dw_1_ct\", \"IS_pds_l5_dw_2_ct\", \"IS_pds_l5_dw_3_ct\", \"IS_pds_l5_dw_4_ct\", \"IS_pds_l5_dw_5_ct\", \"IS_pds_l5_ws_ct\"], axis = 1)"
   ]
  },
  {
   "cell_type": "code",
   "execution_count": 1304,
   "id": "b62dd1c1",
   "metadata": {},
   "outputs": [],
   "source": [
    "#IS_pds_l8_dw\n",
    "#Provides decay-weighted(dw), puzzle day-specific (pds) mean solve time performance for IS1 over the previous 10 puzzles relative to a given puzzle\n",
    "# Note that the sort is by completion date for IS1, as completion date was avaiable \n",
    "# Note also that, unlike the 10-puzzle moving average, this weighted average does NOT include the \"puzzle at hand\" itself\n",
    "\n",
    "df1 = df1.sort_values(by=['DOW', 'Comp_Date'], ascending = False)\n",
    "\n",
    "#w = [8,7,6,5,4,3,2,1] #weight assigned to puzzle\n",
    "w = [1,1,1,1,1,1,1,1] #weight assigned to puzzle\n",
    "#w = [10,9,8,7,6,5,5,5,5,5] #weight assigned to puzzle\n",
    "#w = [10,9,8,7,6,5,5,3,3,1] #weight assigned to puzzle\n",
    "#w = [10,8,6,6,4,4,2,2,1,1] #weight assigned to puzzle\n",
    "#w = [20,19,18,17,16,15,14,13,12,11] #weight assigned to puzzle\n",
    "#w = [20,18,14,8,4,4,2,2,1,1] #weight assigned to puzzle\n",
    "#w = [20,19,18,17,16,15,14,13,12,11] #weight assigned to puzzle\n",
    "#w = [10,9,8,7,6,5,4,3,2,1] #weight assigned to puzzle\n",
    "\n",
    "df1[\"IS_pds_l8_dw_1\"] = df1.groupby(['DOW'])['IS1_ST(m)'].shift(-1)*w[0]\n",
    "df1[\"IS_pds_l8_dw_2\"] = df1.groupby(['DOW'])['IS1_ST(m)'].shift(-2)*w[1]\n",
    "df1[\"IS_pds_l8_dw_3\"] = df1.groupby(['DOW'])['IS1_ST(m)'].shift(-3)*w[2]\n",
    "df1[\"IS_pds_l8_dw_4\"] = df1.groupby(['DOW'])['IS1_ST(m)'].shift(-4)*w[3]\n",
    "df1[\"IS_pds_l8_dw_5\"] = df1.groupby(['DOW'])['IS1_ST(m)'].shift(-5)*w[4]\n",
    "df1[\"IS_pds_l8_dw_6\"] = df1.groupby(['DOW'])['IS1_ST(m)'].shift(-6)*w[5]\n",
    "df1[\"IS_pds_l8_dw_7\"] = df1.groupby(['DOW'])['IS1_ST(m)'].shift(-7)*w[6]\n",
    "df1[\"IS_pds_l8_dw_8\"] = df1.groupby(['DOW'])['IS1_ST(m)'].shift(-8)*w[7]\n",
    "\n",
    "df1[\"IS_pds_l8_dw_1_ct\"] = (df1.groupby(['DOW'])['IS1_ST(m)'].shift(-1)/df1.groupby(['DOW'])['IS1_ST(m)'].shift(-1))*w[0]\n",
    "df1[\"IS_pds_l8_dw_2_ct\"] = (df1.groupby(['DOW'])['IS1_ST(m)'].shift(-2)/df1.groupby(['DOW'])['IS1_ST(m)'].shift(-2))*w[1]\n",
    "df1[\"IS_pds_l8_dw_3_ct\"] = (df1.groupby(['DOW'])['IS1_ST(m)'].shift(-3)/df1.groupby(['DOW'])['IS1_ST(m)'].shift(-3))*w[2]\n",
    "df1[\"IS_pds_l8_dw_4_ct\"] = (df1.groupby(['DOW'])['IS1_ST(m)'].shift(-4)/df1.groupby(['DOW'])['IS1_ST(m)'].shift(-4))*w[3]\n",
    "df1[\"IS_pds_l8_dw_5_ct\"] = (df1.groupby(['DOW'])['IS1_ST(m)'].shift(-5)/df1.groupby(['DOW'])['IS1_ST(m)'].shift(-5))*w[4]\n",
    "df1[\"IS_pds_l8_dw_6_ct\"] = (df1.groupby(['DOW'])['IS1_ST(m)'].shift(-6)/df1.groupby(['DOW'])['IS1_ST(m)'].shift(-6))*w[5]\n",
    "df1[\"IS_pds_l8_dw_7_ct\"] = (df1.groupby(['DOW'])['IS1_ST(m)'].shift(-7)/df1.groupby(['DOW'])['IS1_ST(m)'].shift(-7))*w[6]\n",
    "df1[\"IS_pds_l8_dw_8_ct\"] = (df1.groupby(['DOW'])['IS1_ST(m)'].shift(-8)/df1.groupby(['DOW'])['IS1_ST(m)'].shift(-8))*w[7]\n",
    "\n",
    "df1[\"IS_pds_l8_ws\"] = df1[[\"IS_pds_l8_dw_1\", \"IS_pds_l8_dw_2\", \"IS_pds_l8_dw_3\", \"IS_pds_l8_dw_4\", \"IS_pds_l8_dw_5\", \"IS_pds_l8_dw_6\", \"IS_pds_l8_dw_7\", \"IS_pds_l8_dw_8\"]].sum(axis=1)\n",
    "df1[\"IS_pds_l8_ws_ct\"] = df1[[\"IS_pds_l8_dw_1_ct\", \"IS_pds_l8_dw_2_ct\", \"IS_pds_l8_dw_3_ct\", \"IS_pds_l8_dw_4_ct\", \"IS_pds_l8_dw_5_ct\", \"IS_pds_l8_dw_6_ct\", \"IS_pds_l8_dw_7_ct\", \"IS_pds_l8_dw_8_ct\"]].sum(axis=1)\n",
    "df1[\"IS_pds_l8_dw\"] = df1[\"IS_pds_l8_ws\"]/df1[\"IS_pds_l8_ws_ct\"]\n",
    "\n",
    "# Deleting transient columns\n",
    "df1 = df1.drop([\"IS_pds_l8_dw_1\", \"IS_pds_l8_dw_2\", \"IS_pds_l8_dw_3\", \"IS_pds_l8_dw_4\", \"IS_pds_l8_dw_5\", \"IS_pds_l8_dw_6\", \"IS_pds_l8_dw_7\", \"IS_pds_l8_dw_8\", \"IS_pds_l8_ws\", \"IS_pds_l8_dw_1_ct\", \"IS_pds_l8_dw_2_ct\", \"IS_pds_l8_dw_3_ct\", \"IS_pds_l8_dw_4_ct\", \"IS_pds_l8_dw_5_ct\", \"IS_pds_l8_dw_6_ct\", \"IS_pds_l8_dw_7_ct\", \"IS_pds_l8_dw_8_ct\", \"IS_pds_l8_ws_ct\"], axis = 1)"
   ]
  },
  {
   "cell_type": "code",
   "execution_count": 1428,
   "id": "113a5de2",
   "metadata": {},
   "outputs": [],
   "source": [
    "#IS_pds_l9_dw\n",
    "#Provides decay-weighted(dw), puzzle day-specific (pds) mean solve time performance for IS1 over the previous 10 puzzles relative to a given puzzle\n",
    "# Note that the sort is by completion date for IS1, as completion date was avaiable \n",
    "# Note also that, unlike the 10-puzzle moving average, this weighted average does NOT include the \"puzzle at hand\" itself\n",
    "\n",
    "df1 = df1.sort_values(by=['DOW', 'Comp_Date'], ascending = False)\n",
    "\n",
    "#w = [9,8,7,6,5,4,3,2,1] #weight assigned to puzzle\n",
    "w = [1,1,1,1,1,1,1,1,1] #weight assigned to puzzle\n",
    "\n",
    "df1[\"IS_pds_l9_dw_1\"] = df1.groupby(['DOW'])['IS1_ST(m)'].shift(-1)*w[0]\n",
    "df1[\"IS_pds_l9_dw_2\"] = df1.groupby(['DOW'])['IS1_ST(m)'].shift(-2)*w[1]\n",
    "df1[\"IS_pds_l9_dw_3\"] = df1.groupby(['DOW'])['IS1_ST(m)'].shift(-3)*w[2]\n",
    "df1[\"IS_pds_l9_dw_4\"] = df1.groupby(['DOW'])['IS1_ST(m)'].shift(-4)*w[3]\n",
    "df1[\"IS_pds_l9_dw_5\"] = df1.groupby(['DOW'])['IS1_ST(m)'].shift(-5)*w[4]\n",
    "df1[\"IS_pds_l9_dw_6\"] = df1.groupby(['DOW'])['IS1_ST(m)'].shift(-6)*w[5]\n",
    "df1[\"IS_pds_l9_dw_7\"] = df1.groupby(['DOW'])['IS1_ST(m)'].shift(-7)*w[6]\n",
    "df1[\"IS_pds_l9_dw_8\"] = df1.groupby(['DOW'])['IS1_ST(m)'].shift(-8)*w[7]\n",
    "df1[\"IS_pds_l9_dw_9\"] = df1.groupby(['DOW'])['IS1_ST(m)'].shift(-9)*w[8]\n",
    "\n",
    "\n",
    "df1[\"IS_pds_l9_dw_1_ct\"] = (df1.groupby(['DOW'])['IS1_ST(m)'].shift(-1)/df1.groupby(['DOW'])['IS1_ST(m)'].shift(-1))*w[0]\n",
    "df1[\"IS_pds_l9_dw_2_ct\"] = (df1.groupby(['DOW'])['IS1_ST(m)'].shift(-2)/df1.groupby(['DOW'])['IS1_ST(m)'].shift(-2))*w[1]\n",
    "df1[\"IS_pds_l9_dw_3_ct\"] = (df1.groupby(['DOW'])['IS1_ST(m)'].shift(-3)/df1.groupby(['DOW'])['IS1_ST(m)'].shift(-3))*w[2]\n",
    "df1[\"IS_pds_l9_dw_4_ct\"] = (df1.groupby(['DOW'])['IS1_ST(m)'].shift(-4)/df1.groupby(['DOW'])['IS1_ST(m)'].shift(-4))*w[3]\n",
    "df1[\"IS_pds_l9_dw_5_ct\"] = (df1.groupby(['DOW'])['IS1_ST(m)'].shift(-5)/df1.groupby(['DOW'])['IS1_ST(m)'].shift(-5))*w[4]\n",
    "df1[\"IS_pds_l9_dw_6_ct\"] = (df1.groupby(['DOW'])['IS1_ST(m)'].shift(-6)/df1.groupby(['DOW'])['IS1_ST(m)'].shift(-6))*w[5]\n",
    "df1[\"IS_pds_l9_dw_7_ct\"] = (df1.groupby(['DOW'])['IS1_ST(m)'].shift(-7)/df1.groupby(['DOW'])['IS1_ST(m)'].shift(-7))*w[6]\n",
    "df1[\"IS_pds_l9_dw_8_ct\"] = (df1.groupby(['DOW'])['IS1_ST(m)'].shift(-8)/df1.groupby(['DOW'])['IS1_ST(m)'].shift(-8))*w[7]\n",
    "df1[\"IS_pds_l9_dw_9_ct\"] = (df1.groupby(['DOW'])['IS1_ST(m)'].shift(-9)/df1.groupby(['DOW'])['IS1_ST(m)'].shift(-9))*w[8]\n",
    "\n",
    "\n",
    "df1[\"IS_pds_l9_ws\"] = df1[[\"IS_pds_l9_dw_1\", \"IS_pds_l9_dw_2\", \"IS_pds_l9_dw_3\", \"IS_pds_l9_dw_4\", \"IS_pds_l9_dw_5\", \"IS_pds_l9_dw_6\", \"IS_pds_l9_dw_7\", \"IS_pds_l9_dw_8\", \"IS_pds_l9_dw_9\"]].sum(axis=1)\n",
    "df1[\"IS_pds_l9_ws_ct\"] = df1[[\"IS_pds_l9_dw_1_ct\", \"IS_pds_l9_dw_2_ct\", \"IS_pds_l9_dw_3_ct\", \"IS_pds_l9_dw_4_ct\", \"IS_pds_l9_dw_5_ct\", \"IS_pds_l9_dw_6_ct\", \"IS_pds_l9_dw_7_ct\", \"IS_pds_l9_dw_8_ct\", \"IS_pds_l9_dw_9_ct\"]].sum(axis=1)\n",
    "df1[\"IS_pds_l9_dw\"] = df1[\"IS_pds_l9_ws\"]/df1[\"IS_pds_l9_ws_ct\"]\n",
    "\n",
    "# Deleting transient columns\n",
    "df1 = df1.drop([\"IS_pds_l9_dw_1\", \"IS_pds_l9_dw_2\", \"IS_pds_l9_dw_3\", \"IS_pds_l9_dw_4\", \"IS_pds_l9_dw_5\", \"IS_pds_l9_dw_6\", \"IS_pds_l9_dw_7\", \"IS_pds_l9_dw_8\", \"IS_pds_l9_dw_9\", \"IS_pds_l9_ws\", \"IS_pds_l9_dw_1_ct\", \"IS_pds_l9_dw_2_ct\", \"IS_pds_l9_dw_3_ct\", \"IS_pds_l9_dw_4_ct\", \"IS_pds_l9_dw_5_ct\", \"IS_pds_l9_dw_6_ct\", \"IS_pds_l9_dw_7_ct\", \"IS_pds_l9_dw_8_ct\", \"IS_pds_l9_dw_9_ct\", \"IS_pds_l9_ws_ct\"], axis = 1)"
   ]
  },
  {
   "cell_type": "code",
   "execution_count": 1429,
   "id": "41d2bebe",
   "metadata": {},
   "outputs": [],
   "source": [
    "#IS_pds_l10_dw\n",
    "#Provides decay-weighted(dw), puzzle day-specific (pds) mean solve time performance for IS1 over the previous 10 puzzles relative to a given puzzle\n",
    "# Note that the sort is by completion date for IS1, as completion date was avaiable \n",
    "# Note also that, unlike the 10-puzzle moving average, this weighted average does NOT include the \"puzzle at hand\" itself\n",
    "\n",
    "df1 = df1.sort_values(by=['DOW', 'Comp_Date'], ascending = False)\n",
    "\n",
    "w = [10,9,8,7,6,5,4,3,2,1] #weight assigned to puzzle\n",
    "#w = [1,1,1,1,1,1,1,1,1,1] #weight assigned to puzzle\n",
    "\n",
    "df1[\"IS_pds_l10_dw_1\"] = df1.groupby(['DOW'])['IS1_ST(m)'].shift(-1)*w[0]\n",
    "df1[\"IS_pds_l10_dw_2\"] = df1.groupby(['DOW'])['IS1_ST(m)'].shift(-2)*w[1]\n",
    "df1[\"IS_pds_l10_dw_3\"] = df1.groupby(['DOW'])['IS1_ST(m)'].shift(-3)*w[2]\n",
    "df1[\"IS_pds_l10_dw_4\"] = df1.groupby(['DOW'])['IS1_ST(m)'].shift(-4)*w[3]\n",
    "df1[\"IS_pds_l10_dw_5\"] = df1.groupby(['DOW'])['IS1_ST(m)'].shift(-5)*w[4]\n",
    "df1[\"IS_pds_l10_dw_6\"] = df1.groupby(['DOW'])['IS1_ST(m)'].shift(-6)*w[5]\n",
    "df1[\"IS_pds_l10_dw_7\"] = df1.groupby(['DOW'])['IS1_ST(m)'].shift(-7)*w[6]\n",
    "df1[\"IS_pds_l10_dw_8\"] = df1.groupby(['DOW'])['IS1_ST(m)'].shift(-8)*w[7]\n",
    "df1[\"IS_pds_l10_dw_9\"] = df1.groupby(['DOW'])['IS1_ST(m)'].shift(-9)*w[8]\n",
    "df1[\"IS_pds_l10_dw_10\"] = df1.groupby(['DOW'])['IS1_ST(m)'].shift(-10)*w[9]\n",
    "\n",
    "df1[\"IS_pds_l10_dw_1_ct\"] = (df1.groupby(['DOW'])['IS1_ST(m)'].shift(-1)/df1.groupby(['DOW'])['IS1_ST(m)'].shift(-1))*w[0]\n",
    "df1[\"IS_pds_l10_dw_2_ct\"] = (df1.groupby(['DOW'])['IS1_ST(m)'].shift(-2)/df1.groupby(['DOW'])['IS1_ST(m)'].shift(-2))*w[1]\n",
    "df1[\"IS_pds_l10_dw_3_ct\"] = (df1.groupby(['DOW'])['IS1_ST(m)'].shift(-3)/df1.groupby(['DOW'])['IS1_ST(m)'].shift(-3))*w[2]\n",
    "df1[\"IS_pds_l10_dw_4_ct\"] = (df1.groupby(['DOW'])['IS1_ST(m)'].shift(-4)/df1.groupby(['DOW'])['IS1_ST(m)'].shift(-4))*w[3]\n",
    "df1[\"IS_pds_l10_dw_5_ct\"] = (df1.groupby(['DOW'])['IS1_ST(m)'].shift(-5)/df1.groupby(['DOW'])['IS1_ST(m)'].shift(-5))*w[4]\n",
    "df1[\"IS_pds_l10_dw_6_ct\"] = (df1.groupby(['DOW'])['IS1_ST(m)'].shift(-6)/df1.groupby(['DOW'])['IS1_ST(m)'].shift(-6))*w[5]\n",
    "df1[\"IS_pds_l10_dw_7_ct\"] = (df1.groupby(['DOW'])['IS1_ST(m)'].shift(-7)/df1.groupby(['DOW'])['IS1_ST(m)'].shift(-7))*w[6]\n",
    "df1[\"IS_pds_l10_dw_8_ct\"] = (df1.groupby(['DOW'])['IS1_ST(m)'].shift(-8)/df1.groupby(['DOW'])['IS1_ST(m)'].shift(-8))*w[7]\n",
    "df1[\"IS_pds_l10_dw_9_ct\"] = (df1.groupby(['DOW'])['IS1_ST(m)'].shift(-9)/df1.groupby(['DOW'])['IS1_ST(m)'].shift(-9))*w[8]\n",
    "df1[\"IS_pds_l10_dw_10_ct\"] = (df1.groupby(['DOW'])['IS1_ST(m)'].shift(-10)/df1.groupby(['DOW'])['IS1_ST(m)'].shift(-10))*w[9]\n",
    "\n",
    "df1[\"IS_pds_l10_ws\"] = df1[[\"IS_pds_l10_dw_1\", \"IS_pds_l10_dw_2\", \"IS_pds_l10_dw_3\", \"IS_pds_l10_dw_4\", \"IS_pds_l10_dw_5\", \"IS_pds_l10_dw_6\", \"IS_pds_l10_dw_7\", \"IS_pds_l10_dw_8\", \"IS_pds_l10_dw_9\", \"IS_pds_l10_dw_10\"]].sum(axis=1)\n",
    "df1[\"IS_pds_l10_ws_ct\"] = df1[[\"IS_pds_l10_dw_1_ct\", \"IS_pds_l10_dw_2_ct\", \"IS_pds_l10_dw_3_ct\", \"IS_pds_l10_dw_4_ct\", \"IS_pds_l10_dw_5_ct\", \"IS_pds_l10_dw_6_ct\", \"IS_pds_l10_dw_7_ct\", \"IS_pds_l10_dw_8_ct\", \"IS_pds_l10_dw_9_ct\", \"IS_pds_l10_dw_10_ct\"]].sum(axis=1)\n",
    "df1[\"IS_pds_l10_dw\"] = df1[\"IS_pds_l10_ws\"]/df1[\"IS_pds_l10_ws_ct\"]\n",
    "\n",
    "# Deleting transient columns\n",
    "df1 = df1.drop([\"IS_pds_l10_dw_1\", \"IS_pds_l10_dw_2\", \"IS_pds_l10_dw_3\", \"IS_pds_l10_dw_4\", \"IS_pds_l10_dw_5\", \"IS_pds_l10_dw_6\", \"IS_pds_l10_dw_7\", \"IS_pds_l10_dw_8\", \"IS_pds_l10_dw_9\", \"IS_pds_l10_dw_10\", \"IS_pds_l10_ws\", \"IS_pds_l10_dw_1_ct\", \"IS_pds_l10_dw_2_ct\", \"IS_pds_l10_dw_3_ct\", \"IS_pds_l10_dw_4_ct\", \"IS_pds_l10_dw_5_ct\", \"IS_pds_l10_dw_6_ct\", \"IS_pds_l10_dw_7_ct\", \"IS_pds_l10_dw_8_ct\", \"IS_pds_l10_dw_9_ct\", \"IS_pds_l10_dw_10_ct\", \"IS_pds_l10_ws_ct\"], axis = 1)"
   ]
  },
  {
   "cell_type": "code",
   "execution_count": 1430,
   "id": "e1ced483",
   "metadata": {},
   "outputs": [],
   "source": [
    "#IS_pds_l11_dw\n",
    "#Provides decay-weighted(dw), puzzle day-specific (pds) mean solve time performance for IS1 over the previous 11 puzzles relative to a given puzzle\n",
    "# Note that the sort is by completion date for IS1, as completion date was avaiable \n",
    "# Note also that, unlike the 10-puzzle moving average, this weighted average does NOT include the \"puzzle at hand\" itself\n",
    "\n",
    "df1 = df1.sort_values(by=['DOW', 'Comp_Date'], ascending = False)\n",
    "\n",
    "#w = [11,10,9,8,7,6,5,4,3,2,1] #weight assigned to puzzle\n",
    "w = [1,1,1,1,1,1,1,1,1,1,1] #weight assigned to puzzle\n",
    "\n",
    "df1[\"IS_pds_l11_dw_1\"] = df1.groupby(['DOW'])['IS1_ST(m)'].shift(-1)*w[0]\n",
    "df1[\"IS_pds_l11_dw_2\"] = df1.groupby(['DOW'])['IS1_ST(m)'].shift(-2)*w[1]\n",
    "df1[\"IS_pds_l11_dw_3\"] = df1.groupby(['DOW'])['IS1_ST(m)'].shift(-3)*w[2]\n",
    "df1[\"IS_pds_l11_dw_4\"] = df1.groupby(['DOW'])['IS1_ST(m)'].shift(-4)*w[3]\n",
    "df1[\"IS_pds_l11_dw_5\"] = df1.groupby(['DOW'])['IS1_ST(m)'].shift(-5)*w[4]\n",
    "df1[\"IS_pds_l11_dw_6\"] = df1.groupby(['DOW'])['IS1_ST(m)'].shift(-6)*w[5]\n",
    "df1[\"IS_pds_l11_dw_7\"] = df1.groupby(['DOW'])['IS1_ST(m)'].shift(-7)*w[6]\n",
    "df1[\"IS_pds_l11_dw_8\"] = df1.groupby(['DOW'])['IS1_ST(m)'].shift(-8)*w[7]\n",
    "df1[\"IS_pds_l11_dw_9\"] = df1.groupby(['DOW'])['IS1_ST(m)'].shift(-9)*w[8]\n",
    "df1[\"IS_pds_l11_dw_10\"] = df1.groupby(['DOW'])['IS1_ST(m)'].shift(-10)*w[9]\n",
    "df1[\"IS_pds_l11_dw_11\"] = df1.groupby(['DOW'])['IS1_ST(m)'].shift(-11)*w[10]\n",
    "\n",
    "df1[\"IS_pds_l11_dw_1_ct\"] = (df1.groupby(['DOW'])['IS1_ST(m)'].shift(-1)/df1.groupby(['DOW'])['IS1_ST(m)'].shift(-1))*w[0]\n",
    "df1[\"IS_pds_l11_dw_2_ct\"] = (df1.groupby(['DOW'])['IS1_ST(m)'].shift(-2)/df1.groupby(['DOW'])['IS1_ST(m)'].shift(-2))*w[1]\n",
    "df1[\"IS_pds_l11_dw_3_ct\"] = (df1.groupby(['DOW'])['IS1_ST(m)'].shift(-3)/df1.groupby(['DOW'])['IS1_ST(m)'].shift(-3))*w[2]\n",
    "df1[\"IS_pds_l11_dw_4_ct\"] = (df1.groupby(['DOW'])['IS1_ST(m)'].shift(-4)/df1.groupby(['DOW'])['IS1_ST(m)'].shift(-4))*w[3]\n",
    "df1[\"IS_pds_l11_dw_5_ct\"] = (df1.groupby(['DOW'])['IS1_ST(m)'].shift(-5)/df1.groupby(['DOW'])['IS1_ST(m)'].shift(-5))*w[4]\n",
    "df1[\"IS_pds_l11_dw_6_ct\"] = (df1.groupby(['DOW'])['IS1_ST(m)'].shift(-6)/df1.groupby(['DOW'])['IS1_ST(m)'].shift(-6))*w[5]\n",
    "df1[\"IS_pds_l11_dw_7_ct\"] = (df1.groupby(['DOW'])['IS1_ST(m)'].shift(-7)/df1.groupby(['DOW'])['IS1_ST(m)'].shift(-7))*w[6]\n",
    "df1[\"IS_pds_l11_dw_8_ct\"] = (df1.groupby(['DOW'])['IS1_ST(m)'].shift(-8)/df1.groupby(['DOW'])['IS1_ST(m)'].shift(-8))*w[7]\n",
    "df1[\"IS_pds_l11_dw_9_ct\"] = (df1.groupby(['DOW'])['IS1_ST(m)'].shift(-9)/df1.groupby(['DOW'])['IS1_ST(m)'].shift(-9))*w[8]\n",
    "df1[\"IS_pds_l11_dw_10_ct\"] = (df1.groupby(['DOW'])['IS1_ST(m)'].shift(-10)/df1.groupby(['DOW'])['IS1_ST(m)'].shift(-10))*w[9]\n",
    "df1[\"IS_pds_l11_dw_11_ct\"] = (df1.groupby(['DOW'])['IS1_ST(m)'].shift(-11)/df1.groupby(['DOW'])['IS1_ST(m)'].shift(-11))*w[10]\n",
    "\n",
    "df1[\"IS_pds_l11_ws\"] = df1[[\"IS_pds_l11_dw_1\", \"IS_pds_l11_dw_2\", \"IS_pds_l11_dw_3\", \"IS_pds_l11_dw_4\", \"IS_pds_l11_dw_5\", \"IS_pds_l11_dw_6\", \"IS_pds_l11_dw_7\", \"IS_pds_l11_dw_8\", \"IS_pds_l11_dw_9\", \"IS_pds_l11_dw_10\", \"IS_pds_l11_dw_11\"]].sum(axis=1)\n",
    "df1[\"IS_pds_l11_ws_ct\"] = df1[[\"IS_pds_l11_dw_1_ct\", \"IS_pds_l11_dw_2_ct\", \"IS_pds_l11_dw_3_ct\", \"IS_pds_l11_dw_4_ct\", \"IS_pds_l11_dw_5_ct\", \"IS_pds_l11_dw_6_ct\", \"IS_pds_l11_dw_7_ct\", \"IS_pds_l11_dw_8_ct\", \"IS_pds_l11_dw_9_ct\", \"IS_pds_l11_dw_10_ct\", \"IS_pds_l11_dw_11_ct\"]].sum(axis=1)\n",
    "df1[\"IS_pds_l11_dw\"] = df1[\"IS_pds_l11_ws\"]/df1[\"IS_pds_l11_ws_ct\"]\n",
    "\n",
    "# Deleting transient columns\n",
    "df1 = df1.drop([\"IS_pds_l11_dw_1\", \"IS_pds_l11_dw_2\", \"IS_pds_l11_dw_3\", \"IS_pds_l11_dw_4\", \"IS_pds_l11_dw_5\", \"IS_pds_l11_dw_6\", \"IS_pds_l11_dw_7\", \"IS_pds_l11_dw_8\", \"IS_pds_l11_dw_9\", \"IS_pds_l11_dw_10\", \"IS_pds_l11_dw_11\", \"IS_pds_l11_ws\", \"IS_pds_l11_dw_1_ct\", \"IS_pds_l11_dw_2_ct\", \"IS_pds_l11_dw_3_ct\", \"IS_pds_l11_dw_4_ct\", \"IS_pds_l11_dw_5_ct\", \"IS_pds_l11_dw_6_ct\", \"IS_pds_l11_dw_7_ct\", \"IS_pds_l11_dw_8_ct\", \"IS_pds_l11_dw_9_ct\", \"IS_pds_l11_dw_10_ct\",\"IS_pds_l11_dw_11_ct\", \"IS_pds_l11_ws_ct\"], axis = 1)"
   ]
  },
  {
   "cell_type": "code",
   "execution_count": 1431,
   "id": "1c652a39",
   "metadata": {},
   "outputs": [],
   "source": [
    "#IS_pds_l12_dw\n",
    "#Provides decay-weighted(dw), puzzle day-specific (pds) mean solve time performance for IS1 over the previous 12 puzzles relative to a given puzzle\n",
    "# Note that the sort is by completion date for IS1, as completion date was avaiable \n",
    "# Note also that, unlike the 10-puzzle moving average, this weighted average does NOT include the \"puzzle at hand\" itself\n",
    "\n",
    "df1 = df1.sort_values(by=['DOW', 'Comp_Date'], ascending = False)\n",
    "\n",
    "#w = [12,11,10,9,8,7,6,5,4,3,2,1] #weight assigned to puzzle\n",
    "w = [1,1,1,1,1,1,1,1,1,1,1,1] #weight assigned to puzzle\n",
    "#w = [10,9,8,7,6,5,5,5,5,5] #weight assigned to puzzle\n",
    "#w = [10,9,8,7,6,5,5,3,3,1] #weight assigned to puzzle\n",
    "#w = [10,8,6,6,4,4,2,2,1,1] #weight assigned to puzzle\n",
    "#w = [20,19,18,17,16,15,14,13,12,11] #weight assigned to puzzle\n",
    "#w = [20,18,14,8,4,4,2,2,1,1] #weight assigned to puzzle\n",
    "#w = [20,19,18,17,16,15,14,13,12,11] #weight assigned to puzzle\n",
    "#w = [10,9,8,7,6,5,4,3,2,1] #weight assigned to puzzle\n",
    "\n",
    "df1[\"IS_pds_l12_dw_1\"] = df1.groupby(['DOW'])['IS1_ST(m)'].shift(-1)*w[0]\n",
    "df1[\"IS_pds_l12_dw_2\"] = df1.groupby(['DOW'])['IS1_ST(m)'].shift(-2)*w[1]\n",
    "df1[\"IS_pds_l12_dw_3\"] = df1.groupby(['DOW'])['IS1_ST(m)'].shift(-3)*w[2]\n",
    "df1[\"IS_pds_l12_dw_4\"] = df1.groupby(['DOW'])['IS1_ST(m)'].shift(-4)*w[3]\n",
    "df1[\"IS_pds_l12_dw_5\"] = df1.groupby(['DOW'])['IS1_ST(m)'].shift(-5)*w[4]\n",
    "df1[\"IS_pds_l12_dw_6\"] = df1.groupby(['DOW'])['IS1_ST(m)'].shift(-6)*w[5]\n",
    "df1[\"IS_pds_l12_dw_7\"] = df1.groupby(['DOW'])['IS1_ST(m)'].shift(-7)*w[6]\n",
    "df1[\"IS_pds_l12_dw_8\"] = df1.groupby(['DOW'])['IS1_ST(m)'].shift(-8)*w[7]\n",
    "df1[\"IS_pds_l12_dw_9\"] = df1.groupby(['DOW'])['IS1_ST(m)'].shift(-9)*w[8]\n",
    "df1[\"IS_pds_l12_dw_10\"] = df1.groupby(['DOW'])['IS1_ST(m)'].shift(-10)*w[9]\n",
    "df1[\"IS_pds_l12_dw_11\"] = df1.groupby(['DOW'])['IS1_ST(m)'].shift(-11)*w[10]\n",
    "df1[\"IS_pds_l12_dw_12\"] = df1.groupby(['DOW'])['IS1_ST(m)'].shift(-12)*w[11]\n",
    "\n",
    "df1[\"IS_pds_l12_dw_1_ct\"] = (df1.groupby(['DOW'])['IS1_ST(m)'].shift(-1)/df1.groupby(['DOW'])['IS1_ST(m)'].shift(-1))*w[0]\n",
    "df1[\"IS_pds_l12_dw_2_ct\"] = (df1.groupby(['DOW'])['IS1_ST(m)'].shift(-2)/df1.groupby(['DOW'])['IS1_ST(m)'].shift(-2))*w[1]\n",
    "df1[\"IS_pds_l12_dw_3_ct\"] = (df1.groupby(['DOW'])['IS1_ST(m)'].shift(-3)/df1.groupby(['DOW'])['IS1_ST(m)'].shift(-3))*w[2]\n",
    "df1[\"IS_pds_l12_dw_4_ct\"] = (df1.groupby(['DOW'])['IS1_ST(m)'].shift(-4)/df1.groupby(['DOW'])['IS1_ST(m)'].shift(-4))*w[3]\n",
    "df1[\"IS_pds_l12_dw_5_ct\"] = (df1.groupby(['DOW'])['IS1_ST(m)'].shift(-5)/df1.groupby(['DOW'])['IS1_ST(m)'].shift(-5))*w[4]\n",
    "df1[\"IS_pds_l12_dw_6_ct\"] = (df1.groupby(['DOW'])['IS1_ST(m)'].shift(-6)/df1.groupby(['DOW'])['IS1_ST(m)'].shift(-6))*w[5]\n",
    "df1[\"IS_pds_l12_dw_7_ct\"] = (df1.groupby(['DOW'])['IS1_ST(m)'].shift(-7)/df1.groupby(['DOW'])['IS1_ST(m)'].shift(-7))*w[6]\n",
    "df1[\"IS_pds_l12_dw_8_ct\"] = (df1.groupby(['DOW'])['IS1_ST(m)'].shift(-8)/df1.groupby(['DOW'])['IS1_ST(m)'].shift(-8))*w[7]\n",
    "df1[\"IS_pds_l12_dw_9_ct\"] = (df1.groupby(['DOW'])['IS1_ST(m)'].shift(-9)/df1.groupby(['DOW'])['IS1_ST(m)'].shift(-9))*w[8]\n",
    "df1[\"IS_pds_l12_dw_10_ct\"] = (df1.groupby(['DOW'])['IS1_ST(m)'].shift(-10)/df1.groupby(['DOW'])['IS1_ST(m)'].shift(-10))*w[9]\n",
    "df1[\"IS_pds_l12_dw_11_ct\"] = (df1.groupby(['DOW'])['IS1_ST(m)'].shift(-11)/df1.groupby(['DOW'])['IS1_ST(m)'].shift(-11))*w[10]\n",
    "df1[\"IS_pds_l12_dw_12_ct\"] = (df1.groupby(['DOW'])['IS1_ST(m)'].shift(-12)/df1.groupby(['DOW'])['IS1_ST(m)'].shift(-12))*w[11]\n",
    "\n",
    "df1[\"IS_pds_l12_ws\"] = df1[[\"IS_pds_l12_dw_1\", \"IS_pds_l12_dw_2\", \"IS_pds_l12_dw_3\", \"IS_pds_l12_dw_4\", \"IS_pds_l12_dw_5\", \"IS_pds_l12_dw_6\", \"IS_pds_l12_dw_7\", \"IS_pds_l12_dw_8\", \"IS_pds_l12_dw_9\", \"IS_pds_l12_dw_10\",\"IS_pds_l12_dw_11\", \"IS_pds_l12_dw_12\"]].sum(axis=1)\n",
    "df1[\"IS_pds_l12_ws_ct\"] = df1[[\"IS_pds_l12_dw_1_ct\", \"IS_pds_l12_dw_2_ct\", \"IS_pds_l12_dw_3_ct\", \"IS_pds_l12_dw_4_ct\", \"IS_pds_l12_dw_5_ct\", \"IS_pds_l12_dw_6_ct\", \"IS_pds_l12_dw_7_ct\", \"IS_pds_l12_dw_8_ct\", \"IS_pds_l12_dw_9_ct\", \"IS_pds_l12_dw_10_ct\", \"IS_pds_l12_dw_11_ct\", \"IS_pds_l12_dw_12_ct\"]].sum(axis=1)\n",
    "df1[\"IS_pds_l12_dw\"] = df1[\"IS_pds_l12_ws\"]/df1[\"IS_pds_l12_ws_ct\"]\n",
    "\n",
    "# Deleting transient columns\n",
    "df1 = df1.drop([\"IS_pds_l12_dw_1\", \"IS_pds_l12_dw_2\", \"IS_pds_l12_dw_3\", \"IS_pds_l12_dw_4\", \"IS_pds_l12_dw_5\", \"IS_pds_l12_dw_6\", \"IS_pds_l12_dw_7\", \"IS_pds_l12_dw_8\", \"IS_pds_l12_dw_9\", \"IS_pds_l12_dw_10\", \"IS_pds_l12_dw_11\", \"IS_pds_l12_dw_12\", \"IS_pds_l12_ws\", \"IS_pds_l12_dw_1_ct\", \"IS_pds_l12_dw_2_ct\", \"IS_pds_l12_dw_3_ct\", \"IS_pds_l12_dw_4_ct\", \"IS_pds_l12_dw_5_ct\", \"IS_pds_l12_dw_6_ct\", \"IS_pds_l12_dw_7_ct\", \"IS_pds_l12_dw_8_ct\", \"IS_pds_l12_dw_9_ct\", \"IS_pds_l12_dw_10_ct\", \"IS_pds_l12_dw_11_ct\", \"IS_pds_l12_dw_12_ct\", \"IS_pds_l12_ws_ct\"], axis = 1)"
   ]
  },
  {
   "cell_type": "code",
   "execution_count": 1432,
   "id": "627ea10c",
   "metadata": {},
   "outputs": [],
   "source": [
    "#IS_pds_l15_dw\n",
    "#Provides decay-weighted(dw), puzzle day-specific (pds) mean solve time performance for IS1 over the previous 15 puzzles relative to a given puzzle\n",
    "# Note that the sort is by completion date for IS1, as completion date was avaiable \n",
    "# Note also that, unlike the 10-puzzle moving average, this weighted average does NOT include the \"puzzle at hand\" itself\n",
    "\n",
    "df1 = df1.sort_values(by=['DOW', 'Comp_Date'], ascending = False)\n",
    "\n",
    "#w = [15,14,13,12,11,10,9,8,7,6,5,4,3,2,1] #weight assigned to puzzle\n",
    "w = [1,1,1,1,1,1,1,1,1,1,1,1,1,1,1] #weight assigned to puzzle\n",
    "#w = [20,18,14,8,4,4,2,2,1,1] #weight assigned to puzzle\n",
    "#w = [20,19,18,17,16,15,14,13,12,11] #weight assigned to puzzle\n",
    "#w = [10,9,8,7,6,5,4,3,2,1] #weight assigned to puzzle\n",
    "\n",
    "df1[\"IS_pds_l15_dw_1\"] = df1.groupby(['DOW'])['IS1_ST(m)'].shift(-1)*w[0]\n",
    "df1[\"IS_pds_l15_dw_2\"] = df1.groupby(['DOW'])['IS1_ST(m)'].shift(-2)*w[1]\n",
    "df1[\"IS_pds_l15_dw_3\"] = df1.groupby(['DOW'])['IS1_ST(m)'].shift(-3)*w[2]\n",
    "df1[\"IS_pds_l15_dw_4\"] = df1.groupby(['DOW'])['IS1_ST(m)'].shift(-4)*w[3]\n",
    "df1[\"IS_pds_l15_dw_5\"] = df1.groupby(['DOW'])['IS1_ST(m)'].shift(-5)*w[4]\n",
    "df1[\"IS_pds_l15_dw_6\"] = df1.groupby(['DOW'])['IS1_ST(m)'].shift(-6)*w[5]\n",
    "df1[\"IS_pds_l15_dw_7\"] = df1.groupby(['DOW'])['IS1_ST(m)'].shift(-7)*w[6]\n",
    "df1[\"IS_pds_l15_dw_8\"] = df1.groupby(['DOW'])['IS1_ST(m)'].shift(-8)*w[7]\n",
    "df1[\"IS_pds_l15_dw_9\"] = df1.groupby(['DOW'])['IS1_ST(m)'].shift(-9)*w[8]\n",
    "df1[\"IS_pds_l15_dw_10\"] = df1.groupby(['DOW'])['IS1_ST(m)'].shift(-10)*w[9]\n",
    "df1[\"IS_pds_l15_dw_11\"] = df1.groupby(['DOW'])['IS1_ST(m)'].shift(-11)*w[10]\n",
    "df1[\"IS_pds_l15_dw_12\"] = df1.groupby(['DOW'])['IS1_ST(m)'].shift(-12)*w[11]\n",
    "df1[\"IS_pds_l15_dw_13\"] = df1.groupby(['DOW'])['IS1_ST(m)'].shift(-13)*w[12]\n",
    "df1[\"IS_pds_l15_dw_14\"] = df1.groupby(['DOW'])['IS1_ST(m)'].shift(-14)*w[13]\n",
    "df1[\"IS_pds_l15_dw_15\"] = df1.groupby(['DOW'])['IS1_ST(m)'].shift(-15)*w[14]\n",
    "\n",
    "df1[\"IS_pds_l15_dw_1_ct\"] = (df1.groupby(['DOW'])['IS1_ST(m)'].shift(-1)/df1.groupby(['DOW'])['IS1_ST(m)'].shift(-1))*w[0]\n",
    "df1[\"IS_pds_l15_dw_2_ct\"] = (df1.groupby(['DOW'])['IS1_ST(m)'].shift(-2)/df1.groupby(['DOW'])['IS1_ST(m)'].shift(-2))*w[1]\n",
    "df1[\"IS_pds_l15_dw_3_ct\"] = (df1.groupby(['DOW'])['IS1_ST(m)'].shift(-3)/df1.groupby(['DOW'])['IS1_ST(m)'].shift(-3))*w[2]\n",
    "df1[\"IS_pds_l15_dw_4_ct\"] = (df1.groupby(['DOW'])['IS1_ST(m)'].shift(-4)/df1.groupby(['DOW'])['IS1_ST(m)'].shift(-4))*w[3]\n",
    "df1[\"IS_pds_l15_dw_5_ct\"] = (df1.groupby(['DOW'])['IS1_ST(m)'].shift(-5)/df1.groupby(['DOW'])['IS1_ST(m)'].shift(-5))*w[4]\n",
    "df1[\"IS_pds_l15_dw_6_ct\"] = (df1.groupby(['DOW'])['IS1_ST(m)'].shift(-6)/df1.groupby(['DOW'])['IS1_ST(m)'].shift(-6))*w[5]\n",
    "df1[\"IS_pds_l15_dw_7_ct\"] = (df1.groupby(['DOW'])['IS1_ST(m)'].shift(-7)/df1.groupby(['DOW'])['IS1_ST(m)'].shift(-7))*w[6]\n",
    "df1[\"IS_pds_l15_dw_8_ct\"] = (df1.groupby(['DOW'])['IS1_ST(m)'].shift(-8)/df1.groupby(['DOW'])['IS1_ST(m)'].shift(-8))*w[7]\n",
    "df1[\"IS_pds_l15_dw_9_ct\"] = (df1.groupby(['DOW'])['IS1_ST(m)'].shift(-9)/df1.groupby(['DOW'])['IS1_ST(m)'].shift(-9))*w[8]\n",
    "df1[\"IS_pds_l15_dw_10_ct\"] = (df1.groupby(['DOW'])['IS1_ST(m)'].shift(-10)/df1.groupby(['DOW'])['IS1_ST(m)'].shift(-10))*w[9]\n",
    "df1[\"IS_pds_l15_dw_11_ct\"] = (df1.groupby(['DOW'])['IS1_ST(m)'].shift(-11)/df1.groupby(['DOW'])['IS1_ST(m)'].shift(-11))*w[10]\n",
    "df1[\"IS_pds_l15_dw_12_ct\"] = (df1.groupby(['DOW'])['IS1_ST(m)'].shift(-12)/df1.groupby(['DOW'])['IS1_ST(m)'].shift(-12))*w[11]\n",
    "df1[\"IS_pds_l15_dw_13_ct\"] = (df1.groupby(['DOW'])['IS1_ST(m)'].shift(-13)/df1.groupby(['DOW'])['IS1_ST(m)'].shift(-13))*w[12]\n",
    "df1[\"IS_pds_l15_dw_14_ct\"] = (df1.groupby(['DOW'])['IS1_ST(m)'].shift(-14)/df1.groupby(['DOW'])['IS1_ST(m)'].shift(-14))*w[13]\n",
    "df1[\"IS_pds_l15_dw_15_ct\"] = (df1.groupby(['DOW'])['IS1_ST(m)'].shift(-15)/df1.groupby(['DOW'])['IS1_ST(m)'].shift(-15))*w[14]\n",
    "\n",
    "df1[\"IS_pds_l15_ws\"] = df1[[\"IS_pds_l15_dw_1\", \"IS_pds_l15_dw_2\", \"IS_pds_l15_dw_3\", \"IS_pds_l15_dw_4\", \"IS_pds_l15_dw_5\", \"IS_pds_l15_dw_6\", \"IS_pds_l15_dw_7\", \"IS_pds_l15_dw_8\", \"IS_pds_l15_dw_9\", \"IS_pds_l15_dw_10\", \"IS_pds_l15_dw_11\", \"IS_pds_l15_dw_12\", \"IS_pds_l15_dw_13\", \"IS_pds_l15_dw_14\", \"IS_pds_l15_dw_15\"]].sum(axis=1)\n",
    "df1[\"IS_pds_l15_ws_ct\"] = df1[[\"IS_pds_l15_dw_1_ct\", \"IS_pds_l15_dw_2_ct\", \"IS_pds_l15_dw_3_ct\", \"IS_pds_l15_dw_4_ct\", \"IS_pds_l15_dw_5_ct\", \"IS_pds_l15_dw_6_ct\", \"IS_pds_l15_dw_7_ct\", \"IS_pds_l15_dw_8_ct\", \"IS_pds_l15_dw_9_ct\", \"IS_pds_l15_dw_10_ct\", \"IS_pds_l15_dw_11_ct\", \"IS_pds_l15_dw_12_ct\", \"IS_pds_l15_dw_13_ct\", \"IS_pds_l15_dw_14_ct\", \"IS_pds_l15_dw_15_ct\"]].sum(axis=1)\n",
    "df1[\"IS_pds_l15_dw\"] = df1[\"IS_pds_l15_ws\"]/df1[\"IS_pds_l15_ws_ct\"]\n",
    "\n",
    "# Deleting transient columns\n",
    "df1 = df1.drop([\"IS_pds_l15_dw_1\", \"IS_pds_l15_dw_2\", \"IS_pds_l15_dw_3\", \"IS_pds_l15_dw_4\", \"IS_pds_l15_dw_5\", \"IS_pds_l15_dw_6\", \"IS_pds_l15_dw_7\", \"IS_pds_l15_dw_8\", \"IS_pds_l15_dw_9\", \"IS_pds_l15_dw_10\", \"IS_pds_l15_dw_11\", \"IS_pds_l15_dw_12\", \"IS_pds_l15_dw_13\", \"IS_pds_l15_dw_14\", \"IS_pds_l15_dw_15\", \"IS_pds_l15_dw_1_ct\", \"IS_pds_l15_dw_2_ct\", \"IS_pds_l15_dw_3_ct\", \"IS_pds_l15_dw_4_ct\", \"IS_pds_l15_dw_5_ct\", \"IS_pds_l15_dw_6_ct\", \"IS_pds_l15_dw_7_ct\", \"IS_pds_l15_dw_8_ct\", \"IS_pds_l15_dw_9_ct\", \"IS_pds_l15_dw_10_ct\", \"IS_pds_l15_dw_11_ct\", \"IS_pds_l15_dw_12_ct\", \"IS_pds_l15_dw_13_ct\", \"IS_pds_l15_dw_14_ct\", \"IS_pds_l15_dw_15_ct\", \"IS_pds_l15_ws\", \"IS_pds_l15_ws_ct\"], axis = 1)"
   ]
  },
  {
   "cell_type": "code",
   "execution_count": 1433,
   "id": "3661c06c",
   "metadata": {},
   "outputs": [],
   "source": [
    "#IS_pds_l20_dw\n",
    "#Provides decay-weighted(dw), puzzle day-specific (pds) mean solve time performance for IS1 over the previous 20 puzzles relative to a given puzzle\n",
    "# Note that the sort is by completion date for IS1, as completion date was avaiable \n",
    "# Note also that, unlike the 10-puzzle moving average, this weighted average does NOT include the \"puzzle at hand\" itself\n",
    "\n",
    "df1 = df1.sort_values(by=['DOW', 'Comp_Date'], ascending = False)\n",
    "\n",
    "w = [20,19,18,17,16,15,14,13,12,11,10,9,8,7,6,5,4,3,2,1] #weight assigned to puzzle\n",
    "#w = [1,1,1,1,1,1,1,1,1,1,1,1,1,1,1,1,1,1,1,1] #weight assigned to puzzle\n",
    "\n",
    "df1[\"IS_pds_l20_dw_1\"] = df1.groupby(['DOW'])['IS1_ST(m)'].shift(-1)*w[0]\n",
    "df1[\"IS_pds_l20_dw_2\"] = df1.groupby(['DOW'])['IS1_ST(m)'].shift(-2)*w[1]\n",
    "df1[\"IS_pds_l20_dw_3\"] = df1.groupby(['DOW'])['IS1_ST(m)'].shift(-3)*w[2]\n",
    "df1[\"IS_pds_l20_dw_4\"] = df1.groupby(['DOW'])['IS1_ST(m)'].shift(-4)*w[3]\n",
    "df1[\"IS_pds_l20_dw_5\"] = df1.groupby(['DOW'])['IS1_ST(m)'].shift(-5)*w[4]\n",
    "df1[\"IS_pds_l20_dw_6\"] = df1.groupby(['DOW'])['IS1_ST(m)'].shift(-6)*w[5]\n",
    "df1[\"IS_pds_l20_dw_7\"] = df1.groupby(['DOW'])['IS1_ST(m)'].shift(-7)*w[6]\n",
    "df1[\"IS_pds_l20_dw_8\"] = df1.groupby(['DOW'])['IS1_ST(m)'].shift(-8)*w[7]\n",
    "df1[\"IS_pds_l20_dw_9\"] = df1.groupby(['DOW'])['IS1_ST(m)'].shift(-9)*w[8]\n",
    "df1[\"IS_pds_l20_dw_10\"] = df1.groupby(['DOW'])['IS1_ST(m)'].shift(-10)*w[9]\n",
    "df1[\"IS_pds_l20_dw_11\"] = df1.groupby(['DOW'])['IS1_ST(m)'].shift(-11)*w[10]\n",
    "df1[\"IS_pds_l20_dw_12\"] = df1.groupby(['DOW'])['IS1_ST(m)'].shift(-12)*w[11]\n",
    "df1[\"IS_pds_l20_dw_13\"] = df1.groupby(['DOW'])['IS1_ST(m)'].shift(-13)*w[12]\n",
    "df1[\"IS_pds_l20_dw_14\"] = df1.groupby(['DOW'])['IS1_ST(m)'].shift(-14)*w[13]\n",
    "df1[\"IS_pds_l20_dw_15\"] = df1.groupby(['DOW'])['IS1_ST(m)'].shift(-15)*w[14]\n",
    "df1[\"IS_pds_l20_dw_16\"] = df1.groupby(['DOW'])['IS1_ST(m)'].shift(-16)*w[15]\n",
    "df1[\"IS_pds_l20_dw_17\"] = df1.groupby(['DOW'])['IS1_ST(m)'].shift(-17)*w[16]\n",
    "df1[\"IS_pds_l20_dw_18\"] = df1.groupby(['DOW'])['IS1_ST(m)'].shift(-18)*w[17]\n",
    "df1[\"IS_pds_l20_dw_19\"] = df1.groupby(['DOW'])['IS1_ST(m)'].shift(-19)*w[18]\n",
    "df1[\"IS_pds_l20_dw_20\"] = df1.groupby(['DOW'])['IS1_ST(m)'].shift(-20)*w[19]\n",
    "\n",
    "df1[\"IS_pds_l20_dw_1_ct\"] = (df1.groupby(['DOW'])['IS1_ST(m)'].shift(-1)/df1.groupby(['DOW'])['IS1_ST(m)'].shift(-1))*w[0]\n",
    "df1[\"IS_pds_l20_dw_2_ct\"] = (df1.groupby(['DOW'])['IS1_ST(m)'].shift(-2)/df1.groupby(['DOW'])['IS1_ST(m)'].shift(-2))*w[1]\n",
    "df1[\"IS_pds_l20_dw_3_ct\"] = (df1.groupby(['DOW'])['IS1_ST(m)'].shift(-3)/df1.groupby(['DOW'])['IS1_ST(m)'].shift(-3))*w[2]\n",
    "df1[\"IS_pds_l20_dw_4_ct\"] = (df1.groupby(['DOW'])['IS1_ST(m)'].shift(-4)/df1.groupby(['DOW'])['IS1_ST(m)'].shift(-4))*w[3]\n",
    "df1[\"IS_pds_l20_dw_5_ct\"] = (df1.groupby(['DOW'])['IS1_ST(m)'].shift(-5)/df1.groupby(['DOW'])['IS1_ST(m)'].shift(-5))*w[4]\n",
    "df1[\"IS_pds_l20_dw_6_ct\"] = (df1.groupby(['DOW'])['IS1_ST(m)'].shift(-6)/df1.groupby(['DOW'])['IS1_ST(m)'].shift(-6))*w[5]\n",
    "df1[\"IS_pds_l20_dw_7_ct\"] = (df1.groupby(['DOW'])['IS1_ST(m)'].shift(-7)/df1.groupby(['DOW'])['IS1_ST(m)'].shift(-7))*w[6]\n",
    "df1[\"IS_pds_l20_dw_8_ct\"] = (df1.groupby(['DOW'])['IS1_ST(m)'].shift(-8)/df1.groupby(['DOW'])['IS1_ST(m)'].shift(-8))*w[7]\n",
    "df1[\"IS_pds_l20_dw_9_ct\"] = (df1.groupby(['DOW'])['IS1_ST(m)'].shift(-9)/df1.groupby(['DOW'])['IS1_ST(m)'].shift(-9))*w[8]\n",
    "df1[\"IS_pds_l20_dw_10_ct\"] = (df1.groupby(['DOW'])['IS1_ST(m)'].shift(-10)/df1.groupby(['DOW'])['IS1_ST(m)'].shift(-10))*w[9]\n",
    "df1[\"IS_pds_l20_dw_11_ct\"] = (df1.groupby(['DOW'])['IS1_ST(m)'].shift(-11)/df1.groupby(['DOW'])['IS1_ST(m)'].shift(-11))*w[10]\n",
    "df1[\"IS_pds_l20_dw_12_ct\"] = (df1.groupby(['DOW'])['IS1_ST(m)'].shift(-12)/df1.groupby(['DOW'])['IS1_ST(m)'].shift(-12))*w[11]\n",
    "df1[\"IS_pds_l20_dw_13_ct\"] = (df1.groupby(['DOW'])['IS1_ST(m)'].shift(-13)/df1.groupby(['DOW'])['IS1_ST(m)'].shift(-13))*w[12]\n",
    "df1[\"IS_pds_l20_dw_14_ct\"] = (df1.groupby(['DOW'])['IS1_ST(m)'].shift(-14)/df1.groupby(['DOW'])['IS1_ST(m)'].shift(-14))*w[13]\n",
    "df1[\"IS_pds_l20_dw_15_ct\"] = (df1.groupby(['DOW'])['IS1_ST(m)'].shift(-15)/df1.groupby(['DOW'])['IS1_ST(m)'].shift(-15))*w[14]\n",
    "df1[\"IS_pds_l20_dw_16_ct\"] = (df1.groupby(['DOW'])['IS1_ST(m)'].shift(-16)/df1.groupby(['DOW'])['IS1_ST(m)'].shift(-16))*w[15]\n",
    "df1[\"IS_pds_l20_dw_17_ct\"] = (df1.groupby(['DOW'])['IS1_ST(m)'].shift(-17)/df1.groupby(['DOW'])['IS1_ST(m)'].shift(-17))*w[16]\n",
    "df1[\"IS_pds_l20_dw_18_ct\"] = (df1.groupby(['DOW'])['IS1_ST(m)'].shift(-18)/df1.groupby(['DOW'])['IS1_ST(m)'].shift(-18))*w[17]\n",
    "df1[\"IS_pds_l20_dw_19_ct\"] = (df1.groupby(['DOW'])['IS1_ST(m)'].shift(-19)/df1.groupby(['DOW'])['IS1_ST(m)'].shift(-19))*w[18]\n",
    "df1[\"IS_pds_l20_dw_20_ct\"] = (df1.groupby(['DOW'])['IS1_ST(m)'].shift(-20)/df1.groupby(['DOW'])['IS1_ST(m)'].shift(-20))*w[19]\n",
    "\n",
    "df1[\"IS_pds_l20_ws\"] = df1[[\"IS_pds_l20_dw_1\", \"IS_pds_l20_dw_2\", \"IS_pds_l20_dw_3\", \"IS_pds_l20_dw_4\", \"IS_pds_l20_dw_5\", \"IS_pds_l20_dw_6\", \"IS_pds_l20_dw_7\", \"IS_pds_l20_dw_8\", \"IS_pds_l20_dw_9\", \"IS_pds_l20_dw_10\", \"IS_pds_l20_dw_11\", \"IS_pds_l20_dw_12\", \"IS_pds_l20_dw_13\", \"IS_pds_l20_dw_14\", \"IS_pds_l20_dw_15\", \"IS_pds_l20_dw_16\", \"IS_pds_l20_dw_17\", \"IS_pds_l20_dw_18\", \"IS_pds_l20_dw_19\", \"IS_pds_l20_dw_20\"]].sum(axis=1)\n",
    "df1[\"IS_pds_l20_ws_ct\"] = df1[[\"IS_pds_l20_dw_1_ct\", \"IS_pds_l20_dw_2_ct\", \"IS_pds_l20_dw_3_ct\", \"IS_pds_l20_dw_4_ct\", \"IS_pds_l20_dw_5_ct\", \"IS_pds_l20_dw_6_ct\", \"IS_pds_l20_dw_7_ct\", \"IS_pds_l20_dw_8_ct\", \"IS_pds_l20_dw_9_ct\", \"IS_pds_l20_dw_10_ct\", \"IS_pds_l20_dw_11_ct\", \"IS_pds_l20_dw_12_ct\", \"IS_pds_l20_dw_13_ct\", \"IS_pds_l20_dw_14_ct\", \"IS_pds_l20_dw_15_ct\", \"IS_pds_l20_dw_16_ct\", \"IS_pds_l20_dw_17_ct\", \"IS_pds_l20_dw_18_ct\", \"IS_pds_l20_dw_19_ct\", \"IS_pds_l20_dw_20_ct\"]].sum(axis=1)\n",
    "df1[\"IS_pds_l20_dw\"] = df1[\"IS_pds_l20_ws\"]/df1[\"IS_pds_l20_ws_ct\"]\n",
    "\n",
    "# Deleting transient columns\n",
    "df1 = df1.drop([\"IS_pds_l20_dw_1\", \"IS_pds_l20_dw_2\", \"IS_pds_l20_dw_3\", \"IS_pds_l20_dw_4\", \"IS_pds_l20_dw_5\", \"IS_pds_l20_dw_6\", \"IS_pds_l20_dw_7\", \"IS_pds_l20_dw_8\", \"IS_pds_l20_dw_9\", \"IS_pds_l20_dw_10\", \"IS_pds_l20_dw_11\", \"IS_pds_l20_dw_12\", \"IS_pds_l20_dw_13\", \"IS_pds_l20_dw_14\", \"IS_pds_l20_dw_15\", \"IS_pds_l20_dw_16\", \"IS_pds_l20_dw_17\", \"IS_pds_l20_dw_18\", \"IS_pds_l20_dw_19\", \"IS_pds_l20_dw_20\", \"IS_pds_l20_dw_1_ct\", \"IS_pds_l20_dw_2_ct\", \"IS_pds_l20_dw_3_ct\", \"IS_pds_l20_dw_4_ct\", \"IS_pds_l20_dw_5_ct\", \"IS_pds_l20_dw_6_ct\", \"IS_pds_l20_dw_7_ct\", \"IS_pds_l20_dw_8_ct\", \"IS_pds_l20_dw_9_ct\", \"IS_pds_l20_dw_10_ct\", \"IS_pds_l20_dw_11_ct\", \"IS_pds_l20_dw_12_ct\", \"IS_pds_l20_dw_13_ct\", \"IS_pds_l20_dw_14_ct\", \"IS_pds_l20_dw_15_ct\", \"IS_pds_l20_dw_16_ct\", \"IS_pds_l20_dw_17_ct\", \"IS_pds_l20_dw_18_ct\", \"IS_pds_l20_dw_19_ct\", \"IS_pds_l20_dw_20_ct\", \"IS_pds_l20_ws\", \"IS_pds_l20_ws_ct\"], axis = 1)"
   ]
  },
  {
   "cell_type": "code",
   "execution_count": 1434,
   "id": "0646ca7d",
   "metadata": {},
   "outputs": [],
   "source": [
    "#IS_pds_l25_dw\n",
    "#Provides decay-weighted(dw), puzzle day-specific (pds) mean solve time performance for IS1 over the previous 25 puzzles relative to a given puzzle\n",
    "# Note that the sort is by completion date for IS1, as completion date was avaiable \n",
    "# Note also that, unlike the 10-puzzle moving average, this weighted average does NOT include the \"puzzle at hand\" itself\n",
    "\n",
    "df1 = df1.sort_values(by=['DOW', 'Comp_Date'], ascending = False)\n",
    "\n",
    "w = [25,24,23,22,21,20,19,18,17,16,15,14,13,12,11,10,9,8,7,6,5,4,3,2,1] #weight assigned to puzzle\n",
    "#w = [1,1,1,1,1,1,1,1,1,1,1,1,1,1,1,1,1,1,1,1,1,1,1,1,1] #weight assigned to puzzle\n",
    "\n",
    "#w = [20,18,14,8,4,4,2,2,1,1] #weight assigned to puzzle\n",
    "#w = [20,19,18,17,16,15,14,13,12,11] #weight assigned to puzzle\n",
    "#w = [10,9,8,7,6,5,4,3,2,1] #weight assigned to puzzle\n",
    "#w = [1,1,1,1,1,1,1,1,1,1] #weight assigned to puzzle\n",
    "\n",
    "df1[\"IS_pds_l25_dw_1\"] = df1.groupby(['DOW'])['IS1_ST(m)'].shift(-1)*w[0]\n",
    "df1[\"IS_pds_l25_dw_2\"] = df1.groupby(['DOW'])['IS1_ST(m)'].shift(-2)*w[1]\n",
    "df1[\"IS_pds_l25_dw_3\"] = df1.groupby(['DOW'])['IS1_ST(m)'].shift(-3)*w[2]\n",
    "df1[\"IS_pds_l25_dw_4\"] = df1.groupby(['DOW'])['IS1_ST(m)'].shift(-4)*w[3]\n",
    "df1[\"IS_pds_l25_dw_5\"] = df1.groupby(['DOW'])['IS1_ST(m)'].shift(-5)*w[4]\n",
    "df1[\"IS_pds_l25_dw_6\"] = df1.groupby(['DOW'])['IS1_ST(m)'].shift(-6)*w[5]\n",
    "df1[\"IS_pds_l25_dw_7\"] = df1.groupby(['DOW'])['IS1_ST(m)'].shift(-7)*w[6]\n",
    "df1[\"IS_pds_l25_dw_8\"] = df1.groupby(['DOW'])['IS1_ST(m)'].shift(-8)*w[7]\n",
    "df1[\"IS_pds_l25_dw_9\"] = df1.groupby(['DOW'])['IS1_ST(m)'].shift(-9)*w[8]\n",
    "df1[\"IS_pds_l25_dw_10\"] = df1.groupby(['DOW'])['IS1_ST(m)'].shift(-10)*w[9]\n",
    "df1[\"IS_pds_l25_dw_11\"] = df1.groupby(['DOW'])['IS1_ST(m)'].shift(-11)*w[10]\n",
    "df1[\"IS_pds_l25_dw_12\"] = df1.groupby(['DOW'])['IS1_ST(m)'].shift(-12)*w[11]\n",
    "df1[\"IS_pds_l25_dw_13\"] = df1.groupby(['DOW'])['IS1_ST(m)'].shift(-13)*w[12]\n",
    "df1[\"IS_pds_l25_dw_14\"] = df1.groupby(['DOW'])['IS1_ST(m)'].shift(-14)*w[13]\n",
    "df1[\"IS_pds_l25_dw_15\"] = df1.groupby(['DOW'])['IS1_ST(m)'].shift(-15)*w[14]\n",
    "df1[\"IS_pds_l25_dw_16\"] = df1.groupby(['DOW'])['IS1_ST(m)'].shift(-16)*w[15]\n",
    "df1[\"IS_pds_l25_dw_17\"] = df1.groupby(['DOW'])['IS1_ST(m)'].shift(-17)*w[16]\n",
    "df1[\"IS_pds_l25_dw_18\"] = df1.groupby(['DOW'])['IS1_ST(m)'].shift(-18)*w[17]\n",
    "df1[\"IS_pds_l25_dw_19\"] = df1.groupby(['DOW'])['IS1_ST(m)'].shift(-19)*w[18]\n",
    "df1[\"IS_pds_l25_dw_20\"] = df1.groupby(['DOW'])['IS1_ST(m)'].shift(-20)*w[19]\n",
    "df1[\"IS_pds_l25_dw_21\"] = df1.groupby(['DOW'])['IS1_ST(m)'].shift(-21)*w[20]\n",
    "df1[\"IS_pds_l25_dw_22\"] = df1.groupby(['DOW'])['IS1_ST(m)'].shift(-22)*w[21]\n",
    "df1[\"IS_pds_l25_dw_23\"] = df1.groupby(['DOW'])['IS1_ST(m)'].shift(-23)*w[22]\n",
    "df1[\"IS_pds_l25_dw_24\"] = df1.groupby(['DOW'])['IS1_ST(m)'].shift(-24)*w[23]\n",
    "df1[\"IS_pds_l25_dw_25\"] = df1.groupby(['DOW'])['IS1_ST(m)'].shift(-25)*w[24]\n",
    "\n",
    "df1[\"IS_pds_l25_dw_1_ct\"] = (df1.groupby(['DOW'])['IS1_ST(m)'].shift(-1)/df1.groupby(['DOW'])['IS1_ST(m)'].shift(-1))*w[0]\n",
    "df1[\"IS_pds_l25_dw_2_ct\"] = (df1.groupby(['DOW'])['IS1_ST(m)'].shift(-2)/df1.groupby(['DOW'])['IS1_ST(m)'].shift(-2))*w[1]\n",
    "df1[\"IS_pds_l25_dw_3_ct\"] = (df1.groupby(['DOW'])['IS1_ST(m)'].shift(-3)/df1.groupby(['DOW'])['IS1_ST(m)'].shift(-3))*w[2]\n",
    "df1[\"IS_pds_l25_dw_4_ct\"] = (df1.groupby(['DOW'])['IS1_ST(m)'].shift(-4)/df1.groupby(['DOW'])['IS1_ST(m)'].shift(-4))*w[3]\n",
    "df1[\"IS_pds_l25_dw_5_ct\"] = (df1.groupby(['DOW'])['IS1_ST(m)'].shift(-5)/df1.groupby(['DOW'])['IS1_ST(m)'].shift(-5))*w[4]\n",
    "df1[\"IS_pds_l25_dw_6_ct\"] = (df1.groupby(['DOW'])['IS1_ST(m)'].shift(-6)/df1.groupby(['DOW'])['IS1_ST(m)'].shift(-6))*w[5]\n",
    "df1[\"IS_pds_l25_dw_7_ct\"] = (df1.groupby(['DOW'])['IS1_ST(m)'].shift(-7)/df1.groupby(['DOW'])['IS1_ST(m)'].shift(-7))*w[6]\n",
    "df1[\"IS_pds_l25_dw_8_ct\"] = (df1.groupby(['DOW'])['IS1_ST(m)'].shift(-8)/df1.groupby(['DOW'])['IS1_ST(m)'].shift(-8))*w[7]\n",
    "df1[\"IS_pds_l25_dw_9_ct\"] = (df1.groupby(['DOW'])['IS1_ST(m)'].shift(-9)/df1.groupby(['DOW'])['IS1_ST(m)'].shift(-9))*w[8]\n",
    "df1[\"IS_pds_l25_dw_10_ct\"] = (df1.groupby(['DOW'])['IS1_ST(m)'].shift(-10)/df1.groupby(['DOW'])['IS1_ST(m)'].shift(-10))*w[9]\n",
    "df1[\"IS_pds_l25_dw_11_ct\"] = (df1.groupby(['DOW'])['IS1_ST(m)'].shift(-11)/df1.groupby(['DOW'])['IS1_ST(m)'].shift(-11))*w[10]\n",
    "df1[\"IS_pds_l25_dw_12_ct\"] = (df1.groupby(['DOW'])['IS1_ST(m)'].shift(-12)/df1.groupby(['DOW'])['IS1_ST(m)'].shift(-12))*w[11]\n",
    "df1[\"IS_pds_l25_dw_13_ct\"] = (df1.groupby(['DOW'])['IS1_ST(m)'].shift(-13)/df1.groupby(['DOW'])['IS1_ST(m)'].shift(-13))*w[12]\n",
    "df1[\"IS_pds_l25_dw_14_ct\"] = (df1.groupby(['DOW'])['IS1_ST(m)'].shift(-14)/df1.groupby(['DOW'])['IS1_ST(m)'].shift(-14))*w[13]\n",
    "df1[\"IS_pds_l25_dw_15_ct\"] = (df1.groupby(['DOW'])['IS1_ST(m)'].shift(-15)/df1.groupby(['DOW'])['IS1_ST(m)'].shift(-15))*w[14]\n",
    "df1[\"IS_pds_l25_dw_16_ct\"] = (df1.groupby(['DOW'])['IS1_ST(m)'].shift(-16)/df1.groupby(['DOW'])['IS1_ST(m)'].shift(-16))*w[15]\n",
    "df1[\"IS_pds_l25_dw_17_ct\"] = (df1.groupby(['DOW'])['IS1_ST(m)'].shift(-17)/df1.groupby(['DOW'])['IS1_ST(m)'].shift(-17))*w[16]\n",
    "df1[\"IS_pds_l25_dw_18_ct\"] = (df1.groupby(['DOW'])['IS1_ST(m)'].shift(-18)/df1.groupby(['DOW'])['IS1_ST(m)'].shift(-18))*w[17]\n",
    "df1[\"IS_pds_l25_dw_19_ct\"] = (df1.groupby(['DOW'])['IS1_ST(m)'].shift(-19)/df1.groupby(['DOW'])['IS1_ST(m)'].shift(-19))*w[18]\n",
    "df1[\"IS_pds_l25_dw_20_ct\"] = (df1.groupby(['DOW'])['IS1_ST(m)'].shift(-20)/df1.groupby(['DOW'])['IS1_ST(m)'].shift(-20))*w[19]\n",
    "df1[\"IS_pds_l25_dw_21_ct\"] = (df1.groupby(['DOW'])['IS1_ST(m)'].shift(-21)/df1.groupby(['DOW'])['IS1_ST(m)'].shift(-21))*w[20]\n",
    "df1[\"IS_pds_l25_dw_22_ct\"] = (df1.groupby(['DOW'])['IS1_ST(m)'].shift(-22)/df1.groupby(['DOW'])['IS1_ST(m)'].shift(-22))*w[21]\n",
    "df1[\"IS_pds_l25_dw_23_ct\"] = (df1.groupby(['DOW'])['IS1_ST(m)'].shift(-23)/df1.groupby(['DOW'])['IS1_ST(m)'].shift(-23))*w[22]\n",
    "df1[\"IS_pds_l25_dw_24_ct\"] = (df1.groupby(['DOW'])['IS1_ST(m)'].shift(-24)/df1.groupby(['DOW'])['IS1_ST(m)'].shift(-24))*w[23]\n",
    "df1[\"IS_pds_l25_dw_25_ct\"] = (df1.groupby(['DOW'])['IS1_ST(m)'].shift(-25)/df1.groupby(['DOW'])['IS1_ST(m)'].shift(-25))*w[24]\n",
    "\n",
    "df1[\"IS_pds_l25_ws\"] = df1[[\"IS_pds_l25_dw_1\", \"IS_pds_l25_dw_2\", \"IS_pds_l25_dw_3\", \"IS_pds_l25_dw_4\", \"IS_pds_l25_dw_5\", \"IS_pds_l25_dw_6\", \"IS_pds_l25_dw_7\", \"IS_pds_l25_dw_8\", \"IS_pds_l25_dw_9\", \"IS_pds_l25_dw_10\", \"IS_pds_l25_dw_11\", \"IS_pds_l25_dw_12\", \"IS_pds_l25_dw_13\", \"IS_pds_l25_dw_14\", \"IS_pds_l25_dw_15\", \"IS_pds_l25_dw_16\", \"IS_pds_l25_dw_17\", \"IS_pds_l25_dw_18\", \"IS_pds_l25_dw_19\", \"IS_pds_l25_dw_20\", \"IS_pds_l25_dw_21\", \"IS_pds_l25_dw_22\", \"IS_pds_l25_dw_23\", \"IS_pds_l25_dw_24\", \"IS_pds_l25_dw_25\"]].sum(axis=1)\n",
    "df1[\"IS_pds_l25_ws_ct\"] = df1[[\"IS_pds_l25_dw_1_ct\", \"IS_pds_l25_dw_2_ct\", \"IS_pds_l25_dw_3_ct\", \"IS_pds_l25_dw_4_ct\", \"IS_pds_l25_dw_5_ct\", \"IS_pds_l25_dw_6_ct\", \"IS_pds_l25_dw_7_ct\", \"IS_pds_l25_dw_8_ct\", \"IS_pds_l25_dw_9_ct\", \"IS_pds_l25_dw_10_ct\", \"IS_pds_l25_dw_11_ct\", \"IS_pds_l25_dw_12_ct\", \"IS_pds_l25_dw_13_ct\", \"IS_pds_l25_dw_14_ct\", \"IS_pds_l25_dw_15_ct\", \"IS_pds_l25_dw_16_ct\", \"IS_pds_l25_dw_17_ct\", \"IS_pds_l25_dw_18_ct\", \"IS_pds_l25_dw_19_ct\", \"IS_pds_l25_dw_20_ct\", \"IS_pds_l25_dw_21_ct\", \"IS_pds_l25_dw_22_ct\", \"IS_pds_l25_dw_23_ct\", \"IS_pds_l25_dw_24_ct\", \"IS_pds_l25_dw_25_ct\"]].sum(axis=1)\n",
    "df1[\"IS_pds_l25_dw\"] = df1[\"IS_pds_l25_ws\"]/df1[\"IS_pds_l25_ws_ct\"]\n",
    "\n",
    "# Deleting transient columns\n",
    "df1 = df1.drop([\"IS_pds_l25_dw_1\", \"IS_pds_l25_dw_2\", \"IS_pds_l25_dw_3\", \"IS_pds_l25_dw_4\", \"IS_pds_l25_dw_5\", \"IS_pds_l25_dw_6\", \"IS_pds_l25_dw_7\", \"IS_pds_l25_dw_8\", \"IS_pds_l25_dw_9\", \"IS_pds_l25_dw_10\", \"IS_pds_l25_dw_11\", \"IS_pds_l25_dw_12\", \"IS_pds_l25_dw_13\", \"IS_pds_l25_dw_14\", \"IS_pds_l25_dw_15\", \"IS_pds_l25_dw_16\", \"IS_pds_l25_dw_17\", \"IS_pds_l25_dw_18\", \"IS_pds_l25_dw_19\", \"IS_pds_l25_dw_20\", \"IS_pds_l25_dw_21\", \"IS_pds_l25_dw_22\", \"IS_pds_l25_dw_23\", \"IS_pds_l25_dw_24\", \"IS_pds_l25_dw_25\", \"IS_pds_l25_dw_1_ct\", \"IS_pds_l25_dw_2_ct\", \"IS_pds_l25_dw_3_ct\", \"IS_pds_l25_dw_4_ct\", \"IS_pds_l25_dw_5_ct\", \"IS_pds_l25_dw_6_ct\", \"IS_pds_l25_dw_7_ct\", \"IS_pds_l25_dw_8_ct\", \"IS_pds_l25_dw_9_ct\", \"IS_pds_l25_dw_10_ct\", \"IS_pds_l25_dw_11_ct\", \"IS_pds_l25_dw_12_ct\", \"IS_pds_l25_dw_13_ct\", \"IS_pds_l25_dw_14_ct\", \"IS_pds_l25_dw_15_ct\", \"IS_pds_l25_dw_16_ct\", \"IS_pds_l25_dw_17_ct\", \"IS_pds_l25_dw_18_ct\", \"IS_pds_l25_dw_19_ct\", \"IS_pds_l25_dw_20_ct\", \"IS_pds_l25_dw_21_ct\", \"IS_pds_l25_dw_22_ct\", \"IS_pds_l25_dw_23_ct\", \"IS_pds_l25_dw_24_ct\", \"IS_pds_l25_dw_25_ct\", \"IS_pds_l25_ws\", \"IS_pds_l25_ws_ct\"], axis = 1)"
   ]
  },
  {
   "cell_type": "markdown",
   "id": "b6164441",
   "metadata": {},
   "source": [
    "Creating df variants with only the columns we will need to generate the benchmark models "
   ]
  },
  {
   "cell_type": "code",
   "execution_count": 1435,
   "id": "4674aae5",
   "metadata": {},
   "outputs": [],
   "source": [
    "df_filter=df1.copy()"
   ]
  },
  {
   "cell_type": "code",
   "execution_count": 1436,
   "id": "a027a7e8",
   "metadata": {},
   "outputs": [],
   "source": [
    "#df_model1 = df_filter[[\"IS1_ST(m)\", \"IS_pds_l5_dw\"]]\n",
    "#df_model1 = df_filter[[\"IS1_ST(m)\", \"IS_pds_l8_dw\"]]\n",
    "df_model1 = df_filter[[\"IS1_ST(m)\", \"IS_pds_l9_dw\"]]\n",
    "#df_model1 = df_filter[[\"IS1_ST(m)\", \"IS_pds_l10_dw\"]]\n",
    "#df_model1 = df_filter[[\"IS1_ST(m)\", \"IS_pds_l11_dw\"]]\n",
    "#df_model1 = df_filter[[\"IS1_ST(m)\", \"IS_pds_l12_dw\"]]\n",
    "#df_model1 = df_filter[[\"IS1_ST(m)\", \"IS_pds_l15_dw\"]]\n",
    "#df_model1 = df_filter[[\"IS1_ST(m)\", \"IS_pds_l20_dw\"]]\n",
    "#df_model1 = df_filter[[\"IS1_ST(m)\", \"IS_pds_l25_dw\"]]"
   ]
  },
  {
   "cell_type": "code",
   "execution_count": 1437,
   "id": "55f787a2",
   "metadata": {},
   "outputs": [
    {
     "name": "stdout",
     "output_type": "stream",
     "text": [
      "<class 'pandas.core.frame.DataFrame'>\n",
      "Int64Index: 1011 entries, 377 to 991\n",
      "Data columns (total 2 columns):\n",
      " #   Column        Non-Null Count  Dtype  \n",
      "---  ------        --------------  -----  \n",
      " 0   IS1_ST(m)     1011 non-null   float64\n",
      " 1   IS_pds_l9_dw  1005 non-null   float64\n",
      "dtypes: float64(2)\n",
      "memory usage: 23.7 KB\n"
     ]
    }
   ],
   "source": [
    "df_model1.info()"
   ]
  },
  {
   "cell_type": "markdown",
   "id": "6f76d820",
   "metadata": {},
   "source": [
    "### Train Test Split"
   ]
  },
  {
   "cell_type": "code",
   "execution_count": 1438,
   "id": "37dfcba4",
   "metadata": {},
   "outputs": [
    {
     "data": {
      "text/plain": [
       "(758.25, 252.75)"
      ]
     },
     "execution_count": 1438,
     "metadata": {},
     "output_type": "execute_result"
    }
   ],
   "source": [
    "len(df_model1) * .75, len(df_model1) * .25"
   ]
  },
  {
   "cell_type": "code",
   "execution_count": 1439,
   "id": "41207c43",
   "metadata": {},
   "outputs": [],
   "source": [
    "X_train, X_test, y_train, y_test = train_test_split(df_model1.drop(columns='IS1_ST(m)'), \n",
    "                                                    df_model1[\"IS1_ST(m)\"], test_size=0.25, \n",
    "                                                    random_state=47)"
   ]
  },
  {
   "cell_type": "code",
   "execution_count": 1440,
   "id": "9aadc9a5",
   "metadata": {},
   "outputs": [
    {
     "data": {
      "text/plain": [
       "((758,), (253,))"
      ]
     },
     "execution_count": 1440,
     "metadata": {},
     "output_type": "execute_result"
    }
   ],
   "source": [
    "y_train.shape, y_test.shape"
   ]
  },
  {
   "cell_type": "code",
   "execution_count": 1441,
   "id": "7b3da5c6",
   "metadata": {},
   "outputs": [
    {
     "data": {
      "text/plain": [
       "905    10.766667\n",
       "812     4.916667\n",
       "421    16.350000\n",
       "100    10.116667\n",
       "801    29.033333\n",
       "         ...    \n",
       "283    11.250000\n",
       "313     7.200000\n",
       "946     6.083333\n",
       "528    20.233333\n",
       "854     9.950000\n",
       "Name: IS1_ST(m), Length: 758, dtype: float64"
      ]
     },
     "execution_count": 1441,
     "metadata": {},
     "output_type": "execute_result"
    }
   ],
   "source": [
    "y_train"
   ]
  },
  {
   "cell_type": "code",
   "execution_count": 1442,
   "id": "3944cffa",
   "metadata": {},
   "outputs": [
    {
     "data": {
      "text/plain": [
       "((758, 1), (253, 1))"
      ]
     },
     "execution_count": 1442,
     "metadata": {},
     "output_type": "execute_result"
    }
   ],
   "source": [
    "X_train.shape, X_test.shape"
   ]
  },
  {
   "cell_type": "markdown",
   "id": "2b9eb379",
   "metadata": {},
   "source": [
    "### Pre-Modeling: \"Dummy Model\" (Mean Solve Time in Minutes Across Puzzles)"
   ]
  },
  {
   "cell_type": "code",
   "execution_count": 1443,
   "id": "a9e3929c",
   "metadata": {},
   "outputs": [
    {
     "data": {
      "text/plain": [
       "11.21567722075638"
      ]
     },
     "execution_count": 1443,
     "metadata": {},
     "output_type": "execute_result"
    }
   ],
   "source": [
    "#Target feature (IS1_ST(m)) training set mean\n",
    "train_mean = y_train.mean()\n",
    "train_mean"
   ]
  },
  {
   "cell_type": "code",
   "execution_count": 1444,
   "id": "ef94f8da",
   "metadata": {},
   "outputs": [
    {
     "data": {
      "text/plain": [
       "array([[11.21567722]])"
      ]
     },
     "execution_count": 1444,
     "metadata": {},
     "output_type": "execute_result"
    }
   ],
   "source": [
    "#Fitting dummy regressor to training data (from sklearn). Outputs the training set mean.\n",
    "dumb_reg = DummyRegressor(strategy='mean')\n",
    "dumb_reg.fit(X_train, y_train)\n",
    "dumb_reg.constant_"
   ]
  },
  {
   "cell_type": "code",
   "execution_count": 1445,
   "id": "f20954f3",
   "metadata": {},
   "outputs": [
    {
     "data": {
      "text/plain": [
       "array([11.21567722, 11.21567722, 11.21567722, 11.21567722, 11.21567722])"
      ]
     },
     "execution_count": 1445,
     "metadata": {},
     "output_type": "execute_result"
    }
   ],
   "source": [
    "y_tr_pred = dumb_reg.predict(X_train)\n",
    "y_tr_pred[:5]"
   ]
  },
  {
   "cell_type": "code",
   "execution_count": 1446,
   "id": "682d3306",
   "metadata": {},
   "outputs": [],
   "source": [
    "y_te_pred = train_mean * np.ones(len(y_test))"
   ]
  },
  {
   "cell_type": "markdown",
   "id": "69f9a10a",
   "metadata": {},
   "source": [
    "#### R-Squared (COD)"
   ]
  },
  {
   "cell_type": "code",
   "execution_count": 1447,
   "id": "a5db87e4",
   "metadata": {},
   "outputs": [
    {
     "data": {
      "text/plain": [
       "(0.0, -0.0012663416979354913)"
      ]
     },
     "execution_count": 1447,
     "metadata": {},
     "output_type": "execute_result"
    }
   ],
   "source": [
    "#Compute R-squared for target mean on training set (will be zero, since we are calculating mean on training set), and on test set (should be slightly different from zero)\n",
    "r2_score(y_train, y_tr_pred), r2_score(y_test, y_te_pred)"
   ]
  },
  {
   "cell_type": "markdown",
   "id": "68d65bdb",
   "metadata": {},
   "source": [
    "proportion of the variance for a dependent variable that's explained by our features. It's close to zero for the dummy model as expected."
   ]
  },
  {
   "cell_type": "markdown",
   "id": "13b2e460",
   "metadata": {},
   "source": [
    "#### Mean Absolute Error (MAE)"
   ]
  },
  {
   "cell_type": "code",
   "execution_count": 1448,
   "id": "6eac49b9",
   "metadata": {},
   "outputs": [
    {
     "data": {
      "text/plain": [
       "(4.478327450611826, 4.385660638737959)"
      ]
     },
     "execution_count": 1448,
     "metadata": {},
     "output_type": "execute_result"
    }
   ],
   "source": [
    "MAEs_dummy = mean_absolute_error(y_train, y_tr_pred), mean_absolute_error(y_test, y_te_pred)\n",
    "MAEs_dummy"
   ]
  },
  {
   "cell_type": "markdown",
   "id": "6e77ae7a",
   "metadata": {},
   "source": [
    "On average, we might expect to be off by around 4.45 minutes on training set data and 4.42 minutes on test data if you guessed a given player's solve time on a given 15x15 puzzle based simply on an average of known values across all puzzles (and puzzle days)"
   ]
  },
  {
   "cell_type": "markdown",
   "id": "3d8d0a0c",
   "metadata": {},
   "source": [
    "#### Mean Squared Error (MSE)"
   ]
  },
  {
   "cell_type": "code",
   "execution_count": 1449,
   "id": "ce641104",
   "metadata": {},
   "outputs": [
    {
     "data": {
      "text/plain": [
       "(34.18643445048961, 35.44477790971911)"
      ]
     },
     "execution_count": 1449,
     "metadata": {},
     "output_type": "execute_result"
    }
   ],
   "source": [
    "#Calculate the Mean Squared Error (average of the square of the errors)\n",
    "MSEs_dummy = mean_squared_error(y_train, y_tr_pred), mean_squared_error(y_test, y_te_pred)\n",
    "MSEs_dummy"
   ]
  },
  {
   "cell_type": "markdown",
   "id": "6bf480c4",
   "metadata": {},
   "source": [
    "#### Root Mean Squared Error (RMSE)"
   ]
  },
  {
   "cell_type": "code",
   "execution_count": 1450,
   "id": "9d96b979",
   "metadata": {},
   "outputs": [
    {
     "data": {
      "text/plain": [
       "(5.846916661838923, 5.953551705471206)"
      ]
     },
     "execution_count": 1450,
     "metadata": {},
     "output_type": "execute_result"
    }
   ],
   "source": [
    "RMSEs_dummy = np.sqrt(mean_squared_error(y_train, y_tr_pred)), np.sqrt(mean_squared_error(y_test, y_te_pred))\n",
    "RMSEs_dummy"
   ]
  },
  {
   "cell_type": "markdown",
   "id": "a297aad7",
   "metadata": {},
   "source": [
    "## Benchmark Linear Model Based on Last 10 Day-Specific Puzzles With Decay Weighting"
   ]
  },
  {
   "cell_type": "code",
   "execution_count": 1451,
   "id": "2dffb29e",
   "metadata": {},
   "outputs": [
    {
     "name": "stdout",
     "output_type": "stream",
     "text": [
      "<class 'pandas.core.frame.DataFrame'>\n",
      "Int64Index: 758 entries, 905 to 854\n",
      "Data columns (total 1 columns):\n",
      " #   Column        Non-Null Count  Dtype  \n",
      "---  ------        --------------  -----  \n",
      " 0   IS_pds_l9_dw  752 non-null    float64\n",
      "dtypes: float64(1)\n",
      "memory usage: 11.8 KB\n"
     ]
    }
   ],
   "source": [
    "X_train.info()"
   ]
  },
  {
   "cell_type": "code",
   "execution_count": 1452,
   "id": "3f05e589",
   "metadata": {},
   "outputs": [],
   "source": [
    "lr_pipe = make_pipeline(\n",
    "    SimpleImputer(strategy='median'), \n",
    "    StandardScaler(),\n",
    "    SelectKBest(f_regression),\n",
    "    LinearRegression()\n",
    ")"
   ]
  },
  {
   "cell_type": "code",
   "execution_count": 1453,
   "id": "3b6274eb",
   "metadata": {},
   "outputs": [
    {
     "data": {
      "text/plain": [
       "dict_keys(['memory', 'steps', 'verbose', 'simpleimputer', 'standardscaler', 'selectkbest', 'linearregression', 'simpleimputer__add_indicator', 'simpleimputer__copy', 'simpleimputer__fill_value', 'simpleimputer__missing_values', 'simpleimputer__strategy', 'simpleimputer__verbose', 'standardscaler__copy', 'standardscaler__with_mean', 'standardscaler__with_std', 'selectkbest__k', 'selectkbest__score_func', 'linearregression__copy_X', 'linearregression__fit_intercept', 'linearregression__n_jobs', 'linearregression__normalize', 'linearregression__positive'])"
      ]
     },
     "execution_count": 1453,
     "metadata": {},
     "output_type": "execute_result"
    }
   ],
   "source": [
    "#Dict of available parameters for linear regression pipe\n",
    "lr_pipe.get_params().keys()"
   ]
  },
  {
   "cell_type": "code",
   "execution_count": 1454,
   "id": "8d45a3c7",
   "metadata": {},
   "outputs": [],
   "source": [
    "#Define search grid parameters\n",
    "k = [k+1 for k in range(len(X_train.columns))]\n",
    "\n",
    "grid_params = {\n",
    "    'standardscaler': [StandardScaler(), None],\n",
    "    'simpleimputer__strategy': ['mean', 'median'],\n",
    "    'selectkbest__k': k\n",
    "}"
   ]
  },
  {
   "cell_type": "code",
   "execution_count": 1455,
   "id": "03fa5d78",
   "metadata": {},
   "outputs": [],
   "source": [
    "#Call `GridSearchCV` with linear regression pipeline, passing in the above `grid_params`\n",
    "#dict for parameters to evaluate with 5-fold cross-validation\n",
    "lr_grid_cv = GridSearchCV(lr_pipe, param_grid=grid_params, cv=5)"
   ]
  },
  {
   "cell_type": "code",
   "execution_count": 1456,
   "id": "c1947d57",
   "metadata": {},
   "outputs": [
    {
     "data": {
      "text/plain": [
       "GridSearchCV(cv=5,\n",
       "             estimator=Pipeline(steps=[('simpleimputer',\n",
       "                                        SimpleImputer(strategy='median')),\n",
       "                                       ('standardscaler', StandardScaler()),\n",
       "                                       ('selectkbest',\n",
       "                                        SelectKBest(score_func=<function f_regression at 0x0000023F02EF3310>)),\n",
       "                                       ('linearregression',\n",
       "                                        LinearRegression())]),\n",
       "             param_grid={'selectkbest__k': [1],\n",
       "                         'simpleimputer__strategy': ['mean', 'median'],\n",
       "                         'standardscaler': [StandardScaler(), None]})"
      ]
     },
     "execution_count": 1456,
     "metadata": {},
     "output_type": "execute_result"
    }
   ],
   "source": [
    "#Conduct grid search for this model\n",
    "lr_grid_cv.fit(X_train, y_train)"
   ]
  },
  {
   "cell_type": "code",
   "execution_count": 1457,
   "id": "a1106123",
   "metadata": {},
   "outputs": [
    {
     "data": {
      "text/plain": [
       "{'selectkbest__k': 1,\n",
       " 'simpleimputer__strategy': 'mean',\n",
       " 'standardscaler': StandardScaler()}"
      ]
     },
     "execution_count": 1457,
     "metadata": {},
     "output_type": "execute_result"
    }
   ],
   "source": [
    "#Best params from grid search for this model\n",
    "lr_grid_cv.best_params_"
   ]
  },
  {
   "cell_type": "markdown",
   "id": "eaaa954d",
   "metadata": {},
   "source": [
    "#### K Best Features Visualization"
   ]
  },
  {
   "cell_type": "code",
   "execution_count": 1458,
   "id": "cb3d0008",
   "metadata": {},
   "outputs": [
    {
     "data": {
      "image/png": "[encoded data removed]",
      "text/plain": [
       "<Figure size 720x360 with 1 Axes>"
      ]
     },
     "metadata": {
      "needs_background": "light"
     },
     "output_type": "display_data"
    }
   ],
   "source": [
    "score_mean = lr_grid_cv.cv_results_['mean_test_score']\n",
    "score_std = lr_grid_cv.cv_results_['std_test_score']\n",
    "cv_k = [k for k in lr_grid_cv.cv_results_['param_selectkbest__k']]\n",
    "\n",
    "best_k = lr_grid_cv.best_params_['selectkbest__k']\n",
    "plt.subplots(figsize=(10, 5))\n",
    "plt.errorbar(cv_k, score_mean, yerr=score_std)\n",
    "plt.axvline(x=best_k, c='r', ls='--', alpha=.5)\n",
    "plt.xlabel('k')\n",
    "plt.ylabel('CV score (r-squared)')\n",
    "plt.title('Pipeline mean CV score (error bars +/- 1sd)');"
   ]
  },
  {
   "cell_type": "markdown",
   "id": "95754b7d",
   "metadata": {},
   "source": [
    "### Linear Model From RPB (10 Match Decay-Weighted)"
   ]
  },
  {
   "cell_type": "markdown",
   "id": "7b934d9b",
   "metadata": {},
   "source": [
    "#### R-squared (COD)"
   ]
  },
  {
   "cell_type": "code",
   "execution_count": 1459,
   "id": "9fe2be9c",
   "metadata": {},
   "outputs": [
    {
     "data": {
      "text/plain": [
       "array([0.62314695, 0.53978927, 0.45687333, 0.59278341, 0.53472247])"
      ]
     },
     "execution_count": 1459,
     "metadata": {},
     "output_type": "execute_result"
    }
   ],
   "source": [
    "#Cross-validation defaults to R^2 metric for scoring regression\n",
    "lr_best_cv_results = cross_validate(lr_grid_cv.best_estimator_, X_train, y_train, cv=5)\n",
    "lr_best_scores = lr_best_cv_results['test_score']\n",
    "lr_best_scores"
   ]
  },
  {
   "cell_type": "code",
   "execution_count": 1460,
   "id": "ff3d458a",
   "metadata": {},
   "outputs": [
    {
     "data": {
      "text/plain": [
       "(0.5494630828697271, 0.056902888224177064)"
      ]
     },
     "execution_count": 1460,
     "metadata": {},
     "output_type": "execute_result"
    }
   ],
   "source": [
    "#Training set CV mean and std\n",
    "np.mean(lr_best_scores), np.std(lr_best_scores)"
   ]
  },
  {
   "cell_type": "markdown",
   "id": "eb63283c",
   "metadata": {},
   "source": [
    "#### Mean Absolute Error (MAE)"
   ]
  },
  {
   "cell_type": "code",
   "execution_count": 1461,
   "id": "73d54fe8",
   "metadata": {},
   "outputs": [],
   "source": [
    "lr_neg_mae = cross_validate(lr_grid_cv.best_estimator_, X_train, y_train, \n",
    "                            scoring='neg_mean_absolute_error', cv=5, n_jobs=-1)"
   ]
  },
  {
   "cell_type": "code",
   "execution_count": 1462,
   "id": "6ed58255",
   "metadata": {},
   "outputs": [
    {
     "data": {
      "text/plain": [
       "(2.554699730748248, 0.23609854615483628)"
      ]
     },
     "execution_count": 1462,
     "metadata": {},
     "output_type": "execute_result"
    }
   ],
   "source": [
    "# Training set MAE and STD \n",
    "lr_mae_mean = np.mean(-1 * lr_neg_mae['test_score'])\n",
    "lr_mae_std = np.std(-1 * lr_neg_mae['test_score'])\n",
    "MAE_LR_train = lr_mae_mean, lr_mae_std\n",
    "MAE_LR_train"
   ]
  },
  {
   "cell_type": "code",
   "execution_count": 1463,
   "id": "3142ce5e",
   "metadata": {},
   "outputs": [
    {
     "data": {
      "text/plain": [
       "2.718725911481038"
      ]
     },
     "execution_count": 1463,
     "metadata": {},
     "output_type": "execute_result"
    }
   ],
   "source": [
    "# Test set mean\n",
    "MAE_LR_test = mean_absolute_error(y_test, lr_grid_cv.best_estimator_.predict(X_test))\n",
    "MAE_LR_test"
   ]
  },
  {
   "cell_type": "markdown",
   "id": "2bd96b16",
   "metadata": {},
   "source": [
    "#### Mean Squared Error (MSE)"
   ]
  },
  {
   "cell_type": "code",
   "execution_count": 1464,
   "id": "d7bb4408",
   "metadata": {},
   "outputs": [],
   "source": [
    "lr_neg_mse = cross_validate(lr_grid_cv.best_estimator_, X_train, y_train, \n",
    "                            scoring='neg_mean_squared_error', cv=5)"
   ]
  },
  {
   "cell_type": "code",
   "execution_count": 1465,
   "id": "590c02f0",
   "metadata": {},
   "outputs": [
    {
     "data": {
      "text/plain": [
       "(15.526503724958967, 4.973939021348399)"
      ]
     },
     "execution_count": 1465,
     "metadata": {},
     "output_type": "execute_result"
    }
   ],
   "source": [
    "#Training set CV mean and std\n",
    "lr_mse_mean = np.mean(-1 * lr_neg_mse['test_score'])\n",
    "lr_mse_std = np.std(-1 * lr_neg_mse['test_score'])\n",
    "MSE_LR_train = lr_mse_mean, lr_mse_std\n",
    "MSE_LR_train"
   ]
  },
  {
   "cell_type": "code",
   "execution_count": 1466,
   "id": "ec4b5820",
   "metadata": {},
   "outputs": [
    {
     "data": {
      "text/plain": [
       "18.39910414588313"
      ]
     },
     "execution_count": 1466,
     "metadata": {},
     "output_type": "execute_result"
    }
   ],
   "source": [
    "# Test set mean\n",
    "MSE_LR_test = mean_squared_error(y_test, lr_grid_cv.best_estimator_.predict(X_test))\n",
    "MSE_LR_test"
   ]
  },
  {
   "cell_type": "markdown",
   "id": "e903f84c",
   "metadata": {},
   "source": [
    "#### Root Mean Square Error (RMSE)"
   ]
  },
  {
   "cell_type": "code",
   "execution_count": 1467,
   "id": "3400ccba",
   "metadata": {},
   "outputs": [],
   "source": [
    "lr_neg_rmse = cross_validate(lr_grid_cv.best_estimator_, X_train, y_train, \n",
    "                            scoring='neg_root_mean_squared_error', cv=5)"
   ]
  },
  {
   "cell_type": "code",
   "execution_count": 1468,
   "id": "feef3271",
   "metadata": {},
   "outputs": [
    {
     "data": {
      "text/plain": [
       "(3.891412757895643, 0.6192014798480353)"
      ]
     },
     "execution_count": 1468,
     "metadata": {},
     "output_type": "execute_result"
    }
   ],
   "source": [
    "#Training set CV mean and std\n",
    "lr_rmse_mean = np.mean(-1 * lr_neg_rmse['test_score'])\n",
    "lr_rmse_std = np.std(-1 * lr_neg_rmse['test_score'])\n",
    "RMSE_LR_train = lr_rmse_mean, lr_rmse_std\n",
    "RMSE_LR_train"
   ]
  },
  {
   "cell_type": "code",
   "execution_count": 1469,
   "id": "ecd941f3",
   "metadata": {},
   "outputs": [
    {
     "data": {
      "text/plain": [
       "4.289417693100443"
      ]
     },
     "execution_count": 1469,
     "metadata": {},
     "output_type": "execute_result"
    }
   ],
   "source": [
    "# Test set mean\n",
    "RMSE_LR_test = np.sqrt(mean_squared_error(y_test, lr_grid_cv.best_estimator_.predict(X_test)))\n",
    "RMSE_LR_test"
   ]
  },
  {
   "cell_type": "markdown",
   "id": "475343f2",
   "metadata": {},
   "source": [
    "Results for Different Decay-Variants (RMSE) deviation in minutes\n",
    "\n",
    "Previous 5-day specific puzzles weighting: (5,4,3,2,1)\n",
    "Training: (3.915345074342537, 0.6155598978071914), Test: 4.382535506380705\n",
    "\n",
    "Previous 5-day specific puzzles weighting: (1,1,1,1,1)\n",
    "Training: (3.8945859888878593, 0.5519376928038681), Test: 4.375225360813354\n",
    "\n",
    "\n",
    "Previous 8-day specific puzzles weighting: (8,7,6,5,4,3,2,1)\n",
    "Training: (3.8504924686088016, 0.5915351251198585), Test: 4.31374458895587\n",
    "\n",
    "Previous 8-day specific puzzles weighting: (1,1,1,1,1,1,1,1)\n",
    "Training: (3.8649848758011904, 0.612971868687295), Test: 4.313267816786398 \n",
    "\n",
    "\n",
    "Previous 9-day specific puzzles weighting: (9,8,7,6,5,4,3,2,1)\n",
    "Training: (3.8466314674493107, 0.5946269140447683), Test: 4.296459891746264\n",
    "\n",
    "Previous 9-day specific puzzles weighting: (1,1,1,1,1,1,1,1,1)\n",
    "Training: (3.891412757895643, 0.6192014798480353), Test: 4.289417693100443 \n",
    "\n",
    "\n",
    "Previous 10-day specific puzzles weighting: (10,9,8,7,6,5,4,3,2,1)\n",
    "Training: (3.847234033292069, 0.6009763033490383), Test: 4.277150691713412\n",
    "\n",
    "Previous 10-day specific puzzles weighting: (10,9,8,7,6,5,5,3,3,1)\n",
    "Training: (3.8479967550817578, 0.6000188774235256), Test: 4.270743564448638\n",
    "\n",
    "Previous 10-day specific puzzles weighting: (10,8,6,6,4,4,2,2,1,1)\n",
    "Training: (3.854354253675743, 0.6180778192203739), Test: 4.296567372703105\n",
    "\n",
    "Previous 10-day specific puzzles weighting: (10,9,8,7,6,5,5,5,5,5)\n",
    "Training: (3.866554067830525, 0.6211380904233391), Test: 4.241658734049114\n",
    "\n",
    "Previous 10-day specific puzzles weighting: (20,19,18,17,16,15,14,13,12,11,10)\n",
    "Training: (3.8737130330595733, 0.6231762685234041), Test: 4.253979211553055\n",
    "\n",
    "Previous 10-day specific puzzles NO decay weighting: (1,1,1,1,1,1,1,1,1,1)\n",
    "Training: (3.9038964735885457, 0.6372330190942326), Test: 4.263505343778191\n",
    "\n",
    "\n",
    "Previous 11-day specific puzzles weighting: (11,10,9,8,7,6,5,4,3,2,1)\n",
    "Training: (3.8482128874606074, 0.6090735020067066), Test: 4.26896124626266\n",
    "\n",
    "Previous 11-day specific puzzles NO decay weighting: (1,1,1,1,1,1,1,1,1,1)\n",
    "Training: (3.9059080965315602, 0.6522145259650349), Test: 4.3027631684500545 \n",
    "\n",
    "\n",
    "Previous 12-day specific puzzles weighting: (12,11,10,9,8,7,6,5,4,3,2,1)\n",
    "Training: (3.849547648047565, 0.61612893752272), Test: 4.257136968872072\n",
    "\n",
    "Previous 12-day specific puzzles weighting: (1,1,1,1,1,1,1,1,1,1,1,1)\n",
    "Training: (3.9089312807751795, 0.6530922689898392), Test: 4.269806946863581\n",
    "\n",
    "\n",
    "Previous 15-day specific puzzles weighting: (15,14,13,12,11,10,9,8,7,6,5,4,3,2,1)\n",
    "Training: (3.8635318843550293, 0.6344643195331637), Test: 4.233343405440599\n",
    "\n",
    "Previous 15-day specific puzzles weighting: (1,1,1,1,1,1,1,1,1,1,1,1,1,1,1,1,1)\n",
    "Training: (3.944784682444049, 0.6744106328438765) Test: 4.2454522859384785\n",
    "\n",
    "\n",
    "Previous 20-day specific puzzles weighting: (20,19,18,17,16,15,14,13,12,11,10,9,8,7,6,5,4,3,2,1)\n",
    "Training: (3.8918029008485746, 0.6588113120419208), Test: 4.211502107056172\n",
    "\n",
    "Previous 20-day specific puzzles NO decay weighting: (all 1s)\n",
    "Training: (4.015432390148954, 0.6740839059165197), Test: 4.25595169169006\n",
    "\n",
    "\n",
    "Previous 25-day specific puzzles weighting: (25,24,23,22,21,20,19,18,17,16,15,14,13,12,11,10,9,8,7,6,5,4,3,2,1)\n",
    "Training: (3.9200738462150655, 0.6638611588615868), Test: 4.212079917321661\n",
    "\n",
    "Previous 25-day specific puzzles NO decay weighting: (all 1s)\n",
    "Training: (4.026272473154494, 0.6792946628723928) , Test: 4.277048901170724 "
   ]
  },
  {
   "cell_type": "markdown",
   "id": "6d19978c",
   "metadata": {},
   "source": [
    "Conclusions\n",
    "* Using last 9 or 10 puzzles clearly superior to using the last 15, 20, or last 25 for this solver. Last 9 slightly better than last 10 and clearly better than last 8. \n",
    "* Using 'standard' decay weighting clearly superior to using no decay weighting or other curves for both short (last 10) and long (last 15,20,25) stats aggregation windows"
   ]
  },
  {
   "cell_type": "code",
   "execution_count": null,
   "id": "42db6fa9",
   "metadata": {},
   "outputs": [],
   "source": []
  },
  {
   "cell_type": "code",
   "execution_count": null,
   "id": "9e87b037",
   "metadata": {},
   "outputs": [],
   "source": []
  },
  {
   "cell_type": "code",
   "execution_count": null,
   "id": "5df39b28",
   "metadata": {},
   "outputs": [],
   "source": []
  },
  {
   "cell_type": "code",
   "execution_count": null,
   "id": "d4de526f",
   "metadata": {},
   "outputs": [],
   "source": []
  }
 ],
 "metadata": {
  "kernelspec": {
   "display_name": "Python 3",
   "language": "python",
   "name": "python3"
  },
  "language_info": {
   "codemirror_mode": {
    "name": "ipython",
    "version": 3
   },
   "file_extension": ".py",
   "mimetype": "text/x-python",
   "name": "python",
   "nbconvert_exporter": "python",
   "pygments_lexer": "ipython3",
   "version": "3.8.8"
  }
 },
 "nbformat": 4,
 "nbformat_minor": 5
}
