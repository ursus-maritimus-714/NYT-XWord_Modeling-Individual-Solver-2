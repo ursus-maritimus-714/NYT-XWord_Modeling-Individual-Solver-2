{
 "cells": [
  {
   "cell_type": "code",
   "execution_count": 2,
   "id": "1db3739c",
   "metadata": {},
   "outputs": [],
   "source": [
    "import pandas as pd\n",
    "import numpy as np\n",
    "import os\n",
    "import matplotlib.pyplot as plt\n",
    "import seaborn as sns"
   ]
  },
  {
   "cell_type": "markdown",
   "id": "cb053fad",
   "metadata": {},
   "source": [
    "* Figures 1-5 were generated during the EDA process and were taken for the Github Readme from 02_IS2_EDA. \n",
    "* Figure 6 is a Methods schematic figure that was created in Power Point and can be found in the project Reporting folder in the 'layouts for IS2 summary' ppt deck. \n",
    "* Figure S1 comes from 04_IS2_Modeling (3 different components from ______ modeling sequence)"
   ]
  },
  {
   "cell_type": "markdown",
   "id": "30b97eec",
   "metadata": {},
   "source": [
    "### Figure 7. Best Model Prediction Quality vs Benchmark Models\n",
    "Data imported from 03_IS2_Preprocessing_Training-CompletionRangeFiltered, 04_IS2_Modeling\n",
    "Best model was Gradient Boosting Regression Model (see notebook 4 for hyperparameters, other metrics besides RMSE, etc. for all models tested)"
   ]
  },
  {
   "cell_type": "code",
   "execution_count": 3,
   "id": "aff5cb4d",
   "metadata": {},
   "outputs": [
    {
     "data": {
      "text/html": [
       "<div>\n",
       "<style scoped>\n",
       "    .dataframe tbody tr th:only-of-type {\n",
       "        vertical-align: middle;\n",
       "    }\n",
       "\n",
       "    .dataframe tbody tr th {\n",
       "        vertical-align: top;\n",
       "    }\n",
       "\n",
       "    .dataframe thead th {\n",
       "        text-align: right;\n",
       "    }\n",
       "</style>\n",
       "<table border=\"1\" class=\"dataframe\">\n",
       "  <thead>\n",
       "    <tr style=\"text-align: right;\">\n",
       "      <th></th>\n",
       "      <th>Model_Inclusion</th>\n",
       "      <th>Training_Error</th>\n",
       "      <th>Training_SD</th>\n",
       "      <th>Testing_Error</th>\n",
       "    </tr>\n",
       "  </thead>\n",
       "  <tbody>\n",
       "    <tr>\n",
       "      <th>0</th>\n",
       "      <td>Full_Best_Model</td>\n",
       "      <td>8.023095</td>\n",
       "      <td>0.435955</td>\n",
       "      <td>12.282072</td>\n",
       "    </tr>\n",
       "    <tr>\n",
       "      <th>1</th>\n",
       "      <td>Mean_Sample_PDS_IST</td>\n",
       "      <td>9.448710</td>\n",
       "      <td>0.637745</td>\n",
       "      <td>13.138022</td>\n",
       "    </tr>\n",
       "    <tr>\n",
       "      <th>2</th>\n",
       "      <td>Dummy</td>\n",
       "      <td>13.031511</td>\n",
       "      <td>0.000000</td>\n",
       "      <td>17.043458</td>\n",
       "    </tr>\n",
       "  </tbody>\n",
       "</table>\n",
       "</div>"
      ],
      "text/plain": [
       "       Model_Inclusion  Training_Error  Training_SD  Testing_Error\n",
       "0      Full_Best_Model        8.023095     0.435955      12.282072\n",
       "1  Mean_Sample_PDS_IST        9.448710     0.637745      13.138022\n",
       "2                Dummy       13.031511     0.000000      17.043458"
      ]
     },
     "execution_count": 3,
     "metadata": {},
     "output_type": "execute_result"
    }
   ],
   "source": [
    "data = [[\"Full_Best_Model\", 8.02309533080152, 0.4359553959442986, 12.282071506546062], [\"Mean_Sample_PDS_IST\", 9.448709636752714, 0.6377445285996397, 13.138022364430016], [\"Dummy\", 13.031511135744932, 0, 17.043458193779006]]\n",
    "df = pd.DataFrame(data, columns=[\"Model_Inclusion\", \"Training_Error\", \"Training_SD\", \"Testing_Error\"])\n",
    "df"
   ]
  },
  {
   "cell_type": "code",
   "execution_count": 6,
   "id": "93e2d2b2",
   "metadata": {},
   "outputs": [
    {
     "data": {
      "text/plain": [
       "(6.0, 14.0)"
      ]
     },
     "execution_count": 6,
     "metadata": {},
     "output_type": "execute_result"
    },
    {
     "data": {
      "image/png": "[encoded data removed]",
      "text/plain": [
       "<Figure size 432x288 with 1 Axes>"
      ]
     },
     "metadata": {
      "needs_background": "light"
     },
     "output_type": "display_data"
    }
   ],
   "source": [
    "#plt.figure(figsize=(20, 10))\n",
    "g = sns.barplot(x=\"Model_Inclusion\",y=\"Training_Error\",data=df, palette = [\"gray\", \"rosybrown\", \"tan\"], yerr=df[\"Training_SD\"]*1)\n",
    "g.set_ylabel(\"training_error (mean + sd)\")\n",
    "#g.set(xticklabels=[\"\", \"\"])\n",
    "g.set_xlabel(\"Model_Error\")\n",
    "g.set_ylim(6,14)"
   ]
  },
  {
   "cell_type": "code",
   "execution_count": 7,
   "id": "51db096c",
   "metadata": {},
   "outputs": [],
   "source": [
    "###### Mean target feature (IS2_ST, in minutes) value for training set across all 15x15 puzzles\n",
    "y_train_mean = 18.116513961605584"
   ]
  },
  {
   "cell_type": "code",
   "execution_count": 8,
   "id": "21f7e01c",
   "metadata": {},
   "outputs": [
    {
     "data": {
      "text/plain": [
       "44.28608808408121"
      ]
     },
     "execution_count": 8,
     "metadata": {},
     "output_type": "execute_result"
    }
   ],
   "source": [
    "# Calculate % difference from training set mean solve time represented by Full_Best_Model mean error\n",
    "error_pct = (df['Training_Error'][0]/y_train_mean)*100\n",
    "error_pct"
   ]
  },
  {
   "cell_type": "code",
   "execution_count": 9,
   "id": "cec3feef",
   "metadata": {},
   "outputs": [
    {
     "data": {
      "text/plain": [
       "52.15523061874602"
      ]
     },
     "execution_count": 9,
     "metadata": {},
     "output_type": "execute_result"
    }
   ],
   "source": [
    "# Calculate % difference from training set mean solve time represented by Mean PDS IST_ST mean error\n",
    "error_pct = (df['Training_Error'][1]/y_train_mean)*100\n",
    "error_pct"
   ]
  },
  {
   "cell_type": "code",
   "execution_count": 10,
   "id": "b2be4aed",
   "metadata": {},
   "outputs": [
    {
     "data": {
      "text/plain": [
       "71.93167053751442"
      ]
     },
     "execution_count": 10,
     "metadata": {},
     "output_type": "execute_result"
    }
   ],
   "source": [
    "# Calculate % difference from training set mean solve time represented by Dummy mean error\n",
    "error_pct = (df['Training_Error'][2]/y_train_mean)*100\n",
    "error_pct"
   ]
  },
  {
   "cell_type": "markdown",
   "id": "fac961b0",
   "metadata": {},
   "source": [
    "### Figure 8. Effect on Model Prediction Quality of Removing Individual Feature Classes or Adjustments from the Best Model\n",
    "Data imported from 03_IS2_Preprocessing_Training, 04_IS2_Modeling, and 04a_IS2_Modeling-FeatureSubtraction\n",
    "No SOS Adjustment feature set generated in 01_IS2_Cleaning_Wrangling_Feature_Dev_no_SOS_adj and model itself generated in 04a_IS2_Modeling_no_SOS_adj"
   ]
  },
  {
   "cell_type": "code",
   "execution_count": 11,
   "id": "e203e9d1",
   "metadata": {},
   "outputs": [
    {
     "data": {
      "text/plain": [
       "((7.983046740676125, 0.5119959170113279), 12.636308520600979)"
      ]
     },
     "execution_count": 11,
     "metadata": {},
     "output_type": "execute_result"
    }
   ],
   "source": [
    "# Best Full Model\n",
    "(8.02309533080152, 0.4359553959442986), 12.282071506546062\n",
    "\n",
    "# No Past Performance Features OR DOW\n",
    "(9.233917707165777, 0.8450857002076172), 13.180310255814726\n",
    "\n",
    "# No Past Performance features\n",
    "(8.884212696375034, 0.7600348458859222), 12.780835598558786\n",
    "\n",
    "# No Answer Features\n",
    "(8.286500820819706, 0.4057619070609773), 12.611994295554085\n",
    "\n",
    "# No DOW\n",
    "(8.122112156132893, 0.37762417891115185), 12.53938456266004\n",
    "\n",
    "# No CLue Features\n",
    "(8.08387269949158, 0.4419400082031415), 12.618742484849484\n",
    "\n",
    "# No Circadian Features\n",
    "(8.056952953013209, 0.37727502334537644), 12.674274394053985\n",
    "\n",
    "# No Strength of Schedule Adjustment\n",
    "(8.019882073111452, 0.30697277968957937), 12.497865222843219\n",
    "\n",
    "# No Grid Features\n",
    "(7.983046740676125, 0.5119959170113279), 12.636308520600979"
   ]
  },
  {
   "cell_type": "code",
   "execution_count": 12,
   "id": "add54520",
   "metadata": {},
   "outputs": [
    {
     "data": {
      "text/html": [
       "<div>\n",
       "<style scoped>\n",
       "    .dataframe tbody tr th:only-of-type {\n",
       "        vertical-align: middle;\n",
       "    }\n",
       "\n",
       "    .dataframe tbody tr th {\n",
       "        vertical-align: top;\n",
       "    }\n",
       "\n",
       "    .dataframe thead th {\n",
       "        text-align: right;\n",
       "    }\n",
       "</style>\n",
       "<table border=\"1\" class=\"dataframe\">\n",
       "  <thead>\n",
       "    <tr style=\"text-align: right;\">\n",
       "      <th></th>\n",
       "      <th>Model Inclusion</th>\n",
       "      <th>Training Error</th>\n",
       "      <th>Training SD</th>\n",
       "    </tr>\n",
       "  </thead>\n",
       "  <tbody>\n",
       "    <tr>\n",
       "      <th>0</th>\n",
       "      <td>Best Model</td>\n",
       "      <td>8.023095</td>\n",
       "      <td>0.435955</td>\n",
       "    </tr>\n",
       "    <tr>\n",
       "      <th>1</th>\n",
       "      <td>-Past Performance Features and DOW</td>\n",
       "      <td>9.233918</td>\n",
       "      <td>0.845086</td>\n",
       "    </tr>\n",
       "    <tr>\n",
       "      <th>2</th>\n",
       "      <td>-Past Performance Features</td>\n",
       "      <td>8.884213</td>\n",
       "      <td>0.760035</td>\n",
       "    </tr>\n",
       "    <tr>\n",
       "      <th>3</th>\n",
       "      <td>-Answer Features</td>\n",
       "      <td>8.286501</td>\n",
       "      <td>0.405762</td>\n",
       "    </tr>\n",
       "    <tr>\n",
       "      <th>4</th>\n",
       "      <td>-DOW</td>\n",
       "      <td>8.122112</td>\n",
       "      <td>0.377624</td>\n",
       "    </tr>\n",
       "    <tr>\n",
       "      <th>5</th>\n",
       "      <td>-Clue Features</td>\n",
       "      <td>8.083873</td>\n",
       "      <td>0.441940</td>\n",
       "    </tr>\n",
       "    <tr>\n",
       "      <th>6</th>\n",
       "      <td>-Circadian Features</td>\n",
       "      <td>8.056953</td>\n",
       "      <td>0.377275</td>\n",
       "    </tr>\n",
       "    <tr>\n",
       "      <th>7</th>\n",
       "      <td>-SOS Adjustment</td>\n",
       "      <td>8.019882</td>\n",
       "      <td>0.306973</td>\n",
       "    </tr>\n",
       "    <tr>\n",
       "      <th>8</th>\n",
       "      <td>-Grid Features</td>\n",
       "      <td>7.983047</td>\n",
       "      <td>0.511996</td>\n",
       "    </tr>\n",
       "  </tbody>\n",
       "</table>\n",
       "</div>"
      ],
      "text/plain": [
       "                      Model Inclusion  Training Error  Training SD\n",
       "0                          Best Model        8.023095     0.435955\n",
       "1  -Past Performance Features and DOW        9.233918     0.845086\n",
       "2          -Past Performance Features        8.884213     0.760035\n",
       "3                    -Answer Features        8.286501     0.405762\n",
       "4                                -DOW        8.122112     0.377624\n",
       "5                      -Clue Features        8.083873     0.441940\n",
       "6                 -Circadian Features        8.056953     0.377275\n",
       "7                     -SOS Adjustment        8.019882     0.306973\n",
       "8                      -Grid Features        7.983047     0.511996"
      ]
     },
     "execution_count": 12,
     "metadata": {},
     "output_type": "execute_result"
    }
   ],
   "source": [
    "#Feature subtraction modeling by feature class DF creation (raw data above)\n",
    "data = [[\"Best Model\", 8.02309533080152, 0.4359553959442986], [\"-Past Performance Features and DOW\",9.233917707165777, 0.8450857002076172], [\"-Past Performance Features\", 8.884212696375034, 0.7600348458859222], [\"-Answer Features\", 8.286500820819706, 0.4057619070609773], [\"-DOW\", 8.122112156132893, 0.37762417891115185], [\"-Clue Features\", 8.08387269949158, 0.4419400082031415], [\"-Circadian Features\", 8.056952953013209, 0.37727502334537644], [\"-SOS Adjustment\", 8.019882073111452, 0.30697277968957937], [\"-Grid Features\", 7.983046740676125, 0.5119959170113279]]\n",
    "df = pd.DataFrame(data, columns=[\"Model Inclusion\", \"Training Error\", \"Training SD\"])\n",
    "df"
   ]
  },
  {
   "cell_type": "code",
   "execution_count": 13,
   "id": "cf7c280f",
   "metadata": {},
   "outputs": [
    {
     "data": {
      "text/plain": [
       "(8.02309533080152, 8.286500820819706)"
      ]
     },
     "execution_count": 13,
     "metadata": {},
     "output_type": "execute_result"
    }
   ],
   "source": [
    "data[0][1], data[3][1]"
   ]
  },
  {
   "cell_type": "code",
   "execution_count": 19,
   "id": "9e5fecae",
   "metadata": {},
   "outputs": [
    {
     "data": {
      "image/png": "[encoded data removed]",
      "text/plain": [
       "<Figure size 1800x720 with 1 Axes>"
      ]
     },
     "metadata": {
      "needs_background": "light"
     },
     "output_type": "display_data"
    }
   ],
   "source": [
    "#subtraction modeling bar plot - all classes (Fig. 9)\n",
    "plt.figure(figsize=(25, 10))\n",
    "g = sns.barplot(x=\"Model Inclusion\",y=\"Training Error\",data=df, palette = [\"gray\",\"cornflowerblue\", \"navy\", \"darkgreen\", \"lime\", \"green\", \"yellow\", \"red\", \"mediumseagreen\"], yerr=df[\"Training SD\"]*1)\n",
    "g.set_ylabel(\"training_error (mean +- sd)\")\n",
    "#g.set(xticklabels=[\"\", \"\"])\n",
    "g.set_xlabel(\"Model_Error\")\n",
    "g.set_ylim(6,11);\n",
    "\n",
    "# Define some hatches\n",
    "hatches = ['', '', '', '', '', '', '','\\\\','']\n",
    "\n",
    "# Loop over the bars\n",
    "for i,thisbar in enumerate(g.patches):\n",
    "    # Set a different hatch for each bar\n",
    "    thisbar.set_hatch(hatches[i])"
   ]
  },
  {
   "cell_type": "code",
   "execution_count": 20,
   "id": "c3fa4f3f",
   "metadata": {},
   "outputs": [
    {
     "name": "stdout",
     "output_type": "stream",
     "text": [
      "13.112769842259105\n",
      "9.692669401362606\n",
      "3.178730029886492\n",
      "1.2191019211253746\n",
      "0.7518348067737871\n",
      "0.42022862003962885\n",
      "-0.04006614636941359\n",
      "-0.5016704953177125\n"
     ]
    }
   ],
   "source": [
    "# Percentage Change From Best Model\n",
    "PPF_DOW_diff = ((data[1][1]- data[0][1])/(abs(data[1][1])))*100 \n",
    "print(PPF_DOW_diff)\n",
    "\n",
    "PPF_diff = ((data[2][1] - data[0][1])/(abs(data[2][1])))*100 \n",
    "print(PPF_diff)\n",
    "\n",
    "ANS_diff = ((data[3][1] - data[0][1])/(abs(data[3][1])))*100 \n",
    "print(ANS_diff)\n",
    "\n",
    "PDOW_diff = ((data[4][1] - data[0][1])/(abs(data[4][1])))*100 \n",
    "print(PDOW_diff)\n",
    "\n",
    "CLU_diff = ((data[5][1] - data[0][1])/(abs(data[5][1])))*100 \n",
    "print(CLU_diff)\n",
    "\n",
    "CIRC_diff = ((data[6][1] - data[0][1])/(abs(data[6][1])))*100 \n",
    "print(CIRC_diff)\n",
    "\n",
    "SOS_adj_diff = ((data[7][1] - data[0][1])/(abs(data[7][1])))*100 \n",
    "print(SOS_adj_diff)\n",
    "\n",
    "GRD_diff = ((data[8][1] - data[0][1])/(abs(data[8][1])))*100 \n",
    "print(GRD_diff)"
   ]
  },
  {
   "cell_type": "markdown",
   "id": "542705ab",
   "metadata": {},
   "source": [
    "### Figure 9. Effect on Model Prediction Quality of Removing Key Individual Features\n",
    "Data imported from 03_IS2_Preprocessing_Training, 04_IS2_Modeling, 04b_IS2_Modeling-FeatureSubtraction"
   ]
  },
  {
   "cell_type": "markdown",
   "id": "cb59f7ab",
   "metadata": {},
   "source": [
    "#### Past Performance Features\n",
    "Left panel in Figure 9"
   ]
  },
  {
   "cell_type": "code",
   "execution_count": null,
   "id": "d11ec341",
   "metadata": {},
   "outputs": [],
   "source": [
    "# Past Performance Features\n",
    "# #Below Best Model these are ranked by most increase in training error with the named feature subtracted out\n",
    "\n",
    "# Best Full Model\n",
    "(8.02309533080152, 0.4359553959442986), 12.282071506546062\n",
    "\n",
    "# No Past Performance features\n",
    "(8.884212696375034, 0.7600348458859222), 12.780835598558786\n",
    "\n",
    "# No number past solves features\n",
    "(8.263834447331917, 0.3882989541470267), 12.879370394694366\n",
    "\n",
    "# No RPB Standard Deviation\n",
    "(8.089212768996589, 0.5343270326540552)\n",
    "\n",
    "# No Past Performance vs Constructor\n",
    "(8.081220551480577, 0.47128523157126945), 12.653421541785713\n",
    "\n",
    "# No RPB\n",
    "(8.066457608061555, 0.31466316490707946), 12.457114464520227\n",
    "\n",
    "\n",
    "\n",
    "# No overall past solves features (DS nor NDS)\n",
    "(8.270141095313722, 0.45809377829387815), 12.954907418116195\n",
    "\n",
    "#No Past Solves Last 7 Days #\n",
    "(8.114241212508672, 0.48826126334784276), 12.622825975079147"
   ]
  },
  {
   "cell_type": "code",
   "execution_count": 24,
   "id": "3b498246",
   "metadata": {},
   "outputs": [
    {
     "data": {
      "text/html": [
       "<div>\n",
       "<style scoped>\n",
       "    .dataframe tbody tr th:only-of-type {\n",
       "        vertical-align: middle;\n",
       "    }\n",
       "\n",
       "    .dataframe tbody tr th {\n",
       "        vertical-align: top;\n",
       "    }\n",
       "\n",
       "    .dataframe thead th {\n",
       "        text-align: right;\n",
       "    }\n",
       "</style>\n",
       "<table border=\"1\" class=\"dataframe\">\n",
       "  <thead>\n",
       "    <tr style=\"text-align: right;\">\n",
       "      <th></th>\n",
       "      <th>Model Inclusion</th>\n",
       "      <th>Training Error</th>\n",
       "      <th>Training SD</th>\n",
       "    </tr>\n",
       "  </thead>\n",
       "  <tbody>\n",
       "    <tr>\n",
       "      <th>0</th>\n",
       "      <td>Best Model</td>\n",
       "      <td>8.023095</td>\n",
       "      <td>0.435955</td>\n",
       "    </tr>\n",
       "    <tr>\n",
       "      <th>1</th>\n",
       "      <td>-Past Performance Features</td>\n",
       "      <td>8.884213</td>\n",
       "      <td>0.760035</td>\n",
       "    </tr>\n",
       "    <tr>\n",
       "      <th>2</th>\n",
       "      <td>-Number of Past Solves</td>\n",
       "      <td>8.263834</td>\n",
       "      <td>0.388299</td>\n",
       "    </tr>\n",
       "    <tr>\n",
       "      <th>3</th>\n",
       "      <td>-RPB STD</td>\n",
       "      <td>8.089213</td>\n",
       "      <td>0.534327</td>\n",
       "    </tr>\n",
       "    <tr>\n",
       "      <th>4</th>\n",
       "      <td>-vs Constructor</td>\n",
       "      <td>8.081221</td>\n",
       "      <td>0.471285</td>\n",
       "    </tr>\n",
       "    <tr>\n",
       "      <th>5</th>\n",
       "      <td>-RPB</td>\n",
       "      <td>8.066458</td>\n",
       "      <td>0.314663</td>\n",
       "    </tr>\n",
       "  </tbody>\n",
       "</table>\n",
       "</div>"
      ],
      "text/plain": [
       "              Model Inclusion  Training Error  Training SD\n",
       "0                  Best Model        8.023095     0.435955\n",
       "1  -Past Performance Features        8.884213     0.760035\n",
       "2      -Number of Past Solves        8.263834     0.388299\n",
       "3                    -RPB STD        8.089213     0.534327\n",
       "4             -vs Constructor        8.081221     0.471285\n",
       "5                        -RPB        8.066458     0.314663"
      ]
     },
     "execution_count": 24,
     "metadata": {},
     "output_type": "execute_result"
    }
   ],
   "source": [
    "#feature subtraction modeling -past performance features only\n",
    "data = [[\"Best Model\", 8.02309533080152, 0.4359553959442986], [\"-Past Performance Features\", 8.884212696375034, 0.7600348458859222], [\"-Number of Past Solves\", 8.263834447331917, 0.3882989541470267], [\"-RPB STD\", 8.089212768996589, 0.5343270326540552], [\"-vs Constructor\", 8.081220551480577, 0.47128523157126945], [\"-RPB\", 8.066457608061555, 0.31466316490707946]]\n",
    "df = pd.DataFrame(data, columns=[\"Model Inclusion\", \"Training Error\", \"Training SD\"])\n",
    "df"
   ]
  },
  {
   "cell_type": "code",
   "execution_count": 26,
   "id": "da51e0d5",
   "metadata": {},
   "outputs": [
    {
     "data": {
      "image/png": "[encoded data removed]",
      "text/plain": [
       "<Figure size 1440x720 with 1 Axes>"
      ]
     },
     "metadata": {
      "needs_background": "light"
     },
     "output_type": "display_data"
    }
   ],
   "source": [
    "#subtraction modeling bar plot - past performance features (Fig. 9 left panel)\n",
    "plt.figure(figsize=(20, 10))\n",
    "g = sns.barplot(x=\"Model Inclusion\",y=\"Training Error\",data=df, palette = [\"gray\",\"navy\", \"royalblue\", \"steelblue\", \"mediumblue\", \"blue\"], yerr=df[\"Training SD\"]*1)\n",
    "g.set_ylabel(\"training_error (mean +- sd)\")\n",
    "#g.set(xticklabels=[\"\", \"\"])\n",
    "g.set_xlabel(\"Model_Error\")\n",
    "g.set_ylim(6,11);\n",
    "\n",
    "# # Define some hatches\n",
    "# hatches = ['', '', '', '', '', '']\n",
    "\n",
    "# # Loop over the bars\n",
    "# for i,thisbar in enumerate(g.patches):\n",
    "#     # Set a different hatch for each bar\n",
    "#     thisbar.set_hatch(hatches[i])"
   ]
  },
  {
   "cell_type": "code",
   "execution_count": 27,
   "id": "741fb354",
   "metadata": {},
   "outputs": [
    {
     "name": "stdout",
     "output_type": "stream",
     "text": [
      "9.692669401362606\n",
      "2.913164803393696\n",
      "0.8173531848300138\n",
      "0.7192628923907842\n",
      "0.5375628233228372\n"
     ]
    }
   ],
   "source": [
    "# Percentage Change From Best Model\n",
    "PPF_diff = ((data[1][1] - data[0][1])/(abs(data[1][1])))*100 \n",
    "print(PPF_diff)\n",
    "\n",
    "PS_diff = ((data[2][1] - data[0][1])/(abs(data[2][1])))*100 \n",
    "print(PS_diff)\n",
    "\n",
    "RPBSTD_diff = ((data[3][1] - data[0][1])/(abs(data[3][1])))*100 \n",
    "print(RPBSTD_diff)\n",
    "\n",
    "Const_diff = ((data[4][1] - data[0][1])/(abs(data[4][1])))*100 \n",
    "print(Const_diff)\n",
    "\n",
    "RPB_diff = ((data[5][1] - data[0][1])/(abs(data[5][1])))*100 \n",
    "print(RPB_diff)"
   ]
  },
  {
   "cell_type": "markdown",
   "id": "06befb62",
   "metadata": {},
   "source": [
    "Subtractions of Other Individual Features (Non-Past Performance)\n",
    "Right panel in Fig. 9"
   ]
  },
  {
   "cell_type": "code",
   "execution_count": null,
   "id": "27443f29",
   "metadata": {},
   "outputs": [],
   "source": [
    "#Below Best Model these are ranked by most increase in training error with the named feature subtracted out\n",
    "# Non-Past Performance Features\n",
    "\n",
    "# Best Full Model\n",
    "(8.02309533080152, 0.4359553959442986), 12.282071506546062\n",
    "\n",
    "# Scrabble Illegal\n",
    "(8.135920198134386, 0.44269986351276264), 12.577718319432126\n",
    "\n",
    "# No DOW\n",
    "(8.122112156132893, 0.37762417891115185), 12.53938456266004\n",
    "\n",
    "# No Freshness Factor features\n",
    "(8.121464000327464, 0.5023115609524913), 12.562846044862987\n",
    "\n",
    "# Answer #\n",
    "(8.09428420463336, 0.43505174471488833), 12.609614044341308\n",
    "\n",
    "# Scrabble Score\n",
    "(8.091058899506866, 0.4544857559687726), 12.474459092606114\n",
    "\n",
    "# Open Squares\n",
    "(8.060492521795334, 0.4199212141869701), 12.309537902066678\n",
    "\n",
    "# Black Squares\n",
    "(8.060406075505973, 0.4801477262226491), 12.523890283559613\n",
    "\n",
    "# Completion Hour\n",
    "(8.048730067765552, 0.4347547551403888), 12.446437179838618\n",
    "\n",
    "# No. Unique Answers\n",
    "(8.042156068580457, 0.3863670679695981), 12.567244877567882\n",
    "\n",
    "# Average Answer Length\n",
    "(8.036126132733163, 0.4303062828625849), 12.493146627481918\n",
    "\n",
    "# Wordplay \n",
    "(8.024488026909399, 0.3925587423082896), 12.537329958575462 \n",
    "\n",
    "# Scrabble Average\n",
    "\n",
    "\n",
    "\n",
    "\n",
    "# Rebus Count/Rebus Unique\n",
    "\n",
    "# Shade Count\n",
    "\n",
    "# Stacks\n",
    "\n",
    "\n",
    "# Black Square Fill\n",
    "\n",
    "# Unusual Symmetry\n",
    "\n",
    "# Unused Letters\n",
    "\n",
    "# Circle Count\n",
    "\n",
    "# Cross Ref Clues Count\n",
    "\n",
    "# FITB\n",
    "\n",
    "# Cheater Squares\n",
    "\n",
    "\n"
   ]
  },
  {
   "cell_type": "code",
   "execution_count": 32,
   "id": "14479bb1",
   "metadata": {},
   "outputs": [
    {
     "data": {
      "text/html": [
       "<div>\n",
       "<style scoped>\n",
       "    .dataframe tbody tr th:only-of-type {\n",
       "        vertical-align: middle;\n",
       "    }\n",
       "\n",
       "    .dataframe tbody tr th {\n",
       "        vertical-align: top;\n",
       "    }\n",
       "\n",
       "    .dataframe thead th {\n",
       "        text-align: right;\n",
       "    }\n",
       "</style>\n",
       "<table border=\"1\" class=\"dataframe\">\n",
       "  <thead>\n",
       "    <tr style=\"text-align: right;\">\n",
       "      <th></th>\n",
       "      <th>Model Inclusion</th>\n",
       "      <th>Training Error</th>\n",
       "      <th>Training SD</th>\n",
       "    </tr>\n",
       "  </thead>\n",
       "  <tbody>\n",
       "    <tr>\n",
       "      <th>0</th>\n",
       "      <td>Best Model</td>\n",
       "      <td>8.023095</td>\n",
       "      <td>0.435955</td>\n",
       "    </tr>\n",
       "    <tr>\n",
       "      <th>1</th>\n",
       "      <td>-Scrabble Illegal</td>\n",
       "      <td>8.135920</td>\n",
       "      <td>0.442700</td>\n",
       "    </tr>\n",
       "    <tr>\n",
       "      <th>2</th>\n",
       "      <td>-DOW</td>\n",
       "      <td>8.122112</td>\n",
       "      <td>0.377624</td>\n",
       "    </tr>\n",
       "    <tr>\n",
       "      <th>3</th>\n",
       "      <td>-FF</td>\n",
       "      <td>8.121464</td>\n",
       "      <td>0.502312</td>\n",
       "    </tr>\n",
       "    <tr>\n",
       "      <th>4</th>\n",
       "      <td>-Answer Number</td>\n",
       "      <td>8.094284</td>\n",
       "      <td>0.435052</td>\n",
       "    </tr>\n",
       "    <tr>\n",
       "      <th>5</th>\n",
       "      <td>-Scrabble Score</td>\n",
       "      <td>8.091059</td>\n",
       "      <td>0.454486</td>\n",
       "    </tr>\n",
       "    <tr>\n",
       "      <th>6</th>\n",
       "      <td>-Open Squares</td>\n",
       "      <td>8.060493</td>\n",
       "      <td>0.419921</td>\n",
       "    </tr>\n",
       "  </tbody>\n",
       "</table>\n",
       "</div>"
      ],
      "text/plain": [
       "     Model Inclusion  Training Error  Training SD\n",
       "0         Best Model        8.023095     0.435955\n",
       "1  -Scrabble Illegal        8.135920     0.442700\n",
       "2               -DOW        8.122112     0.377624\n",
       "3                -FF        8.121464     0.502312\n",
       "4     -Answer Number        8.094284     0.435052\n",
       "5    -Scrabble Score        8.091059     0.454486\n",
       "6      -Open Squares        8.060493     0.419921"
      ]
     },
     "execution_count": 32,
     "metadata": {},
     "output_type": "execute_result"
    }
   ],
   "source": [
    "#feature subtraction modeling -other features of interest\n",
    "data = [[\"Best Model\", 8.02309533080152, 0.4359553959442986], [\"-Scrabble Illegal\", 8.135920198134386, 0.44269986351276264], [\"-DOW\", 8.122112156132893, 0.37762417891115185], [\"-FF\", 8.121464000327464, 0.5023115609524913], [\"-Answer Number\", 8.09428420463336, 0.43505174471488833],[\"-Scrabble Score\", 8.091058899506866, 0.4544857559687726], [\"-Open Squares\", 8.060492521795334, 0.4199212141869701]]\n",
    "df = pd.DataFrame(data, columns=[\"Model Inclusion\", \"Training Error\", \"Training SD\"])\n",
    "df"
   ]
  },
  {
   "cell_type": "code",
   "execution_count": 34,
   "id": "1e63a5e4",
   "metadata": {},
   "outputs": [
    {
     "name": "stdout",
     "output_type": "stream",
     "text": [
      "1.3867499260715226\n",
      "1.2191019211253746\n",
      "1.2112184394584324\n",
      "0.8794956049491052\n",
      "0.8399836109151156\n",
      "0.4622039149423838\n"
     ]
    }
   ],
   "source": [
    "# Percentage Change From Best Model\n",
    "SI_diff = ((data[1][1] - data[0][1])/(abs(data[1][1])))*100 #minus scrabble illegal\n",
    "print(SI_diff)\n",
    "\n",
    "DOW_diff = ((data[2][1] - data[0][1])/(abs(data[2][1])))*100 # minus puzzle day of week\n",
    "print(DOW_diff)\n",
    "\n",
    "FF_diff = ((data[3][1] - data[0][1])/(abs(data[3][1])))*100 # minus freshness factor features\n",
    "print(FF_diff)\n",
    "\n",
    "AN_diff = ((data[4][1] - data[0][1])/(abs(data[4][1])))*100 # minus answer number\n",
    "print(AN_diff)\n",
    "\n",
    "SS_diff = ((data[5][1] - data[0][1])/(abs(data[5][1])))*100 # minus scrabble score\n",
    "print(SS_diff)\n",
    "\n",
    "OS_diff = ((data[6][1] - data[0][1])/(abs(data[5][1])))*100 # minus open squares\n",
    "print(OS_diff)"
   ]
  },
  {
   "cell_type": "code",
   "execution_count": 35,
   "id": "37547f49",
   "metadata": {},
   "outputs": [
    {
     "data": {
      "image/png": "[encoded data removed]",
      "text/plain": [
       "<Figure size 1440x720 with 1 Axes>"
      ]
     },
     "metadata": {
      "needs_background": "light"
     },
     "output_type": "display_data"
    }
   ],
   "source": [
    "#subtraction modeling bar plot - other features of note (Fig. 9 right panel)\n",
    "plt.figure(figsize=(20, 10))\n",
    "g = sns.barplot(x=\"Model Inclusion\",y=\"Training Error\",data=df, palette = [\"gray\",\"seagreen\", \"lime\",\"darkgreen\", \"forestgreen\",\"darkolivegreen\",\"mediumaquamarine\"], yerr=df[\"Training SD\"]*1)\n",
    "g.set_ylabel(\"training_error (mean +- sd)\")\n",
    "#g.set(xticklabels=[\"\", \"\"])\n",
    "g.set_xlabel(\"Model_Error\")\n",
    "g.set_ylim(6,11);\n",
    "\n",
    "# # Define some hatches\n",
    "# hatches = ['', '', '', '', '', '']\n",
    "\n",
    "# # Loop over the bars\n",
    "# for i,thisbar in enumerate(g.patches):\n",
    "#     # Set a different hatch for each bar\n",
    "#     thisbar.set_hatch(hatches[i])"
   ]
  },
  {
   "cell_type": "markdown",
   "id": "2f1af104",
   "metadata": {},
   "source": [
    "### Figure 10. Best Puzzle Day-Specific Model (BPDM) Prediction Quality\n",
    "Data imported from 03_IS2_Preprocessing_Training-ByPuzzleDay, 04_IS2_Modeling, 04b_IS2_Modeling-ByPuzzleDay\n",
    "\n",
    "Note: Best model per day was derived using an 90/10 split for the best overall model (Linear Regressor)"
   ]
  },
  {
   "cell_type": "markdown",
   "id": "4512b442",
   "metadata": {},
   "source": [
    "90/10 Split Ns per puzzle day\n",
    "Ns:\n",
    "Sunday: 152 (136/16)\n",
    "Monday: 150 (135/15)\n",
    "Tuesday: 151 (135/16)\n",
    "Wednesday: 152 (136/16)\n",
    "Thursday: 171 (153/18)\n",
    "Friday: 174 (156/18)\n",
    "Saturday: 158 (142/16)"
   ]
  },
  {
   "cell_type": "code",
   "execution_count": 42,
   "id": "a4850c10",
   "metadata": {},
   "outputs": [],
   "source": [
    "#Reorganizing training mean and sd to use Matplotlib because of Seaborn limitations with using pre-computed error bars per condition (very annoying that they can't address this)\n",
    "#see https://stackoverflow.com/questions/23144784/plotting-error-bars-on-grouped-bars-in-pandas\n",
    "\n",
    "df = pd.DataFrame([[\"Sunday\",10.388564597141203,13.132459634783121,1.5752622061412165,0], [\"Monday\",1.698881299499056,2.1180618518424934,0.496483455666594,0], [\"Tuesday\",2.465919858014879,2.8021602701390584,0.531412674094749,0], [\"Wednesday\",5.09323191407316,5.816462891528779,0.33194239332763026,0], [\"Thursday\",8.18072241386371,9.429001344336433,1.3595506053116089,0], [\"Friday\",11.208440754280826,12.169085025500493,1.615101442801405,0], [\"Saturday\",16.474926117484802,18.561092567863906,1.6874316984752815,0]], columns = [\"DOW\", \"mean_1\", \"mean_2\", \"std_1\", \"std_2\"])\n",
    "\n",
    "#convert std columns to array for plotting\n",
    "yerr = df[[\"std_1\", \"std_2\"]].to_numpy().T"
   ]
  },
  {
   "cell_type": "code",
   "execution_count": 43,
   "id": "0f778a0e",
   "metadata": {},
   "outputs": [
    {
     "data": {
      "text/plain": [
       "10.388564597141203"
      ]
     },
     "execution_count": 43,
     "metadata": {},
     "output_type": "execute_result"
    }
   ],
   "source": [
    "df['mean_1'][0]"
   ]
  },
  {
   "cell_type": "code",
   "execution_count": 44,
   "id": "58744b3b",
   "metadata": {},
   "outputs": [],
   "source": [
    "# Also need mean training set IS2 STs per puzzle day so we can percentigize the error to normalize across puzzle days for comparison\n",
    "Sun_training_mean = 37.09607843137255\n",
    "Mon_training_mean = 6.52111111111111\n",
    "Tue_training_mean= 8.942098765432101\n",
    "Wed_training_mean= 13.387990196078427\n",
    "Thu_training_mean= 22.57145969498911\n",
    "Fri_training_mean= 23.685790598290595 \n",
    "Sat_training_mean= 34.256220657277005"
   ]
  },
  {
   "cell_type": "code",
   "execution_count": 45,
   "id": "dfd82865",
   "metadata": {
    "scrolled": true
   },
   "outputs": [
    {
     "name": "stdout",
     "output_type": "stream",
     "text": [
      "28.00448197337076\n",
      "26.052021972212486\n",
      "27.57652227626364\n",
      "38.04328984021108\n",
      "36.24365692077877\n",
      "47.321370624165446\n",
      "48.09323912965004\n"
     ]
    }
   ],
   "source": [
    "# Normalize each puzzle day by the training set mean \n",
    "# Full Model - Mean\n",
    "\n",
    "Sun_error_pct = ((df['mean_1'][0])/(Sun_training_mean))*100 \n",
    "print(Sun_error_pct)\n",
    "\n",
    "Mon_error_pct = ((df['mean_1'][1])/(Mon_training_mean))*100 \n",
    "print(Mon_error_pct)\n",
    "\n",
    "Tue_error_pct = ((df['mean_1'][2])/(Tue_training_mean))*100 \n",
    "print(Tue_error_pct)\n",
    "\n",
    "Wed_error_pct = ((df['mean_1'][3])/(Wed_training_mean))*100 \n",
    "print(Wed_error_pct)\n",
    "\n",
    "Thu_error_pct = ((df['mean_1'][4])/(Thu_training_mean))*100 \n",
    "print(Thu_error_pct)\n",
    "\n",
    "Fri_error_pct = ((df['mean_1'][5])/(Fri_training_mean))*100 \n",
    "print(Fri_error_pct)\n",
    "\n",
    "Sat_error_pct = ((df['mean_1'][6])/(Sat_training_mean))*100 \n",
    "print(Sat_error_pct)"
   ]
  },
  {
   "cell_type": "code",
   "execution_count": 46,
   "id": "7634fe13",
   "metadata": {},
   "outputs": [
    {
     "name": "stdout",
     "output_type": "stream",
     "text": [
      "4.246438633817963\n",
      "7.613479470096007\n",
      "5.9428182134272145\n",
      "2.479404215763931\n",
      "6.023317161067038\n",
      "6.818862288337408\n",
      "4.925913209625541\n"
     ]
    }
   ],
   "source": [
    "# Normalize each puzzle day subtraction by the training set mean without that day\n",
    "# Full Model - stdev\n",
    "\n",
    "Sun_error_pct = ((df['std_1'][0])/(Sun_training_mean))*100 \n",
    "print(Sun_error_pct)\n",
    "\n",
    "Mon_error_pct = ((df['std_1'][1])/(Mon_training_mean))*100 \n",
    "print(Mon_error_pct)\n",
    "\n",
    "Tue_error_pct = ((df['std_1'][2])/(Tue_training_mean))*100 \n",
    "print(Tue_error_pct)\n",
    "\n",
    "Wed_error_pct = ((df['std_1'][3])/(Wed_training_mean))*100 \n",
    "print(Wed_error_pct)\n",
    "\n",
    "Thu_error_pct = ((df['std_1'][4])/(Thu_training_mean))*100 \n",
    "print(Thu_error_pct)\n",
    "\n",
    "Fri_error_pct = ((df['std_1'][5])/(Fri_training_mean))*100 \n",
    "print(Fri_error_pct)\n",
    "\n",
    "Sat_error_pct = ((df['std_1'][6])/(Sat_training_mean))*100 \n",
    "print(Sat_error_pct)"
   ]
  },
  {
   "cell_type": "code",
   "execution_count": 47,
   "id": "8822afeb",
   "metadata": {},
   "outputs": [
    {
     "name": "stdout",
     "output_type": "stream",
     "text": [
      "35.40120732459111\n",
      "32.48007610595066\n",
      "31.336717963477472\n",
      "43.44537758350407\n",
      "41.77399898700252\n",
      "51.377153635643204\n",
      "54.183129988453636\n"
     ]
    }
   ],
   "source": [
    "# Normalize each puzzle day subtraction by the training set mean without that day\n",
    "# Dummy Model - Mean\n",
    "Sun_error_pct = ((df['mean_2'][0])/(Sun_training_mean))*100 \n",
    "print(Sun_error_pct)\n",
    "\n",
    "Mon_error_pct = ((df['mean_2'][1])/(Mon_training_mean))*100 \n",
    "print(Mon_error_pct)\n",
    "\n",
    "Tue_error_pct = ((df['mean_2'][2])/(Tue_training_mean))*100 \n",
    "print(Tue_error_pct)\n",
    "\n",
    "Wed_error_pct = ((df['mean_2'][3])/(Wed_training_mean))*100 \n",
    "print(Wed_error_pct)\n",
    "\n",
    "Thu_error_pct = ((df['mean_2'][4])/(Thu_training_mean))*100 \n",
    "print(Thu_error_pct)\n",
    "\n",
    "Fri_error_pct = ((df['mean_2'][5])/(Fri_training_mean))*100 \n",
    "print(Fri_error_pct)\n",
    "\n",
    "Sat_error_pct = ((df['mean_2'][6])/(Sat_training_mean))*100 \n",
    "print(Sat_error_pct)"
   ]
  },
  {
   "cell_type": "code",
   "execution_count": 49,
   "id": "b3fa5c46",
   "metadata": {},
   "outputs": [],
   "source": [
    "#Reorganizing training mean and sd to use Matplotlib because of Seaborn limitations with using pre-computed error bars per condition (very annoying that they can't address this)\n",
    "#see https://stackoverflow.com/questions/23144784/plotting-error-bars-on-grouped-bars-in-pandas\n",
    "#Percentigized version (used this version in Github Summary)\n",
    "\n",
    "df = pd.DataFrame([[\"Sunday\",28.00448197337076,35.40120732459111,4.246438633817963,0], [\"Monday\",26.052021972212486,32.48007610595066,7.613479470096007,0], [\"Tuesday\",27.57652227626364,31.336717963477472,5.9428182134272145,0], [\"Wednesday\",38.04328984021108,43.44537758350407,2.479404215763931,0], [\"Thursday\",36.24365692077877,41.77399898700252,6.023317161067038,0], [\"Friday\",47.321370624165446,51.377153635643204,6.818862288337408,0], [\"Saturday\",48.09323912965004,54.183129988453636,4.925913209625541,0]], columns = [\"DOW\", \"mean_1\", \"mean_2\", \"std_1\", \"std_2\"])\n",
    "\n",
    "#convert std columns to array for plotting\n",
    "yerr = df[[\"std_1\", \"std_2\"]].to_numpy().T"
   ]
  },
  {
   "cell_type": "code",
   "execution_count": 51,
   "id": "6c8856c7",
   "metadata": {},
   "outputs": [
    {
     "data": {
      "image/png": "[encoded data removed]",
      "text/plain": [
       "<Figure size 432x288 with 1 Axes>"
      ]
     },
     "metadata": {
      "needs_background": "light"
     },
     "output_type": "display_data"
    }
   ],
   "source": [
    "#Plot mean training error as % of puzzle day mean solve time\n",
    "df[['mean_1', 'mean_2']].plot(kind='bar', yerr = yerr, stacked=False, color= [[\"red\", \"#FF7518\", \"#ffdf00\", \"g\", \"#1F51FF\", \"#5d76cb\", \"fuchsia\"],[\"gray\"]], error_kw=dict(ecolor='k'))\n",
    "plt.xlabel('Puzzle Day')\n",
    "plt.ylabel('training_error (% of mean +- sd)')\n",
    "plt.ylim(10,60)\n",
    "plt.legend(labels = [\"Best Puzzle Day Model\", \"Puzzle Day Dummy Model\"])\n",
    "x = [0, 1, 2, 3, 4, 5, 6]\n",
    "labels = [\"Sunday\", \"Monday\", \"Tuesday\", \"Wednesday\", \"Thursday\", \"Friday\", \"Saturday\"]\n",
    "plt.xticks(x, labels, rotation=\"horizontal\");"
   ]
  },
  {
   "cell_type": "code",
   "execution_count": null,
   "id": "3708a3ea",
   "metadata": {},
   "outputs": [],
   "source": []
  }
 ],
 "metadata": {
  "kernelspec": {
   "display_name": "Python 3",
   "language": "python",
   "name": "python3"
  },
  "language_info": {
   "codemirror_mode": {
    "name": "ipython",
    "version": 3
   },
   "file_extension": ".py",
   "mimetype": "text/x-python",
   "name": "python",
   "nbconvert_exporter": "python",
   "pygments_lexer": "ipython3",
   "version": "3.8.8"
  }
 },
 "nbformat": 4,
 "nbformat_minor": 5
}
